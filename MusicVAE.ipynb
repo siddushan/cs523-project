{
  "nbformat": 4,
  "nbformat_minor": 0,
  "metadata": {
    "colab": {
      "name": "MusicVAE.ipynb",
      "provenance": [],
      "collapsed_sections": [
        "hYaJ6dvF0v7g"
      ]
    },
    "kernelspec": {
      "name": "python3",
      "display_name": "Python 3"
    },
    "accelerator": "GPU"
  },
  "cells": [
    {
      "cell_type": "markdown",
      "metadata": {
        "id": "bhOAxQyU0rhs"
      },
      "source": [
        "Copyright 2017 Google LLC.\n",
        "\n",
        "Licensed under the Apache License, Version 2.0 (the \"License\");\n",
        "you may not use this file except in compliance with the License.\n",
        "You may obtain a copy of the License at\n",
        "\n",
        "https://www.apache.org/licenses/LICENSE-2.0\n",
        "\n",
        "Unless required by applicable law or agreed to in writing, software\n",
        "distributed under the License is distributed on an \"AS IS\" BASIS,\n",
        "WITHOUT WARRANTIES OR CONDITIONS OF ANY KIND, either express or implied.\n",
        "See the License for the specific language governing permissions and\n",
        "limitations under the License."
      ]
    },
    {
      "cell_type": "markdown",
      "metadata": {
        "id": "hYaJ6dvF0v7g"
      },
      "source": [
        "# MusicVAE: A Hierarchical Latent Vector Model for Learning Long-Term Structure in Music.\n",
        "### ___Adam Roberts, Jesse Engel, Colin Raffel, Curtis Hawthorne, and Douglas Eck___\n",
        "\n",
        "[MusicVAE](https://g.co/magenta/music-vae) learns a latent space of musical scores, providing different modes\n",
        "of interactive musical creation, including:\n",
        "\n",
        "* Random sampling from the prior distribution.\n",
        "* Interpolation between existing sequences.\n",
        "* Manipulation of existing sequences via attribute vectors.\n",
        "\n",
        "Examples of these interactions can be generated below, and selections can be heard in our\n",
        "[YouTube playlist](https://www.youtube.com/playlist?list=PLBUMAYA6kvGU8Cgqh709o5SUvo-zHGTxr).\n",
        "\n",
        "For short sequences (e.g., 2-bar \"loops\"), we use a bidirectional LSTM encoder\n",
        "and LSTM decoder. For longer sequences, we use a novel hierarchical LSTM\n",
        "decoder, which helps the model learn longer-term structures.\n",
        "\n",
        "We also model the interdependencies between instruments by training multiple\n",
        "decoders on the lowest-level embeddings of the hierarchical decoder.\n",
        "\n",
        "For additional details, check out our [blog post](https://g.co/magenta/music-vae) and [paper](https://goo.gl/magenta/musicvae-paper).\n",
        "___\n",
        "\n",
        "This colab notebook is self-contained and should run natively on google cloud. The [code](https://github.com/tensorflow/magenta/tree/master/magenta/models/music_vae) and [checkpoints](http://download.magenta.tensorflow.org/models/music_vae/checkpoints.tar.gz) can be downloaded separately and run locally, which is required if you want to train your own model."
      ]
    },
    {
      "cell_type": "markdown",
      "metadata": {
        "id": "R122bwRNbTus"
      },
      "source": [
        "# Basic Instructions\n",
        "\n",
        "1. Double click on the hidden cells to make them visible, or select \"View > Expand Sections\" in the menu at the top.\n",
        "2. Hover over the \"`[ ]`\" in the top-left corner of each cell and click on the \"Play\" button to run it, in order.\n",
        "3. Listen to the generated samples.\n",
        "4. Make it your own: copy the notebook, modify the code, train your own models, upload your own MIDI, etc.!"
      ]
    },
    {
      "cell_type": "code",
      "metadata": {
        "colab": {
          "base_uri": "https://localhost:8080/"
        },
        "id": "NO6agjESfekb",
        "outputId": "0a454b53-03f5-4b0a-c7b0-88499951e89d"
      },
      "source": [
        "from google.colab import drive\n",
        "drive.mount('/content/drive')\n",
        "%cd /content/drive/My Drive/Summer_21/dataset/\n",
        "%ls\n",
        "!nvidia-smi"
      ],
      "execution_count": 18,
      "outputs": [
        {
          "output_type": "stream",
          "text": [
            "Drive already mounted at /content/drive; to attempt to forcibly remount, call drive.mount(\"/content/drive\", force_remount=True).\n",
            "/content/drive/My Drive/Summer_21/dataset\n",
            "Sun Jun 27 12:01:31 2021       \n",
            "+-----------------------------------------------------------------------------+\n",
            "| NVIDIA-SMI 465.27       Driver Version: 460.32.03    CUDA Version: 11.2     |\n",
            "|-------------------------------+----------------------+----------------------+\n",
            "| GPU  Name        Persistence-M| Bus-Id        Disp.A | Volatile Uncorr. ECC |\n",
            "| Fan  Temp  Perf  Pwr:Usage/Cap|         Memory-Usage | GPU-Util  Compute M. |\n",
            "|                               |                      |               MIG M. |\n",
            "|===============================+======================+======================|\n",
            "|   0  Tesla T4            Off  | 00000000:00:04.0 Off |                    0 |\n",
            "| N/A   37C    P8     9W /  70W |      0MiB / 15109MiB |      0%      Default |\n",
            "|                               |                      |                  N/A |\n",
            "+-------------------------------+----------------------+----------------------+\n",
            "                                                                               \n",
            "+-----------------------------------------------------------------------------+\n",
            "| Processes:                                                                  |\n",
            "|  GPU   GI   CI        PID   Type   Process name                  GPU Memory |\n",
            "|        ID   ID                                                   Usage      |\n",
            "|=============================================================================|\n",
            "|  No running processes found                                                 |\n",
            "+-----------------------------------------------------------------------------+\n"
          ],
          "name": "stdout"
        }
      ]
    },
    {
      "cell_type": "code",
      "metadata": {
        "colab": {
          "base_uri": "https://localhost:8080/"
        },
        "id": "3gpxzb-GOVS9",
        "outputId": "07cafccb-7a40-4d4a-b884-be440ca408bf"
      },
      "source": [
        "ROOT_DIR = '/content/drive/My Drive/Summer_21/dataset/'\n",
        "\n",
        "groove = 'https://storage.googleapis.com/magentadata/datasets/groove/groove-v1.0.0-midionly.zip'\n",
        "maestron = 'https://storage.googleapis.com/magentadata/datasets/maestro/v3.0.0/maestro-v3.0.0-midi.zip'\n",
        "lakh = 'http://hog.ee.columbia.edu/craffel/lmd/lmd_matched_h5.tar.gz'\n",
        "urls = [groove, maestron, lakh]\n",
        "file_names = [\"groove\", \"maestron\", \"lakh\"]\n",
        "import progressbar\n",
        "import urllib.request\n",
        "pbar = None\n",
        "#https://stackoverflow.com/questions/41106599/python-3-5-urllib-request-urlopen-progress-bar-available\n",
        "def show_progress(block_num, block_size, total_size):\n",
        "    global pbar\n",
        "    if pbar is None:\n",
        "        pbar = progressbar.ProgressBar(maxval=total_size)\n",
        "        pbar.start()\n",
        "\n",
        "    downloaded = block_num * block_size\n",
        "    if downloaded < total_size:\n",
        "        pbar.update(downloaded)\n",
        "    else:\n",
        "        pbar.finish()\n",
        "        pbar = None\n",
        "\n",
        "for i in range(len(urls)): \n",
        "  print(\"\\nDownloading \" + file_names[i] + '\\n')\n",
        "  model_url = urls[i]\n",
        "  file_name = ROOT_DIR + file_names[i] + \"_midi\"\n",
        "  urllib.request.urlretrieve(model_url, file_name, show_progress)\n",
        "\n",
        "print(\"Done\")"
      ],
      "execution_count": 21,
      "outputs": [
        {
          "output_type": "stream",
          "text": [
            "100% (3260318 of 3260318) |##############| Elapsed Time: 0:00:00 Time:  0:00:00\n",
            " 10% (5922816 of 58416533) |#            | Elapsed Time: 0:00:00 ETA:  00:00:00"
          ],
          "name": "stderr"
        },
        {
          "output_type": "stream",
          "text": [
            "\n",
            "Downloading groove\n",
            "\n",
            "\n",
            "Downloading maestron\n",
            "\n"
          ],
          "name": "stdout"
        },
        {
          "output_type": "stream",
          "text": [
            "100% (58416533 of 58416533) |############| Elapsed Time: 0:00:00 Time:  0:00:00\n",
            "  0% (942080 of 6635217072) |            | Elapsed Time: 0:00:00 ETA:   0:11:46"
          ],
          "name": "stderr"
        },
        {
          "output_type": "stream",
          "text": [
            "\n",
            "Downloading lakh\n",
            "\n"
          ],
          "name": "stdout"
        },
        {
          "output_type": "stream",
          "text": [
            "100% (6635217072 of 6635217072) |########| Elapsed Time: 0:11:48 Time:  0:11:48\n"
          ],
          "name": "stderr"
        },
        {
          "output_type": "stream",
          "text": [
            "Done\n"
          ],
          "name": "stdout"
        }
      ]
    },
    {
      "cell_type": "code",
      "metadata": {
        "id": "Cmesr2sTPTTj"
      },
      "source": [
        "!unzip \"/content/drive/My Drive/Summer_21/dataset/groove_midi\" -d \"/content/drive/My Drive/Summer_21/dataset/groove_midi_files\""
      ],
      "execution_count": null,
      "outputs": []
    },
    {
      "cell_type": "code",
      "metadata": {
        "id": "CeJfXN56beZH"
      },
      "source": [
        "!unzip \"/content/drive/My Drive/Summer_21/dataset/maestron_midi\" -d \"/content/drive/My Drive/Summer_21/dataset/maestron_midi_files\""
      ],
      "execution_count": null,
      "outputs": []
    },
    {
      "cell_type": "code",
      "metadata": {
        "id": "LKJ5aj7obqQj"
      },
      "source": [
        "!tar -xzvf \"/content/drive/My Drive/Summer_21/dataset/lakh_midi\" -C \"/content/drive/My Drive/Summer_21/dataset/\"     "
      ],
      "execution_count": null,
      "outputs": []
    },
    {
      "cell_type": "markdown",
      "metadata": {
        "id": "ZLfb2a_12wcj"
      },
      "source": [
        "# Environment Setup\n",
        "Includes package installation for sequence synthesis. Will take a few minutes.\n"
      ]
    },
    {
      "cell_type": "code",
      "metadata": {
        "colab": {
          "base_uri": "https://localhost:8080/"
        },
        "id": "EarlUFUeMdGE",
        "outputId": "11b77c1d-9748-4c4a-a566-942e91e4b096"
      },
      "source": [
        "import glob\n",
        "\n",
        "# BASE_DIR = \"gs://download.magenta.tensorflow.org/models/music_vae/colab2\"\n",
        "\n",
        "print('Installing dependencies...')\n",
        "!apt-get update -qq && apt-get install -qq libfluidsynth1 fluid-soundfont-gm build-essential libasound2-dev libjack-dev\n",
        "!pip install -q pyfluidsynth #MIDI synthesizer\n",
        "!pip install -qU magenta\n",
        "\n",
        "# Hack to allow python to pick up the newly-installed fluidsynth lib.\n",
        "# This is only needed for the hosted Colab environment.\n",
        "import ctypes.util\n",
        "orig_ctypes_util_find_library = ctypes.util.find_library\n",
        "def proxy_find_library(lib):\n",
        "  if lib == 'fluidsynth':\n",
        "    return 'libfluidsynth.so.1'\n",
        "  else:\n",
        "    return orig_ctypes_util_find_library(lib)\n",
        "ctypes.util.find_library = proxy_find_library\n",
        "\n",
        "\n",
        "print('Importing libraries and defining some helper functions...')\n",
        "from google.colab import files\n",
        "import magenta.music as mm\n",
        "from magenta.models.music_vae import configs\n",
        "from magenta.models.music_vae.trained_model import TrainedModel\n",
        "import numpy as np\n",
        "import os\n",
        "import tensorflow.compat.v1 as tf\n",
        "\n",
        "tf.disable_v2_behavior()\n",
        "\n",
        "# Necessary until pyfluidsynth is updated (>1.2.5).\n",
        "import warnings\n",
        "warnings.filterwarnings(\"ignore\", category=DeprecationWarning)\n",
        "\n",
        "def play(note_sequence):\n",
        "  mm.play_sequence(note_sequence, synth=mm.fluidsynth)\n",
        "\n",
        "# def interpolate(model, start_seq, end_seq, num_steps, max_length=32,\n",
        "#                 assert_same_length=True, temperature=0.5,\n",
        "#                 individual_duration=4.0):\n",
        "#   \"\"\"Interpolates between a start and end sequence.\"\"\"\n",
        "#   note_sequences = model.interpolate(\n",
        "#       start_seq, end_seq,num_steps=num_steps, length=max_length,\n",
        "#       temperature=temperature,\n",
        "#       assert_same_length=assert_same_length)\n",
        "\n",
        "#   print('Start Seq Reconstruction')\n",
        "#   play(note_sequences[0])\n",
        "#   print('End Seq Reconstruction')\n",
        "#   play(note_sequences[-1])\n",
        "#   print('Mean Sequence')\n",
        "#   play(note_sequences[num_steps // 2])\n",
        "#   print('Start -> End Interpolation')\n",
        "#   interp_seq = mm.sequences_lib.concatenate_sequences(\n",
        "#       note_sequences, [individual_duration] * len(note_sequences))\n",
        "#   play(interp_seq)\n",
        "#   mm.plot_sequence(interp_seq)\n",
        "#   return interp_seq if num_steps > 3 else note_sequences[num_steps // 2]\n",
        "\n",
        "# def download(note_sequence, filename):\n",
        "#   mm.sequence_proto_to_midi_file(note_sequence, filename)\n",
        "#   files.download(filename)\n",
        "\n",
        "print('Done')"
      ],
      "execution_count": 35,
      "outputs": [
        {
          "output_type": "stream",
          "text": [
            "Installing dependencies...\n",
            "Selecting previously unselected package fluid-soundfont-gm.\n",
            "(Reading database ... 160772 files and directories currently installed.)\n",
            "Preparing to unpack .../fluid-soundfont-gm_3.1-5.1_all.deb ...\n",
            "Unpacking fluid-soundfont-gm (3.1-5.1) ...\n",
            "Selecting previously unselected package libfluidsynth1:amd64.\n",
            "Preparing to unpack .../libfluidsynth1_1.1.9-1_amd64.deb ...\n",
            "Unpacking libfluidsynth1:amd64 (1.1.9-1) ...\n",
            "Setting up fluid-soundfont-gm (3.1-5.1) ...\n",
            "Setting up libfluidsynth1:amd64 (1.1.9-1) ...\n",
            "Processing triggers for libc-bin (2.27-3ubuntu1.2) ...\n",
            "/sbin/ldconfig.real: /usr/local/lib/python3.7/dist-packages/ideep4py/lib/libmkldnn.so.0 is not a symbolic link\n",
            "\n",
            "\u001b[K     |████████████████████████████████| 1.4MB 19.6MB/s \n",
            "\u001b[K     |████████████████████████████████| 5.6MB 40.2MB/s \n",
            "\u001b[K     |████████████████████████████████| 2.3MB 32.8MB/s \n",
            "\u001b[K     |████████████████████████████████| 71kB 5.5MB/s \n",
            "\u001b[K     |████████████████████████████████| 204kB 8.6MB/s \n",
            "\u001b[K     |████████████████████████████████| 358kB 11.0MB/s \n",
            "\u001b[K     |████████████████████████████████| 3.6MB 38.4MB/s \n",
            "\u001b[K     |████████████████████████████████| 92kB 8.5MB/s \n",
            "\u001b[K     |████████████████████████████████| 256kB 39.9MB/s \n",
            "\u001b[K     |████████████████████████████████| 1.6MB 19.1MB/s \n",
            "\u001b[K     |████████████████████████████████| 1.5MB 35.1MB/s \n",
            "\u001b[K     |████████████████████████████████| 215kB 39.0MB/s \n",
            "\u001b[K     |████████████████████████████████| 20.2MB 150kB/s \n",
            "\u001b[K     |████████████████████████████████| 655kB 19.0MB/s \n",
            "\u001b[K     |████████████████████████████████| 686kB 17.5MB/s \n",
            "\u001b[K     |████████████████████████████████| 5.6MB 19.7MB/s \n",
            "\u001b[K     |████████████████████████████████| 194kB 38.2MB/s \n",
            "\u001b[K     |████████████████████████████████| 368kB 47.3MB/s \n",
            "\u001b[K     |████████████████████████████████| 81kB 5.2MB/s \n",
            "\u001b[K     |████████████████████████████████| 368kB 9.6MB/s \n",
            "\u001b[K     |████████████████████████████████| 256kB 33.0MB/s \n",
            "\u001b[?25h  Building wheel for pretty-midi (setup.py) ... \u001b[?25l\u001b[?25hdone\n",
            "  Building wheel for pygtrie (setup.py) ... \u001b[?25l\u001b[?25hdone\n",
            "  Building wheel for python-rtmidi (setup.py) ... \u001b[?25l\u001b[?25hdone\n",
            "  Building wheel for mir-eval (setup.py) ... \u001b[?25l\u001b[?25hdone\n",
            "  Building wheel for librosa (setup.py) ... \u001b[?25l\u001b[?25hdone\n",
            "  Building wheel for bz2file (setup.py) ... \u001b[?25l\u001b[?25hdone\n",
            "  Building wheel for pypng (setup.py) ... \u001b[?25l\u001b[?25hdone\n",
            "\u001b[31mERROR: kfac 0.2.3 has requirement tensorflow-probability==0.8, but you'll have tensorflow-probability 0.12.1 which is incompatible.\u001b[0m\n",
            "\u001b[31mERROR: tensor2tensor 1.15.7 has requirement tensorflow-probability==0.7.0, but you'll have tensorflow-probability 0.12.1 which is incompatible.\u001b[0m\n",
            "Importing libraries and defining some helper functions...\n"
          ],
          "name": "stdout"
        },
        {
          "output_type": "stream",
          "text": [
            "/usr/local/lib/python3.7/dist-packages/librosa/util/decorators.py:9: NumbaDeprecationWarning: An import was requested from a module that has moved location.\n",
            "Import requested from: 'numba.decorators', please update to use 'numba.core.decorators' or pin to Numba version 0.48.0. This alias will not be present in Numba version 0.50.0.\n",
            "  from numba.decorators import jit as optional_jit\n",
            "/usr/local/lib/python3.7/dist-packages/librosa/util/decorators.py:9: NumbaDeprecationWarning: An import was requested from a module that has moved location.\n",
            "Import of 'jit' requested from: 'numba.decorators', please update to use 'numba.core.decorators' or pin to Numba version 0.48.0. This alias will not be present in Numba version 0.50.0.\n",
            "  from numba.decorators import jit as optional_jit\n"
          ],
          "name": "stderr"
        },
        {
          "output_type": "stream",
          "text": [
            "WARNING:tensorflow:From /usr/local/lib/python3.7/dist-packages/tensorflow/python/compat/v2_compat.py:96: disable_resource_variables (from tensorflow.python.ops.variable_scope) is deprecated and will be removed in a future version.\n",
            "Instructions for updating:\n",
            "non-resource variables are not supported in the long term\n",
            "Done\n"
          ],
          "name": "stdout"
        }
      ]
    },
    {
      "cell_type": "code",
      "metadata": {
        "colab": {
          "base_uri": "https://localhost:8080/"
        },
        "id": "3KBURBOMfhIQ",
        "outputId": "e62460a7-0e0a-44c9-c0b1-68eccb78c47e"
      },
      "source": [
        "INPUT_DIRECTORY= \"/content/drive/My Drive/Summer_21/dataset/groove_midi_files\" #<folder containing MIDI and/or MusicXML files. can have child folders.>\n",
        "\n",
        "# TFRecord file that will contain NoteSequence protocol buffers.\n",
        "SEQUENCES_TFRECORD='/content/drive/My Drive/Summer_21/NoteSequence/groove_midi.tfrecord'\n",
        "from magenta.scripts import convert_dir_to_note_sequences\n",
        "\n",
        "!convert_dir_to_note_sequences \\\n",
        "--input_dir=/content/drive/My\\ Drive/Summer_21/dataset/groove_midi_files \\\n",
        "--output_file=SEQUENCES_TFRECORD \\\n",
        "--recursive \\\n",
        "--log=INFO\n",
        " "
      ],
      "execution_count": 54,
      "outputs": [
        {
          "output_type": "stream",
          "text": [
            "2021-06-27 13:09:25.861339: I tensorflow/stream_executor/platform/default/dso_loader.cc:53] Successfully opened dynamic library libcudart.so.11.0\n",
            "WARNING:tensorflow:From /usr/local/lib/python3.7/dist-packages/tensorflow_probability/python/internal/variadic_reduce.py:115: calling function (from tensorflow.python.eager.def_function) with experimental_compile is deprecated and will be removed in a future version.\n",
            "Instructions for updating:\n",
            "experimental_compile is deprecated, use jit_compile instead\n",
            "/usr/local/lib/python3.7/dist-packages/librosa/util/decorators.py:9: NumbaDeprecationWarning: An import was requested from a module that has moved location.\n",
            "Import requested from: 'numba.decorators', please update to use 'numba.core.decorators' or pin to Numba version 0.48.0. This alias will not be present in Numba version 0.50.0.\n",
            "  from numba.decorators import jit as optional_jit\n",
            "/usr/local/lib/python3.7/dist-packages/librosa/util/decorators.py:9: NumbaDeprecationWarning: An import was requested from a module that has moved location.\n",
            "Import of 'jit' requested from: 'numba.decorators', please update to use 'numba.core.decorators' or pin to Numba version 0.48.0. This alias will not be present in Numba version 0.50.0.\n",
            "  from numba.decorators import jit as optional_jit\n",
            "WARNING:tensorflow:From /usr/local/lib/python3.7/dist-packages/tensorflow/python/compat/v2_compat.py:96: disable_resource_variables (from tensorflow.python.ops.variable_scope) is deprecated and will be removed in a future version.\n",
            "Instructions for updating:\n",
            "non-resource variables are not supported in the long term\n",
            "INFO:tensorflow:Converting files in '/content/drive/My Drive/Summer_21/dataset/groove_midi_files/'.\n",
            "I0627 13:09:46.851193 140075429287808 convert_dir_to_note_sequences.py:83] Converting files in '/content/drive/My Drive/Summer_21/dataset/groove_midi_files/'.\n",
            "INFO:tensorflow:0 files converted.\n",
            "I0627 13:09:46.861300 140075429287808 convert_dir_to_note_sequences.py:89] 0 files converted.\n",
            "INFO:tensorflow:Converting files in '/content/drive/My Drive/Summer_21/dataset/groove_midi_files/groove'.\n",
            "I0627 13:09:46.862169 140075429287808 convert_dir_to_note_sequences.py:83] Converting files in '/content/drive/My Drive/Summer_21/dataset/groove_midi_files/groove'.\n",
            "WARNING:tensorflow:Unable to find a converter for file /content/drive/My Drive/Summer_21/dataset/groove_midi_files/groove/LICENSE\n",
            "W0627 13:09:46.878171 140075429287808 convert_dir_to_note_sequences.py:123] Unable to find a converter for file /content/drive/My Drive/Summer_21/dataset/groove_midi_files/groove/LICENSE\n",
            "WARNING:tensorflow:Unable to find a converter for file /content/drive/My Drive/Summer_21/dataset/groove_midi_files/groove/README\n",
            "W0627 13:09:46.878908 140075429287808 convert_dir_to_note_sequences.py:123] Unable to find a converter for file /content/drive/My Drive/Summer_21/dataset/groove_midi_files/groove/README\n",
            "WARNING:tensorflow:Unable to find a converter for file /content/drive/My Drive/Summer_21/dataset/groove_midi_files/groove/info.csv\n",
            "W0627 13:09:46.887487 140075429287808 convert_dir_to_note_sequences.py:123] Unable to find a converter for file /content/drive/My Drive/Summer_21/dataset/groove_midi_files/groove/info.csv\n",
            "WARNING:tensorflow:Unable to find a converter for file /content/drive/My Drive/Summer_21/dataset/groove_midi_files/groove/Icon\n",
            "W0627 13:09:46.888165 140075429287808 convert_dir_to_note_sequences.py:123] Unable to find a converter for file /content/drive/My Drive/Summer_21/dataset/groove_midi_files/groove/Icon\n",
            "INFO:tensorflow:Converting files in '/content/drive/My Drive/Summer_21/dataset/groove_midi_files/groove/drummer8'.\n",
            "I0627 13:09:46.888361 140075429287808 convert_dir_to_note_sequences.py:83] Converting files in '/content/drive/My Drive/Summer_21/dataset/groove_midi_files/groove/drummer8'.\n",
            "WARNING:tensorflow:Unable to find a converter for file /content/drive/My Drive/Summer_21/dataset/groove_midi_files/groove/drummer8/Icon\n",
            "W0627 13:09:46.898699 140075429287808 convert_dir_to_note_sequences.py:123] Unable to find a converter for file /content/drive/My Drive/Summer_21/dataset/groove_midi_files/groove/drummer8/Icon\n",
            "INFO:tensorflow:Converting files in '/content/drive/My Drive/Summer_21/dataset/groove_midi_files/groove/drummer8/session2'.\n",
            "I0627 13:09:46.898875 140075429287808 convert_dir_to_note_sequences.py:83] Converting files in '/content/drive/My Drive/Summer_21/dataset/groove_midi_files/groove/drummer8/session2'.\n",
            "INFO:tensorflow:Converted MIDI file /content/drive/My Drive/Summer_21/dataset/groove_midi_files/groove/drummer8/session2/12_funk_81_beat_4-4.mid.\n",
            "I0627 13:09:54.473881 140075429287808 convert_dir_to_note_sequences.py:153] Converted MIDI file /content/drive/My Drive/Summer_21/dataset/groove_midi_files/groove/drummer8/session2/12_funk_81_beat_4-4.mid.\n",
            "INFO:tensorflow:Converted MIDI file /content/drive/My Drive/Summer_21/dataset/groove_midi_files/groove/drummer8/session2/25_latin_84_beat_4-4.mid.\n",
            "I0627 13:10:07.403787 140075429287808 convert_dir_to_note_sequences.py:153] Converted MIDI file /content/drive/My Drive/Summer_21/dataset/groove_midi_files/groove/drummer8/session2/25_latin_84_beat_4-4.mid.\n",
            "INFO:tensorflow:Converted MIDI file /content/drive/My Drive/Summer_21/dataset/groove_midi_files/groove/drummer8/session2/2_funk_92_beat_4-4.mid.\n",
            "I0627 13:10:12.178862 140075429287808 convert_dir_to_note_sequences.py:153] Converted MIDI file /content/drive/My Drive/Summer_21/dataset/groove_midi_files/groove/drummer8/session2/2_funk_92_beat_4-4.mid.\n",
            "INFO:tensorflow:Converted MIDI file /content/drive/My Drive/Summer_21/dataset/groove_midi_files/groove/drummer8/session2/41_highlife_126_beat_4-4.mid.\n",
            "I0627 13:10:28.726373 140075429287808 convert_dir_to_note_sequences.py:153] Converted MIDI file /content/drive/My Drive/Summer_21/dataset/groove_midi_files/groove/drummer8/session2/41_highlife_126_beat_4-4.mid.\n",
            "INFO:tensorflow:Converted MIDI file /content/drive/My Drive/Summer_21/dataset/groove_midi_files/groove/drummer8/session2/40_rock-indie_104_beat_4-4.mid.\n",
            "I0627 13:10:36.130069 140075429287808 convert_dir_to_note_sequences.py:153] Converted MIDI file /content/drive/My Drive/Summer_21/dataset/groove_midi_files/groove/drummer8/session2/40_rock-indie_104_beat_4-4.mid.\n",
            "INFO:tensorflow:Converted MIDI file /content/drive/My Drive/Summer_21/dataset/groove_midi_files/groove/drummer8/session2/33_rock_117_beat_4-4.mid.\n",
            "I0627 13:10:57.266443 140075429287808 convert_dir_to_note_sequences.py:153] Converted MIDI file /content/drive/My Drive/Summer_21/dataset/groove_midi_files/groove/drummer8/session2/33_rock_117_beat_4-4.mid.\n",
            "INFO:tensorflow:Converted MIDI file /content/drive/My Drive/Summer_21/dataset/groove_midi_files/groove/drummer8/session2/30_afrobeat_98_beat_4-4.mid.\n",
            "I0627 13:11:03.817981 140075429287808 convert_dir_to_note_sequences.py:153] Converted MIDI file /content/drive/My Drive/Summer_21/dataset/groove_midi_files/groove/drummer8/session2/30_afrobeat_98_beat_4-4.mid.\n",
            "INFO:tensorflow:Converted MIDI file /content/drive/My Drive/Summer_21/dataset/groove_midi_files/groove/drummer8/session2/39_rock-indie_104_beat_4-4.mid.\n",
            "I0627 13:11:08.029558 140075429287808 convert_dir_to_note_sequences.py:153] Converted MIDI file /content/drive/My Drive/Summer_21/dataset/groove_midi_files/groove/drummer8/session2/39_rock-indie_104_beat_4-4.mid.\n",
            "INFO:tensorflow:Converted MIDI file /content/drive/My Drive/Summer_21/dataset/groove_midi_files/groove/drummer8/session2/14_afrobeat_103_beat_4-4.mid.\n",
            "I0627 13:11:11.017600 140075429287808 convert_dir_to_note_sequences.py:153] Converted MIDI file /content/drive/My Drive/Summer_21/dataset/groove_midi_files/groove/drummer8/session2/14_afrobeat_103_beat_4-4.mid.\n",
            "INFO:tensorflow:Converted MIDI file /content/drive/My Drive/Summer_21/dataset/groove_midi_files/groove/drummer8/session2/17_afrobeat_85_beat_4-4.mid.\n",
            "I0627 13:11:14.856366 140075429287808 convert_dir_to_note_sequences.py:153] Converted MIDI file /content/drive/My Drive/Summer_21/dataset/groove_midi_files/groove/drummer8/session2/17_afrobeat_85_beat_4-4.mid.\n",
            "INFO:tensorflow:Converted MIDI file /content/drive/My Drive/Summer_21/dataset/groove_midi_files/groove/drummer8/session2/31_afrobeat_98_beat_4-4.mid.\n",
            "I0627 13:11:16.911166 140075429287808 convert_dir_to_note_sequences.py:153] Converted MIDI file /content/drive/My Drive/Summer_21/dataset/groove_midi_files/groove/drummer8/session2/31_afrobeat_98_beat_4-4.mid.\n",
            "INFO:tensorflow:Converted MIDI file /content/drive/My Drive/Summer_21/dataset/groove_midi_files/groove/drummer8/session2/38_rock_112_beat_4-4.mid.\n",
            "I0627 13:11:19.904158 140075429287808 convert_dir_to_note_sequences.py:153] Converted MIDI file /content/drive/My Drive/Summer_21/dataset/groove_midi_files/groove/drummer8/session2/38_rock_112_beat_4-4.mid.\n",
            "INFO:tensorflow:Converted MIDI file /content/drive/My Drive/Summer_21/dataset/groove_midi_files/groove/drummer8/session2/5_funk_91_beat_4-4.mid.\n",
            "I0627 13:11:24.150318 140075429287808 convert_dir_to_note_sequences.py:153] Converted MIDI file /content/drive/My Drive/Summer_21/dataset/groove_midi_files/groove/drummer8/session2/5_funk_91_beat_4-4.mid.\n",
            "INFO:tensorflow:Converted MIDI file /content/drive/My Drive/Summer_21/dataset/groove_midi_files/groove/drummer8/session2/26_dance-disco_137_beat_4-4.mid.\n",
            "I0627 13:11:46.628377 140075429287808 convert_dir_to_note_sequences.py:153] Converted MIDI file /content/drive/My Drive/Summer_21/dataset/groove_midi_files/groove/drummer8/session2/26_dance-disco_137_beat_4-4.mid.\n",
            "INFO:tensorflow:Converted MIDI file /content/drive/My Drive/Summer_21/dataset/groove_midi_files/groove/drummer8/session2/35_latin-brazilian-songo_120_beat_4-4.mid.\n",
            "I0627 13:11:57.484283 140075429287808 convert_dir_to_note_sequences.py:153] Converted MIDI file /content/drive/My Drive/Summer_21/dataset/groove_midi_files/groove/drummer8/session2/35_latin-brazilian-songo_120_beat_4-4.mid.\n",
            "INFO:tensorflow:Converted MIDI file /content/drive/My Drive/Summer_21/dataset/groove_midi_files/groove/drummer8/session2/36_latin_118_beat_4-4.mid.\n",
            "I0627 13:12:16.307947 140075429287808 convert_dir_to_note_sequences.py:153] Converted MIDI file /content/drive/My Drive/Summer_21/dataset/groove_midi_files/groove/drummer8/session2/36_latin_118_beat_4-4.mid.\n",
            "INFO:tensorflow:Converted MIDI file /content/drive/My Drive/Summer_21/dataset/groove_midi_files/groove/drummer8/session2/19_neworleans-funk_90_beat_4-4.mid.\n",
            "I0627 13:12:29.136882 140075429287808 convert_dir_to_note_sequences.py:153] Converted MIDI file /content/drive/My Drive/Summer_21/dataset/groove_midi_files/groove/drummer8/session2/19_neworleans-funk_90_beat_4-4.mid.\n",
            "INFO:tensorflow:Converted MIDI file /content/drive/My Drive/Summer_21/dataset/groove_midi_files/groove/drummer8/session2/7_latin_95_beat_4-4.mid.\n",
            "I0627 13:12:31.269566 140075429287808 convert_dir_to_note_sequences.py:153] Converted MIDI file /content/drive/My Drive/Summer_21/dataset/groove_midi_files/groove/drummer8/session2/7_latin_95_beat_4-4.mid.\n",
            "INFO:tensorflow:Converted MIDI file /content/drive/My Drive/Summer_21/dataset/groove_midi_files/groove/drummer8/session2/13_afrobeat_103_beat_4-4.mid.\n",
            "I0627 13:12:33.445323 140075429287808 convert_dir_to_note_sequences.py:153] Converted MIDI file /content/drive/My Drive/Summer_21/dataset/groove_midi_files/groove/drummer8/session2/13_afrobeat_103_beat_4-4.mid.\n",
            "INFO:tensorflow:Converted MIDI file /content/drive/My Drive/Summer_21/dataset/groove_midi_files/groove/drummer8/session2/16_funk_95_beat_4-4.mid.\n",
            "I0627 13:12:36.243744 140075429287808 convert_dir_to_note_sequences.py:153] Converted MIDI file /content/drive/My Drive/Summer_21/dataset/groove_midi_files/groove/drummer8/session2/16_funk_95_beat_4-4.mid.\n",
            "INFO:tensorflow:Converted MIDI file /content/drive/My Drive/Summer_21/dataset/groove_midi_files/groove/drummer8/session2/27_dance-disco_137_beat_4-4.mid.\n",
            "I0627 13:12:38.359472 140075429287808 convert_dir_to_note_sequences.py:153] Converted MIDI file /content/drive/My Drive/Summer_21/dataset/groove_midi_files/groove/drummer8/session2/27_dance-disco_137_beat_4-4.mid.\n",
            "INFO:tensorflow:Converted MIDI file /content/drive/My Drive/Summer_21/dataset/groove_midi_files/groove/drummer8/session2/34_latin-brazilian-songo_120_beat_4-4.mid.\n",
            "I0627 13:12:43.192605 140075429287808 convert_dir_to_note_sequences.py:153] Converted MIDI file /content/drive/My Drive/Summer_21/dataset/groove_midi_files/groove/drummer8/session2/34_latin-brazilian-songo_120_beat_4-4.mid.\n",
            "INFO:tensorflow:Converted MIDI file /content/drive/My Drive/Summer_21/dataset/groove_midi_files/groove/drummer8/session2/15_funk_95_beat_4-4.mid.\n",
            "I0627 13:13:00.656768 140075429287808 convert_dir_to_note_sequences.py:153] Converted MIDI file /content/drive/My Drive/Summer_21/dataset/groove_midi_files/groove/drummer8/session2/15_funk_95_beat_4-4.mid.\n",
            "INFO:tensorflow:Converted MIDI file /content/drive/My Drive/Summer_21/dataset/groove_midi_files/groove/drummer8/session2/32_rock_117_beat_4-4.mid.\n",
            "I0627 13:13:13.253224 140075429287808 convert_dir_to_note_sequences.py:153] Converted MIDI file /content/drive/My Drive/Summer_21/dataset/groove_midi_files/groove/drummer8/session2/32_rock_117_beat_4-4.mid.\n",
            "INFO:tensorflow:Converted MIDI file /content/drive/My Drive/Summer_21/dataset/groove_midi_files/groove/drummer8/session2/8_latin_95_beat_4-4.mid.\n",
            "I0627 13:13:17.084126 140075429287808 convert_dir_to_note_sequences.py:153] Converted MIDI file /content/drive/My Drive/Summer_21/dataset/groove_midi_files/groove/drummer8/session2/8_latin_95_beat_4-4.mid.\n",
            "INFO:tensorflow:Converted MIDI file /content/drive/My Drive/Summer_21/dataset/groove_midi_files/groove/drummer8/session2/28_latin-bounce_106_beat_4-4.mid.\n",
            "I0627 13:13:24.131672 140075429287808 convert_dir_to_note_sequences.py:153] Converted MIDI file /content/drive/My Drive/Summer_21/dataset/groove_midi_files/groove/drummer8/session2/28_latin-bounce_106_beat_4-4.mid.\n",
            "INFO:tensorflow:Converted MIDI file /content/drive/My Drive/Summer_21/dataset/groove_midi_files/groove/drummer8/session2/6_funk_91_beat_4-4.mid.\n",
            "I0627 13:13:50.324442 140075429287808 convert_dir_to_note_sequences.py:153] Converted MIDI file /content/drive/My Drive/Summer_21/dataset/groove_midi_files/groove/drummer8/session2/6_funk_91_beat_4-4.mid.\n",
            "INFO:tensorflow:Converted MIDI file /content/drive/My Drive/Summer_21/dataset/groove_midi_files/groove/drummer8/session2/24_latin_84_beat_4-4.mid.\n",
            "I0627 13:14:06.319430 140075429287808 convert_dir_to_note_sequences.py:153] Converted MIDI file /content/drive/My Drive/Summer_21/dataset/groove_midi_files/groove/drummer8/session2/24_latin_84_beat_4-4.mid.\n",
            "INFO:tensorflow:Converted MIDI file /content/drive/My Drive/Summer_21/dataset/groove_midi_files/groove/drummer8/session2/37_rock_112_beat_4-4.mid.\n",
            "I0627 13:14:16.510200 140075429287808 convert_dir_to_note_sequences.py:153] Converted MIDI file /content/drive/My Drive/Summer_21/dataset/groove_midi_files/groove/drummer8/session2/37_rock_112_beat_4-4.mid.\n",
            "INFO:tensorflow:Converted MIDI file /content/drive/My Drive/Summer_21/dataset/groove_midi_files/groove/drummer8/session2/42_highlife_126_beat_4-4.mid.\n",
            "I0627 13:14:26.932438 140075429287808 convert_dir_to_note_sequences.py:153] Converted MIDI file /content/drive/My Drive/Summer_21/dataset/groove_midi_files/groove/drummer8/session2/42_highlife_126_beat_4-4.mid.\n",
            "INFO:tensorflow:Converted MIDI file /content/drive/My Drive/Summer_21/dataset/groove_midi_files/groove/drummer8/session2/21_afrobeat_110_beat_4-4.mid.\n",
            "I0627 13:14:32.807450 140075429287808 convert_dir_to_note_sequences.py:153] Converted MIDI file /content/drive/My Drive/Summer_21/dataset/groove_midi_files/groove/drummer8/session2/21_afrobeat_110_beat_4-4.mid.\n",
            "INFO:tensorflow:Converted MIDI file /content/drive/My Drive/Summer_21/dataset/groove_midi_files/groove/drummer8/session2/23_rock_96_beat_4-4.mid.\n",
            "I0627 13:14:36.267449 140075429287808 convert_dir_to_note_sequences.py:153] Converted MIDI file /content/drive/My Drive/Summer_21/dataset/groove_midi_files/groove/drummer8/session2/23_rock_96_beat_4-4.mid.\n",
            "INFO:tensorflow:Converted MIDI file /content/drive/My Drive/Summer_21/dataset/groove_midi_files/groove/drummer8/session2/10_hiphop_86_beat_4-4.mid.\n",
            "I0627 13:15:03.657169 140075429287808 convert_dir_to_note_sequences.py:153] Converted MIDI file /content/drive/My Drive/Summer_21/dataset/groove_midi_files/groove/drummer8/session2/10_hiphop_86_beat_4-4.mid.\n",
            "INFO:tensorflow:Converted MIDI file /content/drive/My Drive/Summer_21/dataset/groove_midi_files/groove/drummer8/session2/29_latin-bounce_106_beat_4-4.mid.\n",
            "I0627 13:15:14.221850 140075429287808 convert_dir_to_note_sequences.py:153] Converted MIDI file /content/drive/My Drive/Summer_21/dataset/groove_midi_files/groove/drummer8/session2/29_latin-bounce_106_beat_4-4.mid.\n",
            "INFO:tensorflow:Converted MIDI file /content/drive/My Drive/Summer_21/dataset/groove_midi_files/groove/drummer8/session2/3_afrobeat_114_beat_4-4.mid.\n",
            "I0627 13:15:24.746877 140075429287808 convert_dir_to_note_sequences.py:153] Converted MIDI file /content/drive/My Drive/Summer_21/dataset/groove_midi_files/groove/drummer8/session2/3_afrobeat_114_beat_4-4.mid.\n",
            "INFO:tensorflow:Converted MIDI file /content/drive/My Drive/Summer_21/dataset/groove_midi_files/groove/drummer8/session2/22_rock_96_beat_4-4.mid.\n",
            "I0627 13:15:31.529785 140075429287808 convert_dir_to_note_sequences.py:153] Converted MIDI file /content/drive/My Drive/Summer_21/dataset/groove_midi_files/groove/drummer8/session2/22_rock_96_beat_4-4.mid.\n",
            "INFO:tensorflow:Converted MIDI file /content/drive/My Drive/Summer_21/dataset/groove_midi_files/groove/drummer8/session2/18_afrobeat_85_beat_4-4.mid.\n",
            "I0627 13:15:45.507391 140075429287808 convert_dir_to_note_sequences.py:153] Converted MIDI file /content/drive/My Drive/Summer_21/dataset/groove_midi_files/groove/drummer8/session2/18_afrobeat_85_beat_4-4.mid.\n",
            "INFO:tensorflow:Converted MIDI file /content/drive/My Drive/Summer_21/dataset/groove_midi_files/groove/drummer8/session2/9_hiphop_86_beat_4-4.mid.\n",
            "I0627 13:15:55.260870 140075429287808 convert_dir_to_note_sequences.py:153] Converted MIDI file /content/drive/My Drive/Summer_21/dataset/groove_midi_files/groove/drummer8/session2/9_hiphop_86_beat_4-4.mid.\n",
            "INFO:tensorflow:Converted MIDI file /content/drive/My Drive/Summer_21/dataset/groove_midi_files/groove/drummer8/session2/4_afrobeat_114_beat_4-4.mid.\n",
            "I0627 13:15:59.462586 140075429287808 convert_dir_to_note_sequences.py:153] Converted MIDI file /content/drive/My Drive/Summer_21/dataset/groove_midi_files/groove/drummer8/session2/4_afrobeat_114_beat_4-4.mid.\n",
            "INFO:tensorflow:Converted MIDI file /content/drive/My Drive/Summer_21/dataset/groove_midi_files/groove/drummer8/session2/20_neworleans-funk_90_beat_4-4.mid.\n",
            "I0627 13:16:11.626146 140075429287808 convert_dir_to_note_sequences.py:153] Converted MIDI file /content/drive/My Drive/Summer_21/dataset/groove_midi_files/groove/drummer8/session2/20_neworleans-funk_90_beat_4-4.mid.\n",
            "INFO:tensorflow:Converted MIDI file /content/drive/My Drive/Summer_21/dataset/groove_midi_files/groove/drummer8/session2/1_funk_92_beat_4-4.mid.\n",
            "I0627 13:16:31.987190 140075429287808 convert_dir_to_note_sequences.py:153] Converted MIDI file /content/drive/My Drive/Summer_21/dataset/groove_midi_files/groove/drummer8/session2/1_funk_92_beat_4-4.mid.\n",
            "INFO:tensorflow:Converted MIDI file /content/drive/My Drive/Summer_21/dataset/groove_midi_files/groove/drummer8/session2/11_funk_81_beat_4-4.mid.\n",
            "I0627 13:16:39.427221 140075429287808 convert_dir_to_note_sequences.py:153] Converted MIDI file /content/drive/My Drive/Summer_21/dataset/groove_midi_files/groove/drummer8/session2/11_funk_81_beat_4-4.mid.\n",
            "WARNING:tensorflow:Unable to find a converter for file /content/drive/My Drive/Summer_21/dataset/groove_midi_files/groove/drummer8/session2/Icon\n",
            "W0627 13:16:39.589060 140075429287808 convert_dir_to_note_sequences.py:123] Unable to find a converter for file /content/drive/My Drive/Summer_21/dataset/groove_midi_files/groove/drummer8/session2/Icon\n",
            "INFO:tensorflow:Converting files in '/content/drive/My Drive/Summer_21/dataset/groove_midi_files/groove/drummer8/eval_session'.\n",
            "I0627 13:16:39.589678 140075429287808 convert_dir_to_note_sequences.py:83] Converting files in '/content/drive/My Drive/Summer_21/dataset/groove_midi_files/groove/drummer8/eval_session'.\n",
            "INFO:tensorflow:Converted MIDI file /content/drive/My Drive/Summer_21/dataset/groove_midi_files/groove/drummer8/eval_session/6_hiphop-groove6_87_beat_4-4.mid.\n",
            "I0627 13:16:53.801064 140075429287808 convert_dir_to_note_sequences.py:153] Converted MIDI file /content/drive/My Drive/Summer_21/dataset/groove_midi_files/groove/drummer8/eval_session/6_hiphop-groove6_87_beat_4-4.mid.\n",
            "INFO:tensorflow:Converted MIDI file /content/drive/My Drive/Summer_21/dataset/groove_midi_files/groove/drummer8/eval_session/3_soul-groove3_86_beat_4-4.mid.\n",
            "I0627 13:16:59.800347 140075429287808 convert_dir_to_note_sequences.py:153] Converted MIDI file /content/drive/My Drive/Summer_21/dataset/groove_midi_files/groove/drummer8/eval_session/3_soul-groove3_86_beat_4-4.mid.\n",
            "INFO:tensorflow:Converted MIDI file /content/drive/My Drive/Summer_21/dataset/groove_midi_files/groove/drummer8/eval_session/7_pop-groove7_138_beat_4-4.mid.\n",
            "I0627 13:17:11.172070 140075429287808 convert_dir_to_note_sequences.py:153] Converted MIDI file /content/drive/My Drive/Summer_21/dataset/groove_midi_files/groove/drummer8/eval_session/7_pop-groove7_138_beat_4-4.mid.\n",
            "INFO:tensorflow:Converted MIDI file /content/drive/My Drive/Summer_21/dataset/groove_midi_files/groove/drummer8/eval_session/5_funk-groove5_84_beat_4-4.mid.\n",
            "I0627 13:17:23.449354 140075429287808 convert_dir_to_note_sequences.py:153] Converted MIDI file /content/drive/My Drive/Summer_21/dataset/groove_midi_files/groove/drummer8/eval_session/5_funk-groove5_84_beat_4-4.mid.\n",
            "INFO:tensorflow:Converted MIDI file /content/drive/My Drive/Summer_21/dataset/groove_midi_files/groove/drummer8/eval_session/9_soul-groove9_105_beat_4-4.mid.\n",
            "I0627 13:17:48.415754 140075429287808 convert_dir_to_note_sequences.py:153] Converted MIDI file /content/drive/My Drive/Summer_21/dataset/groove_midi_files/groove/drummer8/eval_session/9_soul-groove9_105_beat_4-4.mid.\n",
            "INFO:tensorflow:Converted MIDI file /content/drive/My Drive/Summer_21/dataset/groove_midi_files/groove/drummer8/eval_session/1_funk-groove1_138_beat_4-4.mid.\n",
            "I0627 13:18:00.267186 140075429287808 convert_dir_to_note_sequences.py:153] Converted MIDI file /content/drive/My Drive/Summer_21/dataset/groove_midi_files/groove/drummer8/eval_session/1_funk-groove1_138_beat_4-4.mid.\n",
            "INFO:tensorflow:Converted MIDI file /content/drive/My Drive/Summer_21/dataset/groove_midi_files/groove/drummer8/eval_session/10_soul-groove10_102_beat_4-4.mid.\n",
            "I0627 13:18:14.244240 140075429287808 convert_dir_to_note_sequences.py:153] Converted MIDI file /content/drive/My Drive/Summer_21/dataset/groove_midi_files/groove/drummer8/eval_session/10_soul-groove10_102_beat_4-4.mid.\n",
            "INFO:tensorflow:Converted MIDI file /content/drive/My Drive/Summer_21/dataset/groove_midi_files/groove/drummer8/eval_session/4_soul-groove4_80_beat_4-4.mid.\n",
            "I0627 13:18:31.943849 140075429287808 convert_dir_to_note_sequences.py:153] Converted MIDI file /content/drive/My Drive/Summer_21/dataset/groove_midi_files/groove/drummer8/eval_session/4_soul-groove4_80_beat_4-4.mid.\n",
            "INFO:tensorflow:Converted MIDI file /content/drive/My Drive/Summer_21/dataset/groove_midi_files/groove/drummer8/eval_session/2_funk-groove2_105_beat_4-4.mid.\n",
            "I0627 13:18:35.334520 140075429287808 convert_dir_to_note_sequences.py:153] Converted MIDI file /content/drive/My Drive/Summer_21/dataset/groove_midi_files/groove/drummer8/eval_session/2_funk-groove2_105_beat_4-4.mid.\n",
            "INFO:tensorflow:Converted MIDI file /content/drive/My Drive/Summer_21/dataset/groove_midi_files/groove/drummer8/eval_session/8_rock-groove8_65_beat_4-4.mid.\n",
            "I0627 13:18:38.597963 140075429287808 convert_dir_to_note_sequences.py:153] Converted MIDI file /content/drive/My Drive/Summer_21/dataset/groove_midi_files/groove/drummer8/eval_session/8_rock-groove8_65_beat_4-4.mid.\n",
            "WARNING:tensorflow:Unable to find a converter for file /content/drive/My Drive/Summer_21/dataset/groove_midi_files/groove/drummer8/eval_session/Icon\n",
            "W0627 13:18:38.601702 140075429287808 convert_dir_to_note_sequences.py:123] Unable to find a converter for file /content/drive/My Drive/Summer_21/dataset/groove_midi_files/groove/drummer8/eval_session/Icon\n",
            "INFO:tensorflow:Converting files in '/content/drive/My Drive/Summer_21/dataset/groove_midi_files/groove/drummer8/session1'.\n",
            "I0627 13:18:38.601892 140075429287808 convert_dir_to_note_sequences.py:83] Converting files in '/content/drive/My Drive/Summer_21/dataset/groove_midi_files/groove/drummer8/session1'.\n",
            "INFO:tensorflow:Converted MIDI file /content/drive/My Drive/Summer_21/dataset/groove_midi_files/groove/drummer8/session1/2_funk_95_beat_4-4.mid.\n",
            "I0627 13:18:43.829053 140075429287808 convert_dir_to_note_sequences.py:153] Converted MIDI file /content/drive/My Drive/Summer_21/dataset/groove_midi_files/groove/drummer8/session1/2_funk_95_beat_4-4.mid.\n",
            "INFO:tensorflow:Converted MIDI file /content/drive/My Drive/Summer_21/dataset/groove_midi_files/groove/drummer8/session1/7_funk_80_beat_4-4.mid.\n",
            "I0627 13:18:54.337492 140075429287808 convert_dir_to_note_sequences.py:153] Converted MIDI file /content/drive/My Drive/Summer_21/dataset/groove_midi_files/groove/drummer8/session1/7_funk_80_beat_4-4.mid.\n",
            "INFO:tensorflow:Converted MIDI file /content/drive/My Drive/Summer_21/dataset/groove_midi_files/groove/drummer8/session1/24_funk-latin_100_beat_4-4.mid.\n",
            "I0627 13:18:59.838318 140075429287808 convert_dir_to_note_sequences.py:153] Converted MIDI file /content/drive/My Drive/Summer_21/dataset/groove_midi_files/groove/drummer8/session1/24_funk-latin_100_beat_4-4.mid.\n",
            "INFO:tensorflow:Converted MIDI file /content/drive/My Drive/Summer_21/dataset/groove_midi_files/groove/drummer8/session1/3_hiphop_90_beat_4-4.mid.\n",
            "I0627 13:19:07.620906 140075429287808 convert_dir_to_note_sequences.py:153] Converted MIDI file /content/drive/My Drive/Summer_21/dataset/groove_midi_files/groove/drummer8/session1/3_hiphop_90_beat_4-4.mid.\n",
            "INFO:tensorflow:Converted MIDI file /content/drive/My Drive/Summer_21/dataset/groove_midi_files/groove/drummer8/session1/16_afrobeat_90_beat_4-4.mid.\n",
            "I0627 13:19:18.702089 140075429287808 convert_dir_to_note_sequences.py:153] Converted MIDI file /content/drive/My Drive/Summer_21/dataset/groove_midi_files/groove/drummer8/session1/16_afrobeat_90_beat_4-4.mid.\n",
            "INFO:tensorflow:Converted MIDI file /content/drive/My Drive/Summer_21/dataset/groove_midi_files/groove/drummer8/session1/4_hiphop_90_beat_4-4.mid.\n",
            "I0627 13:19:26.776739 140075429287808 convert_dir_to_note_sequences.py:153] Converted MIDI file /content/drive/My Drive/Summer_21/dataset/groove_midi_files/groove/drummer8/session1/4_hiphop_90_beat_4-4.mid.\n",
            "INFO:tensorflow:Converted MIDI file /content/drive/My Drive/Summer_21/dataset/groove_midi_files/groove/drummer8/session1/23_hiphop_70_beat_4-4.mid.\n",
            "I0627 13:19:49.039986 140075429287808 convert_dir_to_note_sequences.py:153] Converted MIDI file /content/drive/My Drive/Summer_21/dataset/groove_midi_files/groove/drummer8/session1/23_hiphop_70_beat_4-4.mid.\n",
            "INFO:tensorflow:Converted MIDI file /content/drive/My Drive/Summer_21/dataset/groove_midi_files/groove/drummer8/session1/17_afrobeat_90_beat_4-4.mid.\n",
            "I0627 13:19:56.398331 140075429287808 convert_dir_to_note_sequences.py:153] Converted MIDI file /content/drive/My Drive/Summer_21/dataset/groove_midi_files/groove/drummer8/session1/17_afrobeat_90_beat_4-4.mid.\n",
            "INFO:tensorflow:Converted MIDI file /content/drive/My Drive/Summer_21/dataset/groove_midi_files/groove/drummer8/session1/25_funk-latin_100_beat_4-4.mid.\n",
            "I0627 13:19:59.809769 140075429287808 convert_dir_to_note_sequences.py:153] Converted MIDI file /content/drive/My Drive/Summer_21/dataset/groove_midi_files/groove/drummer8/session1/25_funk-latin_100_beat_4-4.mid.\n",
            "INFO:tensorflow:Converted MIDI file /content/drive/My Drive/Summer_21/dataset/groove_midi_files/groove/drummer8/session1/5_hiphop_90_beat_4-4.mid.\n",
            "I0627 13:20:08.435168 140075429287808 convert_dir_to_note_sequences.py:153] Converted MIDI file /content/drive/My Drive/Summer_21/dataset/groove_midi_files/groove/drummer8/session1/5_hiphop_90_beat_4-4.mid.\n",
            "INFO:tensorflow:Converted MIDI file /content/drive/My Drive/Summer_21/dataset/groove_midi_files/groove/drummer8/session1/26_afrobeat_94_beat_4-4.mid.\n",
            "I0627 13:20:21.439154 140075429287808 convert_dir_to_note_sequences.py:153] Converted MIDI file /content/drive/My Drive/Summer_21/dataset/groove_midi_files/groove/drummer8/session1/26_afrobeat_94_beat_4-4.mid.\n",
            "INFO:tensorflow:Converted MIDI file /content/drive/My Drive/Summer_21/dataset/groove_midi_files/groove/drummer8/session1/6_funk_80_beat_4-4.mid.\n",
            "I0627 13:20:41.668728 140075429287808 convert_dir_to_note_sequences.py:153] Converted MIDI file /content/drive/My Drive/Summer_21/dataset/groove_midi_files/groove/drummer8/session1/6_funk_80_beat_4-4.mid.\n",
            "INFO:tensorflow:Converted MIDI file /content/drive/My Drive/Summer_21/dataset/groove_midi_files/groove/drummer8/session1/11_neworleans-funk_82_beat_4-4.mid.\n",
            "I0627 13:20:53.959871 140075429287808 convert_dir_to_note_sequences.py:153] Converted MIDI file /content/drive/My Drive/Summer_21/dataset/groove_midi_files/groove/drummer8/session1/11_neworleans-funk_82_beat_4-4.mid.\n",
            "INFO:tensorflow:Converted MIDI file /content/drive/My Drive/Summer_21/dataset/groove_midi_files/groove/drummer8/session1/18_funk_108_beat_4-4.mid.\n",
            "I0627 13:21:16.806932 140075429287808 convert_dir_to_note_sequences.py:153] Converted MIDI file /content/drive/My Drive/Summer_21/dataset/groove_midi_files/groove/drummer8/session1/18_funk_108_beat_4-4.mid.\n",
            "INFO:tensorflow:Converted MIDI file /content/drive/My Drive/Summer_21/dataset/groove_midi_files/groove/drummer8/session1/10_neworleans-funk_82_beat_4-4.mid.\n",
            "I0627 13:21:31.978112 140075429287808 convert_dir_to_note_sequences.py:153] Converted MIDI file /content/drive/My Drive/Summer_21/dataset/groove_midi_files/groove/drummer8/session1/10_neworleans-funk_82_beat_4-4.mid.\n",
            "INFO:tensorflow:Converted MIDI file /content/drive/My Drive/Summer_21/dataset/groove_midi_files/groove/drummer8/session1/9_funk_96_beat_4-4.mid.\n",
            "I0627 13:21:34.265573 140075429287808 convert_dir_to_note_sequences.py:153] Converted MIDI file /content/drive/My Drive/Summer_21/dataset/groove_midi_files/groove/drummer8/session1/9_funk_96_beat_4-4.mid.\n",
            "INFO:tensorflow:Converted MIDI file /content/drive/My Drive/Summer_21/dataset/groove_midi_files/groove/drummer8/session1/20_rock-shuffle_112_beat_4-4.mid.\n",
            "I0627 13:21:37.440602 140075429287808 convert_dir_to_note_sequences.py:153] Converted MIDI file /content/drive/My Drive/Summer_21/dataset/groove_midi_files/groove/drummer8/session1/20_rock-shuffle_112_beat_4-4.mid.\n",
            "INFO:tensorflow:Converted MIDI file /content/drive/My Drive/Summer_21/dataset/groove_midi_files/groove/drummer8/session1/15_hiphop_94_beat_4-4.mid.\n",
            "I0627 13:21:39.872864 140075429287808 convert_dir_to_note_sequences.py:153] Converted MIDI file /content/drive/My Drive/Summer_21/dataset/groove_midi_files/groove/drummer8/session1/15_hiphop_94_beat_4-4.mid.\n",
            "INFO:tensorflow:Converted MIDI file /content/drive/My Drive/Summer_21/dataset/groove_midi_files/groove/drummer8/session1/12_latin_118_beat_4-4.mid.\n",
            "I0627 13:21:46.631371 140075429287808 convert_dir_to_note_sequences.py:153] Converted MIDI file /content/drive/My Drive/Summer_21/dataset/groove_midi_files/groove/drummer8/session1/12_latin_118_beat_4-4.mid.\n",
            "INFO:tensorflow:Converted MIDI file /content/drive/My Drive/Summer_21/dataset/groove_midi_files/groove/drummer8/session1/28_rock_102_beat_4-4.mid.\n",
            "I0627 13:22:01.463420 140075429287808 convert_dir_to_note_sequences.py:153] Converted MIDI file /content/drive/My Drive/Summer_21/dataset/groove_midi_files/groove/drummer8/session1/28_rock_102_beat_4-4.mid.\n",
            "INFO:tensorflow:Converted MIDI file /content/drive/My Drive/Summer_21/dataset/groove_midi_files/groove/drummer8/session1/21_rock-shuffle_112_beat_4-4.mid.\n",
            "I0627 13:22:20.380378 140075429287808 convert_dir_to_note_sequences.py:153] Converted MIDI file /content/drive/My Drive/Summer_21/dataset/groove_midi_files/groove/drummer8/session1/21_rock-shuffle_112_beat_4-4.mid.\n",
            "INFO:tensorflow:Converted MIDI file /content/drive/My Drive/Summer_21/dataset/groove_midi_files/groove/drummer8/session1/8_funk_96_beat_4-4.mid.\n",
            "I0627 13:22:40.354613 140075429287808 convert_dir_to_note_sequences.py:153] Converted MIDI file /content/drive/My Drive/Summer_21/dataset/groove_midi_files/groove/drummer8/session1/8_funk_96_beat_4-4.mid.\n",
            "INFO:tensorflow:Converted MIDI file /content/drive/My Drive/Summer_21/dataset/groove_midi_files/groove/drummer8/session1/14_hiphop_94_beat_4-4.mid.\n",
            "I0627 13:23:01.023561 140075429287808 convert_dir_to_note_sequences.py:153] Converted MIDI file /content/drive/My Drive/Summer_21/dataset/groove_midi_files/groove/drummer8/session1/14_hiphop_94_beat_4-4.mid.\n",
            "INFO:tensorflow:Converted MIDI file /content/drive/My Drive/Summer_21/dataset/groove_midi_files/groove/drummer8/session1/13_latin_118_beat_4-4.mid.\n",
            "I0627 13:23:05.932304 140075429287808 convert_dir_to_note_sequences.py:153] Converted MIDI file /content/drive/My Drive/Summer_21/dataset/groove_midi_files/groove/drummer8/session1/13_latin_118_beat_4-4.mid.\n",
            "INFO:tensorflow:Converted MIDI file /content/drive/My Drive/Summer_21/dataset/groove_midi_files/groove/drummer8/session1/19_funk_108_beat_4-4.mid.\n",
            "I0627 13:23:12.639275 140075429287808 convert_dir_to_note_sequences.py:153] Converted MIDI file /content/drive/My Drive/Summer_21/dataset/groove_midi_files/groove/drummer8/session1/19_funk_108_beat_4-4.mid.\n",
            "INFO:tensorflow:Converted MIDI file /content/drive/My Drive/Summer_21/dataset/groove_midi_files/groove/drummer8/session1/1_funk_95_beat_4-4.mid.\n",
            "I0627 13:23:25.366629 140075429287808 convert_dir_to_note_sequences.py:153] Converted MIDI file /content/drive/My Drive/Summer_21/dataset/groove_midi_files/groove/drummer8/session1/1_funk_95_beat_4-4.mid.\n",
            "INFO:tensorflow:Converted MIDI file /content/drive/My Drive/Summer_21/dataset/groove_midi_files/groove/drummer8/session1/22_funk_115_beat_4-4.mid.\n",
            "I0627 13:23:29.407789 140075429287808 convert_dir_to_note_sequences.py:153] Converted MIDI file /content/drive/My Drive/Summer_21/dataset/groove_midi_files/groove/drummer8/session1/22_funk_115_beat_4-4.mid.\n",
            "INFO:tensorflow:Converted MIDI file /content/drive/My Drive/Summer_21/dataset/groove_midi_files/groove/drummer8/session1/27_latin_122_beat_4-4.mid.\n",
            "I0627 13:24:03.305062 140075429287808 convert_dir_to_note_sequences.py:153] Converted MIDI file /content/drive/My Drive/Summer_21/dataset/groove_midi_files/groove/drummer8/session1/27_latin_122_beat_4-4.mid.\n",
            "WARNING:tensorflow:Unable to find a converter for file /content/drive/My Drive/Summer_21/dataset/groove_midi_files/groove/drummer8/session1/Icon\n",
            "W0627 13:24:03.322778 140075429287808 convert_dir_to_note_sequences.py:123] Unable to find a converter for file /content/drive/My Drive/Summer_21/dataset/groove_midi_files/groove/drummer8/session1/Icon\n",
            "INFO:tensorflow:Converting files in '/content/drive/My Drive/Summer_21/dataset/groove_midi_files/groove/drummer6'.\n",
            "I0627 13:24:03.324410 140075429287808 convert_dir_to_note_sequences.py:83] Converting files in '/content/drive/My Drive/Summer_21/dataset/groove_midi_files/groove/drummer6'.\n",
            "WARNING:tensorflow:Unable to find a converter for file /content/drive/My Drive/Summer_21/dataset/groove_midi_files/groove/drummer6/Icon\n",
            "W0627 13:24:03.349738 140075429287808 convert_dir_to_note_sequences.py:123] Unable to find a converter for file /content/drive/My Drive/Summer_21/dataset/groove_midi_files/groove/drummer6/Icon\n",
            "INFO:tensorflow:Converting files in '/content/drive/My Drive/Summer_21/dataset/groove_midi_files/groove/drummer6/session3'.\n",
            "I0627 13:24:03.349910 140075429287808 convert_dir_to_note_sequences.py:83] Converting files in '/content/drive/My Drive/Summer_21/dataset/groove_midi_files/groove/drummer6/session3'.\n",
            "INFO:tensorflow:Converted MIDI file /content/drive/My Drive/Summer_21/dataset/groove_midi_files/groove/drummer6/session3/3_rock_100_beat_4-4.mid.\n",
            "I0627 13:24:09.163245 140075429287808 convert_dir_to_note_sequences.py:153] Converted MIDI file /content/drive/My Drive/Summer_21/dataset/groove_midi_files/groove/drummer6/session3/3_rock_100_beat_4-4.mid.\n",
            "INFO:tensorflow:Converted MIDI file /content/drive/My Drive/Summer_21/dataset/groove_midi_files/groove/drummer6/session3/7_rock_88_beat_4-4.mid.\n",
            "I0627 13:24:13.477972 140075429287808 convert_dir_to_note_sequences.py:153] Converted MIDI file /content/drive/My Drive/Summer_21/dataset/groove_midi_files/groove/drummer6/session3/7_rock_88_beat_4-4.mid.\n",
            "INFO:tensorflow:Converted MIDI file /content/drive/My Drive/Summer_21/dataset/groove_midi_files/groove/drummer6/session3/4_rock_127_beat_4-4.mid.\n",
            "I0627 13:24:21.280817 140075429287808 convert_dir_to_note_sequences.py:153] Converted MIDI file /content/drive/My Drive/Summer_21/dataset/groove_midi_files/groove/drummer6/session3/4_rock_127_beat_4-4.mid.\n",
            "INFO:tensorflow:Converted MIDI file /content/drive/My Drive/Summer_21/dataset/groove_midi_files/groove/drummer6/session3/6_rock_88_beat_4-4.mid.\n",
            "I0627 13:24:34.377614 140075429287808 convert_dir_to_note_sequences.py:153] Converted MIDI file /content/drive/My Drive/Summer_21/dataset/groove_midi_files/groove/drummer6/session3/6_rock_88_beat_4-4.mid.\n",
            "INFO:tensorflow:Converted MIDI file /content/drive/My Drive/Summer_21/dataset/groove_midi_files/groove/drummer6/session3/2_rock_100_beat_4-4.mid.\n",
            "I0627 13:24:51.163241 140075429287808 convert_dir_to_note_sequences.py:153] Converted MIDI file /content/drive/My Drive/Summer_21/dataset/groove_midi_files/groove/drummer6/session3/2_rock_100_beat_4-4.mid.\n",
            "INFO:tensorflow:Converted MIDI file /content/drive/My Drive/Summer_21/dataset/groove_midi_files/groove/drummer6/session3/1_rock_90_beat_4-4.mid.\n",
            "I0627 13:24:59.948387 140075429287808 convert_dir_to_note_sequences.py:153] Converted MIDI file /content/drive/My Drive/Summer_21/dataset/groove_midi_files/groove/drummer6/session3/1_rock_90_beat_4-4.mid.\n",
            "INFO:tensorflow:Converted MIDI file /content/drive/My Drive/Summer_21/dataset/groove_midi_files/groove/drummer6/session3/5_rock_180_beat_4-4.mid.\n",
            "I0627 13:25:24.625942 140075429287808 convert_dir_to_note_sequences.py:153] Converted MIDI file /content/drive/My Drive/Summer_21/dataset/groove_midi_files/groove/drummer6/session3/5_rock_180_beat_4-4.mid.\n",
            "WARNING:tensorflow:Unable to find a converter for file /content/drive/My Drive/Summer_21/dataset/groove_midi_files/groove/drummer6/session3/Icon\n",
            "W0627 13:25:24.647819 140075429287808 convert_dir_to_note_sequences.py:123] Unable to find a converter for file /content/drive/My Drive/Summer_21/dataset/groove_midi_files/groove/drummer6/session3/Icon\n",
            "INFO:tensorflow:Converting files in '/content/drive/My Drive/Summer_21/dataset/groove_midi_files/groove/drummer6/session2'.\n",
            "I0627 13:25:24.648235 140075429287808 convert_dir_to_note_sequences.py:83] Converting files in '/content/drive/My Drive/Summer_21/dataset/groove_midi_files/groove/drummer6/session2'.\n",
            "INFO:tensorflow:Converted MIDI file /content/drive/My Drive/Summer_21/dataset/groove_midi_files/groove/drummer6/session2/1_rock_95_beat_4-4.mid.\n",
            "I0627 13:25:33.112198 140075429287808 convert_dir_to_note_sequences.py:153] Converted MIDI file /content/drive/My Drive/Summer_21/dataset/groove_midi_files/groove/drummer6/session2/1_rock_95_beat_4-4.mid.\n",
            "INFO:tensorflow:Converted MIDI file /content/drive/My Drive/Summer_21/dataset/groove_midi_files/groove/drummer6/session2/3_rock_88_beat_4-4.mid.\n",
            "I0627 13:25:41.965991 140075429287808 convert_dir_to_note_sequences.py:153] Converted MIDI file /content/drive/My Drive/Summer_21/dataset/groove_midi_files/groove/drummer6/session2/3_rock_88_beat_4-4.mid.\n",
            "INFO:tensorflow:Converted MIDI file /content/drive/My Drive/Summer_21/dataset/groove_midi_files/groove/drummer6/session2/2_rock_95_beat_4-4.mid.\n",
            "I0627 13:25:47.898460 140075429287808 convert_dir_to_note_sequences.py:153] Converted MIDI file /content/drive/My Drive/Summer_21/dataset/groove_midi_files/groove/drummer6/session2/2_rock_95_beat_4-4.mid.\n",
            "WARNING:tensorflow:Unable to find a converter for file /content/drive/My Drive/Summer_21/dataset/groove_midi_files/groove/drummer6/session2/Icon\n",
            "W0627 13:25:47.905908 140075429287808 convert_dir_to_note_sequences.py:123] Unable to find a converter for file /content/drive/My Drive/Summer_21/dataset/groove_midi_files/groove/drummer6/session2/Icon\n",
            "INFO:tensorflow:Converting files in '/content/drive/My Drive/Summer_21/dataset/groove_midi_files/groove/drummer6/session1'.\n",
            "I0627 13:25:47.906653 140075429287808 convert_dir_to_note_sequences.py:83] Converting files in '/content/drive/My Drive/Summer_21/dataset/groove_midi_files/groove/drummer6/session1'.\n",
            "INFO:tensorflow:Converted MIDI file /content/drive/My Drive/Summer_21/dataset/groove_midi_files/groove/drummer6/session1/3_rock_80_beat_6-8.mid.\n",
            "I0627 13:25:52.507369 140075429287808 convert_dir_to_note_sequences.py:153] Converted MIDI file /content/drive/My Drive/Summer_21/dataset/groove_midi_files/groove/drummer6/session1/3_rock_80_beat_6-8.mid.\n",
            "INFO:tensorflow:Converted MIDI file /content/drive/My Drive/Summer_21/dataset/groove_midi_files/groove/drummer6/session1/1_rock_70_beat_6-8.mid.\n",
            "I0627 13:25:56.988286 140075429287808 convert_dir_to_note_sequences.py:153] Converted MIDI file /content/drive/My Drive/Summer_21/dataset/groove_midi_files/groove/drummer6/session1/1_rock_70_beat_6-8.mid.\n",
            "INFO:tensorflow:Converted MIDI file /content/drive/My Drive/Summer_21/dataset/groove_midi_files/groove/drummer6/session1/5_rock_60_beat_6-8.mid.\n",
            "I0627 13:26:13.753424 140075429287808 convert_dir_to_note_sequences.py:153] Converted MIDI file /content/drive/My Drive/Summer_21/dataset/groove_midi_files/groove/drummer6/session1/5_rock_60_beat_6-8.mid.\n",
            "INFO:tensorflow:Converted MIDI file /content/drive/My Drive/Summer_21/dataset/groove_midi_files/groove/drummer6/session1/4_rock_80_beat_6-8.mid.\n",
            "I0627 13:26:25.819821 140075429287808 convert_dir_to_note_sequences.py:153] Converted MIDI file /content/drive/My Drive/Summer_21/dataset/groove_midi_files/groove/drummer6/session1/4_rock_80_beat_6-8.mid.\n",
            "INFO:tensorflow:Converted MIDI file /content/drive/My Drive/Summer_21/dataset/groove_midi_files/groove/drummer6/session1/2_rock_70_beat_6-8.mid.\n",
            "I0627 13:26:41.915060 140075429287808 convert_dir_to_note_sequences.py:153] Converted MIDI file /content/drive/My Drive/Summer_21/dataset/groove_midi_files/groove/drummer6/session1/2_rock_70_beat_6-8.mid.\n",
            "WARNING:tensorflow:Unable to find a converter for file /content/drive/My Drive/Summer_21/dataset/groove_midi_files/groove/drummer6/session1/Icon\n",
            "W0627 13:26:42.208469 140075429287808 convert_dir_to_note_sequences.py:123] Unable to find a converter for file /content/drive/My Drive/Summer_21/dataset/groove_midi_files/groove/drummer6/session1/Icon\n",
            "INFO:tensorflow:Converting files in '/content/drive/My Drive/Summer_21/dataset/groove_midi_files/groove/drummer1'.\n",
            "I0627 13:26:42.208883 140075429287808 convert_dir_to_note_sequences.py:83] Converting files in '/content/drive/My Drive/Summer_21/dataset/groove_midi_files/groove/drummer1'.\n",
            "WARNING:tensorflow:Unable to find a converter for file /content/drive/My Drive/Summer_21/dataset/groove_midi_files/groove/drummer1/Icon\n",
            "W0627 13:26:42.243545 140075429287808 convert_dir_to_note_sequences.py:123] Unable to find a converter for file /content/drive/My Drive/Summer_21/dataset/groove_midi_files/groove/drummer1/Icon\n",
            "INFO:tensorflow:Converting files in '/content/drive/My Drive/Summer_21/dataset/groove_midi_files/groove/drummer1/session3'.\n",
            "I0627 13:26:42.243807 140075429287808 convert_dir_to_note_sequences.py:83] Converting files in '/content/drive/My Drive/Summer_21/dataset/groove_midi_files/groove/drummer1/session3'.\n",
            "INFO:tensorflow:Converted MIDI file /content/drive/My Drive/Summer_21/dataset/groove_midi_files/groove/drummer1/session3/2_jazz-swing_185_beat_4-4.mid.\n",
            "I0627 13:26:59.525046 140075429287808 convert_dir_to_note_sequences.py:153] Converted MIDI file /content/drive/My Drive/Summer_21/dataset/groove_midi_files/groove/drummer1/session3/2_jazz-swing_185_beat_4-4.mid.\n",
            "INFO:tensorflow:Converted MIDI file /content/drive/My Drive/Summer_21/dataset/groove_midi_files/groove/drummer1/session3/1_rock-prog_125_beat_4-4.mid.\n",
            "I0627 13:27:08.428499 140075429287808 convert_dir_to_note_sequences.py:153] Converted MIDI file /content/drive/My Drive/Summer_21/dataset/groove_midi_files/groove/drummer1/session3/1_rock-prog_125_beat_4-4.mid.\n",
            "INFO:tensorflow:Converted MIDI file /content/drive/My Drive/Summer_21/dataset/groove_midi_files/groove/drummer1/session3/14_rock_94_beat_4-4.mid.\n",
            "I0627 13:27:11.639831 140075429287808 convert_dir_to_note_sequences.py:153] Converted MIDI file /content/drive/My Drive/Summer_21/dataset/groove_midi_files/groove/drummer1/session3/14_rock_94_beat_4-4.mid.\n",
            "INFO:tensorflow:Converted MIDI file /content/drive/My Drive/Summer_21/dataset/groove_midi_files/groove/drummer1/session3/6_dance-disco_120_beat_4-4.mid.\n",
            "I0627 13:27:19.185477 140075429287808 convert_dir_to_note_sequences.py:153] Converted MIDI file /content/drive/My Drive/Summer_21/dataset/groove_midi_files/groove/drummer1/session3/6_dance-disco_120_beat_4-4.mid.\n",
            "INFO:tensorflow:Converted MIDI file /content/drive/My Drive/Summer_21/dataset/groove_midi_files/groove/drummer1/session3/18_rock_128_beat_4-4.mid.\n",
            "I0627 13:27:31.685903 140075429287808 convert_dir_to_note_sequences.py:153] Converted MIDI file /content/drive/My Drive/Summer_21/dataset/groove_midi_files/groove/drummer1/session3/18_rock_128_beat_4-4.mid.\n",
            "INFO:tensorflow:Converted MIDI file /content/drive/My Drive/Summer_21/dataset/groove_midi_files/groove/drummer1/session3/3_rock-rockabilly_200_beat_4-4.mid.\n",
            "I0627 13:27:56.828098 140075429287808 convert_dir_to_note_sequences.py:153] Converted MIDI file /content/drive/My Drive/Summer_21/dataset/groove_midi_files/groove/drummer1/session3/3_rock-rockabilly_200_beat_4-4.mid.\n",
            "INFO:tensorflow:Converted MIDI file /content/drive/My Drive/Summer_21/dataset/groove_midi_files/groove/drummer1/session3/11_afrobeat_94_beat_4-4.mid.\n",
            "I0627 13:28:13.549824 140075429287808 convert_dir_to_note_sequences.py:153] Converted MIDI file /content/drive/My Drive/Summer_21/dataset/groove_midi_files/groove/drummer1/session3/11_afrobeat_94_beat_4-4.mid.\n",
            "INFO:tensorflow:Converted MIDI file /content/drive/My Drive/Summer_21/dataset/groove_midi_files/groove/drummer1/session3/8_rock_135_beat_4-4.mid.\n",
            "I0627 13:28:21.549933 140075429287808 convert_dir_to_note_sequences.py:153] Converted MIDI file /content/drive/My Drive/Summer_21/dataset/groove_midi_files/groove/drummer1/session3/8_rock_135_beat_4-4.mid.\n",
            "INFO:tensorflow:Converted MIDI file /content/drive/My Drive/Summer_21/dataset/groove_midi_files/groove/drummer1/session3/10_rock-folk_90_beat_4-4.mid.\n",
            "I0627 13:28:26.648280 140075429287808 convert_dir_to_note_sequences.py:153] Converted MIDI file /content/drive/My Drive/Summer_21/dataset/groove_midi_files/groove/drummer1/session3/10_rock-folk_90_beat_4-4.mid.\n",
            "INFO:tensorflow:Converted MIDI file /content/drive/My Drive/Summer_21/dataset/groove_midi_files/groove/drummer1/session3/4_jazz-linear_182_beat_4-4.mid.\n",
            "I0627 13:28:30.863063 140075429287808 convert_dir_to_note_sequences.py:153] Converted MIDI file /content/drive/My Drive/Summer_21/dataset/groove_midi_files/groove/drummer1/session3/4_jazz-linear_182_beat_4-4.mid.\n",
            "INFO:tensorflow:Converted MIDI file /content/drive/My Drive/Summer_21/dataset/groove_midi_files/groove/drummer1/session3/16_funk_117_beat_4-4.mid.\n",
            "I0627 13:28:39.363896 140075429287808 convert_dir_to_note_sequences.py:153] Converted MIDI file /content/drive/My Drive/Summer_21/dataset/groove_midi_files/groove/drummer1/session3/16_funk_117_beat_4-4.mid.\n",
            "INFO:tensorflow:Converted MIDI file /content/drive/My Drive/Summer_21/dataset/groove_midi_files/groove/drummer1/session3/5_jazz-linear_128_beat_4-4.mid.\n",
            "I0627 13:28:47.213223 140075429287808 convert_dir_to_note_sequences.py:153] Converted MIDI file /content/drive/My Drive/Summer_21/dataset/groove_midi_files/groove/drummer1/session3/5_jazz-linear_128_beat_4-4.mid.\n",
            "INFO:tensorflow:Converted MIDI file /content/drive/My Drive/Summer_21/dataset/groove_midi_files/groove/drummer1/session3/7_dance-disco_120_beat_4-4.mid.\n",
            "I0627 13:28:51.967539 140075429287808 convert_dir_to_note_sequences.py:153] Converted MIDI file /content/drive/My Drive/Summer_21/dataset/groove_midi_files/groove/drummer1/session3/7_dance-disco_120_beat_4-4.mid.\n",
            "INFO:tensorflow:Converted MIDI file /content/drive/My Drive/Summer_21/dataset/groove_midi_files/groove/drummer1/session3/13_rock_115_beat_4-4.mid.\n",
            "I0627 13:28:59.672147 140075429287808 convert_dir_to_note_sequences.py:153] Converted MIDI file /content/drive/My Drive/Summer_21/dataset/groove_midi_files/groove/drummer1/session3/13_rock_115_beat_4-4.mid.\n",
            "INFO:tensorflow:Converted MIDI file /content/drive/My Drive/Summer_21/dataset/groove_midi_files/groove/drummer1/session3/15_funk_117_beat_4-4.mid.\n",
            "I0627 13:29:22.032515 140075429287808 convert_dir_to_note_sequences.py:153] Converted MIDI file /content/drive/My Drive/Summer_21/dataset/groove_midi_files/groove/drummer1/session3/15_funk_117_beat_4-4.mid.\n",
            "INFO:tensorflow:Converted MIDI file /content/drive/My Drive/Summer_21/dataset/groove_midi_files/groove/drummer1/session3/12_latin-bomba_96_beat_4-4.mid.\n",
            "I0627 13:29:26.160458 140075429287808 convert_dir_to_note_sequences.py:153] Converted MIDI file /content/drive/My Drive/Summer_21/dataset/groove_midi_files/groove/drummer1/session3/12_latin-bomba_96_beat_4-4.mid.\n",
            "INFO:tensorflow:Converted MIDI file /content/drive/My Drive/Summer_21/dataset/groove_midi_files/groove/drummer1/session3/17_afrocuban-calypso_108_beat_4-4.mid.\n",
            "I0627 13:29:29.705106 140075429287808 convert_dir_to_note_sequences.py:153] Converted MIDI file /content/drive/My Drive/Summer_21/dataset/groove_midi_files/groove/drummer1/session3/17_afrocuban-calypso_108_beat_4-4.mid.\n",
            "INFO:tensorflow:Converted MIDI file /content/drive/My Drive/Summer_21/dataset/groove_midi_files/groove/drummer1/session3/9_rock_135_beat_4-4.mid.\n",
            "I0627 13:29:32.356476 140075429287808 convert_dir_to_note_sequences.py:153] Converted MIDI file /content/drive/My Drive/Summer_21/dataset/groove_midi_files/groove/drummer1/session3/9_rock_135_beat_4-4.mid.\n",
            "WARNING:tensorflow:Unable to find a converter for file /content/drive/My Drive/Summer_21/dataset/groove_midi_files/groove/drummer1/session3/Icon\n",
            "W0627 13:29:32.368350 140075429287808 convert_dir_to_note_sequences.py:123] Unable to find a converter for file /content/drive/My Drive/Summer_21/dataset/groove_midi_files/groove/drummer1/session3/Icon\n",
            "INFO:tensorflow:Converting files in '/content/drive/My Drive/Summer_21/dataset/groove_midi_files/groove/drummer1/session2'.\n",
            "I0627 13:29:32.369719 140075429287808 convert_dir_to_note_sequences.py:83] Converting files in '/content/drive/My Drive/Summer_21/dataset/groove_midi_files/groove/drummer1/session2'.\n",
            "INFO:tensorflow:Converted MIDI file /content/drive/My Drive/Summer_21/dataset/groove_midi_files/groove/drummer1/session2/78_punk_144_fill_4-4.mid.\n",
            "I0627 13:29:35.641652 140075429287808 convert_dir_to_note_sequences.py:153] Converted MIDI file /content/drive/My Drive/Summer_21/dataset/groove_midi_files/groove/drummer1/session2/78_punk_144_fill_4-4.mid.\n",
            "INFO:tensorflow:Converted MIDI file /content/drive/My Drive/Summer_21/dataset/groove_midi_files/groove/drummer1/session2/160_gospel_120_fill_4-4.mid.\n",
            "I0627 13:29:38.280104 140075429287808 convert_dir_to_note_sequences.py:153] Converted MIDI file /content/drive/My Drive/Summer_21/dataset/groove_midi_files/groove/drummer1/session2/160_gospel_120_fill_4-4.mid.\n",
            "INFO:tensorflow:Converted MIDI file /content/drive/My Drive/Summer_21/dataset/groove_midi_files/groove/drummer1/session2/100_funk-rock_92_fill_4-4.mid.\n",
            "I0627 13:29:41.697478 140075429287808 convert_dir_to_note_sequences.py:153] Converted MIDI file /content/drive/My Drive/Summer_21/dataset/groove_midi_files/groove/drummer1/session2/100_funk-rock_92_fill_4-4.mid.\n",
            "INFO:tensorflow:Converted MIDI file /content/drive/My Drive/Summer_21/dataset/groove_midi_files/groove/drummer1/session2/128_afrocuban-bembe_122_fill_4-4.mid.\n",
            "I0627 13:29:45.155985 140075429287808 convert_dir_to_note_sequences.py:153] Converted MIDI file /content/drive/My Drive/Summer_21/dataset/groove_midi_files/groove/drummer1/session2/128_afrocuban-bembe_122_fill_4-4.mid.\n",
            "INFO:tensorflow:Converted MIDI file /content/drive/My Drive/Summer_21/dataset/groove_midi_files/groove/drummer1/session2/151_gospel_120_fill_4-4.mid.\n",
            "I0627 13:29:48.545262 140075429287808 convert_dir_to_note_sequences.py:153] Converted MIDI file /content/drive/My Drive/Summer_21/dataset/groove_midi_files/groove/drummer1/session2/151_gospel_120_fill_4-4.mid.\n",
            "INFO:tensorflow:Converted MIDI file /content/drive/My Drive/Summer_21/dataset/groove_midi_files/groove/drummer1/session2/137_afrocuban-bembe_122_fill_4-4.mid.\n",
            "I0627 13:29:51.674370 140075429287808 convert_dir_to_note_sequences.py:153] Converted MIDI file /content/drive/My Drive/Summer_21/dataset/groove_midi_files/groove/drummer1/session2/137_afrocuban-bembe_122_fill_4-4.mid.\n",
            "INFO:tensorflow:Converted MIDI file /content/drive/My Drive/Summer_21/dataset/groove_midi_files/groove/drummer1/session2/108_funk-rock_92_fill_4-4.mid.\n",
            "I0627 13:29:55.127031 140075429287808 convert_dir_to_note_sequences.py:153] Converted MIDI file /content/drive/My Drive/Summer_21/dataset/groove_midi_files/groove/drummer1/session2/108_funk-rock_92_fill_4-4.mid.\n",
            "INFO:tensorflow:Converted MIDI file /content/drive/My Drive/Summer_21/dataset/groove_midi_files/groove/drummer1/session2/29_country_114_fill_4-4.mid.\n",
            "I0627 13:29:57.815815 140075429287808 convert_dir_to_note_sequences.py:153] Converted MIDI file /content/drive/My Drive/Summer_21/dataset/groove_midi_files/groove/drummer1/session2/29_country_114_fill_4-4.mid.\n",
            "INFO:tensorflow:Converted MIDI file /content/drive/My Drive/Summer_21/dataset/groove_midi_files/groove/drummer1/session2/5_jazz_200_beat_3-4.mid.\n",
            "I0627 13:30:01.890763 140075429287808 convert_dir_to_note_sequences.py:153] Converted MIDI file /content/drive/My Drive/Summer_21/dataset/groove_midi_files/groove/drummer1/session2/5_jazz_200_beat_3-4.mid.\n",
            "INFO:tensorflow:Converted MIDI file /content/drive/My Drive/Summer_21/dataset/groove_midi_files/groove/drummer1/session2/133_afrocuban-bembe_122_fill_4-4.mid.\n",
            "I0627 13:30:04.243945 140075429287808 convert_dir_to_note_sequences.py:153] Converted MIDI file /content/drive/My Drive/Summer_21/dataset/groove_midi_files/groove/drummer1/session2/133_afrocuban-bembe_122_fill_4-4.mid.\n",
            "INFO:tensorflow:Converted MIDI file /content/drive/My Drive/Summer_21/dataset/groove_midi_files/groove/drummer1/session2/70_punk_144_fill_4-4.mid.\n",
            "I0627 13:30:07.660140 140075429287808 convert_dir_to_note_sequences.py:153] Converted MIDI file /content/drive/My Drive/Summer_21/dataset/groove_midi_files/groove/drummer1/session2/70_punk_144_fill_4-4.mid.\n",
            "INFO:tensorflow:Converted MIDI file /content/drive/My Drive/Summer_21/dataset/groove_midi_files/groove/drummer1/session2/66_punk_144_fill_4-4.mid.\n",
            "I0627 13:30:10.807723 140075429287808 convert_dir_to_note_sequences.py:153] Converted MIDI file /content/drive/My Drive/Summer_21/dataset/groove_midi_files/groove/drummer1/session2/66_punk_144_fill_4-4.mid.\n",
            "INFO:tensorflow:Converted MIDI file /content/drive/My Drive/Summer_21/dataset/groove_midi_files/groove/drummer1/session2/4_jazz_120_beat_3-4.mid.\n",
            "I0627 13:30:14.107920 140075429287808 convert_dir_to_note_sequences.py:153] Converted MIDI file /content/drive/My Drive/Summer_21/dataset/groove_midi_files/groove/drummer1/session2/4_jazz_120_beat_3-4.mid.\n",
            "INFO:tensorflow:Converted MIDI file /content/drive/My Drive/Summer_21/dataset/groove_midi_files/groove/drummer1/session2/25_country_114_fill_4-4.mid.\n",
            "I0627 13:30:16.327775 140075429287808 convert_dir_to_note_sequences.py:153] Converted MIDI file /content/drive/My Drive/Summer_21/dataset/groove_midi_files/groove/drummer1/session2/25_country_114_fill_4-4.mid.\n",
            "INFO:tensorflow:Converted MIDI file /content/drive/My Drive/Summer_21/dataset/groove_midi_files/groove/drummer1/session2/12_country_114_fill_4-4.mid.\n",
            "I0627 13:30:19.603615 140075429287808 convert_dir_to_note_sequences.py:153] Converted MIDI file /content/drive/My Drive/Summer_21/dataset/groove_midi_files/groove/drummer1/session2/12_country_114_fill_4-4.mid.\n",
            "INFO:tensorflow:Converted MIDI file /content/drive/My Drive/Summer_21/dataset/groove_midi_files/groove/drummer1/session2/93_funk-rock_92_fill_4-4.mid.\n",
            "I0627 13:30:22.375475 140075429287808 convert_dir_to_note_sequences.py:153] Converted MIDI file /content/drive/My Drive/Summer_21/dataset/groove_midi_files/groove/drummer1/session2/93_funk-rock_92_fill_4-4.mid.\n",
            "INFO:tensorflow:Converted MIDI file /content/drive/My Drive/Summer_21/dataset/groove_midi_files/groove/drummer1/session2/192_rock_115_fill_4-4.mid.\n",
            "I0627 13:30:25.608905 140075429287808 convert_dir_to_note_sequences.py:153] Converted MIDI file /content/drive/My Drive/Summer_21/dataset/groove_midi_files/groove/drummer1/session2/192_rock_115_fill_4-4.mid.\n",
            "INFO:tensorflow:Converted MIDI file /content/drive/My Drive/Summer_21/dataset/groove_midi_files/groove/drummer1/session2/55_punk_128_fill_4-4.mid.\n",
            "I0627 13:30:28.479973 140075429287808 convert_dir_to_note_sequences.py:153] Converted MIDI file /content/drive/My Drive/Summer_21/dataset/groove_midi_files/groove/drummer1/session2/55_punk_128_fill_4-4.mid.\n",
            "INFO:tensorflow:Converted MIDI file /content/drive/My Drive/Summer_21/dataset/groove_midi_files/groove/drummer1/session2/16_country_114_fill_4-4.mid.\n",
            "I0627 13:30:31.507659 140075429287808 convert_dir_to_note_sequences.py:153] Converted MIDI file /content/drive/My Drive/Summer_21/dataset/groove_midi_files/groove/drummer1/session2/16_country_114_fill_4-4.mid.\n",
            "INFO:tensorflow:Converted MIDI file /content/drive/My Drive/Summer_21/dataset/groove_midi_files/groove/drummer1/session2/21_country_114_fill_4-4.mid.\n",
            "I0627 13:30:35.197523 140075429287808 convert_dir_to_note_sequences.py:153] Converted MIDI file /content/drive/My Drive/Summer_21/dataset/groove_midi_files/groove/drummer1/session2/21_country_114_fill_4-4.mid.\n",
            "INFO:tensorflow:Converted MIDI file /content/drive/My Drive/Summer_21/dataset/groove_midi_files/groove/drummer1/session2/43_punk_128_fill_4-4.mid.\n",
            "I0627 13:30:38.273122 140075429287808 convert_dir_to_note_sequences.py:153] Converted MIDI file /content/drive/My Drive/Summer_21/dataset/groove_midi_files/groove/drummer1/session2/43_punk_128_fill_4-4.mid.\n",
            "INFO:tensorflow:Converted MIDI file /content/drive/My Drive/Summer_21/dataset/groove_midi_files/groove/drummer1/session2/84_punk_144_fill_4-4.mid.\n",
            "I0627 13:30:41.516232 140075429287808 convert_dir_to_note_sequences.py:153] Converted MIDI file /content/drive/My Drive/Summer_21/dataset/groove_midi_files/groove/drummer1/session2/84_punk_144_fill_4-4.mid.\n",
            "INFO:tensorflow:Converted MIDI file /content/drive/My Drive/Summer_21/dataset/groove_midi_files/groove/drummer1/session2/35_punk_128_beat_4-4.mid.\n",
            "I0627 13:30:44.128311 140075429287808 convert_dir_to_note_sequences.py:153] Converted MIDI file /content/drive/My Drive/Summer_21/dataset/groove_midi_files/groove/drummer1/session2/35_punk_128_beat_4-4.mid.\n",
            "INFO:tensorflow:Converted MIDI file /content/drive/My Drive/Summer_21/dataset/groove_midi_files/groove/drummer1/session2/171_afrocuban-rhumba_110_fill_4-4.mid.\n",
            "I0627 13:30:47.930946 140075429287808 convert_dir_to_note_sequences.py:153] Converted MIDI file /content/drive/My Drive/Summer_21/dataset/groove_midi_files/groove/drummer1/session2/171_afrocuban-rhumba_110_fill_4-4.mid.\n",
            "INFO:tensorflow:Converted MIDI file /content/drive/My Drive/Summer_21/dataset/groove_midi_files/groove/drummer1/session2/184_rock_115_fill_4-4.mid.\n",
            "I0627 13:30:51.958058 140075429287808 convert_dir_to_note_sequences.py:153] Converted MIDI file /content/drive/My Drive/Summer_21/dataset/groove_midi_files/groove/drummer1/session2/184_rock_115_fill_4-4.mid.\n",
            "INFO:tensorflow:Converted MIDI file /content/drive/My Drive/Summer_21/dataset/groove_midi_files/groove/drummer1/session2/49_punk_128_fill_4-4.mid.\n",
            "I0627 13:30:54.737715 140075429287808 convert_dir_to_note_sequences.py:153] Converted MIDI file /content/drive/My Drive/Summer_21/dataset/groove_midi_files/groove/drummer1/session2/49_punk_128_fill_4-4.mid.\n",
            "INFO:tensorflow:Converted MIDI file /content/drive/My Drive/Summer_21/dataset/groove_midi_files/groove/drummer1/session2/155_gospel_120_fill_4-4.mid.\n",
            "I0627 13:30:57.548599 140075429287808 convert_dir_to_note_sequences.py:153] Converted MIDI file /content/drive/My Drive/Summer_21/dataset/groove_midi_files/groove/drummer1/session2/155_gospel_120_fill_4-4.mid.\n",
            "INFO:tensorflow:Converted MIDI file /content/drive/My Drive/Summer_21/dataset/groove_midi_files/groove/drummer1/session2/173_afrocuban-rhumba_110_fill_4-4.mid.\n",
            "I0627 13:31:00.862713 140075429287808 convert_dir_to_note_sequences.py:153] Converted MIDI file /content/drive/My Drive/Summer_21/dataset/groove_midi_files/groove/drummer1/session2/173_afrocuban-rhumba_110_fill_4-4.mid.\n",
            "INFO:tensorflow:Converted MIDI file /content/drive/My Drive/Summer_21/dataset/groove_midi_files/groove/drummer1/session2/7_jazz-march_88_beat_4-4.mid.\n",
            "I0627 13:31:05.138278 140075429287808 convert_dir_to_note_sequences.py:153] Converted MIDI file /content/drive/My Drive/Summer_21/dataset/groove_midi_files/groove/drummer1/session2/7_jazz-march_88_beat_4-4.mid.\n",
            "INFO:tensorflow:Converted MIDI file /content/drive/My Drive/Summer_21/dataset/groove_midi_files/groove/drummer1/session2/198_rock_115_fill_4-4.mid.\n",
            "I0627 13:31:08.891714 140075429287808 convert_dir_to_note_sequences.py:153] Converted MIDI file /content/drive/My Drive/Summer_21/dataset/groove_midi_files/groove/drummer1/session2/198_rock_115_fill_4-4.mid.\n",
            "INFO:tensorflow:Converted MIDI file /content/drive/My Drive/Summer_21/dataset/groove_midi_files/groove/drummer1/session2/162_afrocuban-rhumba_110_fill_4-4.mid.\n",
            "I0627 13:31:12.001465 140075429287808 convert_dir_to_note_sequences.py:153] Converted MIDI file /content/drive/My Drive/Summer_21/dataset/groove_midi_files/groove/drummer1/session2/162_afrocuban-rhumba_110_fill_4-4.mid.\n",
            "INFO:tensorflow:Converted MIDI file /content/drive/My Drive/Summer_21/dataset/groove_midi_files/groove/drummer1/session2/94_funk-rock_92_fill_4-4.mid.\n",
            "I0627 13:31:14.938987 140075429287808 convert_dir_to_note_sequences.py:153] Converted MIDI file /content/drive/My Drive/Summer_21/dataset/groove_midi_files/groove/drummer1/session2/94_funk-rock_92_fill_4-4.mid.\n",
            "INFO:tensorflow:Converted MIDI file /content/drive/My Drive/Summer_21/dataset/groove_midi_files/groove/drummer1/session2/110_rock-prog_190_beat_4-4.mid.\n",
            "I0627 13:31:17.946625 140075429287808 convert_dir_to_note_sequences.py:153] Converted MIDI file /content/drive/My Drive/Summer_21/dataset/groove_midi_files/groove/drummer1/session2/110_rock-prog_190_beat_4-4.mid.\n",
            "INFO:tensorflow:Converted MIDI file /content/drive/My Drive/Summer_21/dataset/groove_midi_files/groove/drummer1/session2/62_punk_144_beat_4-4.mid.\n",
            "I0627 13:31:21.190412 140075429287808 convert_dir_to_note_sequences.py:153] Converted MIDI file /content/drive/My Drive/Summer_21/dataset/groove_midi_files/groove/drummer1/session2/62_punk_144_beat_4-4.mid.\n",
            "INFO:tensorflow:Converted MIDI file /content/drive/My Drive/Summer_21/dataset/groove_midi_files/groove/drummer1/session2/113_afrocuban-bembe_122_fill_4-4.mid.\n",
            "I0627 13:31:24.088824 140075429287808 convert_dir_to_note_sequences.py:153] Converted MIDI file /content/drive/My Drive/Summer_21/dataset/groove_midi_files/groove/drummer1/session2/113_afrocuban-bembe_122_fill_4-4.mid.\n",
            "INFO:tensorflow:Converted MIDI file /content/drive/My Drive/Summer_21/dataset/groove_midi_files/groove/drummer1/session2/124_afrocuban-bembe_122_fill_4-4.mid.\n",
            "I0627 13:31:26.671385 140075429287808 convert_dir_to_note_sequences.py:153] Converted MIDI file /content/drive/My Drive/Summer_21/dataset/groove_midi_files/groove/drummer1/session2/124_afrocuban-bembe_122_fill_4-4.mid.\n",
            "INFO:tensorflow:Converted MIDI file /content/drive/My Drive/Summer_21/dataset/groove_midi_files/groove/drummer1/session2/117_afrocuban-bembe_122_fill_4-4.mid.\n",
            "I0627 13:31:30.403568 140075429287808 convert_dir_to_note_sequences.py:153] Converted MIDI file /content/drive/My Drive/Summer_21/dataset/groove_midi_files/groove/drummer1/session2/117_afrocuban-bembe_122_fill_4-4.mid.\n",
            "INFO:tensorflow:Converted MIDI file /content/drive/My Drive/Summer_21/dataset/groove_midi_files/groove/drummer1/session2/190_rock_115_fill_4-4.mid.\n",
            "I0627 13:31:33.533565 140075429287808 convert_dir_to_note_sequences.py:153] Converted MIDI file /content/drive/My Drive/Summer_21/dataset/groove_midi_files/groove/drummer1/session2/190_rock_115_fill_4-4.mid.\n",
            "INFO:tensorflow:Converted MIDI file /content/drive/My Drive/Summer_21/dataset/groove_midi_files/groove/drummer1/session2/149_gospel_120_fill_4-4.mid.\n",
            "I0627 13:31:37.512419 140075429287808 convert_dir_to_note_sequences.py:153] Converted MIDI file /content/drive/My Drive/Summer_21/dataset/groove_midi_files/groove/drummer1/session2/149_gospel_120_fill_4-4.mid.\n",
            "INFO:tensorflow:Converted MIDI file /content/drive/My Drive/Summer_21/dataset/groove_midi_files/groove/drummer1/session2/39_punk_128_fill_4-4.mid.\n",
            "I0627 13:31:39.922474 140075429287808 convert_dir_to_note_sequences.py:153] Converted MIDI file /content/drive/My Drive/Summer_21/dataset/groove_midi_files/groove/drummer1/session2/39_punk_128_fill_4-4.mid.\n",
            "INFO:tensorflow:Converted MIDI file /content/drive/My Drive/Summer_21/dataset/groove_midi_files/groove/drummer1/session2/57_punk_128_fill_4-4.mid.\n",
            "I0627 13:31:43.595123 140075429287808 convert_dir_to_note_sequences.py:153] Converted MIDI file /content/drive/My Drive/Summer_21/dataset/groove_midi_files/groove/drummer1/session2/57_punk_128_fill_4-4.mid.\n",
            "INFO:tensorflow:Converted MIDI file /content/drive/My Drive/Summer_21/dataset/groove_midi_files/groove/drummer1/session2/120_afrocuban-bembe_122_fill_4-4.mid.\n",
            "I0627 13:31:45.956219 140075429287808 convert_dir_to_note_sequences.py:153] Converted MIDI file /content/drive/My Drive/Summer_21/dataset/groove_midi_files/groove/drummer1/session2/120_afrocuban-bembe_122_fill_4-4.mid.\n",
            "INFO:tensorflow:Converted MIDI file /content/drive/My Drive/Summer_21/dataset/groove_midi_files/groove/drummer1/session2/37_punk_128_beat_4-4.mid.\n",
            "I0627 13:31:49.772460 140075429287808 convert_dir_to_note_sequences.py:153] Converted MIDI file /content/drive/My Drive/Summer_21/dataset/groove_midi_files/groove/drummer1/session2/37_punk_128_beat_4-4.mid.\n",
            "INFO:tensorflow:Converted MIDI file /content/drive/My Drive/Summer_21/dataset/groove_midi_files/groove/drummer1/session2/86_punk_144_fill_4-4.mid.\n",
            "I0627 13:31:52.447395 140075429287808 convert_dir_to_note_sequences.py:153] Converted MIDI file /content/drive/My Drive/Summer_21/dataset/groove_midi_files/groove/drummer1/session2/86_punk_144_fill_4-4.mid.\n",
            "INFO:tensorflow:Converted MIDI file /content/drive/My Drive/Summer_21/dataset/groove_midi_files/groove/drummer1/session2/41_punk_128_fill_4-4.mid.\n",
            "I0627 13:31:56.191150 140075429287808 convert_dir_to_note_sequences.py:153] Converted MIDI file /content/drive/My Drive/Summer_21/dataset/groove_midi_files/groove/drummer1/session2/41_punk_128_fill_4-4.mid.\n",
            "INFO:tensorflow:Converted MIDI file /content/drive/My Drive/Summer_21/dataset/groove_midi_files/groove/drummer1/session2/161_afrocuban-rhumba_110_beat_4-4.mid.\n",
            "I0627 13:31:59.608794 140075429287808 convert_dir_to_note_sequences.py:153] Converted MIDI file /content/drive/My Drive/Summer_21/dataset/groove_midi_files/groove/drummer1/session2/161_afrocuban-rhumba_110_beat_4-4.mid.\n",
            "INFO:tensorflow:Converted MIDI file /content/drive/My Drive/Summer_21/dataset/groove_midi_files/groove/drummer1/session2/186_rock_115_fill_4-4.mid.\n",
            "I0627 13:32:04.111155 140075429287808 convert_dir_to_note_sequences.py:153] Converted MIDI file /content/drive/My Drive/Summer_21/dataset/groove_midi_files/groove/drummer1/session2/186_rock_115_fill_4-4.mid.\n",
            "INFO:tensorflow:Converted MIDI file /content/drive/My Drive/Summer_21/dataset/groove_midi_files/groove/drummer1/session2/72_punk_144_fill_4-4.mid.\n",
            "I0627 13:32:06.571407 140075429287808 convert_dir_to_note_sequences.py:153] Converted MIDI file /content/drive/My Drive/Summer_21/dataset/groove_midi_files/groove/drummer1/session2/72_punk_144_fill_4-4.mid.\n",
            "INFO:tensorflow:Converted MIDI file /content/drive/My Drive/Summer_21/dataset/groove_midi_files/groove/drummer1/session2/107_funk-rock_92_fill_4-4.mid.\n",
            "I0627 13:32:09.022307 140075429287808 convert_dir_to_note_sequences.py:153] Converted MIDI file /content/drive/My Drive/Summer_21/dataset/groove_midi_files/groove/drummer1/session2/107_funk-rock_92_fill_4-4.mid.\n",
            "INFO:tensorflow:Converted MIDI file /content/drive/My Drive/Summer_21/dataset/groove_midi_files/groove/drummer1/session2/64_punk_144_fill_4-4.mid.\n",
            "I0627 13:32:12.717893 140075429287808 convert_dir_to_note_sequences.py:153] Converted MIDI file /content/drive/My Drive/Summer_21/dataset/groove_midi_files/groove/drummer1/session2/64_punk_144_fill_4-4.mid.\n",
            "INFO:tensorflow:Converted MIDI file /content/drive/My Drive/Summer_21/dataset/groove_midi_files/groove/drummer1/session2/146_gospel_120_fill_4-4.mid.\n",
            "I0627 13:32:15.204507 140075429287808 convert_dir_to_note_sequences.py:153] Converted MIDI file /content/drive/My Drive/Summer_21/dataset/groove_midi_files/groove/drummer1/session2/146_gospel_120_fill_4-4.mid.\n",
            "INFO:tensorflow:Converted MIDI file /content/drive/My Drive/Summer_21/dataset/groove_midi_files/groove/drummer1/session2/74_punk_144_fill_4-4.mid.\n",
            "I0627 13:32:18.844873 140075429287808 convert_dir_to_note_sequences.py:153] Converted MIDI file /content/drive/My Drive/Summer_21/dataset/groove_midi_files/groove/drummer1/session2/74_punk_144_fill_4-4.mid.\n",
            "INFO:tensorflow:Converted MIDI file /content/drive/My Drive/Summer_21/dataset/groove_midi_files/groove/drummer1/session2/102_funk-rock_92_fill_4-4.mid.\n",
            "I0627 13:32:21.496625 140075429287808 convert_dir_to_note_sequences.py:153] Converted MIDI file /content/drive/My Drive/Summer_21/dataset/groove_midi_files/groove/drummer1/session2/102_funk-rock_92_fill_4-4.mid.\n",
            "INFO:tensorflow:Converted MIDI file /content/drive/My Drive/Summer_21/dataset/groove_midi_files/groove/drummer1/session2/51_punk_128_fill_4-4.mid.\n",
            "I0627 13:32:25.462643 140075429287808 convert_dir_to_note_sequences.py:153] Converted MIDI file /content/drive/My Drive/Summer_21/dataset/groove_midi_files/groove/drummer1/session2/51_punk_128_fill_4-4.mid.\n",
            "INFO:tensorflow:Converted MIDI file /content/drive/My Drive/Summer_21/dataset/groove_midi_files/groove/drummer1/session2/196_rock_115_fill_4-4.mid.\n",
            "I0627 13:32:27.916960 140075429287808 convert_dir_to_note_sequences.py:153] Converted MIDI file /content/drive/My Drive/Summer_21/dataset/groove_midi_files/groove/drummer1/session2/196_rock_115_fill_4-4.mid.\n",
            "INFO:tensorflow:Converted MIDI file /content/drive/My Drive/Summer_21/dataset/groove_midi_files/groove/drummer1/session2/127_afrocuban-bembe_122_fill_4-4.mid.\n",
            "I0627 13:32:31.275945 140075429287808 convert_dir_to_note_sequences.py:153] Converted MIDI file /content/drive/My Drive/Summer_21/dataset/groove_midi_files/groove/drummer1/session2/127_afrocuban-bembe_122_fill_4-4.mid.\n",
            "INFO:tensorflow:Converted MIDI file /content/drive/My Drive/Summer_21/dataset/groove_midi_files/groove/drummer1/session2/6_rock_102_beat_3-4.mid.\n",
            "I0627 13:32:34.382902 140075429287808 convert_dir_to_note_sequences.py:153] Converted MIDI file /content/drive/My Drive/Summer_21/dataset/groove_midi_files/groove/drummer1/session2/6_rock_102_beat_3-4.mid.\n",
            "INFO:tensorflow:Converted MIDI file /content/drive/My Drive/Summer_21/dataset/groove_midi_files/groove/drummer1/session2/145_gospel_120_fill_4-4.mid.\n",
            "I0627 13:32:37.841710 140075429287808 convert_dir_to_note_sequences.py:153] Converted MIDI file /content/drive/My Drive/Summer_21/dataset/groove_midi_files/groove/drummer1/session2/145_gospel_120_fill_4-4.mid.\n",
            "INFO:tensorflow:Converted MIDI file /content/drive/My Drive/Summer_21/dataset/groove_midi_files/groove/drummer1/session2/80_punk_144_fill_4-4.mid.\n",
            "I0627 13:32:40.409175 140075429287808 convert_dir_to_note_sequences.py:153] Converted MIDI file /content/drive/My Drive/Summer_21/dataset/groove_midi_files/groove/drummer1/session2/80_punk_144_fill_4-4.mid.\n",
            "INFO:tensorflow:Converted MIDI file /content/drive/My Drive/Summer_21/dataset/groove_midi_files/groove/drummer1/session2/138_afrocuban-bembe_122_fill_4-4.mid.\n",
            "I0627 13:32:44.283153 140075429287808 convert_dir_to_note_sequences.py:153] Converted MIDI file /content/drive/My Drive/Summer_21/dataset/groove_midi_files/groove/drummer1/session2/138_afrocuban-bembe_122_fill_4-4.mid.\n",
            "INFO:tensorflow:Converted MIDI file /content/drive/My Drive/Summer_21/dataset/groove_midi_files/groove/drummer1/session2/47_punk_128_fill_4-4.mid.\n",
            "I0627 13:32:47.906738 140075429287808 convert_dir_to_note_sequences.py:153] Converted MIDI file /content/drive/My Drive/Summer_21/dataset/groove_midi_files/groove/drummer1/session2/47_punk_128_fill_4-4.mid.\n",
            "INFO:tensorflow:Converted MIDI file /content/drive/My Drive/Summer_21/dataset/groove_midi_files/groove/drummer1/session2/99_funk-rock_92_fill_4-4.mid.\n",
            "I0627 13:32:51.343784 140075429287808 convert_dir_to_note_sequences.py:153] Converted MIDI file /content/drive/My Drive/Summer_21/dataset/groove_midi_files/groove/drummer1/session2/99_funk-rock_92_fill_4-4.mid.\n",
            "INFO:tensorflow:Converted MIDI file /content/drive/My Drive/Summer_21/dataset/groove_midi_files/groove/drummer1/session2/156_gospel_120_fill_4-4.mid.\n",
            "I0627 13:32:53.779407 140075429287808 convert_dir_to_note_sequences.py:153] Converted MIDI file /content/drive/My Drive/Summer_21/dataset/groove_midi_files/groove/drummer1/session2/156_gospel_120_fill_4-4.mid.\n",
            "INFO:tensorflow:Converted MIDI file /content/drive/My Drive/Summer_21/dataset/groove_midi_files/groove/drummer1/session2/180_rock_50_beat_4-4.mid.\n",
            "I0627 13:32:57.023495 140075429287808 convert_dir_to_note_sequences.py:153] Converted MIDI file /content/drive/My Drive/Summer_21/dataset/groove_midi_files/groove/drummer1/session2/180_rock_50_beat_4-4.mid.\n",
            "INFO:tensorflow:Converted MIDI file /content/drive/My Drive/Summer_21/dataset/groove_midi_files/groove/drummer1/session2/114_afrocuban-bembe_122_fill_4-4.mid.\n",
            "I0627 13:33:00.091965 140075429287808 convert_dir_to_note_sequences.py:153] Converted MIDI file /content/drive/My Drive/Summer_21/dataset/groove_midi_files/groove/drummer1/session2/114_afrocuban-bembe_122_fill_4-4.mid.\n",
            "INFO:tensorflow:Converted MIDI file /content/drive/My Drive/Summer_21/dataset/groove_midi_files/groove/drummer1/session2/123_afrocuban-bembe_122_fill_4-4.mid.\n",
            "I0627 13:33:03.255522 140075429287808 convert_dir_to_note_sequences.py:153] Converted MIDI file /content/drive/My Drive/Summer_21/dataset/groove_midi_files/groove/drummer1/session2/123_afrocuban-bembe_122_fill_4-4.mid.\n",
            "INFO:tensorflow:Converted MIDI file /content/drive/My Drive/Summer_21/dataset/groove_midi_files/groove/drummer1/session2/170_afrocuban-rhumba_110_fill_4-4.mid.\n",
            "I0627 13:33:06.626728 140075429287808 convert_dir_to_note_sequences.py:153] Converted MIDI file /content/drive/My Drive/Summer_21/dataset/groove_midi_files/groove/drummer1/session2/170_afrocuban-rhumba_110_fill_4-4.mid.\n",
            "INFO:tensorflow:Converted MIDI file /content/drive/My Drive/Summer_21/dataset/groove_midi_files/groove/drummer1/session2/3_latin-chacarera_118_beat_4-4.mid.\n",
            "I0627 13:33:10.493022 140075429287808 convert_dir_to_note_sequences.py:153] Converted MIDI file /content/drive/My Drive/Summer_21/dataset/groove_midi_files/groove/drummer1/session2/3_latin-chacarera_118_beat_4-4.mid.\n",
            "INFO:tensorflow:Converted MIDI file /content/drive/My Drive/Summer_21/dataset/groove_midi_files/groove/drummer1/session2/88_punk_144_fill_4-4.mid.\n",
            "I0627 13:33:12.963006 140075429287808 convert_dir_to_note_sequences.py:153] Converted MIDI file /content/drive/My Drive/Summer_21/dataset/groove_midi_files/groove/drummer1/session2/88_punk_144_fill_4-4.mid.\n",
            "INFO:tensorflow:Converted MIDI file /content/drive/My Drive/Summer_21/dataset/groove_midi_files/groove/drummer1/session2/188_rock_115_fill_4-4.mid.\n",
            "I0627 13:33:16.384397 140075429287808 convert_dir_to_note_sequences.py:153] Converted MIDI file /content/drive/My Drive/Summer_21/dataset/groove_midi_files/groove/drummer1/session2/188_rock_115_fill_4-4.mid.\n",
            "INFO:tensorflow:Converted MIDI file /content/drive/My Drive/Summer_21/dataset/groove_midi_files/groove/drummer1/session2/91_funk-rock_92_fill_4-4.mid.\n",
            "I0627 13:33:19.116143 140075429287808 convert_dir_to_note_sequences.py:153] Converted MIDI file /content/drive/My Drive/Summer_21/dataset/groove_midi_files/groove/drummer1/session2/91_funk-rock_92_fill_4-4.mid.\n",
            "INFO:tensorflow:Converted MIDI file /content/drive/My Drive/Summer_21/dataset/groove_midi_files/groove/drummer1/session2/159_gospel_120_fill_4-4.mid.\n",
            "I0627 13:33:22.453217 140075429287808 convert_dir_to_note_sequences.py:153] Converted MIDI file /content/drive/My Drive/Summer_21/dataset/groove_midi_files/groove/drummer1/session2/159_gospel_120_fill_4-4.mid.\n",
            "INFO:tensorflow:Converted MIDI file /content/drive/My Drive/Summer_21/dataset/groove_midi_files/groove/drummer1/session2/59_punk_128_fill_4-4.mid.\n",
            "I0627 13:33:25.105057 140075429287808 convert_dir_to_note_sequences.py:153] Converted MIDI file /content/drive/My Drive/Summer_21/dataset/groove_midi_files/groove/drummer1/session2/59_punk_128_fill_4-4.mid.\n",
            "INFO:tensorflow:Converted MIDI file /content/drive/My Drive/Summer_21/dataset/groove_midi_files/groove/drummer1/session2/28_country_114_fill_4-4.mid.\n",
            "I0627 13:33:27.976555 140075429287808 convert_dir_to_note_sequences.py:153] Converted MIDI file /content/drive/My Drive/Summer_21/dataset/groove_midi_files/groove/drummer1/session2/28_country_114_fill_4-4.mid.\n",
            "INFO:tensorflow:Converted MIDI file /content/drive/My Drive/Summer_21/dataset/groove_midi_files/groove/drummer1/session2/163_afrocuban-rhumba_110_fill_4-4.mid.\n",
            "I0627 13:33:31.544342 140075429287808 convert_dir_to_note_sequences.py:153] Converted MIDI file /content/drive/My Drive/Summer_21/dataset/groove_midi_files/groove/drummer1/session2/163_afrocuban-rhumba_110_fill_4-4.mid.\n",
            "INFO:tensorflow:Converted MIDI file /content/drive/My Drive/Summer_21/dataset/groove_midi_files/groove/drummer1/session2/53_punk_128_fill_4-4.mid.\n",
            "I0627 13:33:33.924080 140075429287808 convert_dir_to_note_sequences.py:153] Converted MIDI file /content/drive/My Drive/Summer_21/dataset/groove_midi_files/groove/drummer1/session2/53_punk_128_fill_4-4.mid.\n",
            "INFO:tensorflow:Converted MIDI file /content/drive/My Drive/Summer_21/dataset/groove_midi_files/groove/drummer1/session2/194_rock_115_fill_4-4.mid.\n",
            "I0627 13:33:36.914598 140075429287808 convert_dir_to_note_sequences.py:153] Converted MIDI file /content/drive/My Drive/Summer_21/dataset/groove_midi_files/groove/drummer1/session2/194_rock_115_fill_4-4.mid.\n",
            "INFO:tensorflow:Converted MIDI file /content/drive/My Drive/Summer_21/dataset/groove_midi_files/groove/drummer1/session2/182_rock_115_fill_4-4.mid.\n",
            "I0627 13:33:41.636049 140075429287808 convert_dir_to_note_sequences.py:153] Converted MIDI file /content/drive/My Drive/Summer_21/dataset/groove_midi_files/groove/drummer1/session2/182_rock_115_fill_4-4.mid.\n",
            "INFO:tensorflow:Converted MIDI file /content/drive/My Drive/Summer_21/dataset/groove_midi_files/groove/drummer1/session2/172_afrocuban-rhumba_110_fill_4-4.mid.\n",
            "I0627 13:33:44.272649 140075429287808 convert_dir_to_note_sequences.py:153] Converted MIDI file /content/drive/My Drive/Summer_21/dataset/groove_midi_files/groove/drummer1/session2/172_afrocuban-rhumba_110_fill_4-4.mid.\n",
            "INFO:tensorflow:Converted MIDI file /content/drive/My Drive/Summer_21/dataset/groove_midi_files/groove/drummer1/session2/96_funk-rock_92_fill_4-4.mid.\n",
            "I0627 13:33:48.869790 140075429287808 convert_dir_to_note_sequences.py:153] Converted MIDI file /content/drive/My Drive/Summer_21/dataset/groove_midi_files/groove/drummer1/session2/96_funk-rock_92_fill_4-4.mid.\n",
            "INFO:tensorflow:Converted MIDI file /content/drive/My Drive/Summer_21/dataset/groove_midi_files/groove/drummer1/session2/45_punk_128_fill_4-4.mid.\n",
            "I0627 13:33:52.292303 140075429287808 convert_dir_to_note_sequences.py:153] Converted MIDI file /content/drive/My Drive/Summer_21/dataset/groove_midi_files/groove/drummer1/session2/45_punk_128_fill_4-4.mid.\n",
            "INFO:tensorflow:Converted MIDI file /content/drive/My Drive/Summer_21/dataset/groove_midi_files/groove/drummer1/session2/33_punk_128_beat_4-4.mid.\n",
            "I0627 13:33:55.201196 140075429287808 convert_dir_to_note_sequences.py:153] Converted MIDI file /content/drive/My Drive/Summer_21/dataset/groove_midi_files/groove/drummer1/session2/33_punk_128_beat_4-4.mid.\n",
            "INFO:tensorflow:Converted MIDI file /content/drive/My Drive/Summer_21/dataset/groove_midi_files/groove/drummer1/session2/82_punk_144_fill_4-4.mid.\n",
            "I0627 13:33:58.290467 140075429287808 convert_dir_to_note_sequences.py:153] Converted MIDI file /content/drive/My Drive/Summer_21/dataset/groove_midi_files/groove/drummer1/session2/82_punk_144_fill_4-4.mid.\n",
            "INFO:tensorflow:Converted MIDI file /content/drive/My Drive/Summer_21/dataset/groove_midi_files/groove/drummer1/session2/134_afrocuban-bembe_122_fill_4-4.mid.\n",
            "I0627 13:34:01.932355 140075429287808 convert_dir_to_note_sequences.py:153] Converted MIDI file /content/drive/My Drive/Summer_21/dataset/groove_midi_files/groove/drummer1/session2/134_afrocuban-bembe_122_fill_4-4.mid.\n",
            "INFO:tensorflow:Converted MIDI file /content/drive/My Drive/Summer_21/dataset/groove_midi_files/groove/drummer1/session2/8_jazz-march_176_beat_4-4.mid.\n",
            "I0627 13:34:05.945380 140075429287808 convert_dir_to_note_sequences.py:153] Converted MIDI file /content/drive/My Drive/Summer_21/dataset/groove_midi_files/groove/drummer1/session2/8_jazz-march_176_beat_4-4.mid.\n",
            "INFO:tensorflow:Converted MIDI file /content/drive/My Drive/Summer_21/dataset/groove_midi_files/groove/drummer1/session2/76_punk_144_fill_4-4.mid.\n",
            "I0627 13:34:08.733648 140075429287808 convert_dir_to_note_sequences.py:153] Converted MIDI file /content/drive/My Drive/Summer_21/dataset/groove_midi_files/groove/drummer1/session2/76_punk_144_fill_4-4.mid.\n",
            "INFO:tensorflow:Converted MIDI file /content/drive/My Drive/Summer_21/dataset/groove_midi_files/groove/drummer1/session2/1_latin-chacarera_157_beat_3-4.mid.\n",
            "I0627 13:34:13.016187 140075429287808 convert_dir_to_note_sequences.py:153] Converted MIDI file /content/drive/My Drive/Summer_21/dataset/groove_midi_files/groove/drummer1/session2/1_latin-chacarera_157_beat_3-4.mid.\n",
            "INFO:tensorflow:Converted MIDI file /content/drive/My Drive/Summer_21/dataset/groove_midi_files/groove/drummer1/session2/17_country_114_fill_4-4.mid.\n",
            "I0627 13:34:15.575749 140075429287808 convert_dir_to_note_sequences.py:153] Converted MIDI file /content/drive/My Drive/Summer_21/dataset/groove_midi_files/groove/drummer1/session2/17_country_114_fill_4-4.mid.\n",
            "INFO:tensorflow:Converted MIDI file /content/drive/My Drive/Summer_21/dataset/groove_midi_files/groove/drummer1/session2/20_country_114_fill_4-4.mid.\n",
            "I0627 13:34:18.384376 140075429287808 convert_dir_to_note_sequences.py:153] Converted MIDI file /content/drive/My Drive/Summer_21/dataset/groove_midi_files/groove/drummer1/session2/20_country_114_fill_4-4.mid.\n",
            "INFO:tensorflow:Converted MIDI file /content/drive/My Drive/Summer_21/dataset/groove_midi_files/groove/drummer1/session2/118_afrocuban-bembe_122_fill_4-4.mid.\n",
            "I0627 13:34:21.689999 140075429287808 convert_dir_to_note_sequences.py:153] Converted MIDI file /content/drive/My Drive/Summer_21/dataset/groove_midi_files/groove/drummer1/session2/118_afrocuban-bembe_122_fill_4-4.mid.\n",
            "INFO:tensorflow:Converted MIDI file /content/drive/My Drive/Summer_21/dataset/groove_midi_files/groove/drummer1/session2/130_afrocuban-bembe_122_fill_4-4.mid.\n",
            "I0627 13:34:23.984253 140075429287808 convert_dir_to_note_sequences.py:153] Converted MIDI file /content/drive/My Drive/Summer_21/dataset/groove_midi_files/groove/drummer1/session2/130_afrocuban-bembe_122_fill_4-4.mid.\n",
            "INFO:tensorflow:Converted MIDI file /content/drive/My Drive/Summer_21/dataset/groove_midi_files/groove/drummer1/session2/141_afrocuban-bembe_122_fill_4-4.mid.\n",
            "I0627 13:34:27.585571 140075429287808 convert_dir_to_note_sequences.py:153] Converted MIDI file /content/drive/My Drive/Summer_21/dataset/groove_midi_files/groove/drummer1/session2/141_afrocuban-bembe_122_fill_4-4.mid.\n",
            "INFO:tensorflow:Converted MIDI file /content/drive/My Drive/Summer_21/dataset/groove_midi_files/groove/drummer1/session2/68_punk_144_fill_4-4.mid.\n",
            "I0627 13:34:29.896806 140075429287808 convert_dir_to_note_sequences.py:153] Converted MIDI file /content/drive/My Drive/Summer_21/dataset/groove_midi_files/groove/drummer1/session2/68_punk_144_fill_4-4.mid.\n",
            "INFO:tensorflow:Converted MIDI file /content/drive/My Drive/Summer_21/dataset/groove_midi_files/groove/drummer1/session2/105_funk-rock_92_fill_4-4.mid.\n",
            "I0627 13:34:33.468245 140075429287808 convert_dir_to_note_sequences.py:153] Converted MIDI file /content/drive/My Drive/Summer_21/dataset/groove_midi_files/groove/drummer1/session2/105_funk-rock_92_fill_4-4.mid.\n",
            "INFO:tensorflow:Converted MIDI file /content/drive/My Drive/Summer_21/dataset/groove_midi_files/groove/drummer1/session2/152_gospel_120_fill_4-4.mid.\n",
            "I0627 13:34:36.043477 140075429287808 convert_dir_to_note_sequences.py:153] Converted MIDI file /content/drive/My Drive/Summer_21/dataset/groove_midi_files/groove/drummer1/session2/152_gospel_120_fill_4-4.mid.\n",
            "INFO:tensorflow:Converted MIDI file /content/drive/My Drive/Summer_21/dataset/groove_midi_files/groove/drummer1/session2/24_country_114_fill_4-4.mid.\n",
            "I0627 13:34:39.452548 140075429287808 convert_dir_to_note_sequences.py:153] Converted MIDI file /content/drive/My Drive/Summer_21/dataset/groove_midi_files/groove/drummer1/session2/24_country_114_fill_4-4.mid.\n",
            "INFO:tensorflow:Converted MIDI file /content/drive/My Drive/Summer_21/dataset/groove_midi_files/groove/drummer1/session2/13_country_114_fill_4-4.mid.\n",
            "I0627 13:34:42.156639 140075429287808 convert_dir_to_note_sequences.py:153] Converted MIDI file /content/drive/My Drive/Summer_21/dataset/groove_midi_files/groove/drummer1/session2/13_country_114_fill_4-4.mid.\n",
            "INFO:tensorflow:Converted MIDI file /content/drive/My Drive/Summer_21/dataset/groove_midi_files/groove/drummer1/session2/61_punk_128_fill_4-4.mid.\n",
            "I0627 13:34:45.456201 140075429287808 convert_dir_to_note_sequences.py:153] Converted MIDI file /content/drive/My Drive/Summer_21/dataset/groove_midi_files/groove/drummer1/session2/61_punk_128_fill_4-4.mid.\n",
            "INFO:tensorflow:Converted MIDI file /content/drive/My Drive/Summer_21/dataset/groove_midi_files/groove/drummer1/session2/142_gospel_120_beat_4-4.mid.\n",
            "I0627 13:34:48.503127 140075429287808 convert_dir_to_note_sequences.py:153] Converted MIDI file /content/drive/My Drive/Summer_21/dataset/groove_midi_files/groove/drummer1/session2/142_gospel_120_beat_4-4.mid.\n",
            "INFO:tensorflow:Converted MIDI file /content/drive/My Drive/Summer_21/dataset/groove_midi_files/groove/drummer1/session2/104_funk-rock_92_fill_4-4.mid.\n",
            "I0627 13:34:51.606866 140075429287808 convert_dir_to_note_sequences.py:153] Converted MIDI file /content/drive/My Drive/Summer_21/dataset/groove_midi_files/groove/drummer1/session2/104_funk-rock_92_fill_4-4.mid.\n",
            "INFO:tensorflow:Converted MIDI file /content/drive/My Drive/Summer_21/dataset/groove_midi_files/groove/drummer1/session2/67_punk_144_fill_4-4.mid.\n",
            "I0627 13:34:54.245117 140075429287808 convert_dir_to_note_sequences.py:153] Converted MIDI file /content/drive/My Drive/Summer_21/dataset/groove_midi_files/groove/drummer1/session2/67_punk_144_fill_4-4.mid.\n",
            "INFO:tensorflow:Converted MIDI file /content/drive/My Drive/Summer_21/dataset/groove_midi_files/groove/drummer1/session2/121_afrocuban-bembe_122_fill_4-4.mid.\n",
            "I0627 13:34:56.935424 140075429287808 convert_dir_to_note_sequences.py:153] Converted MIDI file /content/drive/My Drive/Summer_21/dataset/groove_midi_files/groove/drummer1/session2/121_afrocuban-bembe_122_fill_4-4.mid.\n",
            "INFO:tensorflow:Converted MIDI file /content/drive/My Drive/Summer_21/dataset/groove_midi_files/groove/drummer1/session2/147_gospel_120_fill_4-4.mid.\n",
            "I0627 13:35:00.223763 140075429287808 convert_dir_to_note_sequences.py:153] Converted MIDI file /content/drive/My Drive/Summer_21/dataset/groove_midi_files/groove/drummer1/session2/147_gospel_120_fill_4-4.mid.\n",
            "INFO:tensorflow:Converted MIDI file /content/drive/My Drive/Summer_21/dataset/groove_midi_files/groove/drummer1/session2/116_afrocuban-bembe_122_fill_4-4.mid.\n",
            "I0627 13:35:03.278279 140075429287808 convert_dir_to_note_sequences.py:153] Converted MIDI file /content/drive/My Drive/Summer_21/dataset/groove_midi_files/groove/drummer1/session2/116_afrocuban-bembe_122_fill_4-4.mid.\n",
            "INFO:tensorflow:Converted MIDI file /content/drive/My Drive/Summer_21/dataset/groove_midi_files/groove/drummer1/session2/71_punk_144_fill_4-4.mid.\n",
            "I0627 13:35:06.414671 140075429287808 convert_dir_to_note_sequences.py:153] Converted MIDI file /content/drive/My Drive/Summer_21/dataset/groove_midi_files/groove/drummer1/session2/71_punk_144_fill_4-4.mid.\n",
            "INFO:tensorflow:Converted MIDI file /content/drive/My Drive/Summer_21/dataset/groove_midi_files/groove/drummer1/session2/42_punk_128_fill_4-4.mid.\n",
            "I0627 13:35:09.430562 140075429287808 convert_dir_to_note_sequences.py:153] Converted MIDI file /content/drive/My Drive/Summer_21/dataset/groove_midi_files/groove/drummer1/session2/42_punk_128_fill_4-4.mid.\n",
            "INFO:tensorflow:Converted MIDI file /content/drive/My Drive/Summer_21/dataset/groove_midi_files/groove/drummer1/session2/179_afrocuban-rhumba_110_fill_4-4.mid.\n",
            "I0627 13:35:13.023375 140075429287808 convert_dir_to_note_sequences.py:153] Converted MIDI file /content/drive/My Drive/Summer_21/dataset/groove_midi_files/groove/drummer1/session2/179_afrocuban-rhumba_110_fill_4-4.mid.\n",
            "INFO:tensorflow:Converted MIDI file /content/drive/My Drive/Summer_21/dataset/groove_midi_files/groove/drummer1/session2/34_punk_128_beat_4-4.mid.\n",
            "I0627 13:35:15.396181 140075429287808 convert_dir_to_note_sequences.py:153] Converted MIDI file /content/drive/My Drive/Summer_21/dataset/groove_midi_files/groove/drummer1/session2/34_punk_128_beat_4-4.mid.\n",
            "INFO:tensorflow:Converted MIDI file /content/drive/My Drive/Summer_21/dataset/groove_midi_files/groove/drummer1/session2/85_punk_144_fill_4-4.mid.\n",
            "I0627 13:35:19.202346 140075429287808 convert_dir_to_note_sequences.py:153] Converted MIDI file /content/drive/My Drive/Summer_21/dataset/groove_midi_files/groove/drummer1/session2/85_punk_144_fill_4-4.mid.\n",
            "INFO:tensorflow:Converted MIDI file /content/drive/My Drive/Summer_21/dataset/groove_midi_files/groove/drummer1/session2/185_rock_115_fill_4-4.mid.\n",
            "I0627 13:35:21.783168 140075429287808 convert_dir_to_note_sequences.py:153] Converted MIDI file /content/drive/My Drive/Summer_21/dataset/groove_midi_files/groove/drummer1/session2/185_rock_115_fill_4-4.mid.\n",
            "INFO:tensorflow:Converted MIDI file /content/drive/My Drive/Summer_21/dataset/groove_midi_files/groove/drummer1/session2/30_country_114_fill_4-4.mid.\n",
            "I0627 13:35:25.298676 140075429287808 convert_dir_to_note_sequences.py:153] Converted MIDI file /content/drive/My Drive/Summer_21/dataset/groove_midi_files/groove/drummer1/session2/30_country_114_fill_4-4.mid.\n",
            "INFO:tensorflow:Converted MIDI file /content/drive/My Drive/Summer_21/dataset/groove_midi_files/groove/drummer1/session2/168_afrocuban-rhumba_110_fill_4-4.mid.\n",
            "I0627 13:35:27.894377 140075429287808 convert_dir_to_note_sequences.py:153] Converted MIDI file /content/drive/My Drive/Summer_21/dataset/groove_midi_files/groove/drummer1/session2/168_afrocuban-rhumba_110_fill_4-4.mid.\n",
            "INFO:tensorflow:Converted MIDI file /content/drive/My Drive/Summer_21/dataset/groove_midi_files/groove/drummer1/session2/193_rock_115_fill_4-4.mid.\n",
            "I0627 13:35:31.080543 140075429287808 convert_dir_to_note_sequences.py:153] Converted MIDI file /content/drive/My Drive/Summer_21/dataset/groove_midi_files/groove/drummer1/session2/193_rock_115_fill_4-4.mid.\n",
            "INFO:tensorflow:Converted MIDI file /content/drive/My Drive/Summer_21/dataset/groove_midi_files/groove/drummer1/session2/148_gospel_120_fill_4-4.mid.\n",
            "I0627 13:35:33.504292 140075429287808 convert_dir_to_note_sequences.py:153] Converted MIDI file /content/drive/My Drive/Summer_21/dataset/groove_midi_files/groove/drummer1/session2/148_gospel_120_fill_4-4.mid.\n",
            "INFO:tensorflow:Converted MIDI file /content/drive/My Drive/Summer_21/dataset/groove_midi_files/groove/drummer1/session2/54_punk_128_fill_4-4.mid.\n",
            "I0627 13:35:36.517602 140075429287808 convert_dir_to_note_sequences.py:153] Converted MIDI file /content/drive/My Drive/Summer_21/dataset/groove_midi_files/groove/drummer1/session2/54_punk_128_fill_4-4.mid.\n",
            "INFO:tensorflow:Converted MIDI file /content/drive/My Drive/Summer_21/dataset/groove_midi_files/groove/drummer1/session2/79_punk_144_fill_4-4.mid.\n",
            "I0627 13:35:39.490364 140075429287808 convert_dir_to_note_sequences.py:153] Converted MIDI file /content/drive/My Drive/Summer_21/dataset/groove_midi_files/groove/drummer1/session2/79_punk_144_fill_4-4.mid.\n",
            "INFO:tensorflow:Converted MIDI file /content/drive/My Drive/Summer_21/dataset/groove_midi_files/groove/drummer1/session2/174_afrocuban-rhumba_110_fill_4-4.mid.\n",
            "I0627 13:35:43.488315 140075429287808 convert_dir_to_note_sequences.py:153] Converted MIDI file /content/drive/My Drive/Summer_21/dataset/groove_midi_files/groove/drummer1/session2/174_afrocuban-rhumba_110_fill_4-4.mid.\n",
            "INFO:tensorflow:Converted MIDI file /content/drive/My Drive/Summer_21/dataset/groove_midi_files/groove/drummer1/session2/165_afrocuban-rhumba_110_fill_4-4.mid.\n",
            "I0627 13:35:46.031660 140075429287808 convert_dir_to_note_sequences.py:153] Converted MIDI file /content/drive/My Drive/Summer_21/dataset/groove_midi_files/groove/drummer1/session2/165_afrocuban-rhumba_110_fill_4-4.mid.\n",
            "INFO:tensorflow:Converted MIDI file /content/drive/My Drive/Summer_21/dataset/groove_midi_files/groove/drummer1/session2/97_funk-rock_92_fill_4-4.mid.\n",
            "I0627 13:35:48.906846 140075429287808 convert_dir_to_note_sequences.py:153] Converted MIDI file /content/drive/My Drive/Summer_21/dataset/groove_midi_files/groove/drummer1/session2/97_funk-rock_92_fill_4-4.mid.\n",
            "INFO:tensorflow:Converted MIDI file /content/drive/My Drive/Summer_21/dataset/groove_midi_files/groove/drummer1/session2/154_gospel_120_fill_4-4.mid.\n",
            "I0627 13:35:52.245091 140075429287808 convert_dir_to_note_sequences.py:153] Converted MIDI file /content/drive/My Drive/Summer_21/dataset/groove_midi_files/groove/drummer1/session2/154_gospel_120_fill_4-4.mid.\n",
            "INFO:tensorflow:Converted MIDI file /content/drive/My Drive/Summer_21/dataset/groove_midi_files/groove/drummer1/session2/125_afrocuban-bembe_122_fill_4-4.mid.\n",
            "I0627 13:35:54.680321 140075429287808 convert_dir_to_note_sequences.py:153] Converted MIDI file /content/drive/My Drive/Summer_21/dataset/groove_midi_files/groove/drummer1/session2/125_afrocuban-bembe_122_fill_4-4.mid.\n",
            "INFO:tensorflow:Converted MIDI file /content/drive/My Drive/Summer_21/dataset/groove_midi_files/groove/drummer1/session2/87_punk_144_fill_4-4.mid.\n",
            "I0627 13:35:58.292491 140075429287808 convert_dir_to_note_sequences.py:153] Converted MIDI file /content/drive/My Drive/Summer_21/dataset/groove_midi_files/groove/drummer1/session2/87_punk_144_fill_4-4.mid.\n",
            "INFO:tensorflow:Converted MIDI file /content/drive/My Drive/Summer_21/dataset/groove_midi_files/groove/drummer1/session2/36_punk_128_beat_4-4.mid.\n",
            "I0627 13:36:02.563270 140075429287808 convert_dir_to_note_sequences.py:153] Converted MIDI file /content/drive/My Drive/Summer_21/dataset/groove_midi_files/groove/drummer1/session2/36_punk_128_beat_4-4.mid.\n",
            "INFO:tensorflow:Converted MIDI file /content/drive/My Drive/Summer_21/dataset/groove_midi_files/groove/drummer1/session2/40_punk_128_fill_4-4.mid.\n",
            "I0627 13:36:05.698001 140075429287808 convert_dir_to_note_sequences.py:153] Converted MIDI file /content/drive/My Drive/Summer_21/dataset/groove_midi_files/groove/drummer1/session2/40_punk_128_fill_4-4.mid.\n",
            "INFO:tensorflow:Converted MIDI file /content/drive/My Drive/Summer_21/dataset/groove_midi_files/groove/drummer1/session2/10_country_114_beat_4-4.mid.\n",
            "I0627 13:36:08.911195 140075429287808 convert_dir_to_note_sequences.py:153] Converted MIDI file /content/drive/My Drive/Summer_21/dataset/groove_midi_files/groove/drummer1/session2/10_country_114_beat_4-4.mid.\n",
            "INFO:tensorflow:Converted MIDI file /content/drive/My Drive/Summer_21/dataset/groove_midi_files/groove/drummer1/session2/132_afrocuban-bembe_122_fill_4-4.mid.\n",
            "I0627 13:36:12.452922 140075429287808 convert_dir_to_note_sequences.py:153] Converted MIDI file /content/drive/My Drive/Summer_21/dataset/groove_midi_files/groove/drummer1/session2/132_afrocuban-bembe_122_fill_4-4.mid.\n",
            "INFO:tensorflow:Converted MIDI file /content/drive/My Drive/Summer_21/dataset/groove_midi_files/groove/drummer1/session2/187_rock_115_fill_4-4.mid.\n",
            "I0627 13:36:14.786489 140075429287808 convert_dir_to_note_sequences.py:153] Converted MIDI file /content/drive/My Drive/Summer_21/dataset/groove_midi_files/groove/drummer1/session2/187_rock_115_fill_4-4.mid.\n",
            "INFO:tensorflow:Converted MIDI file /content/drive/My Drive/Summer_21/dataset/groove_midi_files/groove/drummer1/session2/191_rock_115_fill_4-4.mid.\n",
            "I0627 13:36:18.498327 140075429287808 convert_dir_to_note_sequences.py:153] Converted MIDI file /content/drive/My Drive/Summer_21/dataset/groove_midi_files/groove/drummer1/session2/191_rock_115_fill_4-4.mid.\n",
            "INFO:tensorflow:Converted MIDI file /content/drive/My Drive/Summer_21/dataset/groove_midi_files/groove/drummer1/session2/56_punk_128_fill_4-4.mid.\n",
            "I0627 13:36:21.090896 140075429287808 convert_dir_to_note_sequences.py:153] Converted MIDI file /content/drive/My Drive/Summer_21/dataset/groove_midi_files/groove/drummer1/session2/56_punk_128_fill_4-4.mid.\n",
            "INFO:tensorflow:Converted MIDI file /content/drive/My Drive/Summer_21/dataset/groove_midi_files/groove/drummer1/session2/38_punk_128_fill_4-4.mid.\n",
            "I0627 13:36:25.279599 140075429287808 convert_dir_to_note_sequences.py:153] Converted MIDI file /content/drive/My Drive/Summer_21/dataset/groove_midi_files/groove/drummer1/session2/38_punk_128_fill_4-4.mid.\n",
            "INFO:tensorflow:Converted MIDI file /content/drive/My Drive/Summer_21/dataset/groove_midi_files/groove/drummer1/session2/26_country_114_fill_4-4.mid.\n",
            "I0627 13:36:28.761182 140075429287808 convert_dir_to_note_sequences.py:153] Converted MIDI file /content/drive/My Drive/Summer_21/dataset/groove_midi_files/groove/drummer1/session2/26_country_114_fill_4-4.mid.\n",
            "INFO:tensorflow:Converted MIDI file /content/drive/My Drive/Summer_21/dataset/groove_midi_files/groove/drummer1/session2/11_country_114_fill_4-4.mid.\n",
            "I0627 13:36:31.610217 140075429287808 convert_dir_to_note_sequences.py:153] Converted MIDI file /content/drive/My Drive/Summer_21/dataset/groove_midi_files/groove/drummer1/session2/11_country_114_fill_4-4.mid.\n",
            "INFO:tensorflow:Converted MIDI file /content/drive/My Drive/Summer_21/dataset/groove_midi_files/groove/drummer1/session2/65_punk_144_fill_4-4.mid.\n",
            "I0627 13:36:34.548324 140075429287808 convert_dir_to_note_sequences.py:153] Converted MIDI file /content/drive/My Drive/Summer_21/dataset/groove_midi_files/groove/drummer1/session2/65_punk_144_fill_4-4.mid.\n",
            "INFO:tensorflow:Converted MIDI file /content/drive/My Drive/Summer_21/dataset/groove_midi_files/groove/drummer1/session2/98_funk-rock_92_fill_4-4.mid.\n",
            "I0627 13:36:37.782835 140075429287808 convert_dir_to_note_sequences.py:153] Converted MIDI file /content/drive/My Drive/Summer_21/dataset/groove_midi_files/groove/drummer1/session2/98_funk-rock_92_fill_4-4.mid.\n",
            "INFO:tensorflow:Converted MIDI file /content/drive/My Drive/Summer_21/dataset/groove_midi_files/groove/drummer1/session2/167_afrocuban-rhumba_110_fill_4-4.mid.\n",
            "I0627 13:36:40.556811 140075429287808 convert_dir_to_note_sequences.py:153] Converted MIDI file /content/drive/My Drive/Summer_21/dataset/groove_midi_files/groove/drummer1/session2/167_afrocuban-rhumba_110_fill_4-4.mid.\n",
            "INFO:tensorflow:Converted MIDI file /content/drive/My Drive/Summer_21/dataset/groove_midi_files/groove/drummer1/session2/143_gospel_120_fill_4-4.mid.\n",
            "I0627 13:36:43.925691 140075429287808 convert_dir_to_note_sequences.py:153] Converted MIDI file /content/drive/My Drive/Summer_21/dataset/groove_midi_files/groove/drummer1/session2/143_gospel_120_fill_4-4.mid.\n",
            "INFO:tensorflow:Converted MIDI file /content/drive/My Drive/Summer_21/dataset/groove_midi_files/groove/drummer1/session2/176_afrocuban-rhumba_110_fill_4-4.mid.\n",
            "I0627 13:36:47.609369 140075429287808 convert_dir_to_note_sequences.py:153] Converted MIDI file /content/drive/My Drive/Summer_21/dataset/groove_midi_files/groove/drummer1/session2/176_afrocuban-rhumba_110_fill_4-4.mid.\n",
            "INFO:tensorflow:Converted MIDI file /content/drive/My Drive/Summer_21/dataset/groove_midi_files/groove/drummer1/session2/15_country_114_fill_4-4.mid.\n",
            "I0627 13:36:50.713687 140075429287808 convert_dir_to_note_sequences.py:153] Converted MIDI file /content/drive/My Drive/Summer_21/dataset/groove_midi_files/groove/drummer1/session2/15_country_114_fill_4-4.mid.\n",
            "INFO:tensorflow:Converted MIDI file /content/drive/My Drive/Summer_21/dataset/groove_midi_files/groove/drummer1/session2/73_punk_144_fill_4-4.mid.\n",
            "I0627 13:36:53.924898 140075429287808 convert_dir_to_note_sequences.py:153] Converted MIDI file /content/drive/My Drive/Summer_21/dataset/groove_midi_files/groove/drummer1/session2/73_punk_144_fill_4-4.mid.\n",
            "INFO:tensorflow:Converted MIDI file /content/drive/My Drive/Summer_21/dataset/groove_midi_files/groove/drummer1/session2/22_country_114_fill_4-4.mid.\n",
            "I0627 13:36:57.094059 140075429287808 convert_dir_to_note_sequences.py:153] Converted MIDI file /content/drive/My Drive/Summer_21/dataset/groove_midi_files/groove/drummer1/session2/22_country_114_fill_4-4.mid.\n",
            "INFO:tensorflow:Converted MIDI file /content/drive/My Drive/Summer_21/dataset/groove_midi_files/groove/drummer1/session2/181_rock_115_beat_4-4.mid.\n",
            "I0627 13:37:00.596558 140075429287808 convert_dir_to_note_sequences.py:153] Converted MIDI file /content/drive/My Drive/Summer_21/dataset/groove_midi_files/groove/drummer1/session2/181_rock_115_beat_4-4.mid.\n",
            "INFO:tensorflow:Converted MIDI file /content/drive/My Drive/Summer_21/dataset/groove_midi_files/groove/drummer1/session2/19_country_114_fill_4-4.mid.\n",
            "I0627 13:37:03.333445 140075429287808 convert_dir_to_note_sequences.py:153] Converted MIDI file /content/drive/My Drive/Summer_21/dataset/groove_midi_files/groove/drummer1/session2/19_country_114_fill_4-4.mid.\n",
            "INFO:tensorflow:Converted MIDI file /content/drive/My Drive/Summer_21/dataset/groove_midi_files/groove/drummer1/session2/48_punk_128_fill_4-4.mid.\n",
            "I0627 13:37:06.292439 140075429287808 convert_dir_to_note_sequences.py:153] Converted MIDI file /content/drive/My Drive/Summer_21/dataset/groove_midi_files/groove/drummer1/session2/48_punk_128_fill_4-4.mid.\n",
            "INFO:tensorflow:Converted MIDI file /content/drive/My Drive/Summer_21/dataset/groove_midi_files/groove/drummer1/session2/150_gospel_120_fill_4-4.mid.\n",
            "I0627 13:37:10.107691 140075429287808 convert_dir_to_note_sequences.py:153] Converted MIDI file /content/drive/My Drive/Summer_21/dataset/groove_midi_files/groove/drummer1/session2/150_gospel_120_fill_4-4.mid.\n",
            "INFO:tensorflow:Converted MIDI file /content/drive/My Drive/Summer_21/dataset/groove_midi_files/groove/drummer1/session2/32_punk_140_beat_4-4.mid.\n",
            "I0627 13:37:13.346071 140075429287808 convert_dir_to_note_sequences.py:153] Converted MIDI file /content/drive/My Drive/Summer_21/dataset/groove_midi_files/groove/drummer1/session2/32_punk_140_beat_4-4.mid.\n",
            "INFO:tensorflow:Converted MIDI file /content/drive/My Drive/Summer_21/dataset/groove_midi_files/groove/drummer1/session2/129_afrocuban-bembe_122_fill_4-4.mid.\n",
            "I0627 13:37:16.887803 140075429287808 convert_dir_to_note_sequences.py:153] Converted MIDI file /content/drive/My Drive/Summer_21/dataset/groove_midi_files/groove/drummer1/session2/129_afrocuban-bembe_122_fill_4-4.mid.\n",
            "INFO:tensorflow:Converted MIDI file /content/drive/My Drive/Summer_21/dataset/groove_midi_files/groove/drummer1/session2/111_rock-prog_110_beat_5-4.mid.\n",
            "I0627 13:37:20.026440 140075429287808 convert_dir_to_note_sequences.py:153] Converted MIDI file /content/drive/My Drive/Summer_21/dataset/groove_midi_files/groove/drummer1/session2/111_rock-prog_110_beat_5-4.mid.\n",
            "INFO:tensorflow:Converted MIDI file /content/drive/My Drive/Summer_21/dataset/groove_midi_files/groove/drummer1/session2/136_afrocuban-bembe_122_fill_4-4.mid.\n",
            "I0627 13:37:23.150572 140075429287808 convert_dir_to_note_sequences.py:153] Converted MIDI file /content/drive/My Drive/Summer_21/dataset/groove_midi_files/groove/drummer1/session2/136_afrocuban-bembe_122_fill_4-4.mid.\n",
            "INFO:tensorflow:Converted MIDI file /content/drive/My Drive/Summer_21/dataset/groove_midi_files/groove/drummer1/session2/103_funk-rock_92_fill_4-4.mid.\n",
            "I0627 13:37:26.268863 140075429287808 convert_dir_to_note_sequences.py:153] Converted MIDI file /content/drive/My Drive/Summer_21/dataset/groove_midi_files/groove/drummer1/session2/103_funk-rock_92_fill_4-4.mid.\n",
            "INFO:tensorflow:Converted MIDI file /content/drive/My Drive/Summer_21/dataset/groove_midi_files/groove/drummer1/session2/14_country_114_fill_4-4.mid.\n",
            "I0627 13:37:29.350120 140075429287808 convert_dir_to_note_sequences.py:153] Converted MIDI file /content/drive/My Drive/Summer_21/dataset/groove_midi_files/groove/drummer1/session2/14_country_114_fill_4-4.mid.\n",
            "INFO:tensorflow:Converted MIDI file /content/drive/My Drive/Summer_21/dataset/groove_midi_files/groove/drummer1/session2/23_country_114_fill_4-4.mid.\n",
            "I0627 13:37:31.845563 140075429287808 convert_dir_to_note_sequences.py:153] Converted MIDI file /content/drive/My Drive/Summer_21/dataset/groove_midi_files/groove/drummer1/session2/23_country_114_fill_4-4.mid.\n",
            "INFO:tensorflow:Converted MIDI file /content/drive/My Drive/Summer_21/dataset/groove_midi_files/groove/drummer1/session2/119_afrocuban-bembe_122_fill_4-4.mid.\n",
            "I0627 13:37:35.556264 140075429287808 convert_dir_to_note_sequences.py:153] Converted MIDI file /content/drive/My Drive/Summer_21/dataset/groove_midi_files/groove/drummer1/session2/119_afrocuban-bembe_122_fill_4-4.mid.\n",
            "INFO:tensorflow:Converted MIDI file /content/drive/My Drive/Summer_21/dataset/groove_midi_files/groove/drummer1/session2/106_funk-rock_92_fill_4-4.mid.\n",
            "I0627 13:37:37.976751 140075429287808 convert_dir_to_note_sequences.py:153] Converted MIDI file /content/drive/My Drive/Summer_21/dataset/groove_midi_files/groove/drummer1/session2/106_funk-rock_92_fill_4-4.mid.\n",
            "INFO:tensorflow:Converted MIDI file /content/drive/My Drive/Summer_21/dataset/groove_midi_files/groove/drummer1/session2/153_gospel_120_fill_4-4.mid.\n",
            "I0627 13:37:41.513047 140075429287808 convert_dir_to_note_sequences.py:153] Converted MIDI file /content/drive/My Drive/Summer_21/dataset/groove_midi_files/groove/drummer1/session2/153_gospel_120_fill_4-4.mid.\n",
            "INFO:tensorflow:Converted MIDI file /content/drive/My Drive/Summer_21/dataset/groove_midi_files/groove/drummer1/session2/140_afrocuban-bembe_122_fill_4-4.mid.\n",
            "I0627 13:37:44.548585 140075429287808 convert_dir_to_note_sequences.py:153] Converted MIDI file /content/drive/My Drive/Summer_21/dataset/groove_midi_files/groove/drummer1/session2/140_afrocuban-bembe_122_fill_4-4.mid.\n",
            "INFO:tensorflow:Converted MIDI file /content/drive/My Drive/Summer_21/dataset/groove_midi_files/groove/drummer1/session2/131_afrocuban-bembe_122_fill_4-4.mid.\n",
            "I0627 13:37:48.666832 140075429287808 convert_dir_to_note_sequences.py:153] Converted MIDI file /content/drive/My Drive/Summer_21/dataset/groove_midi_files/groove/drummer1/session2/131_afrocuban-bembe_122_fill_4-4.mid.\n",
            "INFO:tensorflow:Converted MIDI file /content/drive/My Drive/Summer_21/dataset/groove_midi_files/groove/drummer1/session2/90_funk-rock_92_beat_4-4.mid.\n",
            "I0627 13:37:51.363189 140075429287808 convert_dir_to_note_sequences.py:153] Converted MIDI file /content/drive/My Drive/Summer_21/dataset/groove_midi_files/groove/drummer1/session2/90_funk-rock_92_beat_4-4.mid.\n",
            "INFO:tensorflow:Converted MIDI file /content/drive/My Drive/Summer_21/dataset/groove_midi_files/groove/drummer1/session2/27_country_114_fill_4-4.mid.\n",
            "I0627 13:37:54.915081 140075429287808 convert_dir_to_note_sequences.py:153] Converted MIDI file /content/drive/My Drive/Summer_21/dataset/groove_midi_files/groove/drummer1/session2/27_country_114_fill_4-4.mid.\n",
            "INFO:tensorflow:Converted MIDI file /content/drive/My Drive/Summer_21/dataset/groove_midi_files/groove/drummer1/session2/169_afrocuban-rhumba_110_fill_4-4.mid.\n",
            "I0627 13:37:57.242221 140075429287808 convert_dir_to_note_sequences.py:153] Converted MIDI file /content/drive/My Drive/Summer_21/dataset/groove_midi_files/groove/drummer1/session2/169_afrocuban-rhumba_110_fill_4-4.mid.\n",
            "INFO:tensorflow:Converted MIDI file /content/drive/My Drive/Summer_21/dataset/groove_midi_files/groove/drummer1/session2/58_punk_128_fill_4-4.mid.\n",
            "I0627 13:38:00.816568 140075429287808 convert_dir_to_note_sequences.py:153] Converted MIDI file /content/drive/My Drive/Summer_21/dataset/groove_midi_files/groove/drummer1/session2/58_punk_128_fill_4-4.mid.\n",
            "INFO:tensorflow:Converted MIDI file /content/drive/My Drive/Summer_21/dataset/groove_midi_files/groove/drummer1/session2/89_punk_144_fill_4-4.mid.\n",
            "I0627 13:38:03.169168 140075429287808 convert_dir_to_note_sequences.py:153] Converted MIDI file /content/drive/My Drive/Summer_21/dataset/groove_midi_files/groove/drummer1/session2/89_punk_144_fill_4-4.mid.\n",
            "INFO:tensorflow:Converted MIDI file /content/drive/My Drive/Summer_21/dataset/groove_midi_files/groove/drummer1/session2/178_afrocuban-rhumba_110_fill_4-4.mid.\n",
            "I0627 13:38:08.374149 140075429287808 convert_dir_to_note_sequences.py:153] Converted MIDI file /content/drive/My Drive/Summer_21/dataset/groove_midi_files/groove/drummer1/session2/178_afrocuban-rhumba_110_fill_4-4.mid.\n",
            "INFO:tensorflow:Converted MIDI file /content/drive/My Drive/Summer_21/dataset/groove_midi_files/groove/drummer1/session2/189_rock_115_fill_4-4.mid.\n",
            "I0627 13:38:10.585078 140075429287808 convert_dir_to_note_sequences.py:153] Converted MIDI file /content/drive/My Drive/Summer_21/dataset/groove_midi_files/groove/drummer1/session2/189_rock_115_fill_4-4.mid.\n",
            "INFO:tensorflow:Converted MIDI file /content/drive/My Drive/Summer_21/dataset/groove_midi_files/groove/drummer1/session2/164_afrocuban-rhumba_110_fill_4-4.mid.\n",
            "I0627 13:38:13.621595 140075429287808 convert_dir_to_note_sequences.py:153] Converted MIDI file /content/drive/My Drive/Summer_21/dataset/groove_midi_files/groove/drummer1/session2/164_afrocuban-rhumba_110_fill_4-4.mid.\n",
            "INFO:tensorflow:Converted MIDI file /content/drive/My Drive/Summer_21/dataset/groove_midi_files/groove/drummer1/session2/63_punk_144_fill_4-4.mid.\n",
            "I0627 13:38:16.820766 140075429287808 convert_dir_to_note_sequences.py:153] Converted MIDI file /content/drive/My Drive/Summer_21/dataset/groove_midi_files/groove/drummer1/session2/63_punk_144_fill_4-4.mid.\n",
            "INFO:tensorflow:Converted MIDI file /content/drive/My Drive/Summer_21/dataset/groove_midi_files/groove/drummer1/session2/75_punk_144_fill_4-4.mid.\n",
            "I0627 13:38:20.242490 140075429287808 convert_dir_to_note_sequences.py:153] Converted MIDI file /content/drive/My Drive/Summer_21/dataset/groove_midi_files/groove/drummer1/session2/75_punk_144_fill_4-4.mid.\n",
            "INFO:tensorflow:Converted MIDI file /content/drive/My Drive/Summer_21/dataset/groove_midi_files/groove/drummer1/session2/175_afrocuban-rhumba_110_fill_4-4.mid.\n",
            "I0627 13:38:23.616679 140075429287808 convert_dir_to_note_sequences.py:153] Converted MIDI file /content/drive/My Drive/Summer_21/dataset/groove_midi_files/groove/drummer1/session2/175_afrocuban-rhumba_110_fill_4-4.mid.\n",
            "INFO:tensorflow:Converted MIDI file /content/drive/My Drive/Summer_21/dataset/groove_midi_files/groove/drummer1/session2/18_country_114_fill_4-4.mid.\n",
            "I0627 13:38:26.909328 140075429287808 convert_dir_to_note_sequences.py:153] Converted MIDI file /content/drive/My Drive/Summer_21/dataset/groove_midi_files/groove/drummer1/session2/18_country_114_fill_4-4.mid.\n",
            "INFO:tensorflow:Converted MIDI file /content/drive/My Drive/Summer_21/dataset/groove_midi_files/groove/drummer1/session2/81_punk_144_fill_4-4.mid.\n",
            "I0627 13:38:30.735620 140075429287808 convert_dir_to_note_sequences.py:153] Converted MIDI file /content/drive/My Drive/Summer_21/dataset/groove_midi_files/groove/drummer1/session2/81_punk_144_fill_4-4.mid.\n",
            "INFO:tensorflow:Converted MIDI file /content/drive/My Drive/Summer_21/dataset/groove_midi_files/groove/drummer1/session2/135_afrocuban-bembe_122_fill_4-4.mid.\n",
            "I0627 13:38:33.809791 140075429287808 convert_dir_to_note_sequences.py:153] Converted MIDI file /content/drive/My Drive/Summer_21/dataset/groove_midi_files/groove/drummer1/session2/135_afrocuban-bembe_122_fill_4-4.mid.\n",
            "INFO:tensorflow:Converted MIDI file /content/drive/My Drive/Summer_21/dataset/groove_midi_files/groove/drummer1/session2/46_punk_128_fill_4-4.mid.\n",
            "I0627 13:38:37.088655 140075429287808 convert_dir_to_note_sequences.py:153] Converted MIDI file /content/drive/My Drive/Summer_21/dataset/groove_midi_files/groove/drummer1/session2/46_punk_128_fill_4-4.mid.\n",
            "INFO:tensorflow:Converted MIDI file /content/drive/My Drive/Summer_21/dataset/groove_midi_files/groove/drummer1/session2/50_punk_128_fill_4-4.mid.\n",
            "I0627 13:38:40.271853 140075429287808 convert_dir_to_note_sequences.py:153] Converted MIDI file /content/drive/My Drive/Summer_21/dataset/groove_midi_files/groove/drummer1/session2/50_punk_128_fill_4-4.mid.\n",
            "INFO:tensorflow:Converted MIDI file /content/drive/My Drive/Summer_21/dataset/groove_midi_files/groove/drummer1/session2/197_rock_115_fill_4-4.mid.\n",
            "I0627 13:38:43.054299 140075429287808 convert_dir_to_note_sequences.py:153] Converted MIDI file /content/drive/My Drive/Summer_21/dataset/groove_midi_files/groove/drummer1/session2/197_rock_115_fill_4-4.mid.\n",
            "INFO:tensorflow:Converted MIDI file /content/drive/My Drive/Summer_21/dataset/groove_midi_files/groove/drummer1/session2/95_funk-rock_92_fill_4-4.mid.\n",
            "I0627 13:38:46.148343 140075429287808 convert_dir_to_note_sequences.py:153] Converted MIDI file /content/drive/My Drive/Summer_21/dataset/groove_midi_files/groove/drummer1/session2/95_funk-rock_92_fill_4-4.mid.\n",
            "INFO:tensorflow:Converted MIDI file /content/drive/My Drive/Summer_21/dataset/groove_midi_files/groove/drummer1/session2/92_funk-rock_92_fill_4-4.mid.\n",
            "I0627 13:38:48.868360 140075429287808 convert_dir_to_note_sequences.py:153] Converted MIDI file /content/drive/My Drive/Summer_21/dataset/groove_midi_files/groove/drummer1/session2/92_funk-rock_92_fill_4-4.mid.\n",
            "INFO:tensorflow:Converted MIDI file /content/drive/My Drive/Summer_21/dataset/groove_midi_files/groove/drummer1/session2/158_gospel_120_fill_4-4.mid.\n",
            "I0627 13:38:52.344558 140075429287808 convert_dir_to_note_sequences.py:153] Converted MIDI file /content/drive/My Drive/Summer_21/dataset/groove_midi_files/groove/drummer1/session2/158_gospel_120_fill_4-4.mid.\n",
            "INFO:tensorflow:Converted MIDI file /content/drive/My Drive/Summer_21/dataset/groove_midi_files/groove/drummer1/session2/31_country_114_fill_4-4.mid.\n",
            "I0627 13:38:55.149352 140075429287808 convert_dir_to_note_sequences.py:153] Converted MIDI file /content/drive/My Drive/Summer_21/dataset/groove_midi_files/groove/drummer1/session2/31_country_114_fill_4-4.mid.\n",
            "INFO:tensorflow:Converted MIDI file /content/drive/My Drive/Summer_21/dataset/groove_midi_files/groove/drummer1/session2/122_afrocuban-bembe_122_fill_4-4.mid.\n",
            "I0627 13:38:58.819531 140075429287808 convert_dir_to_note_sequences.py:153] Converted MIDI file /content/drive/My Drive/Summer_21/dataset/groove_midi_files/groove/drummer1/session2/122_afrocuban-bembe_122_fill_4-4.mid.\n",
            "INFO:tensorflow:Converted MIDI file /content/drive/My Drive/Summer_21/dataset/groove_midi_files/groove/drummer1/session2/115_afrocuban-bembe_122_fill_4-4.mid.\n",
            "I0627 13:39:01.484657 140075429287808 convert_dir_to_note_sequences.py:153] Converted MIDI file /content/drive/My Drive/Summer_21/dataset/groove_midi_files/groove/drummer1/session2/115_afrocuban-bembe_122_fill_4-4.mid.\n",
            "INFO:tensorflow:Converted MIDI file /content/drive/My Drive/Summer_21/dataset/groove_midi_files/groove/drummer1/session2/177_afrocuban-rhumba_110_fill_4-4.mid.\n",
            "I0627 13:39:05.350209 140075429287808 convert_dir_to_note_sequences.py:153] Converted MIDI file /content/drive/My Drive/Summer_21/dataset/groove_midi_files/groove/drummer1/session2/177_afrocuban-rhumba_110_fill_4-4.mid.\n",
            "INFO:tensorflow:Converted MIDI file /content/drive/My Drive/Summer_21/dataset/groove_midi_files/groove/drummer1/session2/60_punk_128_fill_4-4.mid.\n",
            "I0627 13:39:07.708809 140075429287808 convert_dir_to_note_sequences.py:153] Converted MIDI file /content/drive/My Drive/Summer_21/dataset/groove_midi_files/groove/drummer1/session2/60_punk_128_fill_4-4.mid.\n",
            "INFO:tensorflow:Converted MIDI file /content/drive/My Drive/Summer_21/dataset/groove_midi_files/groove/drummer1/session2/2_latin-chacarera_118_beat_4-4.mid.\n",
            "I0627 13:39:11.653092 140075429287808 convert_dir_to_note_sequences.py:153] Converted MIDI file /content/drive/My Drive/Summer_21/dataset/groove_midi_files/groove/drummer1/session2/2_latin-chacarera_118_beat_4-4.mid.\n",
            "INFO:tensorflow:Converted MIDI file /content/drive/My Drive/Summer_21/dataset/groove_midi_files/groove/drummer1/session2/166_afrocuban-rhumba_110_fill_4-4.mid.\n",
            "I0627 13:39:13.853373 140075429287808 convert_dir_to_note_sequences.py:153] Converted MIDI file /content/drive/My Drive/Summer_21/dataset/groove_midi_files/groove/drummer1/session2/166_afrocuban-rhumba_110_fill_4-4.mid.\n",
            "INFO:tensorflow:Converted MIDI file /content/drive/My Drive/Summer_21/dataset/groove_midi_files/groove/drummer1/session2/69_punk_144_fill_4-4.mid.\n",
            "I0627 13:39:17.693828 140075429287808 convert_dir_to_note_sequences.py:153] Converted MIDI file /content/drive/My Drive/Summer_21/dataset/groove_midi_files/groove/drummer1/session2/69_punk_144_fill_4-4.mid.\n",
            "INFO:tensorflow:Converted MIDI file /content/drive/My Drive/Summer_21/dataset/groove_midi_files/groove/drummer1/session2/157_gospel_120_fill_4-4.mid.\n",
            "I0627 13:39:20.192704 140075429287808 convert_dir_to_note_sequences.py:153] Converted MIDI file /content/drive/My Drive/Summer_21/dataset/groove_midi_files/groove/drummer1/session2/157_gospel_120_fill_4-4.mid.\n",
            "INFO:tensorflow:Converted MIDI file /content/drive/My Drive/Summer_21/dataset/groove_midi_files/groove/drummer1/session2/183_rock_115_fill_4-4.mid.\n",
            "I0627 13:39:23.541275 140075429287808 convert_dir_to_note_sequences.py:153] Converted MIDI file /content/drive/My Drive/Summer_21/dataset/groove_midi_files/groove/drummer1/session2/183_rock_115_fill_4-4.mid.\n",
            "INFO:tensorflow:Converted MIDI file /content/drive/My Drive/Summer_21/dataset/groove_midi_files/groove/drummer1/session2/144_gospel_120_fill_4-4.mid.\n",
            "I0627 13:39:26.249966 140075429287808 convert_dir_to_note_sequences.py:153] Converted MIDI file /content/drive/My Drive/Summer_21/dataset/groove_midi_files/groove/drummer1/session2/144_gospel_120_fill_4-4.mid.\n",
            "INFO:tensorflow:Converted MIDI file /content/drive/My Drive/Summer_21/dataset/groove_midi_files/groove/drummer1/session2/44_punk_128_fill_4-4.mid.\n",
            "I0627 13:39:29.211218 140075429287808 convert_dir_to_note_sequences.py:153] Converted MIDI file /content/drive/My Drive/Summer_21/dataset/groove_midi_files/groove/drummer1/session2/44_punk_128_fill_4-4.mid.\n",
            "INFO:tensorflow:Converted MIDI file /content/drive/My Drive/Summer_21/dataset/groove_midi_files/groove/drummer1/session2/83_punk_144_fill_4-4.mid.\n",
            "I0627 13:39:32.105419 140075429287808 convert_dir_to_note_sequences.py:153] Converted MIDI file /content/drive/My Drive/Summer_21/dataset/groove_midi_files/groove/drummer1/session2/83_punk_144_fill_4-4.mid.\n",
            "INFO:tensorflow:Converted MIDI file /content/drive/My Drive/Summer_21/dataset/groove_midi_files/groove/drummer1/session2/9_jazz-march_120_beat_4-4.mid.\n",
            "I0627 13:39:36.648481 140075429287808 convert_dir_to_note_sequences.py:153] Converted MIDI file /content/drive/My Drive/Summer_21/dataset/groove_midi_files/groove/drummer1/session2/9_jazz-march_120_beat_4-4.mid.\n",
            "INFO:tensorflow:Converted MIDI file /content/drive/My Drive/Summer_21/dataset/groove_midi_files/groove/drummer1/session2/52_punk_128_fill_4-4.mid.\n",
            "I0627 13:39:39.175790 140075429287808 convert_dir_to_note_sequences.py:153] Converted MIDI file /content/drive/My Drive/Summer_21/dataset/groove_midi_files/groove/drummer1/session2/52_punk_128_fill_4-4.mid.\n",
            "INFO:tensorflow:Converted MIDI file /content/drive/My Drive/Summer_21/dataset/groove_midi_files/groove/drummer1/session2/112_afrocuban-bembe_122_beat_4-4.mid.\n",
            "I0627 13:39:43.293642 140075429287808 convert_dir_to_note_sequences.py:153] Converted MIDI file /content/drive/My Drive/Summer_21/dataset/groove_midi_files/groove/drummer1/session2/112_afrocuban-bembe_122_beat_4-4.mid.\n",
            "INFO:tensorflow:Converted MIDI file /content/drive/My Drive/Summer_21/dataset/groove_midi_files/groove/drummer1/session2/109_funk-rock_92_fill_4-4.mid.\n",
            "I0627 13:39:46.159380 140075429287808 convert_dir_to_note_sequences.py:153] Converted MIDI file /content/drive/My Drive/Summer_21/dataset/groove_midi_files/groove/drummer1/session2/109_funk-rock_92_fill_4-4.mid.\n",
            "INFO:tensorflow:Converted MIDI file /content/drive/My Drive/Summer_21/dataset/groove_midi_files/groove/drummer1/session2/195_rock_115_fill_4-4.mid.\n",
            "I0627 13:39:49.364572 140075429287808 convert_dir_to_note_sequences.py:153] Converted MIDI file /content/drive/My Drive/Summer_21/dataset/groove_midi_files/groove/drummer1/session2/195_rock_115_fill_4-4.mid.\n",
            "INFO:tensorflow:Converted MIDI file /content/drive/My Drive/Summer_21/dataset/groove_midi_files/groove/drummer1/session2/126_afrocuban-bembe_122_fill_4-4.mid.\n",
            "I0627 13:39:52.359267 140075429287808 convert_dir_to_note_sequences.py:153] Converted MIDI file /content/drive/My Drive/Summer_21/dataset/groove_midi_files/groove/drummer1/session2/126_afrocuban-bembe_122_fill_4-4.mid.\n",
            "INFO:tensorflow:Converted MIDI file /content/drive/My Drive/Summer_21/dataset/groove_midi_files/groove/drummer1/session2/101_funk-rock_92_fill_4-4.mid.\n",
            "I0627 13:39:55.415852 140075429287808 convert_dir_to_note_sequences.py:153] Converted MIDI file /content/drive/My Drive/Summer_21/dataset/groove_midi_files/groove/drummer1/session2/101_funk-rock_92_fill_4-4.mid.\n",
            "INFO:tensorflow:Converted MIDI file /content/drive/My Drive/Summer_21/dataset/groove_midi_files/groove/drummer1/session2/77_punk_144_fill_4-4.mid.\n",
            "I0627 13:39:59.619678 140075429287808 convert_dir_to_note_sequences.py:153] Converted MIDI file /content/drive/My Drive/Summer_21/dataset/groove_midi_files/groove/drummer1/session2/77_punk_144_fill_4-4.mid.\n",
            "INFO:tensorflow:Converted MIDI file /content/drive/My Drive/Summer_21/dataset/groove_midi_files/groove/drummer1/session2/139_afrocuban-bembe_122_fill_4-4.mid.\n",
            "I0627 13:40:03.249076 140075429287808 convert_dir_to_note_sequences.py:153] Converted MIDI file /content/drive/My Drive/Summer_21/dataset/groove_midi_files/groove/drummer1/session2/139_afrocuban-bembe_122_fill_4-4.mid.\n",
            "WARNING:tensorflow:Unable to find a converter for file /content/drive/My Drive/Summer_21/dataset/groove_midi_files/groove/drummer1/session2/Icon\n",
            "W0627 13:40:03.255718 140075429287808 convert_dir_to_note_sequences.py:123] Unable to find a converter for file /content/drive/My Drive/Summer_21/dataset/groove_midi_files/groove/drummer1/session2/Icon\n",
            "INFO:tensorflow:Converting files in '/content/drive/My Drive/Summer_21/dataset/groove_midi_files/groove/drummer1/eval_session'.\n",
            "I0627 13:40:03.255953 140075429287808 convert_dir_to_note_sequences.py:83] Converting files in '/content/drive/My Drive/Summer_21/dataset/groove_midi_files/groove/drummer1/eval_session'.\n",
            "INFO:tensorflow:Converted MIDI file /content/drive/My Drive/Summer_21/dataset/groove_midi_files/groove/drummer1/eval_session/6_hiphop-groove6_87_beat_4-4.mid.\n",
            "I0627 13:40:05.879160 140075429287808 convert_dir_to_note_sequences.py:153] Converted MIDI file /content/drive/My Drive/Summer_21/dataset/groove_midi_files/groove/drummer1/eval_session/6_hiphop-groove6_87_beat_4-4.mid.\n",
            "INFO:tensorflow:Converted MIDI file /content/drive/My Drive/Summer_21/dataset/groove_midi_files/groove/drummer1/eval_session/3_soul-groove3_86_beat_4-4.mid.\n",
            "I0627 13:40:08.630122 140075429287808 convert_dir_to_note_sequences.py:153] Converted MIDI file /content/drive/My Drive/Summer_21/dataset/groove_midi_files/groove/drummer1/eval_session/3_soul-groove3_86_beat_4-4.mid.\n",
            "INFO:tensorflow:Converted MIDI file /content/drive/My Drive/Summer_21/dataset/groove_midi_files/groove/drummer1/eval_session/7_pop-groove7_138_beat_4-4.mid.\n",
            "I0627 13:40:11.586305 140075429287808 convert_dir_to_note_sequences.py:153] Converted MIDI file /content/drive/My Drive/Summer_21/dataset/groove_midi_files/groove/drummer1/eval_session/7_pop-groove7_138_beat_4-4.mid.\n",
            "INFO:tensorflow:Converted MIDI file /content/drive/My Drive/Summer_21/dataset/groove_midi_files/groove/drummer1/eval_session/5_funk-groove5_84_beat_4-4.mid.\n",
            "I0627 13:40:14.668529 140075429287808 convert_dir_to_note_sequences.py:153] Converted MIDI file /content/drive/My Drive/Summer_21/dataset/groove_midi_files/groove/drummer1/eval_session/5_funk-groove5_84_beat_4-4.mid.\n",
            "INFO:tensorflow:Converted MIDI file /content/drive/My Drive/Summer_21/dataset/groove_midi_files/groove/drummer1/eval_session/9_soul-groove9_105_beat_4-4.mid.\n",
            "I0627 13:40:18.142475 140075429287808 convert_dir_to_note_sequences.py:153] Converted MIDI file /content/drive/My Drive/Summer_21/dataset/groove_midi_files/groove/drummer1/eval_session/9_soul-groove9_105_beat_4-4.mid.\n",
            "INFO:tensorflow:Converted MIDI file /content/drive/My Drive/Summer_21/dataset/groove_midi_files/groove/drummer1/eval_session/1_funk-groove1_138_beat_4-4.mid.\n",
            "I0627 13:40:22.812943 140075429287808 convert_dir_to_note_sequences.py:153] Converted MIDI file /content/drive/My Drive/Summer_21/dataset/groove_midi_files/groove/drummer1/eval_session/1_funk-groove1_138_beat_4-4.mid.\n",
            "INFO:tensorflow:Converted MIDI file /content/drive/My Drive/Summer_21/dataset/groove_midi_files/groove/drummer1/eval_session/10_soul-groove10_102_beat_4-4.mid.\n",
            "I0627 13:40:25.261888 140075429287808 convert_dir_to_note_sequences.py:153] Converted MIDI file /content/drive/My Drive/Summer_21/dataset/groove_midi_files/groove/drummer1/eval_session/10_soul-groove10_102_beat_4-4.mid.\n",
            "INFO:tensorflow:Converted MIDI file /content/drive/My Drive/Summer_21/dataset/groove_midi_files/groove/drummer1/eval_session/4_soul-groove4_80_beat_4-4.mid.\n",
            "I0627 13:40:29.685707 140075429287808 convert_dir_to_note_sequences.py:153] Converted MIDI file /content/drive/My Drive/Summer_21/dataset/groove_midi_files/groove/drummer1/eval_session/4_soul-groove4_80_beat_4-4.mid.\n",
            "INFO:tensorflow:Converted MIDI file /content/drive/My Drive/Summer_21/dataset/groove_midi_files/groove/drummer1/eval_session/2_funk-groove2_105_beat_4-4.mid.\n",
            "I0627 13:40:32.462161 140075429287808 convert_dir_to_note_sequences.py:153] Converted MIDI file /content/drive/My Drive/Summer_21/dataset/groove_midi_files/groove/drummer1/eval_session/2_funk-groove2_105_beat_4-4.mid.\n",
            "INFO:tensorflow:Converted MIDI file /content/drive/My Drive/Summer_21/dataset/groove_midi_files/groove/drummer1/eval_session/8_rock-groove8_65_beat_4-4.mid.\n",
            "I0627 13:40:35.570841 140075429287808 convert_dir_to_note_sequences.py:153] Converted MIDI file /content/drive/My Drive/Summer_21/dataset/groove_midi_files/groove/drummer1/eval_session/8_rock-groove8_65_beat_4-4.mid.\n",
            "WARNING:tensorflow:Unable to find a converter for file /content/drive/My Drive/Summer_21/dataset/groove_midi_files/groove/drummer1/eval_session/Icon\n",
            "W0627 13:40:35.590183 140075429287808 convert_dir_to_note_sequences.py:123] Unable to find a converter for file /content/drive/My Drive/Summer_21/dataset/groove_midi_files/groove/drummer1/eval_session/Icon\n",
            "INFO:tensorflow:Converting files in '/content/drive/My Drive/Summer_21/dataset/groove_midi_files/groove/drummer1/session1'.\n",
            "I0627 13:40:35.590465 140075429287808 convert_dir_to_note_sequences.py:83] Converting files in '/content/drive/My Drive/Summer_21/dataset/groove_midi_files/groove/drummer1/session1'.\n",
            "INFO:tensorflow:Converted MIDI file /content/drive/My Drive/Summer_21/dataset/groove_midi_files/groove/drummer1/session1/33_latin-samba_116_fill_4-4.mid.\n",
            "I0627 13:40:39.568339 140075429287808 convert_dir_to_note_sequences.py:153] Converted MIDI file /content/drive/My Drive/Summer_21/dataset/groove_midi_files/groove/drummer1/session1/33_latin-samba_116_fill_4-4.mid.\n",
            "INFO:tensorflow:Converted MIDI file /content/drive/My Drive/Summer_21/dataset/groove_midi_files/groove/drummer1/session1/99_neworleans-funk_84_fill_4-4.mid.\n",
            "I0627 13:40:43.311317 140075429287808 convert_dir_to_note_sequences.py:153] Converted MIDI file /content/drive/My Drive/Summer_21/dataset/groove_midi_files/groove/drummer1/session1/99_neworleans-funk_84_fill_4-4.mid.\n",
            "INFO:tensorflow:Converted MIDI file /content/drive/My Drive/Summer_21/dataset/groove_midi_files/groove/drummer1/session1/259_funk-purdieshuffle_130_fill_4-4.mid.\n",
            "I0627 13:40:45.949980 140075429287808 convert_dir_to_note_sequences.py:153] Converted MIDI file /content/drive/My Drive/Summer_21/dataset/groove_midi_files/groove/drummer1/session1/259_funk-purdieshuffle_130_fill_4-4.mid.\n",
            "INFO:tensorflow:Converted MIDI file /content/drive/My Drive/Summer_21/dataset/groove_midi_files/groove/drummer1/session1/213_rock-halftime_140_fill_4-4.mid.\n",
            "I0627 13:40:49.700750 140075429287808 convert_dir_to_note_sequences.py:153] Converted MIDI file /content/drive/My Drive/Summer_21/dataset/groove_midi_files/groove/drummer1/session1/213_rock-halftime_140_fill_4-4.mid.\n",
            "INFO:tensorflow:Converted MIDI file /content/drive/My Drive/Summer_21/dataset/groove_midi_files/groove/drummer1/session1/129_funk-fast_125_fill_4-4.mid.\n",
            "I0627 13:40:52.171674 140075429287808 convert_dir_to_note_sequences.py:153] Converted MIDI file /content/drive/My Drive/Summer_21/dataset/groove_midi_files/groove/drummer1/session1/129_funk-fast_125_fill_4-4.mid.\n",
            "INFO:tensorflow:Converted MIDI file /content/drive/My Drive/Summer_21/dataset/groove_midi_files/groove/drummer1/session1/123_funk_95_fill_4-4.mid.\n",
            "I0627 13:40:55.251399 140075429287808 convert_dir_to_note_sequences.py:153] Converted MIDI file /content/drive/My Drive/Summer_21/dataset/groove_midi_files/groove/drummer1/session1/123_funk_95_fill_4-4.mid.\n",
            "INFO:tensorflow:Converted MIDI file /content/drive/My Drive/Summer_21/dataset/groove_midi_files/groove/drummer1/session1/2_funk_80_beat_4-4.mid.\n",
            "I0627 13:40:58.695057 140075429287808 convert_dir_to_note_sequences.py:153] Converted MIDI file /content/drive/My Drive/Summer_21/dataset/groove_midi_files/groove/drummer1/session1/2_funk_80_beat_4-4.mid.\n",
            "INFO:tensorflow:Converted MIDI file /content/drive/My Drive/Summer_21/dataset/groove_midi_files/groove/drummer1/session1/133_funk-fast_125_fill_4-4.mid.\n",
            "I0627 13:41:02.507614 140075429287808 convert_dir_to_note_sequences.py:153] Converted MIDI file /content/drive/My Drive/Summer_21/dataset/groove_midi_files/groove/drummer1/session1/133_funk-fast_125_fill_4-4.mid.\n",
            "INFO:tensorflow:Converted MIDI file /content/drive/My Drive/Summer_21/dataset/groove_midi_files/groove/drummer1/session1/215_rock-halftime_140_fill_4-4.mid.\n",
            "I0627 13:41:05.581383 140075429287808 convert_dir_to_note_sequences.py:153] Converted MIDI file /content/drive/My Drive/Summer_21/dataset/groove_midi_files/groove/drummer1/session1/215_rock-halftime_140_fill_4-4.mid.\n",
            "INFO:tensorflow:Converted MIDI file /content/drive/My Drive/Summer_21/dataset/groove_midi_files/groove/drummer1/session1/60_jazz_125_fill_4-4.mid.\n",
            "I0627 13:41:09.173749 140075429287808 convert_dir_to_note_sequences.py:153] Converted MIDI file /content/drive/My Drive/Summer_21/dataset/groove_midi_files/groove/drummer1/session1/60_jazz_125_fill_4-4.mid.\n",
            "INFO:tensorflow:Converted MIDI file /content/drive/My Drive/Summer_21/dataset/groove_midi_files/groove/drummer1/session1/206_rock-halftime_140_fill_4-4.mid.\n",
            "I0627 13:41:11.911281 140075429287808 convert_dir_to_note_sequences.py:153] Converted MIDI file /content/drive/My Drive/Summer_21/dataset/groove_midi_files/groove/drummer1/session1/206_rock-halftime_140_fill_4-4.mid.\n",
            "INFO:tensorflow:Converted MIDI file /content/drive/My Drive/Summer_21/dataset/groove_midi_files/groove/drummer1/session1/12_jazz-funk_116_fill_4-4.mid.\n",
            "I0627 13:41:15.036792 140075429287808 convert_dir_to_note_sequences.py:153] Converted MIDI file /content/drive/My Drive/Summer_21/dataset/groove_midi_files/groove/drummer1/session1/12_jazz-funk_116_fill_4-4.mid.\n",
            "INFO:tensorflow:Converted MIDI file /content/drive/My Drive/Summer_21/dataset/groove_midi_files/groove/drummer1/session1/40_latin-samba_116_fill_4-4.mid.\n",
            "I0627 13:41:17.808221 140075429287808 convert_dir_to_note_sequences.py:153] Converted MIDI file /content/drive/My Drive/Summer_21/dataset/groove_midi_files/groove/drummer1/session1/40_latin-samba_116_fill_4-4.mid.\n",
            "INFO:tensorflow:Converted MIDI file /content/drive/My Drive/Summer_21/dataset/groove_midi_files/groove/drummer1/session1/102_funk_95_beat_4-4.mid.\n",
            "I0627 13:41:21.019679 140075429287808 convert_dir_to_note_sequences.py:153] Converted MIDI file /content/drive/My Drive/Summer_21/dataset/groove_midi_files/groove/drummer1/session1/102_funk_95_beat_4-4.mid.\n",
            "INFO:tensorflow:Converted MIDI file /content/drive/My Drive/Summer_21/dataset/groove_midi_files/groove/drummer1/session1/79_latin-reggaeton_90_beat_4-4.mid.\n",
            "I0627 13:41:25.603204 140075429287808 convert_dir_to_note_sequences.py:153] Converted MIDI file /content/drive/My Drive/Summer_21/dataset/groove_midi_files/groove/drummer1/session1/79_latin-reggaeton_90_beat_4-4.mid.\n",
            "INFO:tensorflow:Converted MIDI file /content/drive/My Drive/Summer_21/dataset/groove_midi_files/groove/drummer1/session1/111_funk_95_fill_4-4.mid.\n",
            "I0627 13:41:29.749700 140075429287808 convert_dir_to_note_sequences.py:153] Converted MIDI file /content/drive/My Drive/Summer_21/dataset/groove_midi_files/groove/drummer1/session1/111_funk_95_fill_4-4.mid.\n",
            "INFO:tensorflow:Converted MIDI file /content/drive/My Drive/Summer_21/dataset/groove_midi_files/groove/drummer1/session1/140_funk-fast_125_fill_4-4.mid.\n",
            "I0627 13:41:32.404999 140075429287808 convert_dir_to_note_sequences.py:153] Converted MIDI file /content/drive/My Drive/Summer_21/dataset/groove_midi_files/groove/drummer1/session1/140_funk-fast_125_fill_4-4.mid.\n",
            "INFO:tensorflow:Converted MIDI file /content/drive/My Drive/Summer_21/dataset/groove_midi_files/groove/drummer1/session1/27_jazz-funk_116_fill_4-4.mid.\n",
            "I0627 13:41:35.967085 140075429287808 convert_dir_to_note_sequences.py:153] Converted MIDI file /content/drive/My Drive/Summer_21/dataset/groove_midi_files/groove/drummer1/session1/27_jazz-funk_116_fill_4-4.mid.\n",
            "INFO:tensorflow:Converted MIDI file /content/drive/My Drive/Summer_21/dataset/groove_midi_files/groove/drummer1/session1/5_jazz-funk_116_beat_4-4.mid.\n",
            "I0627 13:41:38.892158 140075429287808 convert_dir_to_note_sequences.py:153] Converted MIDI file /content/drive/My Drive/Summer_21/dataset/groove_midi_files/groove/drummer1/session1/5_jazz-funk_116_beat_4-4.mid.\n",
            "INFO:tensorflow:Converted MIDI file /content/drive/My Drive/Summer_21/dataset/groove_midi_files/groove/drummer1/session1/187_reggae_78_fill_4-4.mid.\n",
            "I0627 13:41:42.232289 140075429287808 convert_dir_to_note_sequences.py:153] Converted MIDI file /content/drive/My Drive/Summer_21/dataset/groove_midi_files/groove/drummer1/session1/187_reggae_78_fill_4-4.mid.\n",
            "INFO:tensorflow:Converted MIDI file /content/drive/My Drive/Summer_21/dataset/groove_midi_files/groove/drummer1/session1/245_funk-purdieshuffle_130_fill_4-4.mid.\n",
            "I0627 13:41:44.503530 140075429287808 convert_dir_to_note_sequences.py:153] Converted MIDI file /content/drive/My Drive/Summer_21/dataset/groove_midi_files/groove/drummer1/session1/245_funk-purdieshuffle_130_fill_4-4.mid.\n",
            "INFO:tensorflow:Converted MIDI file /content/drive/My Drive/Summer_21/dataset/groove_midi_files/groove/drummer1/session1/8_jazz-funk_116_fill_4-4.mid.\n",
            "I0627 13:41:48.440676 140075429287808 convert_dir_to_note_sequences.py:153] Converted MIDI file /content/drive/My Drive/Summer_21/dataset/groove_midi_files/groove/drummer1/session1/8_jazz-funk_116_fill_4-4.mid.\n",
            "INFO:tensorflow:Converted MIDI file /content/drive/My Drive/Summer_21/dataset/groove_midi_files/groove/drummer1/session1/68_jazz_125_fill_4-4.mid.\n",
            "I0627 13:41:50.725835 140075429287808 convert_dir_to_note_sequences.py:153] Converted MIDI file /content/drive/My Drive/Summer_21/dataset/groove_midi_files/groove/drummer1/session1/68_jazz_125_fill_4-4.mid.\n",
            "INFO:tensorflow:Converted MIDI file /content/drive/My Drive/Summer_21/dataset/groove_midi_files/groove/drummer1/session1/261_funk-purdieshuffle_130_fill_4-4.mid.\n",
            "I0627 13:41:54.549926 140075429287808 convert_dir_to_note_sequences.py:153] Converted MIDI file /content/drive/My Drive/Summer_21/dataset/groove_midi_files/groove/drummer1/session1/261_funk-purdieshuffle_130_fill_4-4.mid.\n",
            "INFO:tensorflow:Converted MIDI file /content/drive/My Drive/Summer_21/dataset/groove_midi_files/groove/drummer1/session1/219_rock-halftime_140_fill_4-4.mid.\n",
            "I0627 13:41:57.108464 140075429287808 convert_dir_to_note_sequences.py:153] Converted MIDI file /content/drive/My Drive/Summer_21/dataset/groove_midi_files/groove/drummer1/session1/219_rock-halftime_140_fill_4-4.mid.\n",
            "INFO:tensorflow:Converted MIDI file /content/drive/My Drive/Summer_21/dataset/groove_midi_files/groove/drummer1/session1/47_jazz_102_beat_4-4.mid.\n",
            "I0627 13:42:01.115679 140075429287808 convert_dir_to_note_sequences.py:153] Converted MIDI file /content/drive/My Drive/Summer_21/dataset/groove_midi_files/groove/drummer1/session1/47_jazz_102_beat_4-4.mid.\n",
            "INFO:tensorflow:Converted MIDI file /content/drive/My Drive/Summer_21/dataset/groove_midi_files/groove/drummer1/session1/256_funk-purdieshuffle_130_fill_4-4.mid.\n",
            "I0627 13:42:03.820052 140075429287808 convert_dir_to_note_sequences.py:153] Converted MIDI file /content/drive/My Drive/Summer_21/dataset/groove_midi_files/groove/drummer1/session1/256_funk-purdieshuffle_130_fill_4-4.mid.\n",
            "INFO:tensorflow:Converted MIDI file /content/drive/My Drive/Summer_21/dataset/groove_midi_files/groove/drummer1/session1/114_funk_95_fill_4-4.mid.\n",
            "I0627 13:42:07.210310 140075429287808 convert_dir_to_note_sequences.py:153] Converted MIDI file /content/drive/My Drive/Summer_21/dataset/groove_midi_files/groove/drummer1/session1/114_funk_95_fill_4-4.mid.\n",
            "INFO:tensorflow:Converted MIDI file /content/drive/My Drive/Summer_21/dataset/groove_midi_files/groove/drummer1/session1/74_jazz_125_fill_4-4.mid.\n",
            "I0627 13:42:09.843405 140075429287808 convert_dir_to_note_sequences.py:153] Converted MIDI file /content/drive/My Drive/Summer_21/dataset/groove_midi_files/groove/drummer1/session1/74_jazz_125_fill_4-4.mid.\n",
            "INFO:tensorflow:Converted MIDI file /content/drive/My Drive/Summer_21/dataset/groove_midi_files/groove/drummer1/session1/224_rock-halftime_140_fill_4-4.mid.\n",
            "I0627 13:42:13.365185 140075429287808 convert_dir_to_note_sequences.py:153] Converted MIDI file /content/drive/My Drive/Summer_21/dataset/groove_midi_files/groove/drummer1/session1/224_rock-halftime_140_fill_4-4.mid.\n",
            "INFO:tensorflow:Converted MIDI file /content/drive/My Drive/Summer_21/dataset/groove_midi_files/groove/drummer1/session1/62_jazz_125_fill_4-4.mid.\n",
            "I0627 13:42:15.980396 140075429287808 convert_dir_to_note_sequences.py:153] Converted MIDI file /content/drive/My Drive/Summer_21/dataset/groove_midi_files/groove/drummer1/session1/62_jazz_125_fill_4-4.mid.\n",
            "INFO:tensorflow:Converted MIDI file /content/drive/My Drive/Summer_21/dataset/groove_midi_files/groove/drummer1/session1/77_jazz-mediumfast_180_beat_4-4.mid.\n",
            "I0627 13:42:19.885572 140075429287808 convert_dir_to_note_sequences.py:153] Converted MIDI file /content/drive/My Drive/Summer_21/dataset/groove_midi_files/groove/drummer1/session1/77_jazz-mediumfast_180_beat_4-4.mid.\n",
            "INFO:tensorflow:Converted MIDI file /content/drive/My Drive/Summer_21/dataset/groove_midi_files/groove/drummer1/session1/106_funk_95_fill_4-4.mid.\n",
            "I0627 13:42:23.510123 140075429287808 convert_dir_to_note_sequences.py:153] Converted MIDI file /content/drive/My Drive/Summer_21/dataset/groove_midi_files/groove/drummer1/session1/106_funk_95_fill_4-4.mid.\n",
            "INFO:tensorflow:Converted MIDI file /content/drive/My Drive/Summer_21/dataset/groove_midi_files/groove/drummer1/session1/91_neworleans-funk_84_fill_4-4.mid.\n",
            "I0627 13:42:27.055071 140075429287808 convert_dir_to_note_sequences.py:153] Converted MIDI file /content/drive/My Drive/Summer_21/dataset/groove_midi_files/groove/drummer1/session1/91_neworleans-funk_84_fill_4-4.mid.\n",
            "INFO:tensorflow:Converted MIDI file /content/drive/My Drive/Summer_21/dataset/groove_midi_files/groove/drummer1/session1/43_latin-samba_116_fill_4-4.mid.\n",
            "I0627 13:42:29.791745 140075429287808 convert_dir_to_note_sequences.py:153] Converted MIDI file /content/drive/My Drive/Summer_21/dataset/groove_midi_files/groove/drummer1/session1/43_latin-samba_116_fill_4-4.mid.\n",
            "INFO:tensorflow:Converted MIDI file /content/drive/My Drive/Summer_21/dataset/groove_midi_files/groove/drummer1/session1/237_rock-halftime_140_fill_4-4.mid.\n",
            "I0627 13:42:33.278965 140075429287808 convert_dir_to_note_sequences.py:153] Converted MIDI file /content/drive/My Drive/Summer_21/dataset/groove_midi_files/groove/drummer1/session1/237_rock-halftime_140_fill_4-4.mid.\n",
            "INFO:tensorflow:Converted MIDI file /content/drive/My Drive/Summer_21/dataset/groove_midi_files/groove/drummer1/session1/83_neworleans-funk_84_fill_4-4.mid.\n",
            "I0627 13:42:36.108817 140075429287808 convert_dir_to_note_sequences.py:153] Converted MIDI file /content/drive/My Drive/Summer_21/dataset/groove_midi_files/groove/drummer1/session1/83_neworleans-funk_84_fill_4-4.mid.\n",
            "INFO:tensorflow:Converted MIDI file /content/drive/My Drive/Summer_21/dataset/groove_midi_files/groove/drummer1/session1/20_jazz-funk_116_fill_4-4.mid.\n",
            "I0627 13:42:39.514445 140075429287808 convert_dir_to_note_sequences.py:153] Converted MIDI file /content/drive/My Drive/Summer_21/dataset/groove_midi_files/groove/drummer1/session1/20_jazz-funk_116_fill_4-4.mid.\n",
            "INFO:tensorflow:Converted MIDI file /content/drive/My Drive/Summer_21/dataset/groove_midi_files/groove/drummer1/session1/231_rock-halftime_140_fill_4-4.mid.\n",
            "I0627 13:42:42.395756 140075429287808 convert_dir_to_note_sequences.py:153] Converted MIDI file /content/drive/My Drive/Summer_21/dataset/groove_midi_files/groove/drummer1/session1/231_rock-halftime_140_fill_4-4.mid.\n",
            "INFO:tensorflow:Converted MIDI file /content/drive/My Drive/Summer_21/dataset/groove_midi_files/groove/drummer1/session1/58_jazz_125_fill_4-4.mid.\n",
            "I0627 13:42:46.269388 140075429287808 convert_dir_to_note_sequences.py:153] Converted MIDI file /content/drive/My Drive/Summer_21/dataset/groove_midi_files/groove/drummer1/session1/58_jazz_125_fill_4-4.mid.\n",
            "INFO:tensorflow:Converted MIDI file /content/drive/My Drive/Summer_21/dataset/groove_midi_files/groove/drummer1/session1/15_jazz-funk_116_fill_4-4.mid.\n",
            "I0627 13:42:49.837010 140075429287808 convert_dir_to_note_sequences.py:153] Converted MIDI file /content/drive/My Drive/Summer_21/dataset/groove_midi_files/groove/drummer1/session1/15_jazz-funk_116_fill_4-4.mid.\n",
            "INFO:tensorflow:Converted MIDI file /content/drive/My Drive/Summer_21/dataset/groove_midi_files/groove/drummer1/session1/103_funk_95_fill_4-4.mid.\n",
            "I0627 13:42:53.025748 140075429287808 convert_dir_to_note_sequences.py:153] Converted MIDI file /content/drive/My Drive/Summer_21/dataset/groove_midi_files/groove/drummer1/session1/103_funk_95_fill_4-4.mid.\n",
            "INFO:tensorflow:Converted MIDI file /content/drive/My Drive/Summer_21/dataset/groove_midi_files/groove/drummer1/session1/249_funk-purdieshuffle_130_fill_4-4.mid.\n",
            "I0627 13:42:55.984774 140075429287808 convert_dir_to_note_sequences.py:153] Converted MIDI file /content/drive/My Drive/Summer_21/dataset/groove_midi_files/groove/drummer1/session1/249_funk-purdieshuffle_130_fill_4-4.mid.\n",
            "INFO:tensorflow:Converted MIDI file /content/drive/My Drive/Summer_21/dataset/groove_midi_files/groove/drummer1/session1/222_rock-halftime_140_fill_4-4.mid.\n",
            "I0627 13:42:59.135437 140075429287808 convert_dir_to_note_sequences.py:153] Converted MIDI file /content/drive/My Drive/Summer_21/dataset/groove_midi_files/groove/drummer1/session1/222_rock-halftime_140_fill_4-4.mid.\n",
            "INFO:tensorflow:Converted MIDI file /content/drive/My Drive/Summer_21/dataset/groove_midi_files/groove/drummer1/session1/19_jazz-funk_116_fill_4-4.mid.\n",
            "I0627 13:43:02.264015 140075429287808 convert_dir_to_note_sequences.py:153] Converted MIDI file /content/drive/My Drive/Summer_21/dataset/groove_midi_files/groove/drummer1/session1/19_jazz-funk_116_fill_4-4.mid.\n",
            "INFO:tensorflow:Converted MIDI file /content/drive/My Drive/Summer_21/dataset/groove_midi_files/groove/drummer1/session1/134_funk-fast_125_fill_4-4.mid.\n",
            "I0627 13:43:05.325370 140075429287808 convert_dir_to_note_sequences.py:153] Converted MIDI file /content/drive/My Drive/Summer_21/dataset/groove_midi_files/groove/drummer1/session1/134_funk-fast_125_fill_4-4.mid.\n",
            "INFO:tensorflow:Converted MIDI file /content/drive/My Drive/Summer_21/dataset/groove_midi_files/groove/drummer1/session1/48_jazz_93_beat_4-4.mid.\n",
            "I0627 13:43:08.572029 140075429287808 convert_dir_to_note_sequences.py:153] Converted MIDI file /content/drive/My Drive/Summer_21/dataset/groove_midi_files/groove/drummer1/session1/48_jazz_93_beat_4-4.mid.\n",
            "INFO:tensorflow:Converted MIDI file /content/drive/My Drive/Summer_21/dataset/groove_midi_files/groove/drummer1/session1/38_latin-samba_116_beat_4-4.mid.\n",
            "I0627 13:43:12.036646 140075429287808 convert_dir_to_note_sequences.py:153] Converted MIDI file /content/drive/My Drive/Summer_21/dataset/groove_midi_files/groove/drummer1/session1/38_latin-samba_116_beat_4-4.mid.\n",
            "INFO:tensorflow:Converted MIDI file /content/drive/My Drive/Summer_21/dataset/groove_midi_files/groove/drummer1/session1/228_rock-halftime_140_fill_4-4.mid.\n",
            "I0627 13:43:15.301054 140075429287808 convert_dir_to_note_sequences.py:153] Converted MIDI file /content/drive/My Drive/Summer_21/dataset/groove_midi_files/groove/drummer1/session1/228_rock-halftime_140_fill_4-4.mid.\n",
            "INFO:tensorflow:Converted MIDI file /content/drive/My Drive/Summer_21/dataset/groove_midi_files/groove/drummer1/session1/138_funk-fast_125_fill_4-4.mid.\n",
            "I0627 13:43:18.993951 140075429287808 convert_dir_to_note_sequences.py:153] Converted MIDI file /content/drive/My Drive/Summer_21/dataset/groove_midi_files/groove/drummer1/session1/138_funk-fast_125_fill_4-4.mid.\n",
            "INFO:tensorflow:Converted MIDI file /content/drive/My Drive/Summer_21/dataset/groove_midi_files/groove/drummer1/session1/94_neworleans-funk_84_fill_4-4.mid.\n",
            "I0627 13:43:21.998243 140075429287808 convert_dir_to_note_sequences.py:153] Converted MIDI file /content/drive/My Drive/Summer_21/dataset/groove_midi_files/groove/drummer1/session1/94_neworleans-funk_84_fill_4-4.mid.\n",
            "INFO:tensorflow:Converted MIDI file /content/drive/My Drive/Summer_21/dataset/groove_midi_files/groove/drummer1/session1/246_funk-purdieshuffle_130_fill_4-4.mid.\n",
            "I0627 13:43:25.198178 140075429287808 convert_dir_to_note_sequences.py:153] Converted MIDI file /content/drive/My Drive/Summer_21/dataset/groove_midi_files/groove/drummer1/session1/246_funk-purdieshuffle_130_fill_4-4.mid.\n",
            "INFO:tensorflow:Converted MIDI file /content/drive/My Drive/Summer_21/dataset/groove_midi_files/groove/drummer1/session1/30_latin-samba_116_fill_4-4.mid.\n",
            "I0627 13:43:28.128609 140075429287808 convert_dir_to_note_sequences.py:153] Converted MIDI file /content/drive/My Drive/Summer_21/dataset/groove_midi_files/groove/drummer1/session1/30_latin-samba_116_fill_4-4.mid.\n",
            "INFO:tensorflow:Converted MIDI file /content/drive/My Drive/Summer_21/dataset/groove_midi_files/groove/drummer1/session1/189_reggae_78_fill_4-4.mid.\n",
            "I0627 13:43:31.542523 140075429287808 convert_dir_to_note_sequences.py:153] Converted MIDI file /content/drive/My Drive/Summer_21/dataset/groove_midi_files/groove/drummer1/session1/189_reggae_78_fill_4-4.mid.\n",
            "INFO:tensorflow:Converted MIDI file /content/drive/My Drive/Summer_21/dataset/groove_midi_files/groove/drummer1/session1/262_funk-purdieshuffle_130_fill_4-4.mid.\n",
            "I0627 13:43:34.826716 140075429287808 convert_dir_to_note_sequences.py:153] Converted MIDI file /content/drive/My Drive/Summer_21/dataset/groove_midi_files/groove/drummer1/session1/262_funk-purdieshuffle_130_fill_4-4.mid.\n",
            "INFO:tensorflow:Converted MIDI file /content/drive/My Drive/Summer_21/dataset/groove_midi_files/groove/drummer1/session1/148_latin-brazilian-baiao_95_fill_4-4.mid.\n",
            "I0627 13:43:38.198534 140075429287808 convert_dir_to_note_sequences.py:153] Converted MIDI file /content/drive/My Drive/Summer_21/dataset/groove_midi_files/groove/drummer1/session1/148_latin-brazilian-baiao_95_fill_4-4.mid.\n",
            "INFO:tensorflow:Converted MIDI file /content/drive/My Drive/Summer_21/dataset/groove_midi_files/groove/drummer1/session1/109_funk_95_fill_4-4.mid.\n",
            "I0627 13:43:42.348208 140075429287808 convert_dir_to_note_sequences.py:153] Converted MIDI file /content/drive/My Drive/Summer_21/dataset/groove_midi_files/groove/drummer1/session1/109_funk_95_fill_4-4.mid.\n",
            "INFO:tensorflow:Converted MIDI file /content/drive/My Drive/Summer_21/dataset/groove_midi_files/groove/drummer1/session1/181_afrocuban_105_fill_4-4.mid.\n",
            "I0627 13:43:45.064189 140075429287808 convert_dir_to_note_sequences.py:153] Converted MIDI file /content/drive/My Drive/Summer_21/dataset/groove_midi_files/groove/drummer1/session1/181_afrocuban_105_fill_4-4.mid.\n",
            "INFO:tensorflow:Converted MIDI file /content/drive/My Drive/Summer_21/dataset/groove_midi_files/groove/drummer1/session1/149_latin-brazilian-baiao_95_fill_4-4.mid.\n",
            "I0627 13:43:47.591047 140075429287808 convert_dir_to_note_sequences.py:153] Converted MIDI file /content/drive/My Drive/Summer_21/dataset/groove_midi_files/groove/drummer1/session1/149_latin-brazilian-baiao_95_fill_4-4.mid.\n",
            "INFO:tensorflow:Converted MIDI file /content/drive/My Drive/Summer_21/dataset/groove_midi_files/groove/drummer1/session1/201_reggae-slow_64_beat_4-4.mid.\n",
            "I0627 13:43:51.320331 140075429287808 convert_dir_to_note_sequences.py:153] Converted MIDI file /content/drive/My Drive/Summer_21/dataset/groove_midi_files/groove/drummer1/session1/201_reggae-slow_64_beat_4-4.mid.\n",
            "INFO:tensorflow:Converted MIDI file /content/drive/My Drive/Summer_21/dataset/groove_midi_files/groove/drummer1/session1/255_funk-purdieshuffle_130_fill_4-4.mid.\n",
            "I0627 13:43:54.023211 140075429287808 convert_dir_to_note_sequences.py:153] Converted MIDI file /content/drive/My Drive/Summer_21/dataset/groove_midi_files/groove/drummer1/session1/255_funk-purdieshuffle_130_fill_4-4.mid.\n",
            "INFO:tensorflow:Converted MIDI file /content/drive/My Drive/Summer_21/dataset/groove_midi_files/groove/drummer1/session1/86_neworleans-funk_84_fill_4-4.mid.\n",
            "I0627 13:43:57.682155 140075429287808 convert_dir_to_note_sequences.py:153] Converted MIDI file /content/drive/My Drive/Summer_21/dataset/groove_midi_files/groove/drummer1/session1/86_neworleans-funk_84_fill_4-4.mid.\n",
            "INFO:tensorflow:Converted MIDI file /content/drive/My Drive/Summer_21/dataset/groove_midi_files/groove/drummer1/session1/155_latin-brazilian-baiao_95_fill_4-4.mid.\n",
            "I0627 13:44:00.847709 140075429287808 convert_dir_to_note_sequences.py:153] Converted MIDI file /content/drive/My Drive/Summer_21/dataset/groove_midi_files/groove/drummer1/session1/155_latin-brazilian-baiao_95_fill_4-4.mid.\n",
            "INFO:tensorflow:Converted MIDI file /content/drive/My Drive/Summer_21/dataset/groove_midi_files/groove/drummer1/session1/239_funk-purdieshuffle_130_beat_4-4.mid.\n",
            "I0627 13:44:04.593386 140075429287808 convert_dir_to_note_sequences.py:153] Converted MIDI file /content/drive/My Drive/Summer_21/dataset/groove_midi_files/groove/drummer1/session1/239_funk-purdieshuffle_130_beat_4-4.mid.\n",
            "INFO:tensorflow:Converted MIDI file /content/drive/My Drive/Summer_21/dataset/groove_midi_files/groove/drummer1/session1/56_jazz_125_fill_4-4.mid.\n",
            "I0627 13:44:06.957834 140075429287808 convert_dir_to_note_sequences.py:153] Converted MIDI file /content/drive/My Drive/Summer_21/dataset/groove_midi_files/groove/drummer1/session1/56_jazz_125_fill_4-4.mid.\n",
            "INFO:tensorflow:Converted MIDI file /content/drive/My Drive/Summer_21/dataset/groove_midi_files/groove/drummer1/session1/162_latin-brazilian-baiao_95_fill_4-4.mid.\n",
            "I0627 13:44:10.757407 140075429287808 convert_dir_to_note_sequences.py:153] Converted MIDI file /content/drive/My Drive/Summer_21/dataset/groove_midi_files/groove/drummer1/session1/162_latin-brazilian-baiao_95_fill_4-4.mid.\n",
            "INFO:tensorflow:Converted MIDI file /content/drive/My Drive/Summer_21/dataset/groove_midi_files/groove/drummer1/session1/81_dance-breakbeat_170_beat_4-4.mid.\n",
            "I0627 13:44:13.313068 140075429287808 convert_dir_to_note_sequences.py:153] Converted MIDI file /content/drive/My Drive/Summer_21/dataset/groove_midi_files/groove/drummer1/session1/81_dance-breakbeat_170_beat_4-4.mid.\n",
            "INFO:tensorflow:Converted MIDI file /content/drive/My Drive/Summer_21/dataset/groove_midi_files/groove/drummer1/session1/110_funk_95_fill_4-4.mid.\n",
            "I0627 13:44:17.130278 140075429287808 convert_dir_to_note_sequences.py:153] Converted MIDI file /content/drive/My Drive/Summer_21/dataset/groove_midi_files/groove/drummer1/session1/110_funk_95_fill_4-4.mid.\n",
            "INFO:tensorflow:Converted MIDI file /content/drive/My Drive/Summer_21/dataset/groove_midi_files/groove/drummer1/session1/92_neworleans-funk_84_fill_4-4.mid.\n",
            "I0627 13:44:19.474933 140075429287808 convert_dir_to_note_sequences.py:153] Converted MIDI file /content/drive/My Drive/Summer_21/dataset/groove_midi_files/groove/drummer1/session1/92_neworleans-funk_84_fill_4-4.mid.\n",
            "INFO:tensorflow:Converted MIDI file /content/drive/My Drive/Summer_21/dataset/groove_midi_files/groove/drummer1/session1/207_rock-halftime_140_fill_4-4.mid.\n",
            "I0627 13:44:23.456747 140075429287808 convert_dir_to_note_sequences.py:153] Converted MIDI file /content/drive/My Drive/Summer_21/dataset/groove_midi_files/groove/drummer1/session1/207_rock-halftime_140_fill_4-4.mid.\n",
            "INFO:tensorflow:Converted MIDI file /content/drive/My Drive/Summer_21/dataset/groove_midi_files/groove/drummer1/session1/154_latin-brazilian-baiao_95_fill_4-4.mid.\n",
            "I0627 13:44:25.989685 140075429287808 convert_dir_to_note_sequences.py:153] Converted MIDI file /content/drive/My Drive/Summer_21/dataset/groove_midi_files/groove/drummer1/session1/154_latin-brazilian-baiao_95_fill_4-4.mid.\n",
            "INFO:tensorflow:Converted MIDI file /content/drive/My Drive/Summer_21/dataset/groove_midi_files/groove/drummer1/session1/268_funk-purdieshuffle_130_fill_4-4.mid.\n",
            "I0627 13:44:28.924096 140075429287808 convert_dir_to_note_sequences.py:153] Converted MIDI file /content/drive/My Drive/Summer_21/dataset/groove_midi_files/groove/drummer1/session1/268_funk-purdieshuffle_130_fill_4-4.mid.\n",
            "INFO:tensorflow:Converted MIDI file /content/drive/My Drive/Summer_21/dataset/groove_midi_files/groove/drummer1/session1/78_jazz-fast_290_beat_4-4.mid.\n",
            "I0627 13:44:32.667977 140075429287808 convert_dir_to_note_sequences.py:153] Converted MIDI file /content/drive/My Drive/Summer_21/dataset/groove_midi_files/groove/drummer1/session1/78_jazz-fast_290_beat_4-4.mid.\n",
            "INFO:tensorflow:Converted MIDI file /content/drive/My Drive/Summer_21/dataset/groove_midi_files/groove/drummer1/session1/214_rock-halftime_140_fill_4-4.mid.\n",
            "I0627 13:44:36.705074 140075429287808 convert_dir_to_note_sequences.py:153] Converted MIDI file /content/drive/My Drive/Summer_21/dataset/groove_midi_files/groove/drummer1/session1/214_rock-halftime_140_fill_4-4.mid.\n",
            "INFO:tensorflow:Converted MIDI file /content/drive/My Drive/Summer_21/dataset/groove_midi_files/groove/drummer1/session1/163_latin-brazilian-baiao_95_fill_4-4.mid.\n",
            "I0627 13:44:39.300538 140075429287808 convert_dir_to_note_sequences.py:153] Converted MIDI file /content/drive/My Drive/Summer_21/dataset/groove_midi_files/groove/drummer1/session1/163_latin-brazilian-baiao_95_fill_4-4.mid.\n",
            "INFO:tensorflow:Converted MIDI file /content/drive/My Drive/Summer_21/dataset/groove_midi_files/groove/drummer1/session1/115_funk_95_fill_4-4.mid.\n",
            "I0627 13:44:43.413607 140075429287808 convert_dir_to_note_sequences.py:153] Converted MIDI file /content/drive/My Drive/Summer_21/dataset/groove_midi_files/groove/drummer1/session1/115_funk_95_fill_4-4.mid.\n",
            "INFO:tensorflow:Converted MIDI file /content/drive/My Drive/Summer_21/dataset/groove_midi_files/groove/drummer1/session1/14_jazz-funk_116_fill_4-4.mid.\n",
            "I0627 13:44:45.995867 140075429287808 convert_dir_to_note_sequences.py:153] Converted MIDI file /content/drive/My Drive/Summer_21/dataset/groove_midi_files/groove/drummer1/session1/14_jazz-funk_116_fill_4-4.mid.\n",
            "INFO:tensorflow:Converted MIDI file /content/drive/My Drive/Summer_21/dataset/groove_midi_files/groove/drummer1/session1/160_latin-brazilian-baiao_95_fill_4-4.mid.\n",
            "I0627 13:44:49.607012 140075429287808 convert_dir_to_note_sequences.py:153] Converted MIDI file /content/drive/My Drive/Summer_21/dataset/groove_midi_files/groove/drummer1/session1/160_latin-brazilian-baiao_95_fill_4-4.mid.\n",
            "INFO:tensorflow:Converted MIDI file /content/drive/My Drive/Summer_21/dataset/groove_midi_files/groove/drummer1/session1/45_latin-samba_116_fill_4-4.mid.\n",
            "I0627 13:44:52.380958 140075429287808 convert_dir_to_note_sequences.py:153] Converted MIDI file /content/drive/My Drive/Summer_21/dataset/groove_midi_files/groove/drummer1/session1/45_latin-samba_116_fill_4-4.mid.\n",
            "INFO:tensorflow:Converted MIDI file /content/drive/My Drive/Summer_21/dataset/groove_midi_files/groove/drummer1/session1/18_jazz-funk_116_fill_4-4.mid.\n",
            "I0627 13:44:55.851446 140075429287808 convert_dir_to_note_sequences.py:153] Converted MIDI file /content/drive/My Drive/Summer_21/dataset/groove_midi_files/groove/drummer1/session1/18_jazz-funk_116_fill_4-4.mid.\n",
            "INFO:tensorflow:Converted MIDI file /content/drive/My Drive/Summer_21/dataset/groove_midi_files/groove/drummer1/session1/157_latin-brazilian-baiao_95_fill_4-4.mid.\n",
            "I0627 13:44:58.721833 140075429287808 convert_dir_to_note_sequences.py:153] Converted MIDI file /content/drive/My Drive/Summer_21/dataset/groove_midi_files/groove/drummer1/session1/157_latin-brazilian-baiao_95_fill_4-4.mid.\n",
            "INFO:tensorflow:Converted MIDI file /content/drive/My Drive/Summer_21/dataset/groove_midi_files/groove/drummer1/session1/184_reggae_78_beat_4-4.mid.\n",
            "I0627 13:45:02.124360 140075429287808 convert_dir_to_note_sequences.py:153] Converted MIDI file /content/drive/My Drive/Summer_21/dataset/groove_midi_files/groove/drummer1/session1/184_reggae_78_beat_4-4.mid.\n",
            "INFO:tensorflow:Converted MIDI file /content/drive/My Drive/Summer_21/dataset/groove_midi_files/groove/drummer1/session1/188_reggae_78_fill_4-4.mid.\n",
            "I0627 13:45:05.002724 140075429287808 convert_dir_to_note_sequences.py:153] Converted MIDI file /content/drive/My Drive/Summer_21/dataset/groove_midi_files/groove/drummer1/session1/188_reggae_78_fill_4-4.mid.\n",
            "INFO:tensorflow:Converted MIDI file /content/drive/My Drive/Summer_21/dataset/groove_midi_files/groove/drummer1/session1/212_rock-halftime_140_fill_4-4.mid.\n",
            "I0627 13:45:07.774821 140075429287808 convert_dir_to_note_sequences.py:153] Converted MIDI file /content/drive/My Drive/Summer_21/dataset/groove_midi_files/groove/drummer1/session1/212_rock-halftime_140_fill_4-4.mid.\n",
            "INFO:tensorflow:Converted MIDI file /content/drive/My Drive/Summer_21/dataset/groove_midi_files/groove/drummer1/session1/161_latin-brazilian-baiao_95_fill_4-4.mid.\n",
            "I0627 13:45:11.035393 140075429287808 convert_dir_to_note_sequences.py:153] Converted MIDI file /content/drive/My Drive/Summer_21/dataset/groove_midi_files/groove/drummer1/session1/161_latin-brazilian-baiao_95_fill_4-4.mid.\n",
            "INFO:tensorflow:Converted MIDI file /content/drive/My Drive/Summer_21/dataset/groove_midi_files/groove/drummer1/session1/156_latin-brazilian-baiao_95_fill_4-4.mid.\n",
            "I0627 13:45:14.693616 140075429287808 convert_dir_to_note_sequences.py:153] Converted MIDI file /content/drive/My Drive/Summer_21/dataset/groove_midi_files/groove/drummer1/session1/156_latin-brazilian-baiao_95_fill_4-4.mid.\n",
            "INFO:tensorflow:Converted MIDI file /content/drive/My Drive/Summer_21/dataset/groove_midi_files/groove/drummer1/session1/21_jazz-funk_116_fill_4-4.mid.\n",
            "I0627 13:45:18.025558 140075429287808 convert_dir_to_note_sequences.py:153] Converted MIDI file /content/drive/My Drive/Summer_21/dataset/groove_midi_files/groove/drummer1/session1/21_jazz-funk_116_fill_4-4.mid.\n",
            "INFO:tensorflow:Converted MIDI file /content/drive/My Drive/Summer_21/dataset/groove_midi_files/groove/drummer1/session1/50_jazz_125_beat_4-4.mid.\n",
            "I0627 13:45:22.225667 140075429287808 convert_dir_to_note_sequences.py:153] Converted MIDI file /content/drive/My Drive/Summer_21/dataset/groove_midi_files/groove/drummer1/session1/50_jazz_125_beat_4-4.mid.\n",
            "INFO:tensorflow:Converted MIDI file /content/drive/My Drive/Summer_21/dataset/groove_midi_files/groove/drummer1/session1/97_neworleans-funk_84_fill_4-4.mid.\n",
            "I0627 13:45:24.623402 140075429287808 convert_dir_to_note_sequences.py:153] Converted MIDI file /content/drive/My Drive/Summer_21/dataset/groove_midi_files/groove/drummer1/session1/97_neworleans-funk_84_fill_4-4.mid.\n",
            "INFO:tensorflow:Converted MIDI file /content/drive/My Drive/Summer_21/dataset/groove_midi_files/groove/drummer1/session1/122_funk_95_fill_4-4.mid.\n",
            "I0627 13:45:28.113253 140075429287808 convert_dir_to_note_sequences.py:153] Converted MIDI file /content/drive/My Drive/Summer_21/dataset/groove_midi_files/groove/drummer1/session1/122_funk_95_fill_4-4.mid.\n",
            "INFO:tensorflow:Converted MIDI file /content/drive/My Drive/Summer_21/dataset/groove_midi_files/groove/drummer1/session1/3_funk_80_beat_4-4.mid.\n",
            "I0627 13:45:31.647627 140075429287808 convert_dir_to_note_sequences.py:153] Converted MIDI file /content/drive/My Drive/Summer_21/dataset/groove_midi_files/groove/drummer1/session1/3_funk_80_beat_4-4.mid.\n",
            "INFO:tensorflow:Converted MIDI file /content/drive/My Drive/Summer_21/dataset/groove_midi_files/groove/drummer1/session1/167_latin-brazilian-baiao_95_fill_4-4.mid.\n",
            "I0627 13:45:34.368931 140075429287808 convert_dir_to_note_sequences.py:153] Converted MIDI file /content/drive/My Drive/Summer_21/dataset/groove_midi_files/groove/drummer1/session1/167_latin-brazilian-baiao_95_fill_4-4.mid.\n",
            "INFO:tensorflow:Converted MIDI file /content/drive/My Drive/Summer_21/dataset/groove_midi_files/groove/drummer1/session1/218_rock-halftime_140_fill_4-4.mid.\n",
            "I0627 13:45:37.364695 140075429287808 convert_dir_to_note_sequences.py:153] Converted MIDI file /content/drive/My Drive/Summer_21/dataset/groove_midi_files/groove/drummer1/session1/218_rock-halftime_140_fill_4-4.mid.\n",
            "INFO:tensorflow:Converted MIDI file /content/drive/My Drive/Summer_21/dataset/groove_midi_files/groove/drummer1/session1/150_latin-brazilian-baiao_95_fill_4-4.mid.\n",
            "I0627 13:45:40.077853 140075429287808 convert_dir_to_note_sequences.py:153] Converted MIDI file /content/drive/My Drive/Summer_21/dataset/groove_midi_files/groove/drummer1/session1/150_latin-brazilian-baiao_95_fill_4-4.mid.\n",
            "INFO:tensorflow:Converted MIDI file /content/drive/My Drive/Summer_21/dataset/groove_midi_files/groove/drummer1/session1/243_funk-purdieshuffle_130_fill_4-4.mid.\n",
            "I0627 13:45:43.695170 140075429287808 convert_dir_to_note_sequences.py:153] Converted MIDI file /content/drive/My Drive/Summer_21/dataset/groove_midi_files/groove/drummer1/session1/243_funk-purdieshuffle_130_fill_4-4.mid.\n",
            "INFO:tensorflow:Converted MIDI file /content/drive/My Drive/Summer_21/dataset/groove_midi_files/groove/drummer1/session1/166_latin-brazilian-baiao_95_fill_4-4.mid.\n",
            "I0627 13:45:46.371196 140075429287808 convert_dir_to_note_sequences.py:153] Converted MIDI file /content/drive/My Drive/Summer_21/dataset/groove_midi_files/groove/drummer1/session1/166_latin-brazilian-baiao_95_fill_4-4.mid.\n",
            "INFO:tensorflow:Converted MIDI file /content/drive/My Drive/Summer_21/dataset/groove_midi_files/groove/drummer1/session1/135_funk-fast_125_fill_4-4.mid.\n",
            "I0627 13:45:50.259619 140075429287808 convert_dir_to_note_sequences.py:153] Converted MIDI file /content/drive/My Drive/Summer_21/dataset/groove_midi_files/groove/drummer1/session1/135_funk-fast_125_fill_4-4.mid.\n",
            "INFO:tensorflow:Converted MIDI file /content/drive/My Drive/Summer_21/dataset/groove_midi_files/groove/drummer1/session1/139_funk-fast_125_fill_4-4.mid.\n",
            "I0627 13:45:52.877705 140075429287808 convert_dir_to_note_sequences.py:153] Converted MIDI file /content/drive/My Drive/Summer_21/dataset/groove_midi_files/groove/drummer1/session1/139_funk-fast_125_fill_4-4.mid.\n",
            "INFO:tensorflow:Converted MIDI file /content/drive/My Drive/Summer_21/dataset/groove_midi_files/groove/drummer1/session1/151_latin-brazilian-baiao_95_fill_4-4.mid.\n",
            "I0627 13:45:56.710290 140075429287808 convert_dir_to_note_sequences.py:153] Converted MIDI file /content/drive/My Drive/Summer_21/dataset/groove_midi_files/groove/drummer1/session1/151_latin-brazilian-baiao_95_fill_4-4.mid.\n",
            "INFO:tensorflow:Converted MIDI file /content/drive/My Drive/Summer_21/dataset/groove_midi_files/groove/drummer1/session1/176_afrocuban_105_beat_4-4.mid.\n",
            "I0627 13:46:00.171289 140075429287808 convert_dir_to_note_sequences.py:153] Converted MIDI file /content/drive/My Drive/Summer_21/dataset/groove_midi_files/groove/drummer1/session1/176_afrocuban_105_beat_4-4.mid.\n",
            "INFO:tensorflow:Converted MIDI file /content/drive/My Drive/Summer_21/dataset/groove_midi_files/groove/drummer1/session1/152_latin-brazilian-baiao_95_fill_4-4.mid.\n",
            "I0627 13:46:03.322865 140075429287808 convert_dir_to_note_sequences.py:153] Converted MIDI file /content/drive/My Drive/Summer_21/dataset/groove_midi_files/groove/drummer1/session1/152_latin-brazilian-baiao_95_fill_4-4.mid.\n",
            "INFO:tensorflow:Converted MIDI file /content/drive/My Drive/Summer_21/dataset/groove_midi_files/groove/drummer1/session1/36_latin-samba_116_fill_4-4.mid.\n",
            "I0627 13:46:06.392745 140075429287808 convert_dir_to_note_sequences.py:153] Converted MIDI file /content/drive/My Drive/Summer_21/dataset/groove_midi_files/groove/drummer1/session1/36_latin-samba_116_fill_4-4.mid.\n",
            "INFO:tensorflow:Converted MIDI file /content/drive/My Drive/Summer_21/dataset/groove_midi_files/groove/drummer1/session1/177_afrocuban_105_fill_4-4.mid.\n",
            "I0627 13:46:10.241896 140075429287808 convert_dir_to_note_sequences.py:153] Converted MIDI file /content/drive/My Drive/Summer_21/dataset/groove_midi_files/groove/drummer1/session1/177_afrocuban_105_fill_4-4.mid.\n",
            "INFO:tensorflow:Converted MIDI file /content/drive/My Drive/Summer_21/dataset/groove_midi_files/groove/drummer1/session1/72_jazz_125_fill_4-4.mid.\n",
            "I0627 13:46:12.796586 140075429287808 convert_dir_to_note_sequences.py:153] Converted MIDI file /content/drive/My Drive/Summer_21/dataset/groove_midi_files/groove/drummer1/session1/72_jazz_125_fill_4-4.mid.\n",
            "INFO:tensorflow:Converted MIDI file /content/drive/My Drive/Summer_21/dataset/groove_midi_files/groove/drummer1/session1/165_latin-brazilian-baiao_95_fill_4-4.mid.\n",
            "I0627 13:46:16.032505 140075429287808 convert_dir_to_note_sequences.py:153] Converted MIDI file /content/drive/My Drive/Summer_21/dataset/groove_midi_files/groove/drummer1/session1/165_latin-brazilian-baiao_95_fill_4-4.mid.\n",
            "INFO:tensorflow:Converted MIDI file /content/drive/My Drive/Summer_21/dataset/groove_midi_files/groove/drummer1/session1/250_funk-purdieshuffle_130_fill_4-4.mid.\n",
            "I0627 13:46:18.815930 140075429287808 convert_dir_to_note_sequences.py:153] Converted MIDI file /content/drive/My Drive/Summer_21/dataset/groove_midi_files/groove/drummer1/session1/250_funk-purdieshuffle_130_fill_4-4.mid.\n",
            "INFO:tensorflow:Converted MIDI file /content/drive/My Drive/Summer_21/dataset/groove_midi_files/groove/drummer1/session1/153_latin-brazilian-baiao_95_fill_4-4.mid.\n",
            "I0627 13:46:22.064876 140075429287808 convert_dir_to_note_sequences.py:153] Converted MIDI file /content/drive/My Drive/Summer_21/dataset/groove_midi_files/groove/drummer1/session1/153_latin-brazilian-baiao_95_fill_4-4.mid.\n",
            "INFO:tensorflow:Converted MIDI file /content/drive/My Drive/Summer_21/dataset/groove_midi_files/groove/drummer1/session1/185_reggae_78_fill_4-4.mid.\n",
            "I0627 13:46:24.714916 140075429287808 convert_dir_to_note_sequences.py:153] Converted MIDI file /content/drive/My Drive/Summer_21/dataset/groove_midi_files/groove/drummer1/session1/185_reggae_78_fill_4-4.mid.\n",
            "INFO:tensorflow:Converted MIDI file /content/drive/My Drive/Summer_21/dataset/groove_midi_files/groove/drummer1/session1/85_neworleans-funk_84_fill_4-4.mid.\n",
            "I0627 13:46:28.024633 140075429287808 convert_dir_to_note_sequences.py:153] Converted MIDI file /content/drive/My Drive/Summer_21/dataset/groove_midi_files/groove/drummer1/session1/85_neworleans-funk_84_fill_4-4.mid.\n",
            "INFO:tensorflow:Converted MIDI file /content/drive/My Drive/Summer_21/dataset/groove_midi_files/groove/drummer1/session1/64_jazz_125_fill_4-4.mid.\n",
            "I0627 13:46:30.628151 140075429287808 convert_dir_to_note_sequences.py:153] Converted MIDI file /content/drive/My Drive/Summer_21/dataset/groove_midi_files/groove/drummer1/session1/64_jazz_125_fill_4-4.mid.\n",
            "INFO:tensorflow:Converted MIDI file /content/drive/My Drive/Summer_21/dataset/groove_midi_files/groove/drummer1/session1/267_funk-purdieshuffle_130_fill_4-4.mid.\n",
            "I0627 13:46:34.034043 140075429287808 convert_dir_to_note_sequences.py:153] Converted MIDI file /content/drive/My Drive/Summer_21/dataset/groove_midi_files/groove/drummer1/session1/267_funk-purdieshuffle_130_fill_4-4.mid.\n",
            "INFO:tensorflow:Converted MIDI file /content/drive/My Drive/Summer_21/dataset/groove_midi_files/groove/drummer1/session1/180_afrocuban_105_fill_4-4.mid.\n",
            "I0627 13:46:36.771026 140075429287808 convert_dir_to_note_sequences.py:153] Converted MIDI file /content/drive/My Drive/Summer_21/dataset/groove_midi_files/groove/drummer1/session1/180_afrocuban_105_fill_4-4.mid.\n",
            "INFO:tensorflow:Converted MIDI file /content/drive/My Drive/Summer_21/dataset/groove_midi_files/groove/drummer1/session1/164_latin-brazilian-baiao_95_fill_4-4.mid.\n",
            "I0627 13:46:39.759539 140075429287808 convert_dir_to_note_sequences.py:153] Converted MIDI file /content/drive/My Drive/Summer_21/dataset/groove_midi_files/groove/drummer1/session1/164_latin-brazilian-baiao_95_fill_4-4.mid.\n",
            "INFO:tensorflow:Converted MIDI file /content/drive/My Drive/Summer_21/dataset/groove_midi_files/groove/drummer1/session1/128_funk-fast_125_fill_4-4.mid.\n",
            "I0627 13:46:42.887391 140075429287808 convert_dir_to_note_sequences.py:153] Converted MIDI file /content/drive/My Drive/Summer_21/dataset/groove_midi_files/groove/drummer1/session1/128_funk-fast_125_fill_4-4.mid.\n",
            "INFO:tensorflow:Converted MIDI file /content/drive/My Drive/Summer_21/dataset/groove_midi_files/groove/drummer1/session1/223_rock-halftime_140_fill_4-4.mid.\n",
            "I0627 13:46:46.476086 140075429287808 convert_dir_to_note_sequences.py:153] Converted MIDI file /content/drive/My Drive/Summer_21/dataset/groove_midi_files/groove/drummer1/session1/223_rock-halftime_140_fill_4-4.mid.\n",
            "INFO:tensorflow:Converted MIDI file /content/drive/My Drive/Summer_21/dataset/groove_midi_files/groove/drummer1/session1/230_rock-halftime_140_fill_4-4.mid.\n",
            "I0627 13:46:49.995711 140075429287808 convert_dir_to_note_sequences.py:153] Converted MIDI file /content/drive/My Drive/Summer_21/dataset/groove_midi_files/groove/drummer1/session1/230_rock-halftime_140_fill_4-4.mid.\n",
            "INFO:tensorflow:Converted MIDI file /content/drive/My Drive/Summer_21/dataset/groove_midi_files/groove/drummer1/session1/132_funk-fast_125_fill_4-4.mid.\n",
            "I0627 13:46:53.021807 140075429287808 convert_dir_to_note_sequences.py:153] Converted MIDI file /content/drive/My Drive/Summer_21/dataset/groove_midi_files/groove/drummer1/session1/132_funk-fast_125_fill_4-4.mid.\n",
            "INFO:tensorflow:Converted MIDI file /content/drive/My Drive/Summer_21/dataset/groove_midi_files/groove/drummer1/session1/54_jazz_125_fill_4-4.mid.\n",
            "I0627 13:46:55.958975 140075429287808 convert_dir_to_note_sequences.py:153] Converted MIDI file /content/drive/My Drive/Summer_21/dataset/groove_midi_files/groove/drummer1/session1/54_jazz_125_fill_4-4.mid.\n",
            "INFO:tensorflow:Converted MIDI file /content/drive/My Drive/Summer_21/dataset/groove_midi_files/groove/drummer1/session1/186_reggae_78_fill_4-4.mid.\n",
            "I0627 13:46:59.081770 140075429287808 convert_dir_to_note_sequences.py:153] Converted MIDI file /content/drive/My Drive/Summer_21/dataset/groove_midi_files/groove/drummer1/session1/186_reggae_78_fill_4-4.mid.\n",
            "INFO:tensorflow:Converted MIDI file /content/drive/My Drive/Summer_21/dataset/groove_midi_files/groove/drummer1/session1/236_rock-halftime_140_fill_4-4.mid.\n",
            "I0627 13:47:02.190091 140075429287808 convert_dir_to_note_sequences.py:153] Converted MIDI file /content/drive/My Drive/Summer_21/dataset/groove_midi_files/groove/drummer1/session1/236_rock-halftime_140_fill_4-4.mid.\n",
            "INFO:tensorflow:Converted MIDI file /content/drive/My Drive/Summer_21/dataset/groove_midi_files/groove/drummer1/session1/88_neworleans-funk_84_fill_4-4.mid.\n",
            "I0627 13:47:05.432616 140075429287808 convert_dir_to_note_sequences.py:153] Converted MIDI file /content/drive/My Drive/Summer_21/dataset/groove_midi_files/groove/drummer1/session1/88_neworleans-funk_84_fill_4-4.mid.\n",
            "INFO:tensorflow:Converted MIDI file /content/drive/My Drive/Summer_21/dataset/groove_midi_files/groove/drummer1/session1/35_latin-samba_116_fill_4-4.mid.\n",
            "I0627 13:47:07.824563 140075429287808 convert_dir_to_note_sequences.py:153] Converted MIDI file /content/drive/My Drive/Summer_21/dataset/groove_midi_files/groove/drummer1/session1/35_latin-samba_116_fill_4-4.mid.\n",
            "INFO:tensorflow:Converted MIDI file /content/drive/My Drive/Summer_21/dataset/groove_midi_files/groove/drummer1/session1/28_latin-samba_116_beat_4-4.mid.\n",
            "I0627 13:47:11.724457 140075429287808 convert_dir_to_note_sequences.py:153] Converted MIDI file /content/drive/My Drive/Summer_21/dataset/groove_midi_files/groove/drummer1/session1/28_latin-samba_116_beat_4-4.mid.\n",
            "INFO:tensorflow:Converted MIDI file /content/drive/My Drive/Summer_21/dataset/groove_midi_files/groove/drummer1/session1/108_funk_95_fill_4-4.mid.\n",
            "I0627 13:47:14.807675 140075429287808 convert_dir_to_note_sequences.py:153] Converted MIDI file /content/drive/My Drive/Summer_21/dataset/groove_midi_files/groove/drummer1/session1/108_funk_95_fill_4-4.mid.\n",
            "INFO:tensorflow:Converted MIDI file /content/drive/My Drive/Summer_21/dataset/groove_midi_files/groove/drummer1/session1/225_rock-halftime_140_fill_4-4.mid.\n",
            "I0627 13:47:18.672845 140075429287808 convert_dir_to_note_sequences.py:153] Converted MIDI file /content/drive/My Drive/Summer_21/dataset/groove_midi_files/groove/drummer1/session1/225_rock-halftime_140_fill_4-4.mid.\n",
            "INFO:tensorflow:Converted MIDI file /content/drive/My Drive/Summer_21/dataset/groove_midi_files/groove/drummer1/session1/70_jazz_125_fill_4-4.mid.\n",
            "I0627 13:47:21.043743 140075429287808 convert_dir_to_note_sequences.py:153] Converted MIDI file /content/drive/My Drive/Summer_21/dataset/groove_midi_files/groove/drummer1/session1/70_jazz_125_fill_4-4.mid.\n",
            "INFO:tensorflow:Converted MIDI file /content/drive/My Drive/Summer_21/dataset/groove_midi_files/groove/drummer1/session1/240_funk-purdieshuffle_130_fill_4-4.mid.\n",
            "I0627 13:47:24.822133 140075429287808 convert_dir_to_note_sequences.py:153] Converted MIDI file /content/drive/My Drive/Summer_21/dataset/groove_midi_files/groove/drummer1/session1/240_funk-purdieshuffle_130_fill_4-4.mid.\n",
            "INFO:tensorflow:Converted MIDI file /content/drive/My Drive/Summer_21/dataset/groove_midi_files/groove/drummer1/session1/141_funk-fast_125_fill_4-4.mid.\n",
            "I0627 13:47:27.250492 140075429287808 convert_dir_to_note_sequences.py:153] Converted MIDI file /content/drive/My Drive/Summer_21/dataset/groove_midi_files/groove/drummer1/session1/141_funk-fast_125_fill_4-4.mid.\n",
            "INFO:tensorflow:Converted MIDI file /content/drive/My Drive/Summer_21/dataset/groove_midi_files/groove/drummer1/session1/26_jazz-funk_116_fill_4-4.mid.\n",
            "I0627 13:47:31.016177 140075429287808 convert_dir_to_note_sequences.py:153] Converted MIDI file /content/drive/My Drive/Summer_21/dataset/groove_midi_files/groove/drummer1/session1/26_jazz-funk_116_fill_4-4.mid.\n",
            "INFO:tensorflow:Converted MIDI file /content/drive/My Drive/Summer_21/dataset/groove_midi_files/groove/drummer1/session1/4_jazz-funk_116_beat_4-4.mid.\n",
            "I0627 13:47:33.649124 140075429287808 convert_dir_to_note_sequences.py:153] Converted MIDI file /content/drive/My Drive/Summer_21/dataset/groove_midi_files/groove/drummer1/session1/4_jazz-funk_116_beat_4-4.mid.\n",
            "INFO:tensorflow:Converted MIDI file /content/drive/My Drive/Summer_21/dataset/groove_midi_files/groove/drummer1/session1/107_funk_95_fill_4-4.mid.\n",
            "I0627 13:47:37.161616 140075429287808 convert_dir_to_note_sequences.py:153] Converted MIDI file /content/drive/My Drive/Summer_21/dataset/groove_midi_files/groove/drummer1/session1/107_funk_95_fill_4-4.mid.\n",
            "INFO:tensorflow:Converted MIDI file /content/drive/My Drive/Summer_21/dataset/groove_midi_files/groove/drummer1/session1/13_jazz-funk_116_fill_4-4.mid.\n",
            "I0627 13:47:39.623155 140075429287808 convert_dir_to_note_sequences.py:153] Converted MIDI file /content/drive/My Drive/Summer_21/dataset/groove_midi_files/groove/drummer1/session1/13_jazz-funk_116_fill_4-4.mid.\n",
            "INFO:tensorflow:Converted MIDI file /content/drive/My Drive/Summer_21/dataset/groove_midi_files/groove/drummer1/session1/66_jazz_125_fill_4-4.mid.\n",
            "I0627 13:47:43.000049 140075429287808 convert_dir_to_note_sequences.py:153] Converted MIDI file /content/drive/My Drive/Summer_21/dataset/groove_midi_files/groove/drummer1/session1/66_jazz_125_fill_4-4.mid.\n",
            "INFO:tensorflow:Converted MIDI file /content/drive/My Drive/Summer_21/dataset/groove_midi_files/groove/drummer1/session1/253_funk-purdieshuffle_130_fill_4-4.mid.\n",
            "I0627 13:47:45.782967 140075429287808 convert_dir_to_note_sequences.py:153] Converted MIDI file /content/drive/My Drive/Summer_21/dataset/groove_midi_files/groove/drummer1/session1/253_funk-purdieshuffle_130_fill_4-4.mid.\n",
            "INFO:tensorflow:Converted MIDI file /content/drive/My Drive/Summer_21/dataset/groove_midi_files/groove/drummer1/session1/52_jazz_125_beat_4-4.mid.\n",
            "I0627 13:47:50.335177 140075429287808 convert_dir_to_note_sequences.py:153] Converted MIDI file /content/drive/My Drive/Summer_21/dataset/groove_midi_files/groove/drummer1/session1/52_jazz_125_beat_4-4.mid.\n",
            "INFO:tensorflow:Converted MIDI file /content/drive/My Drive/Summer_21/dataset/groove_midi_files/groove/drummer1/session1/229_rock-halftime_140_fill_4-4.mid.\n",
            "I0627 13:47:53.284963 140075429287808 convert_dir_to_note_sequences.py:153] Converted MIDI file /content/drive/My Drive/Summer_21/dataset/groove_midi_files/groove/drummer1/session1/229_rock-halftime_140_fill_4-4.mid.\n",
            "INFO:tensorflow:Converted MIDI file /content/drive/My Drive/Summer_21/dataset/groove_midi_files/groove/drummer1/session1/264_funk-purdieshuffle_130_fill_4-4.mid.\n",
            "I0627 13:47:56.789885 140075429287808 convert_dir_to_note_sequences.py:153] Converted MIDI file /content/drive/My Drive/Summer_21/dataset/groove_midi_files/groove/drummer1/session1/264_funk-purdieshuffle_130_fill_4-4.mid.\n",
            "INFO:tensorflow:Converted MIDI file /content/drive/My Drive/Summer_21/dataset/groove_midi_files/groove/drummer1/session1/46_latin-samba_116_fill_4-4.mid.\n",
            "I0627 13:47:59.475696 140075429287808 convert_dir_to_note_sequences.py:153] Converted MIDI file /content/drive/My Drive/Summer_21/dataset/groove_midi_files/groove/drummer1/session1/46_latin-samba_116_fill_4-4.mid.\n",
            "INFO:tensorflow:Converted MIDI file /content/drive/My Drive/Summer_21/dataset/groove_midi_files/groove/drummer1/session1/9_jazz-funk_116_fill_4-4.mid.\n",
            "I0627 13:48:03.038500 140075429287808 convert_dir_to_note_sequences.py:153] Converted MIDI file /content/drive/My Drive/Summer_21/dataset/groove_midi_files/groove/drummer1/session1/9_jazz-funk_116_fill_4-4.mid.\n",
            "INFO:tensorflow:Converted MIDI file /content/drive/My Drive/Summer_21/dataset/groove_midi_files/groove/drummer1/session1/16_jazz-funk_116_fill_4-4.mid.\n",
            "I0627 13:48:05.595217 140075429287808 convert_dir_to_note_sequences.py:153] Converted MIDI file /content/drive/My Drive/Summer_21/dataset/groove_midi_files/groove/drummer1/session1/16_jazz-funk_116_fill_4-4.mid.\n",
            "INFO:tensorflow:Converted MIDI file /content/drive/My Drive/Summer_21/dataset/groove_midi_files/groove/drummer1/session1/84_neworleans-funk_84_fill_4-4.mid.\n",
            "I0627 13:48:09.431624 140075429287808 convert_dir_to_note_sequences.py:153] Converted MIDI file /content/drive/My Drive/Summer_21/dataset/groove_midi_files/groove/drummer1/session1/84_neworleans-funk_84_fill_4-4.mid.\n",
            "INFO:tensorflow:Converted MIDI file /content/drive/My Drive/Summer_21/dataset/groove_midi_files/groove/drummer1/session1/34_latin-samba_116_fill_4-4.mid.\n",
            "I0627 13:48:11.851217 140075429287808 convert_dir_to_note_sequences.py:153] Converted MIDI file /content/drive/My Drive/Summer_21/dataset/groove_midi_files/groove/drummer1/session1/34_latin-samba_116_fill_4-4.mid.\n",
            "INFO:tensorflow:Converted MIDI file /content/drive/My Drive/Summer_21/dataset/groove_midi_files/groove/drummer1/session1/144_funk-fast_125_fill_4-4.mid.\n",
            "I0627 13:48:15.554983 140075429287808 convert_dir_to_note_sequences.py:153] Converted MIDI file /content/drive/My Drive/Summer_21/dataset/groove_midi_files/groove/drummer1/session1/144_funk-fast_125_fill_4-4.mid.\n",
            "INFO:tensorflow:Converted MIDI file /content/drive/My Drive/Summer_21/dataset/groove_midi_files/groove/drummer1/session1/53_jazz_125_fill_4-4.mid.\n",
            "I0627 13:48:18.119844 140075429287808 convert_dir_to_note_sequences.py:153] Converted MIDI file /content/drive/My Drive/Summer_21/dataset/groove_midi_files/groove/drummer1/session1/53_jazz_125_fill_4-4.mid.\n",
            "INFO:tensorflow:Converted MIDI file /content/drive/My Drive/Summer_21/dataset/groove_midi_files/groove/drummer1/session1/23_jazz-funk_116_fill_4-4.mid.\n",
            "I0627 13:48:21.765717 140075429287808 convert_dir_to_note_sequences.py:153] Converted MIDI file /content/drive/My Drive/Summer_21/dataset/groove_midi_files/groove/drummer1/session1/23_jazz-funk_116_fill_4-4.mid.\n",
            "INFO:tensorflow:Converted MIDI file /content/drive/My Drive/Summer_21/dataset/groove_midi_files/groove/drummer1/session1/101_dance-disco_120_beat_4-4.mid.\n",
            "I0627 13:48:24.612051 140075429287808 convert_dir_to_note_sequences.py:153] Converted MIDI file /content/drive/My Drive/Summer_21/dataset/groove_midi_files/groove/drummer1/session1/101_dance-disco_120_beat_4-4.mid.\n",
            "INFO:tensorflow:Converted MIDI file /content/drive/My Drive/Summer_21/dataset/groove_midi_files/groove/drummer1/session1/199_reggae_78_fill_4-4.mid.\n",
            "I0627 13:48:27.841177 140075429287808 convert_dir_to_note_sequences.py:153] Converted MIDI file /content/drive/My Drive/Summer_21/dataset/groove_midi_files/groove/drummer1/session1/199_reggae_78_fill_4-4.mid.\n",
            "INFO:tensorflow:Converted MIDI file /content/drive/My Drive/Summer_21/dataset/groove_midi_files/groove/drummer1/session1/258_funk-purdieshuffle_130_fill_4-4.mid.\n",
            "I0627 13:48:30.767885 140075429287808 convert_dir_to_note_sequences.py:153] Converted MIDI file /content/drive/My Drive/Summer_21/dataset/groove_midi_files/groove/drummer1/session1/258_funk-purdieshuffle_130_fill_4-4.mid.\n",
            "INFO:tensorflow:Converted MIDI file /content/drive/My Drive/Summer_21/dataset/groove_midi_files/groove/drummer1/session1/104_funk_95_fill_4-4.mid.\n",
            "I0627 13:48:34.205147 140075429287808 convert_dir_to_note_sequences.py:153] Converted MIDI file /content/drive/My Drive/Summer_21/dataset/groove_midi_files/groove/drummer1/session1/104_funk_95_fill_4-4.mid.\n",
            "INFO:tensorflow:Converted MIDI file /content/drive/My Drive/Summer_21/dataset/groove_midi_files/groove/drummer1/session1/193_reggae_78_fill_4-4.mid.\n",
            "I0627 13:48:36.814682 140075429287808 convert_dir_to_note_sequences.py:153] Converted MIDI file /content/drive/My Drive/Summer_21/dataset/groove_midi_files/groove/drummer1/session1/193_reggae_78_fill_4-4.mid.\n",
            "INFO:tensorflow:Converted MIDI file /content/drive/My Drive/Summer_21/dataset/groove_midi_files/groove/drummer1/session1/69_jazz_125_fill_4-4.mid.\n",
            "I0627 13:48:40.784058 140075429287808 convert_dir_to_note_sequences.py:153] Converted MIDI file /content/drive/My Drive/Summer_21/dataset/groove_midi_files/groove/drummer1/session1/69_jazz_125_fill_4-4.mid.\n",
            "INFO:tensorflow:Converted MIDI file /content/drive/My Drive/Summer_21/dataset/groove_midi_files/groove/drummer1/session1/96_neworleans-funk_84_fill_4-4.mid.\n",
            "I0627 13:48:43.545662 140075429287808 convert_dir_to_note_sequences.py:153] Converted MIDI file /content/drive/My Drive/Summer_21/dataset/groove_midi_files/groove/drummer1/session1/96_neworleans-funk_84_fill_4-4.mid.\n",
            "INFO:tensorflow:Converted MIDI file /content/drive/My Drive/Summer_21/dataset/groove_midi_files/groove/drummer1/session1/208_rock-halftime_140_fill_4-4.mid.\n",
            "I0627 13:48:47.150135 140075429287808 convert_dir_to_note_sequences.py:153] Converted MIDI file /content/drive/My Drive/Summer_21/dataset/groove_midi_files/groove/drummer1/session1/208_rock-halftime_140_fill_4-4.mid.\n",
            "INFO:tensorflow:Converted MIDI file /content/drive/My Drive/Summer_21/dataset/groove_midi_files/groove/drummer1/session1/211_rock-halftime_140_fill_4-4.mid.\n",
            "I0627 13:48:50.427999 140075429287808 convert_dir_to_note_sequences.py:153] Converted MIDI file /content/drive/My Drive/Summer_21/dataset/groove_midi_files/groove/drummer1/session1/211_rock-halftime_140_fill_4-4.mid.\n",
            "INFO:tensorflow:Converted MIDI file /content/drive/My Drive/Summer_21/dataset/groove_midi_files/groove/drummer1/session1/257_funk-purdieshuffle_130_fill_4-4.mid.\n",
            "I0627 13:48:53.602646 140075429287808 convert_dir_to_note_sequences.py:153] Converted MIDI file /content/drive/My Drive/Summer_21/dataset/groove_midi_files/groove/drummer1/session1/257_funk-purdieshuffle_130_fill_4-4.mid.\n",
            "INFO:tensorflow:Converted MIDI file /content/drive/My Drive/Summer_21/dataset/groove_midi_files/groove/drummer1/session1/179_afrocuban_105_fill_4-4.mid.\n",
            "I0627 13:48:56.786829 140075429287808 convert_dir_to_note_sequences.py:153] Converted MIDI file /content/drive/My Drive/Summer_21/dataset/groove_midi_files/groove/drummer1/session1/179_afrocuban_105_fill_4-4.mid.\n",
            "INFO:tensorflow:Converted MIDI file /content/drive/My Drive/Summer_21/dataset/groove_midi_files/groove/drummer1/session1/260_funk-purdieshuffle_130_fill_4-4.mid.\n",
            "I0627 13:48:59.621198 140075429287808 convert_dir_to_note_sequences.py:153] Converted MIDI file /content/drive/My Drive/Summer_21/dataset/groove_midi_files/groove/drummer1/session1/260_funk-purdieshuffle_130_fill_4-4.mid.\n",
            "INFO:tensorflow:Converted MIDI file /content/drive/My Drive/Summer_21/dataset/groove_midi_files/groove/drummer1/session1/182_afrocuban_105_fill_4-4.mid.\n",
            "I0627 13:49:02.088426 140075429287808 convert_dir_to_note_sequences.py:153] Converted MIDI file /content/drive/My Drive/Summer_21/dataset/groove_midi_files/groove/drummer1/session1/182_afrocuban_105_fill_4-4.mid.\n",
            "INFO:tensorflow:Converted MIDI file /content/drive/My Drive/Summer_21/dataset/groove_midi_files/groove/drummer1/session1/76_jazz-mediumfast_180_beat_4-4.mid.\n",
            "I0627 13:49:05.743906 140075429287808 convert_dir_to_note_sequences.py:153] Converted MIDI file /content/drive/My Drive/Summer_21/dataset/groove_midi_files/groove/drummer1/session1/76_jazz-mediumfast_180_beat_4-4.mid.\n",
            "INFO:tensorflow:Converted MIDI file /content/drive/My Drive/Summer_21/dataset/groove_midi_files/groove/drummer1/session1/204_rock-halftime_140_fill_4-4.mid.\n",
            "I0627 13:49:09.457983 140075429287808 convert_dir_to_note_sequences.py:153] Converted MIDI file /content/drive/My Drive/Summer_21/dataset/groove_midi_files/groove/drummer1/session1/204_rock-halftime_140_fill_4-4.mid.\n",
            "INFO:tensorflow:Converted MIDI file /content/drive/My Drive/Summer_21/dataset/groove_midi_files/groove/drummer1/session1/183_afrocuban_105_beat_4-4.mid.\n",
            "I0627 13:49:13.372725 140075429287808 convert_dir_to_note_sequences.py:153] Converted MIDI file /content/drive/My Drive/Summer_21/dataset/groove_midi_files/groove/drummer1/session1/183_afrocuban_105_beat_4-4.mid.\n",
            "INFO:tensorflow:Converted MIDI file /content/drive/My Drive/Summer_21/dataset/groove_midi_files/groove/drummer1/session1/244_funk-purdieshuffle_130_fill_4-4.mid.\n",
            "I0627 13:49:15.815191 140075429287808 convert_dir_to_note_sequences.py:153] Converted MIDI file /content/drive/My Drive/Summer_21/dataset/groove_midi_files/groove/drummer1/session1/244_funk-purdieshuffle_130_fill_4-4.mid.\n",
            "INFO:tensorflow:Converted MIDI file /content/drive/My Drive/Summer_21/dataset/groove_midi_files/groove/drummer1/session1/61_jazz_125_fill_4-4.mid.\n",
            "I0627 13:49:19.515637 140075429287808 convert_dir_to_note_sequences.py:153] Converted MIDI file /content/drive/My Drive/Summer_21/dataset/groove_midi_files/groove/drummer1/session1/61_jazz_125_fill_4-4.mid.\n",
            "INFO:tensorflow:Converted MIDI file /content/drive/My Drive/Summer_21/dataset/groove_midi_files/groove/drummer1/session1/217_rock-halftime_140_fill_4-4.mid.\n",
            "I0627 13:49:21.983438 140075429287808 convert_dir_to_note_sequences.py:153] Converted MIDI file /content/drive/My Drive/Summer_21/dataset/groove_midi_files/groove/drummer1/session1/217_rock-halftime_140_fill_4-4.mid.\n",
            "INFO:tensorflow:Converted MIDI file /content/drive/My Drive/Summer_21/dataset/groove_midi_files/groove/drummer1/session1/93_neworleans-funk_84_fill_4-4.mid.\n",
            "I0627 13:49:25.373279 140075429287808 convert_dir_to_note_sequences.py:153] Converted MIDI file /content/drive/My Drive/Summer_21/dataset/groove_midi_files/groove/drummer1/session1/93_neworleans-funk_84_fill_4-4.mid.\n",
            "INFO:tensorflow:Converted MIDI file /content/drive/My Drive/Summer_21/dataset/groove_midi_files/groove/drummer1/session1/82_neworleans-funk_84_beat_4-4.mid.\n",
            "I0627 13:49:28.267623 140075429287808 convert_dir_to_note_sequences.py:153] Converted MIDI file /content/drive/My Drive/Summer_21/dataset/groove_midi_files/groove/drummer1/session1/82_neworleans-funk_84_beat_4-4.mid.\n",
            "INFO:tensorflow:Converted MIDI file /content/drive/My Drive/Summer_21/dataset/groove_midi_files/groove/drummer1/session1/137_funk-fast_125_fill_4-4.mid.\n",
            "I0627 13:49:31.655511 140075429287808 convert_dir_to_note_sequences.py:153] Converted MIDI file /content/drive/My Drive/Summer_21/dataset/groove_midi_files/groove/drummer1/session1/137_funk-fast_125_fill_4-4.mid.\n",
            "INFO:tensorflow:Converted MIDI file /content/drive/My Drive/Summer_21/dataset/groove_midi_files/groove/drummer1/session1/194_reggae_78_fill_4-4.mid.\n",
            "I0627 13:49:34.301179 140075429287808 convert_dir_to_note_sequences.py:153] Converted MIDI file /content/drive/My Drive/Summer_21/dataset/groove_midi_files/groove/drummer1/session1/194_reggae_78_fill_4-4.mid.\n",
            "INFO:tensorflow:Converted MIDI file /content/drive/My Drive/Summer_21/dataset/groove_midi_files/groove/drummer1/session1/248_funk-purdieshuffle_130_fill_4-4.mid.\n",
            "I0627 13:49:37.672440 140075429287808 convert_dir_to_note_sequences.py:153] Converted MIDI file /content/drive/My Drive/Summer_21/dataset/groove_midi_files/groove/drummer1/session1/248_funk-purdieshuffle_130_fill_4-4.mid.\n",
            "INFO:tensorflow:Converted MIDI file /content/drive/My Drive/Summer_21/dataset/groove_midi_files/groove/drummer1/session1/130_funk-fast_125_fill_4-4.mid.\n",
            "I0627 13:49:40.192612 140075429287808 convert_dir_to_note_sequences.py:153] Converted MIDI file /content/drive/My Drive/Summer_21/dataset/groove_midi_files/groove/drummer1/session1/130_funk-fast_125_fill_4-4.mid.\n",
            "INFO:tensorflow:Converted MIDI file /content/drive/My Drive/Summer_21/dataset/groove_midi_files/groove/drummer1/session1/51_rock-shuffle_125_beat_4-4.mid.\n",
            "I0627 13:49:43.798060 140075429287808 convert_dir_to_note_sequences.py:153] Converted MIDI file /content/drive/My Drive/Summer_21/dataset/groove_midi_files/groove/drummer1/session1/51_rock-shuffle_125_beat_4-4.mid.\n",
            "INFO:tensorflow:Converted MIDI file /content/drive/My Drive/Summer_21/dataset/groove_midi_files/groove/drummer1/session1/124_funk_95_fill_4-4.mid.\n",
            "I0627 13:49:46.302753 140075429287808 convert_dir_to_note_sequences.py:153] Converted MIDI file /content/drive/My Drive/Summer_21/dataset/groove_midi_files/groove/drummer1/session1/124_funk_95_fill_4-4.mid.\n",
            "INFO:tensorflow:Converted MIDI file /content/drive/My Drive/Summer_21/dataset/groove_midi_files/groove/drummer1/session1/44_latin-samba_116_fill_4-4.mid.\n",
            "I0627 13:49:50.469634 140075429287808 convert_dir_to_note_sequences.py:153] Converted MIDI file /content/drive/My Drive/Summer_21/dataset/groove_midi_files/groove/drummer1/session1/44_latin-samba_116_fill_4-4.mid.\n",
            "INFO:tensorflow:Converted MIDI file /content/drive/My Drive/Summer_21/dataset/groove_midi_files/groove/drummer1/session1/197_reggae_78_fill_4-4.mid.\n",
            "I0627 13:49:54.104120 140075429287808 convert_dir_to_note_sequences.py:153] Converted MIDI file /content/drive/My Drive/Summer_21/dataset/groove_midi_files/groove/drummer1/session1/197_reggae_78_fill_4-4.mid.\n",
            "INFO:tensorflow:Converted MIDI file /content/drive/My Drive/Summer_21/dataset/groove_midi_files/groove/drummer1/session1/174_latin-brazilian-baiao_95_fill_4-4.mid.\n",
            "I0627 13:49:57.596672 140075429287808 convert_dir_to_note_sequences.py:153] Converted MIDI file /content/drive/My Drive/Summer_21/dataset/groove_midi_files/groove/drummer1/session1/174_latin-brazilian-baiao_95_fill_4-4.mid.\n",
            "INFO:tensorflow:Converted MIDI file /content/drive/My Drive/Summer_21/dataset/groove_midi_files/groove/drummer1/session1/121_funk_95_fill_4-4.mid.\n",
            "I0627 13:50:00.227593 140075429287808 convert_dir_to_note_sequences.py:153] Converted MIDI file /content/drive/My Drive/Summer_21/dataset/groove_midi_files/groove/drummer1/session1/121_funk_95_fill_4-4.mid.\n",
            "INFO:tensorflow:Converted MIDI file /content/drive/My Drive/Summer_21/dataset/groove_midi_files/groove/drummer1/session1/175_latin-brazilian-baiao_95_fill_4-4.mid.\n",
            "I0627 13:50:03.696027 140075429287808 convert_dir_to_note_sequences.py:153] Converted MIDI file /content/drive/My Drive/Summer_21/dataset/groove_midi_files/groove/drummer1/session1/175_latin-brazilian-baiao_95_fill_4-4.mid.\n",
            "INFO:tensorflow:Converted MIDI file /content/drive/My Drive/Summer_21/dataset/groove_midi_files/groove/drummer1/session1/119_funk_95_fill_4-4.mid.\n",
            "I0627 13:50:07.232692 140075429287808 convert_dir_to_note_sequences.py:153] Converted MIDI file /content/drive/My Drive/Summer_21/dataset/groove_midi_files/groove/drummer1/session1/119_funk_95_fill_4-4.mid.\n",
            "INFO:tensorflow:Converted MIDI file /content/drive/My Drive/Summer_21/dataset/groove_midi_files/groove/drummer1/session1/49_jazz_125_beat_4-4.mid.\n",
            "I0627 13:50:11.259330 140075429287808 convert_dir_to_note_sequences.py:153] Converted MIDI file /content/drive/My Drive/Summer_21/dataset/groove_midi_files/groove/drummer1/session1/49_jazz_125_beat_4-4.mid.\n",
            "INFO:tensorflow:Converted MIDI file /content/drive/My Drive/Summer_21/dataset/groove_midi_files/groove/drummer1/session1/63_jazz_125_fill_4-4.mid.\n",
            "I0627 13:50:13.703191 140075429287808 convert_dir_to_note_sequences.py:153] Converted MIDI file /content/drive/My Drive/Summer_21/dataset/groove_midi_files/groove/drummer1/session1/63_jazz_125_fill_4-4.mid.\n",
            "INFO:tensorflow:Converted MIDI file /content/drive/My Drive/Summer_21/dataset/groove_midi_files/groove/drummer1/session1/89_neworleans-funk_84_fill_4-4.mid.\n",
            "I0627 13:50:17.135291 140075429287808 convert_dir_to_note_sequences.py:153] Converted MIDI file /content/drive/My Drive/Summer_21/dataset/groove_midi_files/groove/drummer1/session1/89_neworleans-funk_84_fill_4-4.mid.\n",
            "INFO:tensorflow:Converted MIDI file /content/drive/My Drive/Summer_21/dataset/groove_midi_files/groove/drummer1/session1/116_funk_95_fill_4-4.mid.\n",
            "I0627 13:50:19.542054 140075429287808 convert_dir_to_note_sequences.py:153] Converted MIDI file /content/drive/My Drive/Summer_21/dataset/groove_midi_files/groove/drummer1/session1/116_funk_95_fill_4-4.mid.\n",
            "INFO:tensorflow:Converted MIDI file /content/drive/My Drive/Summer_21/dataset/groove_midi_files/groove/drummer1/session1/173_latin-brazilian-baiao_95_fill_4-4.mid.\n",
            "I0627 13:50:22.959623 140075429287808 convert_dir_to_note_sequences.py:153] Converted MIDI file /content/drive/My Drive/Summer_21/dataset/groove_midi_files/groove/drummer1/session1/173_latin-brazilian-baiao_95_fill_4-4.mid.\n",
            "INFO:tensorflow:Converted MIDI file /content/drive/My Drive/Summer_21/dataset/groove_midi_files/groove/drummer1/session1/235_rock-halftime_140_fill_4-4.mid.\n",
            "I0627 13:50:25.782349 140075429287808 convert_dir_to_note_sequences.py:153] Converted MIDI file /content/drive/My Drive/Summer_21/dataset/groove_midi_files/groove/drummer1/session1/235_rock-halftime_140_fill_4-4.mid.\n",
            "INFO:tensorflow:Converted MIDI file /content/drive/My Drive/Summer_21/dataset/groove_midi_files/groove/drummer1/session1/226_rock-halftime_140_fill_4-4.mid.\n",
            "I0627 13:50:29.241756 140075429287808 convert_dir_to_note_sequences.py:153] Converted MIDI file /content/drive/My Drive/Summer_21/dataset/groove_midi_files/groove/drummer1/session1/226_rock-halftime_140_fill_4-4.mid.\n",
            "INFO:tensorflow:Converted MIDI file /content/drive/My Drive/Summer_21/dataset/groove_midi_files/groove/drummer1/session1/254_funk-purdieshuffle_130_fill_4-4.mid.\n",
            "I0627 13:50:31.950043 140075429287808 convert_dir_to_note_sequences.py:153] Converted MIDI file /content/drive/My Drive/Summer_21/dataset/groove_midi_files/groove/drummer1/session1/254_funk-purdieshuffle_130_fill_4-4.mid.\n",
            "INFO:tensorflow:Converted MIDI file /content/drive/My Drive/Summer_21/dataset/groove_midi_files/groove/drummer1/session1/39_latin-samba_116_fill_4-4.mid.\n",
            "I0627 13:50:35.528923 140075429287808 convert_dir_to_note_sequences.py:153] Converted MIDI file /content/drive/My Drive/Summer_21/dataset/groove_midi_files/groove/drummer1/session1/39_latin-samba_116_fill_4-4.mid.\n",
            "INFO:tensorflow:Converted MIDI file /content/drive/My Drive/Summer_21/dataset/groove_midi_files/groove/drummer1/session1/172_latin-brazilian-baiao_95_fill_4-4.mid.\n",
            "I0627 13:50:38.575061 140075429287808 convert_dir_to_note_sequences.py:153] Converted MIDI file /content/drive/My Drive/Summer_21/dataset/groove_midi_files/groove/drummer1/session1/172_latin-brazilian-baiao_95_fill_4-4.mid.\n",
            "INFO:tensorflow:Converted MIDI file /content/drive/My Drive/Summer_21/dataset/groove_midi_files/groove/drummer1/session1/100_neworleans-secondline_94_beat_4-4.mid.\n",
            "I0627 13:50:42.142214 140075429287808 convert_dir_to_note_sequences.py:153] Converted MIDI file /content/drive/My Drive/Summer_21/dataset/groove_midi_files/groove/drummer1/session1/100_neworleans-secondline_94_beat_4-4.mid.\n",
            "INFO:tensorflow:Converted MIDI file /content/drive/My Drive/Summer_21/dataset/groove_midi_files/groove/drummer1/session1/37_latin-samba_116_fill_4-4.mid.\n",
            "I0627 13:50:44.995331 140075429287808 convert_dir_to_note_sequences.py:153] Converted MIDI file /content/drive/My Drive/Summer_21/dataset/groove_midi_files/groove/drummer1/session1/37_latin-samba_116_fill_4-4.mid.\n",
            "INFO:tensorflow:Converted MIDI file /content/drive/My Drive/Summer_21/dataset/groove_midi_files/groove/drummer1/session1/7_jazz-funk_116_fill_4-4.mid.\n",
            "I0627 13:50:48.175144 140075429287808 convert_dir_to_note_sequences.py:153] Converted MIDI file /content/drive/My Drive/Summer_21/dataset/groove_midi_files/groove/drummer1/session1/7_jazz-funk_116_fill_4-4.mid.\n",
            "INFO:tensorflow:Converted MIDI file /content/drive/My Drive/Summer_21/dataset/groove_midi_files/groove/drummer1/session1/263_funk-purdieshuffle_130_fill_4-4.mid.\n",
            "I0627 13:50:50.754200 140075429287808 convert_dir_to_note_sequences.py:153] Converted MIDI file /content/drive/My Drive/Summer_21/dataset/groove_midi_files/groove/drummer1/session1/263_funk-purdieshuffle_130_fill_4-4.mid.\n",
            "INFO:tensorflow:Converted MIDI file /content/drive/My Drive/Summer_21/dataset/groove_midi_files/groove/drummer1/session1/59_jazz_125_fill_4-4.mid.\n",
            "I0627 13:50:53.824917 140075429287808 convert_dir_to_note_sequences.py:153] Converted MIDI file /content/drive/My Drive/Summer_21/dataset/groove_midi_files/groove/drummer1/session1/59_jazz_125_fill_4-4.mid.\n",
            "INFO:tensorflow:Converted MIDI file /content/drive/My Drive/Summer_21/dataset/groove_midi_files/groove/drummer1/session1/190_reggae_78_fill_4-4.mid.\n",
            "I0627 13:50:56.797224 140075429287808 convert_dir_to_note_sequences.py:153] Converted MIDI file /content/drive/My Drive/Summer_21/dataset/groove_midi_files/groove/drummer1/session1/190_reggae_78_fill_4-4.mid.\n",
            "INFO:tensorflow:Converted MIDI file /content/drive/My Drive/Summer_21/dataset/groove_midi_files/groove/drummer1/session1/220_rock-halftime_140_fill_4-4.mid.\n",
            "I0627 13:50:59.888370 140075429287808 convert_dir_to_note_sequences.py:153] Converted MIDI file /content/drive/My Drive/Summer_21/dataset/groove_midi_files/groove/drummer1/session1/220_rock-halftime_140_fill_4-4.mid.\n",
            "INFO:tensorflow:Converted MIDI file /content/drive/My Drive/Summer_21/dataset/groove_midi_files/groove/drummer1/session1/143_funk-fast_125_fill_4-4.mid.\n",
            "I0627 13:51:02.470141 140075429287808 convert_dir_to_note_sequences.py:153] Converted MIDI file /content/drive/My Drive/Summer_21/dataset/groove_midi_files/groove/drummer1/session1/143_funk-fast_125_fill_4-4.mid.\n",
            "INFO:tensorflow:Converted MIDI file /content/drive/My Drive/Summer_21/dataset/groove_midi_files/groove/drummer1/session1/233_rock-halftime_140_fill_4-4.mid.\n",
            "I0627 13:51:05.587647 140075429287808 convert_dir_to_note_sequences.py:153] Converted MIDI file /content/drive/My Drive/Summer_21/dataset/groove_midi_files/groove/drummer1/session1/233_rock-halftime_140_fill_4-4.mid.\n",
            "INFO:tensorflow:Converted MIDI file /content/drive/My Drive/Summer_21/dataset/groove_midi_files/groove/drummer1/session1/24_jazz-funk_116_fill_4-4.mid.\n",
            "I0627 13:51:08.180030 140075429287808 convert_dir_to_note_sequences.py:153] Converted MIDI file /content/drive/My Drive/Summer_21/dataset/groove_midi_files/groove/drummer1/session1/24_jazz-funk_116_fill_4-4.mid.\n",
            "INFO:tensorflow:Converted MIDI file /content/drive/My Drive/Summer_21/dataset/groove_midi_files/groove/drummer1/session1/171_latin-brazilian-baiao_95_fill_4-4.mid.\n",
            "I0627 13:51:10.923884 140075429287808 convert_dir_to_note_sequences.py:153] Converted MIDI file /content/drive/My Drive/Summer_21/dataset/groove_midi_files/groove/drummer1/session1/171_latin-brazilian-baiao_95_fill_4-4.mid.\n",
            "INFO:tensorflow:Converted MIDI file /content/drive/My Drive/Summer_21/dataset/groove_midi_files/groove/drummer1/session1/113_funk_95_fill_4-4.mid.\n",
            "I0627 13:51:14.873102 140075429287808 convert_dir_to_note_sequences.py:153] Converted MIDI file /content/drive/My Drive/Summer_21/dataset/groove_midi_files/groove/drummer1/session1/113_funk_95_fill_4-4.mid.\n",
            "INFO:tensorflow:Converted MIDI file /content/drive/My Drive/Summer_21/dataset/groove_midi_files/groove/drummer1/session1/247_funk-purdieshuffle_130_fill_4-4.mid.\n",
            "I0627 13:51:18.461571 140075429287808 convert_dir_to_note_sequences.py:153] Converted MIDI file /content/drive/My Drive/Summer_21/dataset/groove_midi_files/groove/drummer1/session1/247_funk-purdieshuffle_130_fill_4-4.mid.\n",
            "INFO:tensorflow:Converted MIDI file /content/drive/My Drive/Summer_21/dataset/groove_midi_files/groove/drummer1/session1/11_jazz-funk_116_fill_4-4.mid.\n",
            "I0627 13:51:21.373642 140075429287808 convert_dir_to_note_sequences.py:153] Converted MIDI file /content/drive/My Drive/Summer_21/dataset/groove_midi_files/groove/drummer1/session1/11_jazz-funk_116_fill_4-4.mid.\n",
            "INFO:tensorflow:Converted MIDI file /content/drive/My Drive/Summer_21/dataset/groove_midi_files/groove/drummer1/session1/147_latin-brazilian-baiao_95_fill_4-4.mid.\n",
            "I0627 13:51:23.830750 140075429287808 convert_dir_to_note_sequences.py:153] Converted MIDI file /content/drive/My Drive/Summer_21/dataset/groove_midi_files/groove/drummer1/session1/147_latin-brazilian-baiao_95_fill_4-4.mid.\n",
            "INFO:tensorflow:Converted MIDI file /content/drive/My Drive/Summer_21/dataset/groove_midi_files/groove/drummer1/session1/170_latin-brazilian-baiao_95_fill_4-4.mid.\n",
            "I0627 13:51:27.765399 140075429287808 convert_dir_to_note_sequences.py:153] Converted MIDI file /content/drive/My Drive/Summer_21/dataset/groove_midi_files/groove/drummer1/session1/170_latin-brazilian-baiao_95_fill_4-4.mid.\n",
            "INFO:tensorflow:Converted MIDI file /content/drive/My Drive/Summer_21/dataset/groove_midi_files/groove/drummer1/session1/126_funk-fast_125_beat_4-4.mid.\n",
            "I0627 13:51:31.736176 140075429287808 convert_dir_to_note_sequences.py:153] Converted MIDI file /content/drive/My Drive/Summer_21/dataset/groove_midi_files/groove/drummer1/session1/126_funk-fast_125_beat_4-4.mid.\n",
            "INFO:tensorflow:Converted MIDI file /content/drive/My Drive/Summer_21/dataset/groove_midi_files/groove/drummer1/session1/209_rock-halftime_140_fill_4-4.mid.\n",
            "I0627 13:51:34.248375 140075429287808 convert_dir_to_note_sequences.py:153] Converted MIDI file /content/drive/My Drive/Summer_21/dataset/groove_midi_files/groove/drummer1/session1/209_rock-halftime_140_fill_4-4.mid.\n",
            "INFO:tensorflow:Converted MIDI file /content/drive/My Drive/Summer_21/dataset/groove_midi_files/groove/drummer1/session1/131_funk-fast_125_fill_4-4.mid.\n",
            "I0627 13:51:36.601701 140075429287808 convert_dir_to_note_sequences.py:153] Converted MIDI file /content/drive/My Drive/Summer_21/dataset/groove_midi_files/groove/drummer1/session1/131_funk-fast_125_fill_4-4.mid.\n",
            "INFO:tensorflow:Converted MIDI file /content/drive/My Drive/Summer_21/dataset/groove_midi_files/groove/drummer1/session1/191_reggae_78_fill_4-4.mid.\n",
            "I0627 13:51:39.862437 140075429287808 convert_dir_to_note_sequences.py:153] Converted MIDI file /content/drive/My Drive/Summer_21/dataset/groove_midi_files/groove/drummer1/session1/191_reggae_78_fill_4-4.mid.\n",
            "INFO:tensorflow:Converted MIDI file /content/drive/My Drive/Summer_21/dataset/groove_midi_files/groove/drummer1/session1/159_latin-brazilian-baiao_95_fill_4-4.mid.\n",
            "I0627 13:51:42.469790 140075429287808 convert_dir_to_note_sequences.py:153] Converted MIDI file /content/drive/My Drive/Summer_21/dataset/groove_midi_files/groove/drummer1/session1/159_latin-brazilian-baiao_95_fill_4-4.mid.\n",
            "INFO:tensorflow:Converted MIDI file /content/drive/My Drive/Summer_21/dataset/groove_midi_files/groove/drummer1/session1/65_jazz_125_fill_4-4.mid.\n",
            "I0627 13:51:45.707025 140075429287808 convert_dir_to_note_sequences.py:153] Converted MIDI file /content/drive/My Drive/Summer_21/dataset/groove_midi_files/groove/drummer1/session1/65_jazz_125_fill_4-4.mid.\n",
            "INFO:tensorflow:Converted MIDI file /content/drive/My Drive/Summer_21/dataset/groove_midi_files/groove/drummer1/session1/42_latin-samba_116_fill_4-4.mid.\n",
            "I0627 13:51:48.440575 140075429287808 convert_dir_to_note_sequences.py:153] Converted MIDI file /content/drive/My Drive/Summer_21/dataset/groove_midi_files/groove/drummer1/session1/42_latin-samba_116_fill_4-4.mid.\n",
            "INFO:tensorflow:Converted MIDI file /content/drive/My Drive/Summer_21/dataset/groove_midi_files/groove/drummer1/session1/127_funk-fast_125_fill_4-4.mid.\n",
            "I0627 13:51:51.874329 140075429287808 convert_dir_to_note_sequences.py:153] Converted MIDI file /content/drive/My Drive/Summer_21/dataset/groove_midi_files/groove/drummer1/session1/127_funk-fast_125_fill_4-4.mid.\n",
            "INFO:tensorflow:Converted MIDI file /content/drive/My Drive/Summer_21/dataset/groove_midi_files/groove/drummer1/session1/73_jazz_125_fill_4-4.mid.\n",
            "I0627 13:51:55.085321 140075429287808 convert_dir_to_note_sequences.py:153] Converted MIDI file /content/drive/My Drive/Summer_21/dataset/groove_midi_files/groove/drummer1/session1/73_jazz_125_fill_4-4.mid.\n",
            "INFO:tensorflow:Converted MIDI file /content/drive/My Drive/Summer_21/dataset/groove_midi_files/groove/drummer1/session1/158_latin-brazilian-baiao_95_fill_4-4.mid.\n",
            "I0627 13:51:58.903665 140075429287808 convert_dir_to_note_sequences.py:153] Converted MIDI file /content/drive/My Drive/Summer_21/dataset/groove_midi_files/groove/drummer1/session1/158_latin-brazilian-baiao_95_fill_4-4.mid.\n",
            "INFO:tensorflow:Converted MIDI file /content/drive/My Drive/Summer_21/dataset/groove_midi_files/groove/drummer1/session1/266_funk-purdieshuffle_130_fill_4-4.mid.\n",
            "I0627 13:52:01.545530 140075429287808 convert_dir_to_note_sequences.py:153] Converted MIDI file /content/drive/My Drive/Summer_21/dataset/groove_midi_files/groove/drummer1/session1/266_funk-purdieshuffle_130_fill_4-4.mid.\n",
            "INFO:tensorflow:Converted MIDI file /content/drive/My Drive/Summer_21/dataset/groove_midi_files/groove/drummer1/session1/169_latin-brazilian-baiao_95_fill_4-4.mid.\n",
            "I0627 13:52:04.669432 140075429287808 convert_dir_to_note_sequences.py:153] Converted MIDI file /content/drive/My Drive/Summer_21/dataset/groove_midi_files/groove/drummer1/session1/169_latin-brazilian-baiao_95_fill_4-4.mid.\n",
            "INFO:tensorflow:Converted MIDI file /content/drive/My Drive/Summer_21/dataset/groove_midi_files/groove/drummer1/session1/216_rock-halftime_140_fill_4-4.mid.\n",
            "I0627 13:52:07.146558 140075429287808 convert_dir_to_note_sequences.py:153] Converted MIDI file /content/drive/My Drive/Summer_21/dataset/groove_midi_files/groove/drummer1/session1/216_rock-halftime_140_fill_4-4.mid.\n",
            "INFO:tensorflow:Converted MIDI file /content/drive/My Drive/Summer_21/dataset/groove_midi_files/groove/drummer1/session1/6_jazz-funk_116_fill_4-4.mid.\n",
            "I0627 13:52:10.446497 140075429287808 convert_dir_to_note_sequences.py:153] Converted MIDI file /content/drive/My Drive/Summer_21/dataset/groove_midi_files/groove/drummer1/session1/6_jazz-funk_116_fill_4-4.mid.\n",
            "INFO:tensorflow:Converted MIDI file /content/drive/My Drive/Summer_21/dataset/groove_midi_files/groove/drummer1/session1/205_rock-halftime_140_fill_4-4.mid.\n",
            "I0627 13:52:13.256057 140075429287808 convert_dir_to_note_sequences.py:153] Converted MIDI file /content/drive/My Drive/Summer_21/dataset/groove_midi_files/groove/drummer1/session1/205_rock-halftime_140_fill_4-4.mid.\n",
            "INFO:tensorflow:Converted MIDI file /content/drive/My Drive/Summer_21/dataset/groove_midi_files/groove/drummer1/session1/146_latin-brazilian-baiao_95_beat_4-4.mid.\n",
            "I0627 13:52:17.210820 140075429287808 convert_dir_to_note_sequences.py:153] Converted MIDI file /content/drive/My Drive/Summer_21/dataset/groove_midi_files/groove/drummer1/session1/146_latin-brazilian-baiao_95_beat_4-4.mid.\n",
            "INFO:tensorflow:Converted MIDI file /content/drive/My Drive/Summer_21/dataset/groove_midi_files/groove/drummer1/session1/196_reggae_78_fill_4-4.mid.\n",
            "I0627 13:52:19.810369 140075429287808 convert_dir_to_note_sequences.py:153] Converted MIDI file /content/drive/My Drive/Summer_21/dataset/groove_midi_files/groove/drummer1/session1/196_reggae_78_fill_4-4.mid.\n",
            "INFO:tensorflow:Converted MIDI file /content/drive/My Drive/Summer_21/dataset/groove_midi_files/groove/drummer1/session1/57_jazz_125_fill_4-4.mid.\n",
            "I0627 13:52:23.084168 140075429287808 convert_dir_to_note_sequences.py:153] Converted MIDI file /content/drive/My Drive/Summer_21/dataset/groove_midi_files/groove/drummer1/session1/57_jazz_125_fill_4-4.mid.\n",
            "INFO:tensorflow:Converted MIDI file /content/drive/My Drive/Summer_21/dataset/groove_midi_files/groove/drummer1/session1/251_funk-purdieshuffle_130_fill_4-4.mid.\n",
            "I0627 13:52:25.969246 140075429287808 convert_dir_to_note_sequences.py:153] Converted MIDI file /content/drive/My Drive/Summer_21/dataset/groove_midi_files/groove/drummer1/session1/251_funk-purdieshuffle_130_fill_4-4.mid.\n",
            "INFO:tensorflow:Converted MIDI file /content/drive/My Drive/Summer_21/dataset/groove_midi_files/groove/drummer1/session1/168_latin-brazilian-baiao_95_fill_4-4.mid.\n",
            "I0627 13:52:30.113667 140075429287808 convert_dir_to_note_sequences.py:153] Converted MIDI file /content/drive/My Drive/Summer_21/dataset/groove_midi_files/groove/drummer1/session1/168_latin-brazilian-baiao_95_fill_4-4.mid.\n",
            "INFO:tensorflow:Converted MIDI file /content/drive/My Drive/Summer_21/dataset/groove_midi_files/groove/drummer1/session1/31_latin-samba_116_fill_4-4.mid.\n",
            "I0627 13:52:32.859409 140075429287808 convert_dir_to_note_sequences.py:153] Converted MIDI file /content/drive/My Drive/Summer_21/dataset/groove_midi_files/groove/drummer1/session1/31_latin-samba_116_fill_4-4.mid.\n",
            "INFO:tensorflow:Converted MIDI file /content/drive/My Drive/Summer_21/dataset/groove_midi_files/groove/drummer1/session1/10_jazz-funk_116_fill_4-4.mid.\n",
            "I0627 13:52:36.534055 140075429287808 convert_dir_to_note_sequences.py:153] Converted MIDI file /content/drive/My Drive/Summer_21/dataset/groove_midi_files/groove/drummer1/session1/10_jazz-funk_116_fill_4-4.mid.\n",
            "INFO:tensorflow:Converted MIDI file /content/drive/My Drive/Summer_21/dataset/groove_midi_files/groove/drummer1/session1/203_rock-halftime_140_fill_4-4.mid.\n",
            "I0627 13:52:39.558090 140075429287808 convert_dir_to_note_sequences.py:153] Converted MIDI file /content/drive/My Drive/Summer_21/dataset/groove_midi_files/groove/drummer1/session1/203_rock-halftime_140_fill_4-4.mid.\n",
            "INFO:tensorflow:Converted MIDI file /content/drive/My Drive/Summer_21/dataset/groove_midi_files/groove/drummer1/session1/210_rock-halftime_140_fill_4-4.mid.\n",
            "I0627 13:52:42.882604 140075429287808 convert_dir_to_note_sequences.py:153] Converted MIDI file /content/drive/My Drive/Summer_21/dataset/groove_midi_files/groove/drummer1/session1/210_rock-halftime_140_fill_4-4.mid.\n",
            "INFO:tensorflow:Converted MIDI file /content/drive/My Drive/Summer_21/dataset/groove_midi_files/groove/drummer1/session1/75_jazz_125_beat_4-4.mid.\n",
            "I0627 13:52:45.616011 140075429287808 convert_dir_to_note_sequences.py:153] Converted MIDI file /content/drive/My Drive/Summer_21/dataset/groove_midi_files/groove/drummer1/session1/75_jazz_125_beat_4-4.mid.\n",
            "INFO:tensorflow:Converted MIDI file /content/drive/My Drive/Summer_21/dataset/groove_midi_files/groove/drummer1/session1/105_funk_95_fill_4-4.mid.\n",
            "I0627 13:52:48.082399 140075429287808 convert_dir_to_note_sequences.py:153] Converted MIDI file /content/drive/My Drive/Summer_21/dataset/groove_midi_files/groove/drummer1/session1/105_funk_95_fill_4-4.mid.\n",
            "INFO:tensorflow:Converted MIDI file /content/drive/My Drive/Summer_21/dataset/groove_midi_files/groove/drummer1/session1/142_funk-fast_125_fill_4-4.mid.\n",
            "I0627 13:52:51.240810 140075429287808 convert_dir_to_note_sequences.py:153] Converted MIDI file /content/drive/My Drive/Summer_21/dataset/groove_midi_files/groove/drummer1/session1/142_funk-fast_125_fill_4-4.mid.\n",
            "INFO:tensorflow:Converted MIDI file /content/drive/My Drive/Summer_21/dataset/groove_midi_files/groove/drummer1/session1/242_funk-purdieshuffle_130_fill_4-4.mid.\n",
            "I0627 13:52:53.902520 140075429287808 convert_dir_to_note_sequences.py:153] Converted MIDI file /content/drive/My Drive/Summer_21/dataset/groove_midi_files/groove/drummer1/session1/242_funk-purdieshuffle_130_fill_4-4.mid.\n",
            "INFO:tensorflow:Converted MIDI file /content/drive/My Drive/Summer_21/dataset/groove_midi_files/groove/drummer1/session1/145_latin-brazilian-baiao_95_beat_4-4.mid.\n",
            "I0627 13:52:57.508136 140075429287808 convert_dir_to_note_sequences.py:153] Converted MIDI file /content/drive/My Drive/Summer_21/dataset/groove_midi_files/groove/drummer1/session1/145_latin-brazilian-baiao_95_beat_4-4.mid.\n",
            "INFO:tensorflow:Converted MIDI file /content/drive/My Drive/Summer_21/dataset/groove_midi_files/groove/drummer1/session1/98_neworleans-funk_84_fill_4-4.mid.\n",
            "I0627 13:53:00.407827 140075429287808 convert_dir_to_note_sequences.py:153] Converted MIDI file /content/drive/My Drive/Summer_21/dataset/groove_midi_files/groove/drummer1/session1/98_neworleans-funk_84_fill_4-4.mid.\n",
            "INFO:tensorflow:Converted MIDI file /content/drive/My Drive/Summer_21/dataset/groove_midi_files/groove/drummer1/session1/25_jazz-funk_116_fill_4-4.mid.\n",
            "I0627 13:53:04.655395 140075429287808 convert_dir_to_note_sequences.py:153] Converted MIDI file /content/drive/My Drive/Summer_21/dataset/groove_midi_files/groove/drummer1/session1/25_jazz-funk_116_fill_4-4.mid.\n",
            "INFO:tensorflow:Converted MIDI file /content/drive/My Drive/Summer_21/dataset/groove_midi_files/groove/drummer1/session1/67_jazz_125_fill_4-4.mid.\n",
            "I0627 13:53:07.081624 140075429287808 convert_dir_to_note_sequences.py:153] Converted MIDI file /content/drive/My Drive/Summer_21/dataset/groove_midi_files/groove/drummer1/session1/67_jazz_125_fill_4-4.mid.\n",
            "INFO:tensorflow:Converted MIDI file /content/drive/My Drive/Summer_21/dataset/groove_midi_files/groove/drummer1/session1/87_neworleans-funk_84_fill_4-4.mid.\n",
            "I0627 13:53:11.155793 140075429287808 convert_dir_to_note_sequences.py:153] Converted MIDI file /content/drive/My Drive/Summer_21/dataset/groove_midi_files/groove/drummer1/session1/87_neworleans-funk_84_fill_4-4.mid.\n",
            "INFO:tensorflow:Converted MIDI file /content/drive/My Drive/Summer_21/dataset/groove_midi_files/groove/drummer1/session1/195_reggae_78_fill_4-4.mid.\n",
            "I0627 13:53:14.020201 140075429287808 convert_dir_to_note_sequences.py:153] Converted MIDI file /content/drive/My Drive/Summer_21/dataset/groove_midi_files/groove/drummer1/session1/195_reggae_78_fill_4-4.mid.\n",
            "INFO:tensorflow:Converted MIDI file /content/drive/My Drive/Summer_21/dataset/groove_midi_files/groove/drummer1/session1/200_reggae_78_fill_4-4.mid.\n",
            "I0627 13:53:17.036745 140075429287808 convert_dir_to_note_sequences.py:153] Converted MIDI file /content/drive/My Drive/Summer_21/dataset/groove_midi_files/groove/drummer1/session1/200_reggae_78_fill_4-4.mid.\n",
            "INFO:tensorflow:Converted MIDI file /content/drive/My Drive/Summer_21/dataset/groove_midi_files/groove/drummer1/session1/22_jazz-funk_116_fill_4-4.mid.\n",
            "I0627 13:53:19.826419 140075429287808 convert_dir_to_note_sequences.py:153] Converted MIDI file /content/drive/My Drive/Summer_21/dataset/groove_midi_files/groove/drummer1/session1/22_jazz-funk_116_fill_4-4.mid.\n",
            "INFO:tensorflow:Converted MIDI file /content/drive/My Drive/Summer_21/dataset/groove_midi_files/groove/drummer1/session1/17_jazz-funk_116_fill_4-4.mid.\n",
            "I0627 13:53:22.725033 140075429287808 convert_dir_to_note_sequences.py:153] Converted MIDI file /content/drive/My Drive/Summer_21/dataset/groove_midi_files/groove/drummer1/session1/17_jazz-funk_116_fill_4-4.mid.\n",
            "INFO:tensorflow:Converted MIDI file /content/drive/My Drive/Summer_21/dataset/groove_midi_files/groove/drummer1/session1/71_jazz_125_fill_4-4.mid.\n",
            "I0627 13:53:25.260062 140075429287808 convert_dir_to_note_sequences.py:153] Converted MIDI file /content/drive/My Drive/Summer_21/dataset/groove_midi_files/groove/drummer1/session1/71_jazz_125_fill_4-4.mid.\n",
            "INFO:tensorflow:Converted MIDI file /content/drive/My Drive/Summer_21/dataset/groove_midi_files/groove/drummer1/session1/117_funk_95_fill_4-4.mid.\n",
            "I0627 13:53:28.551757 140075429287808 convert_dir_to_note_sequences.py:153] Converted MIDI file /content/drive/My Drive/Summer_21/dataset/groove_midi_files/groove/drummer1/session1/117_funk_95_fill_4-4.mid.\n",
            "INFO:tensorflow:Converted MIDI file /content/drive/My Drive/Summer_21/dataset/groove_midi_files/groove/drummer1/session1/29_latin-samba_116_fill_4-4.mid.\n",
            "I0627 13:53:31.081132 140075429287808 convert_dir_to_note_sequences.py:153] Converted MIDI file /content/drive/My Drive/Summer_21/dataset/groove_midi_files/groove/drummer1/session1/29_latin-samba_116_fill_4-4.mid.\n",
            "INFO:tensorflow:Converted MIDI file /content/drive/My Drive/Summer_21/dataset/groove_midi_files/groove/drummer1/session1/238_rock-halftime_140_fill_4-4.mid.\n",
            "I0627 13:53:34.428380 140075429287808 convert_dir_to_note_sequences.py:153] Converted MIDI file /content/drive/My Drive/Summer_21/dataset/groove_midi_files/groove/drummer1/session1/238_rock-halftime_140_fill_4-4.mid.\n",
            "INFO:tensorflow:Converted MIDI file /content/drive/My Drive/Summer_21/dataset/groove_midi_files/groove/drummer1/session1/112_funk_95_fill_4-4.mid.\n",
            "I0627 13:53:36.963900 140075429287808 convert_dir_to_note_sequences.py:153] Converted MIDI file /content/drive/My Drive/Summer_21/dataset/groove_midi_files/groove/drummer1/session1/112_funk_95_fill_4-4.mid.\n",
            "INFO:tensorflow:Converted MIDI file /content/drive/My Drive/Summer_21/dataset/groove_midi_files/groove/drummer1/session1/95_neworleans-funk_84_fill_4-4.mid.\n",
            "I0627 13:53:40.160750 140075429287808 convert_dir_to_note_sequences.py:153] Converted MIDI file /content/drive/My Drive/Summer_21/dataset/groove_midi_files/groove/drummer1/session1/95_neworleans-funk_84_fill_4-4.mid.\n",
            "INFO:tensorflow:Converted MIDI file /content/drive/My Drive/Summer_21/dataset/groove_midi_files/groove/drummer1/session1/32_latin-samba_116_fill_4-4.mid.\n",
            "I0627 13:53:42.567573 140075429287808 convert_dir_to_note_sequences.py:153] Converted MIDI file /content/drive/My Drive/Summer_21/dataset/groove_midi_files/groove/drummer1/session1/32_latin-samba_116_fill_4-4.mid.\n",
            "INFO:tensorflow:Converted MIDI file /content/drive/My Drive/Summer_21/dataset/groove_midi_files/groove/drummer1/session1/80_dance-breakbeat_170_beat_4-4.mid.\n",
            "I0627 13:53:45.597889 140075429287808 convert_dir_to_note_sequences.py:153] Converted MIDI file /content/drive/My Drive/Summer_21/dataset/groove_midi_files/groove/drummer1/session1/80_dance-breakbeat_170_beat_4-4.mid.\n",
            "INFO:tensorflow:Converted MIDI file /content/drive/My Drive/Summer_21/dataset/groove_midi_files/groove/drummer1/session1/232_rock-halftime_140_fill_4-4.mid.\n",
            "I0627 13:53:49.006363 140075429287808 convert_dir_to_note_sequences.py:153] Converted MIDI file /content/drive/My Drive/Summer_21/dataset/groove_midi_files/groove/drummer1/session1/232_rock-halftime_140_fill_4-4.mid.\n",
            "INFO:tensorflow:Converted MIDI file /content/drive/My Drive/Summer_21/dataset/groove_midi_files/groove/drummer1/session1/265_funk-purdieshuffle_130_fill_4-4.mid.\n",
            "I0627 13:53:51.627314 140075429287808 convert_dir_to_note_sequences.py:153] Converted MIDI file /content/drive/My Drive/Summer_21/dataset/groove_midi_files/groove/drummer1/session1/265_funk-purdieshuffle_130_fill_4-4.mid.\n",
            "INFO:tensorflow:Converted MIDI file /content/drive/My Drive/Summer_21/dataset/groove_midi_files/groove/drummer1/session1/221_rock-halftime_140_fill_4-4.mid.\n",
            "I0627 13:53:55.624985 140075429287808 convert_dir_to_note_sequences.py:153] Converted MIDI file /content/drive/My Drive/Summer_21/dataset/groove_midi_files/groove/drummer1/session1/221_rock-halftime_140_fill_4-4.mid.\n",
            "INFO:tensorflow:Converted MIDI file /content/drive/My Drive/Summer_21/dataset/groove_midi_files/groove/drummer1/session1/192_reggae_78_fill_4-4.mid.\n",
            "I0627 13:53:58.502507 140075429287808 convert_dir_to_note_sequences.py:153] Converted MIDI file /content/drive/My Drive/Summer_21/dataset/groove_midi_files/groove/drummer1/session1/192_reggae_78_fill_4-4.mid.\n",
            "INFO:tensorflow:Converted MIDI file /content/drive/My Drive/Summer_21/dataset/groove_midi_files/groove/drummer1/session1/198_reggae_78_fill_4-4.mid.\n",
            "I0627 13:54:02.105854 140075429287808 convert_dir_to_note_sequences.py:153] Converted MIDI file /content/drive/My Drive/Summer_21/dataset/groove_midi_files/groove/drummer1/session1/198_reggae_78_fill_4-4.mid.\n",
            "INFO:tensorflow:Converted MIDI file /content/drive/My Drive/Summer_21/dataset/groove_midi_files/groove/drummer1/session1/125_funk_95_fill_4-4.mid.\n",
            "I0627 13:54:05.333735 140075429287808 convert_dir_to_note_sequences.py:153] Converted MIDI file /content/drive/My Drive/Summer_21/dataset/groove_midi_files/groove/drummer1/session1/125_funk_95_fill_4-4.mid.\n",
            "INFO:tensorflow:Converted MIDI file /content/drive/My Drive/Summer_21/dataset/groove_midi_files/groove/drummer1/session1/178_afrocuban_105_fill_4-4.mid.\n",
            "I0627 13:54:08.743431 140075429287808 convert_dir_to_note_sequences.py:153] Converted MIDI file /content/drive/My Drive/Summer_21/dataset/groove_midi_files/groove/drummer1/session1/178_afrocuban_105_fill_4-4.mid.\n",
            "INFO:tensorflow:Converted MIDI file /content/drive/My Drive/Summer_21/dataset/groove_midi_files/groove/drummer1/session1/252_funk-purdieshuffle_130_fill_4-4.mid.\n",
            "I0627 13:54:11.265094 140075429287808 convert_dir_to_note_sequences.py:153] Converted MIDI file /content/drive/My Drive/Summer_21/dataset/groove_midi_files/groove/drummer1/session1/252_funk-purdieshuffle_130_fill_4-4.mid.\n",
            "INFO:tensorflow:Converted MIDI file /content/drive/My Drive/Summer_21/dataset/groove_midi_files/groove/drummer1/session1/227_rock-halftime_140_fill_4-4.mid.\n",
            "I0627 13:54:14.469777 140075429287808 convert_dir_to_note_sequences.py:153] Converted MIDI file /content/drive/My Drive/Summer_21/dataset/groove_midi_files/groove/drummer1/session1/227_rock-halftime_140_fill_4-4.mid.\n",
            "INFO:tensorflow:Converted MIDI file /content/drive/My Drive/Summer_21/dataset/groove_midi_files/groove/drummer1/session1/202_rock-halftime_140_beat_4-4.mid.\n",
            "I0627 13:54:17.803960 140075429287808 convert_dir_to_note_sequences.py:153] Converted MIDI file /content/drive/My Drive/Summer_21/dataset/groove_midi_files/groove/drummer1/session1/202_rock-halftime_140_beat_4-4.mid.\n",
            "INFO:tensorflow:Converted MIDI file /content/drive/My Drive/Summer_21/dataset/groove_midi_files/groove/drummer1/session1/136_funk-fast_125_fill_4-4.mid.\n",
            "I0627 13:54:20.591299 140075429287808 convert_dir_to_note_sequences.py:153] Converted MIDI file /content/drive/My Drive/Summer_21/dataset/groove_midi_files/groove/drummer1/session1/136_funk-fast_125_fill_4-4.mid.\n",
            "INFO:tensorflow:Converted MIDI file /content/drive/My Drive/Summer_21/dataset/groove_midi_files/groove/drummer1/session1/90_neworleans-funk_84_fill_4-4.mid.\n",
            "I0627 13:54:22.743951 140075429287808 convert_dir_to_note_sequences.py:153] Converted MIDI file /content/drive/My Drive/Summer_21/dataset/groove_midi_files/groove/drummer1/session1/90_neworleans-funk_84_fill_4-4.mid.\n",
            "INFO:tensorflow:Converted MIDI file /content/drive/My Drive/Summer_21/dataset/groove_midi_files/groove/drummer1/session1/118_funk_95_fill_4-4.mid.\n",
            "I0627 13:54:26.054803 140075429287808 convert_dir_to_note_sequences.py:153] Converted MIDI file /content/drive/My Drive/Summer_21/dataset/groove_midi_files/groove/drummer1/session1/118_funk_95_fill_4-4.mid.\n",
            "INFO:tensorflow:Converted MIDI file /content/drive/My Drive/Summer_21/dataset/groove_midi_files/groove/drummer1/session1/234_rock-halftime_140_fill_4-4.mid.\n",
            "I0627 13:54:28.633156 140075429287808 convert_dir_to_note_sequences.py:153] Converted MIDI file /content/drive/My Drive/Summer_21/dataset/groove_midi_files/groove/drummer1/session1/234_rock-halftime_140_fill_4-4.mid.\n",
            "INFO:tensorflow:Converted MIDI file /content/drive/My Drive/Summer_21/dataset/groove_midi_files/groove/drummer1/session1/55_jazz_125_fill_4-4.mid.\n",
            "I0627 13:54:31.738386 140075429287808 convert_dir_to_note_sequences.py:153] Converted MIDI file /content/drive/My Drive/Summer_21/dataset/groove_midi_files/groove/drummer1/session1/55_jazz_125_fill_4-4.mid.\n",
            "INFO:tensorflow:Converted MIDI file /content/drive/My Drive/Summer_21/dataset/groove_midi_files/groove/drummer1/session1/41_latin-samba_116_fill_4-4.mid.\n",
            "I0627 13:54:33.904472 140075429287808 convert_dir_to_note_sequences.py:153] Converted MIDI file /content/drive/My Drive/Summer_21/dataset/groove_midi_files/groove/drummer1/session1/41_latin-samba_116_fill_4-4.mid.\n",
            "INFO:tensorflow:Converted MIDI file /content/drive/My Drive/Summer_21/dataset/groove_midi_files/groove/drummer1/session1/120_funk_95_fill_4-4.mid.\n",
            "I0627 13:54:36.509999 140075429287808 convert_dir_to_note_sequences.py:153] Converted MIDI file /content/drive/My Drive/Summer_21/dataset/groove_midi_files/groove/drummer1/session1/120_funk_95_fill_4-4.mid.\n",
            "INFO:tensorflow:Converted MIDI file /content/drive/My Drive/Summer_21/dataset/groove_midi_files/groove/drummer1/session1/1_funk_80_beat_4-4.mid.\n",
            "I0627 13:54:39.907732 140075429287808 convert_dir_to_note_sequences.py:153] Converted MIDI file /content/drive/My Drive/Summer_21/dataset/groove_midi_files/groove/drummer1/session1/1_funk_80_beat_4-4.mid.\n",
            "INFO:tensorflow:Converted MIDI file /content/drive/My Drive/Summer_21/dataset/groove_midi_files/groove/drummer1/session1/241_funk-purdieshuffle_130_fill_4-4.mid.\n",
            "I0627 13:54:42.742031 140075429287808 convert_dir_to_note_sequences.py:153] Converted MIDI file /content/drive/My Drive/Summer_21/dataset/groove_midi_files/groove/drummer1/session1/241_funk-purdieshuffle_130_fill_4-4.mid.\n",
            "WARNING:tensorflow:Unable to find a converter for file /content/drive/My Drive/Summer_21/dataset/groove_midi_files/groove/drummer1/session1/Icon\n",
            "W0627 13:54:42.746389 140075429287808 convert_dir_to_note_sequences.py:123] Unable to find a converter for file /content/drive/My Drive/Summer_21/dataset/groove_midi_files/groove/drummer1/session1/Icon\n",
            "INFO:tensorflow:Converting files in '/content/drive/My Drive/Summer_21/dataset/groove_midi_files/groove/drummer7'.\n",
            "I0627 13:54:42.746667 140075429287808 convert_dir_to_note_sequences.py:83] Converting files in '/content/drive/My Drive/Summer_21/dataset/groove_midi_files/groove/drummer7'.\n",
            "WARNING:tensorflow:Unable to find a converter for file /content/drive/My Drive/Summer_21/dataset/groove_midi_files/groove/drummer7/Icon\n",
            "W0627 13:54:42.755234 140075429287808 convert_dir_to_note_sequences.py:123] Unable to find a converter for file /content/drive/My Drive/Summer_21/dataset/groove_midi_files/groove/drummer7/Icon\n",
            "INFO:tensorflow:Converting files in '/content/drive/My Drive/Summer_21/dataset/groove_midi_files/groove/drummer7/session3'.\n",
            "I0627 13:54:42.755447 140075429287808 convert_dir_to_note_sequences.py:83] Converting files in '/content/drive/My Drive/Summer_21/dataset/groove_midi_files/groove/drummer7/session3'.\n",
            "INFO:tensorflow:Converted MIDI file /content/drive/My Drive/Summer_21/dataset/groove_midi_files/groove/drummer7/session3/33_hiphop_67_fill_4-4.mid.\n",
            "I0627 13:54:45.885541 140075429287808 convert_dir_to_note_sequences.py:153] Converted MIDI file /content/drive/My Drive/Summer_21/dataset/groove_midi_files/groove/drummer7/session3/33_hiphop_67_fill_4-4.mid.\n",
            "INFO:tensorflow:Converted MIDI file /content/drive/My Drive/Summer_21/dataset/groove_midi_files/groove/drummer7/session3/116_rock_95_fill_4-4.mid.\n",
            "I0627 13:54:48.497580 140075429287808 convert_dir_to_note_sequences.py:153] Converted MIDI file /content/drive/My Drive/Summer_21/dataset/groove_midi_files/groove/drummer7/session3/116_rock_95_fill_4-4.mid.\n",
            "INFO:tensorflow:Converted MIDI file /content/drive/My Drive/Summer_21/dataset/groove_midi_files/groove/drummer7/session3/103_hiphop_70_fill_4-4.mid.\n",
            "I0627 13:54:51.683205 140075429287808 convert_dir_to_note_sequences.py:153] Converted MIDI file /content/drive/My Drive/Summer_21/dataset/groove_midi_files/groove/drummer7/session3/103_hiphop_70_fill_4-4.mid.\n",
            "INFO:tensorflow:Converted MIDI file /content/drive/My Drive/Summer_21/dataset/groove_midi_files/groove/drummer7/session3/5_rock_60_fill_4-4.mid.\n",
            "I0627 13:54:54.490449 140075429287808 convert_dir_to_note_sequences.py:153] Converted MIDI file /content/drive/My Drive/Summer_21/dataset/groove_midi_files/groove/drummer7/session3/5_rock_60_fill_4-4.mid.\n",
            "INFO:tensorflow:Converted MIDI file /content/drive/My Drive/Summer_21/dataset/groove_midi_files/groove/drummer7/session3/61_funk_112_fill_4-4.mid.\n",
            "I0627 13:54:57.585705 140075429287808 convert_dir_to_note_sequences.py:153] Converted MIDI file /content/drive/My Drive/Summer_21/dataset/groove_midi_files/groove/drummer7/session3/61_funk_112_fill_4-4.mid.\n",
            "INFO:tensorflow:Converted MIDI file /content/drive/My Drive/Summer_21/dataset/groove_midi_files/groove/drummer7/session3/113_rock_95_fill_4-4.mid.\n",
            "I0627 13:54:59.778846 140075429287808 convert_dir_to_note_sequences.py:153] Converted MIDI file /content/drive/My Drive/Summer_21/dataset/groove_midi_files/groove/drummer7/session3/113_rock_95_fill_4-4.mid.\n",
            "INFO:tensorflow:Converted MIDI file /content/drive/My Drive/Summer_21/dataset/groove_midi_files/groove/drummer7/session3/120_rock_93_beat_4-4.mid.\n",
            "I0627 13:55:03.303725 140075429287808 convert_dir_to_note_sequences.py:153] Converted MIDI file /content/drive/My Drive/Summer_21/dataset/groove_midi_files/groove/drummer7/session3/120_rock_93_beat_4-4.mid.\n",
            "INFO:tensorflow:Converted MIDI file /content/drive/My Drive/Summer_21/dataset/groove_midi_files/groove/drummer7/session3/44_rock-indie_63_fill_4-4.mid.\n",
            "I0627 13:55:05.683296 140075429287808 convert_dir_to_note_sequences.py:153] Converted MIDI file /content/drive/My Drive/Summer_21/dataset/groove_midi_files/groove/drummer7/session3/44_rock-indie_63_fill_4-4.mid.\n",
            "INFO:tensorflow:Converted MIDI file /content/drive/My Drive/Summer_21/dataset/groove_midi_files/groove/drummer7/session3/98_hiphop_70_fill_4-4.mid.\n",
            "I0627 13:55:08.823402 140075429287808 convert_dir_to_note_sequences.py:153] Converted MIDI file /content/drive/My Drive/Summer_21/dataset/groove_midi_files/groove/drummer7/session3/98_hiphop_70_fill_4-4.mid.\n",
            "INFO:tensorflow:Converted MIDI file /content/drive/My Drive/Summer_21/dataset/groove_midi_files/groove/drummer7/session3/137_soul_105_fill_4-4.mid.\n",
            "I0627 13:55:11.542739 140075429287808 convert_dir_to_note_sequences.py:153] Converted MIDI file /content/drive/My Drive/Summer_21/dataset/groove_midi_files/groove/drummer7/session3/137_soul_105_fill_4-4.mid.\n",
            "INFO:tensorflow:Converted MIDI file /content/drive/My Drive/Summer_21/dataset/groove_midi_files/groove/drummer7/session3/87_neworleans-funk_93_fill_4-4.mid.\n",
            "I0627 13:55:14.375483 140075429287808 convert_dir_to_note_sequences.py:153] Converted MIDI file /content/drive/My Drive/Summer_21/dataset/groove_midi_files/groove/drummer7/session3/87_neworleans-funk_93_fill_4-4.mid.\n",
            "INFO:tensorflow:Converted MIDI file /content/drive/My Drive/Summer_21/dataset/groove_midi_files/groove/drummer7/session3/38_hiphop_67_beat_4-4.mid.\n",
            "I0627 13:55:17.542653 140075429287808 convert_dir_to_note_sequences.py:153] Converted MIDI file /content/drive/My Drive/Summer_21/dataset/groove_midi_files/groove/drummer7/session3/38_hiphop_67_beat_4-4.mid.\n",
            "INFO:tensorflow:Converted MIDI file /content/drive/My Drive/Summer_21/dataset/groove_midi_files/groove/drummer7/session3/34_hiphop_67_fill_4-4.mid.\n",
            "I0627 13:55:20.868482 140075429287808 convert_dir_to_note_sequences.py:153] Converted MIDI file /content/drive/My Drive/Summer_21/dataset/groove_midi_files/groove/drummer7/session3/34_hiphop_67_fill_4-4.mid.\n",
            "INFO:tensorflow:Converted MIDI file /content/drive/My Drive/Summer_21/dataset/groove_midi_files/groove/drummer7/session3/159_soul_98_beat_4-4.mid.\n",
            "I0627 13:55:23.840365 140075429287808 convert_dir_to_note_sequences.py:153] Converted MIDI file /content/drive/My Drive/Summer_21/dataset/groove_midi_files/groove/drummer7/session3/159_soul_98_beat_4-4.mid.\n",
            "INFO:tensorflow:Converted MIDI file /content/drive/My Drive/Summer_21/dataset/groove_midi_files/groove/drummer7/session3/17_pop-soft_83_fill_4-4.mid.\n",
            "I0627 13:55:26.569189 140075429287808 convert_dir_to_note_sequences.py:153] Converted MIDI file /content/drive/My Drive/Summer_21/dataset/groove_midi_files/groove/drummer7/session3/17_pop-soft_83_fill_4-4.mid.\n",
            "INFO:tensorflow:Converted MIDI file /content/drive/My Drive/Summer_21/dataset/groove_midi_files/groove/drummer7/session3/90_neworleans-funk_93_fill_4-4.mid.\n",
            "I0627 13:55:30.351898 140075429287808 convert_dir_to_note_sequences.py:153] Converted MIDI file /content/drive/My Drive/Summer_21/dataset/groove_midi_files/groove/drummer7/session3/90_neworleans-funk_93_fill_4-4.mid.\n",
            "INFO:tensorflow:Converted MIDI file /content/drive/My Drive/Summer_21/dataset/groove_midi_files/groove/drummer7/session3/53_funk_112_fill_4-4.mid.\n",
            "I0627 13:55:32.690203 140075429287808 convert_dir_to_note_sequences.py:153] Converted MIDI file /content/drive/My Drive/Summer_21/dataset/groove_midi_files/groove/drummer7/session3/53_funk_112_fill_4-4.mid.\n",
            "INFO:tensorflow:Converted MIDI file /content/drive/My Drive/Summer_21/dataset/groove_midi_files/groove/drummer7/session3/20_pop-soft_83_fill_4-4.mid.\n",
            "I0627 13:55:36.036721 140075429287808 convert_dir_to_note_sequences.py:153] Converted MIDI file /content/drive/My Drive/Summer_21/dataset/groove_midi_files/groove/drummer7/session3/20_pop-soft_83_fill_4-4.mid.\n",
            "INFO:tensorflow:Converted MIDI file /content/drive/My Drive/Summer_21/dataset/groove_midi_files/groove/drummer7/session3/104_hiphop_70_fill_4-4.mid.\n",
            "I0627 13:55:38.169660 140075429287808 convert_dir_to_note_sequences.py:153] Converted MIDI file /content/drive/My Drive/Summer_21/dataset/groove_midi_files/groove/drummer7/session3/104_hiphop_70_fill_4-4.mid.\n",
            "INFO:tensorflow:Converted MIDI file /content/drive/My Drive/Summer_21/dataset/groove_midi_files/groove/drummer7/session3/95_hiphop_70_fill_4-4.mid.\n",
            "I0627 13:55:42.110303 140075429287808 convert_dir_to_note_sequences.py:153] Converted MIDI file /content/drive/My Drive/Summer_21/dataset/groove_midi_files/groove/drummer7/session3/95_hiphop_70_fill_4-4.mid.\n",
            "INFO:tensorflow:Converted MIDI file /content/drive/My Drive/Summer_21/dataset/groove_midi_files/groove/drummer7/session3/82_neworleans-funk_93_fill_4-4.mid.\n",
            "I0627 13:55:44.737376 140075429287808 convert_dir_to_note_sequences.py:153] Converted MIDI file /content/drive/My Drive/Summer_21/dataset/groove_midi_files/groove/drummer7/session3/82_neworleans-funk_93_fill_4-4.mid.\n",
            "INFO:tensorflow:Converted MIDI file /content/drive/My Drive/Summer_21/dataset/groove_midi_files/groove/drummer7/session3/131_soul_105_beat_4-4.mid.\n",
            "I0627 13:55:49.000989 140075429287808 convert_dir_to_note_sequences.py:153] Converted MIDI file /content/drive/My Drive/Summer_21/dataset/groove_midi_files/groove/drummer7/session3/131_soul_105_beat_4-4.mid.\n",
            "INFO:tensorflow:Converted MIDI file /content/drive/My Drive/Summer_21/dataset/groove_midi_files/groove/drummer7/session3/13_pop-soft_83_fill_4-4.mid.\n",
            "I0627 13:55:51.559613 140075429287808 convert_dir_to_note_sequences.py:153] Converted MIDI file /content/drive/My Drive/Summer_21/dataset/groove_midi_files/groove/drummer7/session3/13_pop-soft_83_fill_4-4.mid.\n",
            "INFO:tensorflow:Converted MIDI file /content/drive/My Drive/Summer_21/dataset/groove_midi_files/groove/drummer7/session3/147_soul_105_fill_4-4.mid.\n",
            "I0627 13:55:54.133602 140075429287808 convert_dir_to_note_sequences.py:153] Converted MIDI file /content/drive/My Drive/Summer_21/dataset/groove_midi_files/groove/drummer7/session3/147_soul_105_fill_4-4.mid.\n",
            "INFO:tensorflow:Converted MIDI file /content/drive/My Drive/Summer_21/dataset/groove_midi_files/groove/drummer7/session3/79_neworleans-funk_93_fill_4-4.mid.\n",
            "I0627 13:55:57.350526 140075429287808 convert_dir_to_note_sequences.py:153] Converted MIDI file /content/drive/My Drive/Summer_21/dataset/groove_midi_files/groove/drummer7/session3/79_neworleans-funk_93_fill_4-4.mid.\n",
            "INFO:tensorflow:Converted MIDI file /content/drive/My Drive/Summer_21/dataset/groove_midi_files/groove/drummer7/session3/107_hiphop_70_fill_4-4.mid.\n",
            "I0627 13:55:59.611915 140075429287808 convert_dir_to_note_sequences.py:153] Converted MIDI file /content/drive/My Drive/Summer_21/dataset/groove_midi_files/groove/drummer7/session3/107_hiphop_70_fill_4-4.mid.\n",
            "INFO:tensorflow:Converted MIDI file /content/drive/My Drive/Summer_21/dataset/groove_midi_files/groove/drummer7/session3/63_funk_112_fill_4-4.mid.\n",
            "I0627 13:56:02.905456 140075429287808 convert_dir_to_note_sequences.py:153] Converted MIDI file /content/drive/My Drive/Summer_21/dataset/groove_midi_files/groove/drummer7/session3/63_funk_112_fill_4-4.mid.\n",
            "INFO:tensorflow:Converted MIDI file /content/drive/My Drive/Summer_21/dataset/groove_midi_files/groove/drummer7/session3/135_soul_105_fill_4-4.mid.\n",
            "I0627 13:56:05.532373 140075429287808 convert_dir_to_note_sequences.py:153] Converted MIDI file /content/drive/My Drive/Summer_21/dataset/groove_midi_files/groove/drummer7/session3/135_soul_105_fill_4-4.mid.\n",
            "INFO:tensorflow:Converted MIDI file /content/drive/My Drive/Summer_21/dataset/groove_midi_files/groove/drummer7/session3/37_hiphop_67_fill_4-4.mid.\n",
            "I0627 13:56:09.061288 140075429287808 convert_dir_to_note_sequences.py:153] Converted MIDI file /content/drive/My Drive/Summer_21/dataset/groove_midi_files/groove/drummer7/session3/37_hiphop_67_fill_4-4.mid.\n",
            "INFO:tensorflow:Converted MIDI file /content/drive/My Drive/Summer_21/dataset/groove_midi_files/groove/drummer7/session3/59_funk_112_fill_4-4.mid.\n",
            "I0627 13:56:11.637650 140075429287808 convert_dir_to_note_sequences.py:153] Converted MIDI file /content/drive/My Drive/Summer_21/dataset/groove_midi_files/groove/drummer7/session3/59_funk_112_fill_4-4.mid.\n",
            "INFO:tensorflow:Converted MIDI file /content/drive/My Drive/Summer_21/dataset/groove_midi_files/groove/drummer7/session3/96_hiphop_70_fill_4-4.mid.\n",
            "I0627 13:56:14.848943 140075429287808 convert_dir_to_note_sequences.py:153] Converted MIDI file /content/drive/My Drive/Summer_21/dataset/groove_midi_files/groove/drummer7/session3/96_hiphop_70_fill_4-4.mid.\n",
            "INFO:tensorflow:Converted MIDI file /content/drive/My Drive/Summer_21/dataset/groove_midi_files/groove/drummer7/session3/158_soul_98_fill_4-4.mid.\n",
            "I0627 13:56:17.782238 140075429287808 convert_dir_to_note_sequences.py:153] Converted MIDI file /content/drive/My Drive/Summer_21/dataset/groove_midi_files/groove/drummer7/session3/158_soul_98_fill_4-4.mid.\n",
            "INFO:tensorflow:Converted MIDI file /content/drive/My Drive/Summer_21/dataset/groove_midi_files/groove/drummer7/session3/74_neworleans-funk_93_fill_4-4.mid.\n",
            "I0627 13:56:21.198018 140075429287808 convert_dir_to_note_sequences.py:153] Converted MIDI file /content/drive/My Drive/Summer_21/dataset/groove_midi_files/groove/drummer7/session3/74_neworleans-funk_93_fill_4-4.mid.\n",
            "INFO:tensorflow:Converted MIDI file /content/drive/My Drive/Summer_21/dataset/groove_midi_files/groove/drummer7/session3/121_rock_93_fill_4-4.mid.\n",
            "I0627 13:56:24.416730 140075429287808 convert_dir_to_note_sequences.py:153] Converted MIDI file /content/drive/My Drive/Summer_21/dataset/groove_midi_files/groove/drummer7/session3/121_rock_93_fill_4-4.mid.\n",
            "INFO:tensorflow:Converted MIDI file /content/drive/My Drive/Summer_21/dataset/groove_midi_files/groove/drummer7/session3/43_rock-indie_63_fill_4-4.mid.\n",
            "I0627 13:56:26.607048 140075429287808 convert_dir_to_note_sequences.py:153] Converted MIDI file /content/drive/My Drive/Summer_21/dataset/groove_midi_files/groove/drummer7/session3/43_rock-indie_63_fill_4-4.mid.\n",
            "INFO:tensorflow:Converted MIDI file /content/drive/My Drive/Summer_21/dataset/groove_midi_files/groove/drummer7/session3/100_hiphop_70_fill_4-4.mid.\n",
            "I0627 13:56:30.834519 140075429287808 convert_dir_to_note_sequences.py:153] Converted MIDI file /content/drive/My Drive/Summer_21/dataset/groove_midi_files/groove/drummer7/session3/100_hiphop_70_fill_4-4.mid.\n",
            "INFO:tensorflow:Converted MIDI file /content/drive/My Drive/Summer_21/dataset/groove_midi_files/groove/drummer7/session3/65_funk_112_beat_4-4.mid.\n",
            "I0627 13:56:33.290478 140075429287808 convert_dir_to_note_sequences.py:153] Converted MIDI file /content/drive/My Drive/Summer_21/dataset/groove_midi_files/groove/drummer7/session3/65_funk_112_beat_4-4.mid.\n",
            "INFO:tensorflow:Converted MIDI file /content/drive/My Drive/Summer_21/dataset/groove_midi_files/groove/drummer7/session3/157_soul_98_fill_4-4.mid.\n",
            "I0627 13:56:36.691688 140075429287808 convert_dir_to_note_sequences.py:153] Converted MIDI file /content/drive/My Drive/Summer_21/dataset/groove_midi_files/groove/drummer7/session3/157_soul_98_fill_4-4.mid.\n",
            "INFO:tensorflow:Converted MIDI file /content/drive/My Drive/Summer_21/dataset/groove_midi_files/groove/drummer7/session3/145_soul_105_fill_4-4.mid.\n",
            "I0627 13:56:39.281215 140075429287808 convert_dir_to_note_sequences.py:153] Converted MIDI file /content/drive/My Drive/Summer_21/dataset/groove_midi_files/groove/drummer7/session3/145_soul_105_fill_4-4.mid.\n",
            "INFO:tensorflow:Converted MIDI file /content/drive/My Drive/Summer_21/dataset/groove_midi_files/groove/drummer7/session3/133_soul_105_beat_4-4.mid.\n",
            "I0627 13:56:42.969848 140075429287808 convert_dir_to_note_sequences.py:153] Converted MIDI file /content/drive/My Drive/Summer_21/dataset/groove_midi_files/groove/drummer7/session3/133_soul_105_beat_4-4.mid.\n",
            "INFO:tensorflow:Converted MIDI file /content/drive/My Drive/Summer_21/dataset/groove_midi_files/groove/drummer7/session3/30_hiphop_67_fill_4-4.mid.\n",
            "I0627 13:56:46.095356 140075429287808 convert_dir_to_note_sequences.py:153] Converted MIDI file /content/drive/My Drive/Summer_21/dataset/groove_midi_files/groove/drummer7/session3/30_hiphop_67_fill_4-4.mid.\n",
            "INFO:tensorflow:Converted MIDI file /content/drive/My Drive/Summer_21/dataset/groove_midi_files/groove/drummer7/session3/106_hiphop_70_beat_4-4.mid.\n",
            "I0627 13:56:49.199577 140075429287808 convert_dir_to_note_sequences.py:153] Converted MIDI file /content/drive/My Drive/Summer_21/dataset/groove_midi_files/groove/drummer7/session3/106_hiphop_70_beat_4-4.mid.\n",
            "INFO:tensorflow:Converted MIDI file /content/drive/My Drive/Summer_21/dataset/groove_midi_files/groove/drummer7/session3/152_soul_98_fill_4-4.mid.\n",
            "I0627 13:56:51.828993 140075429287808 convert_dir_to_note_sequences.py:153] Converted MIDI file /content/drive/My Drive/Summer_21/dataset/groove_midi_files/groove/drummer7/session3/152_soul_98_fill_4-4.mid.\n",
            "INFO:tensorflow:Converted MIDI file /content/drive/My Drive/Summer_21/dataset/groove_midi_files/groove/drummer7/session3/71_neworleans-funk_93_fill_4-4.mid.\n",
            "I0627 13:56:55.256440 140075429287808 convert_dir_to_note_sequences.py:153] Converted MIDI file /content/drive/My Drive/Summer_21/dataset/groove_midi_files/groove/drummer7/session3/71_neworleans-funk_93_fill_4-4.mid.\n",
            "INFO:tensorflow:Converted MIDI file /content/drive/My Drive/Summer_21/dataset/groove_midi_files/groove/drummer7/session3/124_rock_93_fill_4-4.mid.\n",
            "I0627 13:56:57.866117 140075429287808 convert_dir_to_note_sequences.py:153] Converted MIDI file /content/drive/My Drive/Summer_21/dataset/groove_midi_files/groove/drummer7/session3/124_rock_93_fill_4-4.mid.\n",
            "INFO:tensorflow:Converted MIDI file /content/drive/My Drive/Summer_21/dataset/groove_midi_files/groove/drummer7/session3/51_funk_112_fill_4-4.mid.\n",
            "I0627 13:57:00.596392 140075429287808 convert_dir_to_note_sequences.py:153] Converted MIDI file /content/drive/My Drive/Summer_21/dataset/groove_midi_files/groove/drummer7/session3/51_funk_112_fill_4-4.mid.\n",
            "INFO:tensorflow:Converted MIDI file /content/drive/My Drive/Summer_21/dataset/groove_midi_files/groove/drummer7/session3/117_rock_95_beat_4-4.mid.\n",
            "I0627 13:57:04.369152 140075429287808 convert_dir_to_note_sequences.py:153] Converted MIDI file /content/drive/My Drive/Summer_21/dataset/groove_midi_files/groove/drummer7/session3/117_rock_95_beat_4-4.mid.\n",
            "INFO:tensorflow:Converted MIDI file /content/drive/My Drive/Summer_21/dataset/groove_midi_files/groove/drummer7/session3/49_funk_112_beat_4-4.mid.\n",
            "I0627 13:57:07.018813 140075429287808 convert_dir_to_note_sequences.py:153] Converted MIDI file /content/drive/My Drive/Summer_21/dataset/groove_midi_files/groove/drummer7/session3/49_funk_112_beat_4-4.mid.\n",
            "INFO:tensorflow:Converted MIDI file /content/drive/My Drive/Summer_21/dataset/groove_midi_files/groove/drummer7/session3/1_rock_60_beat_4-4.mid.\n",
            "I0627 13:57:10.431856 140075429287808 convert_dir_to_note_sequences.py:153] Converted MIDI file /content/drive/My Drive/Summer_21/dataset/groove_midi_files/groove/drummer7/session3/1_rock_60_beat_4-4.mid.\n",
            "INFO:tensorflow:Converted MIDI file /content/drive/My Drive/Summer_21/dataset/groove_midi_files/groove/drummer7/session3/57_funk_112_fill_4-4.mid.\n",
            "I0627 13:57:13.473359 140075429287808 convert_dir_to_note_sequences.py:153] Converted MIDI file /content/drive/My Drive/Summer_21/dataset/groove_midi_files/groove/drummer7/session3/57_funk_112_fill_4-4.mid.\n",
            "INFO:tensorflow:Converted MIDI file /content/drive/My Drive/Summer_21/dataset/groove_midi_files/groove/drummer7/session3/10_rock_60_beat_4-4.mid.\n",
            "I0627 13:57:16.869994 140075429287808 convert_dir_to_note_sequences.py:153] Converted MIDI file /content/drive/My Drive/Summer_21/dataset/groove_midi_files/groove/drummer7/session3/10_rock_60_beat_4-4.mid.\n",
            "INFO:tensorflow:Converted MIDI file /content/drive/My Drive/Summer_21/dataset/groove_midi_files/groove/drummer7/session3/118_rock_95_fill_4-4.mid.\n",
            "I0627 13:57:19.617245 140075429287808 convert_dir_to_note_sequences.py:153] Converted MIDI file /content/drive/My Drive/Summer_21/dataset/groove_midi_files/groove/drummer7/session3/118_rock_95_fill_4-4.mid.\n",
            "INFO:tensorflow:Converted MIDI file /content/drive/My Drive/Summer_21/dataset/groove_midi_files/groove/drummer7/session3/31_hiphop_67_fill_4-4.mid.\n",
            "I0627 13:57:23.387751 140075429287808 convert_dir_to_note_sequences.py:153] Converted MIDI file /content/drive/My Drive/Summer_21/dataset/groove_midi_files/groove/drummer7/session3/31_hiphop_67_fill_4-4.mid.\n",
            "INFO:tensorflow:Converted MIDI file /content/drive/My Drive/Summer_21/dataset/groove_midi_files/groove/drummer7/session3/77_neworleans-funk_93_fill_4-4.mid.\n",
            "I0627 13:57:26.224132 140075429287808 convert_dir_to_note_sequences.py:153] Converted MIDI file /content/drive/My Drive/Summer_21/dataset/groove_midi_files/groove/drummer7/session3/77_neworleans-funk_93_fill_4-4.mid.\n",
            "INFO:tensorflow:Converted MIDI file /content/drive/My Drive/Summer_21/dataset/groove_midi_files/groove/drummer7/session3/101_hiphop_70_fill_4-4.mid.\n",
            "I0627 13:57:29.523354 140075429287808 convert_dir_to_note_sequences.py:153] Converted MIDI file /content/drive/My Drive/Summer_21/dataset/groove_midi_files/groove/drummer7/session3/101_hiphop_70_fill_4-4.mid.\n",
            "INFO:tensorflow:Converted MIDI file /content/drive/My Drive/Summer_21/dataset/groove_midi_files/groove/drummer7/session3/143_soul_105_fill_4-4.mid.\n",
            "I0627 13:57:32.216528 140075429287808 convert_dir_to_note_sequences.py:153] Converted MIDI file /content/drive/My Drive/Summer_21/dataset/groove_midi_files/groove/drummer7/session3/143_soul_105_fill_4-4.mid.\n",
            "INFO:tensorflow:Converted MIDI file /content/drive/My Drive/Summer_21/dataset/groove_midi_files/groove/drummer7/session3/47_funk_112_beat_4-4.mid.\n",
            "I0627 13:57:35.651687 140075429287808 convert_dir_to_note_sequences.py:153] Converted MIDI file /content/drive/My Drive/Summer_21/dataset/groove_midi_files/groove/drummer7/session3/47_funk_112_beat_4-4.mid.\n",
            "INFO:tensorflow:Converted MIDI file /content/drive/My Drive/Summer_21/dataset/groove_midi_files/groove/drummer7/session3/97_hiphop_70_fill_4-4.mid.\n",
            "I0627 13:57:38.083321 140075429287808 convert_dir_to_note_sequences.py:153] Converted MIDI file /content/drive/My Drive/Summer_21/dataset/groove_midi_files/groove/drummer7/session3/97_hiphop_70_fill_4-4.mid.\n",
            "INFO:tensorflow:Converted MIDI file /content/drive/My Drive/Summer_21/dataset/groove_midi_files/groove/drummer7/session3/42_rock-indie_63_fill_4-4.mid.\n",
            "I0627 13:57:40.219286 140075429287808 convert_dir_to_note_sequences.py:153] Converted MIDI file /content/drive/My Drive/Summer_21/dataset/groove_midi_files/groove/drummer7/session3/42_rock-indie_63_fill_4-4.mid.\n",
            "INFO:tensorflow:Converted MIDI file /content/drive/My Drive/Summer_21/dataset/groove_midi_files/groove/drummer7/session3/72_neworleans-funk_93_fill_4-4.mid.\n",
            "I0627 13:57:43.813316 140075429287808 convert_dir_to_note_sequences.py:153] Converted MIDI file /content/drive/My Drive/Summer_21/dataset/groove_midi_files/groove/drummer7/session3/72_neworleans-funk_93_fill_4-4.mid.\n",
            "INFO:tensorflow:Converted MIDI file /content/drive/My Drive/Summer_21/dataset/groove_midi_files/groove/drummer7/session3/36_hiphop_67_fill_4-4.mid.\n",
            "I0627 13:57:46.185139 140075429287808 convert_dir_to_note_sequences.py:153] Converted MIDI file /content/drive/My Drive/Summer_21/dataset/groove_midi_files/groove/drummer7/session3/36_hiphop_67_fill_4-4.mid.\n",
            "INFO:tensorflow:Converted MIDI file /content/drive/My Drive/Summer_21/dataset/groove_midi_files/groove/drummer7/session3/89_neworleans-funk_93_fill_4-4.mid.\n",
            "I0627 13:57:49.380998 140075429287808 convert_dir_to_note_sequences.py:153] Converted MIDI file /content/drive/My Drive/Summer_21/dataset/groove_midi_files/groove/drummer7/session3/89_neworleans-funk_93_fill_4-4.mid.\n",
            "INFO:tensorflow:Converted MIDI file /content/drive/My Drive/Summer_21/dataset/groove_midi_files/groove/drummer7/session3/112_rock_95_fill_4-4.mid.\n",
            "I0627 13:57:51.969443 140075429287808 convert_dir_to_note_sequences.py:153] Converted MIDI file /content/drive/My Drive/Summer_21/dataset/groove_midi_files/groove/drummer7/session3/112_rock_95_fill_4-4.mid.\n",
            "INFO:tensorflow:Converted MIDI file /content/drive/My Drive/Summer_21/dataset/groove_midi_files/groove/drummer7/session3/4_rock_60_fill_4-4.mid.\n",
            "I0627 13:57:55.963060 140075429287808 convert_dir_to_note_sequences.py:153] Converted MIDI file /content/drive/My Drive/Summer_21/dataset/groove_midi_files/groove/drummer7/session3/4_rock_60_fill_4-4.mid.\n",
            "INFO:tensorflow:Converted MIDI file /content/drive/My Drive/Summer_21/dataset/groove_midi_files/groove/drummer7/session3/139_soul_105_fill_4-4.mid.\n",
            "I0627 13:57:58.767864 140075429287808 convert_dir_to_note_sequences.py:153] Converted MIDI file /content/drive/My Drive/Summer_21/dataset/groove_midi_files/groove/drummer7/session3/139_soul_105_fill_4-4.mid.\n",
            "INFO:tensorflow:Converted MIDI file /content/drive/My Drive/Summer_21/dataset/groove_midi_files/groove/drummer7/session3/92_hiphop_70_beat_4-4.mid.\n",
            "I0627 13:58:03.171943 140075429287808 convert_dir_to_note_sequences.py:153] Converted MIDI file /content/drive/My Drive/Summer_21/dataset/groove_midi_files/groove/drummer7/session3/92_hiphop_70_beat_4-4.mid.\n",
            "INFO:tensorflow:Converted MIDI file /content/drive/My Drive/Summer_21/dataset/groove_midi_files/groove/drummer7/session3/156_soul_98_fill_4-4.mid.\n",
            "I0627 13:58:05.679423 140075429287808 convert_dir_to_note_sequences.py:153] Converted MIDI file /content/drive/My Drive/Summer_21/dataset/groove_midi_files/groove/drummer7/session3/156_soul_98_fill_4-4.mid.\n",
            "INFO:tensorflow:Converted MIDI file /content/drive/My Drive/Summer_21/dataset/groove_midi_files/groove/drummer7/session3/94_hiphop_70_fill_4-4.mid.\n",
            "I0627 13:58:09.307531 140075429287808 convert_dir_to_note_sequences.py:153] Converted MIDI file /content/drive/My Drive/Summer_21/dataset/groove_midi_files/groove/drummer7/session3/94_hiphop_70_fill_4-4.mid.\n",
            "INFO:tensorflow:Converted MIDI file /content/drive/My Drive/Summer_21/dataset/groove_midi_files/groove/drummer7/session3/141_soul_105_fill_4-4.mid.\n",
            "I0627 13:58:11.855821 140075429287808 convert_dir_to_note_sequences.py:153] Converted MIDI file /content/drive/My Drive/Summer_21/dataset/groove_midi_files/groove/drummer7/session3/141_soul_105_fill_4-4.mid.\n",
            "INFO:tensorflow:Converted MIDI file /content/drive/My Drive/Summer_21/dataset/groove_midi_files/groove/drummer7/session3/45_rock-indie_63_fill_4-4.mid.\n",
            "I0627 13:58:15.031834 140075429287808 convert_dir_to_note_sequences.py:153] Converted MIDI file /content/drive/My Drive/Summer_21/dataset/groove_midi_files/groove/drummer7/session3/45_rock-indie_63_fill_4-4.mid.\n",
            "INFO:tensorflow:Converted MIDI file /content/drive/My Drive/Summer_21/dataset/groove_midi_files/groove/drummer7/session3/105_hiphop_70_fill_4-4.mid.\n",
            "I0627 13:58:17.459184 140075429287808 convert_dir_to_note_sequences.py:153] Converted MIDI file /content/drive/My Drive/Summer_21/dataset/groove_midi_files/groove/drummer7/session3/105_hiphop_70_fill_4-4.mid.\n",
            "INFO:tensorflow:Converted MIDI file /content/drive/My Drive/Summer_21/dataset/groove_midi_files/groove/drummer7/session3/125_rock_93_fill_4-4.mid.\n",
            "I0627 13:58:19.926059 140075429287808 convert_dir_to_note_sequences.py:153] Converted MIDI file /content/drive/My Drive/Summer_21/dataset/groove_midi_files/groove/drummer7/session3/125_rock_93_fill_4-4.mid.\n",
            "INFO:tensorflow:Converted MIDI file /content/drive/My Drive/Summer_21/dataset/groove_midi_files/groove/drummer7/session3/84_neworleans-funk_93_fill_4-4.mid.\n",
            "I0627 13:58:23.256979 140075429287808 convert_dir_to_note_sequences.py:153] Converted MIDI file /content/drive/My Drive/Summer_21/dataset/groove_midi_files/groove/drummer7/session3/84_neworleans-funk_93_fill_4-4.mid.\n",
            "INFO:tensorflow:Converted MIDI file /content/drive/My Drive/Summer_21/dataset/groove_midi_files/groove/drummer7/session3/35_hiphop_67_fill_4-4.mid.\n",
            "I0627 13:58:25.706170 140075429287808 convert_dir_to_note_sequences.py:153] Converted MIDI file /content/drive/My Drive/Summer_21/dataset/groove_midi_files/groove/drummer7/session3/35_hiphop_67_fill_4-4.mid.\n",
            "INFO:tensorflow:Converted MIDI file /content/drive/My Drive/Summer_21/dataset/groove_midi_files/groove/drummer7/session3/153_soul_98_fill_4-4.mid.\n",
            "I0627 13:58:29.265949 140075429287808 convert_dir_to_note_sequences.py:153] Converted MIDI file /content/drive/My Drive/Summer_21/dataset/groove_midi_files/groove/drummer7/session3/153_soul_98_fill_4-4.mid.\n",
            "INFO:tensorflow:Converted MIDI file /content/drive/My Drive/Summer_21/dataset/groove_midi_files/groove/drummer7/session3/55_funk_112_fill_4-4.mid.\n",
            "I0627 13:58:31.742073 140075429287808 convert_dir_to_note_sequences.py:153] Converted MIDI file /content/drive/My Drive/Summer_21/dataset/groove_midi_files/groove/drummer7/session3/55_funk_112_fill_4-4.mid.\n",
            "INFO:tensorflow:Converted MIDI file /content/drive/My Drive/Summer_21/dataset/groove_midi_files/groove/drummer7/session3/149_soul_105_fill_4-4.mid.\n",
            "I0627 13:58:33.964304 140075429287808 convert_dir_to_note_sequences.py:153] Converted MIDI file /content/drive/My Drive/Summer_21/dataset/groove_midi_files/groove/drummer7/session3/149_soul_105_fill_4-4.mid.\n",
            "INFO:tensorflow:Converted MIDI file /content/drive/My Drive/Summer_21/dataset/groove_midi_files/groove/drummer7/session3/99_hiphop_70_fill_4-4.mid.\n",
            "I0627 13:58:37.827889 140075429287808 convert_dir_to_note_sequences.py:153] Converted MIDI file /content/drive/My Drive/Summer_21/dataset/groove_midi_files/groove/drummer7/session3/99_hiphop_70_fill_4-4.mid.\n",
            "INFO:tensorflow:Converted MIDI file /content/drive/My Drive/Summer_21/dataset/groove_midi_files/groove/drummer7/session3/68_neworleans-funk_93_fill_4-4.mid.\n",
            "I0627 13:58:40.238104 140075429287808 convert_dir_to_note_sequences.py:153] Converted MIDI file /content/drive/My Drive/Summer_21/dataset/groove_midi_files/groove/drummer7/session3/68_neworleans-funk_93_fill_4-4.mid.\n",
            "INFO:tensorflow:Converted MIDI file /content/drive/My Drive/Summer_21/dataset/groove_midi_files/groove/drummer7/session3/12_pop-soft_83_fill_4-4.mid.\n",
            "I0627 13:58:43.486303 140075429287808 convert_dir_to_note_sequences.py:153] Converted MIDI file /content/drive/My Drive/Summer_21/dataset/groove_midi_files/groove/drummer7/session3/12_pop-soft_83_fill_4-4.mid.\n",
            "INFO:tensorflow:Converted MIDI file /content/drive/My Drive/Summer_21/dataset/groove_midi_files/groove/drummer7/session3/93_hiphop_70_fill_4-4.mid.\n",
            "I0627 13:58:46.126703 140075429287808 convert_dir_to_note_sequences.py:153] Converted MIDI file /content/drive/My Drive/Summer_21/dataset/groove_midi_files/groove/drummer7/session3/93_hiphop_70_fill_4-4.mid.\n",
            "INFO:tensorflow:Converted MIDI file /content/drive/My Drive/Summer_21/dataset/groove_midi_files/groove/drummer7/session3/119_rock_95_beat_4-4.mid.\n",
            "I0627 13:58:49.608341 140075429287808 convert_dir_to_note_sequences.py:153] Converted MIDI file /content/drive/My Drive/Summer_21/dataset/groove_midi_files/groove/drummer7/session3/119_rock_95_beat_4-4.mid.\n",
            "INFO:tensorflow:Converted MIDI file /content/drive/My Drive/Summer_21/dataset/groove_midi_files/groove/drummer7/session3/81_neworleans-funk_93_fill_4-4.mid.\n",
            "I0627 13:58:52.084133 140075429287808 convert_dir_to_note_sequences.py:153] Converted MIDI file /content/drive/My Drive/Summer_21/dataset/groove_midi_files/groove/drummer7/session3/81_neworleans-funk_93_fill_4-4.mid.\n",
            "INFO:tensorflow:Converted MIDI file /content/drive/My Drive/Summer_21/dataset/groove_midi_files/groove/drummer7/session3/102_hiphop_70_fill_4-4.mid.\n",
            "I0627 13:58:55.099634 140075429287808 convert_dir_to_note_sequences.py:153] Converted MIDI file /content/drive/My Drive/Summer_21/dataset/groove_midi_files/groove/drummer7/session3/102_hiphop_70_fill_4-4.mid.\n",
            "INFO:tensorflow:Converted MIDI file /content/drive/My Drive/Summer_21/dataset/groove_midi_files/groove/drummer7/session3/16_pop-soft_83_fill_4-4.mid.\n",
            "I0627 13:58:59.078800 140075429287808 convert_dir_to_note_sequences.py:153] Converted MIDI file /content/drive/My Drive/Summer_21/dataset/groove_midi_files/groove/drummer7/session3/16_pop-soft_83_fill_4-4.mid.\n",
            "INFO:tensorflow:Converted MIDI file /content/drive/My Drive/Summer_21/dataset/groove_midi_files/groove/drummer7/session3/21_pop-soft_83_fill_4-4.mid.\n",
            "I0627 13:59:02.307743 140075429287808 convert_dir_to_note_sequences.py:153] Converted MIDI file /content/drive/My Drive/Summer_21/dataset/groove_midi_files/groove/drummer7/session3/21_pop-soft_83_fill_4-4.mid.\n",
            "INFO:tensorflow:Converted MIDI file /content/drive/My Drive/Summer_21/dataset/groove_midi_files/groove/drummer7/session3/32_hiphop_67_fill_4-4.mid.\n",
            "I0627 13:59:05.496378 140075429287808 convert_dir_to_note_sequences.py:153] Converted MIDI file /content/drive/My Drive/Summer_21/dataset/groove_midi_files/groove/drummer7/session3/32_hiphop_67_fill_4-4.mid.\n",
            "INFO:tensorflow:Converted MIDI file /content/drive/My Drive/Summer_21/dataset/groove_midi_files/groove/drummer7/session3/52_funk_112_fill_4-4.mid.\n",
            "I0627 13:59:09.563337 140075429287808 convert_dir_to_note_sequences.py:153] Converted MIDI file /content/drive/My Drive/Summer_21/dataset/groove_midi_files/groove/drummer7/session3/52_funk_112_fill_4-4.mid.\n",
            "INFO:tensorflow:Converted MIDI file /content/drive/My Drive/Summer_21/dataset/groove_midi_files/groove/drummer7/session3/88_neworleans-funk_93_fill_4-4.mid.\n",
            "I0627 13:59:11.940418 140075429287808 convert_dir_to_note_sequences.py:153] Converted MIDI file /content/drive/My Drive/Summer_21/dataset/groove_midi_files/groove/drummer7/session3/88_neworleans-funk_93_fill_4-4.mid.\n",
            "INFO:tensorflow:Converted MIDI file /content/drive/My Drive/Summer_21/dataset/groove_midi_files/groove/drummer7/session3/73_neworleans-funk_93_fill_4-4.mid.\n",
            "I0627 13:59:15.019508 140075429287808 convert_dir_to_note_sequences.py:153] Converted MIDI file /content/drive/My Drive/Summer_21/dataset/groove_midi_files/groove/drummer7/session3/73_neworleans-funk_93_fill_4-4.mid.\n",
            "INFO:tensorflow:Converted MIDI file /content/drive/My Drive/Summer_21/dataset/groove_midi_files/groove/drummer7/session3/130_soul_105_beat_4-4.mid.\n",
            "I0627 13:59:17.594933 140075429287808 convert_dir_to_note_sequences.py:153] Converted MIDI file /content/drive/My Drive/Summer_21/dataset/groove_midi_files/groove/drummer7/session3/130_soul_105_beat_4-4.mid.\n",
            "INFO:tensorflow:Converted MIDI file /content/drive/My Drive/Summer_21/dataset/groove_midi_files/groove/drummer7/session3/146_soul_105_fill_4-4.mid.\n",
            "I0627 13:59:20.911393 140075429287808 convert_dir_to_note_sequences.py:153] Converted MIDI file /content/drive/My Drive/Summer_21/dataset/groove_midi_files/groove/drummer7/session3/146_soul_105_fill_4-4.mid.\n",
            "INFO:tensorflow:Converted MIDI file /content/drive/My Drive/Summer_21/dataset/groove_midi_files/groove/drummer7/session3/76_neworleans-funk_93_fill_4-4.mid.\n",
            "I0627 13:59:23.615793 140075429287808 convert_dir_to_note_sequences.py:153] Converted MIDI file /content/drive/My Drive/Summer_21/dataset/groove_midi_files/groove/drummer7/session3/76_neworleans-funk_93_fill_4-4.mid.\n",
            "INFO:tensorflow:Converted MIDI file /content/drive/My Drive/Summer_21/dataset/groove_midi_files/groove/drummer7/session3/67_neworleans-funk_93_beat_4-4.mid.\n",
            "I0627 13:59:27.141091 140075429287808 convert_dir_to_note_sequences.py:153] Converted MIDI file /content/drive/My Drive/Summer_21/dataset/groove_midi_files/groove/drummer7/session3/67_neworleans-funk_93_beat_4-4.mid.\n",
            "INFO:tensorflow:Converted MIDI file /content/drive/My Drive/Summer_21/dataset/groove_midi_files/groove/drummer7/session3/126_rock_93_fill_4-4.mid.\n",
            "I0627 13:59:29.279541 140075429287808 convert_dir_to_note_sequences.py:153] Converted MIDI file /content/drive/My Drive/Summer_21/dataset/groove_midi_files/groove/drummer7/session3/126_rock_93_fill_4-4.mid.\n",
            "INFO:tensorflow:Converted MIDI file /content/drive/My Drive/Summer_21/dataset/groove_midi_files/groove/drummer7/session3/27_hiphop_67_fill_4-4.mid.\n",
            "I0627 13:59:33.137172 140075429287808 convert_dir_to_note_sequences.py:153] Converted MIDI file /content/drive/My Drive/Summer_21/dataset/groove_midi_files/groove/drummer7/session3/27_hiphop_67_fill_4-4.mid.\n",
            "INFO:tensorflow:Converted MIDI file /content/drive/My Drive/Summer_21/dataset/groove_midi_files/groove/drummer7/session3/136_soul_105_fill_4-4.mid.\n",
            "I0627 13:59:35.514605 140075429287808 convert_dir_to_note_sequences.py:153] Converted MIDI file /content/drive/My Drive/Summer_21/dataset/groove_midi_files/groove/drummer7/session3/136_soul_105_fill_4-4.mid.\n",
            "INFO:tensorflow:Converted MIDI file /content/drive/My Drive/Summer_21/dataset/groove_midi_files/groove/drummer7/session3/155_soul_98_fill_4-4.mid.\n",
            "I0627 13:59:38.942371 140075429287808 convert_dir_to_note_sequences.py:153] Converted MIDI file /content/drive/My Drive/Summer_21/dataset/groove_midi_files/groove/drummer7/session3/155_soul_98_fill_4-4.mid.\n",
            "INFO:tensorflow:Converted MIDI file /content/drive/My Drive/Summer_21/dataset/groove_midi_files/groove/drummer7/session3/40_rock-indie_63_fill_4-4.mid.\n",
            "I0627 13:59:41.859116 140075429287808 convert_dir_to_note_sequences.py:153] Converted MIDI file /content/drive/My Drive/Summer_21/dataset/groove_midi_files/groove/drummer7/session3/40_rock-indie_63_fill_4-4.mid.\n",
            "INFO:tensorflow:Converted MIDI file /content/drive/My Drive/Summer_21/dataset/groove_midi_files/groove/drummer7/session3/60_funk_112_fill_4-4.mid.\n",
            "I0627 13:59:44.704862 140075429287808 convert_dir_to_note_sequences.py:153] Converted MIDI file /content/drive/My Drive/Summer_21/dataset/groove_midi_files/groove/drummer7/session3/60_funk_112_fill_4-4.mid.\n",
            "INFO:tensorflow:Converted MIDI file /content/drive/My Drive/Summer_21/dataset/groove_midi_files/groove/drummer7/session3/123_rock_93_fill_4-4.mid.\n",
            "I0627 13:59:47.732939 140075429287808 convert_dir_to_note_sequences.py:153] Converted MIDI file /content/drive/My Drive/Summer_21/dataset/groove_midi_files/groove/drummer7/session3/123_rock_93_fill_4-4.mid.\n",
            "INFO:tensorflow:Converted MIDI file /content/drive/My Drive/Summer_21/dataset/groove_midi_files/groove/drummer7/session3/91_neworleans-funk_93_beat_4-4.mid.\n",
            "I0627 13:59:50.894632 140075429287808 convert_dir_to_note_sequences.py:153] Converted MIDI file /content/drive/My Drive/Summer_21/dataset/groove_midi_files/groove/drummer7/session3/91_neworleans-funk_93_beat_4-4.mid.\n",
            "INFO:tensorflow:Converted MIDI file /content/drive/My Drive/Summer_21/dataset/groove_midi_files/groove/drummer7/session3/144_soul_105_fill_4-4.mid.\n",
            "I0627 13:59:53.996896 140075429287808 convert_dir_to_note_sequences.py:153] Converted MIDI file /content/drive/My Drive/Summer_21/dataset/groove_midi_files/groove/drummer7/session3/144_soul_105_fill_4-4.mid.\n",
            "INFO:tensorflow:Converted MIDI file /content/drive/My Drive/Summer_21/dataset/groove_midi_files/groove/drummer7/session3/132_soul_105_beat_4-4.mid.\n",
            "I0627 13:59:57.167851 140075429287808 convert_dir_to_note_sequences.py:153] Converted MIDI file /content/drive/My Drive/Summer_21/dataset/groove_midi_files/groove/drummer7/session3/132_soul_105_beat_4-4.mid.\n",
            "INFO:tensorflow:Converted MIDI file /content/drive/My Drive/Summer_21/dataset/groove_midi_files/groove/drummer7/session3/22_pop-soft_83_beat_4-4.mid.\n",
            "I0627 14:00:00.579841 140075429287808 convert_dir_to_note_sequences.py:153] Converted MIDI file /content/drive/My Drive/Summer_21/dataset/groove_midi_files/groove/drummer7/session3/22_pop-soft_83_beat_4-4.mid.\n",
            "INFO:tensorflow:Converted MIDI file /content/drive/My Drive/Summer_21/dataset/groove_midi_files/groove/drummer7/session3/111_rock_95_fill_4-4.mid.\n",
            "I0627 14:00:03.130035 140075429287808 convert_dir_to_note_sequences.py:153] Converted MIDI file /content/drive/My Drive/Summer_21/dataset/groove_midi_files/groove/drummer7/session3/111_rock_95_fill_4-4.mid.\n",
            "INFO:tensorflow:Converted MIDI file /content/drive/My Drive/Summer_21/dataset/groove_midi_files/groove/drummer7/session3/80_neworleans-funk_93_fill_4-4.mid.\n",
            "I0627 14:00:06.048722 140075429287808 convert_dir_to_note_sequences.py:153] Converted MIDI file /content/drive/My Drive/Summer_21/dataset/groove_midi_files/groove/drummer7/session3/80_neworleans-funk_93_fill_4-4.mid.\n",
            "INFO:tensorflow:Converted MIDI file /content/drive/My Drive/Summer_21/dataset/groove_midi_files/groove/drummer7/session3/64_funk_112_beat_4-4.mid.\n",
            "I0627 14:00:08.967647 140075429287808 convert_dir_to_note_sequences.py:153] Converted MIDI file /content/drive/My Drive/Summer_21/dataset/groove_midi_files/groove/drummer7/session3/64_funk_112_beat_4-4.mid.\n",
            "INFO:tensorflow:Converted MIDI file /content/drive/My Drive/Summer_21/dataset/groove_midi_files/groove/drummer7/session3/14_pop-soft_83_fill_4-4.mid.\n",
            "I0627 14:00:11.459230 140075429287808 convert_dir_to_note_sequences.py:153] Converted MIDI file /content/drive/My Drive/Summer_21/dataset/groove_midi_files/groove/drummer7/session3/14_pop-soft_83_fill_4-4.mid.\n",
            "INFO:tensorflow:Converted MIDI file /content/drive/My Drive/Summer_21/dataset/groove_midi_files/groove/drummer7/session3/7_rock_60_fill_4-4.mid.\n",
            "I0627 14:00:14.730780 140075429287808 convert_dir_to_note_sequences.py:153] Converted MIDI file /content/drive/My Drive/Summer_21/dataset/groove_midi_files/groove/drummer7/session3/7_rock_60_fill_4-4.mid.\n",
            "INFO:tensorflow:Converted MIDI file /content/drive/My Drive/Summer_21/dataset/groove_midi_files/groove/drummer7/session3/50_funk_112_fill_4-4.mid.\n",
            "I0627 14:00:17.318371 140075429287808 convert_dir_to_note_sequences.py:153] Converted MIDI file /content/drive/My Drive/Summer_21/dataset/groove_midi_files/groove/drummer7/session3/50_funk_112_fill_4-4.mid.\n",
            "INFO:tensorflow:Converted MIDI file /content/drive/My Drive/Summer_21/dataset/groove_midi_files/groove/drummer7/session3/48_funk_112_beat_4-4.mid.\n",
            "I0627 14:00:20.546436 140075429287808 convert_dir_to_note_sequences.py:153] Converted MIDI file /content/drive/My Drive/Summer_21/dataset/groove_midi_files/groove/drummer7/session3/48_funk_112_beat_4-4.mid.\n",
            "INFO:tensorflow:Converted MIDI file /content/drive/My Drive/Summer_21/dataset/groove_midi_files/groove/drummer7/session3/11_pop-soft_83_beat_4-4.mid.\n",
            "I0627 14:00:23.167225 140075429287808 convert_dir_to_note_sequences.py:153] Converted MIDI file /content/drive/My Drive/Summer_21/dataset/groove_midi_files/groove/drummer7/session3/11_pop-soft_83_beat_4-4.mid.\n",
            "INFO:tensorflow:Converted MIDI file /content/drive/My Drive/Summer_21/dataset/groove_midi_files/groove/drummer7/session3/151_soul_98_beat_4-4.mid.\n",
            "I0627 14:00:26.357291 140075429287808 convert_dir_to_note_sequences.py:153] Converted MIDI file /content/drive/My Drive/Summer_21/dataset/groove_midi_files/groove/drummer7/session3/151_soul_98_beat_4-4.mid.\n",
            "INFO:tensorflow:Converted MIDI file /content/drive/My Drive/Summer_21/dataset/groove_midi_files/groove/drummer7/session3/2_rock_60_fill_4-4.mid.\n",
            "I0627 14:00:28.754482 140075429287808 convert_dir_to_note_sequences.py:153] Converted MIDI file /content/drive/My Drive/Summer_21/dataset/groove_midi_files/groove/drummer7/session3/2_rock_60_fill_4-4.mid.\n",
            "INFO:tensorflow:Converted MIDI file /content/drive/My Drive/Summer_21/dataset/groove_midi_files/groove/drummer7/session3/69_neworleans-funk_93_fill_4-4.mid.\n",
            "I0627 14:00:32.281982 140075429287808 convert_dir_to_note_sequences.py:153] Converted MIDI file /content/drive/My Drive/Summer_21/dataset/groove_midi_files/groove/drummer7/session3/69_neworleans-funk_93_fill_4-4.mid.\n",
            "INFO:tensorflow:Converted MIDI file /content/drive/My Drive/Summer_21/dataset/groove_midi_files/groove/drummer7/session3/46_rock-indie_63_beat_4-4.mid.\n",
            "I0627 14:00:34.882452 140075429287808 convert_dir_to_note_sequences.py:153] Converted MIDI file /content/drive/My Drive/Summer_21/dataset/groove_midi_files/groove/drummer7/session3/46_rock-indie_63_beat_4-4.mid.\n",
            "INFO:tensorflow:Converted MIDI file /content/drive/My Drive/Summer_21/dataset/groove_midi_files/groove/drummer7/session3/114_rock_95_fill_4-4.mid.\n",
            "I0627 14:00:38.057084 140075429287808 convert_dir_to_note_sequences.py:153] Converted MIDI file /content/drive/My Drive/Summer_21/dataset/groove_midi_files/groove/drummer7/session3/114_rock_95_fill_4-4.mid.\n",
            "INFO:tensorflow:Converted MIDI file /content/drive/My Drive/Summer_21/dataset/groove_midi_files/groove/drummer7/session3/134_soul_105_fill_4-4.mid.\n",
            "I0627 14:00:40.641693 140075429287808 convert_dir_to_note_sequences.py:153] Converted MIDI file /content/drive/My Drive/Summer_21/dataset/groove_midi_files/groove/drummer7/session3/134_soul_105_fill_4-4.mid.\n",
            "INFO:tensorflow:Converted MIDI file /content/drive/My Drive/Summer_21/dataset/groove_midi_files/groove/drummer7/session3/85_neworleans-funk_93_fill_4-4.mid.\n",
            "I0627 14:00:43.619712 140075429287808 convert_dir_to_note_sequences.py:153] Converted MIDI file /content/drive/My Drive/Summer_21/dataset/groove_midi_files/groove/drummer7/session3/85_neworleans-funk_93_fill_4-4.mid.\n",
            "INFO:tensorflow:Converted MIDI file /content/drive/My Drive/Summer_21/dataset/groove_midi_files/groove/drummer7/session3/108_rock_95_beat_4-4.mid.\n",
            "I0627 14:00:46.890233 140075429287808 convert_dir_to_note_sequences.py:153] Converted MIDI file /content/drive/My Drive/Summer_21/dataset/groove_midi_files/groove/drummer7/session3/108_rock_95_beat_4-4.mid.\n",
            "INFO:tensorflow:Converted MIDI file /content/drive/My Drive/Summer_21/dataset/groove_midi_files/groove/drummer7/session3/39_rock-indie_63_beat_4-4.mid.\n",
            "I0627 14:00:49.986324 140075429287808 convert_dir_to_note_sequences.py:153] Converted MIDI file /content/drive/My Drive/Summer_21/dataset/groove_midi_files/groove/drummer7/session3/39_rock-indie_63_beat_4-4.mid.\n",
            "INFO:tensorflow:Converted MIDI file /content/drive/My Drive/Summer_21/dataset/groove_midi_files/groove/drummer7/session3/62_funk_112_fill_4-4.mid.\n",
            "I0627 14:00:52.965458 140075429287808 convert_dir_to_note_sequences.py:153] Converted MIDI file /content/drive/My Drive/Summer_21/dataset/groove_midi_files/groove/drummer7/session3/62_funk_112_fill_4-4.mid.\n",
            "INFO:tensorflow:Converted MIDI file /content/drive/My Drive/Summer_21/dataset/groove_midi_files/groove/drummer7/session3/29_hiphop_67_fill_4-4.mid.\n",
            "I0627 14:00:55.964120 140075429287808 convert_dir_to_note_sequences.py:153] Converted MIDI file /content/drive/My Drive/Summer_21/dataset/groove_midi_files/groove/drummer7/session3/29_hiphop_67_fill_4-4.mid.\n",
            "INFO:tensorflow:Converted MIDI file /content/drive/My Drive/Summer_21/dataset/groove_midi_files/groove/drummer7/session3/8_rock_60_fill_4-4.mid.\n",
            "I0627 14:00:59.117511 140075429287808 convert_dir_to_note_sequences.py:153] Converted MIDI file /content/drive/My Drive/Summer_21/dataset/groove_midi_files/groove/drummer7/session3/8_rock_60_fill_4-4.mid.\n",
            "INFO:tensorflow:Converted MIDI file /content/drive/My Drive/Summer_21/dataset/groove_midi_files/groove/drummer7/session3/18_pop-soft_83_fill_4-4.mid.\n",
            "I0627 14:01:01.554148 140075429287808 convert_dir_to_note_sequences.py:153] Converted MIDI file /content/drive/My Drive/Summer_21/dataset/groove_midi_files/groove/drummer7/session3/18_pop-soft_83_fill_4-4.mid.\n",
            "INFO:tensorflow:Converted MIDI file /content/drive/My Drive/Summer_21/dataset/groove_midi_files/groove/drummer7/session3/58_funk_112_fill_4-4.mid.\n",
            "I0627 14:01:04.099730 140075429287808 convert_dir_to_note_sequences.py:153] Converted MIDI file /content/drive/My Drive/Summer_21/dataset/groove_midi_files/groove/drummer7/session3/58_funk_112_fill_4-4.mid.\n",
            "INFO:tensorflow:Converted MIDI file /content/drive/My Drive/Summer_21/dataset/groove_midi_files/groove/drummer7/session3/78_neworleans-funk_93_fill_4-4.mid.\n",
            "I0627 14:01:07.343899 140075429287808 convert_dir_to_note_sequences.py:153] Converted MIDI file /content/drive/My Drive/Summer_21/dataset/groove_midi_files/groove/drummer7/session3/78_neworleans-funk_93_fill_4-4.mid.\n",
            "INFO:tensorflow:Converted MIDI file /content/drive/My Drive/Summer_21/dataset/groove_midi_files/groove/drummer7/session3/127_rock_93_fill_4-4.mid.\n",
            "I0627 14:01:09.382007 140075429287808 convert_dir_to_note_sequences.py:153] Converted MIDI file /content/drive/My Drive/Summer_21/dataset/groove_midi_files/groove/drummer7/session3/127_rock_93_fill_4-4.mid.\n",
            "INFO:tensorflow:Converted MIDI file /content/drive/My Drive/Summer_21/dataset/groove_midi_files/groove/drummer7/session3/24_hiphop_67_beat_4-4.mid.\n",
            "I0627 14:01:12.803520 140075429287808 convert_dir_to_note_sequences.py:153] Converted MIDI file /content/drive/My Drive/Summer_21/dataset/groove_midi_files/groove/drummer7/session3/24_hiphop_67_beat_4-4.mid.\n",
            "INFO:tensorflow:Converted MIDI file /content/drive/My Drive/Summer_21/dataset/groove_midi_files/groove/drummer7/session3/28_hiphop_67_fill_4-4.mid.\n",
            "I0627 14:01:14.911130 140075429287808 convert_dir_to_note_sequences.py:153] Converted MIDI file /content/drive/My Drive/Summer_21/dataset/groove_midi_files/groove/drummer7/session3/28_hiphop_67_fill_4-4.mid.\n",
            "INFO:tensorflow:Converted MIDI file /content/drive/My Drive/Summer_21/dataset/groove_midi_files/groove/drummer7/session3/83_neworleans-funk_93_fill_4-4.mid.\n",
            "I0627 14:01:17.694179 140075429287808 convert_dir_to_note_sequences.py:153] Converted MIDI file /content/drive/My Drive/Summer_21/dataset/groove_midi_files/groove/drummer7/session3/83_neworleans-funk_93_fill_4-4.mid.\n",
            "INFO:tensorflow:Converted MIDI file /content/drive/My Drive/Summer_21/dataset/groove_midi_files/groove/drummer7/session3/15_pop-soft_83_fill_4-4.mid.\n",
            "I0627 14:01:20.577967 140075429287808 convert_dir_to_note_sequences.py:153] Converted MIDI file /content/drive/My Drive/Summer_21/dataset/groove_midi_files/groove/drummer7/session3/15_pop-soft_83_fill_4-4.mid.\n",
            "INFO:tensorflow:Converted MIDI file /content/drive/My Drive/Summer_21/dataset/groove_midi_files/groove/drummer7/session3/122_rock_93_fill_4-4.mid.\n",
            "I0627 14:01:23.006854 140075429287808 convert_dir_to_note_sequences.py:153] Converted MIDI file /content/drive/My Drive/Summer_21/dataset/groove_midi_files/groove/drummer7/session3/122_rock_93_fill_4-4.mid.\n",
            "INFO:tensorflow:Converted MIDI file /content/drive/My Drive/Summer_21/dataset/groove_midi_files/groove/drummer7/session3/154_soul_98_fill_4-4.mid.\n",
            "I0627 14:01:26.753671 140075429287808 convert_dir_to_note_sequences.py:153] Converted MIDI file /content/drive/My Drive/Summer_21/dataset/groove_midi_files/groove/drummer7/session3/154_soul_98_fill_4-4.mid.\n",
            "INFO:tensorflow:Converted MIDI file /content/drive/My Drive/Summer_21/dataset/groove_midi_files/groove/drummer7/session3/23_pop-soft_83_beat_4-4.mid.\n",
            "I0627 14:01:30.643590 140075429287808 convert_dir_to_note_sequences.py:153] Converted MIDI file /content/drive/My Drive/Summer_21/dataset/groove_midi_files/groove/drummer7/session3/23_pop-soft_83_beat_4-4.mid.\n",
            "INFO:tensorflow:Converted MIDI file /content/drive/My Drive/Summer_21/dataset/groove_midi_files/groove/drummer7/session3/86_neworleans-funk_93_fill_4-4.mid.\n",
            "I0627 14:01:33.550446 140075429287808 convert_dir_to_note_sequences.py:153] Converted MIDI file /content/drive/My Drive/Summer_21/dataset/groove_midi_files/groove/drummer7/session3/86_neworleans-funk_93_fill_4-4.mid.\n",
            "INFO:tensorflow:Converted MIDI file /content/drive/My Drive/Summer_21/dataset/groove_midi_files/groove/drummer7/session3/56_funk_112_fill_4-4.mid.\n",
            "I0627 14:01:35.944653 140075429287808 convert_dir_to_note_sequences.py:153] Converted MIDI file /content/drive/My Drive/Summer_21/dataset/groove_midi_files/groove/drummer7/session3/56_funk_112_fill_4-4.mid.\n",
            "INFO:tensorflow:Converted MIDI file /content/drive/My Drive/Summer_21/dataset/groove_midi_files/groove/drummer7/session3/25_hiphop_67_fill_4-4.mid.\n",
            "I0627 14:01:39.151291 140075429287808 convert_dir_to_note_sequences.py:153] Converted MIDI file /content/drive/My Drive/Summer_21/dataset/groove_midi_files/groove/drummer7/session3/25_hiphop_67_fill_4-4.mid.\n",
            "INFO:tensorflow:Converted MIDI file /content/drive/My Drive/Summer_21/dataset/groove_midi_files/groove/drummer7/session3/19_pop-soft_83_fill_4-4.mid.\n",
            "I0627 14:01:41.392408 140075429287808 convert_dir_to_note_sequences.py:153] Converted MIDI file /content/drive/My Drive/Summer_21/dataset/groove_midi_files/groove/drummer7/session3/19_pop-soft_83_fill_4-4.mid.\n",
            "INFO:tensorflow:Converted MIDI file /content/drive/My Drive/Summer_21/dataset/groove_midi_files/groove/drummer7/session3/142_soul_105_fill_4-4.mid.\n",
            "I0627 14:01:44.141182 140075429287808 convert_dir_to_note_sequences.py:153] Converted MIDI file /content/drive/My Drive/Summer_21/dataset/groove_midi_files/groove/drummer7/session3/142_soul_105_fill_4-4.mid.\n",
            "INFO:tensorflow:Converted MIDI file /content/drive/My Drive/Summer_21/dataset/groove_midi_files/groove/drummer7/session3/128_rock_93_fill_4-4.mid.\n",
            "I0627 14:01:46.893048 140075429287808 convert_dir_to_note_sequences.py:153] Converted MIDI file /content/drive/My Drive/Summer_21/dataset/groove_midi_files/groove/drummer7/session3/128_rock_93_fill_4-4.mid.\n",
            "INFO:tensorflow:Converted MIDI file /content/drive/My Drive/Summer_21/dataset/groove_midi_files/groove/drummer7/session3/109_rock_95_beat_4-4.mid.\n",
            "I0627 14:01:49.291987 140075429287808 convert_dir_to_note_sequences.py:153] Converted MIDI file /content/drive/My Drive/Summer_21/dataset/groove_midi_files/groove/drummer7/session3/109_rock_95_beat_4-4.mid.\n",
            "INFO:tensorflow:Converted MIDI file /content/drive/My Drive/Summer_21/dataset/groove_midi_files/groove/drummer7/session3/129_rock_93_beat_4-4.mid.\n",
            "I0627 14:01:52.774991 140075429287808 convert_dir_to_note_sequences.py:153] Converted MIDI file /content/drive/My Drive/Summer_21/dataset/groove_midi_files/groove/drummer7/session3/129_rock_93_beat_4-4.mid.\n",
            "INFO:tensorflow:Converted MIDI file /content/drive/My Drive/Summer_21/dataset/groove_midi_files/groove/drummer7/session3/66_funk_112_fill_4-4.mid.\n",
            "I0627 14:01:53.524601 140075429287808 convert_dir_to_note_sequences.py:153] Converted MIDI file /content/drive/My Drive/Summer_21/dataset/groove_midi_files/groove/drummer7/session3/66_funk_112_fill_4-4.mid.\n",
            "INFO:tensorflow:Converted MIDI file /content/drive/My Drive/Summer_21/dataset/groove_midi_files/groove/drummer7/session3/148_soul_105_fill_4-4.mid.\n",
            "I0627 14:01:54.457428 140075429287808 convert_dir_to_note_sequences.py:153] Converted MIDI file /content/drive/My Drive/Summer_21/dataset/groove_midi_files/groove/drummer7/session3/148_soul_105_fill_4-4.mid.\n",
            "INFO:tensorflow:Converted MIDI file /content/drive/My Drive/Summer_21/dataset/groove_midi_files/groove/drummer7/session3/150_soul_105_beat_4-4.mid.\n",
            "I0627 14:01:55.314407 140075429287808 convert_dir_to_note_sequences.py:153] Converted MIDI file /content/drive/My Drive/Summer_21/dataset/groove_midi_files/groove/drummer7/session3/150_soul_105_beat_4-4.mid.\n",
            "INFO:tensorflow:Converted MIDI file /content/drive/My Drive/Summer_21/dataset/groove_midi_files/groove/drummer7/session3/70_neworleans-funk_93_fill_4-4.mid.\n",
            "I0627 14:01:56.751103 140075429287808 convert_dir_to_note_sequences.py:153] Converted MIDI file /content/drive/My Drive/Summer_21/dataset/groove_midi_files/groove/drummer7/session3/70_neworleans-funk_93_fill_4-4.mid.\n",
            "INFO:tensorflow:Converted MIDI file /content/drive/My Drive/Summer_21/dataset/groove_midi_files/groove/drummer7/session3/26_hiphop_67_fill_4-4.mid.\n",
            "I0627 14:01:58.172108 140075429287808 convert_dir_to_note_sequences.py:153] Converted MIDI file /content/drive/My Drive/Summer_21/dataset/groove_midi_files/groove/drummer7/session3/26_hiphop_67_fill_4-4.mid.\n",
            "INFO:tensorflow:Converted MIDI file /content/drive/My Drive/Summer_21/dataset/groove_midi_files/groove/drummer7/session3/9_rock_60_fill_4-4.mid.\n",
            "I0627 14:01:58.973104 140075429287808 convert_dir_to_note_sequences.py:153] Converted MIDI file /content/drive/My Drive/Summer_21/dataset/groove_midi_files/groove/drummer7/session3/9_rock_60_fill_4-4.mid.\n",
            "INFO:tensorflow:Converted MIDI file /content/drive/My Drive/Summer_21/dataset/groove_midi_files/groove/drummer7/session3/6_rock_60_fill_4-4.mid.\n",
            "I0627 14:01:59.741214 140075429287808 convert_dir_to_note_sequences.py:153] Converted MIDI file /content/drive/My Drive/Summer_21/dataset/groove_midi_files/groove/drummer7/session3/6_rock_60_fill_4-4.mid.\n",
            "INFO:tensorflow:Converted MIDI file /content/drive/My Drive/Summer_21/dataset/groove_midi_files/groove/drummer7/session3/75_neworleans-funk_93_fill_4-4.mid.\n",
            "I0627 14:02:00.638907 140075429287808 convert_dir_to_note_sequences.py:153] Converted MIDI file /content/drive/My Drive/Summer_21/dataset/groove_midi_files/groove/drummer7/session3/75_neworleans-funk_93_fill_4-4.mid.\n",
            "INFO:tensorflow:Converted MIDI file /content/drive/My Drive/Summer_21/dataset/groove_midi_files/groove/drummer7/session3/110_rock_95_fill_4-4.mid.\n",
            "I0627 14:02:01.505727 140075429287808 convert_dir_to_note_sequences.py:153] Converted MIDI file /content/drive/My Drive/Summer_21/dataset/groove_midi_files/groove/drummer7/session3/110_rock_95_fill_4-4.mid.\n",
            "INFO:tensorflow:Converted MIDI file /content/drive/My Drive/Summer_21/dataset/groove_midi_files/groove/drummer7/session3/140_soul_105_fill_4-4.mid.\n",
            "I0627 14:02:02.354511 140075429287808 convert_dir_to_note_sequences.py:153] Converted MIDI file /content/drive/My Drive/Summer_21/dataset/groove_midi_files/groove/drummer7/session3/140_soul_105_fill_4-4.mid.\n",
            "INFO:tensorflow:Converted MIDI file /content/drive/My Drive/Summer_21/dataset/groove_midi_files/groove/drummer7/session3/138_soul_105_fill_4-4.mid.\n",
            "I0627 14:02:04.242355 140075429287808 convert_dir_to_note_sequences.py:153] Converted MIDI file /content/drive/My Drive/Summer_21/dataset/groove_midi_files/groove/drummer7/session3/138_soul_105_fill_4-4.mid.\n",
            "INFO:tensorflow:Converted MIDI file /content/drive/My Drive/Summer_21/dataset/groove_midi_files/groove/drummer7/session3/115_rock_95_fill_4-4.mid.\n",
            "I0627 14:02:05.064399 140075429287808 convert_dir_to_note_sequences.py:153] Converted MIDI file /content/drive/My Drive/Summer_21/dataset/groove_midi_files/groove/drummer7/session3/115_rock_95_fill_4-4.mid.\n",
            "INFO:tensorflow:Converted MIDI file /content/drive/My Drive/Summer_21/dataset/groove_midi_files/groove/drummer7/session3/41_rock-indie_63_fill_4-4.mid.\n",
            "I0627 14:02:05.739506 140075429287808 convert_dir_to_note_sequences.py:153] Converted MIDI file /content/drive/My Drive/Summer_21/dataset/groove_midi_files/groove/drummer7/session3/41_rock-indie_63_fill_4-4.mid.\n",
            "INFO:tensorflow:Converted MIDI file /content/drive/My Drive/Summer_21/dataset/groove_midi_files/groove/drummer7/session3/3_rock_60_fill_4-4.mid.\n",
            "I0627 14:02:06.520403 140075429287808 convert_dir_to_note_sequences.py:153] Converted MIDI file /content/drive/My Drive/Summer_21/dataset/groove_midi_files/groove/drummer7/session3/3_rock_60_fill_4-4.mid.\n",
            "INFO:tensorflow:Converted MIDI file /content/drive/My Drive/Summer_21/dataset/groove_midi_files/groove/drummer7/session3/54_funk_112_fill_4-4.mid.\n",
            "I0627 14:02:07.436807 140075429287808 convert_dir_to_note_sequences.py:153] Converted MIDI file /content/drive/My Drive/Summer_21/dataset/groove_midi_files/groove/drummer7/session3/54_funk_112_fill_4-4.mid.\n",
            "WARNING:tensorflow:Unable to find a converter for file /content/drive/My Drive/Summer_21/dataset/groove_midi_files/groove/drummer7/session3/Icon\n",
            "W0627 14:02:07.461314 140075429287808 convert_dir_to_note_sequences.py:123] Unable to find a converter for file /content/drive/My Drive/Summer_21/dataset/groove_midi_files/groove/drummer7/session3/Icon\n",
            "INFO:tensorflow:Converting files in '/content/drive/My Drive/Summer_21/dataset/groove_midi_files/groove/drummer7/session2'.\n",
            "I0627 14:02:07.461625 140075429287808 convert_dir_to_note_sequences.py:83] Converting files in '/content/drive/My Drive/Summer_21/dataset/groove_midi_files/groove/drummer7/session2'.\n",
            "INFO:tensorflow:Converted MIDI file /content/drive/My Drive/Summer_21/dataset/groove_midi_files/groove/drummer7/session2/83_country_78_fill_4-4.mid.\n",
            "I0627 14:02:08.236378 140075429287808 convert_dir_to_note_sequences.py:153] Converted MIDI file /content/drive/My Drive/Summer_21/dataset/groove_midi_files/groove/drummer7/session2/83_country_78_fill_4-4.mid.\n",
            "INFO:tensorflow:Converted MIDI file /content/drive/My Drive/Summer_21/dataset/groove_midi_files/groove/drummer7/session2/11_rock_95_fill_4-4.mid.\n",
            "I0627 14:02:08.680556 140075429287808 convert_dir_to_note_sequences.py:153] Converted MIDI file /content/drive/My Drive/Summer_21/dataset/groove_midi_files/groove/drummer7/session2/11_rock_95_fill_4-4.mid.\n",
            "INFO:tensorflow:Converted MIDI file /content/drive/My Drive/Summer_21/dataset/groove_midi_files/groove/drummer7/session2/79_funk_100_beat_4-4.mid.\n",
            "I0627 14:02:09.023099 140075429287808 convert_dir_to_note_sequences.py:153] Converted MIDI file /content/drive/My Drive/Summer_21/dataset/groove_midi_files/groove/drummer7/session2/79_funk_100_beat_4-4.mid.\n",
            "INFO:tensorflow:Converted MIDI file /content/drive/My Drive/Summer_21/dataset/groove_midi_files/groove/drummer7/session2/112_jazz-fusion_96_beat_4-4.mid.\n",
            "I0627 14:02:09.577128 140075429287808 convert_dir_to_note_sequences.py:153] Converted MIDI file /content/drive/My Drive/Summer_21/dataset/groove_midi_files/groove/drummer7/session2/112_jazz-fusion_96_beat_4-4.mid.\n",
            "INFO:tensorflow:Converted MIDI file /content/drive/My Drive/Summer_21/dataset/groove_midi_files/groove/drummer7/session2/35_rock_75_fill_4-4.mid.\n",
            "I0627 14:02:09.777736 140075429287808 convert_dir_to_note_sequences.py:153] Converted MIDI file /content/drive/My Drive/Summer_21/dataset/groove_midi_files/groove/drummer7/session2/35_rock_75_fill_4-4.mid.\n",
            "INFO:tensorflow:Converted MIDI file /content/drive/My Drive/Summer_21/dataset/groove_midi_files/groove/drummer7/session2/6_rock_120_beat_4-4.mid.\n",
            "I0627 14:02:10.033380 140075429287808 convert_dir_to_note_sequences.py:153] Converted MIDI file /content/drive/My Drive/Summer_21/dataset/groove_midi_files/groove/drummer7/session2/6_rock_120_beat_4-4.mid.\n",
            "INFO:tensorflow:Converted MIDI file /content/drive/My Drive/Summer_21/dataset/groove_midi_files/groove/drummer7/session2/18_rock_118_fill_4-4.mid.\n",
            "I0627 14:02:10.219680 140075429287808 convert_dir_to_note_sequences.py:153] Converted MIDI file /content/drive/My Drive/Summer_21/dataset/groove_midi_files/groove/drummer7/session2/18_rock_118_fill_4-4.mid.\n",
            "INFO:tensorflow:Converted MIDI file /content/drive/My Drive/Summer_21/dataset/groove_midi_files/groove/drummer7/session2/49_rock_135_beat_4-4.mid.\n",
            "I0627 14:02:10.396646 140075429287808 convert_dir_to_note_sequences.py:153] Converted MIDI file /content/drive/My Drive/Summer_21/dataset/groove_midi_files/groove/drummer7/session2/49_rock_135_beat_4-4.mid.\n",
            "INFO:tensorflow:Converted MIDI file /content/drive/My Drive/Summer_21/dataset/groove_midi_files/groove/drummer7/session2/51_rock_135_fill_4-4.mid.\n",
            "I0627 14:02:10.575503 140075429287808 convert_dir_to_note_sequences.py:153] Converted MIDI file /content/drive/My Drive/Summer_21/dataset/groove_midi_files/groove/drummer7/session2/51_rock_135_fill_4-4.mid.\n",
            "INFO:tensorflow:Converted MIDI file /content/drive/My Drive/Summer_21/dataset/groove_midi_files/groove/drummer7/session2/47_rock_135_fill_4-4.mid.\n",
            "I0627 14:02:10.723596 140075429287808 convert_dir_to_note_sequences.py:153] Converted MIDI file /content/drive/My Drive/Summer_21/dataset/groove_midi_files/groove/drummer7/session2/47_rock_135_fill_4-4.mid.\n",
            "INFO:tensorflow:Converted MIDI file /content/drive/My Drive/Summer_21/dataset/groove_midi_files/groove/drummer7/session2/69_rock_145_fill_4-4.mid.\n",
            "I0627 14:02:10.881752 140075429287808 convert_dir_to_note_sequences.py:153] Converted MIDI file /content/drive/My Drive/Summer_21/dataset/groove_midi_files/groove/drummer7/session2/69_rock_145_fill_4-4.mid.\n",
            "INFO:tensorflow:Converted MIDI file /content/drive/My Drive/Summer_21/dataset/groove_midi_files/groove/drummer7/session2/24_rock_118_beat_4-4.mid.\n",
            "I0627 14:02:11.076657 140075429287808 convert_dir_to_note_sequences.py:153] Converted MIDI file /content/drive/My Drive/Summer_21/dataset/groove_midi_files/groove/drummer7/session2/24_rock_118_beat_4-4.mid.\n",
            "INFO:tensorflow:Converted MIDI file /content/drive/My Drive/Summer_21/dataset/groove_midi_files/groove/drummer7/session2/127_hiphop_140_fill_4-4.mid.\n",
            "I0627 14:02:11.262177 140075429287808 convert_dir_to_note_sequences.py:153] Converted MIDI file /content/drive/My Drive/Summer_21/dataset/groove_midi_files/groove/drummer7/session2/127_hiphop_140_fill_4-4.mid.\n",
            "INFO:tensorflow:Converted MIDI file /content/drive/My Drive/Summer_21/dataset/groove_midi_files/groove/drummer7/session2/119_jazz-fusion_96_fill_4-4.mid.\n",
            "I0627 14:02:11.440499 140075429287808 convert_dir_to_note_sequences.py:153] Converted MIDI file /content/drive/My Drive/Summer_21/dataset/groove_midi_files/groove/drummer7/session2/119_jazz-fusion_96_fill_4-4.mid.\n",
            "INFO:tensorflow:Converted MIDI file /content/drive/My Drive/Summer_21/dataset/groove_midi_files/groove/drummer7/session2/42_rock_112_fill_4-4.mid.\n",
            "I0627 14:02:11.597537 140075429287808 convert_dir_to_note_sequences.py:153] Converted MIDI file /content/drive/My Drive/Summer_21/dataset/groove_midi_files/groove/drummer7/session2/42_rock_112_fill_4-4.mid.\n",
            "INFO:tensorflow:Converted MIDI file /content/drive/My Drive/Summer_21/dataset/groove_midi_files/groove/drummer7/session2/80_country_78_beat_4-4.mid.\n",
            "I0627 14:02:11.796073 140075429287808 convert_dir_to_note_sequences.py:153] Converted MIDI file /content/drive/My Drive/Summer_21/dataset/groove_midi_files/groove/drummer7/session2/80_country_78_beat_4-4.mid.\n",
            "INFO:tensorflow:Converted MIDI file /content/drive/My Drive/Summer_21/dataset/groove_midi_files/groove/drummer7/session2/105_pop_132_beat_4-4.mid.\n",
            "I0627 14:02:11.976040 140075429287808 convert_dir_to_note_sequences.py:153] Converted MIDI file /content/drive/My Drive/Summer_21/dataset/groove_midi_files/groove/drummer7/session2/105_pop_132_beat_4-4.mid.\n",
            "INFO:tensorflow:Converted MIDI file /content/drive/My Drive/Summer_21/dataset/groove_midi_files/groove/drummer7/session2/128_hiphop_140_fill_4-4.mid.\n",
            "I0627 14:02:12.160455 140075429287808 convert_dir_to_note_sequences.py:153] Converted MIDI file /content/drive/My Drive/Summer_21/dataset/groove_midi_files/groove/drummer7/session2/128_hiphop_140_fill_4-4.mid.\n",
            "INFO:tensorflow:Converted MIDI file /content/drive/My Drive/Summer_21/dataset/groove_midi_files/groove/drummer7/session2/54_soul-motown_148_beat_4-4.mid.\n",
            "I0627 14:02:12.342800 140075429287808 convert_dir_to_note_sequences.py:153] Converted MIDI file /content/drive/My Drive/Summer_21/dataset/groove_midi_files/groove/drummer7/session2/54_soul-motown_148_beat_4-4.mid.\n",
            "INFO:tensorflow:Converted MIDI file /content/drive/My Drive/Summer_21/dataset/groove_midi_files/groove/drummer7/session2/29_rock_75_beat_4-4.mid.\n",
            "I0627 14:02:12.529203 140075429287808 convert_dir_to_note_sequences.py:153] Converted MIDI file /content/drive/My Drive/Summer_21/dataset/groove_midi_files/groove/drummer7/session2/29_rock_75_beat_4-4.mid.\n",
            "INFO:tensorflow:Converted MIDI file /content/drive/My Drive/Summer_21/dataset/groove_midi_files/groove/drummer7/session2/130_hiphop_140_fill_4-4.mid.\n",
            "I0627 14:02:12.733375 140075429287808 convert_dir_to_note_sequences.py:153] Converted MIDI file /content/drive/My Drive/Summer_21/dataset/groove_midi_files/groove/drummer7/session2/130_hiphop_140_fill_4-4.mid.\n",
            "INFO:tensorflow:Converted MIDI file /content/drive/My Drive/Summer_21/dataset/groove_midi_files/groove/drummer7/session2/28_rock_75_fill_4-4.mid.\n",
            "I0627 14:02:12.922165 140075429287808 convert_dir_to_note_sequences.py:153] Converted MIDI file /content/drive/My Drive/Summer_21/dataset/groove_midi_files/groove/drummer7/session2/28_rock_75_fill_4-4.mid.\n",
            "INFO:tensorflow:Converted MIDI file /content/drive/My Drive/Summer_21/dataset/groove_midi_files/groove/drummer7/session2/60_soul-motown_148_fill_4-4.mid.\n",
            "I0627 14:02:13.128865 140075429287808 convert_dir_to_note_sequences.py:153] Converted MIDI file /content/drive/My Drive/Summer_21/dataset/groove_midi_files/groove/drummer7/session2/60_soul-motown_148_fill_4-4.mid.\n",
            "INFO:tensorflow:Converted MIDI file /content/drive/My Drive/Summer_21/dataset/groove_midi_files/groove/drummer7/session2/100_pop_142_beat_4-4.mid.\n",
            "I0627 14:02:13.301570 140075429287808 convert_dir_to_note_sequences.py:153] Converted MIDI file /content/drive/My Drive/Summer_21/dataset/groove_midi_files/groove/drummer7/session2/100_pop_142_beat_4-4.mid.\n",
            "INFO:tensorflow:Converted MIDI file /content/drive/My Drive/Summer_21/dataset/groove_midi_files/groove/drummer7/session2/20_rock_118_fill_4-4.mid.\n",
            "I0627 14:02:13.472838 140075429287808 convert_dir_to_note_sequences.py:153] Converted MIDI file /content/drive/My Drive/Summer_21/dataset/groove_midi_files/groove/drummer7/session2/20_rock_118_fill_4-4.mid.\n",
            "INFO:tensorflow:Converted MIDI file /content/drive/My Drive/Summer_21/dataset/groove_midi_files/groove/drummer7/session2/89_hiphop_75_fill_4-4.mid.\n",
            "I0627 14:02:13.649533 140075429287808 convert_dir_to_note_sequences.py:153] Converted MIDI file /content/drive/My Drive/Summer_21/dataset/groove_midi_files/groove/drummer7/session2/89_hiphop_75_fill_4-4.mid.\n",
            "INFO:tensorflow:Converted MIDI file /content/drive/My Drive/Summer_21/dataset/groove_midi_files/groove/drummer7/session2/75_funk_100_fill_4-4.mid.\n",
            "I0627 14:02:13.841427 140075429287808 convert_dir_to_note_sequences.py:153] Converted MIDI file /content/drive/My Drive/Summer_21/dataset/groove_midi_files/groove/drummer7/session2/75_funk_100_fill_4-4.mid.\n",
            "INFO:tensorflow:Converted MIDI file /content/drive/My Drive/Summer_21/dataset/groove_midi_files/groove/drummer7/session2/4_rock_120_beat_4-4.mid.\n",
            "I0627 14:02:14.031170 140075429287808 convert_dir_to_note_sequences.py:153] Converted MIDI file /content/drive/My Drive/Summer_21/dataset/groove_midi_files/groove/drummer7/session2/4_rock_120_beat_4-4.mid.\n",
            "INFO:tensorflow:Converted MIDI file /content/drive/My Drive/Summer_21/dataset/groove_midi_files/groove/drummer7/session2/116_jazz-fusion_96_fill_4-4.mid.\n",
            "I0627 14:02:14.195000 140075429287808 convert_dir_to_note_sequences.py:153] Converted MIDI file /content/drive/My Drive/Summer_21/dataset/groove_midi_files/groove/drummer7/session2/116_jazz-fusion_96_fill_4-4.mid.\n",
            "INFO:tensorflow:Converted MIDI file /content/drive/My Drive/Summer_21/dataset/groove_midi_files/groove/drummer7/session2/106_soul-motown_104_beat_4-4.mid.\n",
            "I0627 14:02:14.507642 140075429287808 convert_dir_to_note_sequences.py:153] Converted MIDI file /content/drive/My Drive/Summer_21/dataset/groove_midi_files/groove/drummer7/session2/106_soul-motown_104_beat_4-4.mid.\n",
            "INFO:tensorflow:Converted MIDI file /content/drive/My Drive/Summer_21/dataset/groove_midi_files/groove/drummer7/session2/108_soul-motown_104_beat_4-4.mid.\n",
            "I0627 14:02:14.690530 140075429287808 convert_dir_to_note_sequences.py:153] Converted MIDI file /content/drive/My Drive/Summer_21/dataset/groove_midi_files/groove/drummer7/session2/108_soul-motown_104_beat_4-4.mid.\n",
            "INFO:tensorflow:Converted MIDI file /content/drive/My Drive/Summer_21/dataset/groove_midi_files/groove/drummer7/session2/38_rock_112_fill_4-4.mid.\n",
            "I0627 14:02:14.859369 140075429287808 convert_dir_to_note_sequences.py:153] Converted MIDI file /content/drive/My Drive/Summer_21/dataset/groove_midi_files/groove/drummer7/session2/38_rock_112_fill_4-4.mid.\n",
            "INFO:tensorflow:Converted MIDI file /content/drive/My Drive/Summer_21/dataset/groove_midi_files/groove/drummer7/session2/26_rock_118_beat_4-4.mid.\n",
            "I0627 14:02:15.037426 140075429287808 convert_dir_to_note_sequences.py:153] Converted MIDI file /content/drive/My Drive/Summer_21/dataset/groove_midi_files/groove/drummer7/session2/26_rock_118_beat_4-4.mid.\n",
            "INFO:tensorflow:Converted MIDI file /content/drive/My Drive/Summer_21/dataset/groove_midi_files/groove/drummer7/session2/40_rock_112_fill_4-4.mid.\n",
            "I0627 14:02:15.226006 140075429287808 convert_dir_to_note_sequences.py:153] Converted MIDI file /content/drive/My Drive/Summer_21/dataset/groove_midi_files/groove/drummer7/session2/40_rock_112_fill_4-4.mid.\n",
            "INFO:tensorflow:Converted MIDI file /content/drive/My Drive/Summer_21/dataset/groove_midi_files/groove/drummer7/session2/57_soul-motown_148_fill_4-4.mid.\n",
            "I0627 14:02:15.392792 140075429287808 convert_dir_to_note_sequences.py:153] Converted MIDI file /content/drive/My Drive/Summer_21/dataset/groove_midi_files/groove/drummer7/session2/57_soul-motown_148_fill_4-4.mid.\n",
            "INFO:tensorflow:Converted MIDI file /content/drive/My Drive/Summer_21/dataset/groove_midi_files/groove/drummer7/session2/59_soul-motown_148_fill_4-4.mid.\n",
            "I0627 14:02:15.540003 140075429287808 convert_dir_to_note_sequences.py:153] Converted MIDI file /content/drive/My Drive/Summer_21/dataset/groove_midi_files/groove/drummer7/session2/59_soul-motown_148_fill_4-4.mid.\n",
            "INFO:tensorflow:Converted MIDI file /content/drive/My Drive/Summer_21/dataset/groove_midi_files/groove/drummer7/session2/118_jazz-fusion_96_fill_4-4.mid.\n",
            "I0627 14:02:15.694505 140075429287808 convert_dir_to_note_sequences.py:153] Converted MIDI file /content/drive/My Drive/Summer_21/dataset/groove_midi_files/groove/drummer7/session2/118_jazz-fusion_96_fill_4-4.mid.\n",
            "INFO:tensorflow:Converted MIDI file /content/drive/My Drive/Summer_21/dataset/groove_midi_files/groove/drummer7/session2/53_rock_135_beat_4-4.mid.\n",
            "I0627 14:02:15.895216 140075429287808 convert_dir_to_note_sequences.py:153] Converted MIDI file /content/drive/My Drive/Summer_21/dataset/groove_midi_files/groove/drummer7/session2/53_rock_135_beat_4-4.mid.\n",
            "INFO:tensorflow:Converted MIDI file /content/drive/My Drive/Summer_21/dataset/groove_midi_files/groove/drummer7/session2/104_pop_132_beat_4-4.mid.\n",
            "I0627 14:02:16.090888 140075429287808 convert_dir_to_note_sequences.py:153] Converted MIDI file /content/drive/My Drive/Summer_21/dataset/groove_midi_files/groove/drummer7/session2/104_pop_132_beat_4-4.mid.\n",
            "INFO:tensorflow:Converted MIDI file /content/drive/My Drive/Summer_21/dataset/groove_midi_files/groove/drummer7/session2/45_rock_135_beat_4-4.mid.\n",
            "I0627 14:02:16.319285 140075429287808 convert_dir_to_note_sequences.py:153] Converted MIDI file /content/drive/My Drive/Summer_21/dataset/groove_midi_files/groove/drummer7/session2/45_rock_135_beat_4-4.mid.\n",
            "INFO:tensorflow:Converted MIDI file /content/drive/My Drive/Summer_21/dataset/groove_midi_files/groove/drummer7/session2/133_hiphop_140_fill_4-4.mid.\n",
            "I0627 14:02:16.487168 140075429287808 convert_dir_to_note_sequences.py:153] Converted MIDI file /content/drive/My Drive/Summer_21/dataset/groove_midi_files/groove/drummer7/session2/133_hiphop_140_fill_4-4.mid.\n",
            "INFO:tensorflow:Converted MIDI file /content/drive/My Drive/Summer_21/dataset/groove_midi_files/groove/drummer7/session2/113_jazz-fusion_96_beat_4-4.mid.\n",
            "I0627 14:02:16.669892 140075429287808 convert_dir_to_note_sequences.py:153] Converted MIDI file /content/drive/My Drive/Summer_21/dataset/groove_midi_files/groove/drummer7/session2/113_jazz-fusion_96_beat_4-4.mid.\n",
            "INFO:tensorflow:Converted MIDI file /content/drive/My Drive/Summer_21/dataset/groove_midi_files/groove/drummer7/session2/34_rock_75_fill_4-4.mid.\n",
            "I0627 14:02:16.819595 140075429287808 convert_dir_to_note_sequences.py:153] Converted MIDI file /content/drive/My Drive/Summer_21/dataset/groove_midi_files/groove/drummer7/session2/34_rock_75_fill_4-4.mid.\n",
            "INFO:tensorflow:Converted MIDI file /content/drive/My Drive/Summer_21/dataset/groove_midi_files/groove/drummer7/session2/123_hiphop_140_beat_4-4.mid.\n",
            "I0627 14:02:17.094363 140075429287808 convert_dir_to_note_sequences.py:153] Converted MIDI file /content/drive/My Drive/Summer_21/dataset/groove_midi_files/groove/drummer7/session2/123_hiphop_140_beat_4-4.mid.\n",
            "INFO:tensorflow:Converted MIDI file /content/drive/My Drive/Summer_21/dataset/groove_midi_files/groove/drummer7/session2/2_rock_120_beat_4-4.mid.\n",
            "I0627 14:02:17.254558 140075429287808 convert_dir_to_note_sequences.py:153] Converted MIDI file /content/drive/My Drive/Summer_21/dataset/groove_midi_files/groove/drummer7/session2/2_rock_120_beat_4-4.mid.\n",
            "INFO:tensorflow:Converted MIDI file /content/drive/My Drive/Summer_21/dataset/groove_midi_files/groove/drummer7/session2/27_rock_75_beat_4-4.mid.\n",
            "I0627 14:02:17.477109 140075429287808 convert_dir_to_note_sequences.py:153] Converted MIDI file /content/drive/My Drive/Summer_21/dataset/groove_midi_files/groove/drummer7/session2/27_rock_75_beat_4-4.mid.\n",
            "INFO:tensorflow:Converted MIDI file /content/drive/My Drive/Summer_21/dataset/groove_midi_files/groove/drummer7/session2/65_rock_145_fill_4-4.mid.\n",
            "I0627 14:02:17.627978 140075429287808 convert_dir_to_note_sequences.py:153] Converted MIDI file /content/drive/My Drive/Summer_21/dataset/groove_midi_files/groove/drummer7/session2/65_rock_145_fill_4-4.mid.\n",
            "INFO:tensorflow:Converted MIDI file /content/drive/My Drive/Summer_21/dataset/groove_midi_files/groove/drummer7/session2/10_rock_95_fill_4-4.mid.\n",
            "I0627 14:02:17.792403 140075429287808 convert_dir_to_note_sequences.py:153] Converted MIDI file /content/drive/My Drive/Summer_21/dataset/groove_midi_files/groove/drummer7/session2/10_rock_95_fill_4-4.mid.\n",
            "INFO:tensorflow:Converted MIDI file /content/drive/My Drive/Summer_21/dataset/groove_midi_files/groove/drummer7/session2/88_hiphop_75_fill_4-4.mid.\n",
            "I0627 14:02:17.993262 140075429287808 convert_dir_to_note_sequences.py:153] Converted MIDI file /content/drive/My Drive/Summer_21/dataset/groove_midi_files/groove/drummer7/session2/88_hiphop_75_fill_4-4.mid.\n",
            "INFO:tensorflow:Converted MIDI file /content/drive/My Drive/Summer_21/dataset/groove_midi_files/groove/drummer7/session2/73_funk_100_fill_4-4.mid.\n",
            "I0627 14:02:18.168415 140075429287808 convert_dir_to_note_sequences.py:153] Converted MIDI file /content/drive/My Drive/Summer_21/dataset/groove_midi_files/groove/drummer7/session2/73_funk_100_fill_4-4.mid.\n",
            "INFO:tensorflow:Converted MIDI file /content/drive/My Drive/Summer_21/dataset/groove_midi_files/groove/drummer7/session2/31_rock_75_fill_4-4.mid.\n",
            "I0627 14:02:18.336182 140075429287808 convert_dir_to_note_sequences.py:153] Converted MIDI file /content/drive/My Drive/Summer_21/dataset/groove_midi_files/groove/drummer7/session2/31_rock_75_fill_4-4.mid.\n",
            "INFO:tensorflow:Converted MIDI file /content/drive/My Drive/Summer_21/dataset/groove_midi_files/groove/drummer7/session2/84_country_78_fill_4-4.mid.\n",
            "I0627 14:02:18.504349 140075429287808 convert_dir_to_note_sequences.py:153] Converted MIDI file /content/drive/My Drive/Summer_21/dataset/groove_midi_files/groove/drummer7/session2/84_country_78_fill_4-4.mid.\n",
            "INFO:tensorflow:Converted MIDI file /content/drive/My Drive/Summer_21/dataset/groove_midi_files/groove/drummer7/session2/122_jazz-fusion_96_fill_4-4.mid.\n",
            "I0627 14:02:18.670407 140075429287808 convert_dir_to_note_sequences.py:153] Converted MIDI file /content/drive/My Drive/Summer_21/dataset/groove_midi_files/groove/drummer7/session2/122_jazz-fusion_96_fill_4-4.mid.\n",
            "INFO:tensorflow:Converted MIDI file /content/drive/My Drive/Summer_21/dataset/groove_midi_files/groove/drummer7/session2/87_hiphop_75_beat_4-4.mid.\n",
            "I0627 14:02:18.890883 140075429287808 convert_dir_to_note_sequences.py:153] Converted MIDI file /content/drive/My Drive/Summer_21/dataset/groove_midi_files/groove/drummer7/session2/87_hiphop_75_beat_4-4.mid.\n",
            "INFO:tensorflow:Converted MIDI file /content/drive/My Drive/Summer_21/dataset/groove_midi_files/groove/drummer7/session2/14_rock_95_beat_4-4.mid.\n",
            "I0627 14:02:19.058017 140075429287808 convert_dir_to_note_sequences.py:153] Converted MIDI file /content/drive/My Drive/Summer_21/dataset/groove_midi_files/groove/drummer7/session2/14_rock_95_beat_4-4.mid.\n",
            "INFO:tensorflow:Converted MIDI file /content/drive/My Drive/Summer_21/dataset/groove_midi_files/groove/drummer7/session2/30_rock_75_beat_4-4.mid.\n",
            "I0627 14:02:19.221105 140075429287808 convert_dir_to_note_sequences.py:153] Converted MIDI file /content/drive/My Drive/Summer_21/dataset/groove_midi_files/groove/drummer7/session2/30_rock_75_beat_4-4.mid.\n",
            "INFO:tensorflow:Converted MIDI file /content/drive/My Drive/Summer_21/dataset/groove_midi_files/groove/drummer7/session2/124_hiphop_140_fill_4-4.mid.\n",
            "I0627 14:02:19.412434 140075429287808 convert_dir_to_note_sequences.py:153] Converted MIDI file /content/drive/My Drive/Summer_21/dataset/groove_midi_files/groove/drummer7/session2/124_hiphop_140_fill_4-4.mid.\n",
            "INFO:tensorflow:Converted MIDI file /content/drive/My Drive/Summer_21/dataset/groove_midi_files/groove/drummer7/session2/16_rock_118_fill_4-4.mid.\n",
            "I0627 14:02:19.603320 140075429287808 convert_dir_to_note_sequences.py:153] Converted MIDI file /content/drive/My Drive/Summer_21/dataset/groove_midi_files/groove/drummer7/session2/16_rock_118_fill_4-4.mid.\n",
            "INFO:tensorflow:Converted MIDI file /content/drive/My Drive/Summer_21/dataset/groove_midi_files/groove/drummer7/session2/110_soul-motown_104_fill_4-4.mid.\n",
            "I0627 14:02:19.781209 140075429287808 convert_dir_to_note_sequences.py:153] Converted MIDI file /content/drive/My Drive/Summer_21/dataset/groove_midi_files/groove/drummer7/session2/110_soul-motown_104_fill_4-4.mid.\n",
            "INFO:tensorflow:Converted MIDI file /content/drive/My Drive/Summer_21/dataset/groove_midi_files/groove/drummer7/session2/22_rock_118_beat_4-4.mid.\n",
            "I0627 14:02:19.973346 140075429287808 convert_dir_to_note_sequences.py:153] Converted MIDI file /content/drive/My Drive/Summer_21/dataset/groove_midi_files/groove/drummer7/session2/22_rock_118_beat_4-4.mid.\n",
            "INFO:tensorflow:Converted MIDI file /content/drive/My Drive/Summer_21/dataset/groove_midi_files/groove/drummer7/session2/44_rock_112_fill_4-4.mid.\n",
            "I0627 14:02:20.148838 140075429287808 convert_dir_to_note_sequences.py:153] Converted MIDI file /content/drive/My Drive/Summer_21/dataset/groove_midi_files/groove/drummer7/session2/44_rock_112_fill_4-4.mid.\n",
            "INFO:tensorflow:Converted MIDI file /content/drive/My Drive/Summer_21/dataset/groove_midi_files/groove/drummer7/session2/77_funk_100_beat_4-4.mid.\n",
            "I0627 14:02:20.316193 140075429287808 convert_dir_to_note_sequences.py:153] Converted MIDI file /content/drive/My Drive/Summer_21/dataset/groove_midi_files/groove/drummer7/session2/77_funk_100_beat_4-4.mid.\n",
            "INFO:tensorflow:Converted MIDI file /content/drive/My Drive/Summer_21/dataset/groove_midi_files/groove/drummer7/session2/71_rock_145_fill_4-4.mid.\n",
            "I0627 14:02:20.544155 140075429287808 convert_dir_to_note_sequences.py:153] Converted MIDI file /content/drive/My Drive/Summer_21/dataset/groove_midi_files/groove/drummer7/session2/71_rock_145_fill_4-4.mid.\n",
            "INFO:tensorflow:Converted MIDI file /content/drive/My Drive/Summer_21/dataset/groove_midi_files/groove/drummer7/session2/63_soul-motown_148_beat_4-4.mid.\n",
            "I0627 14:02:20.742034 140075429287808 convert_dir_to_note_sequences.py:153] Converted MIDI file /content/drive/My Drive/Summer_21/dataset/groove_midi_files/groove/drummer7/session2/63_soul-motown_148_beat_4-4.mid.\n",
            "INFO:tensorflow:Converted MIDI file /content/drive/My Drive/Summer_21/dataset/groove_midi_files/groove/drummer7/session2/117_jazz-fusion_96_fill_4-4.mid.\n",
            "I0627 14:02:20.919819 140075429287808 convert_dir_to_note_sequences.py:153] Converted MIDI file /content/drive/My Drive/Summer_21/dataset/groove_midi_files/groove/drummer7/session2/117_jazz-fusion_96_fill_4-4.mid.\n",
            "INFO:tensorflow:Converted MIDI file /content/drive/My Drive/Summer_21/dataset/groove_midi_files/groove/drummer7/session2/101_pop_142_beat_4-4.mid.\n",
            "I0627 14:02:21.111241 140075429287808 convert_dir_to_note_sequences.py:153] Converted MIDI file /content/drive/My Drive/Summer_21/dataset/groove_midi_files/groove/drummer7/session2/101_pop_142_beat_4-4.mid.\n",
            "INFO:tensorflow:Converted MIDI file /content/drive/My Drive/Summer_21/dataset/groove_midi_files/groove/drummer7/session2/67_rock_145_fill_4-4.mid.\n",
            "I0627 14:02:21.292549 140075429287808 convert_dir_to_note_sequences.py:153] Converted MIDI file /content/drive/My Drive/Summer_21/dataset/groove_midi_files/groove/drummer7/session2/67_rock_145_fill_4-4.mid.\n",
            "INFO:tensorflow:Converted MIDI file /content/drive/My Drive/Summer_21/dataset/groove_midi_files/groove/drummer7/session2/43_rock_112_fill_4-4.mid.\n",
            "I0627 14:02:21.448193 140075429287808 convert_dir_to_note_sequences.py:153] Converted MIDI file /content/drive/My Drive/Summer_21/dataset/groove_midi_files/groove/drummer7/session2/43_rock_112_fill_4-4.mid.\n",
            "INFO:tensorflow:Converted MIDI file /content/drive/My Drive/Summer_21/dataset/groove_midi_files/groove/drummer7/session2/94_hiphop_75_fill_4-4.mid.\n",
            "I0627 14:02:21.631110 140075429287808 convert_dir_to_note_sequences.py:153] Converted MIDI file /content/drive/My Drive/Summer_21/dataset/groove_midi_files/groove/drummer7/session2/94_hiphop_75_fill_4-4.mid.\n",
            "INFO:tensorflow:Converted MIDI file /content/drive/My Drive/Summer_21/dataset/groove_midi_files/groove/drummer7/session2/92_hiphop_75_beat_4-4.mid.\n",
            "I0627 14:02:21.787290 140075429287808 convert_dir_to_note_sequences.py:153] Converted MIDI file /content/drive/My Drive/Summer_21/dataset/groove_midi_files/groove/drummer7/session2/92_hiphop_75_beat_4-4.mid.\n",
            "INFO:tensorflow:Converted MIDI file /content/drive/My Drive/Summer_21/dataset/groove_midi_files/groove/drummer7/session2/111_soul-motown_104_fill_4-4.mid.\n",
            "I0627 14:02:21.957087 140075429287808 convert_dir_to_note_sequences.py:153] Converted MIDI file /content/drive/My Drive/Summer_21/dataset/groove_midi_files/groove/drummer7/session2/111_soul-motown_104_fill_4-4.mid.\n",
            "INFO:tensorflow:Converted MIDI file /content/drive/My Drive/Summer_21/dataset/groove_midi_files/groove/drummer7/session2/68_rock_145_fill_4-4.mid.\n",
            "I0627 14:02:22.139863 140075429287808 convert_dir_to_note_sequences.py:153] Converted MIDI file /content/drive/My Drive/Summer_21/dataset/groove_midi_files/groove/drummer7/session2/68_rock_145_fill_4-4.mid.\n",
            "INFO:tensorflow:Converted MIDI file /content/drive/My Drive/Summer_21/dataset/groove_midi_files/groove/drummer7/session2/99_pop_142_fill_4-4.mid.\n",
            "I0627 14:02:22.363510 140075429287808 convert_dir_to_note_sequences.py:153] Converted MIDI file /content/drive/My Drive/Summer_21/dataset/groove_midi_files/groove/drummer7/session2/99_pop_142_fill_4-4.mid.\n",
            "INFO:tensorflow:Converted MIDI file /content/drive/My Drive/Summer_21/dataset/groove_midi_files/groove/drummer7/session2/7_rock_120_beat_4-4.mid.\n",
            "I0627 14:02:22.540315 140075429287808 convert_dir_to_note_sequences.py:153] Converted MIDI file /content/drive/My Drive/Summer_21/dataset/groove_midi_files/groove/drummer7/session2/7_rock_120_beat_4-4.mid.\n",
            "INFO:tensorflow:Converted MIDI file /content/drive/My Drive/Summer_21/dataset/groove_midi_files/groove/drummer7/session2/12_rock_95_beat_4-4.mid.\n",
            "I0627 14:02:22.696986 140075429287808 convert_dir_to_note_sequences.py:153] Converted MIDI file /content/drive/My Drive/Summer_21/dataset/groove_midi_files/groove/drummer7/session2/12_rock_95_beat_4-4.mid.\n",
            "INFO:tensorflow:Converted MIDI file /content/drive/My Drive/Summer_21/dataset/groove_midi_files/groove/drummer7/session2/86_country_78_fill_4-4.mid.\n",
            "I0627 14:02:22.893723 140075429287808 convert_dir_to_note_sequences.py:153] Converted MIDI file /content/drive/My Drive/Summer_21/dataset/groove_midi_files/groove/drummer7/session2/86_country_78_fill_4-4.mid.\n",
            "INFO:tensorflow:Converted MIDI file /content/drive/My Drive/Summer_21/dataset/groove_midi_files/groove/drummer7/session2/78_funk_100_beat_4-4.mid.\n",
            "I0627 14:02:23.084197 140075429287808 convert_dir_to_note_sequences.py:153] Converted MIDI file /content/drive/My Drive/Summer_21/dataset/groove_midi_files/groove/drummer7/session2/78_funk_100_beat_4-4.mid.\n",
            "INFO:tensorflow:Converted MIDI file /content/drive/My Drive/Summer_21/dataset/groove_midi_files/groove/drummer7/session2/23_rock_118_fill_4-4.mid.\n",
            "I0627 14:02:23.252550 140075429287808 convert_dir_to_note_sequences.py:153] Converted MIDI file /content/drive/My Drive/Summer_21/dataset/groove_midi_files/groove/drummer7/session2/23_rock_118_fill_4-4.mid.\n",
            "INFO:tensorflow:Converted MIDI file /content/drive/My Drive/Summer_21/dataset/groove_midi_files/groove/drummer7/session2/9_rock_95_fill_4-4.mid.\n",
            "I0627 14:02:23.422528 140075429287808 convert_dir_to_note_sequences.py:153] Converted MIDI file /content/drive/My Drive/Summer_21/dataset/groove_midi_files/groove/drummer7/session2/9_rock_95_fill_4-4.mid.\n",
            "INFO:tensorflow:Converted MIDI file /content/drive/My Drive/Summer_21/dataset/groove_midi_files/groove/drummer7/session2/55_soul-motown_148_fill_4-4.mid.\n",
            "I0627 14:02:23.613926 140075429287808 convert_dir_to_note_sequences.py:153] Converted MIDI file /content/drive/My Drive/Summer_21/dataset/groove_midi_files/groove/drummer7/session2/55_soul-motown_148_fill_4-4.mid.\n",
            "INFO:tensorflow:Converted MIDI file /content/drive/My Drive/Summer_21/dataset/groove_midi_files/groove/drummer7/session2/131_hiphop_140_fill_4-4.mid.\n",
            "I0627 14:02:23.838704 140075429287808 convert_dir_to_note_sequences.py:153] Converted MIDI file /content/drive/My Drive/Summer_21/dataset/groove_midi_files/groove/drummer7/session2/131_hiphop_140_fill_4-4.mid.\n",
            "INFO:tensorflow:Converted MIDI file /content/drive/My Drive/Summer_21/dataset/groove_midi_files/groove/drummer7/session2/33_rock_75_beat_4-4.mid.\n",
            "I0627 14:02:23.993136 140075429287808 convert_dir_to_note_sequences.py:153] Converted MIDI file /content/drive/My Drive/Summer_21/dataset/groove_midi_files/groove/drummer7/session2/33_rock_75_beat_4-4.mid.\n",
            "INFO:tensorflow:Converted MIDI file /content/drive/My Drive/Summer_21/dataset/groove_midi_files/groove/drummer7/session2/19_rock_118_fill_4-4.mid.\n",
            "I0627 14:02:24.153481 140075429287808 convert_dir_to_note_sequences.py:153] Converted MIDI file /content/drive/My Drive/Summer_21/dataset/groove_midi_files/groove/drummer7/session2/19_rock_118_fill_4-4.mid.\n",
            "INFO:tensorflow:Converted MIDI file /content/drive/My Drive/Summer_21/dataset/groove_midi_files/groove/drummer7/session2/50_rock_135_fill_4-4.mid.\n",
            "I0627 14:02:24.330170 140075429287808 convert_dir_to_note_sequences.py:153] Converted MIDI file /content/drive/My Drive/Summer_21/dataset/groove_midi_files/groove/drummer7/session2/50_rock_135_fill_4-4.mid.\n",
            "INFO:tensorflow:Converted MIDI file /content/drive/My Drive/Summer_21/dataset/groove_midi_files/groove/drummer7/session2/32_rock_75_fill_4-4.mid.\n",
            "I0627 14:02:24.500719 140075429287808 convert_dir_to_note_sequences.py:153] Converted MIDI file /content/drive/My Drive/Summer_21/dataset/groove_midi_files/groove/drummer7/session2/32_rock_75_fill_4-4.mid.\n",
            "INFO:tensorflow:Converted MIDI file /content/drive/My Drive/Summer_21/dataset/groove_midi_files/groove/drummer7/session2/90_hiphop_75_fill_4-4.mid.\n",
            "I0627 14:02:24.721214 140075429287808 convert_dir_to_note_sequences.py:153] Converted MIDI file /content/drive/My Drive/Summer_21/dataset/groove_midi_files/groove/drummer7/session2/90_hiphop_75_fill_4-4.mid.\n",
            "INFO:tensorflow:Converted MIDI file /content/drive/My Drive/Summer_21/dataset/groove_midi_files/groove/drummer7/session2/129_hiphop_140_fill_4-4.mid.\n",
            "I0627 14:02:24.878306 140075429287808 convert_dir_to_note_sequences.py:153] Converted MIDI file /content/drive/My Drive/Summer_21/dataset/groove_midi_files/groove/drummer7/session2/129_hiphop_140_fill_4-4.mid.\n",
            "INFO:tensorflow:Converted MIDI file /content/drive/My Drive/Summer_21/dataset/groove_midi_files/groove/drummer7/session2/72_funk_100_beat_4-4.mid.\n",
            "I0627 14:02:25.062529 140075429287808 convert_dir_to_note_sequences.py:153] Converted MIDI file /content/drive/My Drive/Summer_21/dataset/groove_midi_files/groove/drummer7/session2/72_funk_100_beat_4-4.mid.\n",
            "INFO:tensorflow:Converted MIDI file /content/drive/My Drive/Summer_21/dataset/groove_midi_files/groove/drummer7/session2/37_rock_112_beat_4-4.mid.\n",
            "I0627 14:02:25.324042 140075429287808 convert_dir_to_note_sequences.py:153] Converted MIDI file /content/drive/My Drive/Summer_21/dataset/groove_midi_files/groove/drummer7/session2/37_rock_112_beat_4-4.mid.\n",
            "INFO:tensorflow:Converted MIDI file /content/drive/My Drive/Summer_21/dataset/groove_midi_files/groove/drummer7/session2/64_rock_145_beat_4-4.mid.\n",
            "I0627 14:02:25.504189 140075429287808 convert_dir_to_note_sequences.py:153] Converted MIDI file /content/drive/My Drive/Summer_21/dataset/groove_midi_files/groove/drummer7/session2/64_rock_145_beat_4-4.mid.\n",
            "INFO:tensorflow:Converted MIDI file /content/drive/My Drive/Summer_21/dataset/groove_midi_files/groove/drummer7/session2/41_rock_112_fill_4-4.mid.\n",
            "I0627 14:02:25.692324 140075429287808 convert_dir_to_note_sequences.py:153] Converted MIDI file /content/drive/My Drive/Summer_21/dataset/groove_midi_files/groove/drummer7/session2/41_rock_112_fill_4-4.mid.\n",
            "INFO:tensorflow:Converted MIDI file /content/drive/My Drive/Summer_21/dataset/groove_midi_files/groove/drummer7/session2/126_hiphop_140_fill_4-4.mid.\n",
            "I0627 14:02:25.858202 140075429287808 convert_dir_to_note_sequences.py:153] Converted MIDI file /content/drive/My Drive/Summer_21/dataset/groove_midi_files/groove/drummer7/session2/126_hiphop_140_fill_4-4.mid.\n",
            "INFO:tensorflow:Converted MIDI file /content/drive/My Drive/Summer_21/dataset/groove_midi_files/groove/drummer7/session2/97_pop_142_beat_4-4.mid.\n",
            "I0627 14:02:26.041889 140075429287808 convert_dir_to_note_sequences.py:153] Converted MIDI file /content/drive/My Drive/Summer_21/dataset/groove_midi_files/groove/drummer7/session2/97_pop_142_beat_4-4.mid.\n",
            "INFO:tensorflow:Converted MIDI file /content/drive/My Drive/Summer_21/dataset/groove_midi_files/groove/drummer7/session2/8_rock_95_beat_4-4.mid.\n",
            "I0627 14:02:26.229763 140075429287808 convert_dir_to_note_sequences.py:153] Converted MIDI file /content/drive/My Drive/Summer_21/dataset/groove_midi_files/groove/drummer7/session2/8_rock_95_beat_4-4.mid.\n",
            "INFO:tensorflow:Converted MIDI file /content/drive/My Drive/Summer_21/dataset/groove_midi_files/groove/drummer7/session2/121_jazz-fusion_96_fill_4-4.mid.\n",
            "I0627 14:02:26.390459 140075429287808 convert_dir_to_note_sequences.py:153] Converted MIDI file /content/drive/My Drive/Summer_21/dataset/groove_midi_files/groove/drummer7/session2/121_jazz-fusion_96_fill_4-4.mid.\n",
            "INFO:tensorflow:Converted MIDI file /content/drive/My Drive/Summer_21/dataset/groove_midi_files/groove/drummer7/session2/58_soul-motown_148_fill_4-4.mid.\n",
            "I0627 14:02:26.547453 140075429287808 convert_dir_to_note_sequences.py:153] Converted MIDI file /content/drive/My Drive/Summer_21/dataset/groove_midi_files/groove/drummer7/session2/58_soul-motown_148_fill_4-4.mid.\n",
            "INFO:tensorflow:Converted MIDI file /content/drive/My Drive/Summer_21/dataset/groove_midi_files/groove/drummer7/session2/56_soul-motown_148_fill_4-4.mid.\n",
            "I0627 14:02:26.742401 140075429287808 convert_dir_to_note_sequences.py:153] Converted MIDI file /content/drive/My Drive/Summer_21/dataset/groove_midi_files/groove/drummer7/session2/56_soul-motown_148_fill_4-4.mid.\n",
            "INFO:tensorflow:Converted MIDI file /content/drive/My Drive/Summer_21/dataset/groove_midi_files/groove/drummer7/session2/39_rock_112_fill_4-4.mid.\n",
            "I0627 14:02:26.945801 140075429287808 convert_dir_to_note_sequences.py:153] Converted MIDI file /content/drive/My Drive/Summer_21/dataset/groove_midi_files/groove/drummer7/session2/39_rock_112_fill_4-4.mid.\n",
            "INFO:tensorflow:Converted MIDI file /content/drive/My Drive/Summer_21/dataset/groove_midi_files/groove/drummer7/session2/13_rock_95_fill_4-4.mid.\n",
            "I0627 14:02:27.116220 140075429287808 convert_dir_to_note_sequences.py:153] Converted MIDI file /content/drive/My Drive/Summer_21/dataset/groove_midi_files/groove/drummer7/session2/13_rock_95_fill_4-4.mid.\n",
            "INFO:tensorflow:Converted MIDI file /content/drive/My Drive/Summer_21/dataset/groove_midi_files/groove/drummer7/session2/15_rock_118_beat_4-4.mid.\n",
            "I0627 14:02:27.336041 140075429287808 convert_dir_to_note_sequences.py:153] Converted MIDI file /content/drive/My Drive/Summer_21/dataset/groove_midi_files/groove/drummer7/session2/15_rock_118_beat_4-4.mid.\n",
            "INFO:tensorflow:Converted MIDI file /content/drive/My Drive/Summer_21/dataset/groove_midi_files/groove/drummer7/session2/107_soul-motown_104_fill_4-4.mid.\n",
            "I0627 14:02:27.529885 140075429287808 convert_dir_to_note_sequences.py:153] Converted MIDI file /content/drive/My Drive/Summer_21/dataset/groove_midi_files/groove/drummer7/session2/107_soul-motown_104_fill_4-4.mid.\n",
            "INFO:tensorflow:Converted MIDI file /content/drive/My Drive/Summer_21/dataset/groove_midi_files/groove/drummer7/session2/109_soul-motown_104_fill_4-4.mid.\n",
            "I0627 14:02:27.708161 140075429287808 convert_dir_to_note_sequences.py:153] Converted MIDI file /content/drive/My Drive/Summer_21/dataset/groove_midi_files/groove/drummer7/session2/109_soul-motown_104_fill_4-4.mid.\n",
            "INFO:tensorflow:Converted MIDI file /content/drive/My Drive/Summer_21/dataset/groove_midi_files/groove/drummer7/session2/115_jazz-fusion_96_beat_4-4.mid.\n",
            "I0627 14:02:27.916069 140075429287808 convert_dir_to_note_sequences.py:153] Converted MIDI file /content/drive/My Drive/Summer_21/dataset/groove_midi_files/groove/drummer7/session2/115_jazz-fusion_96_beat_4-4.mid.\n",
            "INFO:tensorflow:Converted MIDI file /content/drive/My Drive/Summer_21/dataset/groove_midi_files/groove/drummer7/session2/52_rock_135_fill_4-4.mid.\n",
            "I0627 14:02:28.115815 140075429287808 convert_dir_to_note_sequences.py:153] Converted MIDI file /content/drive/My Drive/Summer_21/dataset/groove_midi_files/groove/drummer7/session2/52_rock_135_fill_4-4.mid.\n",
            "INFO:tensorflow:Converted MIDI file /content/drive/My Drive/Summer_21/dataset/groove_midi_files/groove/drummer7/session2/74_funk_100_fill_4-4.mid.\n",
            "I0627 14:02:28.317117 140075429287808 convert_dir_to_note_sequences.py:153] Converted MIDI file /content/drive/My Drive/Summer_21/dataset/groove_midi_files/groove/drummer7/session2/74_funk_100_fill_4-4.mid.\n",
            "INFO:tensorflow:Converted MIDI file /content/drive/My Drive/Summer_21/dataset/groove_midi_files/groove/drummer7/session2/5_rock_120_beat_4-4.mid.\n",
            "I0627 14:02:28.501926 140075429287808 convert_dir_to_note_sequences.py:153] Converted MIDI file /content/drive/My Drive/Summer_21/dataset/groove_midi_files/groove/drummer7/session2/5_rock_120_beat_4-4.mid.\n",
            "INFO:tensorflow:Converted MIDI file /content/drive/My Drive/Summer_21/dataset/groove_midi_files/groove/drummer7/session2/82_country_78_fill_4-4.mid.\n",
            "I0627 14:02:28.671533 140075429287808 convert_dir_to_note_sequences.py:153] Converted MIDI file /content/drive/My Drive/Summer_21/dataset/groove_midi_files/groove/drummer7/session2/82_country_78_fill_4-4.mid.\n",
            "INFO:tensorflow:Converted MIDI file /content/drive/My Drive/Summer_21/dataset/groove_midi_files/groove/drummer7/session2/21_rock_118_fill_4-4.mid.\n",
            "I0627 14:02:28.842152 140075429287808 convert_dir_to_note_sequences.py:153] Converted MIDI file /content/drive/My Drive/Summer_21/dataset/groove_midi_files/groove/drummer7/session2/21_rock_118_fill_4-4.mid.\n",
            "INFO:tensorflow:Converted MIDI file /content/drive/My Drive/Summer_21/dataset/groove_midi_files/groove/drummer7/session2/102_pop_132_beat_4-4.mid.\n",
            "I0627 14:02:29.040863 140075429287808 convert_dir_to_note_sequences.py:153] Converted MIDI file /content/drive/My Drive/Summer_21/dataset/groove_midi_files/groove/drummer7/session2/102_pop_132_beat_4-4.mid.\n",
            "INFO:tensorflow:Converted MIDI file /content/drive/My Drive/Summer_21/dataset/groove_midi_files/groove/drummer7/session2/3_rock_120_beat_4-4.mid.\n",
            "I0627 14:02:29.242541 140075429287808 convert_dir_to_note_sequences.py:153] Converted MIDI file /content/drive/My Drive/Summer_21/dataset/groove_midi_files/groove/drummer7/session2/3_rock_120_beat_4-4.mid.\n",
            "INFO:tensorflow:Converted MIDI file /content/drive/My Drive/Summer_21/dataset/groove_midi_files/groove/drummer7/session2/61_soul-motown_148_fill_4-4.mid.\n",
            "I0627 14:02:29.410239 140075429287808 convert_dir_to_note_sequences.py:153] Converted MIDI file /content/drive/My Drive/Summer_21/dataset/groove_midi_files/groove/drummer7/session2/61_soul-motown_148_fill_4-4.mid.\n",
            "INFO:tensorflow:Converted MIDI file /content/drive/My Drive/Summer_21/dataset/groove_midi_files/groove/drummer7/session2/81_country_78_fill_4-4.mid.\n",
            "I0627 14:02:29.600540 140075429287808 convert_dir_to_note_sequences.py:153] Converted MIDI file /content/drive/My Drive/Summer_21/dataset/groove_midi_files/groove/drummer7/session2/81_country_78_fill_4-4.mid.\n",
            "INFO:tensorflow:Converted MIDI file /content/drive/My Drive/Summer_21/dataset/groove_midi_files/groove/drummer7/session2/91_hiphop_75_fill_4-4.mid.\n",
            "I0627 14:02:29.844540 140075429287808 convert_dir_to_note_sequences.py:153] Converted MIDI file /content/drive/My Drive/Summer_21/dataset/groove_midi_files/groove/drummer7/session2/91_hiphop_75_fill_4-4.mid.\n",
            "INFO:tensorflow:Converted MIDI file /content/drive/My Drive/Summer_21/dataset/groove_midi_files/groove/drummer7/session2/125_hiphop_140_fill_4-4.mid.\n",
            "I0627 14:02:30.187903 140075429287808 convert_dir_to_note_sequences.py:153] Converted MIDI file /content/drive/My Drive/Summer_21/dataset/groove_midi_files/groove/drummer7/session2/125_hiphop_140_fill_4-4.mid.\n",
            "INFO:tensorflow:Converted MIDI file /content/drive/My Drive/Summer_21/dataset/groove_midi_files/groove/drummer7/session2/98_pop_142_fill_4-4.mid.\n",
            "I0627 14:02:30.356790 140075429287808 convert_dir_to_note_sequences.py:153] Converted MIDI file /content/drive/My Drive/Summer_21/dataset/groove_midi_files/groove/drummer7/session2/98_pop_142_fill_4-4.mid.\n",
            "INFO:tensorflow:Converted MIDI file /content/drive/My Drive/Summer_21/dataset/groove_midi_files/groove/drummer7/session2/85_country_78_fill_4-4.mid.\n",
            "I0627 14:02:30.556117 140075429287808 convert_dir_to_note_sequences.py:153] Converted MIDI file /content/drive/My Drive/Summer_21/dataset/groove_midi_files/groove/drummer7/session2/85_country_78_fill_4-4.mid.\n",
            "INFO:tensorflow:Converted MIDI file /content/drive/My Drive/Summer_21/dataset/groove_midi_files/groove/drummer7/session2/114_jazz-fusion_96_beat_4-4.mid.\n",
            "I0627 14:02:30.725763 140075429287808 convert_dir_to_note_sequences.py:153] Converted MIDI file /content/drive/My Drive/Summer_21/dataset/groove_midi_files/groove/drummer7/session2/114_jazz-fusion_96_beat_4-4.mid.\n",
            "INFO:tensorflow:Converted MIDI file /content/drive/My Drive/Summer_21/dataset/groove_midi_files/groove/drummer7/session2/1_rock_120_beat_4-4.mid.\n",
            "I0627 14:02:30.906767 140075429287808 convert_dir_to_note_sequences.py:153] Converted MIDI file /content/drive/My Drive/Summer_21/dataset/groove_midi_files/groove/drummer7/session2/1_rock_120_beat_4-4.mid.\n",
            "INFO:tensorflow:Converted MIDI file /content/drive/My Drive/Summer_21/dataset/groove_midi_files/groove/drummer7/session2/103_pop_132_beat_4-4.mid.\n",
            "I0627 14:02:31.087640 140075429287808 convert_dir_to_note_sequences.py:153] Converted MIDI file /content/drive/My Drive/Summer_21/dataset/groove_midi_files/groove/drummer7/session2/103_pop_132_beat_4-4.mid.\n",
            "INFO:tensorflow:Converted MIDI file /content/drive/My Drive/Summer_21/dataset/groove_midi_files/groove/drummer7/session2/66_rock_145_fill_4-4.mid.\n",
            "I0627 14:02:31.253242 140075429287808 convert_dir_to_note_sequences.py:153] Converted MIDI file /content/drive/My Drive/Summer_21/dataset/groove_midi_files/groove/drummer7/session2/66_rock_145_fill_4-4.mid.\n",
            "INFO:tensorflow:Converted MIDI file /content/drive/My Drive/Summer_21/dataset/groove_midi_files/groove/drummer7/session2/25_rock_118_fill_4-4.mid.\n",
            "I0627 14:02:31.417864 140075429287808 convert_dir_to_note_sequences.py:153] Converted MIDI file /content/drive/My Drive/Summer_21/dataset/groove_midi_files/groove/drummer7/session2/25_rock_118_fill_4-4.mid.\n",
            "INFO:tensorflow:Converted MIDI file /content/drive/My Drive/Summer_21/dataset/groove_midi_files/groove/drummer7/session2/70_rock_145_fill_4-4.mid.\n",
            "I0627 14:02:31.588067 140075429287808 convert_dir_to_note_sequences.py:153] Converted MIDI file /content/drive/My Drive/Summer_21/dataset/groove_midi_files/groove/drummer7/session2/70_rock_145_fill_4-4.mid.\n",
            "INFO:tensorflow:Converted MIDI file /content/drive/My Drive/Summer_21/dataset/groove_midi_files/groove/drummer7/session2/132_hiphop_140_fill_4-4.mid.\n",
            "I0627 14:02:31.851237 140075429287808 convert_dir_to_note_sequences.py:153] Converted MIDI file /content/drive/My Drive/Summer_21/dataset/groove_midi_files/groove/drummer7/session2/132_hiphop_140_fill_4-4.mid.\n",
            "INFO:tensorflow:Converted MIDI file /content/drive/My Drive/Summer_21/dataset/groove_midi_files/groove/drummer7/session2/46_rock_135_beat_4-4.mid.\n",
            "I0627 14:02:32.066637 140075429287808 convert_dir_to_note_sequences.py:153] Converted MIDI file /content/drive/My Drive/Summer_21/dataset/groove_midi_files/groove/drummer7/session2/46_rock_135_beat_4-4.mid.\n",
            "INFO:tensorflow:Converted MIDI file /content/drive/My Drive/Summer_21/dataset/groove_midi_files/groove/drummer7/session2/17_rock_118_fill_4-4.mid.\n",
            "I0627 14:02:32.270328 140075429287808 convert_dir_to_note_sequences.py:153] Converted MIDI file /content/drive/My Drive/Summer_21/dataset/groove_midi_files/groove/drummer7/session2/17_rock_118_fill_4-4.mid.\n",
            "INFO:tensorflow:Converted MIDI file /content/drive/My Drive/Summer_21/dataset/groove_midi_files/groove/drummer7/session2/48_rock_135_fill_4-4.mid.\n",
            "I0627 14:02:32.443929 140075429287808 convert_dir_to_note_sequences.py:153] Converted MIDI file /content/drive/My Drive/Summer_21/dataset/groove_midi_files/groove/drummer7/session2/48_rock_135_fill_4-4.mid.\n",
            "INFO:tensorflow:Converted MIDI file /content/drive/My Drive/Summer_21/dataset/groove_midi_files/groove/drummer7/session2/93_hiphop_75_beat_4-4.mid.\n",
            "I0627 14:02:32.624711 140075429287808 convert_dir_to_note_sequences.py:153] Converted MIDI file /content/drive/My Drive/Summer_21/dataset/groove_midi_files/groove/drummer7/session2/93_hiphop_75_beat_4-4.mid.\n",
            "INFO:tensorflow:Converted MIDI file /content/drive/My Drive/Summer_21/dataset/groove_midi_files/groove/drummer7/session2/76_funk_100_beat_4-4.mid.\n",
            "I0627 14:02:32.826653 140075429287808 convert_dir_to_note_sequences.py:153] Converted MIDI file /content/drive/My Drive/Summer_21/dataset/groove_midi_files/groove/drummer7/session2/76_funk_100_beat_4-4.mid.\n",
            "INFO:tensorflow:Converted MIDI file /content/drive/My Drive/Summer_21/dataset/groove_midi_files/groove/drummer7/session2/96_pop_142_beat_4-4.mid.\n",
            "I0627 14:02:33.029528 140075429287808 convert_dir_to_note_sequences.py:153] Converted MIDI file /content/drive/My Drive/Summer_21/dataset/groove_midi_files/groove/drummer7/session2/96_pop_142_beat_4-4.mid.\n",
            "INFO:tensorflow:Converted MIDI file /content/drive/My Drive/Summer_21/dataset/groove_midi_files/groove/drummer7/session2/120_jazz-fusion_96_fill_4-4.mid.\n",
            "I0627 14:02:33.200897 140075429287808 convert_dir_to_note_sequences.py:153] Converted MIDI file /content/drive/My Drive/Summer_21/dataset/groove_midi_files/groove/drummer7/session2/120_jazz-fusion_96_fill_4-4.mid.\n",
            "INFO:tensorflow:Converted MIDI file /content/drive/My Drive/Summer_21/dataset/groove_midi_files/groove/drummer7/session2/36_rock_75_fill_4-4.mid.\n",
            "I0627 14:02:33.372293 140075429287808 convert_dir_to_note_sequences.py:153] Converted MIDI file /content/drive/My Drive/Summer_21/dataset/groove_midi_files/groove/drummer7/session2/36_rock_75_fill_4-4.mid.\n",
            "INFO:tensorflow:Converted MIDI file /content/drive/My Drive/Summer_21/dataset/groove_midi_files/groove/drummer7/session2/95_hiphop_75_fill_4-4.mid.\n",
            "I0627 14:02:33.638940 140075429287808 convert_dir_to_note_sequences.py:153] Converted MIDI file /content/drive/My Drive/Summer_21/dataset/groove_midi_files/groove/drummer7/session2/95_hiphop_75_fill_4-4.mid.\n",
            "INFO:tensorflow:Converted MIDI file /content/drive/My Drive/Summer_21/dataset/groove_midi_files/groove/drummer7/session2/62_soul-motown_148_fill_4-4.mid.\n",
            "I0627 14:02:33.812332 140075429287808 convert_dir_to_note_sequences.py:153] Converted MIDI file /content/drive/My Drive/Summer_21/dataset/groove_midi_files/groove/drummer7/session2/62_soul-motown_148_fill_4-4.mid.\n",
            "WARNING:tensorflow:Unable to find a converter for file /content/drive/My Drive/Summer_21/dataset/groove_midi_files/groove/drummer7/session2/Icon\n",
            "W0627 14:02:33.813561 140075429287808 convert_dir_to_note_sequences.py:123] Unable to find a converter for file /content/drive/My Drive/Summer_21/dataset/groove_midi_files/groove/drummer7/session2/Icon\n",
            "INFO:tensorflow:Converting files in '/content/drive/My Drive/Summer_21/dataset/groove_midi_files/groove/drummer7/eval_session'.\n",
            "I0627 14:02:33.813782 140075429287808 convert_dir_to_note_sequences.py:83] Converting files in '/content/drive/My Drive/Summer_21/dataset/groove_midi_files/groove/drummer7/eval_session'.\n",
            "INFO:tensorflow:Converted MIDI file /content/drive/My Drive/Summer_21/dataset/groove_midi_files/groove/drummer7/eval_session/6_hiphop-groove6_87_beat_4-4.mid.\n",
            "I0627 14:02:33.997200 140075429287808 convert_dir_to_note_sequences.py:153] Converted MIDI file /content/drive/My Drive/Summer_21/dataset/groove_midi_files/groove/drummer7/eval_session/6_hiphop-groove6_87_beat_4-4.mid.\n",
            "INFO:tensorflow:Converted MIDI file /content/drive/My Drive/Summer_21/dataset/groove_midi_files/groove/drummer7/eval_session/3_soul-groove3_86_beat_4-4.mid.\n",
            "I0627 14:02:34.168321 140075429287808 convert_dir_to_note_sequences.py:153] Converted MIDI file /content/drive/My Drive/Summer_21/dataset/groove_midi_files/groove/drummer7/eval_session/3_soul-groove3_86_beat_4-4.mid.\n",
            "INFO:tensorflow:Converted MIDI file /content/drive/My Drive/Summer_21/dataset/groove_midi_files/groove/drummer7/eval_session/7_pop-groove7_138_beat_4-4.mid.\n",
            "I0627 14:02:34.357046 140075429287808 convert_dir_to_note_sequences.py:153] Converted MIDI file /content/drive/My Drive/Summer_21/dataset/groove_midi_files/groove/drummer7/eval_session/7_pop-groove7_138_beat_4-4.mid.\n",
            "INFO:tensorflow:Converted MIDI file /content/drive/My Drive/Summer_21/dataset/groove_midi_files/groove/drummer7/eval_session/5_funk-groove5_84_beat_4-4.mid.\n",
            "I0627 14:02:34.530546 140075429287808 convert_dir_to_note_sequences.py:153] Converted MIDI file /content/drive/My Drive/Summer_21/dataset/groove_midi_files/groove/drummer7/eval_session/5_funk-groove5_84_beat_4-4.mid.\n",
            "INFO:tensorflow:Converted MIDI file /content/drive/My Drive/Summer_21/dataset/groove_midi_files/groove/drummer7/eval_session/9_soul-groove9_105_beat_4-4.mid.\n",
            "I0627 14:02:34.699168 140075429287808 convert_dir_to_note_sequences.py:153] Converted MIDI file /content/drive/My Drive/Summer_21/dataset/groove_midi_files/groove/drummer7/eval_session/9_soul-groove9_105_beat_4-4.mid.\n",
            "INFO:tensorflow:Converted MIDI file /content/drive/My Drive/Summer_21/dataset/groove_midi_files/groove/drummer7/eval_session/1_funk-groove1_138_beat_4-4.mid.\n",
            "I0627 14:02:34.969471 140075429287808 convert_dir_to_note_sequences.py:153] Converted MIDI file /content/drive/My Drive/Summer_21/dataset/groove_midi_files/groove/drummer7/eval_session/1_funk-groove1_138_beat_4-4.mid.\n",
            "INFO:tensorflow:Converted MIDI file /content/drive/My Drive/Summer_21/dataset/groove_midi_files/groove/drummer7/eval_session/10_soul-groove10_102_beat_4-4.mid.\n",
            "I0627 14:02:35.165729 140075429287808 convert_dir_to_note_sequences.py:153] Converted MIDI file /content/drive/My Drive/Summer_21/dataset/groove_midi_files/groove/drummer7/eval_session/10_soul-groove10_102_beat_4-4.mid.\n",
            "INFO:tensorflow:Converted MIDI file /content/drive/My Drive/Summer_21/dataset/groove_midi_files/groove/drummer7/eval_session/4_soul-groove4_80_beat_4-4.mid.\n",
            "I0627 14:02:35.351212 140075429287808 convert_dir_to_note_sequences.py:153] Converted MIDI file /content/drive/My Drive/Summer_21/dataset/groove_midi_files/groove/drummer7/eval_session/4_soul-groove4_80_beat_4-4.mid.\n",
            "INFO:tensorflow:Converted MIDI file /content/drive/My Drive/Summer_21/dataset/groove_midi_files/groove/drummer7/eval_session/2_funk-groove2_105_beat_4-4.mid.\n",
            "I0627 14:02:35.537240 140075429287808 convert_dir_to_note_sequences.py:153] Converted MIDI file /content/drive/My Drive/Summer_21/dataset/groove_midi_files/groove/drummer7/eval_session/2_funk-groove2_105_beat_4-4.mid.\n",
            "INFO:tensorflow:Converted MIDI file /content/drive/My Drive/Summer_21/dataset/groove_midi_files/groove/drummer7/eval_session/8_rock-groove8_65_beat_4-4.mid.\n",
            "I0627 14:02:35.712278 140075429287808 convert_dir_to_note_sequences.py:153] Converted MIDI file /content/drive/My Drive/Summer_21/dataset/groove_midi_files/groove/drummer7/eval_session/8_rock-groove8_65_beat_4-4.mid.\n",
            "WARNING:tensorflow:Unable to find a converter for file /content/drive/My Drive/Summer_21/dataset/groove_midi_files/groove/drummer7/eval_session/Icon\n",
            "W0627 14:02:35.714172 140075429287808 convert_dir_to_note_sequences.py:123] Unable to find a converter for file /content/drive/My Drive/Summer_21/dataset/groove_midi_files/groove/drummer7/eval_session/Icon\n",
            "INFO:tensorflow:Converting files in '/content/drive/My Drive/Summer_21/dataset/groove_midi_files/groove/drummer7/session1'.\n",
            "I0627 14:02:35.714400 140075429287808 convert_dir_to_note_sequences.py:83] Converting files in '/content/drive/My Drive/Summer_21/dataset/groove_midi_files/groove/drummer7/session1'.\n",
            "INFO:tensorflow:Converted MIDI file /content/drive/My Drive/Summer_21/dataset/groove_midi_files/groove/drummer7/session1/35_hiphop_100_fill_4-4.mid.\n",
            "I0627 14:02:35.868501 140075429287808 convert_dir_to_note_sequences.py:153] Converted MIDI file /content/drive/My Drive/Summer_21/dataset/groove_midi_files/groove/drummer7/session1/35_hiphop_100_fill_4-4.mid.\n",
            "INFO:tensorflow:Converted MIDI file /content/drive/My Drive/Summer_21/dataset/groove_midi_files/groove/drummer7/session1/4_rock_86_fill_4-4.mid.\n",
            "I0627 14:02:36.078588 140075429287808 convert_dir_to_note_sequences.py:153] Converted MIDI file /content/drive/My Drive/Summer_21/dataset/groove_midi_files/groove/drummer7/session1/4_rock_86_fill_4-4.mid.\n",
            "INFO:tensorflow:Converted MIDI file /content/drive/My Drive/Summer_21/dataset/groove_midi_files/groove/drummer7/session1/29_hiphop_100_fill_4-4.mid.\n",
            "I0627 14:02:36.257180 140075429287808 convert_dir_to_note_sequences.py:153] Converted MIDI file /content/drive/My Drive/Summer_21/dataset/groove_midi_files/groove/drummer7/session1/29_hiphop_100_fill_4-4.mid.\n",
            "INFO:tensorflow:Converted MIDI file /content/drive/My Drive/Summer_21/dataset/groove_midi_files/groove/drummer7/session1/10_rock_93_beat_4-4.mid.\n",
            "I0627 14:02:36.455482 140075429287808 convert_dir_to_note_sequences.py:153] Converted MIDI file /content/drive/My Drive/Summer_21/dataset/groove_midi_files/groove/drummer7/session1/10_rock_93_beat_4-4.mid.\n",
            "INFO:tensorflow:Converted MIDI file /content/drive/My Drive/Summer_21/dataset/groove_midi_files/groove/drummer7/session1/39_hiphop_100_beat_4-4.mid.\n",
            "I0627 14:02:36.633170 140075429287808 convert_dir_to_note_sequences.py:153] Converted MIDI file /content/drive/My Drive/Summer_21/dataset/groove_midi_files/groove/drummer7/session1/39_hiphop_100_beat_4-4.mid.\n",
            "INFO:tensorflow:Converted MIDI file /content/drive/My Drive/Summer_21/dataset/groove_midi_files/groove/drummer7/session1/26_hiphop_100_fill_4-4.mid.\n",
            "I0627 14:02:36.811174 140075429287808 convert_dir_to_note_sequences.py:153] Converted MIDI file /content/drive/My Drive/Summer_21/dataset/groove_midi_files/groove/drummer7/session1/26_hiphop_100_fill_4-4.mid.\n",
            "INFO:tensorflow:Converted MIDI file /content/drive/My Drive/Summer_21/dataset/groove_midi_files/groove/drummer7/session1/14_jazz_100_beat_4-4.mid.\n",
            "I0627 14:02:36.974703 140075429287808 convert_dir_to_note_sequences.py:153] Converted MIDI file /content/drive/My Drive/Summer_21/dataset/groove_midi_files/groove/drummer7/session1/14_jazz_100_beat_4-4.mid.\n",
            "INFO:tensorflow:Converted MIDI file /content/drive/My Drive/Summer_21/dataset/groove_midi_files/groove/drummer7/session1/12_funk_102_beat_4-4.mid.\n",
            "I0627 14:02:37.148964 140075429287808 convert_dir_to_note_sequences.py:153] Converted MIDI file /content/drive/My Drive/Summer_21/dataset/groove_midi_files/groove/drummer7/session1/12_funk_102_beat_4-4.mid.\n",
            "INFO:tensorflow:Converted MIDI file /content/drive/My Drive/Summer_21/dataset/groove_midi_files/groove/drummer7/session1/31_hiphop_100_fill_4-4.mid.\n",
            "I0627 14:02:37.308754 140075429287808 convert_dir_to_note_sequences.py:153] Converted MIDI file /content/drive/My Drive/Summer_21/dataset/groove_midi_files/groove/drummer7/session1/31_hiphop_100_fill_4-4.mid.\n",
            "INFO:tensorflow:Converted MIDI file /content/drive/My Drive/Summer_21/dataset/groove_midi_files/groove/drummer7/session1/11_rock_93_beat_4-4.mid.\n",
            "I0627 14:02:37.492140 140075429287808 convert_dir_to_note_sequences.py:153] Converted MIDI file /content/drive/My Drive/Summer_21/dataset/groove_midi_files/groove/drummer7/session1/11_rock_93_beat_4-4.mid.\n",
            "INFO:tensorflow:Converted MIDI file /content/drive/My Drive/Summer_21/dataset/groove_midi_files/groove/drummer7/session1/21_hiphop_100_fill_4-4.mid.\n",
            "I0627 14:02:37.639851 140075429287808 convert_dir_to_note_sequences.py:153] Converted MIDI file /content/drive/My Drive/Summer_21/dataset/groove_midi_files/groove/drummer7/session1/21_hiphop_100_fill_4-4.mid.\n",
            "INFO:tensorflow:Converted MIDI file /content/drive/My Drive/Summer_21/dataset/groove_midi_files/groove/drummer7/session1/40_hiphop_100_beat_4-4.mid.\n",
            "I0627 14:02:37.822690 140075429287808 convert_dir_to_note_sequences.py:153] Converted MIDI file /content/drive/My Drive/Summer_21/dataset/groove_midi_files/groove/drummer7/session1/40_hiphop_100_beat_4-4.mid.\n",
            "INFO:tensorflow:Converted MIDI file /content/drive/My Drive/Summer_21/dataset/groove_midi_files/groove/drummer7/session1/5_rock_86_fill_4-4.mid.\n",
            "I0627 14:02:37.986679 140075429287808 convert_dir_to_note_sequences.py:153] Converted MIDI file /content/drive/My Drive/Summer_21/dataset/groove_midi_files/groove/drummer7/session1/5_rock_86_fill_4-4.mid.\n",
            "INFO:tensorflow:Converted MIDI file /content/drive/My Drive/Summer_21/dataset/groove_midi_files/groove/drummer7/session1/32_hiphop_100_fill_4-4.mid.\n",
            "I0627 14:02:38.171703 140075429287808 convert_dir_to_note_sequences.py:153] Converted MIDI file /content/drive/My Drive/Summer_21/dataset/groove_midi_files/groove/drummer7/session1/32_hiphop_100_fill_4-4.mid.\n",
            "INFO:tensorflow:Converted MIDI file /content/drive/My Drive/Summer_21/dataset/groove_midi_files/groove/drummer7/session1/22_hiphop_100_beat_4-4.mid.\n",
            "I0627 14:02:38.439299 140075429287808 convert_dir_to_note_sequences.py:153] Converted MIDI file /content/drive/My Drive/Summer_21/dataset/groove_midi_files/groove/drummer7/session1/22_hiphop_100_beat_4-4.mid.\n",
            "INFO:tensorflow:Converted MIDI file /content/drive/My Drive/Summer_21/dataset/groove_midi_files/groove/drummer7/session1/1_rock_86_beat_4-4.mid.\n",
            "I0627 14:02:38.695556 140075429287808 convert_dir_to_note_sequences.py:153] Converted MIDI file /content/drive/My Drive/Summer_21/dataset/groove_midi_files/groove/drummer7/session1/1_rock_86_beat_4-4.mid.\n",
            "INFO:tensorflow:Converted MIDI file /content/drive/My Drive/Summer_21/dataset/groove_midi_files/groove/drummer7/session1/25_hiphop_100_fill_4-4.mid.\n",
            "I0627 14:02:38.951321 140075429287808 convert_dir_to_note_sequences.py:153] Converted MIDI file /content/drive/My Drive/Summer_21/dataset/groove_midi_files/groove/drummer7/session1/25_hiphop_100_fill_4-4.mid.\n",
            "INFO:tensorflow:Converted MIDI file /content/drive/My Drive/Summer_21/dataset/groove_midi_files/groove/drummer7/session1/36_hiphop_100_fill_4-4.mid.\n",
            "I0627 14:02:39.122056 140075429287808 convert_dir_to_note_sequences.py:153] Converted MIDI file /content/drive/My Drive/Summer_21/dataset/groove_midi_files/groove/drummer7/session1/36_hiphop_100_fill_4-4.mid.\n",
            "INFO:tensorflow:Converted MIDI file /content/drive/My Drive/Summer_21/dataset/groove_midi_files/groove/drummer7/session1/18_hiphop_100_beat_4-4.mid.\n",
            "I0627 14:02:39.298563 140075429287808 convert_dir_to_note_sequences.py:153] Converted MIDI file /content/drive/My Drive/Summer_21/dataset/groove_midi_files/groove/drummer7/session1/18_hiphop_100_beat_4-4.mid.\n",
            "INFO:tensorflow:Converted MIDI file /content/drive/My Drive/Summer_21/dataset/groove_midi_files/groove/drummer7/session1/17_hiphop_100_beat_4-4.mid.\n",
            "I0627 14:02:39.590041 140075429287808 convert_dir_to_note_sequences.py:153] Converted MIDI file /content/drive/My Drive/Summer_21/dataset/groove_midi_files/groove/drummer7/session1/17_hiphop_100_beat_4-4.mid.\n",
            "INFO:tensorflow:Converted MIDI file /content/drive/My Drive/Summer_21/dataset/groove_midi_files/groove/drummer7/session1/15_jazz_112_beat_4-4.mid.\n",
            "I0627 14:02:39.774907 140075429287808 convert_dir_to_note_sequences.py:153] Converted MIDI file /content/drive/My Drive/Summer_21/dataset/groove_midi_files/groove/drummer7/session1/15_jazz_112_beat_4-4.mid.\n",
            "INFO:tensorflow:Converted MIDI file /content/drive/My Drive/Summer_21/dataset/groove_midi_files/groove/drummer7/session1/8_rock_93_beat_4-4.mid.\n",
            "I0627 14:02:40.024606 140075429287808 convert_dir_to_note_sequences.py:153] Converted MIDI file /content/drive/My Drive/Summer_21/dataset/groove_midi_files/groove/drummer7/session1/8_rock_93_beat_4-4.mid.\n",
            "INFO:tensorflow:Converted MIDI file /content/drive/My Drive/Summer_21/dataset/groove_midi_files/groove/drummer7/session1/23_hiphop_100_fill_4-4.mid.\n",
            "I0627 14:02:40.340729 140075429287808 convert_dir_to_note_sequences.py:153] Converted MIDI file /content/drive/My Drive/Summer_21/dataset/groove_midi_files/groove/drummer7/session1/23_hiphop_100_fill_4-4.mid.\n",
            "INFO:tensorflow:Converted MIDI file /content/drive/My Drive/Summer_21/dataset/groove_midi_files/groove/drummer7/session1/30_hiphop_100_fill_4-4.mid.\n",
            "I0627 14:02:40.500568 140075429287808 convert_dir_to_note_sequences.py:153] Converted MIDI file /content/drive/My Drive/Summer_21/dataset/groove_midi_files/groove/drummer7/session1/30_hiphop_100_fill_4-4.mid.\n",
            "INFO:tensorflow:Converted MIDI file /content/drive/My Drive/Summer_21/dataset/groove_midi_files/groove/drummer7/session1/7_rock_93_beat_4-4.mid.\n",
            "I0627 14:02:40.672563 140075429287808 convert_dir_to_note_sequences.py:153] Converted MIDI file /content/drive/My Drive/Summer_21/dataset/groove_midi_files/groove/drummer7/session1/7_rock_93_beat_4-4.mid.\n",
            "INFO:tensorflow:Converted MIDI file /content/drive/My Drive/Summer_21/dataset/groove_midi_files/groove/drummer7/session1/19_hiphop_100_fill_4-4.mid.\n",
            "I0627 14:02:40.837599 140075429287808 convert_dir_to_note_sequences.py:153] Converted MIDI file /content/drive/My Drive/Summer_21/dataset/groove_midi_files/groove/drummer7/session1/19_hiphop_100_fill_4-4.mid.\n",
            "INFO:tensorflow:Converted MIDI file /content/drive/My Drive/Summer_21/dataset/groove_midi_files/groove/drummer7/session1/3_rock_86_fill_4-4.mid.\n",
            "I0627 14:02:41.000214 140075429287808 convert_dir_to_note_sequences.py:153] Converted MIDI file /content/drive/My Drive/Summer_21/dataset/groove_midi_files/groove/drummer7/session1/3_rock_86_fill_4-4.mid.\n",
            "INFO:tensorflow:Converted MIDI file /content/drive/My Drive/Summer_21/dataset/groove_midi_files/groove/drummer7/session1/27_hiphop_100_fill_4-4.mid.\n",
            "I0627 14:02:41.135887 140075429287808 convert_dir_to_note_sequences.py:153] Converted MIDI file /content/drive/My Drive/Summer_21/dataset/groove_midi_files/groove/drummer7/session1/27_hiphop_100_fill_4-4.mid.\n",
            "INFO:tensorflow:Converted MIDI file /content/drive/My Drive/Summer_21/dataset/groove_midi_files/groove/drummer7/session1/38_hiphop_100_beat_4-4.mid.\n",
            "I0627 14:02:41.305917 140075429287808 convert_dir_to_note_sequences.py:153] Converted MIDI file /content/drive/My Drive/Summer_21/dataset/groove_midi_files/groove/drummer7/session1/38_hiphop_100_beat_4-4.mid.\n",
            "INFO:tensorflow:Converted MIDI file /content/drive/My Drive/Summer_21/dataset/groove_midi_files/groove/drummer7/session1/6_rock_86_fill_4-4.mid.\n",
            "I0627 14:02:41.492210 140075429287808 convert_dir_to_note_sequences.py:153] Converted MIDI file /content/drive/My Drive/Summer_21/dataset/groove_midi_files/groove/drummer7/session1/6_rock_86_fill_4-4.mid.\n",
            "INFO:tensorflow:Converted MIDI file /content/drive/My Drive/Summer_21/dataset/groove_midi_files/groove/drummer7/session1/28_hiphop_100_fill_4-4.mid.\n",
            "I0627 14:02:41.658644 140075429287808 convert_dir_to_note_sequences.py:153] Converted MIDI file /content/drive/My Drive/Summer_21/dataset/groove_midi_files/groove/drummer7/session1/28_hiphop_100_fill_4-4.mid.\n",
            "INFO:tensorflow:Converted MIDI file /content/drive/My Drive/Summer_21/dataset/groove_midi_files/groove/drummer7/session1/13_funk_102_beat_4-4.mid.\n",
            "I0627 14:02:41.863483 140075429287808 convert_dir_to_note_sequences.py:153] Converted MIDI file /content/drive/My Drive/Summer_21/dataset/groove_midi_files/groove/drummer7/session1/13_funk_102_beat_4-4.mid.\n",
            "INFO:tensorflow:Converted MIDI file /content/drive/My Drive/Summer_21/dataset/groove_midi_files/groove/drummer7/session1/34_hiphop_100_fill_4-4.mid.\n",
            "I0627 14:02:42.015101 140075429287808 convert_dir_to_note_sequences.py:153] Converted MIDI file /content/drive/My Drive/Summer_21/dataset/groove_midi_files/groove/drummer7/session1/34_hiphop_100_fill_4-4.mid.\n",
            "INFO:tensorflow:Converted MIDI file /content/drive/My Drive/Summer_21/dataset/groove_midi_files/groove/drummer7/session1/16_hiphop_100_beat_4-4.mid.\n",
            "I0627 14:02:42.261022 140075429287808 convert_dir_to_note_sequences.py:153] Converted MIDI file /content/drive/My Drive/Summer_21/dataset/groove_midi_files/groove/drummer7/session1/16_hiphop_100_beat_4-4.mid.\n",
            "INFO:tensorflow:Converted MIDI file /content/drive/My Drive/Summer_21/dataset/groove_midi_files/groove/drummer7/session1/37_hiphop_100_fill_4-4.mid.\n",
            "I0627 14:02:42.515421 140075429287808 convert_dir_to_note_sequences.py:153] Converted MIDI file /content/drive/My Drive/Summer_21/dataset/groove_midi_files/groove/drummer7/session1/37_hiphop_100_fill_4-4.mid.\n",
            "INFO:tensorflow:Converted MIDI file /content/drive/My Drive/Summer_21/dataset/groove_midi_files/groove/drummer7/session1/24_hiphop_100_fill_4-4.mid.\n",
            "I0627 14:02:42.671932 140075429287808 convert_dir_to_note_sequences.py:153] Converted MIDI file /content/drive/My Drive/Summer_21/dataset/groove_midi_files/groove/drummer7/session1/24_hiphop_100_fill_4-4.mid.\n",
            "INFO:tensorflow:Converted MIDI file /content/drive/My Drive/Summer_21/dataset/groove_midi_files/groove/drummer7/session1/9_rock_93_beat_4-4.mid.\n",
            "I0627 14:02:42.859100 140075429287808 convert_dir_to_note_sequences.py:153] Converted MIDI file /content/drive/My Drive/Summer_21/dataset/groove_midi_files/groove/drummer7/session1/9_rock_93_beat_4-4.mid.\n",
            "INFO:tensorflow:Converted MIDI file /content/drive/My Drive/Summer_21/dataset/groove_midi_files/groove/drummer7/session1/33_hiphop_100_fill_4-4.mid.\n",
            "I0627 14:02:43.116902 140075429287808 convert_dir_to_note_sequences.py:153] Converted MIDI file /content/drive/My Drive/Summer_21/dataset/groove_midi_files/groove/drummer7/session1/33_hiphop_100_fill_4-4.mid.\n",
            "INFO:tensorflow:Converted MIDI file /content/drive/My Drive/Summer_21/dataset/groove_midi_files/groove/drummer7/session1/2_rock_86_fill_4-4.mid.\n",
            "I0627 14:02:43.293520 140075429287808 convert_dir_to_note_sequences.py:153] Converted MIDI file /content/drive/My Drive/Summer_21/dataset/groove_midi_files/groove/drummer7/session1/2_rock_86_fill_4-4.mid.\n",
            "INFO:tensorflow:Converted MIDI file /content/drive/My Drive/Summer_21/dataset/groove_midi_files/groove/drummer7/session1/20_hiphop_100_fill_4-4.mid.\n",
            "I0627 14:02:43.441036 140075429287808 convert_dir_to_note_sequences.py:153] Converted MIDI file /content/drive/My Drive/Summer_21/dataset/groove_midi_files/groove/drummer7/session1/20_hiphop_100_fill_4-4.mid.\n",
            "WARNING:tensorflow:Unable to find a converter for file /content/drive/My Drive/Summer_21/dataset/groove_midi_files/groove/drummer7/session1/Icon\n",
            "W0627 14:02:43.441934 140075429287808 convert_dir_to_note_sequences.py:123] Unable to find a converter for file /content/drive/My Drive/Summer_21/dataset/groove_midi_files/groove/drummer7/session1/Icon\n",
            "INFO:tensorflow:Converting files in '/content/drive/My Drive/Summer_21/dataset/groove_midi_files/groove/drummer10'.\n",
            "I0627 14:02:43.442146 140075429287808 convert_dir_to_note_sequences.py:83] Converting files in '/content/drive/My Drive/Summer_21/dataset/groove_midi_files/groove/drummer10'.\n",
            "WARNING:tensorflow:Unable to find a converter for file /content/drive/My Drive/Summer_21/dataset/groove_midi_files/groove/drummer10/Icon\n",
            "W0627 14:02:43.443628 140075429287808 convert_dir_to_note_sequences.py:123] Unable to find a converter for file /content/drive/My Drive/Summer_21/dataset/groove_midi_files/groove/drummer10/Icon\n",
            "INFO:tensorflow:Converting files in '/content/drive/My Drive/Summer_21/dataset/groove_midi_files/groove/drummer10/session1'.\n",
            "I0627 14:02:43.443765 140075429287808 convert_dir_to_note_sequences.py:83] Converting files in '/content/drive/My Drive/Summer_21/dataset/groove_midi_files/groove/drummer10/session1'.\n",
            "INFO:tensorflow:Converted MIDI file /content/drive/My Drive/Summer_21/dataset/groove_midi_files/groove/drummer10/session1/7_jazz-swing_215_beat_4-4.mid.\n",
            "I0627 14:02:43.627863 140075429287808 convert_dir_to_note_sequences.py:153] Converted MIDI file /content/drive/My Drive/Summer_21/dataset/groove_midi_files/groove/drummer10/session1/7_jazz-swing_215_beat_4-4.mid.\n",
            "INFO:tensorflow:Converted MIDI file /content/drive/My Drive/Summer_21/dataset/groove_midi_files/groove/drummer10/session1/2_jazz-swing_215_beat_4-4.mid.\n",
            "I0627 14:02:43.837877 140075429287808 convert_dir_to_note_sequences.py:153] Converted MIDI file /content/drive/My Drive/Summer_21/dataset/groove_midi_files/groove/drummer10/session1/2_jazz-swing_215_beat_4-4.mid.\n",
            "INFO:tensorflow:Converted MIDI file /content/drive/My Drive/Summer_21/dataset/groove_midi_files/groove/drummer10/session1/8_jazz-swing_215_beat_4-4.mid.\n",
            "I0627 14:02:44.029670 140075429287808 convert_dir_to_note_sequences.py:153] Converted MIDI file /content/drive/My Drive/Summer_21/dataset/groove_midi_files/groove/drummer10/session1/8_jazz-swing_215_beat_4-4.mid.\n",
            "INFO:tensorflow:Converted MIDI file /content/drive/My Drive/Summer_21/dataset/groove_midi_files/groove/drummer10/session1/3_jazz-swing_215_beat_4-4.mid.\n",
            "I0627 14:02:44.262808 140075429287808 convert_dir_to_note_sequences.py:153] Converted MIDI file /content/drive/My Drive/Summer_21/dataset/groove_midi_files/groove/drummer10/session1/3_jazz-swing_215_beat_4-4.mid.\n",
            "INFO:tensorflow:Converted MIDI file /content/drive/My Drive/Summer_21/dataset/groove_midi_files/groove/drummer10/session1/10_jazz-swing_110_beat_4-4.mid.\n",
            "I0627 14:02:44.476365 140075429287808 convert_dir_to_note_sequences.py:153] Converted MIDI file /content/drive/My Drive/Summer_21/dataset/groove_midi_files/groove/drummer10/session1/10_jazz-swing_110_beat_4-4.mid.\n",
            "INFO:tensorflow:Converted MIDI file /content/drive/My Drive/Summer_21/dataset/groove_midi_files/groove/drummer10/session1/6_jazz-swing_215_beat_4-4.mid.\n",
            "I0627 14:02:44.659265 140075429287808 convert_dir_to_note_sequences.py:153] Converted MIDI file /content/drive/My Drive/Summer_21/dataset/groove_midi_files/groove/drummer10/session1/6_jazz-swing_215_beat_4-4.mid.\n",
            "INFO:tensorflow:Converted MIDI file /content/drive/My Drive/Summer_21/dataset/groove_midi_files/groove/drummer10/session1/5_jazz-swing_215_beat_4-4.mid.\n",
            "I0627 14:02:44.843944 140075429287808 convert_dir_to_note_sequences.py:153] Converted MIDI file /content/drive/My Drive/Summer_21/dataset/groove_midi_files/groove/drummer10/session1/5_jazz-swing_215_beat_4-4.mid.\n",
            "INFO:tensorflow:Converted MIDI file /content/drive/My Drive/Summer_21/dataset/groove_midi_files/groove/drummer10/session1/1_jazz-swing_124_beat_4-4.mid.\n",
            "I0627 14:02:45.050358 140075429287808 convert_dir_to_note_sequences.py:153] Converted MIDI file /content/drive/My Drive/Summer_21/dataset/groove_midi_files/groove/drummer10/session1/1_jazz-swing_124_beat_4-4.mid.\n",
            "INFO:tensorflow:Converted MIDI file /content/drive/My Drive/Summer_21/dataset/groove_midi_files/groove/drummer10/session1/9_jazz-swing_110_beat_4-4.mid.\n",
            "I0627 14:02:45.253136 140075429287808 convert_dir_to_note_sequences.py:153] Converted MIDI file /content/drive/My Drive/Summer_21/dataset/groove_midi_files/groove/drummer10/session1/9_jazz-swing_110_beat_4-4.mid.\n",
            "INFO:tensorflow:Converted MIDI file /content/drive/My Drive/Summer_21/dataset/groove_midi_files/groove/drummer10/session1/4_jazz-swing_215_beat_4-4.mid.\n",
            "I0627 14:02:45.448566 140075429287808 convert_dir_to_note_sequences.py:153] Converted MIDI file /content/drive/My Drive/Summer_21/dataset/groove_midi_files/groove/drummer10/session1/4_jazz-swing_215_beat_4-4.mid.\n",
            "WARNING:tensorflow:Unable to find a converter for file /content/drive/My Drive/Summer_21/dataset/groove_midi_files/groove/drummer10/session1/Icon\n",
            "W0627 14:02:45.451631 140075429287808 convert_dir_to_note_sequences.py:123] Unable to find a converter for file /content/drive/My Drive/Summer_21/dataset/groove_midi_files/groove/drummer10/session1/Icon\n",
            "INFO:tensorflow:Converting files in '/content/drive/My Drive/Summer_21/dataset/groove_midi_files/groove/drummer9'.\n",
            "I0627 14:02:45.451883 140075429287808 convert_dir_to_note_sequences.py:83] Converting files in '/content/drive/My Drive/Summer_21/dataset/groove_midi_files/groove/drummer9'.\n",
            "WARNING:tensorflow:Unable to find a converter for file /content/drive/My Drive/Summer_21/dataset/groove_midi_files/groove/drummer9/Icon\n",
            "W0627 14:02:45.453741 140075429287808 convert_dir_to_note_sequences.py:123] Unable to find a converter for file /content/drive/My Drive/Summer_21/dataset/groove_midi_files/groove/drummer9/Icon\n",
            "INFO:tensorflow:Converting files in '/content/drive/My Drive/Summer_21/dataset/groove_midi_files/groove/drummer9/session1'.\n",
            "I0627 14:02:45.453876 140075429287808 convert_dir_to_note_sequences.py:83] Converting files in '/content/drive/My Drive/Summer_21/dataset/groove_midi_files/groove/drummer9/session1'.\n",
            "INFO:tensorflow:Converted MIDI file /content/drive/My Drive/Summer_21/dataset/groove_midi_files/groove/drummer9/session1/10_rock_100_beat_4-4.mid.\n",
            "I0627 14:02:45.633357 140075429287808 convert_dir_to_note_sequences.py:153] Converted MIDI file /content/drive/My Drive/Summer_21/dataset/groove_midi_files/groove/drummer9/session1/10_rock_100_beat_4-4.mid.\n",
            "INFO:tensorflow:Converted MIDI file /content/drive/My Drive/Summer_21/dataset/groove_midi_files/groove/drummer9/session1/3_rock_100_beat_4-4.mid.\n",
            "I0627 14:02:45.804795 140075429287808 convert_dir_to_note_sequences.py:153] Converted MIDI file /content/drive/My Drive/Summer_21/dataset/groove_midi_files/groove/drummer9/session1/3_rock_100_beat_4-4.mid.\n",
            "INFO:tensorflow:Converted MIDI file /content/drive/My Drive/Summer_21/dataset/groove_midi_files/groove/drummer9/session1/15_rock_120_beat_4-4.mid.\n",
            "I0627 14:02:45.970145 140075429287808 convert_dir_to_note_sequences.py:153] Converted MIDI file /content/drive/My Drive/Summer_21/dataset/groove_midi_files/groove/drummer9/session1/15_rock_120_beat_4-4.mid.\n",
            "INFO:tensorflow:Converted MIDI file /content/drive/My Drive/Summer_21/dataset/groove_midi_files/groove/drummer9/session1/9_rock_100_beat_4-4.mid.\n",
            "I0627 14:02:46.137933 140075429287808 convert_dir_to_note_sequences.py:153] Converted MIDI file /content/drive/My Drive/Summer_21/dataset/groove_midi_files/groove/drummer9/session1/9_rock_100_beat_4-4.mid.\n",
            "INFO:tensorflow:Converted MIDI file /content/drive/My Drive/Summer_21/dataset/groove_midi_files/groove/drummer9/session1/12_rock_100_beat_4-4.mid.\n",
            "I0627 14:02:46.294618 140075429287808 convert_dir_to_note_sequences.py:153] Converted MIDI file /content/drive/My Drive/Summer_21/dataset/groove_midi_files/groove/drummer9/session1/12_rock_100_beat_4-4.mid.\n",
            "INFO:tensorflow:Converted MIDI file /content/drive/My Drive/Summer_21/dataset/groove_midi_files/groove/drummer9/session1/1_rock_100_beat_4-4.mid.\n",
            "I0627 14:02:46.473395 140075429287808 convert_dir_to_note_sequences.py:153] Converted MIDI file /content/drive/My Drive/Summer_21/dataset/groove_midi_files/groove/drummer9/session1/1_rock_100_beat_4-4.mid.\n",
            "INFO:tensorflow:Converted MIDI file /content/drive/My Drive/Summer_21/dataset/groove_midi_files/groove/drummer9/session1/17_rock_120_beat_4-4.mid.\n",
            "I0627 14:02:46.674922 140075429287808 convert_dir_to_note_sequences.py:153] Converted MIDI file /content/drive/My Drive/Summer_21/dataset/groove_midi_files/groove/drummer9/session1/17_rock_120_beat_4-4.mid.\n",
            "INFO:tensorflow:0 files converted.\n",
            "I0627 14:02:46.675368 140075429287808 convert_dir_to_note_sequences.py:89] 0 files converted.\n",
            "INFO:tensorflow:Converted MIDI file /content/drive/My Drive/Summer_21/dataset/groove_midi_files/groove/drummer9/session1/24_rock_90_beat_4-4.mid.\n",
            "I0627 14:02:46.849404 140075429287808 convert_dir_to_note_sequences.py:153] Converted MIDI file /content/drive/My Drive/Summer_21/dataset/groove_midi_files/groove/drummer9/session1/24_rock_90_beat_4-4.mid.\n",
            "INFO:tensorflow:Converted MIDI file /content/drive/My Drive/Summer_21/dataset/groove_midi_files/groove/drummer9/session1/7_rock_100_beat_4-4.mid.\n",
            "I0627 14:02:47.013627 140075429287808 convert_dir_to_note_sequences.py:153] Converted MIDI file /content/drive/My Drive/Summer_21/dataset/groove_midi_files/groove/drummer9/session1/7_rock_100_beat_4-4.mid.\n",
            "INFO:tensorflow:Converted MIDI file /content/drive/My Drive/Summer_21/dataset/groove_midi_files/groove/drummer9/session1/23_rock_120_beat_4-4.mid.\n",
            "I0627 14:02:47.195015 140075429287808 convert_dir_to_note_sequences.py:153] Converted MIDI file /content/drive/My Drive/Summer_21/dataset/groove_midi_files/groove/drummer9/session1/23_rock_120_beat_4-4.mid.\n",
            "INFO:tensorflow:Converted MIDI file /content/drive/My Drive/Summer_21/dataset/groove_midi_files/groove/drummer9/session1/19_rock_120_beat_4-4.mid.\n",
            "I0627 14:02:47.392437 140075429287808 convert_dir_to_note_sequences.py:153] Converted MIDI file /content/drive/My Drive/Summer_21/dataset/groove_midi_files/groove/drummer9/session1/19_rock_120_beat_4-4.mid.\n",
            "INFO:tensorflow:Converted MIDI file /content/drive/My Drive/Summer_21/dataset/groove_midi_files/groove/drummer9/session1/13_rock_120_beat_4-4.mid.\n",
            "I0627 14:02:47.566292 140075429287808 convert_dir_to_note_sequences.py:153] Converted MIDI file /content/drive/My Drive/Summer_21/dataset/groove_midi_files/groove/drummer9/session1/13_rock_120_beat_4-4.mid.\n",
            "INFO:tensorflow:Converted MIDI file /content/drive/My Drive/Summer_21/dataset/groove_midi_files/groove/drummer9/session1/5_rock_100_beat_4-4.mid.\n",
            "I0627 14:02:47.775084 140075429287808 convert_dir_to_note_sequences.py:153] Converted MIDI file /content/drive/My Drive/Summer_21/dataset/groove_midi_files/groove/drummer9/session1/5_rock_100_beat_4-4.mid.\n",
            "INFO:tensorflow:Converted MIDI file /content/drive/My Drive/Summer_21/dataset/groove_midi_files/groove/drummer9/session1/25_rock_90_beat_4-4.mid.\n",
            "I0627 14:02:47.964780 140075429287808 convert_dir_to_note_sequences.py:153] Converted MIDI file /content/drive/My Drive/Summer_21/dataset/groove_midi_files/groove/drummer9/session1/25_rock_90_beat_4-4.mid.\n",
            "INFO:tensorflow:Converted MIDI file /content/drive/My Drive/Summer_21/dataset/groove_midi_files/groove/drummer9/session1/21_rock_120_beat_4-4.mid.\n",
            "I0627 14:02:48.148188 140075429287808 convert_dir_to_note_sequences.py:153] Converted MIDI file /content/drive/My Drive/Summer_21/dataset/groove_midi_files/groove/drummer9/session1/21_rock_120_beat_4-4.mid.\n",
            "INFO:tensorflow:Converted MIDI file /content/drive/My Drive/Summer_21/dataset/groove_midi_files/groove/drummer9/session1/2_rock_100_beat_4-4.mid.\n",
            "I0627 14:02:48.397300 140075429287808 convert_dir_to_note_sequences.py:153] Converted MIDI file /content/drive/My Drive/Summer_21/dataset/groove_midi_files/groove/drummer9/session1/2_rock_100_beat_4-4.mid.\n",
            "INFO:tensorflow:Converted MIDI file /content/drive/My Drive/Summer_21/dataset/groove_midi_files/groove/drummer9/session1/14_rock_120_beat_4-4.mid.\n",
            "I0627 14:02:48.642526 140075429287808 convert_dir_to_note_sequences.py:153] Converted MIDI file /content/drive/My Drive/Summer_21/dataset/groove_midi_files/groove/drummer9/session1/14_rock_120_beat_4-4.mid.\n",
            "INFO:tensorflow:Converted MIDI file /content/drive/My Drive/Summer_21/dataset/groove_midi_files/groove/drummer9/session1/29_rock_90_beat_4-4.mid.\n",
            "I0627 14:02:48.827670 140075429287808 convert_dir_to_note_sequences.py:153] Converted MIDI file /content/drive/My Drive/Summer_21/dataset/groove_midi_files/groove/drummer9/session1/29_rock_90_beat_4-4.mid.\n",
            "INFO:tensorflow:Converted MIDI file /content/drive/My Drive/Summer_21/dataset/groove_midi_files/groove/drummer9/session1/11_rock_100_beat_4-4.mid.\n",
            "I0627 14:02:48.995907 140075429287808 convert_dir_to_note_sequences.py:153] Converted MIDI file /content/drive/My Drive/Summer_21/dataset/groove_midi_files/groove/drummer9/session1/11_rock_100_beat_4-4.mid.\n",
            "INFO:tensorflow:Converted MIDI file /content/drive/My Drive/Summer_21/dataset/groove_midi_files/groove/drummer9/session1/26_rock_90_beat_4-4.mid.\n",
            "I0627 14:02:49.182048 140075429287808 convert_dir_to_note_sequences.py:153] Converted MIDI file /content/drive/My Drive/Summer_21/dataset/groove_midi_files/groove/drummer9/session1/26_rock_90_beat_4-4.mid.\n",
            "INFO:tensorflow:Converted MIDI file /content/drive/My Drive/Summer_21/dataset/groove_midi_files/groove/drummer9/session1/16_rock_120_beat_4-4.mid.\n",
            "I0627 14:02:49.344827 140075429287808 convert_dir_to_note_sequences.py:153] Converted MIDI file /content/drive/My Drive/Summer_21/dataset/groove_midi_files/groove/drummer9/session1/16_rock_120_beat_4-4.mid.\n",
            "INFO:tensorflow:Converted MIDI file /content/drive/My Drive/Summer_21/dataset/groove_midi_files/groove/drummer9/session1/8_rock_100_beat_4-4.mid.\n",
            "I0627 14:02:49.700303 140075429287808 convert_dir_to_note_sequences.py:153] Converted MIDI file /content/drive/My Drive/Summer_21/dataset/groove_midi_files/groove/drummer9/session1/8_rock_100_beat_4-4.mid.\n",
            "INFO:tensorflow:Converted MIDI file /content/drive/My Drive/Summer_21/dataset/groove_midi_files/groove/drummer9/session1/27_rock_90_beat_4-4.mid.\n",
            "I0627 14:02:49.857677 140075429287808 convert_dir_to_note_sequences.py:153] Converted MIDI file /content/drive/My Drive/Summer_21/dataset/groove_midi_files/groove/drummer9/session1/27_rock_90_beat_4-4.mid.\n",
            "INFO:tensorflow:Converted MIDI file /content/drive/My Drive/Summer_21/dataset/groove_midi_files/groove/drummer9/session1/22_rock_120_beat_4-4.mid.\n",
            "I0627 14:02:50.020592 140075429287808 convert_dir_to_note_sequences.py:153] Converted MIDI file /content/drive/My Drive/Summer_21/dataset/groove_midi_files/groove/drummer9/session1/22_rock_120_beat_4-4.mid.\n",
            "INFO:tensorflow:Converted MIDI file /content/drive/My Drive/Summer_21/dataset/groove_midi_files/groove/drummer9/session1/18_rock_120_beat_4-4.mid.\n",
            "I0627 14:02:50.200382 140075429287808 convert_dir_to_note_sequences.py:153] Converted MIDI file /content/drive/My Drive/Summer_21/dataset/groove_midi_files/groove/drummer9/session1/18_rock_120_beat_4-4.mid.\n",
            "INFO:tensorflow:Converted MIDI file /content/drive/My Drive/Summer_21/dataset/groove_midi_files/groove/drummer9/session1/6_rock_100_beat_4-4.mid.\n",
            "I0627 14:02:50.356954 140075429287808 convert_dir_to_note_sequences.py:153] Converted MIDI file /content/drive/My Drive/Summer_21/dataset/groove_midi_files/groove/drummer9/session1/6_rock_100_beat_4-4.mid.\n",
            "INFO:tensorflow:Converted MIDI file /content/drive/My Drive/Summer_21/dataset/groove_midi_files/groove/drummer9/session1/28_rock_90_beat_4-4.mid.\n",
            "I0627 14:02:50.523599 140075429287808 convert_dir_to_note_sequences.py:153] Converted MIDI file /content/drive/My Drive/Summer_21/dataset/groove_midi_files/groove/drummer9/session1/28_rock_90_beat_4-4.mid.\n",
            "INFO:tensorflow:Converted MIDI file /content/drive/My Drive/Summer_21/dataset/groove_midi_files/groove/drummer9/session1/20_rock_120_beat_4-4.mid.\n",
            "I0627 14:02:50.729603 140075429287808 convert_dir_to_note_sequences.py:153] Converted MIDI file /content/drive/My Drive/Summer_21/dataset/groove_midi_files/groove/drummer9/session1/20_rock_120_beat_4-4.mid.\n",
            "INFO:tensorflow:Converted MIDI file /content/drive/My Drive/Summer_21/dataset/groove_midi_files/groove/drummer9/session1/30_rock_90_beat_4-4.mid.\n",
            "I0627 14:02:50.886826 140075429287808 convert_dir_to_note_sequences.py:153] Converted MIDI file /content/drive/My Drive/Summer_21/dataset/groove_midi_files/groove/drummer9/session1/30_rock_90_beat_4-4.mid.\n",
            "INFO:tensorflow:Converted MIDI file /content/drive/My Drive/Summer_21/dataset/groove_midi_files/groove/drummer9/session1/4_rock_100_beat_4-4.mid.\n",
            "I0627 14:02:51.091008 140075429287808 convert_dir_to_note_sequences.py:153] Converted MIDI file /content/drive/My Drive/Summer_21/dataset/groove_midi_files/groove/drummer9/session1/4_rock_100_beat_4-4.mid.\n",
            "WARNING:tensorflow:Unable to find a converter for file /content/drive/My Drive/Summer_21/dataset/groove_midi_files/groove/drummer9/session1/Icon\n",
            "W0627 14:02:51.092358 140075429287808 convert_dir_to_note_sequences.py:123] Unable to find a converter for file /content/drive/My Drive/Summer_21/dataset/groove_midi_files/groove/drummer9/session1/Icon\n",
            "INFO:tensorflow:Converting files in '/content/drive/My Drive/Summer_21/dataset/groove_midi_files/groove/drummer2'.\n",
            "I0627 14:02:51.092592 140075429287808 convert_dir_to_note_sequences.py:83] Converting files in '/content/drive/My Drive/Summer_21/dataset/groove_midi_files/groove/drummer2'.\n",
            "WARNING:tensorflow:Unable to find a converter for file /content/drive/My Drive/Summer_21/dataset/groove_midi_files/groove/drummer2/Icon\n",
            "W0627 14:02:51.095026 140075429287808 convert_dir_to_note_sequences.py:123] Unable to find a converter for file /content/drive/My Drive/Summer_21/dataset/groove_midi_files/groove/drummer2/Icon\n",
            "INFO:tensorflow:Converting files in '/content/drive/My Drive/Summer_21/dataset/groove_midi_files/groove/drummer2/session3'.\n",
            "I0627 14:02:51.095167 140075429287808 convert_dir_to_note_sequences.py:83] Converting files in '/content/drive/My Drive/Summer_21/dataset/groove_midi_files/groove/drummer2/session3'.\n",
            "INFO:tensorflow:Converted MIDI file /content/drive/My Drive/Summer_21/dataset/groove_midi_files/groove/drummer2/session3/1_rock-shuffle_85_beat_4-4.mid.\n",
            "I0627 14:02:51.402191 140075429287808 convert_dir_to_note_sequences.py:153] Converted MIDI file /content/drive/My Drive/Summer_21/dataset/groove_midi_files/groove/drummer2/session3/1_rock-shuffle_85_beat_4-4.mid.\n",
            "WARNING:tensorflow:Unable to find a converter for file /content/drive/My Drive/Summer_21/dataset/groove_midi_files/groove/drummer2/session3/Icon\n",
            "W0627 14:02:51.412775 140075429287808 convert_dir_to_note_sequences.py:123] Unable to find a converter for file /content/drive/My Drive/Summer_21/dataset/groove_midi_files/groove/drummer2/session3/Icon\n",
            "INFO:tensorflow:Converting files in '/content/drive/My Drive/Summer_21/dataset/groove_midi_files/groove/drummer2/session2'.\n",
            "I0627 14:02:51.413340 140075429287808 convert_dir_to_note_sequences.py:83] Converting files in '/content/drive/My Drive/Summer_21/dataset/groove_midi_files/groove/drummer2/session2'.\n",
            "INFO:tensorflow:Converted MIDI file /content/drive/My Drive/Summer_21/dataset/groove_midi_files/groove/drummer2/session2/1_rock_130_beat_4-4.mid.\n",
            "I0627 14:02:51.791346 140075429287808 convert_dir_to_note_sequences.py:153] Converted MIDI file /content/drive/My Drive/Summer_21/dataset/groove_midi_files/groove/drummer2/session2/1_rock_130_beat_4-4.mid.\n",
            "INFO:tensorflow:Converted MIDI file /content/drive/My Drive/Summer_21/dataset/groove_midi_files/groove/drummer2/session2/9_rock_130_beat_4-4.mid.\n",
            "I0627 14:02:52.024156 140075429287808 convert_dir_to_note_sequences.py:153] Converted MIDI file /content/drive/My Drive/Summer_21/dataset/groove_midi_files/groove/drummer2/session2/9_rock_130_beat_4-4.mid.\n",
            "INFO:tensorflow:Converted MIDI file /content/drive/My Drive/Summer_21/dataset/groove_midi_files/groove/drummer2/session2/12_rock_130_beat_4-4.mid.\n",
            "I0627 14:02:52.223041 140075429287808 convert_dir_to_note_sequences.py:153] Converted MIDI file /content/drive/My Drive/Summer_21/dataset/groove_midi_files/groove/drummer2/session2/12_rock_130_beat_4-4.mid.\n",
            "INFO:tensorflow:Converted MIDI file /content/drive/My Drive/Summer_21/dataset/groove_midi_files/groove/drummer2/session2/3_rock_130_beat_4-4.mid.\n",
            "I0627 14:02:52.421387 140075429287808 convert_dir_to_note_sequences.py:153] Converted MIDI file /content/drive/My Drive/Summer_21/dataset/groove_midi_files/groove/drummer2/session2/3_rock_130_beat_4-4.mid.\n",
            "INFO:tensorflow:Converted MIDI file /content/drive/My Drive/Summer_21/dataset/groove_midi_files/groove/drummer2/session2/10_rock_130_beat_4-4.mid.\n",
            "I0627 14:02:52.575268 140075429287808 convert_dir_to_note_sequences.py:153] Converted MIDI file /content/drive/My Drive/Summer_21/dataset/groove_midi_files/groove/drummer2/session2/10_rock_130_beat_4-4.mid.\n",
            "INFO:tensorflow:Converted MIDI file /content/drive/My Drive/Summer_21/dataset/groove_midi_files/groove/drummer2/session2/5_rock_130_fill_4-4.mid.\n",
            "I0627 14:02:52.734827 140075429287808 convert_dir_to_note_sequences.py:153] Converted MIDI file /content/drive/My Drive/Summer_21/dataset/groove_midi_files/groove/drummer2/session2/5_rock_130_fill_4-4.mid.\n",
            "INFO:tensorflow:Converted MIDI file /content/drive/My Drive/Summer_21/dataset/groove_midi_files/groove/drummer2/session2/14_rock_130_beat_4-4.mid.\n",
            "I0627 14:02:52.903268 140075429287808 convert_dir_to_note_sequences.py:153] Converted MIDI file /content/drive/My Drive/Summer_21/dataset/groove_midi_files/groove/drummer2/session2/14_rock_130_beat_4-4.mid.\n",
            "INFO:tensorflow:Converted MIDI file /content/drive/My Drive/Summer_21/dataset/groove_midi_files/groove/drummer2/session2/7_rock_130_beat_4-4.mid.\n",
            "I0627 14:02:53.084949 140075429287808 convert_dir_to_note_sequences.py:153] Converted MIDI file /content/drive/My Drive/Summer_21/dataset/groove_midi_files/groove/drummer2/session2/7_rock_130_beat_4-4.mid.\n",
            "INFO:tensorflow:Converted MIDI file /content/drive/My Drive/Summer_21/dataset/groove_midi_files/groove/drummer2/session2/8_rock_130_beat_4-4.mid.\n",
            "I0627 14:02:53.247428 140075429287808 convert_dir_to_note_sequences.py:153] Converted MIDI file /content/drive/My Drive/Summer_21/dataset/groove_midi_files/groove/drummer2/session2/8_rock_130_beat_4-4.mid.\n",
            "INFO:tensorflow:Converted MIDI file /content/drive/My Drive/Summer_21/dataset/groove_midi_files/groove/drummer2/session2/13_rock_130_beat_4-4.mid.\n",
            "I0627 14:02:53.444397 140075429287808 convert_dir_to_note_sequences.py:153] Converted MIDI file /content/drive/My Drive/Summer_21/dataset/groove_midi_files/groove/drummer2/session2/13_rock_130_beat_4-4.mid.\n",
            "INFO:tensorflow:Converted MIDI file /content/drive/My Drive/Summer_21/dataset/groove_midi_files/groove/drummer2/session2/11_rock_130_beat_4-4.mid.\n",
            "I0627 14:02:53.635273 140075429287808 convert_dir_to_note_sequences.py:153] Converted MIDI file /content/drive/My Drive/Summer_21/dataset/groove_midi_files/groove/drummer2/session2/11_rock_130_beat_4-4.mid.\n",
            "INFO:tensorflow:Converted MIDI file /content/drive/My Drive/Summer_21/dataset/groove_midi_files/groove/drummer2/session2/2_rock_130_beat_4-4.mid.\n",
            "I0627 14:02:53.808819 140075429287808 convert_dir_to_note_sequences.py:153] Converted MIDI file /content/drive/My Drive/Summer_21/dataset/groove_midi_files/groove/drummer2/session2/2_rock_130_beat_4-4.mid.\n",
            "INFO:tensorflow:Converted MIDI file /content/drive/My Drive/Summer_21/dataset/groove_midi_files/groove/drummer2/session2/4_rock_130_beat_4-4.mid.\n",
            "I0627 14:02:53.968105 140075429287808 convert_dir_to_note_sequences.py:153] Converted MIDI file /content/drive/My Drive/Summer_21/dataset/groove_midi_files/groove/drummer2/session2/4_rock_130_beat_4-4.mid.\n",
            "INFO:tensorflow:Converted MIDI file /content/drive/My Drive/Summer_21/dataset/groove_midi_files/groove/drummer2/session2/6_rock_130_beat_4-4.mid.\n",
            "I0627 14:02:54.156930 140075429287808 convert_dir_to_note_sequences.py:153] Converted MIDI file /content/drive/My Drive/Summer_21/dataset/groove_midi_files/groove/drummer2/session2/6_rock_130_beat_4-4.mid.\n",
            "INFO:tensorflow:Converted MIDI file /content/drive/My Drive/Summer_21/dataset/groove_midi_files/groove/drummer2/session2/15_rock_130_beat_4-4.mid.\n",
            "I0627 14:02:54.329284 140075429287808 convert_dir_to_note_sequences.py:153] Converted MIDI file /content/drive/My Drive/Summer_21/dataset/groove_midi_files/groove/drummer2/session2/15_rock_130_beat_4-4.mid.\n",
            "WARNING:tensorflow:Unable to find a converter for file /content/drive/My Drive/Summer_21/dataset/groove_midi_files/groove/drummer2/session2/Icon\n",
            "W0627 14:02:54.330349 140075429287808 convert_dir_to_note_sequences.py:123] Unable to find a converter for file /content/drive/My Drive/Summer_21/dataset/groove_midi_files/groove/drummer2/session2/Icon\n",
            "INFO:tensorflow:Converting files in '/content/drive/My Drive/Summer_21/dataset/groove_midi_files/groove/drummer2/session1'.\n",
            "I0627 14:02:54.330548 140075429287808 convert_dir_to_note_sequences.py:83] Converting files in '/content/drive/My Drive/Summer_21/dataset/groove_midi_files/groove/drummer2/session1'.\n",
            "INFO:tensorflow:Converted MIDI file /content/drive/My Drive/Summer_21/dataset/groove_midi_files/groove/drummer2/session1/2_rock_102_beat_4-4.mid.\n",
            "I0627 14:02:55.251046 140075429287808 convert_dir_to_note_sequences.py:153] Converted MIDI file /content/drive/My Drive/Summer_21/dataset/groove_midi_files/groove/drummer2/session1/2_rock_102_beat_4-4.mid.\n",
            "INFO:tensorflow:Converted MIDI file /content/drive/My Drive/Summer_21/dataset/groove_midi_files/groove/drummer2/session1/1_rock_110_beat_4-4.mid.\n",
            "I0627 14:02:56.068696 140075429287808 convert_dir_to_note_sequences.py:153] Converted MIDI file /content/drive/My Drive/Summer_21/dataset/groove_midi_files/groove/drummer2/session1/1_rock_110_beat_4-4.mid.\n",
            "WARNING:tensorflow:Unable to find a converter for file /content/drive/My Drive/Summer_21/dataset/groove_midi_files/groove/drummer2/session1/Icon\n",
            "W0627 14:02:56.110372 140075429287808 convert_dir_to_note_sequences.py:123] Unable to find a converter for file /content/drive/My Drive/Summer_21/dataset/groove_midi_files/groove/drummer2/session1/Icon\n",
            "INFO:tensorflow:Converting files in '/content/drive/My Drive/Summer_21/dataset/groove_midi_files/groove/drummer5'.\n",
            "I0627 14:02:56.113187 140075429287808 convert_dir_to_note_sequences.py:83] Converting files in '/content/drive/My Drive/Summer_21/dataset/groove_midi_files/groove/drummer5'.\n",
            "WARNING:tensorflow:Unable to find a converter for file /content/drive/My Drive/Summer_21/dataset/groove_midi_files/groove/drummer5/Icon\n",
            "W0627 14:02:56.116756 140075429287808 convert_dir_to_note_sequences.py:123] Unable to find a converter for file /content/drive/My Drive/Summer_21/dataset/groove_midi_files/groove/drummer5/Icon\n",
            "INFO:tensorflow:Converting files in '/content/drive/My Drive/Summer_21/dataset/groove_midi_files/groove/drummer5/session2'.\n",
            "I0627 14:02:56.116906 140075429287808 convert_dir_to_note_sequences.py:83] Converting files in '/content/drive/My Drive/Summer_21/dataset/groove_midi_files/groove/drummer5/session2'.\n",
            "INFO:tensorflow:Converted MIDI file /content/drive/My Drive/Summer_21/dataset/groove_midi_files/groove/drummer5/session2/19_latin-brazilian-ijexa_108_beat_4-4.mid.\n",
            "I0627 14:02:56.311679 140075429287808 convert_dir_to_note_sequences.py:153] Converted MIDI file /content/drive/My Drive/Summer_21/dataset/groove_midi_files/groove/drummer5/session2/19_latin-brazilian-ijexa_108_beat_4-4.mid.\n",
            "INFO:tensorflow:Converted MIDI file /content/drive/My Drive/Summer_21/dataset/groove_midi_files/groove/drummer5/session2/2_latin-brazilian_101_beat_4-4.mid.\n",
            "I0627 14:02:56.501424 140075429287808 convert_dir_to_note_sequences.py:153] Converted MIDI file /content/drive/My Drive/Summer_21/dataset/groove_midi_files/groove/drummer5/session2/2_latin-brazilian_101_beat_4-4.mid.\n",
            "INFO:tensorflow:Converted MIDI file /content/drive/My Drive/Summer_21/dataset/groove_midi_files/groove/drummer5/session2/23_latin-brazilian-songo_120_beat_4-4.mid.\n",
            "I0627 14:02:56.715133 140075429287808 convert_dir_to_note_sequences.py:153] Converted MIDI file /content/drive/My Drive/Summer_21/dataset/groove_midi_files/groove/drummer5/session2/23_latin-brazilian-songo_120_beat_4-4.mid.\n",
            "INFO:tensorflow:Converted MIDI file /content/drive/My Drive/Summer_21/dataset/groove_midi_files/groove/drummer5/session2/14_rock_140_beat_4-4.mid.\n",
            "I0627 14:02:56.908739 140075429287808 convert_dir_to_note_sequences.py:153] Converted MIDI file /content/drive/My Drive/Summer_21/dataset/groove_midi_files/groove/drummer5/session2/14_rock_140_beat_4-4.mid.\n",
            "INFO:tensorflow:Converted MIDI file /content/drive/My Drive/Summer_21/dataset/groove_midi_files/groove/drummer5/session2/18_latin-brazilian-samba_93_beat_4-4.mid.\n",
            "I0627 14:02:57.109947 140075429287808 convert_dir_to_note_sequences.py:153] Converted MIDI file /content/drive/My Drive/Summer_21/dataset/groove_midi_files/groove/drummer5/session2/18_latin-brazilian-samba_93_beat_4-4.mid.\n",
            "INFO:tensorflow:Converted MIDI file /content/drive/My Drive/Summer_21/dataset/groove_midi_files/groove/drummer5/session2/22_latin-brazilian-frevo_133_beat_4-4.mid.\n",
            "I0627 14:02:57.375563 140075429287808 convert_dir_to_note_sequences.py:153] Converted MIDI file /content/drive/My Drive/Summer_21/dataset/groove_midi_files/groove/drummer5/session2/22_latin-brazilian-frevo_133_beat_4-4.mid.\n",
            "INFO:tensorflow:Converted MIDI file /content/drive/My Drive/Summer_21/dataset/groove_midi_files/groove/drummer5/session2/10_neworleans-funk_102_beat_4-4.mid.\n",
            "I0627 14:02:57.618702 140075429287808 convert_dir_to_note_sequences.py:153] Converted MIDI file /content/drive/My Drive/Summer_21/dataset/groove_midi_files/groove/drummer5/session2/10_neworleans-funk_102_beat_4-4.mid.\n",
            "INFO:tensorflow:Converted MIDI file /content/drive/My Drive/Summer_21/dataset/groove_midi_files/groove/drummer5/session2/20_latin-brazilian-ijexa_108_beat_4-4.mid.\n",
            "I0627 14:02:57.810302 140075429287808 convert_dir_to_note_sequences.py:153] Converted MIDI file /content/drive/My Drive/Summer_21/dataset/groove_midi_files/groove/drummer5/session2/20_latin-brazilian-ijexa_108_beat_4-4.mid.\n",
            "INFO:tensorflow:Converted MIDI file /content/drive/My Drive/Summer_21/dataset/groove_midi_files/groove/drummer5/session2/9_neworleans-shuffle_104_beat_4-4.mid.\n",
            "I0627 14:02:58.047851 140075429287808 convert_dir_to_note_sequences.py:153] Converted MIDI file /content/drive/My Drive/Summer_21/dataset/groove_midi_files/groove/drummer5/session2/9_neworleans-shuffle_104_beat_4-4.mid.\n",
            "INFO:tensorflow:Converted MIDI file /content/drive/My Drive/Summer_21/dataset/groove_midi_files/groove/drummer5/session2/21_latin-brazilian-ijexa_108_beat_4-4.mid.\n",
            "I0627 14:02:58.268971 140075429287808 convert_dir_to_note_sequences.py:153] Converted MIDI file /content/drive/My Drive/Summer_21/dataset/groove_midi_files/groove/drummer5/session2/21_latin-brazilian-ijexa_108_beat_4-4.mid.\n",
            "INFO:tensorflow:Converted MIDI file /content/drive/My Drive/Summer_21/dataset/groove_midi_files/groove/drummer5/session2/5_reggae_126_beat_4-4.mid.\n",
            "I0627 14:02:58.502211 140075429287808 convert_dir_to_note_sequences.py:153] Converted MIDI file /content/drive/My Drive/Summer_21/dataset/groove_midi_files/groove/drummer5/session2/5_reggae_126_beat_4-4.mid.\n",
            "INFO:tensorflow:Converted MIDI file /content/drive/My Drive/Summer_21/dataset/groove_midi_files/groove/drummer5/session2/3_latin-brazilian_101_beat_4-4.mid.\n",
            "I0627 14:02:58.712606 140075429287808 convert_dir_to_note_sequences.py:153] Converted MIDI file /content/drive/My Drive/Summer_21/dataset/groove_midi_files/groove/drummer5/session2/3_latin-brazilian_101_beat_4-4.mid.\n",
            "INFO:tensorflow:Converted MIDI file /content/drive/My Drive/Summer_21/dataset/groove_midi_files/groove/drummer5/session2/6_neworleans-secondline_99_beat_4-4.mid.\n",
            "I0627 14:02:59.032855 140075429287808 convert_dir_to_note_sequences.py:153] Converted MIDI file /content/drive/My Drive/Summer_21/dataset/groove_midi_files/groove/drummer5/session2/6_neworleans-secondline_99_beat_4-4.mid.\n",
            "INFO:tensorflow:Converted MIDI file /content/drive/My Drive/Summer_21/dataset/groove_midi_files/groove/drummer5/session2/24_latin-brazilian-songo_120_beat_4-4.mid.\n",
            "I0627 14:02:59.276163 140075429287808 convert_dir_to_note_sequences.py:153] Converted MIDI file /content/drive/My Drive/Summer_21/dataset/groove_midi_files/groove/drummer5/session2/24_latin-brazilian-songo_120_beat_4-4.mid.\n",
            "INFO:tensorflow:Converted MIDI file /content/drive/My Drive/Summer_21/dataset/groove_midi_files/groove/drummer5/session2/13_rock_140_beat_4-4.mid.\n",
            "I0627 14:02:59.492491 140075429287808 convert_dir_to_note_sequences.py:153] Converted MIDI file /content/drive/My Drive/Summer_21/dataset/groove_midi_files/groove/drummer5/session2/13_rock_140_beat_4-4.mid.\n",
            "INFO:tensorflow:Converted MIDI file /content/drive/My Drive/Summer_21/dataset/groove_midi_files/groove/drummer5/session2/16_latin-ando_125_beat_3-4.mid.\n",
            "I0627 14:02:59.717309 140075429287808 convert_dir_to_note_sequences.py:153] Converted MIDI file /content/drive/My Drive/Summer_21/dataset/groove_midi_files/groove/drummer5/session2/16_latin-ando_125_beat_3-4.mid.\n",
            "INFO:tensorflow:Converted MIDI file /content/drive/My Drive/Summer_21/dataset/groove_midi_files/groove/drummer5/session2/17_latin-brazilian-samba_110_beat_4-4.mid.\n",
            "I0627 14:02:59.945433 140075429287808 convert_dir_to_note_sequences.py:153] Converted MIDI file /content/drive/My Drive/Summer_21/dataset/groove_midi_files/groove/drummer5/session2/17_latin-brazilian-samba_110_beat_4-4.mid.\n",
            "INFO:tensorflow:Converted MIDI file /content/drive/My Drive/Summer_21/dataset/groove_midi_files/groove/drummer5/session2/7_neworleans-secondline_124_beat_4-4.mid.\n",
            "I0627 14:03:00.169384 140075429287808 convert_dir_to_note_sequences.py:153] Converted MIDI file /content/drive/My Drive/Summer_21/dataset/groove_midi_files/groove/drummer5/session2/7_neworleans-secondline_124_beat_4-4.mid.\n",
            "INFO:tensorflow:Converted MIDI file /content/drive/My Drive/Summer_21/dataset/groove_midi_files/groove/drummer5/session2/1_latin-venezuelan-sangueo_101_beat_4-4.mid.\n",
            "I0627 14:03:00.369270 140075429287808 convert_dir_to_note_sequences.py:153] Converted MIDI file /content/drive/My Drive/Summer_21/dataset/groove_midi_files/groove/drummer5/session2/1_latin-venezuelan-sangueo_101_beat_4-4.mid.\n",
            "INFO:tensorflow:Converted MIDI file /content/drive/My Drive/Summer_21/dataset/groove_midi_files/groove/drummer5/session2/12_rock_105_beat_4-4.mid.\n",
            "I0627 14:03:00.715195 140075429287808 convert_dir_to_note_sequences.py:153] Converted MIDI file /content/drive/My Drive/Summer_21/dataset/groove_midi_files/groove/drummer5/session2/12_rock_105_beat_4-4.mid.\n",
            "INFO:tensorflow:Converted MIDI file /content/drive/My Drive/Summer_21/dataset/groove_midi_files/groove/drummer5/session2/8_neworleans-chacha_124_beat_4-4.mid.\n",
            "I0627 14:03:00.923401 140075429287808 convert_dir_to_note_sequences.py:153] Converted MIDI file /content/drive/My Drive/Summer_21/dataset/groove_midi_files/groove/drummer5/session2/8_neworleans-chacha_124_beat_4-4.mid.\n",
            "INFO:tensorflow:Converted MIDI file /content/drive/My Drive/Summer_21/dataset/groove_midi_files/groove/drummer5/session2/15_latin-venezuelan-joropo_80_beat_4-4.mid.\n",
            "I0627 14:03:01.154207 140075429287808 convert_dir_to_note_sequences.py:153] Converted MIDI file /content/drive/My Drive/Summer_21/dataset/groove_midi_files/groove/drummer5/session2/15_latin-venezuelan-joropo_80_beat_4-4.mid.\n",
            "INFO:tensorflow:Converted MIDI file /content/drive/My Drive/Summer_21/dataset/groove_midi_files/groove/drummer5/session2/11_soul_96_beat_4-4.mid.\n",
            "I0627 14:03:01.335300 140075429287808 convert_dir_to_note_sequences.py:153] Converted MIDI file /content/drive/My Drive/Summer_21/dataset/groove_midi_files/groove/drummer5/session2/11_soul_96_beat_4-4.mid.\n",
            "INFO:tensorflow:Converted MIDI file /content/drive/My Drive/Summer_21/dataset/groove_midi_files/groove/drummer5/session2/4_reggae_141_beat_4-4.mid.\n",
            "I0627 14:03:01.599086 140075429287808 convert_dir_to_note_sequences.py:153] Converted MIDI file /content/drive/My Drive/Summer_21/dataset/groove_midi_files/groove/drummer5/session2/4_reggae_141_beat_4-4.mid.\n",
            "WARNING:tensorflow:Unable to find a converter for file /content/drive/My Drive/Summer_21/dataset/groove_midi_files/groove/drummer5/session2/Icon\n",
            "W0627 14:03:01.605767 140075429287808 convert_dir_to_note_sequences.py:123] Unable to find a converter for file /content/drive/My Drive/Summer_21/dataset/groove_midi_files/groove/drummer5/session2/Icon\n",
            "INFO:tensorflow:Converting files in '/content/drive/My Drive/Summer_21/dataset/groove_midi_files/groove/drummer5/eval_session'.\n",
            "I0627 14:03:01.606125 140075429287808 convert_dir_to_note_sequences.py:83] Converting files in '/content/drive/My Drive/Summer_21/dataset/groove_midi_files/groove/drummer5/eval_session'.\n",
            "INFO:tensorflow:Converted MIDI file /content/drive/My Drive/Summer_21/dataset/groove_midi_files/groove/drummer5/eval_session/6_hiphop-groove6_87_beat_4-4.mid.\n",
            "I0627 14:03:01.794014 140075429287808 convert_dir_to_note_sequences.py:153] Converted MIDI file /content/drive/My Drive/Summer_21/dataset/groove_midi_files/groove/drummer5/eval_session/6_hiphop-groove6_87_beat_4-4.mid.\n",
            "INFO:tensorflow:Converted MIDI file /content/drive/My Drive/Summer_21/dataset/groove_midi_files/groove/drummer5/eval_session/3_soul-groove3_86_beat_4-4.mid.\n",
            "I0627 14:03:01.964534 140075429287808 convert_dir_to_note_sequences.py:153] Converted MIDI file /content/drive/My Drive/Summer_21/dataset/groove_midi_files/groove/drummer5/eval_session/3_soul-groove3_86_beat_4-4.mid.\n",
            "INFO:tensorflow:Converted MIDI file /content/drive/My Drive/Summer_21/dataset/groove_midi_files/groove/drummer5/eval_session/7_pop-groove7_138_beat_4-4.mid.\n",
            "I0627 14:03:02.159950 140075429287808 convert_dir_to_note_sequences.py:153] Converted MIDI file /content/drive/My Drive/Summer_21/dataset/groove_midi_files/groove/drummer5/eval_session/7_pop-groove7_138_beat_4-4.mid.\n",
            "INFO:tensorflow:Converted MIDI file /content/drive/My Drive/Summer_21/dataset/groove_midi_files/groove/drummer5/eval_session/5_funk-groove5_84_beat_4-4.mid.\n",
            "I0627 14:03:02.336714 140075429287808 convert_dir_to_note_sequences.py:153] Converted MIDI file /content/drive/My Drive/Summer_21/dataset/groove_midi_files/groove/drummer5/eval_session/5_funk-groove5_84_beat_4-4.mid.\n",
            "INFO:tensorflow:Converted MIDI file /content/drive/My Drive/Summer_21/dataset/groove_midi_files/groove/drummer5/eval_session/9_soul-groove9_105_beat_4-4.mid.\n",
            "I0627 14:03:02.489243 140075429287808 convert_dir_to_note_sequences.py:153] Converted MIDI file /content/drive/My Drive/Summer_21/dataset/groove_midi_files/groove/drummer5/eval_session/9_soul-groove9_105_beat_4-4.mid.\n",
            "INFO:tensorflow:Converted MIDI file /content/drive/My Drive/Summer_21/dataset/groove_midi_files/groove/drummer5/eval_session/1_funk-groove1_138_beat_4-4.mid.\n",
            "I0627 14:03:02.659368 140075429287808 convert_dir_to_note_sequences.py:153] Converted MIDI file /content/drive/My Drive/Summer_21/dataset/groove_midi_files/groove/drummer5/eval_session/1_funk-groove1_138_beat_4-4.mid.\n",
            "INFO:tensorflow:Converted MIDI file /content/drive/My Drive/Summer_21/dataset/groove_midi_files/groove/drummer5/eval_session/10_soul-groove10_102_beat_4-4.mid.\n",
            "I0627 14:03:02.817077 140075429287808 convert_dir_to_note_sequences.py:153] Converted MIDI file /content/drive/My Drive/Summer_21/dataset/groove_midi_files/groove/drummer5/eval_session/10_soul-groove10_102_beat_4-4.mid.\n",
            "INFO:tensorflow:Converted MIDI file /content/drive/My Drive/Summer_21/dataset/groove_midi_files/groove/drummer5/eval_session/4_soul-groove4_80_beat_4-4.mid.\n",
            "I0627 14:03:02.972862 140075429287808 convert_dir_to_note_sequences.py:153] Converted MIDI file /content/drive/My Drive/Summer_21/dataset/groove_midi_files/groove/drummer5/eval_session/4_soul-groove4_80_beat_4-4.mid.\n",
            "INFO:tensorflow:Converted MIDI file /content/drive/My Drive/Summer_21/dataset/groove_midi_files/groove/drummer5/eval_session/2_funk-groove2_105_beat_4-4.mid.\n",
            "I0627 14:03:03.136892 140075429287808 convert_dir_to_note_sequences.py:153] Converted MIDI file /content/drive/My Drive/Summer_21/dataset/groove_midi_files/groove/drummer5/eval_session/2_funk-groove2_105_beat_4-4.mid.\n",
            "INFO:tensorflow:Converted MIDI file /content/drive/My Drive/Summer_21/dataset/groove_midi_files/groove/drummer5/eval_session/8_rock-groove8_65_beat_4-4.mid.\n",
            "I0627 14:03:03.334125 140075429287808 convert_dir_to_note_sequences.py:153] Converted MIDI file /content/drive/My Drive/Summer_21/dataset/groove_midi_files/groove/drummer5/eval_session/8_rock-groove8_65_beat_4-4.mid.\n",
            "WARNING:tensorflow:Unable to find a converter for file /content/drive/My Drive/Summer_21/dataset/groove_midi_files/groove/drummer5/eval_session/Icon\n",
            "W0627 14:03:03.335887 140075429287808 convert_dir_to_note_sequences.py:123] Unable to find a converter for file /content/drive/My Drive/Summer_21/dataset/groove_midi_files/groove/drummer5/eval_session/Icon\n",
            "INFO:tensorflow:Converting files in '/content/drive/My Drive/Summer_21/dataset/groove_midi_files/groove/drummer5/session1'.\n",
            "I0627 14:03:03.336092 140075429287808 convert_dir_to_note_sequences.py:83] Converting files in '/content/drive/My Drive/Summer_21/dataset/groove_midi_files/groove/drummer5/session1'.\n",
            "INFO:tensorflow:Converted MIDI file /content/drive/My Drive/Summer_21/dataset/groove_midi_files/groove/drummer5/session1/19_middleeastern_126_beat_4-4.mid.\n",
            "I0627 14:03:03.582433 140075429287808 convert_dir_to_note_sequences.py:153] Converted MIDI file /content/drive/My Drive/Summer_21/dataset/groove_midi_files/groove/drummer5/session1/19_middleeastern_126_beat_4-4.mid.\n",
            "INFO:tensorflow:Converted MIDI file /content/drive/My Drive/Summer_21/dataset/groove_midi_files/groove/drummer5/session1/15_funk_100_beat_4-4.mid.\n",
            "I0627 14:03:03.861696 140075429287808 convert_dir_to_note_sequences.py:153] Converted MIDI file /content/drive/My Drive/Summer_21/dataset/groove_midi_files/groove/drummer5/session1/15_funk_100_beat_4-4.mid.\n",
            "INFO:tensorflow:Converted MIDI file /content/drive/My Drive/Summer_21/dataset/groove_midi_files/groove/drummer5/session1/10_latin-brazilian-sambareggae_96_beat_4-4.mid.\n",
            "I0627 14:03:04.162031 140075429287808 convert_dir_to_note_sequences.py:153] Converted MIDI file /content/drive/My Drive/Summer_21/dataset/groove_midi_files/groove/drummer5/session1/10_latin-brazilian-sambareggae_96_beat_4-4.mid.\n",
            "INFO:tensorflow:Converted MIDI file /content/drive/My Drive/Summer_21/dataset/groove_midi_files/groove/drummer5/session1/5_latin-brazilian-samba_89_beat_4-4.mid.\n",
            "I0627 14:03:04.434056 140075429287808 convert_dir_to_note_sequences.py:153] Converted MIDI file /content/drive/My Drive/Summer_21/dataset/groove_midi_files/groove/drummer5/session1/5_latin-brazilian-samba_89_beat_4-4.mid.\n",
            "INFO:tensorflow:Converted MIDI file /content/drive/My Drive/Summer_21/dataset/groove_midi_files/groove/drummer5/session1/7_latin-brazilian-maracatu_96_beat_4-4.mid.\n",
            "I0627 14:03:04.713231 140075429287808 convert_dir_to_note_sequences.py:153] Converted MIDI file /content/drive/My Drive/Summer_21/dataset/groove_midi_files/groove/drummer5/session1/7_latin-brazilian-maracatu_96_beat_4-4.mid.\n",
            "INFO:tensorflow:Converted MIDI file /content/drive/My Drive/Summer_21/dataset/groove_midi_files/groove/drummer5/session1/2_latin-brazilian-bossa_127_beat_4-4.mid.\n",
            "I0627 14:03:05.257878 140075429287808 convert_dir_to_note_sequences.py:153] Converted MIDI file /content/drive/My Drive/Summer_21/dataset/groove_midi_files/groove/drummer5/session1/2_latin-brazilian-bossa_127_beat_4-4.mid.\n",
            "INFO:tensorflow:Converted MIDI file /content/drive/My Drive/Summer_21/dataset/groove_midi_files/groove/drummer5/session1/16_rock_136_beat_4-4.mid.\n",
            "I0627 14:03:05.633537 140075429287808 convert_dir_to_note_sequences.py:153] Converted MIDI file /content/drive/My Drive/Summer_21/dataset/groove_midi_files/groove/drummer5/session1/16_rock_136_beat_4-4.mid.\n",
            "INFO:tensorflow:Converted MIDI file /content/drive/My Drive/Summer_21/dataset/groove_midi_files/groove/drummer5/session1/4_latin-brazilian-samba_89_beat_4-4.mid.\n",
            "I0627 14:03:05.962570 140075429287808 convert_dir_to_note_sequences.py:153] Converted MIDI file /content/drive/My Drive/Summer_21/dataset/groove_midi_files/groove/drummer5/session1/4_latin-brazilian-samba_89_beat_4-4.mid.\n",
            "INFO:tensorflow:Converted MIDI file /content/drive/My Drive/Summer_21/dataset/groove_midi_files/groove/drummer5/session1/14_latin-brazilian-songo_112_beat_4-4.mid.\n",
            "I0627 14:03:06.288023 140075429287808 convert_dir_to_note_sequences.py:153] Converted MIDI file /content/drive/My Drive/Summer_21/dataset/groove_midi_files/groove/drummer5/session1/14_latin-brazilian-songo_112_beat_4-4.mid.\n",
            "INFO:tensorflow:Converted MIDI file /content/drive/My Drive/Summer_21/dataset/groove_midi_files/groove/drummer5/session1/17_blues-shuffle_72_beat_4-4.mid.\n",
            "I0627 14:03:06.589004 140075429287808 convert_dir_to_note_sequences.py:153] Converted MIDI file /content/drive/My Drive/Summer_21/dataset/groove_midi_files/groove/drummer5/session1/17_blues-shuffle_72_beat_4-4.mid.\n",
            "INFO:tensorflow:Converted MIDI file /content/drive/My Drive/Summer_21/dataset/groove_midi_files/groove/drummer5/session1/1_latin-brazilian-bossa_127_beat_4-4.mid.\n",
            "I0627 14:03:07.120715 140075429287808 convert_dir_to_note_sequences.py:153] Converted MIDI file /content/drive/My Drive/Summer_21/dataset/groove_midi_files/groove/drummer5/session1/1_latin-brazilian-bossa_127_beat_4-4.mid.\n",
            "INFO:tensorflow:Converted MIDI file /content/drive/My Drive/Summer_21/dataset/groove_midi_files/groove/drummer5/session1/3_latin-brazilian-samba_89_beat_4-4.mid.\n",
            "I0627 14:03:07.367209 140075429287808 convert_dir_to_note_sequences.py:153] Converted MIDI file /content/drive/My Drive/Summer_21/dataset/groove_midi_files/groove/drummer5/session1/3_latin-brazilian-samba_89_beat_4-4.mid.\n",
            "INFO:tensorflow:Converted MIDI file /content/drive/My Drive/Summer_21/dataset/groove_midi_files/groove/drummer5/session1/12_latin-brazilian-sambareggae_96_beat_4-4.mid.\n",
            "I0627 14:03:07.639772 140075429287808 convert_dir_to_note_sequences.py:153] Converted MIDI file /content/drive/My Drive/Summer_21/dataset/groove_midi_files/groove/drummer5/session1/12_latin-brazilian-sambareggae_96_beat_4-4.mid.\n",
            "INFO:tensorflow:Converted MIDI file /content/drive/My Drive/Summer_21/dataset/groove_midi_files/groove/drummer5/session1/18_afrocuban_128_beat_4-4.mid.\n",
            "I0627 14:03:07.878828 140075429287808 convert_dir_to_note_sequences.py:153] Converted MIDI file /content/drive/My Drive/Summer_21/dataset/groove_midi_files/groove/drummer5/session1/18_afrocuban_128_beat_4-4.mid.\n",
            "INFO:tensorflow:Converted MIDI file /content/drive/My Drive/Summer_21/dataset/groove_midi_files/groove/drummer5/session1/9_latin-dominican-merengue_130_beat_4-4.mid.\n",
            "I0627 14:03:08.188066 140075429287808 convert_dir_to_note_sequences.py:153] Converted MIDI file /content/drive/My Drive/Summer_21/dataset/groove_midi_files/groove/drummer5/session1/9_latin-dominican-merengue_130_beat_4-4.mid.\n",
            "INFO:tensorflow:Converted MIDI file /content/drive/My Drive/Summer_21/dataset/groove_midi_files/groove/drummer5/session1/6_latin-brazilian-maracatu_96_beat_4-4.mid.\n",
            "I0627 14:03:08.557415 140075429287808 convert_dir_to_note_sequences.py:153] Converted MIDI file /content/drive/My Drive/Summer_21/dataset/groove_midi_files/groove/drummer5/session1/6_latin-brazilian-maracatu_96_beat_4-4.mid.\n",
            "INFO:tensorflow:Converted MIDI file /content/drive/My Drive/Summer_21/dataset/groove_midi_files/groove/drummer5/session1/20_latin-brazilian-baiao_110_beat_4-4.mid.\n",
            "I0627 14:03:08.831613 140075429287808 convert_dir_to_note_sequences.py:153] Converted MIDI file /content/drive/My Drive/Summer_21/dataset/groove_midi_files/groove/drummer5/session1/20_latin-brazilian-baiao_110_beat_4-4.mid.\n",
            "INFO:tensorflow:Converted MIDI file /content/drive/My Drive/Summer_21/dataset/groove_midi_files/groove/drummer5/session1/13_afrocuban-calypso_124_beat_4-4.mid.\n",
            "I0627 14:03:09.170929 140075429287808 convert_dir_to_note_sequences.py:153] Converted MIDI file /content/drive/My Drive/Summer_21/dataset/groove_midi_files/groove/drummer5/session1/13_afrocuban-calypso_124_beat_4-4.mid.\n",
            "INFO:tensorflow:Converted MIDI file /content/drive/My Drive/Summer_21/dataset/groove_midi_files/groove/drummer5/session1/11_latin-brazilian-sambareggae_96_beat_4-4.mid.\n",
            "I0627 14:03:09.399328 140075429287808 convert_dir_to_note_sequences.py:153] Converted MIDI file /content/drive/My Drive/Summer_21/dataset/groove_midi_files/groove/drummer5/session1/11_latin-brazilian-sambareggae_96_beat_4-4.mid.\n",
            "INFO:tensorflow:Converted MIDI file /content/drive/My Drive/Summer_21/dataset/groove_midi_files/groove/drummer5/session1/8_latin-venezuelan-merengue_162_beat_5-8.mid.\n",
            "I0627 14:03:09.654192 140075429287808 convert_dir_to_note_sequences.py:153] Converted MIDI file /content/drive/My Drive/Summer_21/dataset/groove_midi_files/groove/drummer5/session1/8_latin-venezuelan-merengue_162_beat_5-8.mid.\n",
            "WARNING:tensorflow:Unable to find a converter for file /content/drive/My Drive/Summer_21/dataset/groove_midi_files/groove/drummer5/session1/Icon\n",
            "W0627 14:03:09.661649 140075429287808 convert_dir_to_note_sequences.py:123] Unable to find a converter for file /content/drive/My Drive/Summer_21/dataset/groove_midi_files/groove/drummer5/session1/Icon\n",
            "INFO:tensorflow:Converting files in '/content/drive/My Drive/Summer_21/dataset/groove_midi_files/groove/drummer4'.\n",
            "I0627 14:03:09.662114 140075429287808 convert_dir_to_note_sequences.py:83] Converting files in '/content/drive/My Drive/Summer_21/dataset/groove_midi_files/groove/drummer4'.\n",
            "WARNING:tensorflow:Unable to find a converter for file /content/drive/My Drive/Summer_21/dataset/groove_midi_files/groove/drummer4/Icon\n",
            "W0627 14:03:09.664949 140075429287808 convert_dir_to_note_sequences.py:123] Unable to find a converter for file /content/drive/My Drive/Summer_21/dataset/groove_midi_files/groove/drummer4/Icon\n",
            "INFO:tensorflow:Converting files in '/content/drive/My Drive/Summer_21/dataset/groove_midi_files/groove/drummer4/session1'.\n",
            "I0627 14:03:09.665113 140075429287808 convert_dir_to_note_sequences.py:83] Converting files in '/content/drive/My Drive/Summer_21/dataset/groove_midi_files/groove/drummer4/session1'.\n",
            "INFO:tensorflow:Converted MIDI file /content/drive/My Drive/Summer_21/dataset/groove_midi_files/groove/drummer4/session1/6_blues-shuffle_134_beat_4-4.mid.\n",
            "I0627 14:03:09.818965 140075429287808 convert_dir_to_note_sequences.py:153] Converted MIDI file /content/drive/My Drive/Summer_21/dataset/groove_midi_files/groove/drummer4/session1/6_blues-shuffle_134_beat_4-4.mid.\n",
            "INFO:tensorflow:Converted MIDI file /content/drive/My Drive/Summer_21/dataset/groove_midi_files/groove/drummer4/session1/9_latin-merengue_158_beat_4-4.mid.\n",
            "I0627 14:03:09.982693 140075429287808 convert_dir_to_note_sequences.py:153] Converted MIDI file /content/drive/My Drive/Summer_21/dataset/groove_midi_files/groove/drummer4/session1/9_latin-merengue_158_beat_4-4.mid.\n",
            "INFO:tensorflow:Converted MIDI file /content/drive/My Drive/Summer_21/dataset/groove_midi_files/groove/drummer4/session1/5_latin-brazilian_184_beat_4-4.mid.\n",
            "I0627 14:03:10.158331 140075429287808 convert_dir_to_note_sequences.py:153] Converted MIDI file /content/drive/My Drive/Summer_21/dataset/groove_midi_files/groove/drummer4/session1/5_latin-brazilian_184_beat_4-4.mid.\n",
            "INFO:tensorflow:Converted MIDI file /content/drive/My Drive/Summer_21/dataset/groove_midi_files/groove/drummer4/session1/1_rock_87_beat_4-4.mid.\n",
            "I0627 14:03:10.329258 140075429287808 convert_dir_to_note_sequences.py:153] Converted MIDI file /content/drive/My Drive/Summer_21/dataset/groove_midi_files/groove/drummer4/session1/1_rock_87_beat_4-4.mid.\n",
            "INFO:tensorflow:Converted MIDI file /content/drive/My Drive/Summer_21/dataset/groove_midi_files/groove/drummer4/session1/7_blues-shuffle_134_beat_4-4.mid.\n",
            "I0627 14:03:10.481122 140075429287808 convert_dir_to_note_sequences.py:153] Converted MIDI file /content/drive/My Drive/Summer_21/dataset/groove_midi_files/groove/drummer4/session1/7_blues-shuffle_134_beat_4-4.mid.\n",
            "INFO:tensorflow:Converted MIDI file /content/drive/My Drive/Summer_21/dataset/groove_midi_files/groove/drummer4/session1/8_blues-shuffle_112_beat_4-4.mid.\n",
            "I0627 14:03:10.641784 140075429287808 convert_dir_to_note_sequences.py:153] Converted MIDI file /content/drive/My Drive/Summer_21/dataset/groove_midi_files/groove/drummer4/session1/8_blues-shuffle_112_beat_4-4.mid.\n",
            "INFO:tensorflow:Converted MIDI file /content/drive/My Drive/Summer_21/dataset/groove_midi_files/groove/drummer4/session1/3_jazz-klezmer_152_beat_4-4.mid.\n",
            "I0627 14:03:10.826862 140075429287808 convert_dir_to_note_sequences.py:153] Converted MIDI file /content/drive/My Drive/Summer_21/dataset/groove_midi_files/groove/drummer4/session1/3_jazz-klezmer_152_beat_4-4.mid.\n",
            "INFO:tensorflow:Converted MIDI file /content/drive/My Drive/Summer_21/dataset/groove_midi_files/groove/drummer4/session1/4_latin-brazilian_92_beat_4-4.mid.\n",
            "I0627 14:03:10.986513 140075429287808 convert_dir_to_note_sequences.py:153] Converted MIDI file /content/drive/My Drive/Summer_21/dataset/groove_midi_files/groove/drummer4/session1/4_latin-brazilian_92_beat_4-4.mid.\n",
            "INFO:tensorflow:Converted MIDI file /content/drive/My Drive/Summer_21/dataset/groove_midi_files/groove/drummer4/session1/2_jazz_158_beat_4-4.mid.\n",
            "I0627 14:03:11.172592 140075429287808 convert_dir_to_note_sequences.py:153] Converted MIDI file /content/drive/My Drive/Summer_21/dataset/groove_midi_files/groove/drummer4/session1/2_jazz_158_beat_4-4.mid.\n",
            "WARNING:tensorflow:Unable to find a converter for file /content/drive/My Drive/Summer_21/dataset/groove_midi_files/groove/drummer4/session1/Icon\n",
            "W0627 14:03:11.175328 140075429287808 convert_dir_to_note_sequences.py:123] Unable to find a converter for file /content/drive/My Drive/Summer_21/dataset/groove_midi_files/groove/drummer4/session1/Icon\n",
            "INFO:tensorflow:Converting files in '/content/drive/My Drive/Summer_21/dataset/groove_midi_files/groove/drummer3'.\n",
            "I0627 14:03:11.175874 140075429287808 convert_dir_to_note_sequences.py:83] Converting files in '/content/drive/My Drive/Summer_21/dataset/groove_midi_files/groove/drummer3'.\n",
            "WARNING:tensorflow:Unable to find a converter for file /content/drive/My Drive/Summer_21/dataset/groove_midi_files/groove/drummer3/Icon\n",
            "W0627 14:03:11.177895 140075429287808 convert_dir_to_note_sequences.py:123] Unable to find a converter for file /content/drive/My Drive/Summer_21/dataset/groove_midi_files/groove/drummer3/Icon\n",
            "INFO:tensorflow:Converting files in '/content/drive/My Drive/Summer_21/dataset/groove_midi_files/groove/drummer3/session2'.\n",
            "I0627 14:03:11.178042 140075429287808 convert_dir_to_note_sequences.py:83] Converting files in '/content/drive/My Drive/Summer_21/dataset/groove_midi_files/groove/drummer3/session2'.\n",
            "INFO:tensorflow:Converted MIDI file /content/drive/My Drive/Summer_21/dataset/groove_midi_files/groove/drummer3/session2/10_rock_100_beat_4-4.mid.\n",
            "I0627 14:03:11.369629 140075429287808 convert_dir_to_note_sequences.py:153] Converted MIDI file /content/drive/My Drive/Summer_21/dataset/groove_midi_files/groove/drummer3/session2/10_rock_100_beat_4-4.mid.\n",
            "INFO:tensorflow:Converted MIDI file /content/drive/My Drive/Summer_21/dataset/groove_midi_files/groove/drummer3/session2/43_rock_110_beat_4-4.mid.\n",
            "I0627 14:03:11.556450 140075429287808 convert_dir_to_note_sequences.py:153] Converted MIDI file /content/drive/My Drive/Summer_21/dataset/groove_midi_files/groove/drummer3/session2/43_rock_110_beat_4-4.mid.\n",
            "INFO:tensorflow:Converted MIDI file /content/drive/My Drive/Summer_21/dataset/groove_midi_files/groove/drummer3/session2/33_hiphop_92_beat_4-4.mid.\n",
            "I0627 14:03:11.710314 140075429287808 convert_dir_to_note_sequences.py:153] Converted MIDI file /content/drive/My Drive/Summer_21/dataset/groove_midi_files/groove/drummer3/session2/33_hiphop_92_beat_4-4.mid.\n",
            "INFO:tensorflow:Converted MIDI file /content/drive/My Drive/Summer_21/dataset/groove_midi_files/groove/drummer3/session2/18_rock_100_beat_4-4.mid.\n",
            "I0627 14:03:11.896280 140075429287808 convert_dir_to_note_sequences.py:153] Converted MIDI file /content/drive/My Drive/Summer_21/dataset/groove_midi_files/groove/drummer3/session2/18_rock_100_beat_4-4.mid.\n",
            "INFO:tensorflow:Converted MIDI file /content/drive/My Drive/Summer_21/dataset/groove_midi_files/groove/drummer3/session2/41_hiphop_110_beat_4-4.mid.\n",
            "I0627 14:03:12.044598 140075429287808 convert_dir_to_note_sequences.py:153] Converted MIDI file /content/drive/My Drive/Summer_21/dataset/groove_midi_files/groove/drummer3/session2/41_hiphop_110_beat_4-4.mid.\n",
            "INFO:tensorflow:Converted MIDI file /content/drive/My Drive/Summer_21/dataset/groove_midi_files/groove/drummer3/session2/30_rock_92_beat_4-4.mid.\n",
            "I0627 14:03:12.206886 140075429287808 convert_dir_to_note_sequences.py:153] Converted MIDI file /content/drive/My Drive/Summer_21/dataset/groove_midi_files/groove/drummer3/session2/30_rock_92_beat_4-4.mid.\n",
            "INFO:tensorflow:Converted MIDI file /content/drive/My Drive/Summer_21/dataset/groove_midi_files/groove/drummer3/session2/3_rock_100_beat_4-4.mid.\n",
            "I0627 14:03:12.389925 140075429287808 convert_dir_to_note_sequences.py:153] Converted MIDI file /content/drive/My Drive/Summer_21/dataset/groove_midi_files/groove/drummer3/session2/3_rock_100_beat_4-4.mid.\n",
            "INFO:tensorflow:Converted MIDI file /content/drive/My Drive/Summer_21/dataset/groove_midi_files/groove/drummer3/session2/35_rock_92_beat_4-4.mid.\n",
            "I0627 14:03:12.617642 140075429287808 convert_dir_to_note_sequences.py:153] Converted MIDI file /content/drive/My Drive/Summer_21/dataset/groove_midi_files/groove/drummer3/session2/35_rock_92_beat_4-4.mid.\n",
            "INFO:tensorflow:Converted MIDI file /content/drive/My Drive/Summer_21/dataset/groove_midi_files/groove/drummer3/session2/45_rock_110_fill_4-4.mid.\n",
            "I0627 14:03:12.765016 140075429287808 convert_dir_to_note_sequences.py:153] Converted MIDI file /content/drive/My Drive/Summer_21/dataset/groove_midi_files/groove/drummer3/session2/45_rock_110_fill_4-4.mid.\n",
            "INFO:tensorflow:Converted MIDI file /content/drive/My Drive/Summer_21/dataset/groove_midi_files/groove/drummer3/session2/9_rock_100_beat_4-4.mid.\n",
            "I0627 14:03:12.938601 140075429287808 convert_dir_to_note_sequences.py:153] Converted MIDI file /content/drive/My Drive/Summer_21/dataset/groove_midi_files/groove/drummer3/session2/9_rock_100_beat_4-4.mid.\n",
            "INFO:tensorflow:Converted MIDI file /content/drive/My Drive/Summer_21/dataset/groove_midi_files/groove/drummer3/session2/22_rock_92_beat_4-4.mid.\n",
            "I0627 14:03:13.109140 140075429287808 convert_dir_to_note_sequences.py:153] Converted MIDI file /content/drive/My Drive/Summer_21/dataset/groove_midi_files/groove/drummer3/session2/22_rock_92_beat_4-4.mid.\n",
            "INFO:tensorflow:Converted MIDI file /content/drive/My Drive/Summer_21/dataset/groove_midi_files/groove/drummer3/session2/12_rock_100_beat_4-4.mid.\n",
            "I0627 14:03:13.285548 140075429287808 convert_dir_to_note_sequences.py:153] Converted MIDI file /content/drive/My Drive/Summer_21/dataset/groove_midi_files/groove/drummer3/session2/12_rock_100_beat_4-4.mid.\n",
            "INFO:tensorflow:Converted MIDI file /content/drive/My Drive/Summer_21/dataset/groove_midi_files/groove/drummer3/session2/1_rock_100_beat_4-4.mid.\n",
            "I0627 14:03:13.447292 140075429287808 convert_dir_to_note_sequences.py:153] Converted MIDI file /content/drive/My Drive/Summer_21/dataset/groove_midi_files/groove/drummer3/session2/1_rock_100_beat_4-4.mid.\n",
            "INFO:tensorflow:Converted MIDI file /content/drive/My Drive/Summer_21/dataset/groove_midi_files/groove/drummer3/session2/28_rock_92_beat_4-4.mid.\n",
            "I0627 14:03:13.624663 140075429287808 convert_dir_to_note_sequences.py:153] Converted MIDI file /content/drive/My Drive/Summer_21/dataset/groove_midi_files/groove/drummer3/session2/28_rock_92_beat_4-4.mid.\n",
            "INFO:tensorflow:Converted MIDI file /content/drive/My Drive/Summer_21/dataset/groove_midi_files/groove/drummer3/session2/34_rock_92_beat_4-4.mid.\n",
            "I0627 14:03:13.784831 140075429287808 convert_dir_to_note_sequences.py:153] Converted MIDI file /content/drive/My Drive/Summer_21/dataset/groove_midi_files/groove/drummer3/session2/34_rock_92_beat_4-4.mid.\n",
            "INFO:tensorflow:Converted MIDI file /content/drive/My Drive/Summer_21/dataset/groove_midi_files/groove/drummer3/session2/7_rock_100_beat_4-4.mid.\n",
            "I0627 14:03:13.933171 140075429287808 convert_dir_to_note_sequences.py:153] Converted MIDI file /content/drive/My Drive/Summer_21/dataset/groove_midi_files/groove/drummer3/session2/7_rock_100_beat_4-4.mid.\n",
            "INFO:tensorflow:Converted MIDI file /content/drive/My Drive/Summer_21/dataset/groove_midi_files/groove/drummer3/session2/14_rock_100_beat_4-4.mid.\n",
            "I0627 14:03:14.109997 140075429287808 convert_dir_to_note_sequences.py:153] Converted MIDI file /content/drive/My Drive/Summer_21/dataset/groove_midi_files/groove/drummer3/session2/14_rock_100_beat_4-4.mid.\n",
            "INFO:tensorflow:Converted MIDI file /content/drive/My Drive/Summer_21/dataset/groove_midi_files/groove/drummer3/session2/31_hiphop_92_beat_4-4.mid.\n",
            "I0627 14:03:14.303755 140075429287808 convert_dir_to_note_sequences.py:153] Converted MIDI file /content/drive/My Drive/Summer_21/dataset/groove_midi_files/groove/drummer3/session2/31_hiphop_92_beat_4-4.mid.\n",
            "INFO:tensorflow:Converted MIDI file /content/drive/My Drive/Summer_21/dataset/groove_midi_files/groove/drummer3/session2/47_rock_110_beat_4-4.mid.\n",
            "I0627 14:03:14.489584 140075429287808 convert_dir_to_note_sequences.py:153] Converted MIDI file /content/drive/My Drive/Summer_21/dataset/groove_midi_files/groove/drummer3/session2/47_rock_110_beat_4-4.mid.\n",
            "INFO:tensorflow:Converted MIDI file /content/drive/My Drive/Summer_21/dataset/groove_midi_files/groove/drummer3/session2/5_rock_100_beat_4-4.mid.\n",
            "I0627 14:03:14.651569 140075429287808 convert_dir_to_note_sequences.py:153] Converted MIDI file /content/drive/My Drive/Summer_21/dataset/groove_midi_files/groove/drummer3/session2/5_rock_100_beat_4-4.mid.\n",
            "INFO:tensorflow:Converted MIDI file /content/drive/My Drive/Summer_21/dataset/groove_midi_files/groove/drummer3/session2/29_rock_92_beat_4-4.mid.\n",
            "I0627 14:03:14.807391 140075429287808 convert_dir_to_note_sequences.py:153] Converted MIDI file /content/drive/My Drive/Summer_21/dataset/groove_midi_files/groove/drummer3/session2/29_rock_92_beat_4-4.mid.\n",
            "INFO:tensorflow:Converted MIDI file /content/drive/My Drive/Summer_21/dataset/groove_midi_files/groove/drummer3/session2/32_hiphop_92_beat_4-4.mid.\n",
            "I0627 14:03:14.974264 140075429287808 convert_dir_to_note_sequences.py:153] Converted MIDI file /content/drive/My Drive/Summer_21/dataset/groove_midi_files/groove/drummer3/session2/32_hiphop_92_beat_4-4.mid.\n",
            "INFO:tensorflow:Converted MIDI file /content/drive/My Drive/Summer_21/dataset/groove_midi_files/groove/drummer3/session2/23_rock_92_beat_4-4.mid.\n",
            "I0627 14:03:15.130738 140075429287808 convert_dir_to_note_sequences.py:153] Converted MIDI file /content/drive/My Drive/Summer_21/dataset/groove_midi_files/groove/drummer3/session2/23_rock_92_beat_4-4.mid.\n",
            "INFO:tensorflow:Converted MIDI file /content/drive/My Drive/Summer_21/dataset/groove_midi_files/groove/drummer3/session2/27_jazz_92_beat_4-4.mid.\n",
            "I0627 14:03:15.301648 140075429287808 convert_dir_to_note_sequences.py:153] Converted MIDI file /content/drive/My Drive/Summer_21/dataset/groove_midi_files/groove/drummer3/session2/27_jazz_92_beat_4-4.mid.\n",
            "INFO:tensorflow:Converted MIDI file /content/drive/My Drive/Summer_21/dataset/groove_midi_files/groove/drummer3/session2/16_rock_100_beat_4-4.mid.\n",
            "I0627 14:03:15.461541 140075429287808 convert_dir_to_note_sequences.py:153] Converted MIDI file /content/drive/My Drive/Summer_21/dataset/groove_midi_files/groove/drummer3/session2/16_rock_100_beat_4-4.mid.\n",
            "INFO:tensorflow:Converted MIDI file /content/drive/My Drive/Summer_21/dataset/groove_midi_files/groove/drummer3/session2/20_rock_92_beat_4-4.mid.\n",
            "I0627 14:03:15.640391 140075429287808 convert_dir_to_note_sequences.py:153] Converted MIDI file /content/drive/My Drive/Summer_21/dataset/groove_midi_files/groove/drummer3/session2/20_rock_92_beat_4-4.mid.\n",
            "INFO:tensorflow:Converted MIDI file /content/drive/My Drive/Summer_21/dataset/groove_midi_files/groove/drummer3/session2/19_rock_100_beat_4-4.mid.\n",
            "I0627 14:03:15.935461 140075429287808 convert_dir_to_note_sequences.py:153] Converted MIDI file /content/drive/My Drive/Summer_21/dataset/groove_midi_files/groove/drummer3/session2/19_rock_100_beat_4-4.mid.\n",
            "INFO:tensorflow:Converted MIDI file /content/drive/My Drive/Summer_21/dataset/groove_midi_files/groove/drummer3/session2/2_rock_100_beat_4-4.mid.\n",
            "I0627 14:03:16.122566 140075429287808 convert_dir_to_note_sequences.py:153] Converted MIDI file /content/drive/My Drive/Summer_21/dataset/groove_midi_files/groove/drummer3/session2/2_rock_100_beat_4-4.mid.\n",
            "INFO:tensorflow:Converted MIDI file /content/drive/My Drive/Summer_21/dataset/groove_midi_files/groove/drummer3/session2/44_rock_110_fill_4-4.mid.\n",
            "I0627 14:03:16.310709 140075429287808 convert_dir_to_note_sequences.py:153] Converted MIDI file /content/drive/My Drive/Summer_21/dataset/groove_midi_files/groove/drummer3/session2/44_rock_110_fill_4-4.mid.\n",
            "INFO:tensorflow:Converted MIDI file /content/drive/My Drive/Summer_21/dataset/groove_midi_files/groove/drummer3/session2/11_rock_100_beat_4-4.mid.\n",
            "I0627 14:03:16.483502 140075429287808 convert_dir_to_note_sequences.py:153] Converted MIDI file /content/drive/My Drive/Summer_21/dataset/groove_midi_files/groove/drummer3/session2/11_rock_100_beat_4-4.mid.\n",
            "INFO:tensorflow:Converted MIDI file /content/drive/My Drive/Summer_21/dataset/groove_midi_files/groove/drummer3/session2/39_rock_92_fill_4-4.mid.\n",
            "I0627 14:03:16.647467 140075429287808 convert_dir_to_note_sequences.py:153] Converted MIDI file /content/drive/My Drive/Summer_21/dataset/groove_midi_files/groove/drummer3/session2/39_rock_92_fill_4-4.mid.\n",
            "INFO:tensorflow:Converted MIDI file /content/drive/My Drive/Summer_21/dataset/groove_midi_files/groove/drummer3/session2/42_rock_110_beat_4-4.mid.\n",
            "I0627 14:03:16.814976 140075429287808 convert_dir_to_note_sequences.py:153] Converted MIDI file /content/drive/My Drive/Summer_21/dataset/groove_midi_files/groove/drummer3/session2/42_rock_110_beat_4-4.mid.\n",
            "INFO:tensorflow:Converted MIDI file /content/drive/My Drive/Summer_21/dataset/groove_midi_files/groove/drummer3/session2/46_rock_110_fill_4-4.mid.\n",
            "I0627 14:03:17.006344 140075429287808 convert_dir_to_note_sequences.py:153] Converted MIDI file /content/drive/My Drive/Summer_21/dataset/groove_midi_files/groove/drummer3/session2/46_rock_110_fill_4-4.mid.\n",
            "INFO:tensorflow:Converted MIDI file /content/drive/My Drive/Summer_21/dataset/groove_midi_files/groove/drummer3/session2/48_rock_110_beat_4-4.mid.\n",
            "I0627 14:03:17.196291 140075429287808 convert_dir_to_note_sequences.py:153] Converted MIDI file /content/drive/My Drive/Summer_21/dataset/groove_midi_files/groove/drummer3/session2/48_rock_110_beat_4-4.mid.\n",
            "INFO:tensorflow:Converted MIDI file /content/drive/My Drive/Summer_21/dataset/groove_midi_files/groove/drummer3/session2/40_hiphop_110_beat_4-4.mid.\n",
            "I0627 14:03:17.365007 140075429287808 convert_dir_to_note_sequences.py:153] Converted MIDI file /content/drive/My Drive/Summer_21/dataset/groove_midi_files/groove/drummer3/session2/40_hiphop_110_beat_4-4.mid.\n",
            "INFO:tensorflow:Converted MIDI file /content/drive/My Drive/Summer_21/dataset/groove_midi_files/groove/drummer3/session2/38_rock_92_beat_4-4.mid.\n",
            "I0627 14:03:17.615273 140075429287808 convert_dir_to_note_sequences.py:153] Converted MIDI file /content/drive/My Drive/Summer_21/dataset/groove_midi_files/groove/drummer3/session2/38_rock_92_beat_4-4.mid.\n",
            "INFO:tensorflow:Converted MIDI file /content/drive/My Drive/Summer_21/dataset/groove_midi_files/groove/drummer3/session2/37_rock_92_beat_4-4.mid.\n",
            "I0627 14:03:17.782645 140075429287808 convert_dir_to_note_sequences.py:153] Converted MIDI file /content/drive/My Drive/Summer_21/dataset/groove_midi_files/groove/drummer3/session2/37_rock_92_beat_4-4.mid.\n",
            "INFO:tensorflow:Converted MIDI file /content/drive/My Drive/Summer_21/dataset/groove_midi_files/groove/drummer3/session2/8_rock_100_beat_4-4.mid.\n",
            "I0627 14:03:17.944591 140075429287808 convert_dir_to_note_sequences.py:153] Converted MIDI file /content/drive/My Drive/Summer_21/dataset/groove_midi_files/groove/drummer3/session2/8_rock_100_beat_4-4.mid.\n",
            "INFO:tensorflow:Converted MIDI file /content/drive/My Drive/Summer_21/dataset/groove_midi_files/groove/drummer3/session2/13_rock_100_beat_4-4.mid.\n",
            "I0627 14:03:18.126339 140075429287808 convert_dir_to_note_sequences.py:153] Converted MIDI file /content/drive/My Drive/Summer_21/dataset/groove_midi_files/groove/drummer3/session2/13_rock_100_beat_4-4.mid.\n",
            "INFO:tensorflow:Converted MIDI file /content/drive/My Drive/Summer_21/dataset/groove_midi_files/groove/drummer3/session2/15_rock_100_beat_4-4.mid.\n",
            "I0627 14:03:18.284667 140075429287808 convert_dir_to_note_sequences.py:153] Converted MIDI file /content/drive/My Drive/Summer_21/dataset/groove_midi_files/groove/drummer3/session2/15_rock_100_beat_4-4.mid.\n",
            "INFO:tensorflow:Converted MIDI file /content/drive/My Drive/Summer_21/dataset/groove_midi_files/groove/drummer3/session2/25_hiphop_92_beat_4-4.mid.\n",
            "I0627 14:03:18.453547 140075429287808 convert_dir_to_note_sequences.py:153] Converted MIDI file /content/drive/My Drive/Summer_21/dataset/groove_midi_files/groove/drummer3/session2/25_hiphop_92_beat_4-4.mid.\n",
            "INFO:tensorflow:Converted MIDI file /content/drive/My Drive/Summer_21/dataset/groove_midi_files/groove/drummer3/session2/21_rock_92_beat_4-4.mid.\n",
            "I0627 14:03:18.639441 140075429287808 convert_dir_to_note_sequences.py:153] Converted MIDI file /content/drive/My Drive/Summer_21/dataset/groove_midi_files/groove/drummer3/session2/21_rock_92_beat_4-4.mid.\n",
            "INFO:tensorflow:Converted MIDI file /content/drive/My Drive/Summer_21/dataset/groove_midi_files/groove/drummer3/session2/6_rock_100_beat_4-4.mid.\n",
            "I0627 14:03:18.804466 140075429287808 convert_dir_to_note_sequences.py:153] Converted MIDI file /content/drive/My Drive/Summer_21/dataset/groove_midi_files/groove/drummer3/session2/6_rock_100_beat_4-4.mid.\n",
            "INFO:tensorflow:Converted MIDI file /content/drive/My Drive/Summer_21/dataset/groove_midi_files/groove/drummer3/session2/24_rock_92_beat_4-4.mid.\n",
            "I0627 14:03:18.998046 140075429287808 convert_dir_to_note_sequences.py:153] Converted MIDI file /content/drive/My Drive/Summer_21/dataset/groove_midi_files/groove/drummer3/session2/24_rock_92_beat_4-4.mid.\n",
            "INFO:tensorflow:Converted MIDI file /content/drive/My Drive/Summer_21/dataset/groove_midi_files/groove/drummer3/session2/36_rock_92_beat_4-4.mid.\n",
            "I0627 14:03:19.155425 140075429287808 convert_dir_to_note_sequences.py:153] Converted MIDI file /content/drive/My Drive/Summer_21/dataset/groove_midi_files/groove/drummer3/session2/36_rock_92_beat_4-4.mid.\n",
            "INFO:tensorflow:Converted MIDI file /content/drive/My Drive/Summer_21/dataset/groove_midi_files/groove/drummer3/session2/17_rock_100_beat_4-4.mid.\n",
            "I0627 14:03:19.331701 140075429287808 convert_dir_to_note_sequences.py:153] Converted MIDI file /content/drive/My Drive/Summer_21/dataset/groove_midi_files/groove/drummer3/session2/17_rock_100_beat_4-4.mid.\n",
            "INFO:tensorflow:Converted MIDI file /content/drive/My Drive/Summer_21/dataset/groove_midi_files/groove/drummer3/session2/4_rock_100_beat_4-4.mid.\n",
            "I0627 14:03:19.494725 140075429287808 convert_dir_to_note_sequences.py:153] Converted MIDI file /content/drive/My Drive/Summer_21/dataset/groove_midi_files/groove/drummer3/session2/4_rock_100_beat_4-4.mid.\n",
            "INFO:tensorflow:Converted MIDI file /content/drive/My Drive/Summer_21/dataset/groove_midi_files/groove/drummer3/session2/26_hiphop_92_beat_4-4.mid.\n",
            "I0627 14:03:19.646965 140075429287808 convert_dir_to_note_sequences.py:153] Converted MIDI file /content/drive/My Drive/Summer_21/dataset/groove_midi_files/groove/drummer3/session2/26_hiphop_92_beat_4-4.mid.\n",
            "WARNING:tensorflow:Unable to find a converter for file /content/drive/My Drive/Summer_21/dataset/groove_midi_files/groove/drummer3/session2/Icon\n",
            "W0627 14:03:19.648822 140075429287808 convert_dir_to_note_sequences.py:123] Unable to find a converter for file /content/drive/My Drive/Summer_21/dataset/groove_midi_files/groove/drummer3/session2/Icon\n",
            "INFO:tensorflow:Converting files in '/content/drive/My Drive/Summer_21/dataset/groove_midi_files/groove/drummer3/session1'.\n",
            "I0627 14:03:19.649044 140075429287808 convert_dir_to_note_sequences.py:83] Converting files in '/content/drive/My Drive/Summer_21/dataset/groove_midi_files/groove/drummer3/session1'.\n",
            "INFO:tensorflow:Converted MIDI file /content/drive/My Drive/Summer_21/dataset/groove_midi_files/groove/drummer3/session1/27_rock_120_beat_4-4.mid.\n",
            "I0627 14:03:19.826867 140075429287808 convert_dir_to_note_sequences.py:153] Converted MIDI file /content/drive/My Drive/Summer_21/dataset/groove_midi_files/groove/drummer3/session1/27_rock_120_beat_4-4.mid.\n",
            "INFO:tensorflow:Converted MIDI file /content/drive/My Drive/Summer_21/dataset/groove_midi_files/groove/drummer3/session1/49_rock_120_beat_4-4.mid.\n",
            "I0627 14:03:19.994942 140075429287808 convert_dir_to_note_sequences.py:153] Converted MIDI file /content/drive/My Drive/Summer_21/dataset/groove_midi_files/groove/drummer3/session1/49_rock_120_beat_4-4.mid.\n",
            "INFO:tensorflow:Converted MIDI file /content/drive/My Drive/Summer_21/dataset/groove_midi_files/groove/drummer3/session1/19_jazz_120_beat_4-4.mid.\n",
            "I0627 14:03:20.152567 140075429287808 convert_dir_to_note_sequences.py:153] Converted MIDI file /content/drive/My Drive/Summer_21/dataset/groove_midi_files/groove/drummer3/session1/19_jazz_120_beat_4-4.mid.\n",
            "INFO:tensorflow:Converted MIDI file /content/drive/My Drive/Summer_21/dataset/groove_midi_files/groove/drummer3/session1/41_rock_120_beat_4-4.mid.\n",
            "I0627 14:03:20.336403 140075429287808 convert_dir_to_note_sequences.py:153] Converted MIDI file /content/drive/My Drive/Summer_21/dataset/groove_midi_files/groove/drummer3/session1/41_rock_120_beat_4-4.mid.\n",
            "INFO:tensorflow:Converted MIDI file /content/drive/My Drive/Summer_21/dataset/groove_midi_files/groove/drummer3/session1/4_rock_105_beat_4-4.mid.\n",
            "I0627 14:03:20.521512 140075429287808 convert_dir_to_note_sequences.py:153] Converted MIDI file /content/drive/My Drive/Summer_21/dataset/groove_midi_files/groove/drummer3/session1/4_rock_105_beat_4-4.mid.\n",
            "INFO:tensorflow:Converted MIDI file /content/drive/My Drive/Summer_21/dataset/groove_midi_files/groove/drummer3/session1/23_jazz_120_beat_4-4.mid.\n",
            "I0627 14:03:20.665313 140075429287808 convert_dir_to_note_sequences.py:153] Converted MIDI file /content/drive/My Drive/Summer_21/dataset/groove_midi_files/groove/drummer3/session1/23_jazz_120_beat_4-4.mid.\n",
            "INFO:tensorflow:Converted MIDI file /content/drive/My Drive/Summer_21/dataset/groove_midi_files/groove/drummer3/session1/8_jazz_105_beat_4-4.mid.\n",
            "I0627 14:03:20.825787 140075429287808 convert_dir_to_note_sequences.py:153] Converted MIDI file /content/drive/My Drive/Summer_21/dataset/groove_midi_files/groove/drummer3/session1/8_jazz_105_beat_4-4.mid.\n",
            "INFO:tensorflow:Converted MIDI file /content/drive/My Drive/Summer_21/dataset/groove_midi_files/groove/drummer3/session1/25_rock_120_beat_4-4.mid.\n",
            "I0627 14:03:21.054659 140075429287808 convert_dir_to_note_sequences.py:153] Converted MIDI file /content/drive/My Drive/Summer_21/dataset/groove_midi_files/groove/drummer3/session1/25_rock_120_beat_4-4.mid.\n",
            "INFO:tensorflow:Converted MIDI file /content/drive/My Drive/Summer_21/dataset/groove_midi_files/groove/drummer3/session1/21_jazz_120_beat_4-4.mid.\n",
            "I0627 14:03:21.218774 140075429287808 convert_dir_to_note_sequences.py:153] Converted MIDI file /content/drive/My Drive/Summer_21/dataset/groove_midi_files/groove/drummer3/session1/21_jazz_120_beat_4-4.mid.\n",
            "INFO:tensorflow:Converted MIDI file /content/drive/My Drive/Summer_21/dataset/groove_midi_files/groove/drummer3/session1/6_rock_105_beat_4-4.mid.\n",
            "I0627 14:03:21.373697 140075429287808 convert_dir_to_note_sequences.py:153] Converted MIDI file /content/drive/My Drive/Summer_21/dataset/groove_midi_files/groove/drummer3/session1/6_rock_105_beat_4-4.mid.\n",
            "INFO:tensorflow:Converted MIDI file /content/drive/My Drive/Summer_21/dataset/groove_midi_files/groove/drummer3/session1/43_rock_120_beat_4-4.mid.\n",
            "I0627 14:03:21.521553 140075429287808 convert_dir_to_note_sequences.py:153] Converted MIDI file /content/drive/My Drive/Summer_21/dataset/groove_midi_files/groove/drummer3/session1/43_rock_120_beat_4-4.mid.\n",
            "INFO:tensorflow:Converted MIDI file /content/drive/My Drive/Summer_21/dataset/groove_midi_files/groove/drummer3/session1/45_rock_120_beat_4-4.mid.\n",
            "I0627 14:03:21.696045 140075429287808 convert_dir_to_note_sequences.py:153] Converted MIDI file /content/drive/My Drive/Summer_21/dataset/groove_midi_files/groove/drummer3/session1/45_rock_120_beat_4-4.mid.\n",
            "INFO:tensorflow:Converted MIDI file /content/drive/My Drive/Summer_21/dataset/groove_midi_files/groove/drummer3/session1/31_jazz_120_beat_4-4.mid.\n",
            "I0627 14:03:21.881697 140075429287808 convert_dir_to_note_sequences.py:153] Converted MIDI file /content/drive/My Drive/Summer_21/dataset/groove_midi_files/groove/drummer3/session1/31_jazz_120_beat_4-4.mid.\n",
            "INFO:tensorflow:Converted MIDI file /content/drive/My Drive/Summer_21/dataset/groove_midi_files/groove/drummer3/session1/11_rock_120_beat_4-4.mid.\n",
            "I0627 14:03:22.039216 140075429287808 convert_dir_to_note_sequences.py:153] Converted MIDI file /content/drive/My Drive/Summer_21/dataset/groove_midi_files/groove/drummer3/session1/11_rock_120_beat_4-4.mid.\n",
            "INFO:tensorflow:Converted MIDI file /content/drive/My Drive/Summer_21/dataset/groove_midi_files/groove/drummer3/session1/15_jazz_120_beat_4-4.mid.\n",
            "I0627 14:03:22.222036 140075429287808 convert_dir_to_note_sequences.py:153] Converted MIDI file /content/drive/My Drive/Summer_21/dataset/groove_midi_files/groove/drummer3/session1/15_jazz_120_beat_4-4.mid.\n",
            "INFO:tensorflow:Converted MIDI file /content/drive/My Drive/Summer_21/dataset/groove_midi_files/groove/drummer3/session1/35_rock_120_beat_4-4.mid.\n",
            "I0627 14:03:22.396305 140075429287808 convert_dir_to_note_sequences.py:153] Converted MIDI file /content/drive/My Drive/Summer_21/dataset/groove_midi_files/groove/drummer3/session1/35_rock_120_beat_4-4.mid.\n",
            "INFO:tensorflow:Converted MIDI file /content/drive/My Drive/Summer_21/dataset/groove_midi_files/groove/drummer3/session1/39_jazz_120_beat_4-4.mid.\n",
            "I0627 14:03:22.602980 140075429287808 convert_dir_to_note_sequences.py:153] Converted MIDI file /content/drive/My Drive/Summer_21/dataset/groove_midi_files/groove/drummer3/session1/39_jazz_120_beat_4-4.mid.\n",
            "INFO:tensorflow:Converted MIDI file /content/drive/My Drive/Summer_21/dataset/groove_midi_files/groove/drummer3/session1/13_rock_120_beat_4-4.mid.\n",
            "I0627 14:03:22.776442 140075429287808 convert_dir_to_note_sequences.py:153] Converted MIDI file /content/drive/My Drive/Summer_21/dataset/groove_midi_files/groove/drummer3/session1/13_rock_120_beat_4-4.mid.\n",
            "INFO:tensorflow:Converted MIDI file /content/drive/My Drive/Summer_21/dataset/groove_midi_files/groove/drummer3/session1/33_jazz_120_beat_4-4.mid.\n",
            "I0627 14:03:22.965933 140075429287808 convert_dir_to_note_sequences.py:153] Converted MIDI file /content/drive/My Drive/Summer_21/dataset/groove_midi_files/groove/drummer3/session1/33_jazz_120_beat_4-4.mid.\n",
            "INFO:tensorflow:Converted MIDI file /content/drive/My Drive/Summer_21/dataset/groove_midi_files/groove/drummer3/session1/47_rock_120_beat_4-4.mid.\n",
            "I0627 14:03:23.130846 140075429287808 convert_dir_to_note_sequences.py:153] Converted MIDI file /content/drive/My Drive/Summer_21/dataset/groove_midi_files/groove/drummer3/session1/47_rock_120_beat_4-4.mid.\n",
            "INFO:tensorflow:Converted MIDI file /content/drive/My Drive/Summer_21/dataset/groove_midi_files/groove/drummer3/session1/29_rock_120_beat_4-4.mid.\n",
            "I0627 14:03:23.295241 140075429287808 convert_dir_to_note_sequences.py:153] Converted MIDI file /content/drive/My Drive/Summer_21/dataset/groove_midi_files/groove/drummer3/session1/29_rock_120_beat_4-4.mid.\n",
            "INFO:tensorflow:Converted MIDI file /content/drive/My Drive/Summer_21/dataset/groove_midi_files/groove/drummer3/session1/2_rock_105_beat_4-4.mid.\n",
            "I0627 14:03:23.467325 140075429287808 convert_dir_to_note_sequences.py:153] Converted MIDI file /content/drive/My Drive/Summer_21/dataset/groove_midi_files/groove/drummer3/session1/2_rock_105_beat_4-4.mid.\n",
            "INFO:tensorflow:Converted MIDI file /content/drive/My Drive/Summer_21/dataset/groove_midi_files/groove/drummer3/session1/37_rock_120_beat_4-4.mid.\n",
            "I0627 14:03:23.651514 140075429287808 convert_dir_to_note_sequences.py:153] Converted MIDI file /content/drive/My Drive/Summer_21/dataset/groove_midi_files/groove/drummer3/session1/37_rock_120_beat_4-4.mid.\n",
            "INFO:tensorflow:Converted MIDI file /content/drive/My Drive/Summer_21/dataset/groove_midi_files/groove/drummer3/session1/17_jazz_120_beat_4-4.mid.\n",
            "I0627 14:03:23.809120 140075429287808 convert_dir_to_note_sequences.py:153] Converted MIDI file /content/drive/My Drive/Summer_21/dataset/groove_midi_files/groove/drummer3/session1/17_jazz_120_beat_4-4.mid.\n",
            "INFO:tensorflow:Converted MIDI file /content/drive/My Drive/Summer_21/dataset/groove_midi_files/groove/drummer3/session1/40_rock_120_beat_4-4.mid.\n",
            "I0627 14:03:24.002791 140075429287808 convert_dir_to_note_sequences.py:153] Converted MIDI file /content/drive/My Drive/Summer_21/dataset/groove_midi_files/groove/drummer3/session1/40_rock_120_beat_4-4.mid.\n",
            "INFO:tensorflow:Converted MIDI file /content/drive/My Drive/Summer_21/dataset/groove_midi_files/groove/drummer3/session1/5_rock_105_beat_4-4.mid.\n",
            "I0627 14:03:24.173848 140075429287808 convert_dir_to_note_sequences.py:153] Converted MIDI file /content/drive/My Drive/Summer_21/dataset/groove_midi_files/groove/drummer3/session1/5_rock_105_beat_4-4.mid.\n",
            "INFO:tensorflow:Converted MIDI file /content/drive/My Drive/Summer_21/dataset/groove_midi_files/groove/drummer3/session1/38_rock_120_beat_4-4.mid.\n",
            "I0627 14:03:24.333539 140075429287808 convert_dir_to_note_sequences.py:153] Converted MIDI file /content/drive/My Drive/Summer_21/dataset/groove_midi_files/groove/drummer3/session1/38_rock_120_beat_4-4.mid.\n",
            "INFO:tensorflow:Converted MIDI file /content/drive/My Drive/Summer_21/dataset/groove_midi_files/groove/drummer3/session1/14_rock_120_beat_4-4.mid.\n",
            "I0627 14:03:24.505121 140075429287808 convert_dir_to_note_sequences.py:153] Converted MIDI file /content/drive/My Drive/Summer_21/dataset/groove_midi_files/groove/drummer3/session1/14_rock_120_beat_4-4.mid.\n",
            "INFO:tensorflow:Converted MIDI file /content/drive/My Drive/Summer_21/dataset/groove_midi_files/groove/drummer3/session1/22_jazz_120_beat_4-4.mid.\n",
            "I0627 14:03:24.671029 140075429287808 convert_dir_to_note_sequences.py:153] Converted MIDI file /content/drive/My Drive/Summer_21/dataset/groove_midi_files/groove/drummer3/session1/22_jazz_120_beat_4-4.mid.\n",
            "INFO:tensorflow:Converted MIDI file /content/drive/My Drive/Summer_21/dataset/groove_midi_files/groove/drummer3/session1/30_rock_120_beat_4-4.mid.\n",
            "I0627 14:03:24.838428 140075429287808 convert_dir_to_note_sequences.py:153] Converted MIDI file /content/drive/My Drive/Summer_21/dataset/groove_midi_files/groove/drummer3/session1/30_rock_120_beat_4-4.mid.\n",
            "INFO:tensorflow:Converted MIDI file /content/drive/My Drive/Summer_21/dataset/groove_midi_files/groove/drummer3/session1/48_rock_120_beat_4-4.mid.\n",
            "I0627 14:03:24.989699 140075429287808 convert_dir_to_note_sequences.py:153] Converted MIDI file /content/drive/My Drive/Summer_21/dataset/groove_midi_files/groove/drummer3/session1/48_rock_120_beat_4-4.mid.\n",
            "INFO:tensorflow:Converted MIDI file /content/drive/My Drive/Summer_21/dataset/groove_midi_files/groove/drummer3/session1/26_rock_120_beat_4-4.mid.\n",
            "I0627 14:03:25.159237 140075429287808 convert_dir_to_note_sequences.py:153] Converted MIDI file /content/drive/My Drive/Summer_21/dataset/groove_midi_files/groove/drummer3/session1/26_rock_120_beat_4-4.mid.\n",
            "INFO:tensorflow:Converted MIDI file /content/drive/My Drive/Summer_21/dataset/groove_midi_files/groove/drummer3/session1/7_rock_105_beat_4-4.mid.\n",
            "I0627 14:03:25.337525 140075429287808 convert_dir_to_note_sequences.py:153] Converted MIDI file /content/drive/My Drive/Summer_21/dataset/groove_midi_files/groove/drummer3/session1/7_rock_105_beat_4-4.mid.\n",
            "INFO:tensorflow:Converted MIDI file /content/drive/My Drive/Summer_21/dataset/groove_midi_files/groove/drummer3/session1/42_rock_120_beat_4-4.mid.\n",
            "I0627 14:03:25.512788 140075429287808 convert_dir_to_note_sequences.py:153] Converted MIDI file /content/drive/My Drive/Summer_21/dataset/groove_midi_files/groove/drummer3/session1/42_rock_120_beat_4-4.mid.\n",
            "INFO:tensorflow:Converted MIDI file /content/drive/My Drive/Summer_21/dataset/groove_midi_files/groove/drummer3/session1/24_rock_120_beat_4-4.mid.\n",
            "I0627 14:03:25.679412 140075429287808 convert_dir_to_note_sequences.py:153] Converted MIDI file /content/drive/My Drive/Summer_21/dataset/groove_midi_files/groove/drummer3/session1/24_rock_120_beat_4-4.mid.\n",
            "INFO:tensorflow:Converted MIDI file /content/drive/My Drive/Summer_21/dataset/groove_midi_files/groove/drummer3/session1/34_rock_120_beat_4-4.mid.\n",
            "I0627 14:03:25.841214 140075429287808 convert_dir_to_note_sequences.py:153] Converted MIDI file /content/drive/My Drive/Summer_21/dataset/groove_midi_files/groove/drummer3/session1/34_rock_120_beat_4-4.mid.\n",
            "INFO:tensorflow:Converted MIDI file /content/drive/My Drive/Summer_21/dataset/groove_midi_files/groove/drummer3/session1/9_rock_105_beat_4-4.mid.\n",
            "I0627 14:03:26.039214 140075429287808 convert_dir_to_note_sequences.py:153] Converted MIDI file /content/drive/My Drive/Summer_21/dataset/groove_midi_files/groove/drummer3/session1/9_rock_105_beat_4-4.mid.\n",
            "INFO:tensorflow:Converted MIDI file /content/drive/My Drive/Summer_21/dataset/groove_midi_files/groove/drummer3/session1/18_rock_120_beat_4-4.mid.\n",
            "I0627 14:03:26.245898 140075429287808 convert_dir_to_note_sequences.py:153] Converted MIDI file /content/drive/My Drive/Summer_21/dataset/groove_midi_files/groove/drummer3/session1/18_rock_120_beat_4-4.mid.\n",
            "INFO:tensorflow:Converted MIDI file /content/drive/My Drive/Summer_21/dataset/groove_midi_files/groove/drummer3/session1/1_rock_105_beat_4-4.mid.\n",
            "I0627 14:03:26.434119 140075429287808 convert_dir_to_note_sequences.py:153] Converted MIDI file /content/drive/My Drive/Summer_21/dataset/groove_midi_files/groove/drummer3/session1/1_rock_105_beat_4-4.mid.\n",
            "INFO:tensorflow:Converted MIDI file /content/drive/My Drive/Summer_21/dataset/groove_midi_files/groove/drummer3/session1/44_rock_120_beat_4-4.mid.\n",
            "I0627 14:03:26.586399 140075429287808 convert_dir_to_note_sequences.py:153] Converted MIDI file /content/drive/My Drive/Summer_21/dataset/groove_midi_files/groove/drummer3/session1/44_rock_120_beat_4-4.mid.\n",
            "INFO:tensorflow:Converted MIDI file /content/drive/My Drive/Summer_21/dataset/groove_midi_files/groove/drummer3/session1/10_rock_105_beat_4-4.mid.\n",
            "I0627 14:03:26.761140 140075429287808 convert_dir_to_note_sequences.py:153] Converted MIDI file /content/drive/My Drive/Summer_21/dataset/groove_midi_files/groove/drummer3/session1/10_rock_105_beat_4-4.mid.\n",
            "INFO:tensorflow:Converted MIDI file /content/drive/My Drive/Summer_21/dataset/groove_midi_files/groove/drummer3/session1/36_rock_120_beat_4-4.mid.\n",
            "I0627 14:03:26.935921 140075429287808 convert_dir_to_note_sequences.py:153] Converted MIDI file /content/drive/My Drive/Summer_21/dataset/groove_midi_files/groove/drummer3/session1/36_rock_120_beat_4-4.mid.\n",
            "INFO:tensorflow:Converted MIDI file /content/drive/My Drive/Summer_21/dataset/groove_midi_files/groove/drummer3/session1/16_jazz_120_beat_4-4.mid.\n",
            "I0627 14:03:27.111880 140075429287808 convert_dir_to_note_sequences.py:153] Converted MIDI file /content/drive/My Drive/Summer_21/dataset/groove_midi_files/groove/drummer3/session1/16_jazz_120_beat_4-4.mid.\n",
            "INFO:tensorflow:Converted MIDI file /content/drive/My Drive/Summer_21/dataset/groove_midi_files/groove/drummer3/session1/20_rock_120_beat_4-4.mid.\n",
            "I0627 14:03:27.319420 140075429287808 convert_dir_to_note_sequences.py:153] Converted MIDI file /content/drive/My Drive/Summer_21/dataset/groove_midi_files/groove/drummer3/session1/20_rock_120_beat_4-4.mid.\n",
            "INFO:tensorflow:Converted MIDI file /content/drive/My Drive/Summer_21/dataset/groove_midi_files/groove/drummer3/session1/12_rock_120_beat_4-4.mid.\n",
            "I0627 14:03:27.487784 140075429287808 convert_dir_to_note_sequences.py:153] Converted MIDI file /content/drive/My Drive/Summer_21/dataset/groove_midi_files/groove/drummer3/session1/12_rock_120_beat_4-4.mid.\n",
            "INFO:tensorflow:Converted MIDI file /content/drive/My Drive/Summer_21/dataset/groove_midi_files/groove/drummer3/session1/32_jazz_120_beat_4-4.mid.\n",
            "I0627 14:03:27.664211 140075429287808 convert_dir_to_note_sequences.py:153] Converted MIDI file /content/drive/My Drive/Summer_21/dataset/groove_midi_files/groove/drummer3/session1/32_jazz_120_beat_4-4.mid.\n",
            "INFO:tensorflow:Converted MIDI file /content/drive/My Drive/Summer_21/dataset/groove_midi_files/groove/drummer3/session1/28_rock_120_beat_4-4.mid.\n",
            "I0627 14:03:27.823870 140075429287808 convert_dir_to_note_sequences.py:153] Converted MIDI file /content/drive/My Drive/Summer_21/dataset/groove_midi_files/groove/drummer3/session1/28_rock_120_beat_4-4.mid.\n",
            "INFO:tensorflow:Converted MIDI file /content/drive/My Drive/Summer_21/dataset/groove_midi_files/groove/drummer3/session1/46_rock_120_beat_4-4.mid.\n",
            "I0627 14:03:27.993453 140075429287808 convert_dir_to_note_sequences.py:153] Converted MIDI file /content/drive/My Drive/Summer_21/dataset/groove_midi_files/groove/drummer3/session1/46_rock_120_beat_4-4.mid.\n",
            "INFO:tensorflow:Converted MIDI file /content/drive/My Drive/Summer_21/dataset/groove_midi_files/groove/drummer3/session1/3_rock_105_beat_4-4.mid.\n",
            "I0627 14:03:28.157890 140075429287808 convert_dir_to_note_sequences.py:153] Converted MIDI file /content/drive/My Drive/Summer_21/dataset/groove_midi_files/groove/drummer3/session1/3_rock_105_beat_4-4.mid.\n",
            "INFO:tensorflow:Converted MIDI file /content/drive/My Drive/Summer_21/dataset/groove_midi_files/groove/drummer3/session1/50_rock_120_beat_4-4.mid.\n",
            "I0627 14:03:28.316870 140075429287808 convert_dir_to_note_sequences.py:153] Converted MIDI file /content/drive/My Drive/Summer_21/dataset/groove_midi_files/groove/drummer3/session1/50_rock_120_beat_4-4.mid.\n",
            "WARNING:tensorflow:Unable to find a converter for file /content/drive/My Drive/Summer_21/dataset/groove_midi_files/groove/drummer3/session1/Icon\n",
            "W0627 14:03:28.317863 140075429287808 convert_dir_to_note_sequences.py:123] Unable to find a converter for file /content/drive/My Drive/Summer_21/dataset/groove_midi_files/groove/drummer3/session1/Icon\n"
          ],
          "name": "stdout"
        }
      ]
    },
    {
      "cell_type": "code",
      "metadata": {
        "id": "68WhEWwNg6W1"
      },
      "source": [
        "# import tensorflow.compat.v2 as tf\n",
        "import tensorflow_datasets as tfds\n",
        "import os\n",
        "\n",
        "from magenta.models.music_vae import configs\n",
        "from magenta.models.music_vae import data\n",
        "import tensorflow.compat.v1 as tf\n",
        "import tf_slim"
      ],
      "execution_count": null,
      "outputs": []
    },
    {
      "cell_type": "code",
      "metadata": {
        "id": "g2owcDb0edTZ"
      },
      "source": [
        "flags = tf.app.flags\n",
        "FLAGS = flags.FLAGS\n",
        "# Should not be called from **within** the graph to avoid redundant summaries.\n",
        "def _trial_summary(hparams, examples_path, output_dir):\n",
        "  \"\"\"Writes a tensorboard text summary of the trial.\"\"\"\n",
        "  examples_path_summary = tf.summary.text(\n",
        "      'examples_path', tf.constant(examples_path, name='examples_path'),\n",
        "      collections=[])\n",
        "\n",
        "  hparams_dict = hparams.values()\n",
        "\n",
        "  # Create a markdown table from hparams.\n",
        "  header = '| Key | Value |\\n| :--- | :--- |\\n'\n",
        "  keys = sorted(hparams_dict.keys())\n",
        "  lines = ['| %s | %s |' % (key, str(hparams_dict[key])) for key in keys]\n",
        "  hparams_table = header + '\\n'.join(lines) + '\\n'\n",
        "\n",
        "  hparam_summary = tf.summary.text(\n",
        "      'hparams', tf.constant(hparams_table, name='hparams'), collections=[])\n",
        "\n",
        "  with tf.Session() as sess:\n",
        "    writer = tf.summary.FileWriter(output_dir, graph=sess.graph)\n",
        "    writer.add_summary(examples_path_summary.eval())\n",
        "    writer.add_summary(hparam_summary.eval())\n",
        "    writer.close()\n",
        "\n",
        "def _get_input_tensors(dataset, config):\n",
        "  \"\"\"Get input tensors from dataset.\"\"\"\n",
        "  batch_size = config.hparams.batch_size\n",
        "  iterator = tf.data.make_one_shot_iterator(dataset)\n",
        "  (input_sequence, output_sequence, control_sequence,\n",
        "   sequence_length) = iterator.get_next()\n",
        "  input_sequence.set_shape(\n",
        "      [batch_size, None, config.data_converter.input_depth])\n",
        "  output_sequence.set_shape(\n",
        "      [batch_size, None, config.data_converter.output_depth])\n",
        "  if not config.data_converter.control_depth:\n",
        "    control_sequence = None\n",
        "  else:\n",
        "    control_sequence.set_shape(\n",
        "        [batch_size, None, config.data_converter.control_depth])\n",
        "  sequence_length.set_shape([batch_size] + sequence_length.shape[1:].as_list())\n",
        "\n",
        "  return {\n",
        "      'input_sequence': input_sequence,\n",
        "      'output_sequence': output_sequence,\n",
        "      'control_sequence': control_sequence,\n",
        "      'sequence_length': sequence_length\n",
        "  }"
      ],
      "execution_count": null,
      "outputs": []
    },
    {
      "cell_type": "code",
      "metadata": {
        "id": "JvLXVS63vZuG"
      },
      "source": [
        "def train(train_dir, config, dataset_fn, checkpoints_to_keep=5, keep_checkpoint_every_n_hours=1, num_steps=None,\n",
        "          master='', num_sync_workers=0, num_ps_tasks=0, task=0):\n",
        "  \"\"\"\n",
        "  Args:\n",
        "     train_dir: where the logs are stored \n",
        "     config: \n",
        "     dataset_fn: TensorFlow Datasets dataset name to use. Overrides the config.\n",
        "     checkpoints_to_keep: Maximum number of checkpoints to keep in `train` mode or 0 for infinite.\n",
        "     keep_checkpoint_every_n_hours: Every N hours a checkpoint would be saved and will not be deleted or overwritten.\n",
        "     num_steps: Number of training steps or `None` for infinite.\n",
        "     master: \n",
        "     num_sync_workers: Training on multiple gpu \n",
        "     num_ps_tasks:  Number of tasks for the `ps` job. 0 to not use replicas.\n",
        "     task: The task number of this worker.\n",
        "  \"\"\"\n",
        "  tf.gfile.MakeDirs(train_dir)\n",
        "  is_chief = (task == 0) #True \n",
        "  if is_chief:\n",
        "    _trial_summary(\n",
        "        config.hparams, config.train_examples_path or config.tfds_name,\n",
        "        train_dir)\n",
        "  with tf.Graph().as_default():\n",
        "    with tf.device(tf.train.replica_device_setter(\n",
        "        num_ps_tasks, merge_devices=True)):\n",
        "      #model + optimizer \n",
        "      model = config.model\n",
        "      model.build(config.hparams,\n",
        "                  config.data_converter.output_depth,\n",
        "                  is_training=True)\n",
        "\n",
        "      optimizer = model.train(**_get_input_tensors(dataset_fn(), config))\n",
        "\n",
        "      hooks = []\n",
        "      #False -> Skip \n",
        "      if num_sync_workers:\n",
        "        optimizer = tf.train.SyncReplicasOptimizer(\n",
        "            optimizer,\n",
        "            num_sync_workers)\n",
        "        hooks.append(optimizer.make_session_run_hook(is_chief))\n",
        "      #backward \n",
        "      grads, var_list = list(zip(*optimizer.compute_gradients(model.loss)))\n",
        "      global_norm = tf.global_norm(grads)\n",
        "      tf.summary.scalar('global_norm', global_norm)\n",
        "\n",
        "      if config.hparams.clip_mode == 'value':\n",
        "        g = config.hparams.grad_clip\n",
        "        clipped_grads = [tf.clip_by_value(grad, -g, g) for grad in grads]\n",
        "      elif config.hparams.clip_mode == 'global_norm':\n",
        "        clipped_grads = tf.cond(\n",
        "            global_norm < config.hparams.grad_norm_clip_to_zero,\n",
        "            lambda: tf.clip_by_global_norm(  # pylint:disable=g-long-lambda\n",
        "                grads, config.hparams.grad_clip, use_norm=global_norm)[0],\n",
        "            lambda: [tf.zeros(tf.shape(g)) for g in grads])\n",
        "      else:\n",
        "        raise ValueError(\n",
        "            'Unknown clip_mode: {}'.format(config.hparams.clip_mode))\n",
        "        \n",
        "      train_op = optimizer.apply_gradients(\n",
        "          list(zip(clipped_grads, var_list)),\n",
        "          global_step=model.global_step,\n",
        "          name='train_step')\n",
        "      #Loss \n",
        "      logging_dict = {'global_step': model.global_step,\n",
        "                      'loss': model.loss}\n",
        "\n",
        "      hooks.append(tf.train.LoggingTensorHook(logging_dict, every_n_iter=100))\n",
        "      if num_steps:\n",
        "        hooks.append(tf.train.StopAtStepHook(last_step=num_steps))\n",
        "\n",
        "      scaffold = tf.train.Scaffold(\n",
        "          saver=tf.train.Saver(\n",
        "              max_to_keep=checkpoints_to_keep,\n",
        "              keep_checkpoint_every_n_hours=keep_checkpoint_every_n_hours))\n",
        "      tf_slim.training.train(\n",
        "          train_op=train_op,\n",
        "          logdir=train_dir,\n",
        "          scaffold=scaffold,\n",
        "          hooks=hooks,\n",
        "          save_checkpoint_secs=60,\n",
        "          master=master,\n",
        "          is_chief=is_chief)\n"
      ],
      "execution_count": null,
      "outputs": []
    },
    {
      "cell_type": "code",
      "metadata": {
        "id": "8xOX5BFByHbH"
      },
      "source": [
        "def evaluate(train_dir,\n",
        "             eval_dir,\n",
        "             config,\n",
        "             dataset_fn,\n",
        "             num_batches,\n",
        "             master=''):\n",
        "  \"\"\"Evaluate the model repeatedly.\"\"\"\n",
        "  tf.gfile.MakeDirs(eval_dir)\n",
        "\n",
        "  _trial_summary(\n",
        "      config.hparams, config.eval_examples_path or config.tfds_name, eval_dir)\n",
        "  with tf.Graph().as_default():\n",
        "    model = config.model\n",
        "    model.build(config.hparams,\n",
        "                config.data_converter.output_depth,\n",
        "                is_training=False)\n",
        "\n",
        "    eval_op = model.eval(\n",
        "        **_get_input_tensors(dataset_fn().take(num_batches), config))\n",
        "\n",
        "    hooks = [\n",
        "        tf_slim.evaluation.StopAfterNEvalsHook(num_batches),\n",
        "        tf_slim.evaluation.SummaryAtEndHook(eval_dir)\n",
        "    ]\n",
        "    tf_slim.evaluation.evaluate_repeatedly(\n",
        "        train_dir,\n",
        "        eval_ops=eval_op,\n",
        "        hooks=hooks,\n",
        "        eval_interval_secs=60,\n",
        "        master=master)"
      ],
      "execution_count": null,
      "outputs": []
    },
    {
      "cell_type": "code",
      "metadata": {
        "id": "6-_KUdJ5yKfN"
      },
      "source": [
        "def run(config_map,\n",
        "        tf_file_reader=tf.data.TFRecordDataset,\n",
        "        file_reader=tf.python_io.tf_record_iterator):\n",
        "  \"\"\"Load model params, save config file and start trainer.\n",
        "  Args:\n",
        "    config_map: Dictionary mapping configuration name to Config object.\n",
        "    tf_file_reader: The tf.data.Dataset class to use for reading files.\n",
        "    file_reader: The Python reader to use for reading files.\n",
        "  Raises:\n",
        "    ValueError: if required flags are missing or invalid.\n",
        "  \"\"\"\n",
        "  if not FLAGS.run_dir:\n",
        "    raise ValueError('Invalid run directory: %s' % FLAGS.run_dir)\n",
        "  run_dir = os.path.expanduser(FLAGS.run_dir)\n",
        "  train_dir = os.path.join(run_dir, 'train')\n",
        "\n",
        "  if FLAGS.mode not in ['train', 'eval']:\n",
        "    raise ValueError('Invalid mode: %s' % FLAGS.mode)\n",
        "\n",
        "  if FLAGS.config not in config_map:\n",
        "    raise ValueError('Invalid config: %s' % FLAGS.config)\n",
        "  config = config_map[FLAGS.config]\n",
        "  if FLAGS.hparams:\n",
        "    config.hparams.parse(FLAGS.hparams)\n",
        "  config_update_map = {}\n",
        "  if FLAGS.examples_path:\n",
        "    config_update_map['%s_examples_path' % FLAGS.mode] = os.path.expanduser(\n",
        "        FLAGS.examples_path)\n",
        "  if FLAGS.tfds_name:\n",
        "    if FLAGS.examples_path:\n",
        "      raise ValueError(\n",
        "          'At most one of --examples_path and --tfds_name can be set.')\n",
        "    config_update_map['tfds_name'] = FLAGS.tfds_name\n",
        "    config_update_map['eval_examples_path'] = None\n",
        "    config_update_map['train_examples_path'] = None\n",
        "  config = configs.update_config(config, config_update_map)\n",
        "  if FLAGS.num_sync_workers:\n",
        "    config.hparams.batch_size //= FLAGS.num_sync_workers\n",
        "\n",
        "  if FLAGS.mode == 'train':\n",
        "    is_training = True\n",
        "  elif FLAGS.mode == 'eval':\n",
        "    is_training = False\n",
        "  else:\n",
        "    raise ValueError('Invalid mode: {}'.format(FLAGS.mode))\n",
        "\n",
        "  def dataset_fn():\n",
        "    return data.get_dataset(\n",
        "        config,\n",
        "        tf_file_reader=tf_file_reader,\n",
        "        is_training=is_training,\n",
        "        cache_dataset=FLAGS.cache_dataset)\n",
        "\n",
        "  if is_training:\n",
        "    train(\n",
        "        train_dir,\n",
        "        config=config,\n",
        "        dataset_fn=dataset_fn,\n",
        "        checkpoints_to_keep=FLAGS.checkpoints_to_keep,\n",
        "        keep_checkpoint_every_n_hours=FLAGS.keep_checkpoint_every_n_hours,\n",
        "        num_steps=FLAGS.num_steps,\n",
        "        master=FLAGS.master,\n",
        "        num_sync_workers=FLAGS.num_sync_workers,\n",
        "        num_ps_tasks=FLAGS.num_ps_tasks,\n",
        "        task=FLAGS.task)\n",
        "  else:\n",
        "    num_batches = FLAGS.eval_num_batches or data.count_examples(\n",
        "        config.eval_examples_path,\n",
        "        config.tfds_name,\n",
        "        config.data_converter,\n",
        "        file_reader) // config.hparams.batch_size\n",
        "    eval_dir = os.path.join(run_dir, 'eval' + FLAGS.eval_dir_suffix)\n",
        "    evaluate(\n",
        "        train_dir,\n",
        "        eval_dir,\n",
        "        config=config,\n",
        "        dataset_fn=dataset_fn,\n",
        "        num_batches=num_batches,\n",
        "        master=FLAGS.master)"
      ],
      "execution_count": null,
      "outputs": []
    },
    {
      "cell_type": "code",
      "metadata": {
        "colab": {
          "base_uri": "https://localhost:8080/"
        },
        "id": "9HBr6iF_yZyK",
        "outputId": "382de6c3-9dac-4255-a8dc-55413a3c18f9"
      },
      "source": [
        "flags.DEFINE_string(\n",
        "    'master', '',\n",
        "    'The TensorFlow master to use.')\n",
        "flags.DEFINE_string(\n",
        "    'examples_path', None,\n",
        "    'Path to a TFRecord file of NoteSequence examples. Overrides the config.')\n",
        "flags.DEFINE_string(\n",
        "    'tfds_name', 'groove/2bar-midionly',\n",
        "    'TensorFlow Datasets dataset name to use. Overrides the config.')\n",
        "flags.DEFINE_string(\n",
        "    'run_dir', '/content/drive/My Drive/Summer_21/',\n",
        "    'Path where checkpoints and summary events will be located during '\n",
        "    'training and evaluation. Separate subdirectories `train` and `eval` '\n",
        "    'will be created within this directory.')\n",
        "flags.DEFINE_integer(\n",
        "    'num_steps', 200000,\n",
        "    'Number of training steps or `None` for infinite.')\n",
        "flags.DEFINE_integer(\n",
        "    'eval_num_batches', None,\n",
        "    'Number of batches to use during evaluation or `None` for all batches '\n",
        "    'in the data source.')\n",
        "flags.DEFINE_integer(\n",
        "    'checkpoints_to_keep', 100,\n",
        "    'Maximum number of checkpoints to keep in `train` mode or 0 for infinite.')\n",
        "flags.DEFINE_integer(\n",
        "    'keep_checkpoint_every_n_hours', 1,\n",
        "    'In addition to checkpoints_to_keep, keep a checkpoint every N hours.')\n",
        "flags.DEFINE_string(\n",
        "    'mode', 'train',\n",
        "    'Which mode to use (`train` or `eval`).')\n",
        "flags.DEFINE_string(\n",
        "    'config', 'groovae_2bar_humanize',\n",
        "    'The name of the config to use.')\n",
        "flags.DEFINE_string(\n",
        "    'hparams', '',\n",
        "    'A comma-separated list of `name=value` hyperparameter values to merge '\n",
        "    'with those in the config.')\n",
        "flags.DEFINE_bool(\n",
        "    'cache_dataset', True,\n",
        "    'Whether to cache the dataset in memory for improved training speed. May '\n",
        "    'cause memory errors for very large datasets.')\n",
        "flags.DEFINE_integer(\n",
        "    'task', 0,\n",
        "    'The task number for this worker.')\n",
        "flags.DEFINE_integer(\n",
        "    'num_ps_tasks', 0,\n",
        "    'The number of parameter server tasks.')\n",
        "flags.DEFINE_integer(\n",
        "    'num_sync_workers', 0,\n",
        "    'The number of synchronized workers.')\n",
        "flags.DEFINE_string(\n",
        "    'eval_dir_suffix', '',\n",
        "    'Suffix to add to eval output directory.')\n",
        "flags.DEFINE_string(\n",
        "    'log', 'INFO',\n",
        "    'The threshold for what messages will be logged: '\n",
        "    'DEBUG, INFO, WARN, ERROR, or FATAL.')"
      ],
      "execution_count": null,
      "outputs": [
        {
          "output_type": "execute_result",
          "data": {
            "text/plain": [
              "<absl.flags._flagvalues.FlagHolder at 0x7f9d221eac90>"
            ]
          },
          "metadata": {
            "tags": []
          },
          "execution_count": 8
        }
      ]
    },
    {
      "cell_type": "code",
      "metadata": {
        "id": "GrHKpPo70aMZ"
      },
      "source": [
        "def main(unused_argv):\n",
        "  tf.logging.set_verbosity(FLAGS.log)\n",
        "  run(configs.CONFIG_MAP)\n",
        "\n",
        "def console_entry_point():\n",
        "  tf.disable_v2_behavior()\n",
        "  tf.app.run(main)"
      ],
      "execution_count": null,
      "outputs": []
    },
    {
      "cell_type": "code",
      "metadata": {
        "colab": {
          "base_uri": "https://localhost:8080/"
        },
        "id": "bD4E0i0P0p5a",
        "outputId": "6e17194e-7dd7-419d-852f-651337994a81"
      },
      "source": [
        "console_entry_point()"
      ],
      "execution_count": null,
      "outputs": [
        {
          "output_type": "stream",
          "text": [
            "INFO:tensorflow:Building MusicVAE model with BidirectionalLstmEncoder, GrooveLstmDecoder, and hparams:\n",
            "{'max_seq_len': 32, 'z_size': 256, 'free_bits': 48, 'max_beta': 0.2, 'beta_rate': 0.0, 'batch_size': 512, 'grad_clip': 1.0, 'clip_mode': 'global_norm', 'grad_norm_clip_to_zero': 10000, 'learning_rate': 0.001, 'decay_rate': 0.9999, 'min_learning_rate': 1e-05, 'conditional': True, 'dec_rnn_size': [256, 256], 'enc_rnn_size': [512], 'dropout_keep_prob': 0.3, 'sampling_schedule': 'constant', 'sampling_rate': 0.0, 'use_cudnn': False, 'residual_encoder': False, 'residual_decoder': False, 'control_preprocessing_rnn_size': [256]}\n"
          ],
          "name": "stdout"
        },
        {
          "output_type": "stream",
          "text": [
            "I0626 14:56:54.395539 140315075803008 base_model.py:152] Building MusicVAE model with BidirectionalLstmEncoder, GrooveLstmDecoder, and hparams:\n",
            "{'max_seq_len': 32, 'z_size': 256, 'free_bits': 48, 'max_beta': 0.2, 'beta_rate': 0.0, 'batch_size': 512, 'grad_clip': 1.0, 'clip_mode': 'global_norm', 'grad_norm_clip_to_zero': 10000, 'learning_rate': 0.001, 'decay_rate': 0.9999, 'min_learning_rate': 1e-05, 'conditional': True, 'dec_rnn_size': [256, 256], 'enc_rnn_size': [512], 'dropout_keep_prob': 0.3, 'sampling_schedule': 'constant', 'sampling_rate': 0.0, 'use_cudnn': False, 'residual_encoder': False, 'residual_decoder': False, 'control_preprocessing_rnn_size': [256]}\n"
          ],
          "name": "stderr"
        },
        {
          "output_type": "stream",
          "text": [
            "INFO:tensorflow:\n",
            "Encoder Cells (bidirectional):\n",
            "  units: [512]\n",
            "\n"
          ],
          "name": "stdout"
        },
        {
          "output_type": "stream",
          "text": [
            "I0626 14:56:54.408614 140315075803008 lstm_models.py:79] \n",
            "Encoder Cells (bidirectional):\n",
            "  units: [512]\n",
            "\n"
          ],
          "name": "stderr"
        },
        {
          "output_type": "stream",
          "text": [
            "WARNING:tensorflow:`tf.nn.rnn_cell.MultiRNNCell` is deprecated. This class is equivalent as `tf.keras.layers.StackedRNNCells`, and will be replaced by that in Tensorflow 2.0.\n"
          ],
          "name": "stdout"
        },
        {
          "output_type": "stream",
          "text": [
            "W0626 14:56:54.433151 140315075803008 rnn_cell_impl.py:1248] `tf.nn.rnn_cell.MultiRNNCell` is deprecated. This class is equivalent as `tf.keras.layers.StackedRNNCells`, and will be replaced by that in Tensorflow 2.0.\n"
          ],
          "name": "stderr"
        },
        {
          "output_type": "stream",
          "text": [
            "WARNING:tensorflow:`tf.nn.rnn_cell.MultiRNNCell` is deprecated. This class is equivalent as `tf.keras.layers.StackedRNNCells`, and will be replaced by that in Tensorflow 2.0.\n"
          ],
          "name": "stdout"
        },
        {
          "output_type": "stream",
          "text": [
            "W0626 14:56:54.448140 140315075803008 rnn_cell_impl.py:1248] `tf.nn.rnn_cell.MultiRNNCell` is deprecated. This class is equivalent as `tf.keras.layers.StackedRNNCells`, and will be replaced by that in Tensorflow 2.0.\n"
          ],
          "name": "stderr"
        },
        {
          "output_type": "stream",
          "text": [
            "INFO:tensorflow:\n",
            "Decoder Cells:\n",
            "  units: [256, 256]\n",
            "\n"
          ],
          "name": "stdout"
        },
        {
          "output_type": "stream",
          "text": [
            "I0626 14:56:54.454020 140315075803008 lstm_models.py:225] \n",
            "Decoder Cells:\n",
            "  units: [256, 256]\n",
            "\n"
          ],
          "name": "stderr"
        },
        {
          "output_type": "stream",
          "text": [
            "WARNING:tensorflow:`tf.nn.rnn_cell.MultiRNNCell` is deprecated. This class is equivalent as `tf.keras.layers.StackedRNNCells`, and will be replaced by that in Tensorflow 2.0.\n"
          ],
          "name": "stdout"
        },
        {
          "output_type": "stream",
          "text": [
            "W0626 14:56:54.480746 140315075803008 rnn_cell_impl.py:1248] `tf.nn.rnn_cell.MultiRNNCell` is deprecated. This class is equivalent as `tf.keras.layers.StackedRNNCells`, and will be replaced by that in Tensorflow 2.0.\n"
          ],
          "name": "stderr"
        },
        {
          "output_type": "stream",
          "text": [
            "INFO:tensorflow:Reading examples from TFDS: groove/2bar-midionly\n"
          ],
          "name": "stdout"
        },
        {
          "output_type": "stream",
          "text": [
            "I0626 14:56:54.486312 140315075803008 data.py:1827] Reading examples from TFDS: groove/2bar-midionly\n",
            "I0626 14:56:54.898247 140315075803008 dataset_info.py:361] Load dataset info from gs://tfds-data/datasets/groove/2bar-midionly/2.0.1\n",
            "I0626 14:56:56.266997 140315075803008 dataset_info.py:405] Field info.description from disk and from code do not match. Keeping the one from code.\n",
            "I0626 14:56:56.268301 140315075803008 dataset_info.py:405] Field info.config_name from disk and from code do not match. Keeping the one from code.\n",
            "I0626 14:56:56.270755 140315075803008 dataset_info.py:405] Field info.config_description from disk and from code do not match. Keeping the one from code.\n",
            "I0626 14:56:56.273438 140315075803008 dataset_info.py:405] Field info.citation from disk and from code do not match. Keeping the one from code.\n",
            "I0626 14:56:56.351470 140315075803008 dataset_builder.py:299] Reusing dataset groove (gs://tfds-data/datasets/groove/2bar-midionly/2.0.1)\n",
            "I0626 14:56:56.352907 140315075803008 dataset_builder.py:511] Constructing tf.data.Dataset for split train, from gs://tfds-data/datasets/groove/2bar-midionly/2.0.1\n"
          ],
          "name": "stderr"
        },
        {
          "output_type": "stream",
          "text": [
            "WARNING:tensorflow:From /usr/local/lib/python3.7/dist-packages/magenta/models/music_vae/base_model.py:215: to_float (from tensorflow.python.ops.math_ops) is deprecated and will be removed in a future version.\n",
            "Instructions for updating:\n",
            "Use `tf.cast` instead.\n"
          ],
          "name": "stdout"
        },
        {
          "output_type": "stream",
          "text": [
            "W0626 14:56:56.643667 140315075803008 deprecation.py:336] From /usr/local/lib/python3.7/dist-packages/magenta/models/music_vae/base_model.py:215: to_float (from tensorflow.python.ops.math_ops) is deprecated and will be removed in a future version.\n",
            "Instructions for updating:\n",
            "Use `tf.cast` instead.\n"
          ],
          "name": "stderr"
        },
        {
          "output_type": "stream",
          "text": [
            "WARNING:tensorflow:From /usr/local/lib/python3.7/dist-packages/magenta/contrib/rnn.py:474: bidirectional_dynamic_rnn (from tensorflow.python.ops.rnn) is deprecated and will be removed in a future version.\n",
            "Instructions for updating:\n",
            "Please use `keras.layers.Bidirectional(keras.layers.RNN(cell))`, which is equivalent to this API\n"
          ],
          "name": "stdout"
        },
        {
          "output_type": "stream",
          "text": [
            "W0626 14:56:56.660758 140315075803008 deprecation.py:336] From /usr/local/lib/python3.7/dist-packages/magenta/contrib/rnn.py:474: bidirectional_dynamic_rnn (from tensorflow.python.ops.rnn) is deprecated and will be removed in a future version.\n",
            "Instructions for updating:\n",
            "Please use `keras.layers.Bidirectional(keras.layers.RNN(cell))`, which is equivalent to this API\n"
          ],
          "name": "stderr"
        },
        {
          "output_type": "stream",
          "text": [
            "WARNING:tensorflow:From /usr/local/lib/python3.7/dist-packages/tensorflow/python/ops/rnn.py:447: dynamic_rnn (from tensorflow.python.ops.rnn) is deprecated and will be removed in a future version.\n",
            "Instructions for updating:\n",
            "Please use `keras.layers.RNN(cell)`, which is equivalent to this API\n"
          ],
          "name": "stdout"
        },
        {
          "output_type": "stream",
          "text": [
            "W0626 14:56:56.663717 140315075803008 deprecation.py:336] From /usr/local/lib/python3.7/dist-packages/tensorflow/python/ops/rnn.py:447: dynamic_rnn (from tensorflow.python.ops.rnn) is deprecated and will be removed in a future version.\n",
            "Instructions for updating:\n",
            "Please use `keras.layers.RNN(cell)`, which is equivalent to this API\n",
            "/usr/local/lib/python3.7/dist-packages/tensorflow/python/keras/engine/base_layer_v1.py:1700: UserWarning: `layer.add_variable` is deprecated and will be removed in a future version. Please use `layer.add_weight` method instead.\n",
            "  warnings.warn('`layer.add_variable` is deprecated and '\n",
            "/usr/local/lib/python3.7/dist-packages/tensorflow/python/keras/legacy_tf_layers/core.py:171: UserWarning: `tf.layers.dense` is deprecated and will be removed in a future version. Please use `tf.keras.layers.Dense` instead.\n",
            "  warnings.warn('`tf.layers.dense` is deprecated and '\n",
            "/usr/local/lib/python3.7/dist-packages/tensorflow/python/keras/engine/base_layer_v1.py:1692: UserWarning: `layer.apply` is deprecated and will be removed in a future version. Please use `layer.__call__` method instead.\n",
            "  warnings.warn('`layer.apply` is deprecated and '\n"
          ],
          "name": "stderr"
        },
        {
          "output_type": "stream",
          "text": [
            "INFO:tensorflow:Create CheckpointSaverHook.\n"
          ],
          "name": "stdout"
        },
        {
          "output_type": "stream",
          "text": [
            "I0626 14:57:03.782943 140315075803008 basic_session_run_hooks.py:546] Create CheckpointSaverHook.\n"
          ],
          "name": "stderr"
        },
        {
          "output_type": "stream",
          "text": [
            "WARNING:tensorflow:From /usr/local/lib/python3.7/dist-packages/tensorflow/python/training/training_util.py:236: Variable.initialized_value (from tensorflow.python.ops.variables) is deprecated and will be removed in a future version.\n",
            "Instructions for updating:\n",
            "Use Variable.read_value. Variables in 2.X are initialized automatically both in eager and graph (inside tf.defun) contexts.\n"
          ],
          "name": "stdout"
        },
        {
          "output_type": "stream",
          "text": [
            "W0626 14:57:04.913022 140315075803008 deprecation.py:336] From /usr/local/lib/python3.7/dist-packages/tensorflow/python/training/training_util.py:236: Variable.initialized_value (from tensorflow.python.ops.variables) is deprecated and will be removed in a future version.\n",
            "Instructions for updating:\n",
            "Use Variable.read_value. Variables in 2.X are initialized automatically both in eager and graph (inside tf.defun) contexts.\n"
          ],
          "name": "stderr"
        },
        {
          "output_type": "stream",
          "text": [
            "INFO:tensorflow:Graph was finalized.\n"
          ],
          "name": "stdout"
        },
        {
          "output_type": "stream",
          "text": [
            "I0626 14:57:05.017008 140315075803008 monitored_session.py:247] Graph was finalized.\n"
          ],
          "name": "stderr"
        },
        {
          "output_type": "stream",
          "text": [
            "INFO:tensorflow:Running local_init_op.\n"
          ],
          "name": "stdout"
        },
        {
          "output_type": "stream",
          "text": [
            "I0626 14:57:05.459003 140315075803008 session_manager.py:531] Running local_init_op.\n"
          ],
          "name": "stderr"
        },
        {
          "output_type": "stream",
          "text": [
            "INFO:tensorflow:Done running local_init_op.\n"
          ],
          "name": "stdout"
        },
        {
          "output_type": "stream",
          "text": [
            "I0626 14:57:05.523412 140315075803008 session_manager.py:534] Done running local_init_op.\n"
          ],
          "name": "stderr"
        },
        {
          "output_type": "stream",
          "text": [
            "INFO:tensorflow:Calling checkpoint listeners before saving checkpoint 0...\n"
          ],
          "name": "stdout"
        },
        {
          "output_type": "stream",
          "text": [
            "I0626 14:57:09.693780 140315075803008 basic_session_run_hooks.py:614] Calling checkpoint listeners before saving checkpoint 0...\n"
          ],
          "name": "stderr"
        },
        {
          "output_type": "stream",
          "text": [
            "INFO:tensorflow:Saving checkpoints for 0 into /content/drive/My Drive/Summer_21/train/model.ckpt.\n"
          ],
          "name": "stdout"
        },
        {
          "output_type": "stream",
          "text": [
            "I0626 14:57:09.707350 140315075803008 basic_session_run_hooks.py:618] Saving checkpoints for 0 into /content/drive/My Drive/Summer_21/train/model.ckpt.\n"
          ],
          "name": "stderr"
        },
        {
          "output_type": "stream",
          "text": [
            "INFO:tensorflow:Calling checkpoint listeners after saving checkpoint 0...\n"
          ],
          "name": "stdout"
        },
        {
          "output_type": "stream",
          "text": [
            "I0626 14:57:10.620024 140315075803008 basic_session_run_hooks.py:626] Calling checkpoint listeners after saving checkpoint 0...\n"
          ],
          "name": "stderr"
        },
        {
          "output_type": "stream",
          "text": [
            "INFO:tensorflow:global_step = 0, loss = 281.05768\n"
          ],
          "name": "stdout"
        },
        {
          "output_type": "stream",
          "text": [
            "I0626 14:57:41.872274 140315075803008 basic_session_run_hooks.py:262] global_step = 0, loss = 281.05768\n"
          ],
          "name": "stderr"
        },
        {
          "output_type": "stream",
          "text": [
            "INFO:tensorflow:Calling checkpoint listeners before saving checkpoint 13...\n"
          ],
          "name": "stdout"
        },
        {
          "output_type": "stream",
          "text": [
            "I0626 14:58:11.180579 140315075803008 basic_session_run_hooks.py:614] Calling checkpoint listeners before saving checkpoint 13...\n"
          ],
          "name": "stderr"
        },
        {
          "output_type": "stream",
          "text": [
            "INFO:tensorflow:Saving checkpoints for 13 into /content/drive/My Drive/Summer_21/train/model.ckpt.\n"
          ],
          "name": "stdout"
        },
        {
          "output_type": "stream",
          "text": [
            "I0626 14:58:11.187711 140315075803008 basic_session_run_hooks.py:618] Saving checkpoints for 13 into /content/drive/My Drive/Summer_21/train/model.ckpt.\n"
          ],
          "name": "stderr"
        },
        {
          "output_type": "stream",
          "text": [
            "INFO:tensorflow:Calling checkpoint listeners after saving checkpoint 13...\n"
          ],
          "name": "stdout"
        },
        {
          "output_type": "stream",
          "text": [
            "I0626 14:58:12.251122 140315075803008 basic_session_run_hooks.py:626] Calling checkpoint listeners after saving checkpoint 13...\n"
          ],
          "name": "stderr"
        },
        {
          "output_type": "stream",
          "text": [
            "INFO:tensorflow:global_step/sec: 1.5867\n"
          ],
          "name": "stdout"
        },
        {
          "output_type": "stream",
          "text": [
            "I0626 14:58:44.888607 140315075803008 basic_session_run_hooks.py:702] global_step/sec: 1.5867\n"
          ],
          "name": "stderr"
        },
        {
          "output_type": "stream",
          "text": [
            "INFO:tensorflow:global_step = 100, loss = 101.89641 (63.019 sec)\n"
          ],
          "name": "stdout"
        },
        {
          "output_type": "stream",
          "text": [
            "I0626 14:58:44.891617 140315075803008 basic_session_run_hooks.py:260] global_step = 100, loss = 101.89641 (63.019 sec)\n"
          ],
          "name": "stderr"
        },
        {
          "output_type": "stream",
          "text": [
            "INFO:tensorflow:global_step/sec: 6.21031\n"
          ],
          "name": "stdout"
        },
        {
          "output_type": "stream",
          "text": [
            "I0626 14:59:00.990873 140315075803008 basic_session_run_hooks.py:702] global_step/sec: 6.21031\n"
          ],
          "name": "stderr"
        },
        {
          "output_type": "stream",
          "text": [
            "INFO:tensorflow:global_step = 200, loss = 94.0487 (16.108 sec)\n"
          ],
          "name": "stdout"
        },
        {
          "output_type": "stream",
          "text": [
            "I0626 14:59:00.999568 140315075803008 basic_session_run_hooks.py:260] global_step = 200, loss = 94.0487 (16.108 sec)\n"
          ],
          "name": "stderr"
        },
        {
          "output_type": "stream",
          "text": [
            "INFO:tensorflow:Calling checkpoint listeners before saving checkpoint 264...\n"
          ],
          "name": "stdout"
        },
        {
          "output_type": "stream",
          "text": [
            "I0626 14:59:11.307342 140315075803008 basic_session_run_hooks.py:614] Calling checkpoint listeners before saving checkpoint 264...\n"
          ],
          "name": "stderr"
        },
        {
          "output_type": "stream",
          "text": [
            "INFO:tensorflow:Saving checkpoints for 264 into /content/drive/My Drive/Summer_21/train/model.ckpt.\n"
          ],
          "name": "stdout"
        },
        {
          "output_type": "stream",
          "text": [
            "I0626 14:59:11.312337 140315075803008 basic_session_run_hooks.py:618] Saving checkpoints for 264 into /content/drive/My Drive/Summer_21/train/model.ckpt.\n"
          ],
          "name": "stderr"
        },
        {
          "output_type": "stream",
          "text": [
            "INFO:tensorflow:Calling checkpoint listeners after saving checkpoint 264...\n"
          ],
          "name": "stdout"
        },
        {
          "output_type": "stream",
          "text": [
            "I0626 14:59:12.151101 140315075803008 basic_session_run_hooks.py:626] Calling checkpoint listeners after saving checkpoint 264...\n"
          ],
          "name": "stderr"
        },
        {
          "output_type": "stream",
          "text": [
            "INFO:tensorflow:global_step/sec: 5.7935\n"
          ],
          "name": "stdout"
        },
        {
          "output_type": "stream",
          "text": [
            "I0626 14:59:18.251604 140315075803008 basic_session_run_hooks.py:702] global_step/sec: 5.7935\n"
          ],
          "name": "stderr"
        },
        {
          "output_type": "stream",
          "text": [
            "INFO:tensorflow:global_step = 300, loss = 84.069374 (17.257 sec)\n"
          ],
          "name": "stdout"
        },
        {
          "output_type": "stream",
          "text": [
            "I0626 14:59:18.256411 140315075803008 basic_session_run_hooks.py:260] global_step = 300, loss = 84.069374 (17.257 sec)\n"
          ],
          "name": "stderr"
        },
        {
          "output_type": "stream",
          "text": [
            "INFO:tensorflow:global_step/sec: 5.91751\n"
          ],
          "name": "stdout"
        },
        {
          "output_type": "stream",
          "text": [
            "I0626 14:59:35.150616 140315075803008 basic_session_run_hooks.py:702] global_step/sec: 5.91751\n"
          ],
          "name": "stderr"
        },
        {
          "output_type": "stream",
          "text": [
            "INFO:tensorflow:global_step = 400, loss = 79.9977 (16.900 sec)\n"
          ],
          "name": "stdout"
        },
        {
          "output_type": "stream",
          "text": [
            "I0626 14:59:35.155962 140315075803008 basic_session_run_hooks.py:260] global_step = 400, loss = 79.9977 (16.900 sec)\n"
          ],
          "name": "stderr"
        },
        {
          "output_type": "stream",
          "text": [
            "INFO:tensorflow:global_step/sec: 6.0099\n"
          ],
          "name": "stdout"
        },
        {
          "output_type": "stream",
          "text": [
            "I0626 14:59:51.789842 140315075803008 basic_session_run_hooks.py:702] global_step/sec: 6.0099\n"
          ],
          "name": "stderr"
        },
        {
          "output_type": "stream",
          "text": [
            "INFO:tensorflow:global_step = 500, loss = 80.286194 (16.641 sec)\n"
          ],
          "name": "stdout"
        },
        {
          "output_type": "stream",
          "text": [
            "I0626 14:59:51.796602 140315075803008 basic_session_run_hooks.py:260] global_step = 500, loss = 80.286194 (16.641 sec)\n"
          ],
          "name": "stderr"
        },
        {
          "output_type": "stream",
          "text": [
            "INFO:tensorflow:global_step/sec: 6.08332\n"
          ],
          "name": "stdout"
        },
        {
          "output_type": "stream",
          "text": [
            "I0626 15:00:08.228210 140315075803008 basic_session_run_hooks.py:702] global_step/sec: 6.08332\n"
          ],
          "name": "stderr"
        },
        {
          "output_type": "stream",
          "text": [
            "INFO:tensorflow:global_step = 600, loss = 78.57665 (16.437 sec)\n"
          ],
          "name": "stdout"
        },
        {
          "output_type": "stream",
          "text": [
            "I0626 15:00:08.233389 140315075803008 basic_session_run_hooks.py:260] global_step = 600, loss = 78.57665 (16.437 sec)\n"
          ],
          "name": "stderr"
        },
        {
          "output_type": "stream",
          "text": [
            "INFO:tensorflow:Calling checkpoint listeners before saving checkpoint 620...\n"
          ],
          "name": "stdout"
        },
        {
          "output_type": "stream",
          "text": [
            "I0626 15:00:11.337391 140315075803008 basic_session_run_hooks.py:614] Calling checkpoint listeners before saving checkpoint 620...\n"
          ],
          "name": "stderr"
        },
        {
          "output_type": "stream",
          "text": [
            "INFO:tensorflow:Saving checkpoints for 620 into /content/drive/My Drive/Summer_21/train/model.ckpt.\n"
          ],
          "name": "stdout"
        },
        {
          "output_type": "stream",
          "text": [
            "I0626 15:00:11.339511 140315075803008 basic_session_run_hooks.py:618] Saving checkpoints for 620 into /content/drive/My Drive/Summer_21/train/model.ckpt.\n"
          ],
          "name": "stderr"
        },
        {
          "output_type": "stream",
          "text": [
            "INFO:tensorflow:Calling checkpoint listeners after saving checkpoint 620...\n"
          ],
          "name": "stdout"
        },
        {
          "output_type": "stream",
          "text": [
            "I0626 15:00:12.162997 140315075803008 basic_session_run_hooks.py:626] Calling checkpoint listeners after saving checkpoint 620...\n"
          ],
          "name": "stderr"
        },
        {
          "output_type": "stream",
          "text": [
            "INFO:tensorflow:global_step/sec: 5.80897\n"
          ],
          "name": "stdout"
        },
        {
          "output_type": "stream",
          "text": [
            "I0626 15:00:25.442954 140315075803008 basic_session_run_hooks.py:702] global_step/sec: 5.80897\n"
          ],
          "name": "stderr"
        },
        {
          "output_type": "stream",
          "text": [
            "INFO:tensorflow:global_step = 700, loss = 74.25718 (17.216 sec)\n"
          ],
          "name": "stdout"
        },
        {
          "output_type": "stream",
          "text": [
            "I0626 15:00:25.449754 140315075803008 basic_session_run_hooks.py:260] global_step = 700, loss = 74.25718 (17.216 sec)\n"
          ],
          "name": "stderr"
        },
        {
          "output_type": "stream",
          "text": [
            "INFO:tensorflow:global_step/sec: 6.08818\n"
          ],
          "name": "stdout"
        },
        {
          "output_type": "stream",
          "text": [
            "I0626 15:00:41.868235 140315075803008 basic_session_run_hooks.py:702] global_step/sec: 6.08818\n"
          ],
          "name": "stderr"
        },
        {
          "output_type": "stream",
          "text": [
            "INFO:tensorflow:global_step = 800, loss = 72.91915 (16.423 sec)\n"
          ],
          "name": "stdout"
        },
        {
          "output_type": "stream",
          "text": [
            "I0626 15:00:41.873186 140315075803008 basic_session_run_hooks.py:260] global_step = 800, loss = 72.91915 (16.423 sec)\n"
          ],
          "name": "stderr"
        },
        {
          "output_type": "stream",
          "text": [
            "INFO:tensorflow:global_step/sec: 6.07783\n"
          ],
          "name": "stdout"
        },
        {
          "output_type": "stream",
          "text": [
            "I0626 15:00:58.321440 140315075803008 basic_session_run_hooks.py:702] global_step/sec: 6.07783\n"
          ],
          "name": "stderr"
        },
        {
          "output_type": "stream",
          "text": [
            "INFO:tensorflow:global_step = 900, loss = 70.86843 (16.453 sec)\n"
          ],
          "name": "stdout"
        },
        {
          "output_type": "stream",
          "text": [
            "I0626 15:00:58.326139 140315075803008 basic_session_run_hooks.py:260] global_step = 900, loss = 70.86843 (16.453 sec)\n"
          ],
          "name": "stderr"
        },
        {
          "output_type": "stream",
          "text": [
            "INFO:tensorflow:Calling checkpoint listeners before saving checkpoint 980...\n"
          ],
          "name": "stdout"
        },
        {
          "output_type": "stream",
          "text": [
            "I0626 15:01:11.367816 140315075803008 basic_session_run_hooks.py:614] Calling checkpoint listeners before saving checkpoint 980...\n"
          ],
          "name": "stderr"
        },
        {
          "output_type": "stream",
          "text": [
            "INFO:tensorflow:Saving checkpoints for 980 into /content/drive/My Drive/Summer_21/train/model.ckpt.\n"
          ],
          "name": "stdout"
        },
        {
          "output_type": "stream",
          "text": [
            "I0626 15:01:11.378927 140315075803008 basic_session_run_hooks.py:618] Saving checkpoints for 980 into /content/drive/My Drive/Summer_21/train/model.ckpt.\n"
          ],
          "name": "stderr"
        },
        {
          "output_type": "stream",
          "text": [
            "INFO:tensorflow:Calling checkpoint listeners after saving checkpoint 980...\n"
          ],
          "name": "stdout"
        },
        {
          "output_type": "stream",
          "text": [
            "I0626 15:01:12.212974 140315075803008 basic_session_run_hooks.py:626] Calling checkpoint listeners after saving checkpoint 980...\n"
          ],
          "name": "stderr"
        },
        {
          "output_type": "stream",
          "text": [
            "INFO:tensorflow:global_step/sec: 5.75868\n"
          ],
          "name": "stdout"
        },
        {
          "output_type": "stream",
          "text": [
            "I0626 15:01:15.686506 140315075803008 basic_session_run_hooks.py:702] global_step/sec: 5.75868\n"
          ],
          "name": "stderr"
        },
        {
          "output_type": "stream",
          "text": [
            "INFO:tensorflow:global_step = 1000, loss = 69.256744 (17.370 sec)\n"
          ],
          "name": "stdout"
        },
        {
          "output_type": "stream",
          "text": [
            "I0626 15:01:15.695752 140315075803008 basic_session_run_hooks.py:260] global_step = 1000, loss = 69.256744 (17.370 sec)\n"
          ],
          "name": "stderr"
        },
        {
          "output_type": "stream",
          "text": [
            "INFO:tensorflow:global_step/sec: 6.03634\n"
          ],
          "name": "stdout"
        },
        {
          "output_type": "stream",
          "text": [
            "I0626 15:01:32.252845 140315075803008 basic_session_run_hooks.py:702] global_step/sec: 6.03634\n"
          ],
          "name": "stderr"
        },
        {
          "output_type": "stream",
          "text": [
            "INFO:tensorflow:global_step = 1100, loss = 68.63486 (16.564 sec)\n"
          ],
          "name": "stdout"
        },
        {
          "output_type": "stream",
          "text": [
            "I0626 15:01:32.260081 140315075803008 basic_session_run_hooks.py:260] global_step = 1100, loss = 68.63486 (16.564 sec)\n"
          ],
          "name": "stderr"
        },
        {
          "output_type": "stream",
          "text": [
            "INFO:tensorflow:global_step/sec: 6.06698\n"
          ],
          "name": "stdout"
        },
        {
          "output_type": "stream",
          "text": [
            "I0626 15:01:48.735545 140315075803008 basic_session_run_hooks.py:702] global_step/sec: 6.06698\n"
          ],
          "name": "stderr"
        },
        {
          "output_type": "stream",
          "text": [
            "INFO:tensorflow:global_step = 1200, loss = 66.33027 (16.482 sec)\n"
          ],
          "name": "stdout"
        },
        {
          "output_type": "stream",
          "text": [
            "I0626 15:01:48.741775 140315075803008 basic_session_run_hooks.py:260] global_step = 1200, loss = 66.33027 (16.482 sec)\n"
          ],
          "name": "stderr"
        },
        {
          "output_type": "stream",
          "text": [
            "INFO:tensorflow:global_step/sec: 6.10378\n"
          ],
          "name": "stdout"
        },
        {
          "output_type": "stream",
          "text": [
            "I0626 15:02:05.118845 140315075803008 basic_session_run_hooks.py:702] global_step/sec: 6.10378\n"
          ],
          "name": "stderr"
        },
        {
          "output_type": "stream",
          "text": [
            "INFO:tensorflow:global_step = 1300, loss = 64.504074 (16.399 sec)\n"
          ],
          "name": "stdout"
        },
        {
          "output_type": "stream",
          "text": [
            "I0626 15:02:05.140918 140315075803008 basic_session_run_hooks.py:260] global_step = 1300, loss = 64.504074 (16.399 sec)\n"
          ],
          "name": "stderr"
        },
        {
          "output_type": "stream",
          "text": [
            "INFO:tensorflow:Calling checkpoint listeners before saving checkpoint 1339...\n"
          ],
          "name": "stdout"
        },
        {
          "output_type": "stream",
          "text": [
            "I0626 15:02:11.383879 140315075803008 basic_session_run_hooks.py:614] Calling checkpoint listeners before saving checkpoint 1339...\n"
          ],
          "name": "stderr"
        },
        {
          "output_type": "stream",
          "text": [
            "INFO:tensorflow:Saving checkpoints for 1339 into /content/drive/My Drive/Summer_21/train/model.ckpt.\n"
          ],
          "name": "stdout"
        },
        {
          "output_type": "stream",
          "text": [
            "I0626 15:02:11.392707 140315075803008 basic_session_run_hooks.py:618] Saving checkpoints for 1339 into /content/drive/My Drive/Summer_21/train/model.ckpt.\n"
          ],
          "name": "stderr"
        },
        {
          "output_type": "stream",
          "text": [
            "INFO:tensorflow:Calling checkpoint listeners after saving checkpoint 1339...\n"
          ],
          "name": "stdout"
        },
        {
          "output_type": "stream",
          "text": [
            "I0626 15:02:12.238757 140315075803008 basic_session_run_hooks.py:626] Calling checkpoint listeners after saving checkpoint 1339...\n"
          ],
          "name": "stderr"
        },
        {
          "output_type": "stream",
          "text": [
            "INFO:tensorflow:global_step/sec: 5.76506\n"
          ],
          "name": "stdout"
        },
        {
          "output_type": "stream",
          "text": [
            "I0626 15:02:22.464687 140315075803008 basic_session_run_hooks.py:702] global_step/sec: 5.76506\n"
          ],
          "name": "stderr"
        },
        {
          "output_type": "stream",
          "text": [
            "INFO:tensorflow:global_step = 1400, loss = 63.27279 (17.331 sec)\n"
          ],
          "name": "stdout"
        },
        {
          "output_type": "stream",
          "text": [
            "I0626 15:02:22.472380 140315075803008 basic_session_run_hooks.py:260] global_step = 1400, loss = 63.27279 (17.331 sec)\n"
          ],
          "name": "stderr"
        },
        {
          "output_type": "stream",
          "text": [
            "INFO:tensorflow:global_step/sec: 6.1132\n"
          ],
          "name": "stdout"
        },
        {
          "output_type": "stream",
          "text": [
            "I0626 15:02:38.822716 140315075803008 basic_session_run_hooks.py:702] global_step/sec: 6.1132\n"
          ],
          "name": "stderr"
        },
        {
          "output_type": "stream",
          "text": [
            "INFO:tensorflow:global_step = 1500, loss = 63.633957 (16.357 sec)\n"
          ],
          "name": "stdout"
        },
        {
          "output_type": "stream",
          "text": [
            "I0626 15:02:38.829660 140315075803008 basic_session_run_hooks.py:260] global_step = 1500, loss = 63.633957 (16.357 sec)\n"
          ],
          "name": "stderr"
        },
        {
          "output_type": "stream",
          "text": [
            "INFO:tensorflow:global_step/sec: 6.08936\n"
          ],
          "name": "stdout"
        },
        {
          "output_type": "stream",
          "text": [
            "I0626 15:02:55.244796 140315075803008 basic_session_run_hooks.py:702] global_step/sec: 6.08936\n"
          ],
          "name": "stderr"
        },
        {
          "output_type": "stream",
          "text": [
            "INFO:tensorflow:global_step = 1600, loss = 62.084618 (16.420 sec)\n"
          ],
          "name": "stdout"
        },
        {
          "output_type": "stream",
          "text": [
            "I0626 15:02:55.249290 140315075803008 basic_session_run_hooks.py:260] global_step = 1600, loss = 62.084618 (16.420 sec)\n"
          ],
          "name": "stderr"
        },
        {
          "output_type": "stream",
          "text": [
            "INFO:tensorflow:Calling checkpoint listeners before saving checkpoint 1699...\n"
          ],
          "name": "stdout"
        },
        {
          "output_type": "stream",
          "text": [
            "I0626 15:03:11.397388 140315075803008 basic_session_run_hooks.py:614] Calling checkpoint listeners before saving checkpoint 1699...\n"
          ],
          "name": "stderr"
        },
        {
          "output_type": "stream",
          "text": [
            "INFO:tensorflow:Saving checkpoints for 1699 into /content/drive/My Drive/Summer_21/train/model.ckpt.\n"
          ],
          "name": "stdout"
        },
        {
          "output_type": "stream",
          "text": [
            "I0626 15:03:11.405222 140315075803008 basic_session_run_hooks.py:618] Saving checkpoints for 1699 into /content/drive/My Drive/Summer_21/train/model.ckpt.\n"
          ],
          "name": "stderr"
        },
        {
          "output_type": "stream",
          "text": [
            "INFO:tensorflow:Calling checkpoint listeners after saving checkpoint 1699...\n"
          ],
          "name": "stdout"
        },
        {
          "output_type": "stream",
          "text": [
            "I0626 15:03:12.263117 140315075803008 basic_session_run_hooks.py:626] Calling checkpoint listeners after saving checkpoint 1699...\n"
          ],
          "name": "stderr"
        },
        {
          "output_type": "stream",
          "text": [
            "INFO:tensorflow:global_step/sec: 5.76048\n"
          ],
          "name": "stdout"
        },
        {
          "output_type": "stream",
          "text": [
            "I0626 15:03:12.604467 140315075803008 basic_session_run_hooks.py:702] global_step/sec: 5.76048\n"
          ],
          "name": "stderr"
        },
        {
          "output_type": "stream",
          "text": [
            "INFO:tensorflow:global_step = 1700, loss = 60.79804 (17.363 sec)\n"
          ],
          "name": "stdout"
        },
        {
          "output_type": "stream",
          "text": [
            "I0626 15:03:12.612309 140315075803008 basic_session_run_hooks.py:260] global_step = 1700, loss = 60.79804 (17.363 sec)\n"
          ],
          "name": "stderr"
        },
        {
          "output_type": "stream",
          "text": [
            "INFO:tensorflow:global_step/sec: 6.06309\n"
          ],
          "name": "stdout"
        },
        {
          "output_type": "stream",
          "text": [
            "I0626 15:03:29.097759 140315075803008 basic_session_run_hooks.py:702] global_step/sec: 6.06309\n"
          ],
          "name": "stderr"
        },
        {
          "output_type": "stream",
          "text": [
            "INFO:tensorflow:global_step = 1800, loss = 60.955574 (16.489 sec)\n"
          ],
          "name": "stdout"
        },
        {
          "output_type": "stream",
          "text": [
            "I0626 15:03:29.100857 140315075803008 basic_session_run_hooks.py:260] global_step = 1800, loss = 60.955574 (16.489 sec)\n"
          ],
          "name": "stderr"
        },
        {
          "output_type": "stream",
          "text": [
            "INFO:tensorflow:global_step/sec: 6.06902\n"
          ],
          "name": "stdout"
        },
        {
          "output_type": "stream",
          "text": [
            "I0626 15:03:45.574884 140315075803008 basic_session_run_hooks.py:702] global_step/sec: 6.06902\n"
          ],
          "name": "stderr"
        },
        {
          "output_type": "stream",
          "text": [
            "INFO:tensorflow:global_step = 1900, loss = 59.37908 (16.483 sec)\n"
          ],
          "name": "stdout"
        },
        {
          "output_type": "stream",
          "text": [
            "I0626 15:03:45.583434 140315075803008 basic_session_run_hooks.py:260] global_step = 1900, loss = 59.37908 (16.483 sec)\n"
          ],
          "name": "stderr"
        },
        {
          "output_type": "stream",
          "text": [
            "INFO:tensorflow:global_step/sec: 6.07658\n"
          ],
          "name": "stdout"
        },
        {
          "output_type": "stream",
          "text": [
            "I0626 15:04:02.031552 140315075803008 basic_session_run_hooks.py:702] global_step/sec: 6.07658\n"
          ],
          "name": "stderr"
        },
        {
          "output_type": "stream",
          "text": [
            "INFO:tensorflow:global_step = 2000, loss = 56.006123 (16.453 sec)\n"
          ],
          "name": "stdout"
        },
        {
          "output_type": "stream",
          "text": [
            "I0626 15:04:02.036547 140315075803008 basic_session_run_hooks.py:260] global_step = 2000, loss = 56.006123 (16.453 sec)\n"
          ],
          "name": "stderr"
        },
        {
          "output_type": "stream",
          "text": [
            "INFO:tensorflow:Calling checkpoint listeners before saving checkpoint 2058...\n"
          ],
          "name": "stdout"
        },
        {
          "output_type": "stream",
          "text": [
            "I0626 15:04:11.413772 140315075803008 basic_session_run_hooks.py:614] Calling checkpoint listeners before saving checkpoint 2058...\n"
          ],
          "name": "stderr"
        },
        {
          "output_type": "stream",
          "text": [
            "INFO:tensorflow:Saving checkpoints for 2058 into /content/drive/My Drive/Summer_21/train/model.ckpt.\n"
          ],
          "name": "stdout"
        },
        {
          "output_type": "stream",
          "text": [
            "I0626 15:04:11.420852 140315075803008 basic_session_run_hooks.py:618] Saving checkpoints for 2058 into /content/drive/My Drive/Summer_21/train/model.ckpt.\n"
          ],
          "name": "stderr"
        },
        {
          "output_type": "stream",
          "text": [
            "INFO:tensorflow:Calling checkpoint listeners after saving checkpoint 2058...\n"
          ],
          "name": "stdout"
        },
        {
          "output_type": "stream",
          "text": [
            "I0626 15:04:12.263992 140315075803008 basic_session_run_hooks.py:626] Calling checkpoint listeners after saving checkpoint 2058...\n"
          ],
          "name": "stderr"
        },
        {
          "output_type": "stream",
          "text": [
            "INFO:tensorflow:global_step/sec: 5.78166\n"
          ],
          "name": "stdout"
        },
        {
          "output_type": "stream",
          "text": [
            "I0626 15:04:19.327569 140315075803008 basic_session_run_hooks.py:702] global_step/sec: 5.78166\n"
          ],
          "name": "stderr"
        },
        {
          "output_type": "stream",
          "text": [
            "INFO:tensorflow:global_step = 2100, loss = 57.410995 (17.297 sec)\n"
          ],
          "name": "stdout"
        },
        {
          "output_type": "stream",
          "text": [
            "I0626 15:04:19.333806 140315075803008 basic_session_run_hooks.py:260] global_step = 2100, loss = 57.410995 (17.297 sec)\n"
          ],
          "name": "stderr"
        },
        {
          "output_type": "stream",
          "text": [
            "INFO:tensorflow:global_step/sec: 6.03635\n"
          ],
          "name": "stdout"
        },
        {
          "output_type": "stream",
          "text": [
            "I0626 15:04:35.893891 140315075803008 basic_session_run_hooks.py:702] global_step/sec: 6.03635\n"
          ],
          "name": "stderr"
        },
        {
          "output_type": "stream",
          "text": [
            "INFO:tensorflow:global_step = 2200, loss = 56.49471 (16.572 sec)\n"
          ],
          "name": "stdout"
        },
        {
          "output_type": "stream",
          "text": [
            "I0626 15:04:35.905958 140315075803008 basic_session_run_hooks.py:260] global_step = 2200, loss = 56.49471 (16.572 sec)\n"
          ],
          "name": "stderr"
        },
        {
          "output_type": "stream",
          "text": [
            "INFO:tensorflow:global_step/sec: 6.08326\n"
          ],
          "name": "stdout"
        },
        {
          "output_type": "stream",
          "text": [
            "I0626 15:04:52.332398 140315075803008 basic_session_run_hooks.py:702] global_step/sec: 6.08326\n"
          ],
          "name": "stderr"
        },
        {
          "output_type": "stream",
          "text": [
            "INFO:tensorflow:global_step = 2300, loss = 56.56882 (16.436 sec)\n"
          ],
          "name": "stdout"
        },
        {
          "output_type": "stream",
          "text": [
            "I0626 15:04:52.341485 140315075803008 basic_session_run_hooks.py:260] global_step = 2300, loss = 56.56882 (16.436 sec)\n"
          ],
          "name": "stderr"
        },
        {
          "output_type": "stream",
          "text": [
            "INFO:tensorflow:global_step/sec: 6.08453\n"
          ],
          "name": "stdout"
        },
        {
          "output_type": "stream",
          "text": [
            "I0626 15:05:08.767553 140315075803008 basic_session_run_hooks.py:702] global_step/sec: 6.08453\n"
          ],
          "name": "stderr"
        },
        {
          "output_type": "stream",
          "text": [
            "INFO:tensorflow:global_step = 2400, loss = 55.434208 (16.430 sec)\n"
          ],
          "name": "stdout"
        },
        {
          "output_type": "stream",
          "text": [
            "I0626 15:05:08.771446 140315075803008 basic_session_run_hooks.py:260] global_step = 2400, loss = 55.434208 (16.430 sec)\n"
          ],
          "name": "stderr"
        },
        {
          "output_type": "stream",
          "text": [
            "INFO:tensorflow:Calling checkpoint listeners before saving checkpoint 2418...\n"
          ],
          "name": "stdout"
        },
        {
          "output_type": "stream",
          "text": [
            "I0626 15:05:11.566449 140315075803008 basic_session_run_hooks.py:614] Calling checkpoint listeners before saving checkpoint 2418...\n"
          ],
          "name": "stderr"
        },
        {
          "output_type": "stream",
          "text": [
            "INFO:tensorflow:Saving checkpoints for 2418 into /content/drive/My Drive/Summer_21/train/model.ckpt.\n"
          ],
          "name": "stdout"
        },
        {
          "output_type": "stream",
          "text": [
            "I0626 15:05:11.573224 140315075803008 basic_session_run_hooks.py:618] Saving checkpoints for 2418 into /content/drive/My Drive/Summer_21/train/model.ckpt.\n"
          ],
          "name": "stderr"
        },
        {
          "output_type": "stream",
          "text": [
            "INFO:tensorflow:Calling checkpoint listeners after saving checkpoint 2418...\n"
          ],
          "name": "stdout"
        },
        {
          "output_type": "stream",
          "text": [
            "I0626 15:05:12.411066 140315075803008 basic_session_run_hooks.py:626] Calling checkpoint listeners after saving checkpoint 2418...\n"
          ],
          "name": "stderr"
        },
        {
          "output_type": "stream",
          "text": [
            "INFO:tensorflow:global_step/sec: 5.78436\n"
          ],
          "name": "stdout"
        },
        {
          "output_type": "stream",
          "text": [
            "I0626 15:05:26.055530 140315075803008 basic_session_run_hooks.py:702] global_step/sec: 5.78436\n"
          ],
          "name": "stderr"
        },
        {
          "output_type": "stream",
          "text": [
            "INFO:tensorflow:global_step = 2500, loss = 54.983982 (17.293 sec)\n"
          ],
          "name": "stdout"
        },
        {
          "output_type": "stream",
          "text": [
            "I0626 15:05:26.064348 140315075803008 basic_session_run_hooks.py:260] global_step = 2500, loss = 54.983982 (17.293 sec)\n"
          ],
          "name": "stderr"
        },
        {
          "output_type": "stream",
          "text": [
            "INFO:tensorflow:global_step/sec: 6.08637\n"
          ],
          "name": "stdout"
        },
        {
          "output_type": "stream",
          "text": [
            "I0626 15:05:42.485730 140315075803008 basic_session_run_hooks.py:702] global_step/sec: 6.08637\n"
          ],
          "name": "stderr"
        },
        {
          "output_type": "stream",
          "text": [
            "INFO:tensorflow:global_step = 2600, loss = 54.73116 (16.428 sec)\n"
          ],
          "name": "stdout"
        },
        {
          "output_type": "stream",
          "text": [
            "I0626 15:05:42.492397 140315075803008 basic_session_run_hooks.py:260] global_step = 2600, loss = 54.73116 (16.428 sec)\n"
          ],
          "name": "stderr"
        },
        {
          "output_type": "stream",
          "text": [
            "INFO:tensorflow:global_step/sec: 6.08899\n"
          ],
          "name": "stdout"
        },
        {
          "output_type": "stream",
          "text": [
            "I0626 15:05:58.908793 140315075803008 basic_session_run_hooks.py:702] global_step/sec: 6.08899\n"
          ],
          "name": "stderr"
        },
        {
          "output_type": "stream",
          "text": [
            "INFO:tensorflow:global_step = 2700, loss = 53.560654 (16.427 sec)\n"
          ],
          "name": "stdout"
        },
        {
          "output_type": "stream",
          "text": [
            "I0626 15:05:58.919886 140315075803008 basic_session_run_hooks.py:260] global_step = 2700, loss = 53.560654 (16.427 sec)\n"
          ],
          "name": "stderr"
        },
        {
          "output_type": "stream",
          "text": [
            "INFO:tensorflow:Calling checkpoint listeners before saving checkpoint 2778...\n"
          ],
          "name": "stdout"
        },
        {
          "output_type": "stream",
          "text": [
            "I0626 15:06:11.603214 140315075803008 basic_session_run_hooks.py:614] Calling checkpoint listeners before saving checkpoint 2778...\n"
          ],
          "name": "stderr"
        },
        {
          "output_type": "stream",
          "text": [
            "INFO:tensorflow:Saving checkpoints for 2778 into /content/drive/My Drive/Summer_21/train/model.ckpt.\n"
          ],
          "name": "stdout"
        },
        {
          "output_type": "stream",
          "text": [
            "I0626 15:06:11.608448 140315075803008 basic_session_run_hooks.py:618] Saving checkpoints for 2778 into /content/drive/My Drive/Summer_21/train/model.ckpt.\n"
          ],
          "name": "stderr"
        },
        {
          "output_type": "stream",
          "text": [
            "INFO:tensorflow:Calling checkpoint listeners after saving checkpoint 2778...\n"
          ],
          "name": "stdout"
        },
        {
          "output_type": "stream",
          "text": [
            "I0626 15:06:12.482883 140315075803008 basic_session_run_hooks.py:626] Calling checkpoint listeners after saving checkpoint 2778...\n"
          ],
          "name": "stderr"
        },
        {
          "output_type": "stream",
          "text": [
            "INFO:tensorflow:global_step/sec: 5.76663\n"
          ],
          "name": "stdout"
        },
        {
          "output_type": "stream",
          "text": [
            "I0626 15:06:16.249937 140315075803008 basic_session_run_hooks.py:702] global_step/sec: 5.76663\n"
          ],
          "name": "stderr"
        },
        {
          "output_type": "stream",
          "text": [
            "INFO:tensorflow:global_step = 2800, loss = 53.447388 (17.338 sec)\n"
          ],
          "name": "stdout"
        },
        {
          "output_type": "stream",
          "text": [
            "I0626 15:06:16.257747 140315075803008 basic_session_run_hooks.py:260] global_step = 2800, loss = 53.447388 (17.338 sec)\n"
          ],
          "name": "stderr"
        },
        {
          "output_type": "stream",
          "text": [
            "INFO:tensorflow:global_step/sec: 6.05508\n"
          ],
          "name": "stdout"
        },
        {
          "output_type": "stream",
          "text": [
            "I0626 15:06:32.765002 140315075803008 basic_session_run_hooks.py:702] global_step/sec: 6.05508\n"
          ],
          "name": "stderr"
        },
        {
          "output_type": "stream",
          "text": [
            "INFO:tensorflow:global_step = 2900, loss = 51.69832 (16.512 sec)\n"
          ],
          "name": "stdout"
        },
        {
          "output_type": "stream",
          "text": [
            "I0626 15:06:32.769780 140315075803008 basic_session_run_hooks.py:260] global_step = 2900, loss = 51.69832 (16.512 sec)\n"
          ],
          "name": "stderr"
        },
        {
          "output_type": "stream",
          "text": [
            "INFO:tensorflow:global_step/sec: 6.0634\n"
          ],
          "name": "stdout"
        },
        {
          "output_type": "stream",
          "text": [
            "I0626 15:06:49.257409 140315075803008 basic_session_run_hooks.py:702] global_step/sec: 6.0634\n"
          ],
          "name": "stderr"
        },
        {
          "output_type": "stream",
          "text": [
            "INFO:tensorflow:global_step = 3000, loss = 52.815086 (16.498 sec)\n"
          ],
          "name": "stdout"
        },
        {
          "output_type": "stream",
          "text": [
            "I0626 15:06:49.267716 140315075803008 basic_session_run_hooks.py:260] global_step = 3000, loss = 52.815086 (16.498 sec)\n"
          ],
          "name": "stderr"
        },
        {
          "output_type": "stream",
          "text": [
            "INFO:tensorflow:global_step/sec: 6.08447\n"
          ],
          "name": "stdout"
        },
        {
          "output_type": "stream",
          "text": [
            "I0626 15:07:05.692707 140315075803008 basic_session_run_hooks.py:702] global_step/sec: 6.08447\n"
          ],
          "name": "stderr"
        },
        {
          "output_type": "stream",
          "text": [
            "INFO:tensorflow:global_step = 3100, loss = 52.085884 (16.432 sec)\n"
          ],
          "name": "stdout"
        },
        {
          "output_type": "stream",
          "text": [
            "I0626 15:07:05.699977 140315075803008 basic_session_run_hooks.py:260] global_step = 3100, loss = 52.085884 (16.432 sec)\n"
          ],
          "name": "stderr"
        },
        {
          "output_type": "stream",
          "text": [
            "INFO:tensorflow:Calling checkpoint listeners before saving checkpoint 3137...\n"
          ],
          "name": "stdout"
        },
        {
          "output_type": "stream",
          "text": [
            "I0626 15:07:11.624703 140315075803008 basic_session_run_hooks.py:614] Calling checkpoint listeners before saving checkpoint 3137...\n"
          ],
          "name": "stderr"
        },
        {
          "output_type": "stream",
          "text": [
            "INFO:tensorflow:Saving checkpoints for 3137 into /content/drive/My Drive/Summer_21/train/model.ckpt.\n"
          ],
          "name": "stdout"
        },
        {
          "output_type": "stream",
          "text": [
            "I0626 15:07:11.628929 140315075803008 basic_session_run_hooks.py:618] Saving checkpoints for 3137 into /content/drive/My Drive/Summer_21/train/model.ckpt.\n"
          ],
          "name": "stderr"
        },
        {
          "output_type": "stream",
          "text": [
            "INFO:tensorflow:Calling checkpoint listeners after saving checkpoint 3137...\n"
          ],
          "name": "stdout"
        },
        {
          "output_type": "stream",
          "text": [
            "I0626 15:07:12.457539 140315075803008 basic_session_run_hooks.py:626] Calling checkpoint listeners after saving checkpoint 3137...\n"
          ],
          "name": "stderr"
        },
        {
          "output_type": "stream",
          "text": [
            "INFO:tensorflow:global_step/sec: 5.74282\n"
          ],
          "name": "stdout"
        },
        {
          "output_type": "stream",
          "text": [
            "I0626 15:07:23.105758 140315075803008 basic_session_run_hooks.py:702] global_step/sec: 5.74282\n"
          ],
          "name": "stderr"
        },
        {
          "output_type": "stream",
          "text": [
            "INFO:tensorflow:global_step = 3200, loss = 50.301342 (17.418 sec)\n"
          ],
          "name": "stdout"
        },
        {
          "output_type": "stream",
          "text": [
            "I0626 15:07:23.118073 140315075803008 basic_session_run_hooks.py:260] global_step = 3200, loss = 50.301342 (17.418 sec)\n"
          ],
          "name": "stderr"
        },
        {
          "output_type": "stream",
          "text": [
            "INFO:tensorflow:global_step/sec: 6.05707\n"
          ],
          "name": "stdout"
        },
        {
          "output_type": "stream",
          "text": [
            "I0626 15:07:39.615369 140315075803008 basic_session_run_hooks.py:702] global_step/sec: 6.05707\n"
          ],
          "name": "stderr"
        },
        {
          "output_type": "stream",
          "text": [
            "INFO:tensorflow:global_step = 3300, loss = 51.464024 (16.508 sec)\n"
          ],
          "name": "stdout"
        },
        {
          "output_type": "stream",
          "text": [
            "I0626 15:07:39.625679 140315075803008 basic_session_run_hooks.py:260] global_step = 3300, loss = 51.464024 (16.508 sec)\n"
          ],
          "name": "stderr"
        },
        {
          "output_type": "stream",
          "text": [
            "INFO:tensorflow:global_step/sec: 6.08012\n"
          ],
          "name": "stdout"
        },
        {
          "output_type": "stream",
          "text": [
            "I0626 15:07:56.062442 140315075803008 basic_session_run_hooks.py:702] global_step/sec: 6.08012\n"
          ],
          "name": "stderr"
        },
        {
          "output_type": "stream",
          "text": [
            "INFO:tensorflow:global_step = 3400, loss = 52.191357 (16.445 sec)\n"
          ],
          "name": "stdout"
        },
        {
          "output_type": "stream",
          "text": [
            "I0626 15:07:56.070391 140315075803008 basic_session_run_hooks.py:260] global_step = 3400, loss = 52.191357 (16.445 sec)\n"
          ],
          "name": "stderr"
        },
        {
          "output_type": "stream",
          "text": [
            "INFO:tensorflow:Calling checkpoint listeners before saving checkpoint 3496...\n"
          ],
          "name": "stdout"
        },
        {
          "output_type": "stream",
          "text": [
            "I0626 15:08:11.693167 140315075803008 basic_session_run_hooks.py:614] Calling checkpoint listeners before saving checkpoint 3496...\n"
          ],
          "name": "stderr"
        },
        {
          "output_type": "stream",
          "text": [
            "INFO:tensorflow:Saving checkpoints for 3496 into /content/drive/My Drive/Summer_21/train/model.ckpt.\n"
          ],
          "name": "stdout"
        },
        {
          "output_type": "stream",
          "text": [
            "I0626 15:08:11.695461 140315075803008 basic_session_run_hooks.py:618] Saving checkpoints for 3496 into /content/drive/My Drive/Summer_21/train/model.ckpt.\n"
          ],
          "name": "stderr"
        },
        {
          "output_type": "stream",
          "text": [
            "INFO:tensorflow:Calling checkpoint listeners after saving checkpoint 3496...\n"
          ],
          "name": "stdout"
        },
        {
          "output_type": "stream",
          "text": [
            "I0626 15:08:12.531146 140315075803008 basic_session_run_hooks.py:626] Calling checkpoint listeners after saving checkpoint 3496...\n"
          ],
          "name": "stderr"
        },
        {
          "output_type": "stream",
          "text": [
            "INFO:tensorflow:global_step/sec: 5.78283\n"
          ],
          "name": "stdout"
        },
        {
          "output_type": "stream",
          "text": [
            "I0626 15:08:13.355020 140315075803008 basic_session_run_hooks.py:702] global_step/sec: 5.78283\n"
          ],
          "name": "stderr"
        },
        {
          "output_type": "stream",
          "text": [
            "INFO:tensorflow:global_step = 3500, loss = 50.103924 (17.294 sec)\n"
          ],
          "name": "stdout"
        },
        {
          "output_type": "stream",
          "text": [
            "I0626 15:08:13.364483 140315075803008 basic_session_run_hooks.py:260] global_step = 3500, loss = 50.103924 (17.294 sec)\n"
          ],
          "name": "stderr"
        },
        {
          "output_type": "stream",
          "text": [
            "INFO:tensorflow:global_step/sec: 6.06682\n"
          ],
          "name": "stdout"
        },
        {
          "output_type": "stream",
          "text": [
            "I0626 15:08:29.838111 140315075803008 basic_session_run_hooks.py:702] global_step/sec: 6.06682\n"
          ],
          "name": "stderr"
        },
        {
          "output_type": "stream",
          "text": [
            "INFO:tensorflow:global_step = 3600, loss = 51.352024 (16.482 sec)\n"
          ],
          "name": "stdout"
        },
        {
          "output_type": "stream",
          "text": [
            "I0626 15:08:29.846390 140315075803008 basic_session_run_hooks.py:260] global_step = 3600, loss = 51.352024 (16.482 sec)\n"
          ],
          "name": "stderr"
        },
        {
          "output_type": "stream",
          "text": [
            "INFO:tensorflow:global_step/sec: 6.05926\n"
          ],
          "name": "stdout"
        },
        {
          "output_type": "stream",
          "text": [
            "I0626 15:08:46.341798 140315075803008 basic_session_run_hooks.py:702] global_step/sec: 6.05926\n"
          ],
          "name": "stderr"
        },
        {
          "output_type": "stream",
          "text": [
            "INFO:tensorflow:global_step = 3700, loss = 50.33873 (16.505 sec)\n"
          ],
          "name": "stdout"
        },
        {
          "output_type": "stream",
          "text": [
            "I0626 15:08:46.351836 140315075803008 basic_session_run_hooks.py:260] global_step = 3700, loss = 50.33873 (16.505 sec)\n"
          ],
          "name": "stderr"
        },
        {
          "output_type": "stream",
          "text": [
            "INFO:tensorflow:global_step/sec: 6.07687\n"
          ],
          "name": "stdout"
        },
        {
          "output_type": "stream",
          "text": [
            "I0626 15:09:02.797616 140315075803008 basic_session_run_hooks.py:702] global_step/sec: 6.07687\n"
          ],
          "name": "stderr"
        },
        {
          "output_type": "stream",
          "text": [
            "INFO:tensorflow:global_step = 3800, loss = 49.944412 (16.454 sec)\n"
          ],
          "name": "stdout"
        },
        {
          "output_type": "stream",
          "text": [
            "I0626 15:09:02.805625 140315075803008 basic_session_run_hooks.py:260] global_step = 3800, loss = 49.944412 (16.454 sec)\n"
          ],
          "name": "stderr"
        },
        {
          "output_type": "stream",
          "text": [
            "INFO:tensorflow:Calling checkpoint listeners before saving checkpoint 3856...\n"
          ],
          "name": "stdout"
        },
        {
          "output_type": "stream",
          "text": [
            "I0626 15:09:11.849192 140315075803008 basic_session_run_hooks.py:614] Calling checkpoint listeners before saving checkpoint 3856...\n"
          ],
          "name": "stderr"
        },
        {
          "output_type": "stream",
          "text": [
            "INFO:tensorflow:Saving checkpoints for 3856 into /content/drive/My Drive/Summer_21/train/model.ckpt.\n"
          ],
          "name": "stdout"
        },
        {
          "output_type": "stream",
          "text": [
            "I0626 15:09:11.851915 140315075803008 basic_session_run_hooks.py:618] Saving checkpoints for 3856 into /content/drive/My Drive/Summer_21/train/model.ckpt.\n"
          ],
          "name": "stderr"
        },
        {
          "output_type": "stream",
          "text": [
            "INFO:tensorflow:Calling checkpoint listeners after saving checkpoint 3856...\n"
          ],
          "name": "stdout"
        },
        {
          "output_type": "stream",
          "text": [
            "I0626 15:09:12.715918 140315075803008 basic_session_run_hooks.py:626] Calling checkpoint listeners after saving checkpoint 3856...\n"
          ],
          "name": "stderr"
        },
        {
          "output_type": "stream",
          "text": [
            "INFO:tensorflow:global_step/sec: 5.76942\n"
          ],
          "name": "stdout"
        },
        {
          "output_type": "stream",
          "text": [
            "I0626 15:09:20.130391 140315075803008 basic_session_run_hooks.py:702] global_step/sec: 5.76942\n"
          ],
          "name": "stderr"
        },
        {
          "output_type": "stream",
          "text": [
            "INFO:tensorflow:global_step = 3900, loss = 47.956894 (17.331 sec)\n"
          ],
          "name": "stdout"
        },
        {
          "output_type": "stream",
          "text": [
            "I0626 15:09:20.136181 140315075803008 basic_session_run_hooks.py:260] global_step = 3900, loss = 47.956894 (17.331 sec)\n"
          ],
          "name": "stderr"
        },
        {
          "output_type": "stream",
          "text": [
            "INFO:tensorflow:global_step/sec: 6.07345\n"
          ],
          "name": "stdout"
        },
        {
          "output_type": "stream",
          "text": [
            "I0626 15:09:36.595486 140315075803008 basic_session_run_hooks.py:702] global_step/sec: 6.07345\n"
          ],
          "name": "stderr"
        },
        {
          "output_type": "stream",
          "text": [
            "INFO:tensorflow:global_step = 4000, loss = 49.508457 (16.464 sec)\n"
          ],
          "name": "stdout"
        },
        {
          "output_type": "stream",
          "text": [
            "I0626 15:09:36.599964 140315075803008 basic_session_run_hooks.py:260] global_step = 4000, loss = 49.508457 (16.464 sec)\n"
          ],
          "name": "stderr"
        },
        {
          "output_type": "stream",
          "text": [
            "INFO:tensorflow:global_step/sec: 6.07206\n"
          ],
          "name": "stdout"
        },
        {
          "output_type": "stream",
          "text": [
            "I0626 15:09:53.064375 140315075803008 basic_session_run_hooks.py:702] global_step/sec: 6.07206\n"
          ],
          "name": "stderr"
        },
        {
          "output_type": "stream",
          "text": [
            "INFO:tensorflow:global_step = 4100, loss = 48.55164 (16.470 sec)\n"
          ],
          "name": "stdout"
        },
        {
          "output_type": "stream",
          "text": [
            "I0626 15:09:53.070327 140315075803008 basic_session_run_hooks.py:260] global_step = 4100, loss = 48.55164 (16.470 sec)\n"
          ],
          "name": "stderr"
        },
        {
          "output_type": "stream",
          "text": [
            "INFO:tensorflow:global_step/sec: 6.07704\n"
          ],
          "name": "stdout"
        },
        {
          "output_type": "stream",
          "text": [
            "I0626 15:10:09.519767 140315075803008 basic_session_run_hooks.py:702] global_step/sec: 6.07704\n"
          ],
          "name": "stderr"
        },
        {
          "output_type": "stream",
          "text": [
            "INFO:tensorflow:global_step = 4200, loss = 50.054096 (16.461 sec)\n"
          ],
          "name": "stdout"
        },
        {
          "output_type": "stream",
          "text": [
            "I0626 15:10:09.531321 140315075803008 basic_session_run_hooks.py:260] global_step = 4200, loss = 50.054096 (16.461 sec)\n"
          ],
          "name": "stderr"
        },
        {
          "output_type": "stream",
          "text": [
            "INFO:tensorflow:Calling checkpoint listeners before saving checkpoint 4215...\n"
          ],
          "name": "stdout"
        },
        {
          "output_type": "stream",
          "text": [
            "I0626 15:10:11.864539 140315075803008 basic_session_run_hooks.py:614] Calling checkpoint listeners before saving checkpoint 4215...\n"
          ],
          "name": "stderr"
        },
        {
          "output_type": "stream",
          "text": [
            "INFO:tensorflow:Saving checkpoints for 4215 into /content/drive/My Drive/Summer_21/train/model.ckpt.\n"
          ],
          "name": "stdout"
        },
        {
          "output_type": "stream",
          "text": [
            "I0626 15:10:11.870704 140315075803008 basic_session_run_hooks.py:618] Saving checkpoints for 4215 into /content/drive/My Drive/Summer_21/train/model.ckpt.\n"
          ],
          "name": "stderr"
        },
        {
          "output_type": "stream",
          "text": [
            "INFO:tensorflow:Calling checkpoint listeners after saving checkpoint 4215...\n"
          ],
          "name": "stdout"
        },
        {
          "output_type": "stream",
          "text": [
            "I0626 15:10:12.724895 140315075803008 basic_session_run_hooks.py:626] Calling checkpoint listeners after saving checkpoint 4215...\n"
          ],
          "name": "stderr"
        },
        {
          "output_type": "stream",
          "text": [
            "INFO:tensorflow:global_step/sec: 5.75713\n"
          ],
          "name": "stdout"
        },
        {
          "output_type": "stream",
          "text": [
            "I0626 15:10:26.889503 140315075803008 basic_session_run_hooks.py:702] global_step/sec: 5.75713\n"
          ],
          "name": "stderr"
        },
        {
          "output_type": "stream",
          "text": [
            "INFO:tensorflow:global_step = 4300, loss = 48.261097 (17.363 sec)\n"
          ],
          "name": "stdout"
        },
        {
          "output_type": "stream",
          "text": [
            "I0626 15:10:26.893951 140315075803008 basic_session_run_hooks.py:260] global_step = 4300, loss = 48.261097 (17.363 sec)\n"
          ],
          "name": "stderr"
        },
        {
          "output_type": "stream",
          "text": [
            "INFO:tensorflow:global_step/sec: 6.05884\n"
          ],
          "name": "stdout"
        },
        {
          "output_type": "stream",
          "text": [
            "I0626 15:10:43.394313 140315075803008 basic_session_run_hooks.py:702] global_step/sec: 6.05884\n"
          ],
          "name": "stderr"
        },
        {
          "output_type": "stream",
          "text": [
            "INFO:tensorflow:global_step = 4400, loss = 46.62922 (16.511 sec)\n"
          ],
          "name": "stdout"
        },
        {
          "output_type": "stream",
          "text": [
            "I0626 15:10:43.405308 140315075803008 basic_session_run_hooks.py:260] global_step = 4400, loss = 46.62922 (16.511 sec)\n"
          ],
          "name": "stderr"
        },
        {
          "output_type": "stream",
          "text": [
            "INFO:tensorflow:global_step/sec: 6.09119\n"
          ],
          "name": "stdout"
        },
        {
          "output_type": "stream",
          "text": [
            "I0626 15:10:59.811499 140315075803008 basic_session_run_hooks.py:702] global_step/sec: 6.09119\n"
          ],
          "name": "stderr"
        },
        {
          "output_type": "stream",
          "text": [
            "INFO:tensorflow:global_step = 4500, loss = 46.264156 (16.415 sec)\n"
          ],
          "name": "stdout"
        },
        {
          "output_type": "stream",
          "text": [
            "I0626 15:10:59.820766 140315075803008 basic_session_run_hooks.py:260] global_step = 4500, loss = 46.264156 (16.415 sec)\n"
          ],
          "name": "stderr"
        },
        {
          "output_type": "stream",
          "text": [
            "INFO:tensorflow:Calling checkpoint listeners before saving checkpoint 4575...\n"
          ],
          "name": "stdout"
        },
        {
          "output_type": "stream",
          "text": [
            "I0626 15:11:12.000384 140315075803008 basic_session_run_hooks.py:614] Calling checkpoint listeners before saving checkpoint 4575...\n"
          ],
          "name": "stderr"
        },
        {
          "output_type": "stream",
          "text": [
            "INFO:tensorflow:Saving checkpoints for 4575 into /content/drive/My Drive/Summer_21/train/model.ckpt.\n"
          ],
          "name": "stdout"
        },
        {
          "output_type": "stream",
          "text": [
            "I0626 15:11:12.006937 140315075803008 basic_session_run_hooks.py:618] Saving checkpoints for 4575 into /content/drive/My Drive/Summer_21/train/model.ckpt.\n"
          ],
          "name": "stderr"
        },
        {
          "output_type": "stream",
          "text": [
            "INFO:tensorflow:Calling checkpoint listeners after saving checkpoint 4575...\n"
          ],
          "name": "stdout"
        },
        {
          "output_type": "stream",
          "text": [
            "I0626 15:11:12.865391 140315075803008 basic_session_run_hooks.py:626] Calling checkpoint listeners after saving checkpoint 4575...\n"
          ],
          "name": "stderr"
        },
        {
          "output_type": "stream",
          "text": [
            "INFO:tensorflow:global_step/sec: 5.76343\n"
          ],
          "name": "stdout"
        },
        {
          "output_type": "stream",
          "text": [
            "I0626 15:11:17.162242 140315075803008 basic_session_run_hooks.py:702] global_step/sec: 5.76343\n"
          ],
          "name": "stderr"
        },
        {
          "output_type": "stream",
          "text": [
            "INFO:tensorflow:global_step = 4600, loss = 48.53467 (17.350 sec)\n"
          ],
          "name": "stdout"
        },
        {
          "output_type": "stream",
          "text": [
            "I0626 15:11:17.170965 140315075803008 basic_session_run_hooks.py:260] global_step = 4600, loss = 48.53467 (17.350 sec)\n"
          ],
          "name": "stderr"
        },
        {
          "output_type": "stream",
          "text": [
            "INFO:tensorflow:global_step/sec: 6.07369\n"
          ],
          "name": "stdout"
        },
        {
          "output_type": "stream",
          "text": [
            "I0626 15:11:33.626707 140315075803008 basic_session_run_hooks.py:702] global_step/sec: 6.07369\n"
          ],
          "name": "stderr"
        },
        {
          "output_type": "stream",
          "text": [
            "INFO:tensorflow:global_step = 4700, loss = 46.711765 (16.464 sec)\n"
          ],
          "name": "stdout"
        },
        {
          "output_type": "stream",
          "text": [
            "I0626 15:11:33.634610 140315075803008 basic_session_run_hooks.py:260] global_step = 4700, loss = 46.711765 (16.464 sec)\n"
          ],
          "name": "stderr"
        },
        {
          "output_type": "stream",
          "text": [
            "INFO:tensorflow:global_step/sec: 6.06586\n"
          ],
          "name": "stdout"
        },
        {
          "output_type": "stream",
          "text": [
            "I0626 15:11:50.112436 140315075803008 basic_session_run_hooks.py:702] global_step/sec: 6.06586\n"
          ],
          "name": "stderr"
        },
        {
          "output_type": "stream",
          "text": [
            "INFO:tensorflow:global_step = 4800, loss = 47.405895 (16.487 sec)\n"
          ],
          "name": "stdout"
        },
        {
          "output_type": "stream",
          "text": [
            "I0626 15:11:50.122010 140315075803008 basic_session_run_hooks.py:260] global_step = 4800, loss = 47.405895 (16.487 sec)\n"
          ],
          "name": "stderr"
        },
        {
          "output_type": "stream",
          "text": [
            "INFO:tensorflow:global_step/sec: 6.07352\n"
          ],
          "name": "stdout"
        },
        {
          "output_type": "stream",
          "text": [
            "I0626 15:12:06.577346 140315075803008 basic_session_run_hooks.py:702] global_step/sec: 6.07352\n"
          ],
          "name": "stderr"
        },
        {
          "output_type": "stream",
          "text": [
            "INFO:tensorflow:global_step = 4900, loss = 46.8666 (16.465 sec)\n"
          ],
          "name": "stdout"
        },
        {
          "output_type": "stream",
          "text": [
            "I0626 15:12:06.587020 140315075803008 basic_session_run_hooks.py:260] global_step = 4900, loss = 46.8666 (16.465 sec)\n"
          ],
          "name": "stderr"
        },
        {
          "output_type": "stream",
          "text": [
            "INFO:tensorflow:Calling checkpoint listeners before saving checkpoint 4934...\n"
          ],
          "name": "stdout"
        },
        {
          "output_type": "stream",
          "text": [
            "I0626 15:12:12.028740 140315075803008 basic_session_run_hooks.py:614] Calling checkpoint listeners before saving checkpoint 4934...\n"
          ],
          "name": "stderr"
        },
        {
          "output_type": "stream",
          "text": [
            "INFO:tensorflow:Saving checkpoints for 4934 into /content/drive/My Drive/Summer_21/train/model.ckpt.\n"
          ],
          "name": "stdout"
        },
        {
          "output_type": "stream",
          "text": [
            "I0626 15:12:12.035654 140315075803008 basic_session_run_hooks.py:618] Saving checkpoints for 4934 into /content/drive/My Drive/Summer_21/train/model.ckpt.\n"
          ],
          "name": "stderr"
        },
        {
          "output_type": "stream",
          "text": [
            "INFO:tensorflow:Calling checkpoint listeners after saving checkpoint 4934...\n"
          ],
          "name": "stdout"
        },
        {
          "output_type": "stream",
          "text": [
            "I0626 15:12:12.892692 140315075803008 basic_session_run_hooks.py:626] Calling checkpoint listeners after saving checkpoint 4934...\n"
          ],
          "name": "stderr"
        },
        {
          "output_type": "stream",
          "text": [
            "INFO:tensorflow:global_step/sec: 5.74568\n"
          ],
          "name": "stdout"
        },
        {
          "output_type": "stream",
          "text": [
            "I0626 15:12:23.981725 140315075803008 basic_session_run_hooks.py:702] global_step/sec: 5.74568\n"
          ],
          "name": "stderr"
        },
        {
          "output_type": "stream",
          "text": [
            "INFO:tensorflow:global_step = 5000, loss = 46.632946 (17.407 sec)\n"
          ],
          "name": "stdout"
        },
        {
          "output_type": "stream",
          "text": [
            "I0626 15:12:23.993629 140315075803008 basic_session_run_hooks.py:260] global_step = 5000, loss = 46.632946 (17.407 sec)\n"
          ],
          "name": "stderr"
        },
        {
          "output_type": "stream",
          "text": [
            "INFO:tensorflow:global_step/sec: 6.07133\n"
          ],
          "name": "stdout"
        },
        {
          "output_type": "stream",
          "text": [
            "I0626 15:12:40.452569 140315075803008 basic_session_run_hooks.py:702] global_step/sec: 6.07133\n"
          ],
          "name": "stderr"
        },
        {
          "output_type": "stream",
          "text": [
            "INFO:tensorflow:global_step = 5100, loss = 48.67037 (16.463 sec)\n"
          ],
          "name": "stdout"
        },
        {
          "output_type": "stream",
          "text": [
            "I0626 15:12:40.457118 140315075803008 basic_session_run_hooks.py:260] global_step = 5100, loss = 48.67037 (16.463 sec)\n"
          ],
          "name": "stderr"
        },
        {
          "output_type": "stream",
          "text": [
            "INFO:tensorflow:global_step/sec: 6.08617\n"
          ],
          "name": "stdout"
        },
        {
          "output_type": "stream",
          "text": [
            "I0626 15:12:56.883264 140315075803008 basic_session_run_hooks.py:702] global_step/sec: 6.08617\n"
          ],
          "name": "stderr"
        },
        {
          "output_type": "stream",
          "text": [
            "INFO:tensorflow:global_step = 5200, loss = 45.716747 (16.435 sec)\n"
          ],
          "name": "stdout"
        },
        {
          "output_type": "stream",
          "text": [
            "I0626 15:12:56.891734 140315075803008 basic_session_run_hooks.py:260] global_step = 5200, loss = 45.716747 (16.435 sec)\n"
          ],
          "name": "stderr"
        },
        {
          "output_type": "stream",
          "text": [
            "INFO:tensorflow:Calling checkpoint listeners before saving checkpoint 5294...\n"
          ],
          "name": "stdout"
        },
        {
          "output_type": "stream",
          "text": [
            "I0626 15:13:12.125786 140315075803008 basic_session_run_hooks.py:614] Calling checkpoint listeners before saving checkpoint 5294...\n"
          ],
          "name": "stderr"
        },
        {
          "output_type": "stream",
          "text": [
            "INFO:tensorflow:Saving checkpoints for 5294 into /content/drive/My Drive/Summer_21/train/model.ckpt.\n"
          ],
          "name": "stdout"
        },
        {
          "output_type": "stream",
          "text": [
            "I0626 15:13:12.132747 140315075803008 basic_session_run_hooks.py:618] Saving checkpoints for 5294 into /content/drive/My Drive/Summer_21/train/model.ckpt.\n"
          ],
          "name": "stderr"
        },
        {
          "output_type": "stream",
          "text": [
            "INFO:tensorflow:Calling checkpoint listeners after saving checkpoint 5294...\n"
          ],
          "name": "stdout"
        },
        {
          "output_type": "stream",
          "text": [
            "I0626 15:13:12.993106 140315075803008 basic_session_run_hooks.py:626] Calling checkpoint listeners after saving checkpoint 5294...\n"
          ],
          "name": "stderr"
        },
        {
          "output_type": "stream",
          "text": [
            "INFO:tensorflow:global_step/sec: 5.7919\n"
          ],
          "name": "stdout"
        },
        {
          "output_type": "stream",
          "text": [
            "I0626 15:13:14.148777 140315075803008 basic_session_run_hooks.py:702] global_step/sec: 5.7919\n"
          ],
          "name": "stderr"
        },
        {
          "output_type": "stream",
          "text": [
            "INFO:tensorflow:global_step = 5300, loss = 46.944485 (17.269 sec)\n"
          ],
          "name": "stdout"
        },
        {
          "output_type": "stream",
          "text": [
            "I0626 15:13:14.160434 140315075803008 basic_session_run_hooks.py:260] global_step = 5300, loss = 46.944485 (17.269 sec)\n"
          ],
          "name": "stderr"
        },
        {
          "output_type": "stream",
          "text": [
            "INFO:tensorflow:global_step/sec: 6.04662\n"
          ],
          "name": "stdout"
        },
        {
          "output_type": "stream",
          "text": [
            "I0626 15:13:30.686953 140315075803008 basic_session_run_hooks.py:702] global_step/sec: 6.04662\n"
          ],
          "name": "stderr"
        },
        {
          "output_type": "stream",
          "text": [
            "INFO:tensorflow:global_step = 5400, loss = 44.417118 (16.535 sec)\n"
          ],
          "name": "stdout"
        },
        {
          "output_type": "stream",
          "text": [
            "I0626 15:13:30.695913 140315075803008 basic_session_run_hooks.py:260] global_step = 5400, loss = 44.417118 (16.535 sec)\n"
          ],
          "name": "stderr"
        },
        {
          "output_type": "stream",
          "text": [
            "INFO:tensorflow:global_step/sec: 6.07953\n"
          ],
          "name": "stdout"
        },
        {
          "output_type": "stream",
          "text": [
            "I0626 15:13:47.135616 140315075803008 basic_session_run_hooks.py:702] global_step/sec: 6.07953\n"
          ],
          "name": "stderr"
        },
        {
          "output_type": "stream",
          "text": [
            "INFO:tensorflow:global_step = 5500, loss = 46.058018 (16.453 sec)\n"
          ],
          "name": "stdout"
        },
        {
          "output_type": "stream",
          "text": [
            "I0626 15:13:47.148837 140315075803008 basic_session_run_hooks.py:260] global_step = 5500, loss = 46.058018 (16.453 sec)\n"
          ],
          "name": "stderr"
        },
        {
          "output_type": "stream",
          "text": [
            "INFO:tensorflow:global_step/sec: 6.10423\n"
          ],
          "name": "stdout"
        },
        {
          "output_type": "stream",
          "text": [
            "I0626 15:14:03.517717 140315075803008 basic_session_run_hooks.py:702] global_step/sec: 6.10423\n"
          ],
          "name": "stderr"
        },
        {
          "output_type": "stream",
          "text": [
            "INFO:tensorflow:global_step = 5600, loss = 45.705376 (16.380 sec)\n"
          ],
          "name": "stdout"
        },
        {
          "output_type": "stream",
          "text": [
            "I0626 15:14:03.529162 140315075803008 basic_session_run_hooks.py:260] global_step = 5600, loss = 45.705376 (16.380 sec)\n"
          ],
          "name": "stderr"
        },
        {
          "output_type": "stream",
          "text": [
            "INFO:tensorflow:Calling checkpoint listeners before saving checkpoint 5654...\n"
          ],
          "name": "stdout"
        },
        {
          "output_type": "stream",
          "text": [
            "I0626 15:14:12.231058 140315075803008 basic_session_run_hooks.py:614] Calling checkpoint listeners before saving checkpoint 5654...\n"
          ],
          "name": "stderr"
        },
        {
          "output_type": "stream",
          "text": [
            "INFO:tensorflow:Saving checkpoints for 5654 into /content/drive/My Drive/Summer_21/train/model.ckpt.\n"
          ],
          "name": "stdout"
        },
        {
          "output_type": "stream",
          "text": [
            "I0626 15:14:12.233647 140315075803008 basic_session_run_hooks.py:618] Saving checkpoints for 5654 into /content/drive/My Drive/Summer_21/train/model.ckpt.\n"
          ],
          "name": "stderr"
        },
        {
          "output_type": "stream",
          "text": [
            "INFO:tensorflow:Calling checkpoint listeners after saving checkpoint 5654...\n"
          ],
          "name": "stdout"
        },
        {
          "output_type": "stream",
          "text": [
            "I0626 15:14:13.078286 140315075803008 basic_session_run_hooks.py:626] Calling checkpoint listeners after saving checkpoint 5654...\n"
          ],
          "name": "stderr"
        },
        {
          "output_type": "stream",
          "text": [
            "INFO:tensorflow:global_step/sec: 5.76974\n"
          ],
          "name": "stdout"
        },
        {
          "output_type": "stream",
          "text": [
            "I0626 15:14:20.849499 140315075803008 basic_session_run_hooks.py:702] global_step/sec: 5.76974\n"
          ],
          "name": "stderr"
        },
        {
          "output_type": "stream",
          "text": [
            "INFO:tensorflow:global_step = 5700, loss = 44.898235 (17.325 sec)\n"
          ],
          "name": "stdout"
        },
        {
          "output_type": "stream",
          "text": [
            "I0626 15:14:20.854342 140315075803008 basic_session_run_hooks.py:260] global_step = 5700, loss = 44.898235 (17.325 sec)\n"
          ],
          "name": "stderr"
        },
        {
          "output_type": "stream",
          "text": [
            "INFO:tensorflow:global_step/sec: 6.08307\n"
          ],
          "name": "stdout"
        },
        {
          "output_type": "stream",
          "text": [
            "I0626 15:14:37.288574 140315075803008 basic_session_run_hooks.py:702] global_step/sec: 6.08307\n"
          ],
          "name": "stderr"
        },
        {
          "output_type": "stream",
          "text": [
            "INFO:tensorflow:global_step = 5800, loss = 44.5072 (16.447 sec)\n"
          ],
          "name": "stdout"
        },
        {
          "output_type": "stream",
          "text": [
            "I0626 15:14:37.301426 140315075803008 basic_session_run_hooks.py:260] global_step = 5800, loss = 44.5072 (16.447 sec)\n"
          ],
          "name": "stderr"
        },
        {
          "output_type": "stream",
          "text": [
            "INFO:tensorflow:global_step/sec: 6.0555\n"
          ],
          "name": "stdout"
        },
        {
          "output_type": "stream",
          "text": [
            "I0626 15:14:53.802488 140315075803008 basic_session_run_hooks.py:702] global_step/sec: 6.0555\n"
          ],
          "name": "stderr"
        },
        {
          "output_type": "stream",
          "text": [
            "INFO:tensorflow:global_step = 5900, loss = 47.05952 (16.509 sec)\n"
          ],
          "name": "stdout"
        },
        {
          "output_type": "stream",
          "text": [
            "I0626 15:14:53.809994 140315075803008 basic_session_run_hooks.py:260] global_step = 5900, loss = 47.05952 (16.509 sec)\n"
          ],
          "name": "stderr"
        },
        {
          "output_type": "stream",
          "text": [
            "INFO:tensorflow:global_step/sec: 6.09113\n"
          ],
          "name": "stdout"
        },
        {
          "output_type": "stream",
          "text": [
            "I0626 15:15:10.219806 140315075803008 basic_session_run_hooks.py:702] global_step/sec: 6.09113\n"
          ],
          "name": "stderr"
        },
        {
          "output_type": "stream",
          "text": [
            "INFO:tensorflow:global_step = 6000, loss = 45.14548 (16.419 sec)\n"
          ],
          "name": "stdout"
        },
        {
          "output_type": "stream",
          "text": [
            "I0626 15:15:10.229113 140315075803008 basic_session_run_hooks.py:260] global_step = 6000, loss = 45.14548 (16.419 sec)\n"
          ],
          "name": "stderr"
        },
        {
          "output_type": "stream",
          "text": [
            "INFO:tensorflow:Calling checkpoint listeners before saving checkpoint 6014...\n"
          ],
          "name": "stdout"
        },
        {
          "output_type": "stream",
          "text": [
            "I0626 15:15:12.381189 140315075803008 basic_session_run_hooks.py:614] Calling checkpoint listeners before saving checkpoint 6014...\n"
          ],
          "name": "stderr"
        },
        {
          "output_type": "stream",
          "text": [
            "INFO:tensorflow:Saving checkpoints for 6014 into /content/drive/My Drive/Summer_21/train/model.ckpt.\n"
          ],
          "name": "stdout"
        },
        {
          "output_type": "stream",
          "text": [
            "I0626 15:15:12.384804 140315075803008 basic_session_run_hooks.py:618] Saving checkpoints for 6014 into /content/drive/My Drive/Summer_21/train/model.ckpt.\n"
          ],
          "name": "stderr"
        },
        {
          "output_type": "stream",
          "text": [
            "INFO:tensorflow:Calling checkpoint listeners after saving checkpoint 6014...\n"
          ],
          "name": "stdout"
        },
        {
          "output_type": "stream",
          "text": [
            "I0626 15:15:13.232182 140315075803008 basic_session_run_hooks.py:626] Calling checkpoint listeners after saving checkpoint 6014...\n"
          ],
          "name": "stderr"
        },
        {
          "output_type": "stream",
          "text": [
            "INFO:tensorflow:global_step/sec: 5.75828\n"
          ],
          "name": "stdout"
        },
        {
          "output_type": "stream",
          "text": [
            "I0626 15:15:27.586084 140315075803008 basic_session_run_hooks.py:702] global_step/sec: 5.75828\n"
          ],
          "name": "stderr"
        },
        {
          "output_type": "stream",
          "text": [
            "INFO:tensorflow:global_step = 6100, loss = 46.80369 (17.365 sec)\n"
          ],
          "name": "stdout"
        },
        {
          "output_type": "stream",
          "text": [
            "I0626 15:15:27.593808 140315075803008 basic_session_run_hooks.py:260] global_step = 6100, loss = 46.80369 (17.365 sec)\n"
          ],
          "name": "stderr"
        },
        {
          "output_type": "stream",
          "text": [
            "INFO:tensorflow:global_step/sec: 6.09785\n"
          ],
          "name": "stdout"
        },
        {
          "output_type": "stream",
          "text": [
            "I0626 15:15:43.985297 140315075803008 basic_session_run_hooks.py:702] global_step/sec: 6.09785\n"
          ],
          "name": "stderr"
        },
        {
          "output_type": "stream",
          "text": [
            "INFO:tensorflow:global_step = 6200, loss = 44.90235 (16.402 sec)\n"
          ],
          "name": "stdout"
        },
        {
          "output_type": "stream",
          "text": [
            "I0626 15:15:43.996051 140315075803008 basic_session_run_hooks.py:260] global_step = 6200, loss = 44.90235 (16.402 sec)\n"
          ],
          "name": "stderr"
        },
        {
          "output_type": "stream",
          "text": [
            "INFO:tensorflow:global_step/sec: 6.12755\n"
          ],
          "name": "stdout"
        },
        {
          "output_type": "stream",
          "text": [
            "I0626 15:16:00.305047 140315075803008 basic_session_run_hooks.py:702] global_step/sec: 6.12755\n"
          ],
          "name": "stderr"
        },
        {
          "output_type": "stream",
          "text": [
            "INFO:tensorflow:global_step = 6300, loss = 45.69738 (16.316 sec)\n"
          ],
          "name": "stdout"
        },
        {
          "output_type": "stream",
          "text": [
            "I0626 15:16:00.312447 140315075803008 basic_session_run_hooks.py:260] global_step = 6300, loss = 45.69738 (16.316 sec)\n"
          ],
          "name": "stderr"
        },
        {
          "output_type": "stream",
          "text": [
            "INFO:tensorflow:Calling checkpoint listeners before saving checkpoint 6375...\n"
          ],
          "name": "stdout"
        },
        {
          "output_type": "stream",
          "text": [
            "I0626 15:16:12.408920 140315075803008 basic_session_run_hooks.py:614] Calling checkpoint listeners before saving checkpoint 6375...\n"
          ],
          "name": "stderr"
        },
        {
          "output_type": "stream",
          "text": [
            "INFO:tensorflow:Saving checkpoints for 6375 into /content/drive/My Drive/Summer_21/train/model.ckpt.\n"
          ],
          "name": "stdout"
        },
        {
          "output_type": "stream",
          "text": [
            "I0626 15:16:12.411663 140315075803008 basic_session_run_hooks.py:618] Saving checkpoints for 6375 into /content/drive/My Drive/Summer_21/train/model.ckpt.\n"
          ],
          "name": "stderr"
        },
        {
          "output_type": "stream",
          "text": [
            "INFO:tensorflow:Calling checkpoint listeners after saving checkpoint 6375...\n"
          ],
          "name": "stdout"
        },
        {
          "output_type": "stream",
          "text": [
            "I0626 15:16:13.232358 140315075803008 basic_session_run_hooks.py:626] Calling checkpoint listeners after saving checkpoint 6375...\n"
          ],
          "name": "stderr"
        },
        {
          "output_type": "stream",
          "text": [
            "INFO:tensorflow:global_step/sec: 5.82269\n"
          ],
          "name": "stdout"
        },
        {
          "output_type": "stream",
          "text": [
            "I0626 15:16:17.479222 140315075803008 basic_session_run_hooks.py:702] global_step/sec: 5.82269\n"
          ],
          "name": "stderr"
        },
        {
          "output_type": "stream",
          "text": [
            "INFO:tensorflow:global_step = 6400, loss = 44.31991 (17.174 sec)\n"
          ],
          "name": "stdout"
        },
        {
          "output_type": "stream",
          "text": [
            "I0626 15:16:17.486924 140315075803008 basic_session_run_hooks.py:260] global_step = 6400, loss = 44.31991 (17.174 sec)\n"
          ],
          "name": "stderr"
        },
        {
          "output_type": "stream",
          "text": [
            "INFO:tensorflow:global_step/sec: 6.09169\n"
          ],
          "name": "stdout"
        },
        {
          "output_type": "stream",
          "text": [
            "I0626 15:16:33.895031 140315075803008 basic_session_run_hooks.py:702] global_step/sec: 6.09169\n"
          ],
          "name": "stderr"
        },
        {
          "output_type": "stream",
          "text": [
            "INFO:tensorflow:global_step = 6500, loss = 44.39119 (16.419 sec)\n"
          ],
          "name": "stdout"
        },
        {
          "output_type": "stream",
          "text": [
            "I0626 15:16:33.906302 140315075803008 basic_session_run_hooks.py:260] global_step = 6500, loss = 44.39119 (16.419 sec)\n"
          ],
          "name": "stderr"
        },
        {
          "output_type": "stream",
          "text": [
            "INFO:tensorflow:global_step/sec: 6.07959\n"
          ],
          "name": "stdout"
        },
        {
          "output_type": "stream",
          "text": [
            "I0626 15:16:50.343519 140315075803008 basic_session_run_hooks.py:702] global_step/sec: 6.07959\n"
          ],
          "name": "stderr"
        },
        {
          "output_type": "stream",
          "text": [
            "INFO:tensorflow:global_step = 6600, loss = 44.534386 (16.442 sec)\n"
          ],
          "name": "stdout"
        },
        {
          "output_type": "stream",
          "text": [
            "I0626 15:16:50.347984 140315075803008 basic_session_run_hooks.py:260] global_step = 6600, loss = 44.534386 (16.442 sec)\n"
          ],
          "name": "stderr"
        },
        {
          "output_type": "stream",
          "text": [
            "INFO:tensorflow:global_step/sec: 6.12958\n"
          ],
          "name": "stdout"
        },
        {
          "output_type": "stream",
          "text": [
            "I0626 15:17:06.657837 140315075803008 basic_session_run_hooks.py:702] global_step/sec: 6.12958\n"
          ],
          "name": "stderr"
        },
        {
          "output_type": "stream",
          "text": [
            "INFO:tensorflow:global_step = 6700, loss = 44.46624 (16.313 sec)\n"
          ],
          "name": "stdout"
        },
        {
          "output_type": "stream",
          "text": [
            "I0626 15:17:06.660729 140315075803008 basic_session_run_hooks.py:260] global_step = 6700, loss = 44.46624 (16.313 sec)\n"
          ],
          "name": "stderr"
        },
        {
          "output_type": "stream",
          "text": [
            "INFO:tensorflow:Calling checkpoint listeners before saving checkpoint 6737...\n"
          ],
          "name": "stdout"
        },
        {
          "output_type": "stream",
          "text": [
            "I0626 15:17:12.565854 140315075803008 basic_session_run_hooks.py:614] Calling checkpoint listeners before saving checkpoint 6737...\n"
          ],
          "name": "stderr"
        },
        {
          "output_type": "stream",
          "text": [
            "INFO:tensorflow:Saving checkpoints for 6737 into /content/drive/My Drive/Summer_21/train/model.ckpt.\n"
          ],
          "name": "stdout"
        },
        {
          "output_type": "stream",
          "text": [
            "I0626 15:17:12.568101 140315075803008 basic_session_run_hooks.py:618] Saving checkpoints for 6737 into /content/drive/My Drive/Summer_21/train/model.ckpt.\n"
          ],
          "name": "stderr"
        },
        {
          "output_type": "stream",
          "text": [
            "INFO:tensorflow:Calling checkpoint listeners after saving checkpoint 6737...\n"
          ],
          "name": "stdout"
        },
        {
          "output_type": "stream",
          "text": [
            "I0626 15:17:13.405382 140315075803008 basic_session_run_hooks.py:626] Calling checkpoint listeners after saving checkpoint 6737...\n"
          ],
          "name": "stderr"
        },
        {
          "output_type": "stream",
          "text": [
            "INFO:tensorflow:global_step/sec: 5.78176\n"
          ],
          "name": "stdout"
        },
        {
          "output_type": "stream",
          "text": [
            "I0626 15:17:23.953593 140315075803008 basic_session_run_hooks.py:702] global_step/sec: 5.78176\n"
          ],
          "name": "stderr"
        },
        {
          "output_type": "stream",
          "text": [
            "INFO:tensorflow:global_step = 6800, loss = 43.514015 (17.304 sec)\n"
          ],
          "name": "stdout"
        },
        {
          "output_type": "stream",
          "text": [
            "I0626 15:17:23.964800 140315075803008 basic_session_run_hooks.py:260] global_step = 6800, loss = 43.514015 (17.304 sec)\n"
          ],
          "name": "stderr"
        },
        {
          "output_type": "stream",
          "text": [
            "INFO:tensorflow:global_step/sec: 6.10545\n"
          ],
          "name": "stdout"
        },
        {
          "output_type": "stream",
          "text": [
            "I0626 15:17:40.332420 140315075803008 basic_session_run_hooks.py:702] global_step/sec: 6.10545\n"
          ],
          "name": "stderr"
        },
        {
          "output_type": "stream",
          "text": [
            "INFO:tensorflow:global_step = 6900, loss = 46.12766 (16.378 sec)\n"
          ],
          "name": "stdout"
        },
        {
          "output_type": "stream",
          "text": [
            "I0626 15:17:40.342655 140315075803008 basic_session_run_hooks.py:260] global_step = 6900, loss = 46.12766 (16.378 sec)\n"
          ],
          "name": "stderr"
        },
        {
          "output_type": "stream",
          "text": [
            "INFO:tensorflow:global_step/sec: 6.12275\n"
          ],
          "name": "stdout"
        },
        {
          "output_type": "stream",
          "text": [
            "I0626 15:17:56.664949 140315075803008 basic_session_run_hooks.py:702] global_step/sec: 6.12275\n"
          ],
          "name": "stderr"
        },
        {
          "output_type": "stream",
          "text": [
            "INFO:tensorflow:global_step = 7000, loss = 44.703407 (16.332 sec)\n"
          ],
          "name": "stdout"
        },
        {
          "output_type": "stream",
          "text": [
            "I0626 15:17:56.674951 140315075803008 basic_session_run_hooks.py:260] global_step = 7000, loss = 44.703407 (16.332 sec)\n"
          ],
          "name": "stderr"
        },
        {
          "output_type": "stream",
          "text": [
            "INFO:tensorflow:Calling checkpoint listeners before saving checkpoint 7099...\n"
          ],
          "name": "stdout"
        },
        {
          "output_type": "stream",
          "text": [
            "I0626 15:18:12.670797 140315075803008 basic_session_run_hooks.py:614] Calling checkpoint listeners before saving checkpoint 7099...\n"
          ],
          "name": "stderr"
        },
        {
          "output_type": "stream",
          "text": [
            "INFO:tensorflow:Saving checkpoints for 7099 into /content/drive/My Drive/Summer_21/train/model.ckpt.\n"
          ],
          "name": "stdout"
        },
        {
          "output_type": "stream",
          "text": [
            "I0626 15:18:12.679416 140315075803008 basic_session_run_hooks.py:618] Saving checkpoints for 7099 into /content/drive/My Drive/Summer_21/train/model.ckpt.\n"
          ],
          "name": "stderr"
        },
        {
          "output_type": "stream",
          "text": [
            "INFO:tensorflow:Calling checkpoint listeners after saving checkpoint 7099...\n"
          ],
          "name": "stdout"
        },
        {
          "output_type": "stream",
          "text": [
            "I0626 15:18:13.494050 140315075803008 basic_session_run_hooks.py:626] Calling checkpoint listeners after saving checkpoint 7099...\n"
          ],
          "name": "stderr"
        },
        {
          "output_type": "stream",
          "text": [
            "INFO:tensorflow:global_step/sec: 5.82339\n"
          ],
          "name": "stdout"
        },
        {
          "output_type": "stream",
          "text": [
            "I0626 15:18:13.837065 140315075803008 basic_session_run_hooks.py:702] global_step/sec: 5.82339\n"
          ],
          "name": "stderr"
        },
        {
          "output_type": "stream",
          "text": [
            "INFO:tensorflow:global_step = 7100, loss = 42.284252 (17.165 sec)\n"
          ],
          "name": "stdout"
        },
        {
          "output_type": "stream",
          "text": [
            "I0626 15:18:13.840136 140315075803008 basic_session_run_hooks.py:260] global_step = 7100, loss = 42.284252 (17.165 sec)\n"
          ],
          "name": "stderr"
        },
        {
          "output_type": "stream",
          "text": [
            "INFO:tensorflow:global_step/sec: 6.08718\n"
          ],
          "name": "stdout"
        },
        {
          "output_type": "stream",
          "text": [
            "I0626 15:18:30.265058 140315075803008 basic_session_run_hooks.py:702] global_step/sec: 6.08718\n"
          ],
          "name": "stderr"
        },
        {
          "output_type": "stream",
          "text": [
            "INFO:tensorflow:global_step = 7200, loss = 44.022194 (16.433 sec)\n"
          ],
          "name": "stdout"
        },
        {
          "output_type": "stream",
          "text": [
            "I0626 15:18:30.272987 140315075803008 basic_session_run_hooks.py:260] global_step = 7200, loss = 44.022194 (16.433 sec)\n"
          ],
          "name": "stderr"
        },
        {
          "output_type": "stream",
          "text": [
            "INFO:tensorflow:global_step/sec: 6.12456\n"
          ],
          "name": "stdout"
        },
        {
          "output_type": "stream",
          "text": [
            "I0626 15:18:46.592773 140315075803008 basic_session_run_hooks.py:702] global_step/sec: 6.12456\n"
          ],
          "name": "stderr"
        },
        {
          "output_type": "stream",
          "text": [
            "INFO:tensorflow:global_step = 7300, loss = 44.622612 (16.328 sec)\n"
          ],
          "name": "stdout"
        },
        {
          "output_type": "stream",
          "text": [
            "I0626 15:18:46.600763 140315075803008 basic_session_run_hooks.py:260] global_step = 7300, loss = 44.622612 (16.328 sec)\n"
          ],
          "name": "stderr"
        },
        {
          "output_type": "stream",
          "text": [
            "INFO:tensorflow:global_step/sec: 6.12771\n"
          ],
          "name": "stdout"
        },
        {
          "output_type": "stream",
          "text": [
            "I0626 15:19:02.912143 140315075803008 basic_session_run_hooks.py:702] global_step/sec: 6.12771\n"
          ],
          "name": "stderr"
        },
        {
          "output_type": "stream",
          "text": [
            "INFO:tensorflow:global_step = 7400, loss = 44.223816 (16.321 sec)\n"
          ],
          "name": "stdout"
        },
        {
          "output_type": "stream",
          "text": [
            "I0626 15:19:02.921909 140315075803008 basic_session_run_hooks.py:260] global_step = 7400, loss = 44.223816 (16.321 sec)\n"
          ],
          "name": "stderr"
        },
        {
          "output_type": "stream",
          "text": [
            "INFO:tensorflow:Calling checkpoint listeners before saving checkpoint 7461...\n"
          ],
          "name": "stdout"
        },
        {
          "output_type": "stream",
          "text": [
            "I0626 15:19:12.727977 140315075803008 basic_session_run_hooks.py:614] Calling checkpoint listeners before saving checkpoint 7461...\n"
          ],
          "name": "stderr"
        },
        {
          "output_type": "stream",
          "text": [
            "INFO:tensorflow:Saving checkpoints for 7461 into /content/drive/My Drive/Summer_21/train/model.ckpt.\n"
          ],
          "name": "stdout"
        },
        {
          "output_type": "stream",
          "text": [
            "I0626 15:19:12.736510 140315075803008 basic_session_run_hooks.py:618] Saving checkpoints for 7461 into /content/drive/My Drive/Summer_21/train/model.ckpt.\n"
          ],
          "name": "stderr"
        },
        {
          "output_type": "stream",
          "text": [
            "INFO:tensorflow:Calling checkpoint listeners after saving checkpoint 7461...\n"
          ],
          "name": "stdout"
        },
        {
          "output_type": "stream",
          "text": [
            "I0626 15:19:13.546593 140315075803008 basic_session_run_hooks.py:626] Calling checkpoint listeners after saving checkpoint 7461...\n"
          ],
          "name": "stderr"
        },
        {
          "output_type": "stream",
          "text": [
            "INFO:tensorflow:global_step/sec: 5.82448\n"
          ],
          "name": "stdout"
        },
        {
          "output_type": "stream",
          "text": [
            "I0626 15:19:20.080940 140315075803008 basic_session_run_hooks.py:702] global_step/sec: 5.82448\n"
          ],
          "name": "stderr"
        },
        {
          "output_type": "stream",
          "text": [
            "INFO:tensorflow:global_step = 7500, loss = 44.58008 (17.172 sec)\n"
          ],
          "name": "stdout"
        },
        {
          "output_type": "stream",
          "text": [
            "I0626 15:19:20.094355 140315075803008 basic_session_run_hooks.py:260] global_step = 7500, loss = 44.58008 (17.172 sec)\n"
          ],
          "name": "stderr"
        },
        {
          "output_type": "stream",
          "text": [
            "INFO:tensorflow:global_step/sec: 6.11306\n"
          ],
          "name": "stdout"
        },
        {
          "output_type": "stream",
          "text": [
            "I0626 15:19:36.439346 140315075803008 basic_session_run_hooks.py:702] global_step/sec: 6.11306\n"
          ],
          "name": "stderr"
        },
        {
          "output_type": "stream",
          "text": [
            "INFO:tensorflow:global_step = 7600, loss = 43.222256 (16.349 sec)\n"
          ],
          "name": "stdout"
        },
        {
          "output_type": "stream",
          "text": [
            "I0626 15:19:36.443318 140315075803008 basic_session_run_hooks.py:260] global_step = 7600, loss = 43.222256 (16.349 sec)\n"
          ],
          "name": "stderr"
        },
        {
          "output_type": "stream",
          "text": [
            "INFO:tensorflow:global_step/sec: 6.12602\n"
          ],
          "name": "stdout"
        },
        {
          "output_type": "stream",
          "text": [
            "I0626 15:19:52.763165 140315075803008 basic_session_run_hooks.py:702] global_step/sec: 6.12602\n"
          ],
          "name": "stderr"
        },
        {
          "output_type": "stream",
          "text": [
            "INFO:tensorflow:global_step = 7700, loss = 44.68541 (16.328 sec)\n"
          ],
          "name": "stdout"
        },
        {
          "output_type": "stream",
          "text": [
            "I0626 15:19:52.771106 140315075803008 basic_session_run_hooks.py:260] global_step = 7700, loss = 44.68541 (16.328 sec)\n"
          ],
          "name": "stderr"
        },
        {
          "output_type": "stream",
          "text": [
            "INFO:tensorflow:global_step/sec: 6.12012\n"
          ],
          "name": "stdout"
        },
        {
          "output_type": "stream",
          "text": [
            "I0626 15:20:09.102755 140315075803008 basic_session_run_hooks.py:702] global_step/sec: 6.12012\n"
          ],
          "name": "stderr"
        },
        {
          "output_type": "stream",
          "text": [
            "INFO:tensorflow:global_step = 7800, loss = 41.192368 (16.344 sec)\n"
          ],
          "name": "stdout"
        },
        {
          "output_type": "stream",
          "text": [
            "I0626 15:20:09.115475 140315075803008 basic_session_run_hooks.py:260] global_step = 7800, loss = 41.192368 (16.344 sec)\n"
          ],
          "name": "stderr"
        },
        {
          "output_type": "stream",
          "text": [
            "INFO:tensorflow:Calling checkpoint listeners before saving checkpoint 7824...\n"
          ],
          "name": "stdout"
        },
        {
          "output_type": "stream",
          "text": [
            "I0626 15:20:12.864885 140315075803008 basic_session_run_hooks.py:614] Calling checkpoint listeners before saving checkpoint 7824...\n"
          ],
          "name": "stderr"
        },
        {
          "output_type": "stream",
          "text": [
            "INFO:tensorflow:Saving checkpoints for 7824 into /content/drive/My Drive/Summer_21/train/model.ckpt.\n"
          ],
          "name": "stdout"
        },
        {
          "output_type": "stream",
          "text": [
            "I0626 15:20:12.867159 140315075803008 basic_session_run_hooks.py:618] Saving checkpoints for 7824 into /content/drive/My Drive/Summer_21/train/model.ckpt.\n"
          ],
          "name": "stderr"
        },
        {
          "output_type": "stream",
          "text": [
            "INFO:tensorflow:Calling checkpoint listeners after saving checkpoint 7824...\n"
          ],
          "name": "stdout"
        },
        {
          "output_type": "stream",
          "text": [
            "I0626 15:20:13.704254 140315075803008 basic_session_run_hooks.py:626] Calling checkpoint listeners after saving checkpoint 7824...\n"
          ],
          "name": "stderr"
        },
        {
          "output_type": "stream",
          "text": [
            "INFO:tensorflow:global_step/sec: 5.79591\n"
          ],
          "name": "stdout"
        },
        {
          "output_type": "stream",
          "text": [
            "I0626 15:20:26.356266 140315075803008 basic_session_run_hooks.py:702] global_step/sec: 5.79591\n"
          ],
          "name": "stderr"
        },
        {
          "output_type": "stream",
          "text": [
            "INFO:tensorflow:global_step = 7900, loss = 44.017105 (17.245 sec)\n"
          ],
          "name": "stdout"
        },
        {
          "output_type": "stream",
          "text": [
            "I0626 15:20:26.360690 140315075803008 basic_session_run_hooks.py:260] global_step = 7900, loss = 44.017105 (17.245 sec)\n"
          ],
          "name": "stderr"
        },
        {
          "output_type": "stream",
          "text": [
            "INFO:tensorflow:global_step/sec: 6.11919\n"
          ],
          "name": "stdout"
        },
        {
          "output_type": "stream",
          "text": [
            "I0626 15:20:42.698331 140315075803008 basic_session_run_hooks.py:702] global_step/sec: 6.11919\n"
          ],
          "name": "stderr"
        },
        {
          "output_type": "stream",
          "text": [
            "INFO:tensorflow:global_step = 8000, loss = 43.50515 (16.346 sec)\n"
          ],
          "name": "stdout"
        },
        {
          "output_type": "stream",
          "text": [
            "I0626 15:20:42.706248 140315075803008 basic_session_run_hooks.py:260] global_step = 8000, loss = 43.50515 (16.346 sec)\n"
          ],
          "name": "stderr"
        },
        {
          "output_type": "stream",
          "text": [
            "INFO:tensorflow:global_step/sec: 6.14037\n"
          ],
          "name": "stdout"
        },
        {
          "output_type": "stream",
          "text": [
            "I0626 15:20:58.983978 140315075803008 basic_session_run_hooks.py:702] global_step/sec: 6.14037\n"
          ],
          "name": "stderr"
        },
        {
          "output_type": "stream",
          "text": [
            "INFO:tensorflow:global_step = 8100, loss = 43.570545 (16.290 sec)\n"
          ],
          "name": "stdout"
        },
        {
          "output_type": "stream",
          "text": [
            "I0626 15:20:58.995760 140315075803008 basic_session_run_hooks.py:260] global_step = 8100, loss = 43.570545 (16.290 sec)\n"
          ],
          "name": "stderr"
        },
        {
          "output_type": "stream",
          "text": [
            "INFO:tensorflow:Calling checkpoint listeners before saving checkpoint 8186...\n"
          ],
          "name": "stdout"
        },
        {
          "output_type": "stream",
          "text": [
            "I0626 15:21:12.885742 140315075803008 basic_session_run_hooks.py:614] Calling checkpoint listeners before saving checkpoint 8186...\n"
          ],
          "name": "stderr"
        },
        {
          "output_type": "stream",
          "text": [
            "INFO:tensorflow:Saving checkpoints for 8186 into /content/drive/My Drive/Summer_21/train/model.ckpt.\n"
          ],
          "name": "stdout"
        },
        {
          "output_type": "stream",
          "text": [
            "I0626 15:21:12.892759 140315075803008 basic_session_run_hooks.py:618] Saving checkpoints for 8186 into /content/drive/My Drive/Summer_21/train/model.ckpt.\n"
          ],
          "name": "stderr"
        },
        {
          "output_type": "stream",
          "text": [
            "INFO:tensorflow:Calling checkpoint listeners after saving checkpoint 8186...\n"
          ],
          "name": "stdout"
        },
        {
          "output_type": "stream",
          "text": [
            "I0626 15:21:13.718312 140315075803008 basic_session_run_hooks.py:626] Calling checkpoint listeners after saving checkpoint 8186...\n"
          ],
          "name": "stderr"
        },
        {
          "output_type": "stream",
          "text": [
            "INFO:tensorflow:global_step/sec: 5.81699\n"
          ],
          "name": "stdout"
        },
        {
          "output_type": "stream",
          "text": [
            "I0626 15:21:16.174999 140315075803008 basic_session_run_hooks.py:702] global_step/sec: 5.81699\n"
          ],
          "name": "stderr"
        },
        {
          "output_type": "stream",
          "text": [
            "INFO:tensorflow:global_step = 8200, loss = 43.48731 (17.186 sec)\n"
          ],
          "name": "stdout"
        },
        {
          "output_type": "stream",
          "text": [
            "I0626 15:21:16.181285 140315075803008 basic_session_run_hooks.py:260] global_step = 8200, loss = 43.48731 (17.186 sec)\n"
          ],
          "name": "stderr"
        }
      ]
    }
  ]
}