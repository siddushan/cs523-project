{
  "nbformat": 4,
  "nbformat_minor": 0,
  "metadata": {
    "colab": {
      "name": "MusicVAE_train_res.ipynb",
      "provenance": [],
      "collapsed_sections": [
        "hYaJ6dvF0v7g",
        "0d4st_BlUBdl",
        "6PxW0_7Z2fvb",
        "LGIZPuZc2dIa"
      ],
      "toc_visible": true
    },
    "kernelspec": {
      "name": "python3",
      "display_name": "Python 3"
    },
    "accelerator": "GPU"
  },
  "cells": [
    {
      "cell_type": "markdown",
      "metadata": {
        "id": "bhOAxQyU0rhs"
      },
      "source": [
        "Copyright 2017 Google LLC.\n",
        "\n",
        "Licensed under the Apache License, Version 2.0 (the \"License\");\n",
        "you may not use this file except in compliance with the License.\n",
        "You may obtain a copy of the License at\n",
        "\n",
        "https://www.apache.org/licenses/LICENSE-2.0\n",
        "\n",
        "Unless required by applicable law or agreed to in writing, software\n",
        "distributed under the License is distributed on an \"AS IS\" BASIS,\n",
        "WITHOUT WARRANTIES OR CONDITIONS OF ANY KIND, either express or implied.\n",
        "See the License for the specific language governing permissions and\n",
        "limitations under the License."
      ]
    },
    {
      "cell_type": "markdown",
      "metadata": {
        "id": "hYaJ6dvF0v7g"
      },
      "source": [
        "# MusicVAE: A Hierarchical Latent Vector Model for Learning Long-Term Structure in Music.\n",
        "### ___Adam Roberts, Jesse Engel, Colin Raffel, Curtis Hawthorne, and Douglas Eck___\n",
        "\n",
        "[MusicVAE](https://g.co/magenta/music-vae) learns a latent space of musical scores, providing different modes\n",
        "of interactive musical creation, including:\n",
        "\n",
        "* Random sampling from the prior distribution.\n",
        "* Interpolation between existing sequences.\n",
        "* Manipulation of existing sequences via attribute vectors.\n",
        "\n",
        "Examples of these interactions can be generated below, and selections can be heard in our\n",
        "[YouTube playlist](https://www.youtube.com/playlist?list=PLBUMAYA6kvGU8Cgqh709o5SUvo-zHGTxr).\n",
        "\n",
        "For short sequences (e.g., 2-bar \"loops\"), we use a bidirectional LSTM encoder\n",
        "and LSTM decoder. For longer sequences, we use a novel hierarchical LSTM\n",
        "decoder, which helps the model learn longer-term structures.\n",
        "\n",
        "We also model the interdependencies between instruments by training multiple\n",
        "decoders on the lowest-level embeddings of the hierarchical decoder.\n",
        "\n",
        "For additional details, check out our [blog post](https://g.co/magenta/music-vae) and [paper](https://goo.gl/magenta/musicvae-paper).\n",
        "___\n",
        "\n",
        "This colab notebook is self-contained and should run natively on google cloud. The [code](https://github.com/tensorflow/magenta/tree/master/magenta/models/music_vae) and [checkpoints](http://download.magenta.tensorflow.org/models/music_vae/checkpoints.tar.gz) can be downloaded separately and run locally, which is required if you want to train your own model."
      ]
    },
    {
      "cell_type": "markdown",
      "metadata": {
        "id": "R122bwRNbTus"
      },
      "source": [
        "# Basic Instructions\n",
        "\n",
        "1. Double click on the hidden cells to make them visible, or select \"View > Expand Sections\" in the menu at the top.\n",
        "2. Hover over the \"`[ ]`\" in the top-left corner of each cell and click on the \"Play\" button to run it, in order.\n",
        "3. Listen to the generated samples.\n",
        "4. Make it your own: copy the notebook, modify the code, train your own models, upload your own MIDI, etc.!"
      ]
    },
    {
      "cell_type": "markdown",
      "metadata": {
        "id": "ZLfb2a_12wcj"
      },
      "source": [
        "# Environment Setup\n",
        "Includes package installation for sequence synthesis. Will take a few minutes.\n"
      ]
    },
    {
      "cell_type": "code",
      "metadata": {
        "id": "PfRDVhNs3UFx",
        "cellView": "form",
        "colab": {
          "base_uri": "https://localhost:8080/"
        },
        "outputId": "dab5b2ff-55a7-4eb4-d6ec-e98269193030"
      },
      "source": [
        "#@title Setup Environment\n",
        "#@test {\"output\": \"ignore\"}\n",
        "\n",
        "import glob\n",
        "\n",
        "BASE_DIR = \"gs://download.magenta.tensorflow.org/models/music_vae/colab2\"\n",
        "\n",
        "print('Installing dependencies...')\n",
        "!apt-get update -qq && apt-get install -qq libfluidsynth1 fluid-soundfont-gm build-essential libasound2-dev libjack-dev\n",
        "!pip install -q pyfluidsynth\n",
        "!pip install -qU magenta\n",
        "\n",
        "# Hack to allow python to pick up the newly-installed fluidsynth lib.\n",
        "# This is only needed for the hosted Colab environment.\n",
        "import ctypes.util\n",
        "orig_ctypes_util_find_library = ctypes.util.find_library\n",
        "def proxy_find_library(lib):\n",
        "  if lib == 'fluidsynth':\n",
        "    return 'libfluidsynth.so.1'\n",
        "  else:\n",
        "    return orig_ctypes_util_find_library(lib)\n",
        "ctypes.util.find_library = proxy_find_library\n",
        "\n",
        "\n",
        "print('Importing libraries and defining some helper functions...')\n",
        "from google.colab import files\n",
        "import magenta.music as mm\n",
        "from magenta.models.music_vae import configs\n",
        "from magenta.models.music_vae.trained_model import TrainedModel\n",
        "import numpy as np\n",
        "import os\n",
        "import tensorflow.compat.v1 as tf\n",
        "\n",
        "tf.disable_v2_behavior()\n",
        "\n",
        "# Necessary until pyfluidsynth is updated (>1.2.5).\n",
        "import warnings\n",
        "warnings.filterwarnings(\"ignore\", category=DeprecationWarning)\n",
        "\n",
        "def play(note_sequence):\n",
        "  mm.play_sequence(note_sequence, synth=mm.fluidsynth)\n",
        "\n",
        "def interpolate(model, start_seq, end_seq, num_steps, max_length=32,\n",
        "                assert_same_length=True, temperature=0.5,\n",
        "                individual_duration=4.0):\n",
        "  \"\"\"Interpolates between a start and end sequence.\"\"\"\n",
        "  note_sequences = model.interpolate(\n",
        "      start_seq, end_seq,num_steps=num_steps, length=max_length,\n",
        "      temperature=temperature,\n",
        "      assert_same_length=assert_same_length)\n",
        "\n",
        "  print('Start Seq Reconstruction')\n",
        "  play(note_sequences[0])\n",
        "  print('End Seq Reconstruction')\n",
        "  play(note_sequences[-1])\n",
        "  print('Mean Sequence')\n",
        "  play(note_sequences[num_steps // 2])\n",
        "  print('Start -> End Interpolation')\n",
        "  interp_seq = mm.sequences_lib.concatenate_sequences(\n",
        "      note_sequences, [individual_duration] * len(note_sequences))\n",
        "  play(interp_seq)\n",
        "  mm.plot_sequence(interp_seq)\n",
        "  return interp_seq if num_steps > 3 else note_sequences[num_steps // 2]\n",
        "\n",
        "def download(note_sequence, filename):\n",
        "  mm.sequence_proto_to_midi_file(note_sequence, filename)\n",
        "  files.download(filename)\n",
        "\n",
        "print('Done')"
      ],
      "execution_count": null,
      "outputs": [
        {
          "output_type": "stream",
          "text": [
            "Installing dependencies...\n",
            "Selecting previously unselected package fluid-soundfont-gm.\n",
            "(Reading database ... 160772 files and directories currently installed.)\n",
            "Preparing to unpack .../fluid-soundfont-gm_3.1-5.1_all.deb ...\n",
            "Unpacking fluid-soundfont-gm (3.1-5.1) ...\n",
            "Selecting previously unselected package libfluidsynth1:amd64.\n",
            "Preparing to unpack .../libfluidsynth1_1.1.9-1_amd64.deb ...\n",
            "Unpacking libfluidsynth1:amd64 (1.1.9-1) ...\n",
            "Setting up fluid-soundfont-gm (3.1-5.1) ...\n",
            "Setting up libfluidsynth1:amd64 (1.1.9-1) ...\n",
            "Processing triggers for libc-bin (2.27-3ubuntu1.2) ...\n",
            "/sbin/ldconfig.real: /usr/local/lib/python3.7/dist-packages/ideep4py/lib/libmkldnn.so.0 is not a symbolic link\n",
            "\n",
            "\u001b[K     |████████████████████████████████| 1.4MB 7.4MB/s \n",
            "\u001b[K     |████████████████████████████████| 358kB 52.9MB/s \n",
            "\u001b[K     |████████████████████████████████| 71kB 9.4MB/s \n",
            "\u001b[K     |████████████████████████████████| 3.6MB 52.7MB/s \n",
            "\u001b[K     |████████████████████████████████| 204kB 43.7MB/s \n",
            "\u001b[K     |████████████████████████████████| 1.6MB 49.6MB/s \n",
            "\u001b[K     |████████████████████████████████| 5.6MB 26.3MB/s \n",
            "\u001b[K     |████████████████████████████████| 1.5MB 47.0MB/s \n",
            "\u001b[K     |████████████████████████████████| 256kB 57.0MB/s \n",
            "\u001b[K     |████████████████████████████████| 92kB 12.8MB/s \n",
            "\u001b[K     |████████████████████████████████| 2.3MB 45.8MB/s \n",
            "\u001b[K     |████████████████████████████████| 215kB 50.8MB/s \n",
            "\u001b[K     |████████████████████████████████| 20.2MB 1.4MB/s \n",
            "\u001b[K     |████████████████████████████████| 81kB 13.0MB/s \n",
            "\u001b[K     |████████████████████████████████| 5.6MB 44.8MB/s \n",
            "\u001b[K     |████████████████████████████████| 368kB 48.4MB/s \n",
            "\u001b[K     |████████████████████████████████| 686kB 41.9MB/s \n",
            "\u001b[K     |████████████████████████████████| 368kB 55.4MB/s \n",
            "\u001b[K     |████████████████████████████████| 655kB 41.2MB/s \n",
            "\u001b[K     |████████████████████████████████| 194kB 56.1MB/s \n",
            "\u001b[K     |████████████████████████████████| 256kB 56.8MB/s \n",
            "\u001b[?25h  Building wheel for python-rtmidi (setup.py) ... \u001b[?25l\u001b[?25hdone\n",
            "  Building wheel for librosa (setup.py) ... \u001b[?25l\u001b[?25hdone\n",
            "  Building wheel for pretty-midi (setup.py) ... \u001b[?25l\u001b[?25hdone\n",
            "  Building wheel for mir-eval (setup.py) ... \u001b[?25l\u001b[?25hdone\n",
            "  Building wheel for pygtrie (setup.py) ... \u001b[?25l\u001b[?25hdone\n",
            "  Building wheel for bz2file (setup.py) ... \u001b[?25l\u001b[?25hdone\n",
            "  Building wheel for pypng (setup.py) ... \u001b[?25l\u001b[?25hdone\n",
            "\u001b[31mERROR: kfac 0.2.3 has requirement tensorflow-probability==0.8, but you'll have tensorflow-probability 0.12.1 which is incompatible.\u001b[0m\n",
            "\u001b[31mERROR: tensor2tensor 1.15.7 has requirement tensorflow-probability==0.7.0, but you'll have tensorflow-probability 0.12.1 which is incompatible.\u001b[0m\n",
            "Importing libraries and defining some helper functions...\n"
          ],
          "name": "stdout"
        },
        {
          "output_type": "stream",
          "text": [
            "/usr/local/lib/python3.7/dist-packages/librosa/util/decorators.py:9: NumbaDeprecationWarning: An import was requested from a module that has moved location.\n",
            "Import requested from: 'numba.decorators', please update to use 'numba.core.decorators' or pin to Numba version 0.48.0. This alias will not be present in Numba version 0.50.0.\n",
            "  from numba.decorators import jit as optional_jit\n",
            "/usr/local/lib/python3.7/dist-packages/librosa/util/decorators.py:9: NumbaDeprecationWarning: An import was requested from a module that has moved location.\n",
            "Import of 'jit' requested from: 'numba.decorators', please update to use 'numba.core.decorators' or pin to Numba version 0.48.0. This alias will not be present in Numba version 0.50.0.\n",
            "  from numba.decorators import jit as optional_jit\n"
          ],
          "name": "stderr"
        },
        {
          "output_type": "stream",
          "text": [
            "WARNING:tensorflow:From /usr/local/lib/python3.7/dist-packages/tensorflow/python/compat/v2_compat.py:96: disable_resource_variables (from tensorflow.python.ops.variable_scope) is deprecated and will be removed in a future version.\n",
            "Instructions for updating:\n",
            "non-resource variables are not supported in the long term\n",
            "Done\n"
          ],
          "name": "stdout"
        }
      ]
    },
    {
      "cell_type": "markdown",
      "metadata": {
        "id": "mDKI2rmOk0Dv"
      },
      "source": [
        "# 16-bar Melody Models\n",
        "\n",
        "The pre-trained hierarchical model consists of a 2-layer stacked bidirectional LSTM encoder with 2048 nodes in each direction for each layer, a 16-step 2-layer LSTM \"conductor\" decoder with 1024 nodes in each layer, a 2-layer LSTM core decoder with 1024 nodes in each layer, and a Z with 512 dimensions. It was given 256 free bits, and had a fixed beta value of 0.2. After 25k steps, the final accuracy is 0.90 and KL divergence is 277 bits."
      ]
    },
    {
      "cell_type": "code",
      "metadata": {
        "id": "9zcfdVjjk3Pp",
        "colab": {
          "base_uri": "https://localhost:8080/"
        },
        "outputId": "3d87baca-1da0-428a-ff02-ee0171fbccf5"
      },
      "source": [
        "#@title Load the pre-trained models.\n",
        "mel_16bar_models = {}\n",
        "hierdec_mel_16bar_config = configs.CONFIG_MAP['hierdec-mel_16bar']\n",
        "# mel_16bar_models['hierdec_mel_16bar'] = TrainedModel(hierdec_mel_16bar_config, batch_size=4, checkpoint_dir_or_path=BASE_DIR + '/checkpoints/mel_16bar_hierdec.ckpt')\n",
        "mel_16bar_models['hierdec_mel_16bar'] = TrainedModel(hierdec_mel_16bar_config, batch_size=4, checkpoint_dir_or_path='/content/drive/Shared drives/CS523 Music/checkpoints/hierdec-piano/model.ckpt-24458')\n",
        "\n",
        "flat_mel_16bar_config = configs.CONFIG_MAP['flat-mel_16bar']\n",
        "mel_16bar_models['baseline_flat_mel_16bar'] = TrainedModel(flat_mel_16bar_config, batch_size=4, checkpoint_dir_or_path=BASE_DIR + '/checkpoints/mel_16bar_flat.ckpt')"
      ],
      "execution_count": null,
      "outputs": [
        {
          "output_type": "stream",
          "text": [
            "INFO:tensorflow:Building MusicVAE model with BidirectionalLstmEncoder, HierarchicalLstmDecoder, and hparams:\n",
            "{'max_seq_len': 256, 'z_size': 512, 'free_bits': 256, 'max_beta': 0.2, 'beta_rate': 0.0, 'batch_size': 4, 'grad_clip': 1.0, 'clip_mode': 'global_norm', 'grad_norm_clip_to_zero': 10000, 'learning_rate': 0.001, 'decay_rate': 0.9999, 'min_learning_rate': 1e-05, 'conditional': True, 'dec_rnn_size': [1024, 1024], 'enc_rnn_size': [2048, 2048], 'dropout_keep_prob': 1.0, 'sampling_schedule': 'constant', 'sampling_rate': 0.0, 'use_cudnn': False, 'residual_encoder': False, 'residual_decoder': False, 'control_preprocessing_rnn_size': [256]}\n",
            "INFO:tensorflow:\n",
            "Encoder Cells (bidirectional):\n",
            "  units: [2048, 2048]\n",
            "\n",
            "WARNING:tensorflow:`tf.nn.rnn_cell.MultiRNNCell` is deprecated. This class is equivalent as `tf.keras.layers.StackedRNNCells`, and will be replaced by that in Tensorflow 2.0.\n",
            "WARNING:tensorflow:`tf.nn.rnn_cell.MultiRNNCell` is deprecated. This class is equivalent as `tf.keras.layers.StackedRNNCells`, and will be replaced by that in Tensorflow 2.0.\n",
            "WARNING:tensorflow:`tf.nn.rnn_cell.MultiRNNCell` is deprecated. This class is equivalent as `tf.keras.layers.StackedRNNCells`, and will be replaced by that in Tensorflow 2.0.\n",
            "WARNING:tensorflow:`tf.nn.rnn_cell.MultiRNNCell` is deprecated. This class is equivalent as `tf.keras.layers.StackedRNNCells`, and will be replaced by that in Tensorflow 2.0.\n",
            "INFO:tensorflow:\n",
            "Hierarchical Decoder:\n",
            "  input length: 256\n",
            "  level output lengths: [16, 16]\n",
            "\n",
            "WARNING:tensorflow:`tf.nn.rnn_cell.MultiRNNCell` is deprecated. This class is equivalent as `tf.keras.layers.StackedRNNCells`, and will be replaced by that in Tensorflow 2.0.\n",
            "INFO:tensorflow:\n",
            "Decoder Cells:\n",
            "  units: [1024, 1024]\n",
            "\n",
            "WARNING:tensorflow:`tf.nn.rnn_cell.MultiRNNCell` is deprecated. This class is equivalent as `tf.keras.layers.StackedRNNCells`, and will be replaced by that in Tensorflow 2.0.\n"
          ],
          "name": "stdout"
        },
        {
          "output_type": "stream",
          "text": [
            "/usr/local/lib/python3.7/dist-packages/tensorflow/python/keras/legacy_tf_layers/core.py:171: UserWarning: `tf.layers.dense` is deprecated and will be removed in a future version. Please use `tf.keras.layers.Dense` instead.\n",
            "  warnings.warn('`tf.layers.dense` is deprecated and '\n",
            "/usr/local/lib/python3.7/dist-packages/tensorflow/python/keras/engine/base_layer_v1.py:1692: UserWarning: `layer.apply` is deprecated and will be removed in a future version. Please use `layer.__call__` method instead.\n",
            "  warnings.warn('`layer.apply` is deprecated and '\n",
            "/usr/local/lib/python3.7/dist-packages/tensorflow/python/keras/engine/base_layer_v1.py:1700: UserWarning: `layer.add_variable` is deprecated and will be removed in a future version. Please use `layer.add_weight` method instead.\n",
            "  warnings.warn('`layer.add_variable` is deprecated and '\n"
          ],
          "name": "stderr"
        },
        {
          "output_type": "stream",
          "text": [
            "INFO:tensorflow:Restoring parameters from /content/drive/Shared drives/CS523 Music/checkpoints/hierdec-piano/model.ckpt-24458\n",
            "INFO:tensorflow:Building MusicVAE model with BidirectionalLstmEncoder, CategoricalLstmDecoder, and hparams:\n",
            "{'max_seq_len': 256, 'z_size': 512, 'free_bits': 256, 'max_beta': 0.2, 'beta_rate': 0.0, 'batch_size': 4, 'grad_clip': 1.0, 'clip_mode': 'global_norm', 'grad_norm_clip_to_zero': 10000, 'learning_rate': 0.001, 'decay_rate': 0.9999, 'min_learning_rate': 1e-05, 'conditional': True, 'dec_rnn_size': [2048, 2048, 2048], 'enc_rnn_size': [2048, 2048], 'dropout_keep_prob': 1.0, 'sampling_schedule': 'constant', 'sampling_rate': 0.0, 'use_cudnn': False, 'residual_encoder': False, 'residual_decoder': False, 'control_preprocessing_rnn_size': [256]}\n",
            "INFO:tensorflow:\n",
            "Encoder Cells (bidirectional):\n",
            "  units: [2048, 2048]\n",
            "\n",
            "WARNING:tensorflow:`tf.nn.rnn_cell.MultiRNNCell` is deprecated. This class is equivalent as `tf.keras.layers.StackedRNNCells`, and will be replaced by that in Tensorflow 2.0.\n",
            "WARNING:tensorflow:`tf.nn.rnn_cell.MultiRNNCell` is deprecated. This class is equivalent as `tf.keras.layers.StackedRNNCells`, and will be replaced by that in Tensorflow 2.0.\n",
            "WARNING:tensorflow:`tf.nn.rnn_cell.MultiRNNCell` is deprecated. This class is equivalent as `tf.keras.layers.StackedRNNCells`, and will be replaced by that in Tensorflow 2.0.\n",
            "WARNING:tensorflow:`tf.nn.rnn_cell.MultiRNNCell` is deprecated. This class is equivalent as `tf.keras.layers.StackedRNNCells`, and will be replaced by that in Tensorflow 2.0.\n",
            "INFO:tensorflow:\n",
            "Decoder Cells:\n",
            "  units: [2048, 2048, 2048]\n",
            "\n",
            "WARNING:tensorflow:`tf.nn.rnn_cell.MultiRNNCell` is deprecated. This class is equivalent as `tf.keras.layers.StackedRNNCells`, and will be replaced by that in Tensorflow 2.0.\n",
            "INFO:tensorflow:Restoring parameters from gs://download.magenta.tensorflow.org/models/music_vae/colab2/checkpoints/mel_16bar_flat.ckpt\n"
          ],
          "name": "stdout"
        }
      ]
    },
    {
      "cell_type": "code",
      "metadata": {
        "id": "kS_QoaOc7c0_",
        "colab": {
          "base_uri": "https://localhost:8080/"
        },
        "outputId": "ce61ce41-bf66-4a13-9de5-b6b434b392ea"
      },
      "source": [
        "from google.colab import drive\n",
        "drive.mount('/content/drive')"
      ],
      "execution_count": null,
      "outputs": [
        {
          "output_type": "stream",
          "text": [
            "Mounted at /content/drive\n"
          ],
          "name": "stdout"
        }
      ]
    },
    {
      "cell_type": "code",
      "metadata": {
        "id": "_0g9uqTLN0DZ",
        "colab": {
          "base_uri": "https://localhost:8080/"
        },
        "outputId": "db59b867-45b8-42aa-fc0d-4b4393f332f7"
      },
      "source": [
        "mel_16bar_models['hierdec_mel_16bar']."
      ],
      "execution_count": null,
      "outputs": [
        {
          "output_type": "execute_result",
          "data": {
            "text/plain": [
              "<magenta.models.music_vae.trained_model.TrainedModel at 0x7f2e3238b050>"
            ]
          },
          "metadata": {
            "tags": []
          },
          "execution_count": 28
        }
      ]
    },
    {
      "cell_type": "markdown",
      "metadata": {
        "id": "l47dxtR82s0t"
      },
      "source": [
        "## Generate Samples"
      ]
    },
    {
      "cell_type": "code",
      "metadata": {
        "id": "Bptfh7C1njpV",
        "colab": {
          "base_uri": "https://localhost:8080/",
          "height": 249
        },
        "outputId": "0ee52ad2-5864-4238-c5d8-f948f5405466"
      },
      "source": [
        "#@title Generate 4 samples from the selected model prior.\n",
        "mel_sample_model = \"hierdec_mel_16bar\" #@param [\"hierdec_mel_16bar\", \"baseline_flat_mel_16bar\"]\n",
        "temperature = 0.5 #@param {type:\"slider\", min:0.1, max:1.5, step:0.1}\n",
        "mel_16_samples = mel_16bar_models[mel_sample_model].sample(n=4, length=256, temperature=temperature)\n",
        "for ns in mel_16_samples:\n",
        "  play(ns)"
      ],
      "execution_count": null,
      "outputs": [
        {
          "output_type": "display_data",
          "data": {
            "text/html": [
              "<div id=\"id_11\"> </div>"
            ],
            "text/plain": [
              "<IPython.core.display.HTML object>"
            ]
          },
          "metadata": {
            "tags": []
          }
        },
        {
          "output_type": "display_data",
          "data": {
            "text/html": [
              "<div id=\"id_12\"> </div>"
            ],
            "text/plain": [
              "<IPython.core.display.HTML object>"
            ]
          },
          "metadata": {
            "tags": []
          }
        },
        {
          "output_type": "display_data",
          "data": {
            "text/html": [
              "<div id=\"id_13\"> </div>"
            ],
            "text/plain": [
              "<IPython.core.display.HTML object>"
            ]
          },
          "metadata": {
            "tags": []
          }
        },
        {
          "output_type": "display_data",
          "data": {
            "text/html": [
              "<div id=\"id_14\"> </div>"
            ],
            "text/plain": [
              "<IPython.core.display.HTML object>"
            ]
          },
          "metadata": {
            "tags": []
          }
        }
      ]
    },
    {
      "cell_type": "code",
      "metadata": {
        "id": "X4sDzwq623Ei",
        "cellView": "form"
      },
      "source": [
        "#@title Optionally download MIDI samples.\n",
        "for i, ns in enumerate(mel_16_samples):\n",
        "  download(ns, '%s_sample_%d.mid' % (mel_sample_model, i))"
      ],
      "execution_count": null,
      "outputs": []
    },
    {
      "cell_type": "markdown",
      "metadata": {
        "id": "_ss6V0582zpU"
      },
      "source": [
        "## Generate Means"
      ]
    },
    {
      "cell_type": "code",
      "metadata": {
        "id": "38nwpNp_lprY",
        "cellView": "form"
      },
      "source": [
        "#@title Option 1: Use example MIDI files for interpolation endpoints.\n",
        "input_mel_16_midi_data = [\n",
        "    tf.io.gfile.GFile(fn, 'rb').read()\n",
        "    for fn in sorted(tf.io.gfile.glob(BASE_DIR + '/midi/mel_16bar*.mid'))]"
      ],
      "execution_count": null,
      "outputs": []
    },
    {
      "cell_type": "code",
      "metadata": {
        "id": "z-7VjVcPUpHN",
        "cellView": "form"
      },
      "source": [
        "#@title Option 2: upload your own MIDI files to use for interpolation endpoints instead of those provided.\n",
        "input_mel_16_midi_data = files.upload().values() or input_mel_16_midi_data"
      ],
      "execution_count": null,
      "outputs": []
    },
    {
      "cell_type": "code",
      "metadata": {
        "id": "C-WE4Nq2OJxH",
        "cellView": "form",
        "colab": {
          "base_uri": "https://localhost:8080/",
          "height": 167
        },
        "outputId": "81a9e834-8905-46ad-f2bf-a795c8aa6fc2"
      },
      "source": [
        "#@title Extract melodies from MIDI files. This will extract all unique 16-bar melodies using a sliding window with a stride of 1 bar.\n",
        "mel_input_seqs = [mm.midi_to_sequence_proto(m) for m in input_mel_16_midi_data]\n",
        "extracted_16_mels = []\n",
        "for ns in mel_input_seqs:\n",
        "  extracted_16_mels.extend(\n",
        "      hierdec_mel_16bar_config.data_converter.from_tensors(\n",
        "          hierdec_mel_16bar_config.data_converter.to_tensors(ns)[1]))\n",
        "for i, ns in enumerate(extracted_16_mels):\n",
        "  print(\"Melody\", i)\n",
        "  play(ns)"
      ],
      "execution_count": null,
      "outputs": [
        {
          "output_type": "stream",
          "text": [
            "Melody 0\n"
          ],
          "name": "stdout"
        },
        {
          "output_type": "display_data",
          "data": {
            "text/html": [
              "<div id=\"id_5\"> </div>"
            ],
            "text/plain": [
              "<IPython.core.display.HTML object>"
            ]
          },
          "metadata": {
            "tags": []
          }
        },
        {
          "output_type": "stream",
          "text": [
            "Melody 1\n"
          ],
          "name": "stdout"
        },
        {
          "output_type": "display_data",
          "data": {
            "text/html": [
              "<div id=\"id_6\"> </div>"
            ],
            "text/plain": [
              "<IPython.core.display.HTML object>"
            ]
          },
          "metadata": {
            "tags": []
          }
        }
      ]
    },
    {
      "cell_type": "code",
      "metadata": {
        "id": "u_Xp1rpTrayv",
        "cellView": "form",
        "colab": {
          "base_uri": "https://localhost:8080/",
          "height": 518
        },
        "outputId": "30f5ce9f-e573-46ec-fa40-30e42d5e8d1d"
      },
      "source": [
        "#@title Compute the reconstructions and mean of the two melodies, selected from the previous cell.\n",
        "mel_interp_model = \"hierdec_mel_16bar\" #@param [\"hierdec_mel_16bar\", \"baseline_flat_mel_16bar\"]\n",
        "\n",
        "start_melody = 0 #@param {type:\"integer\"}\n",
        "end_melody = 1 #@param {type:\"integer\"}\n",
        "start_mel = extracted_16_mels[start_melody]\n",
        "end_mel = extracted_16_mels[end_melody]\n",
        "\n",
        "temperature = 0.5 #@param {type:\"slider\", min:0.1, max:1.5, step:0.1}\n",
        "\n",
        "mel_16bar_mean = interpolate(mel_16bar_models[mel_interp_model], start_mel, end_mel, num_steps=3, max_length=256, individual_duration=32, temperature=temperature)"
      ],
      "execution_count": null,
      "outputs": [
        {
          "output_type": "stream",
          "text": [
            "Start Seq Reconstruction\n"
          ],
          "name": "stdout"
        },
        {
          "output_type": "display_data",
          "data": {
            "text/html": [
              "<div id=\"id_7\"> </div>"
            ],
            "text/plain": [
              "<IPython.core.display.HTML object>"
            ]
          },
          "metadata": {
            "tags": []
          }
        },
        {
          "output_type": "stream",
          "text": [
            "End Seq Reconstruction\n"
          ],
          "name": "stdout"
        },
        {
          "output_type": "display_data",
          "data": {
            "text/html": [
              "<div id=\"id_8\"> </div>"
            ],
            "text/plain": [
              "<IPython.core.display.HTML object>"
            ]
          },
          "metadata": {
            "tags": []
          }
        },
        {
          "output_type": "stream",
          "text": [
            "Mean Sequence\n"
          ],
          "name": "stdout"
        },
        {
          "output_type": "display_data",
          "data": {
            "text/html": [
              "<div id=\"id_9\"> </div>"
            ],
            "text/plain": [
              "<IPython.core.display.HTML object>"
            ]
          },
          "metadata": {
            "tags": []
          }
        },
        {
          "output_type": "stream",
          "text": [
            "Start -> End Interpolation\n"
          ],
          "name": "stdout"
        },
        {
          "output_type": "display_data",
          "data": {
            "text/html": [
              "<div id=\"id_10\"> </div>"
            ],
            "text/plain": [
              "<IPython.core.display.HTML object>"
            ]
          },
          "metadata": {
            "tags": []
          }
        },
        {
          "output_type": "display_data",
          "data": {
            "application/javascript": [
              "\n",
              "(function(root) {\n",
              "  function now() {\n",
              "    return new Date();\n",
              "  }\n",
              "\n",
              "  var force = true;\n",
              "\n",
              "  if (typeof root._bokeh_onload_callbacks === \"undefined\" || force === true) {\n",
              "    root._bokeh_onload_callbacks = [];\n",
              "    root._bokeh_is_loading = undefined;\n",
              "  }\n",
              "\n",
              "  var JS_MIME_TYPE = 'application/javascript';\n",
              "  var HTML_MIME_TYPE = 'text/html';\n",
              "  var EXEC_MIME_TYPE = 'application/vnd.bokehjs_exec.v0+json';\n",
              "  var CLASS_NAME = 'output_bokeh rendered_html';\n",
              "\n",
              "  /**\n",
              "   * Render data to the DOM node\n",
              "   */\n",
              "  function render(props, node) {\n",
              "    var script = document.createElement(\"script\");\n",
              "    node.appendChild(script);\n",
              "  }\n",
              "\n",
              "  /**\n",
              "   * Handle when an output is cleared or removed\n",
              "   */\n",
              "  function handleClearOutput(event, handle) {\n",
              "    var cell = handle.cell;\n",
              "\n",
              "    var id = cell.output_area._bokeh_element_id;\n",
              "    var server_id = cell.output_area._bokeh_server_id;\n",
              "    // Clean up Bokeh references\n",
              "    if (id != null && id in Bokeh.index) {\n",
              "      Bokeh.index[id].model.document.clear();\n",
              "      delete Bokeh.index[id];\n",
              "    }\n",
              "\n",
              "    if (server_id !== undefined) {\n",
              "      // Clean up Bokeh references\n",
              "      var cmd = \"from bokeh.io.state import curstate; print(curstate().uuid_to_server['\" + server_id + \"'].get_sessions()[0].document.roots[0]._id)\";\n",
              "      cell.notebook.kernel.execute(cmd, {\n",
              "        iopub: {\n",
              "          output: function(msg) {\n",
              "            var id = msg.content.text.trim();\n",
              "            if (id in Bokeh.index) {\n",
              "              Bokeh.index[id].model.document.clear();\n",
              "              delete Bokeh.index[id];\n",
              "            }\n",
              "          }\n",
              "        }\n",
              "      });\n",
              "      // Destroy server and session\n",
              "      var cmd = \"import bokeh.io.notebook as ion; ion.destroy_server('\" + server_id + \"')\";\n",
              "      cell.notebook.kernel.execute(cmd);\n",
              "    }\n",
              "  }\n",
              "\n",
              "  /**\n",
              "   * Handle when a new output is added\n",
              "   */\n",
              "  function handleAddOutput(event, handle) {\n",
              "    var output_area = handle.output_area;\n",
              "    var output = handle.output;\n",
              "\n",
              "    // limit handleAddOutput to display_data with EXEC_MIME_TYPE content only\n",
              "    if ((output.output_type != \"display_data\") || (!Object.prototype.hasOwnProperty.call(output.data, EXEC_MIME_TYPE))) {\n",
              "      return\n",
              "    }\n",
              "\n",
              "    var toinsert = output_area.element.find(\".\" + CLASS_NAME.split(' ')[0]);\n",
              "\n",
              "    if (output.metadata[EXEC_MIME_TYPE][\"id\"] !== undefined) {\n",
              "      toinsert[toinsert.length - 1].firstChild.textContent = output.data[JS_MIME_TYPE];\n",
              "      // store reference to embed id on output_area\n",
              "      output_area._bokeh_element_id = output.metadata[EXEC_MIME_TYPE][\"id\"];\n",
              "    }\n",
              "    if (output.metadata[EXEC_MIME_TYPE][\"server_id\"] !== undefined) {\n",
              "      var bk_div = document.createElement(\"div\");\n",
              "      bk_div.innerHTML = output.data[HTML_MIME_TYPE];\n",
              "      var script_attrs = bk_div.children[0].attributes;\n",
              "      for (var i = 0; i < script_attrs.length; i++) {\n",
              "        toinsert[toinsert.length - 1].firstChild.setAttribute(script_attrs[i].name, script_attrs[i].value);\n",
              "        toinsert[toinsert.length - 1].firstChild.textContent = bk_div.children[0].textContent\n",
              "      }\n",
              "      // store reference to server id on output_area\n",
              "      output_area._bokeh_server_id = output.metadata[EXEC_MIME_TYPE][\"server_id\"];\n",
              "    }\n",
              "  }\n",
              "\n",
              "  function register_renderer(events, OutputArea) {\n",
              "\n",
              "    function append_mime(data, metadata, element) {\n",
              "      // create a DOM node to render to\n",
              "      var toinsert = this.create_output_subarea(\n",
              "        metadata,\n",
              "        CLASS_NAME,\n",
              "        EXEC_MIME_TYPE\n",
              "      );\n",
              "      this.keyboard_manager.register_events(toinsert);\n",
              "      // Render to node\n",
              "      var props = {data: data, metadata: metadata[EXEC_MIME_TYPE]};\n",
              "      render(props, toinsert[toinsert.length - 1]);\n",
              "      element.append(toinsert);\n",
              "      return toinsert\n",
              "    }\n",
              "\n",
              "    /* Handle when an output is cleared or removed */\n",
              "    events.on('clear_output.CodeCell', handleClearOutput);\n",
              "    events.on('delete.Cell', handleClearOutput);\n",
              "\n",
              "    /* Handle when a new output is added */\n",
              "    events.on('output_added.OutputArea', handleAddOutput);\n",
              "\n",
              "    /**\n",
              "     * Register the mime type and append_mime function with output_area\n",
              "     */\n",
              "    OutputArea.prototype.register_mime_type(EXEC_MIME_TYPE, append_mime, {\n",
              "      /* Is output safe? */\n",
              "      safe: true,\n",
              "      /* Index of renderer in `output_area.display_order` */\n",
              "      index: 0\n",
              "    });\n",
              "  }\n",
              "\n",
              "  // register the mime type if in Jupyter Notebook environment and previously unregistered\n",
              "  if (root.Jupyter !== undefined) {\n",
              "    var events = require('base/js/events');\n",
              "    var OutputArea = require('notebook/js/outputarea').OutputArea;\n",
              "\n",
              "    if (OutputArea.prototype.mime_types().indexOf(EXEC_MIME_TYPE) == -1) {\n",
              "      register_renderer(events, OutputArea);\n",
              "    }\n",
              "  }\n",
              "\n",
              "  \n",
              "  if (typeof (root._bokeh_timeout) === \"undefined\" || force === true) {\n",
              "    root._bokeh_timeout = Date.now() + 5000;\n",
              "    root._bokeh_failed_load = false;\n",
              "  }\n",
              "\n",
              "  var NB_LOAD_WARNING = {'data': {'text/html':\n",
              "     \"<div style='background-color: #fdd'>\\n\"+\n",
              "     \"<p>\\n\"+\n",
              "     \"BokehJS does not appear to have successfully loaded. If loading BokehJS from CDN, this \\n\"+\n",
              "     \"may be due to a slow or bad network connection. Possible fixes:\\n\"+\n",
              "     \"</p>\\n\"+\n",
              "     \"<ul>\\n\"+\n",
              "     \"<li>re-rerun `output_notebook()` to attempt to load from CDN again, or</li>\\n\"+\n",
              "     \"<li>use INLINE resources instead, as so:</li>\\n\"+\n",
              "     \"</ul>\\n\"+\n",
              "     \"<code>\\n\"+\n",
              "     \"from bokeh.resources import INLINE\\n\"+\n",
              "     \"output_notebook(resources=INLINE)\\n\"+\n",
              "     \"</code>\\n\"+\n",
              "     \"</div>\"}};\n",
              "\n",
              "  function display_loaded() {\n",
              "    var el = document.getElementById(null);\n",
              "    if (el != null) {\n",
              "      el.textContent = \"BokehJS is loading...\";\n",
              "    }\n",
              "    if (root.Bokeh !== undefined) {\n",
              "      if (el != null) {\n",
              "        el.textContent = \"BokehJS \" + root.Bokeh.version + \" successfully loaded.\";\n",
              "      }\n",
              "    } else if (Date.now() < root._bokeh_timeout) {\n",
              "      setTimeout(display_loaded, 100)\n",
              "    }\n",
              "  }\n",
              "\n",
              "\n",
              "  function run_callbacks() {\n",
              "    try {\n",
              "      root._bokeh_onload_callbacks.forEach(function(callback) {\n",
              "        if (callback != null)\n",
              "          callback();\n",
              "      });\n",
              "    } finally {\n",
              "      delete root._bokeh_onload_callbacks\n",
              "    }\n",
              "    console.debug(\"Bokeh: all callbacks have finished\");\n",
              "  }\n",
              "\n",
              "  function load_libs(css_urls, js_urls, callback) {\n",
              "    if (css_urls == null) css_urls = [];\n",
              "    if (js_urls == null) js_urls = [];\n",
              "\n",
              "    root._bokeh_onload_callbacks.push(callback);\n",
              "    if (root._bokeh_is_loading > 0) {\n",
              "      console.debug(\"Bokeh: BokehJS is being loaded, scheduling callback at\", now());\n",
              "      return null;\n",
              "    }\n",
              "    if (js_urls == null || js_urls.length === 0) {\n",
              "      run_callbacks();\n",
              "      return null;\n",
              "    }\n",
              "    console.debug(\"Bokeh: BokehJS not loaded, scheduling load and callback at\", now());\n",
              "    root._bokeh_is_loading = css_urls.length + js_urls.length;\n",
              "\n",
              "    function on_load() {\n",
              "      root._bokeh_is_loading--;\n",
              "      if (root._bokeh_is_loading === 0) {\n",
              "        console.debug(\"Bokeh: all BokehJS libraries/stylesheets loaded\");\n",
              "        run_callbacks()\n",
              "      }\n",
              "    }\n",
              "\n",
              "    function on_error(url) {\n",
              "      console.error(\"failed to load \" + url);\n",
              "    }\n",
              "\n",
              "    for (let i = 0; i < css_urls.length; i++) {\n",
              "      const url = css_urls[i];\n",
              "      const element = document.createElement(\"link\");\n",
              "      element.onload = on_load;\n",
              "      element.onerror = on_error.bind(null, url);\n",
              "      element.rel = \"stylesheet\";\n",
              "      element.type = \"text/css\";\n",
              "      element.href = url;\n",
              "      console.debug(\"Bokeh: injecting link tag for BokehJS stylesheet: \", url);\n",
              "      document.body.appendChild(element);\n",
              "    }\n",
              "\n",
              "    const hashes = {\"https://cdn.bokeh.org/bokeh/release/bokeh-2.3.2.min.js\": \"XypntL49z55iwGVUW4qsEu83zKL3XEcz0MjuGOQ9SlaaQ68X/g+k1FcioZi7oQAc\", \"https://cdn.bokeh.org/bokeh/release/bokeh-tables-2.3.2.min.js\": \"bEsM86IHGDTLCS0Zod8a8WM6Y4+lafAL/eSiyQcuPzinmWNgNO2/olUF0Z2Dkn5i\", \"https://cdn.bokeh.org/bokeh/release/bokeh-widgets-2.3.2.min.js\": \"TX0gSQTdXTTeScqxj6PVQxTiRW8DOoGVwinyi1D3kxv7wuxQ02XkOxv0xwiypcAH\"};\n",
              "\n",
              "    for (let i = 0; i < js_urls.length; i++) {\n",
              "      const url = js_urls[i];\n",
              "      const element = document.createElement('script');\n",
              "      element.onload = on_load;\n",
              "      element.onerror = on_error.bind(null, url);\n",
              "      element.async = false;\n",
              "      element.src = url;\n",
              "      if (url in hashes) {\n",
              "        element.crossOrigin = \"anonymous\";\n",
              "        element.integrity = \"sha384-\" + hashes[url];\n",
              "      }\n",
              "      console.debug(\"Bokeh: injecting script tag for BokehJS library: \", url);\n",
              "      document.head.appendChild(element);\n",
              "    }\n",
              "  };\n",
              "\n",
              "  function inject_raw_css(css) {\n",
              "    const element = document.createElement(\"style\");\n",
              "    element.appendChild(document.createTextNode(css));\n",
              "    document.body.appendChild(element);\n",
              "  }\n",
              "\n",
              "  \n",
              "  var js_urls = [\"https://cdn.bokeh.org/bokeh/release/bokeh-2.3.2.min.js\", \"https://cdn.bokeh.org/bokeh/release/bokeh-widgets-2.3.2.min.js\", \"https://cdn.bokeh.org/bokeh/release/bokeh-tables-2.3.2.min.js\"];\n",
              "  var css_urls = [];\n",
              "  \n",
              "\n",
              "  var inline_js = [\n",
              "    function(Bokeh) {\n",
              "      Bokeh.set_log_level(\"info\");\n",
              "    },\n",
              "    function(Bokeh) {\n",
              "    \n",
              "    \n",
              "    }\n",
              "  ];\n",
              "\n",
              "  function run_inline_js() {\n",
              "    \n",
              "    if (root.Bokeh !== undefined || force === true) {\n",
              "      \n",
              "    for (var i = 0; i < inline_js.length; i++) {\n",
              "      inline_js[i].call(root, root.Bokeh);\n",
              "    }\n",
              "    } else if (Date.now() < root._bokeh_timeout) {\n",
              "      setTimeout(run_inline_js, 100);\n",
              "    } else if (!root._bokeh_failed_load) {\n",
              "      console.log(\"Bokeh: BokehJS failed to load within specified timeout.\");\n",
              "      root._bokeh_failed_load = true;\n",
              "    } else if (force !== true) {\n",
              "      var cell = $(document.getElementById(null)).parents('.cell').data().cell;\n",
              "      cell.output_area.append_execute_result(NB_LOAD_WARNING)\n",
              "    }\n",
              "\n",
              "  }\n",
              "\n",
              "  if (root._bokeh_is_loading === 0) {\n",
              "    console.debug(\"Bokeh: BokehJS loaded, going straight to plotting\");\n",
              "    run_inline_js();\n",
              "  } else {\n",
              "    load_libs(css_urls, js_urls, function() {\n",
              "      console.debug(\"Bokeh: BokehJS plotting callback run at\", now());\n",
              "      run_inline_js();\n",
              "    });\n",
              "  }\n",
              "}(window));"
            ],
            "application/vnd.bokehjs_load.v0+json": "\n(function(root) {\n  function now() {\n    return new Date();\n  }\n\n  var force = true;\n\n  if (typeof root._bokeh_onload_callbacks === \"undefined\" || force === true) {\n    root._bokeh_onload_callbacks = [];\n    root._bokeh_is_loading = undefined;\n  }\n\n  \n\n  \n  if (typeof (root._bokeh_timeout) === \"undefined\" || force === true) {\n    root._bokeh_timeout = Date.now() + 5000;\n    root._bokeh_failed_load = false;\n  }\n\n  var NB_LOAD_WARNING = {'data': {'text/html':\n     \"<div style='background-color: #fdd'>\\n\"+\n     \"<p>\\n\"+\n     \"BokehJS does not appear to have successfully loaded. If loading BokehJS from CDN, this \\n\"+\n     \"may be due to a slow or bad network connection. Possible fixes:\\n\"+\n     \"</p>\\n\"+\n     \"<ul>\\n\"+\n     \"<li>re-rerun `output_notebook()` to attempt to load from CDN again, or</li>\\n\"+\n     \"<li>use INLINE resources instead, as so:</li>\\n\"+\n     \"</ul>\\n\"+\n     \"<code>\\n\"+\n     \"from bokeh.resources import INLINE\\n\"+\n     \"output_notebook(resources=INLINE)\\n\"+\n     \"</code>\\n\"+\n     \"</div>\"}};\n\n  function display_loaded() {\n    var el = document.getElementById(null);\n    if (el != null) {\n      el.textContent = \"BokehJS is loading...\";\n    }\n    if (root.Bokeh !== undefined) {\n      if (el != null) {\n        el.textContent = \"BokehJS \" + root.Bokeh.version + \" successfully loaded.\";\n      }\n    } else if (Date.now() < root._bokeh_timeout) {\n      setTimeout(display_loaded, 100)\n    }\n  }\n\n\n  function run_callbacks() {\n    try {\n      root._bokeh_onload_callbacks.forEach(function(callback) {\n        if (callback != null)\n          callback();\n      });\n    } finally {\n      delete root._bokeh_onload_callbacks\n    }\n    console.debug(\"Bokeh: all callbacks have finished\");\n  }\n\n  function load_libs(css_urls, js_urls, callback) {\n    if (css_urls == null) css_urls = [];\n    if (js_urls == null) js_urls = [];\n\n    root._bokeh_onload_callbacks.push(callback);\n    if (root._bokeh_is_loading > 0) {\n      console.debug(\"Bokeh: BokehJS is being loaded, scheduling callback at\", now());\n      return null;\n    }\n    if (js_urls == null || js_urls.length === 0) {\n      run_callbacks();\n      return null;\n    }\n    console.debug(\"Bokeh: BokehJS not loaded, scheduling load and callback at\", now());\n    root._bokeh_is_loading = css_urls.length + js_urls.length;\n\n    function on_load() {\n      root._bokeh_is_loading--;\n      if (root._bokeh_is_loading === 0) {\n        console.debug(\"Bokeh: all BokehJS libraries/stylesheets loaded\");\n        run_callbacks()\n      }\n    }\n\n    function on_error(url) {\n      console.error(\"failed to load \" + url);\n    }\n\n    for (let i = 0; i < css_urls.length; i++) {\n      const url = css_urls[i];\n      const element = document.createElement(\"link\");\n      element.onload = on_load;\n      element.onerror = on_error.bind(null, url);\n      element.rel = \"stylesheet\";\n      element.type = \"text/css\";\n      element.href = url;\n      console.debug(\"Bokeh: injecting link tag for BokehJS stylesheet: \", url);\n      document.body.appendChild(element);\n    }\n\n    const hashes = {\"https://cdn.bokeh.org/bokeh/release/bokeh-2.3.2.min.js\": \"XypntL49z55iwGVUW4qsEu83zKL3XEcz0MjuGOQ9SlaaQ68X/g+k1FcioZi7oQAc\", \"https://cdn.bokeh.org/bokeh/release/bokeh-tables-2.3.2.min.js\": \"bEsM86IHGDTLCS0Zod8a8WM6Y4+lafAL/eSiyQcuPzinmWNgNO2/olUF0Z2Dkn5i\", \"https://cdn.bokeh.org/bokeh/release/bokeh-widgets-2.3.2.min.js\": \"TX0gSQTdXTTeScqxj6PVQxTiRW8DOoGVwinyi1D3kxv7wuxQ02XkOxv0xwiypcAH\"};\n\n    for (let i = 0; i < js_urls.length; i++) {\n      const url = js_urls[i];\n      const element = document.createElement('script');\n      element.onload = on_load;\n      element.onerror = on_error.bind(null, url);\n      element.async = false;\n      element.src = url;\n      if (url in hashes) {\n        element.crossOrigin = \"anonymous\";\n        element.integrity = \"sha384-\" + hashes[url];\n      }\n      console.debug(\"Bokeh: injecting script tag for BokehJS library: \", url);\n      document.head.appendChild(element);\n    }\n  };\n\n  function inject_raw_css(css) {\n    const element = document.createElement(\"style\");\n    element.appendChild(document.createTextNode(css));\n    document.body.appendChild(element);\n  }\n\n  \n  var js_urls = [\"https://cdn.bokeh.org/bokeh/release/bokeh-2.3.2.min.js\", \"https://cdn.bokeh.org/bokeh/release/bokeh-widgets-2.3.2.min.js\", \"https://cdn.bokeh.org/bokeh/release/bokeh-tables-2.3.2.min.js\"];\n  var css_urls = [];\n  \n\n  var inline_js = [\n    function(Bokeh) {\n      Bokeh.set_log_level(\"info\");\n    },\n    function(Bokeh) {\n    \n    \n    }\n  ];\n\n  function run_inline_js() {\n    \n    if (root.Bokeh !== undefined || force === true) {\n      \n    for (var i = 0; i < inline_js.length; i++) {\n      inline_js[i].call(root, root.Bokeh);\n    }\n    } else if (Date.now() < root._bokeh_timeout) {\n      setTimeout(run_inline_js, 100);\n    } else if (!root._bokeh_failed_load) {\n      console.log(\"Bokeh: BokehJS failed to load within specified timeout.\");\n      root._bokeh_failed_load = true;\n    } else if (force !== true) {\n      var cell = $(document.getElementById(null)).parents('.cell').data().cell;\n      cell.output_area.append_execute_result(NB_LOAD_WARNING)\n    }\n\n  }\n\n  if (root._bokeh_is_loading === 0) {\n    console.debug(\"Bokeh: BokehJS loaded, going straight to plotting\");\n    run_inline_js();\n  } else {\n    load_libs(css_urls, js_urls, function() {\n      console.debug(\"Bokeh: BokehJS plotting callback run at\", now());\n      run_inline_js();\n    });\n  }\n}(window));"
          },
          "metadata": {
            "tags": []
          }
        },
        {
          "output_type": "display_data",
          "data": {
            "text/html": [
              "\n",
              "\n",
              "\n",
              "\n",
              "\n",
              "\n",
              "  <div class=\"bk-root\" id=\"a5fd83d1-f009-4851-8120-be22c2ffea89\" data-root-id=\"1002\"></div>\n"
            ]
          },
          "metadata": {
            "tags": []
          }
        },
        {
          "output_type": "display_data",
          "data": {
            "application/javascript": [
              "(function(root) {\n",
              "  function embed_document(root) {\n",
              "    \n",
              "  var docs_json = {\"dc11c84a-f674-45fb-aea6-6ed177531c34\":{\"defs\":[],\"roots\":{\"references\":[{\"attributes\":{\"below\":[{\"id\":\"1011\"}],\"center\":[{\"id\":\"1014\"},{\"id\":\"1018\"}],\"height\":200,\"left\":[{\"id\":\"1015\"}],\"renderers\":[{\"id\":\"1038\"}],\"title\":{\"id\":\"1041\"},\"toolbar\":{\"id\":\"1025\"},\"width\":500,\"x_range\":{\"id\":\"1003\"},\"x_scale\":{\"id\":\"1007\"},\"y_range\":{\"id\":\"1005\"},\"y_scale\":{\"id\":\"1009\"}},\"id\":\"1002\",\"subtype\":\"Figure\",\"type\":\"Plot\"},{\"attributes\":{\"axis\":{\"id\":\"1011\"},\"ticker\":null},\"id\":\"1014\",\"type\":\"Grid\"},{\"attributes\":{\"callback\":null,\"tooltips\":[[\"pitch\",\"@pitch\"],[\"program\",\"@program\"],[\"velo\",\"@velocity\"],[\"duration\",\"@duration\"],[\"start_time\",\"@start_time\"],[\"end_time\",\"@end_time\"],[\"velocity\",\"@velocity\"],[\"fill_alpha\",\"@fill_alpha\"]]},\"id\":\"1019\",\"type\":\"HoverTool\"},{\"attributes\":{},\"id\":\"1049\",\"type\":\"UnionRenderers\"},{\"attributes\":{},\"id\":\"1005\",\"type\":\"DataRange1d\"},{\"attributes\":{},\"id\":\"1041\",\"type\":\"Title\"},{\"attributes\":{\"data_source\":{\"id\":\"1034\"},\"glyph\":{\"id\":\"1036\"},\"hover_glyph\":null,\"muted_glyph\":null,\"nonselection_glyph\":{\"id\":\"1037\"},\"view\":{\"id\":\"1039\"}},\"id\":\"1038\",\"type\":\"GlyphRenderer\"},{\"attributes\":{},\"id\":\"1007\",\"type\":\"LinearScale\"},{\"attributes\":{\"interval\":12},\"id\":\"1031\",\"type\":\"SingleIntervalTicker\"},{\"attributes\":{},\"id\":\"1009\",\"type\":\"LinearScale\"},{\"attributes\":{\"bottom_units\":\"screen\",\"fill_alpha\":0.5,\"fill_color\":\"lightgrey\",\"left_units\":\"screen\",\"level\":\"overlay\",\"line_alpha\":1.0,\"line_color\":\"black\",\"line_dash\":[4,4],\"line_width\":2,\"right_units\":\"screen\",\"syncable\":false,\"top_units\":\"screen\"},\"id\":\"1024\",\"type\":\"BoxAnnotation\"},{\"attributes\":{},\"id\":\"1042\",\"type\":\"BasicTickFormatter\"},{\"attributes\":{},\"id\":\"1023\",\"type\":\"SaveTool\"},{\"attributes\":{\"bottom\":{\"field\":\"bottom\"},\"fill_alpha\":{\"value\":0.1},\"fill_color\":{\"value\":\"#d53e4f\"},\"left\":{\"field\":\"start_time\"},\"line_alpha\":{\"value\":0.1},\"right\":{\"field\":\"end_time\"},\"top\":{\"field\":\"top\"}},\"id\":\"1037\",\"type\":\"Quad\"},{\"attributes\":{\"bottom\":{\"field\":\"bottom\"},\"fill_alpha\":{\"field\":\"fill_alpha\"},\"fill_color\":{\"value\":\"#d53e4f\"},\"left\":{\"field\":\"start_time\"},\"right\":{\"field\":\"end_time\"},\"top\":{\"field\":\"top\"}},\"id\":\"1036\",\"type\":\"Quad\"},{\"attributes\":{},\"id\":\"1012\",\"type\":\"BasicTicker\"},{\"attributes\":{},\"id\":\"1022\",\"type\":\"ResetTool\"},{\"attributes\":{\"overlay\":{\"id\":\"1024\"}},\"id\":\"1021\",\"type\":\"BoxZoomTool\"},{\"attributes\":{},\"id\":\"1020\",\"type\":\"PanTool\"},{\"attributes\":{},\"id\":\"1046\",\"type\":\"AllLabels\"},{\"attributes\":{},\"id\":\"1048\",\"type\":\"Selection\"},{\"attributes\":{\"data\":{\"bottom\":{\"__ndarray__\":\"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\",\"dtype\":\"float64\",\"order\":\"little\",\"shape\":[394]},\"duration\":{\"__ndarray__\":\"AAAAAAAA0D8AAAAAAADQPwAAAAAAANA/AAAAAAAA0D8AAAAAAADQPwAAAAAAANg/AAAAAAAA0D8AAAAAAADQPwAAAAAAANA/AAAAAAAA0D8AAAAAAADYPwAAAAAAANg/AAAAAAAA2D8AAAAAAADQPwAAAAAAANg/AAAAAAAA2D8AAAAAAADYPwAAAAAAANg/AAAAAAAA2D8AAAAAAADYPwAAAAAAAOA/AAAAAAAA2D8AAAAAAADYPwAAAAAAANg/AAAAAAAA2D8AAAAAAADYPwAAAAAAAOA/AAAAAAAA2D8AAAAAAADYPwAAAAAAANg/AAAAAAAA2D8AAAAAAADYPwAAAAAAANA/AAAAAAAA0D8AAAAAAADQPwAAAAAAANA/AAAAAAAA0D8AAAAAAADYPwAAAAAAANA/AAAAAAAA2D8AAAAAAADQPwAAAAAAANg/AAAAAAAA0D8AAAAAAADQPwAAAAAAANg/AAAAAAAA0D8AAAAAAADYPwAAAAAAANA/AAAAAAAA2D8AAAAAAADYPwAAAAAAANg/AAAAAAAA0D8AAAAAAADYPwAAAAAAANA/AAAAAAAA0D8AAAAAAADkPwAAAAAAAOA/AAAAAAAA2D8AAAAAAADYPwAAAAAAANg/AAAAAAAA2D8AAAAAAADYPwAAAAAAANA/AAAAAAAA2D8AAAAAAADQPwAAAAAAANg/AAAAAAAA2D8AAAAAAADQPwAAAAAAANg/AAAAAAAA2D8AAAAAAADYPwAAAAAAANA/AAAAAAAA2D8AAAAAAADkPwAAAAAAANA/AAAAAAAA0D8AAAAAAADQPwAAAAAAAOA/AAAAAAAA0D8AAAAAAADYPwAAAAAAANg/AAAAAAAA2D8AAAAAAADAPwAAAAAAANg/AAAAAAAA0D8AAAAAAADgPwAAAAAAANA/AAAAAAAA2D8AAAAAAADQPwAAAAAAANA/AAAAAAAAwD8AAAAAAADQPwAAAAAAAMA/AAAAAAAAwD8AAAAAAADAPwAAAAAAAMA/AAAAAAAA0D8AAAAAAADQPwAAAAAAANg/AAAAAAAAwD8AAAAAAADAPwAAAAAAAMA/AAAAAAAAwD8AAAAAAADAPwAAAAAAAMA/AAAAAAAAwD8AAAAAAADAPwAAAAAAAMA/AAAAAAAAwD8AAAAAAADQPwAAAAAAANA/AAAAAAAAwD8AAAAAAADAPwAAAAAAAMA/AAAAAAAA0D8AAAAAAADAPwAAAAAAAMA/AAAAAAAA0D8AAAAAAADQPwAAAAAAANg/AAAAAAAA0D8AAAAAAADQPwAAAAAAAMA/AAAAAAAA0D8AAAAAAADQPwAAAAAAANA/AAAAAAAAwD8AAAAAAADQPwAAAAAAANA/AAAAAAAA0D8AAAAAAADQPwAAAAAAANA/AAAAAAAA0D8AAAAAAADQPwAAAAAAANA/AAAAAAAA0D8AAAAAAADYPwAAAAAAAMA/AAAAAAAAwD8AAAAAAADAPwAAAAAAAMA/AAAAAAAAwD8AAAAAAADAPwAAAAAAANg/AAAAAAAA0D8AAAAAAADQPwAAAAAAAMA/AAAAAAAA2D8AAAAAAADAPwAAAAAAANA/AAAAAAAA0D8AAAAAAADAPwAAAAAAANA/AAAAAAAAwD8AAAAAAADQPwAAAAAAANA/AAAAAAAAwD8AAAAAAADQPwAAAAAAANA/AAAAAAAA0D8AAAAAAADQPwAAAAAAANA/AAAAAAAAwD8AAAAAAADQPwAAAAAAAMA/AAAAAAAAwD8AAAAAAADAPwAAAAAAAMA/AAAAAAAAwD8AAAAAAADAPwAAAAAAANA/AAAAAAAA0D8AAAAAAADAPwAAAAAAANA/AAAAAAAAwD8AAAAAAADAPwAAAAAAANA/AAAAAAAAwD8AAAAAAADAPwAAAAAAAMA/AAAAAAAAwD8AAAAAAADQPwAAAAAAANA/AAAAAAAAwD8AAAAAAADAPwAAAAAAANA/AAAAAAAA2D8AAAAAAADAPwAAAAAAANA/AAAAAAAA0D8AAAAAAADQPwAAAAAAANA/AAAAAAAA0D8AAAAAAADQPwAAAAAAAMA/AAAAAAAA0D8AAAAAAADQPwAAAAAAAANAAAAAAAAA0D8AAAAAAADYPwAAAAAAANA/AAAAAAAAwD8AAAAAAADQPwAAAAAAAMA/AAAAAAAAwD8AAAAAAADQPwAAAAAAANA/AAAAAAAA0D8AAAAAAADAPwAAAAAAANA/AAAAAAAAwD8AAAAAAADAPwAAAAAAANA/AAAAAAAAwD8AAAAAAADAPwAAAAAAANA/AAAAAAAA0D8AAAAAAADYPwAAAAAAANA/AAAAAAAA0D8AAAAAAADQPwAAAAAAANA/AAAAAAAA0D8AAAAAAADAPwAAAAAAAMA/AAAAAAAAwD8AAAAAAADAPwAAAAAAAMA/AAAAAAAAwD8AAAAAAADAPwAAAAAAAMA/AAAAAAAAwD8AAAAAAADAPwAAAAAAAMA/AAAAAAAAwD8AAAAAAADAPwAAAAAAAMA/AAAAAAAAwD8AAAAAAADAPwAAAAAAAMA/AAAAAAAAwD8AAAAAAADAPwAAAAAAAMA/AAAAAAAAwD8AAAAAAADAPwAAAAAAAMA/AAAAAAAAwD8AAAAAAADAPwAAAAAAAMA/AAAAAAAAwD8AAAAAAADAPwAAAAAAAMA/AAAAAAAAwD8AAAAAAADAPwAAAAAAAMA/AAAAAAAAwD8AAAAAAADAPwAAAAAAAMA/AAAAAAAAwD8AAAAAAADAPwAAAAAAAMA/AAAAAAAAwD8AAAAAAADAPwAAAAAAAMA/AAAAAAAAwD8AAAAAAADAPwAAAAAAAMA/AAAAAAAAwD8AAAAAAADAPwAAAAAAAMA/AAAAAAAAwD8AAAAAAADAPwAAAAAAAMA/AAAAAAAAwD8AAAAAAADAPwAAAAAAAMA/AAAAAAAAwD8AAAAAAADAPwAAAAAAAMA/AAAAAAAAwD8AAAAAAADAPwAAAAAAAMA/AAAAAAAAwD8AAAAAAADAPwAAAAAAAMA/AAAAAAAAwD8AAAAAAADAPwAAAAAAAMA/AAAAAAAA0D8AAAAAAADAPwAAAAAAAMA/AAAAAAAA0D8AAAAAAADAPwAAAAAAAMA/AAAAAAAAwD8AAAAAAADAPwAAAAAAAMA/AAAAAAAAwD8AAAAAAADAPwAAAAAAAMA/AAAAAAAAwD8AAAAAAADAPwAAAAAAAMA/AAAAAAAAwD8AAAAAAADAPwAAAAAAAMA/AAAAAAAAwD8AAAAAAADAPwAAAAAAAMA/AAAAAAAA0D8AAAAAAADAPwAAAAAAAMA/AAAAAAAAwD8AAAAAAADAPwAAAAAAAMA/AAAAAAAAwD8AAAAAAADAPwAAAAAAAMA/AAAAAAAAwD8AAAAAAADAPwAAAAAAAMA/AAAAAAAAwD8AAAAAAADAPwAAAAAAAMA/AAAAAAAA0D8AAAAAAADAPwAAAAAAAMA/AAAAAAAAwD8AAAAAAADAPwAAAAAAAMA/AAAAAAAAwD8AAAAAAADAPwAAAAAAAMA/AAAAAAAAwD8AAAAAAADAPwAAAAAAAMA/AAAAAAAA0D8AAAAAAADAPwAAAAAAAMA/AAAAAAAA0D8AAAAAAADAPwAAAAAAAMA/AAAAAAAA0D8AAAAAAADQPwAAAAAAAMA/AAAAAAAAwD8AAAAAAADAPwAAAAAAAMA/AAAAAAAAwD8AAAAAAADAPwAAAAAAAMA/AAAAAAAAwD8AAAAAAADAPwAAAAAAAMA/AAAAAAAAwD8AAAAAAADAPwAAAAAAANA/AAAAAAAAwD8AAAAAAADAPwAAAAAAAMA/AAAAAAAAwD8AAAAAAADQPwAAAAAAAMA/AAAAAAAAwD8AAAAAAADAPwAAAAAAAMA/AAAAAAAAwD8AAAAAAADAPwAAAAAAAMA/AAAAAAAAwD8AAAAAAADAPwAAAAAAAMA/AAAAAAAAwD8AAAAAAADAPwAAAAAAAMA/AAAAAAAA0D8AAAAAAADQPwAAAAAAAMA/AAAAAAAA0D8AAAAAAADAPwAAAAAAAMA/AAAAAAAAwD8AAAAAAADAPwAAAAAAANA/AAAAAAAAwD8AAAAAAADAPwAAAAAAAMA/AAAAAAAAwD8AAAAAAADAPwAAAAAAAMA/AAAAAAAAwD8AAAAAAADAPwAAAAAAAMA/AAAAAAAAwD8=\",\"dtype\":\"float64\",\"order\":\"little\",\"shape\":[394]},\"end_time\":{\"__ndarray__\":\"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\",\"dtype\":\"float64\",\"order\":\"little\",\"shape\":[394]},\"fill_alpha\":{\"__ndarray__\":\"AAAAAAAA8D8AAAAAAADwPwAAAAAAAPA/AAAAAAAA8D8AAAAAAADwPwAAAAAAAPA/AAAAAAAA8D8AAAAAAADwPwAAAAAAAPA/AAAAAAAA8D8AAAAAAADwPwAAAAAAAPA/AAAAAAAA8D8AAAAAAADwPwAAAAAAAPA/AAAAAAAA8D8AAAAAAADwPwAAAAAAAPA/AAAAAAAA8D8AAAAAAADwPwAAAAAAAPA/AAAAAAAA8D8AAAAAAADwPwAAAAAAAPA/AAAAAAAA8D8AAAAAAADwPwAAAAAAAPA/AAAAAAAA8D8AAAAAAADwPwAAAAAAAPA/AAAAAAAA8D8AAAAAAADwPwAAAAAAAPA/AAAAAAAA8D8AAAAAAADwPwAAAAAAAPA/AAAAAAAA8D8AAAAAAADwPwAAAAAAAPA/AAAAAAAA8D8AAAAAAADwPwAAAAAAAPA/AAAAAAAA8D8AAAAAAADwPwAAAAAAAPA/AAAAAAAA8D8AAAAAAADwPwAAAAAAAPA/AAAAAAAA8D8AAAAAAADwPwAAAAAAAPA/AAAAAAAA8D8AAAAAAADwPwAAAAAAAPA/AAAAAAAA8D8AAAAAAADwPwAAAAAAAPA/AAAAAAAA8D8AAAAAAADwPwAAAAAAAPA/AAAAAAAA8D8AAAAAAADwPwAAAAAAAPA/AAAAAAAA8D8AAAAAAADwPwAAAAAAAPA/AAAAAAAA8D8AAAAAAADwPwAAAAAAAPA/AAAAAAAA8D8AAAAAAADwPwAAAAAAAPA/AAAAAAAA8D8AAAAAAADwPwAAAAAAAPA/AAAAAAAA8D8AAAAAAADwPwAAAAAAAPA/AAAAAAAA8D8AAAAAAADwPwAAAAAAAPA/AAAAAAAA8D8AAAAAAADwPwAAAAAAAPA/AAAAAAAA8D8AAAAAAADwPwAAAAAAAPA/AAAAAAAA8D8AAAAAAADwPwAAAAAAAPA/AAAAAAAA8D8AAAAAAADwPwAAAAAAAPA/AAAAAAAA8D8AAAAAAADwPwAAAAAAAPA/AAAAAAAA8D8AAAAAAADwPwAAAAAAAPA/AAAAAAAA8D8AAAAAAADwPwAAAAAAAPA/AAAAAAAA8D8AAAAAAADwPwAAAAAAAPA/AAAAAAAA8D8AAAAAAADwPwAAAAAAAPA/AAAAAAAA8D8AAAAAAADwPwAAAAAAAPA/AAAAAAAA8D8AAAAAAADwPwAAAAAAAPA/AAAAAAAA8D8AAAAAAADwPwAAAAAAAPA/AAAAAAAA8D8AAAAAAADwPwAAAAAAAPA/AAAAAAAA8D8AAAAAAADwPwAAAAAAAPA/AAAAAAAA8D8AAAAAAADwPwAAAAAAAPA/AAAAAAAA8D8AAAAAAADwPwAAAAAAAPA/AAAAAAAA8D8AAAAAAADwPwAAAAAAAPA/AAAAAAAA8D8AAAAAAADwPwAAAAAAAPA/AAAAAAAA8D8AAAAAAADwPwAAAAAAAPA/AAAAAAAA8D8AAAAAAADwPwAAAAAAAPA/AAAAAAAA8D8AAAAAAADwPwAAAAAAAPA/AAAAAAAA8D8AAAAAAADwPwAAAAAAAPA/AAAAAAAA8D8AAAAAAADwPwAAAAAAAPA/AAAAAAAA8D8AAAAAAADwPwAAAAAAAPA/AAAAAAAA8D8AAAAAAADwPwAAAAAAAPA/AAAAAAAA8D8AAAAAAADwPwAAAAAAAPA/AAAAAAAA8D8AAAAAAADwPwAAAAAAAPA/AAAAAAAA8D8AAAAAAADwPwAAAAAAAPA/AAAAAAAA8D8AAAAAAADwPwAAAAAAAPA/AAAAAAAA8D8AAAAAAADwPwAAAAAAAPA/AAAAAAAA8D8AAAAAAADwPwAAAAAAAPA/AAAAAAAA8D8AAAAAAADwPwAAAAAAAPA/AAAAAAAA8D8AAAAAAADwPwAAAAAAAPA/AAAAAAAA8D8AAAAAAADwPwAAAAAAAPA/AAAAAAAA8D8AAAAAAADwPwAAAAAAAPA/AAAAAAAA8D8AAAAAAADwPwAAAAAAAPA/AAAAAAAA8D8AAAAAAADwPwAAAAAAAPA/AAAAAAAA8D8AAAAAAADwPwAAAAAAAPA/AAAAAAAA8D8AAAAAAADwPwAAAAAAAPA/AAAAAAAA8D8AAAAAAADwPwAAAAAAAPA/AAAAAAAA8D8AAAAAAADwPwAAAAAAAPA/AAAAAAAA8D8AAAAAAADwPwAAAAAAAPA/AAAAAAAA8D8AAAAAAADwPwAAAAAAAPA/AAAAAAAA8D8AAAAAAADwPwAAAAAAAPA/AAAAAAAA8D8AAAAAAADwPwAAAAAAAPA/AAAAAAAA8D8AAAAAAADwPwAAAAAAAPA/AAAAAAAA8D8AAAAAAADwPwAAAAAAAPA/AAAAAAAA8D8AAAAAAADwPwAAAAAAAPA/AAAAAAAA8D8AAAAAAADwPwAAAAAAAPA/AAAAAAAA8D8AAAAAAADwPwAAAAAAAPA/AAAAAAAA8D8AAAAAAADwPwAAAAAAAPA/AAAAAAAA8D8AAAAAAADwPwAAAAAAAPA/AAAAAAAA8D8AAAAAAADwPwAAAAAAAPA/AAAAAAAA8D8AAAAAAADwPwAAAAAAAPA/AAAAAAAA8D8AAAAAAADwPwAAAAAAAPA/AAAAAAAA8D8AAAAAAADwPwAAAAAAAPA/AAAAAAAA8D8AAAAAAADwPwAAAAAAAPA/AAAAAAAA8D8AAAAAAADwPwAAAAAAAPA/AAAAAAAA8D8AAAAAAADwPwAAAAAAAPA/AAAAAAAA8D8AAAAAAADwPwAAAAAAAPA/AAAAAAAA8D8AAAAAAADwPwAAAAAAAPA/AAAAAAAA8D8AAAAAAADwPwAAAAAAAPA/AAAAAAAA8D8AAAAAAADwPwAAAAAAAPA/AAAAAAAA8D8AAAAAAADwPwAAAAAAAPA/AAAAAAAA8D8AAAAAAADwPwAAAAAAAPA/AAAAAAAA8D8AAAAAAADwPwAAAAAAAPA/AAAAAAAA8D8AAAAAAADwPwAAAAAAAPA/AAAAAAAA8D8AAAAAAADwPwAAAAAAAPA/AAAAAAAA8D8AAAAAAADwPwAAAAAAAPA/AAAAAAAA8D8AAAAAAADwPwAAAAAAAPA/AAAAAAAA8D8AAAAAAADwPwAAAAAAAPA/AAAAAAAA8D8AAAAAAADwPwAAAAAAAPA/AAAAAAAA8D8AAAAAAADwPwAAAAAAAPA/AAAAAAAA8D8AAAAAAADwPwAAAAAAAPA/AAAAAAAA8D8AAAAAAADwPwAAAAAAAPA/AAAAAAAA8D8AAAAAAADwPwAAAAAAAPA/AAAAAAAA8D8AAAAAAADwPwAAAAAAAPA/AAAAAAAA8D8AAAAAAADwPwAAAAAAAPA/AAAAAAAA8D8AAAAAAADwPwAAAAAAAPA/AAAAAAAA8D8AAAAAAADwPwAAAAAAAPA/AAAAAAAA8D8AAAAAAADwPwAAAAAAAPA/AAAAAAAA8D8AAAAAAADwPwAAAAAAAPA/AAAAAAAA8D8AAAAAAADwPwAAAAAAAPA/AAAAAAAA8D8AAAAAAADwPwAAAAAAAPA/AAAAAAAA8D8AAAAAAADwPwAAAAAAAPA/AAAAAAAA8D8AAAAAAADwPwAAAAAAAPA/AAAAAAAA8D8AAAAAAADwPwAAAAAAAPA/AAAAAAAA8D8AAAAAAADwPwAAAAAAAPA/AAAAAAAA8D8AAAAAAADwPwAAAAAAAPA/AAAAAAAA8D8AAAAAAADwPwAAAAAAAPA/AAAAAAAA8D8AAAAAAADwPwAAAAAAAPA/AAAAAAAA8D8AAAAAAADwPwAAAAAAAPA/AAAAAAAA8D8AAAAAAADwPwAAAAAAAPA/AAAAAAAA8D8AAAAAAADwPwAAAAAAAPA/AAAAAAAA8D8AAAAAAADwPwAAAAAAAPA/AAAAAAAA8D8AAAAAAADwPwAAAAAAAPA/AAAAAAAA8D8AAAAAAADwPwAAAAAAAPA/AAAAAAAA8D8AAAAAAADwPwAAAAAAAPA/AAAAAAAA8D8AAAAAAADwPwAAAAAAAPA/AAAAAAAA8D8AAAAAAADwPwAAAAAAAPA/AAAAAAAA8D8AAAAAAADwPwAAAAAAAPA/AAAAAAAA8D8AAAAAAADwPwAAAAAAAPA/AAAAAAAA8D8AAAAAAADwPwAAAAAAAPA/AAAAAAAA8D8AAAAAAADwPwAAAAAAAPA/AAAAAAAA8D8=\",\"dtype\":\"float64\",\"order\":\"little\",\"shape\":[394]},\"index\":[0,1,2,3,4,5,6,7,8,9,10,11,12,13,14,15,16,17,18,19,20,21,22,23,24,25,26,27,28,29,30,31,32,33,34,35,36,37,38,39,40,41,42,43,44,45,46,47,48,49,50,51,52,53,54,55,56,57,58,59,60,61,62,63,64,65,66,67,68,69,70,71,72,73,74,75,76,77,78,79,80,81,82,83,84,85,86,87,88,89,90,91,92,93,94,95,96,97,98,99,100,101,102,103,104,105,106,107,108,109,110,111,112,113,114,115,116,117,118,119,120,121,122,123,124,125,126,127,128,129,130,131,132,133,134,135,136,137,138,139,140,141,142,143,144,145,146,147,148,149,150,151,152,153,154,155,156,157,158,159,160,161,162,163,164,165,166,167,168,169,170,171,172,173,174,175,176,177,178,179,180,181,182,183,184,185,186,187,188,189,190,191,192,193,194,195,196,197,198,199,200,201,202,203,204,205,206,207,208,209,210,211,212,213,214,215,216,217,218,219,220,221,222,223,224,225,226,227,228,229,230,231,232,233,234,235,236,237,238,239,240,241,242,243,244,245,246,247,248,249,250,251,252,253,254,255,256,257,258,259,260,261,262,263,264,265,266,267,268,269,270,271,272,273,274,275,276,277,278,279,280,281,282,283,284,285,286,287,288,289,290,291,292,293,294,295,296,297,298,299,300,301,302,303,304,305,306,307,308,309,310,311,312,313,314,315,316,317,318,319,320,321,322,323,324,325,326,327,328,329,330,331,332,333,334,335,336,337,338,339,340,341,342,343,344,345,346,347,348,349,350,351,352,353,354,355,356,357,358,359,360,361,362,363,364,365,366,367,368,369,370,371,372,373,374,375,376,377,378,379,380,381,382,383,384,385,386,387,388,389,390,391,392,393],\"instrument\":[0,0,0,0,0,0,0,0,0,0,0,0,0,0,0,0,0,0,0,0,0,0,0,0,0,0,0,0,0,0,0,0,0,0,0,0,0,0,0,0,0,0,0,0,0,0,0,0,0,0,0,0,0,0,0,0,0,0,0,0,0,0,0,0,0,0,0,0,0,0,0,0,0,0,0,0,0,0,0,0,0,0,0,0,0,0,0,0,0,0,0,0,0,0,0,0,0,0,0,0,0,0,0,0,0,0,0,0,0,0,0,0,0,0,0,0,0,0,0,0,0,0,0,0,0,0,0,0,0,0,0,0,0,0,0,0,0,0,0,0,0,0,0,0,0,0,0,0,0,0,0,0,0,0,0,0,0,0,0,0,0,0,0,0,0,0,0,0,0,0,0,0,0,0,0,0,0,0,0,0,0,0,0,0,0,0,0,0,0,0,0,0,0,0,0,0,0,0,0,0,0,0,0,0,0,0,0,0,0,0,0,0,0,0,0,0,0,0,0,0,0,0,0,0,0,0,0,0,0,0,0,0,0,0,0,0,0,0,0,0,0,0,0,0,0,0,0,0,0,0,0,0,0,0,0,0,0,0,0,0,0,0,0,0,0,0,0,0,0,0,0,0,0,0,0,0,0,0,0,0,0,0,0,0,0,0,0,0,0,0,0,0,0,0,0,0,0,0,0,0,0,0,0,0,0,0,0,0,0,0,0,0,0,0,0,0,0,0,0,0,0,0,0,0,0,0,0,0,0,0,0,0,0,0,0,0,0,0,0,0,0,0,0,0,0,0,0,0,0,0,0,0,0,0,0,0,0,0,0,0,0,0,0,0,0,0,0,0,0,0,0,0,0,0,0,0,0,0,0,0,0,0,0,0,0,0,0,0,0,0,0,0,0,0],\"pitch\":[73,72,70,69,65,81,70,77,75,74,70,66,73,67,68,69,71,71,77,74,71,69,73,78,71,73,76,73,78,71,73,76,67,65,64,65,73,70,69,67,69,70,66,67,69,69,56,73,55,54,56,57,71,72,71,72,62,69,67,66,64,62,71,76,74,68,77,78,68,66,73,66,64,74,71,71,69,71,72,73,68,70,67,72,63,64,63,67,45,46,65,61,64,57,64,57,61,69,66,68,56,55,46,75,75,74,74,70,75,57,81,79,78,79,76,78,74,73,74,73,66,54,52,71,56,72,72,50,57,60,59,57,55,52,54,50,52,54,57,50,69,66,69,74,69,72,71,65,70,65,74,68,64,73,76,68,75,67,73,69,68,65,61,59,65,61,59,61,59,59,66,63,75,73,71,63,66,54,57,59,68,72,70,68,66,65,66,65,61,59,69,71,66,67,81,76,67,69,79,77,75,74,75,77,46,79,68,72,70,67,65,63,62,60,58,55,53,52,53,56,56,53,56,52,52,52,52,52,52,52,52,52,52,52,52,52,78,78,69,78,69,78,69,78,69,66,77,69,72,78,74,72,71,69,71,67,66,64,63,64,71,66,67,71,73,74,72,71,69,71,67,79,71,72,67,59,60,67,84,84,84,84,84,84,84,84,81,65,84,69,67,72,65,67,65,68,67,65,60,65,67,68,67,68,70,69,69,67,65,67,55,53,55,53,55,55,61,62,64,68,66,68,66,68,66,68,66,68,64,66,68,66,57,69,71,72,74,76,78,76,74,76,74,72,72,71,69,67,66,64,62,64,69,67,79,74,62,55,43,55,74,75,75,67,67,67,64,67,64,67,64,67,64,67,67,77,76,77,79,77,76,81,79,77,79,79,79,79,79,79,79,79,67,79],\"program\":[0,0,0,0,0,0,0,0,0,0,0,0,0,0,0,0,0,0,0,0,0,0,0,0,0,0,0,0,0,0,0,0,0,0,0,0,0,0,0,0,0,0,0,0,0,0,0,0,0,0,0,0,0,0,0,0,0,0,0,0,0,0,0,0,0,0,0,0,0,0,0,0,0,0,0,0,0,0,0,0,0,0,0,0,0,0,0,0,0,0,0,0,0,0,0,0,0,0,0,0,0,0,0,0,0,0,0,0,0,0,0,0,0,0,0,0,0,0,0,0,0,0,0,0,0,0,0,0,0,0,0,0,0,0,0,0,0,0,0,0,0,0,0,0,0,0,0,0,0,0,0,0,0,0,0,0,0,0,0,0,0,0,0,0,0,0,0,0,0,0,0,0,0,0,0,0,0,0,0,0,0,0,0,0,0,0,0,0,0,0,0,0,0,0,0,0,0,0,0,0,0,0,0,0,0,0,0,0,0,0,0,0,0,0,0,0,0,0,0,0,0,0,0,0,0,0,0,0,0,0,0,0,0,0,0,0,0,0,0,0,0,0,0,0,0,0,0,0,0,0,0,0,0,0,0,0,0,0,0,0,0,0,0,0,0,0,0,0,0,0,0,0,0,0,0,0,0,0,0,0,0,0,0,0,0,0,0,0,0,0,0,0,0,0,0,0,0,0,0,0,0,0,0,0,0,0,0,0,0,0,0,0,0,0,0,0,0,0,0,0,0,0,0,0,0,0,0,0,0,0,0,0,0,0,0,0,0,0,0,0,0,0,0,0,0,0,0,0,0,0,0,0,0,0,0,0,0,0,0,0,0,0,0,0,0,0,0,0,0,0,0,0,0,0,0,0,0,0,0,0,0,0,0,0,0,0,0,0,0,0,0,0,0,0],\"start_time\":{\"__ndarray__\":\"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\",\"dtype\":\"float64\",\"order\":\"little\",\"shape\":[394]},\"top\":{\"__ndarray__\":\"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\",\"dtype\":\"float64\",\"order\":\"little\",\"shape\":[394]},\"velocity\":[80,80,80,80,80,80,80,80,80,80,80,80,80,80,80,80,80,80,80,80,80,80,80,80,80,80,80,80,80,80,80,80,80,80,80,80,80,80,80,80,80,80,80,80,80,80,80,80,80,80,80,80,80,80,80,80,80,80,80,80,80,80,80,80,80,80,80,80,80,80,80,80,80,80,80,80,80,80,80,80,80,80,80,80,80,80,80,80,80,80,80,80,80,80,80,80,80,80,80,80,80,80,80,80,80,80,80,80,80,80,80,80,80,80,80,80,80,80,80,80,80,80,80,80,80,80,80,80,80,80,80,80,80,80,80,80,80,80,80,80,80,80,80,80,80,80,80,80,80,80,80,80,80,80,80,80,80,80,80,80,80,80,80,80,80,80,80,80,80,80,80,80,80,80,80,80,80,80,80,80,80,80,80,80,80,80,80,80,80,80,80,80,80,80,80,80,80,80,80,80,80,80,80,80,80,80,80,80,80,80,80,80,80,80,80,80,80,80,80,80,80,80,80,80,80,80,80,80,80,80,80,80,80,80,80,80,80,80,80,80,80,80,80,80,80,80,80,80,80,80,80,80,80,80,80,80,80,80,80,80,80,80,80,80,80,80,80,80,80,80,80,80,80,80,80,80,80,80,80,80,80,80,80,80,80,80,80,80,80,80,80,80,80,80,80,80,80,80,80,80,80,80,80,80,80,80,80,80,80,80,80,80,80,80,80,80,80,80,80,80,80,80,80,80,80,80,80,80,80,80,80,80,80,80,80,80,80,80,80,80,80,80,80,80,80,80,80,80,80,80,80,80,80,80,80,80,80,80,80,80,80,80,80,80,80,80,80,80,80,80,80,80,80,80,80,80,80,80,80,80,80,80,80,80,80,80,80,80,80,80,80,80,80,80]},\"selected\":{\"id\":\"1048\"},\"selection_policy\":{\"id\":\"1049\"}},\"id\":\"1034\",\"type\":\"ColumnDataSource\"},{\"attributes\":{\"axis_label\":\"time (sec)\",\"formatter\":{\"id\":\"1044\"},\"major_label_policy\":{\"id\":\"1046\"},\"ticker\":{\"id\":\"1012\"}},\"id\":\"1011\",\"type\":\"LinearAxis\"},{\"attributes\":{\"active_multi\":null,\"tools\":[{\"id\":\"1019\"},{\"id\":\"1020\"},{\"id\":\"1021\"},{\"id\":\"1022\"},{\"id\":\"1023\"}]},\"id\":\"1025\",\"type\":\"Toolbar\"},{\"attributes\":{},\"id\":\"1003\",\"type\":\"DataRange1d\"},{\"attributes\":{\"interval\":12},\"id\":\"1033\",\"type\":\"SingleIntervalTicker\"},{\"attributes\":{\"axis_label\":\"pitch (MIDI)\",\"formatter\":{\"id\":\"1042\"},\"major_label_policy\":{\"id\":\"1043\"},\"ticker\":{\"id\":\"1031\"}},\"id\":\"1015\",\"type\":\"LinearAxis\"},{\"attributes\":{},\"id\":\"1043\",\"type\":\"AllLabels\"},{\"attributes\":{\"source\":{\"id\":\"1034\"}},\"id\":\"1039\",\"type\":\"CDSView\"},{\"attributes\":{},\"id\":\"1044\",\"type\":\"BasicTickFormatter\"},{\"attributes\":{\"axis\":{\"id\":\"1015\"},\"dimension\":1,\"ticker\":{\"id\":\"1033\"}},\"id\":\"1018\",\"type\":\"Grid\"}],\"root_ids\":[\"1002\"]},\"title\":\"Bokeh Application\",\"version\":\"2.3.2\"}};\n",
              "  var render_items = [{\"docid\":\"dc11c84a-f674-45fb-aea6-6ed177531c34\",\"root_ids\":[\"1002\"],\"roots\":{\"1002\":\"a5fd83d1-f009-4851-8120-be22c2ffea89\"}}];\n",
              "  root.Bokeh.embed.embed_items_notebook(docs_json, render_items);\n",
              "\n",
              "  }\n",
              "  if (root.Bokeh !== undefined) {\n",
              "    embed_document(root);\n",
              "  } else {\n",
              "    var attempts = 0;\n",
              "    var timer = setInterval(function(root) {\n",
              "      if (root.Bokeh !== undefined) {\n",
              "        clearInterval(timer);\n",
              "        embed_document(root);\n",
              "      } else {\n",
              "        attempts++;\n",
              "        if (attempts > 100) {\n",
              "          clearInterval(timer);\n",
              "          console.log(\"Bokeh: ERROR: Unable to run BokehJS code because BokehJS library is missing\");\n",
              "        }\n",
              "      }\n",
              "    }, 10, root)\n",
              "  }\n",
              "})(window);"
            ],
            "application/vnd.bokehjs_exec.v0+json": ""
          },
          "metadata": {
            "tags": [],
            "application/vnd.bokehjs_exec.v0+json": {
              "id": "1002"
            }
          }
        }
      ]
    },
    {
      "cell_type": "code",
      "metadata": {
        "id": "rONYqtlLkyS2",
        "cellView": "form"
      },
      "source": [
        "#@title Optionally download mean MIDI file.\n",
        "download(mel_16bar_mean, '%s_mean.mid' % mel_interp_model)"
      ],
      "execution_count": null,
      "outputs": []
    },
    {
      "cell_type": "markdown",
      "metadata": {
        "id": "0d4st_BlUBdl"
      },
      "source": [
        "#16-bar \"Trio\" Models (lead, bass, drums)\n",
        "\n",
        "We present two pre-trained models for 16-bar trios: a hierarchical model and a flat (baseline) model.\n",
        "\n",
        "The pre-trained hierarchical model consists of a 2-layer stacked bidirectional LSTM encoder with 2048 nodes in each direction for each layer, a 16-step 2-layer LSTM \"conductor\" decoder with 1024 nodes in each layer, 3 (lead, bass, drums) 2-layer LSTM core decoders with 1024 nodes in each layer, and a Z with 512 dimensions. It was given 1024 free bits, and had a fixed beta value of 0.1.  It was trained with scheduled sampling with an inverse sigmoid schedule and a rate of 1000. After 50k steps, the final accuracy is 0.82 for lead, 0.87 for bass, and 0.90 for drums, and the KL divergence is 1027 bits.\n",
        "\n",
        "The pre-trained flat model consists of a 2-layer stacked bidirectional LSTM encoder with 2048 nodes in each direction for each layer, a 3-layer LSTM decoder with 2048 nodes in each layer, and a Z with 512 dimensions. It was given 1024 free bits, and had a fixed beta value of 0.1.  It was trained with scheduled sampling with an inverse sigmoid schedule and a rate of 1000. After 50k steps, the final accuracy is 0.67 for lead, 0.66 for bass, and 0.79 for drums, and the KL divergence is 1016 bits."
      ]
    },
    {
      "cell_type": "code",
      "metadata": {
        "id": "FDW3h0cqUERq",
        "cellView": "form"
      },
      "source": [
        "#@title Load the pre-trained models.\n",
        "trio_models = {}\n",
        "hierdec_trio_16bar_config = configs.CONFIG_MAP['hierdec-trio_16bar']\n",
        "trio_models['hierdec_trio_16bar'] = TrainedModel(hierdec_trio_16bar_config, batch_size=4, checkpoint_dir_or_path=BASE_DIR + '/checkpoints/trio_16bar_hierdec.ckpt')\n",
        "\n",
        "flat_trio_16bar_config = configs.CONFIG_MAP['flat-trio_16bar']\n",
        "trio_models['baseline_flat_trio_16bar'] = TrainedModel(flat_trio_16bar_config, batch_size=4, checkpoint_dir_or_path=BASE_DIR + '/checkpoints/trio_16bar_flat.ckpt')"
      ],
      "execution_count": null,
      "outputs": []
    },
    {
      "cell_type": "markdown",
      "metadata": {
        "id": "6PxW0_7Z2fvb"
      },
      "source": [
        "## Generate Samples"
      ]
    },
    {
      "cell_type": "code",
      "metadata": {
        "id": "XKk8rGihUR6B"
      },
      "source": [
        "#@title Generate 4 samples from the selected model prior.\n",
        "trio_sample_model = \"hierdec_trio_16bar\" #@param [\"hierdec_trio_16bar\", \"baseline_flat_trio_16bar\"]\n",
        "temperature = 0.5 #@param {type:\"slider\", min:0.1, max:1.5, step:0.1}\n",
        "\n",
        "trio_16_samples = trio_models[trio_sample_model].sample(n=4, length=256, temperature=temperature)\n",
        "for ns in trio_16_samples:\n",
        "  play(ns)"
      ],
      "execution_count": null,
      "outputs": []
    },
    {
      "cell_type": "code",
      "metadata": {
        "id": "fic5W7Z7m7Op",
        "cellView": "form"
      },
      "source": [
        "#@title Optionally download MIDI samples.\n",
        "for i, ns in enumerate(trio_16_samples):\n",
        "  download(ns, '%s_sample_%d.mid' % (trio_sample_model, i))"
      ],
      "execution_count": null,
      "outputs": []
    },
    {
      "cell_type": "markdown",
      "metadata": {
        "id": "LGIZPuZc2dIa"
      },
      "source": [
        "## Generate Means"
      ]
    },
    {
      "cell_type": "code",
      "metadata": {
        "id": "3msZzI89UU_F",
        "cellView": "form"
      },
      "source": [
        "#@title Option 1: Use example MIDI files for interpolation endpoints.\n",
        "input_trio_midi_data = [\n",
        "    tf.io.gfile.GFile(fn, 'rb').read()\n",
        "    for fn in sorted(tf.io.gfile.glob(BASE_DIR + '/midi/trio_16bar*.mid'))]"
      ],
      "execution_count": null,
      "outputs": []
    },
    {
      "cell_type": "code",
      "metadata": {
        "id": "9ig0w2cSUs9n",
        "cellView": "form"
      },
      "source": [
        "#@title Option 2: Upload your own MIDI files to use for interpolation endpoints instead of those provided.\n",
        "input_trio_midi_data = files.upload().values() or input_trio_midi_data"
      ],
      "execution_count": null,
      "outputs": []
    },
    {
      "cell_type": "code",
      "metadata": {
        "id": "mawDY278UZKY",
        "cellView": "form"
      },
      "source": [
        "#@title Extract trios from MIDI files. This will extract all unique 16-bar trios using a sliding window with a stride of 1 bar.\n",
        "trio_input_seqs = [mm.midi_to_sequence_proto(m) for m in input_trio_midi_data]\n",
        "extracted_trios = []\n",
        "for ns in trio_input_seqs:\n",
        "  extracted_trios.extend(\n",
        "      hierdec_trio_16bar_config.data_converter.from_tensors(\n",
        "          hierdec_trio_16bar_config.data_converter.to_tensors(ns)[1]))\n",
        "for i, ns in enumerate(extracted_trios):\n",
        "  print(\"Trio\", i)\n",
        "  play(ns)"
      ],
      "execution_count": null,
      "outputs": []
    },
    {
      "cell_type": "code",
      "metadata": {
        "id": "UQuTQOlZW1LX",
        "cellView": "form"
      },
      "source": [
        "#@title Compute the reconstructions and mean of the two trios, selected from the previous cell.\n",
        "trio_interp_model = \"hierdec_trio_16bar\" #@param [\"hierdec_trio_16bar\", \"baseline_flat_trio_16bar\"]\n",
        "\n",
        "start_trio = 0 #@param {type:\"integer\"}\n",
        "end_trio = 1 #@param {type:\"integer\"}\n",
        "start_trio = extracted_trios[start_trio]\n",
        "end_trio = extracted_trios[end_trio]\n",
        "\n",
        "temperature = 0.5 #@param {type:\"slider\", min:0.1, max:1.5, step:0.1}\n",
        "trio_16bar_mean = interpolate(trio_models[trio_interp_model], start_trio, end_trio, num_steps=3, max_length=256, individual_duration=32, temperature=temperature)"
      ],
      "execution_count": null,
      "outputs": []
    },
    {
      "cell_type": "code",
      "metadata": {
        "id": "bqSklK8CU_cQ",
        "cellView": "form"
      },
      "source": [
        "#@title Optionally download mean MIDI file.\n",
        "download(trio_16bar_mean, '%s_mean.mid' % trio_interp_model)"
      ],
      "execution_count": null,
      "outputs": []
    },
    {
      "cell_type": "code",
      "metadata": {
        "id": "_6_Gv939JMyS"
      },
      "source": [
        "mel16 = tf.io.gfile.GFile(\n",
        "    'gs://download.magenta.tensorflow.org/models/music_vae/colab2/checkpoints/mel_16bar_hierdec.ckpt'\n",
        ", mode='r'\n",
        ")"
      ],
      "execution_count": null,
      "outputs": []
    },
    {
      "cell_type": "code",
      "metadata": {
        "id": "IBzLOqk0JYUv",
        "colab": {
          "base_uri": "https://localhost:8080/",
          "height": 356
        },
        "outputId": "c1efe023-33fe-483f-e04c-ff0376b9cb5b"
      },
      "source": [
        "tf.io.gfile.copy(\"gs://download.magenta.tensorflow.org/models/music_vae/colab2/checkpoints/mel_16bar_hierdec.ckpt\", \n",
        "                 \"/content/drive/Shared drives/CS523 Music/checkpoints/hierdec-mel16.ckpt\")"
      ],
      "execution_count": null,
      "outputs": [
        {
          "output_type": "error",
          "ename": "NotFoundError",
          "evalue": "ignored",
          "traceback": [
            "\u001b[0;31m---------------------------------------------------------------------------\u001b[0m",
            "\u001b[0;31mNotFoundError\u001b[0m                             Traceback (most recent call last)",
            "\u001b[0;32m<ipython-input-24-20f969d5a5af>\u001b[0m in \u001b[0;36m<module>\u001b[0;34m()\u001b[0m\n\u001b[1;32m      1\u001b[0m tf.io.gfile.copy(\"gs://download.magenta.tensorflow.org/models/music_vae/colab2/checkpoints/mel_16bar_hierdec.ckpt\", \n\u001b[0;32m----> 2\u001b[0;31m                  \"/content/drive/Shared drives/CS523 Music/checkpoints/hierdec-mel16.ckpt\")\n\u001b[0m",
            "\u001b[0;32m/usr/local/lib/python3.7/dist-packages/tensorflow/python/lib/io/file_io.py\u001b[0m in \u001b[0;36mcopy_v2\u001b[0;34m(src, dst, overwrite)\u001b[0m\n\u001b[1;32m    581\u001b[0m   \"\"\"\n\u001b[1;32m    582\u001b[0m   _pywrap_file_io.CopyFile(\n\u001b[0;32m--> 583\u001b[0;31m       compat.path_to_bytes(src), compat.path_to_bytes(dst), overwrite)\n\u001b[0m\u001b[1;32m    584\u001b[0m \u001b[0;34m\u001b[0m\u001b[0m\n\u001b[1;32m    585\u001b[0m \u001b[0;34m\u001b[0m\u001b[0m\n",
            "\u001b[0;31mNotFoundError\u001b[0m: Error executing an HTTP request: HTTP response code 404 with body '<?xml version='1.0' encoding='UTF-8'?><Error><Code>NoSuchKey</Code><Message>The specified key does not exist.</Message><Details>No such object: download.magenta.tensorflow.org/models/music_vae/colab2/checkpoints/mel_16bar_hierdec.ckpt</Details></Error>'\n\t when reading gs://download.magenta.tensorflow.org/models/music_vae/colab2/checkpoints/mel_16bar_hierdec.ckpt"
          ]
        }
      ]
    }
  ]
}